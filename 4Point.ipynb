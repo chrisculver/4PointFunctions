{
 "cells": [
  {
   "cell_type": "code",
   "execution_count": null,
   "metadata": {},
   "outputs": [],
   "source": [
    "#SORT lists by topology and update overleaf\n",
    "#keep fwd/bwd l-r labels on topology."
   ]
  },
  {
   "cell_type": "code",
   "execution_count": 2,
   "metadata": {},
   "outputs": [],
   "source": [
    "import sys\n",
    "import os\n",
    "\n",
    "sys.path.append(os.getcwd()[:-9])\n",
    "from src.ops.operator import Operator\n",
    "from src.ops.elemental import ElementalOperator\n",
    "from src.ops.quarks import Quark\n",
    "from src.ops.indexed import IndexedObject\n",
    "from src.wick.contract import contract"
   ]
  },
  {
   "cell_type": "code",
   "execution_count": 3,
   "metadata": {},
   "outputs": [],
   "source": [
    "q0=Quark(True,'u','s_0','c_0','t_3','x_3')\n",
    "g0=IndexedObject('\\\\gamma_5',['s_0','s_1'])\n",
    "q1=Quark(False,'d','s_1','c_0','t_3','x_3')\n",
    "\n",
    "annihilate=Operator([ElementalOperator(+1,[g0],[q0,q1])])\n",
    "\n",
    "elementals=[]\n",
    "for pi2 in [['u',+2/3],['d',-1/3]]:\n",
    "    for pi1 in [['u',+2/3],['d',-1/3]]:\n",
    "        q2=Quark(True,pi2[0],'s_2','c_1','t_2','x_2')\n",
    "        g1=IndexedObject('\\\\gamma_{\\mu}',['s_2','s_3'])\n",
    "        q3=Quark(False,pi2[0],'s_3','c_1','t_2','x_2')\n",
    "\n",
    "        q4=Quark(True,pi1[0],'s_4','c_2','t_1','x_1')\n",
    "        g2=IndexedObject('\\\\gamma_{\\\\nu}',['s_4','s_5'])\n",
    "        q5=Quark(False,pi1[0],'s_5','c_2','t_1','x_1')\n",
    "\n",
    "        q6=Quark(True,'d','s_6','c_3','t_0','x_0')\n",
    "        g3=IndexedObject('\\\\gamma_5',['s_6','s_7'])\n",
    "        q7=Quark(False,'u','s_7','c_3','t_0','x_0')\n",
    "        elementals.append(ElementalOperator(pi2[1]*pi1[1],[g1,g2,g3],[q2,q3,q4,q5,q6,q7]))\n",
    "        \n",
    "create=Operator(elementals)"
   ]
  },
  {
   "cell_type": "code",
   "execution_count": 4,
   "metadata": {},
   "outputs": [
    {
     "name": "stdout",
     "output_type": "stream",
     "text": [
      "0.4444444444444444*\\gamma_{\\mu}_{s_2 s_3}*\\gamma_{\\nu}_{s_4 s_5}*\\gamma_5_{s_6 s_7}*\\bar{u}_{s_2 c_1}(x_2, t_2)*u_{s_3 c_1}(x_2, t_2)*\\bar{u}_{s_4 c_2}(x_1, t_1)*u_{s_5 c_2}(x_1, t_1)*\\bar{d}_{s_6 c_3}(x_0, t_0)*u_{s_7 c_3}(x_0, t_0)+-0.2222222222222222*\\gamma_{\\mu}_{s_2 s_3}*\\gamma_{\\nu}_{s_4 s_5}*\\gamma_5_{s_6 s_7}*\\bar{u}_{s_2 c_1}(x_2, t_2)*u_{s_3 c_1}(x_2, t_2)*\\bar{d}_{s_4 c_2}(x_1, t_1)*d_{s_5 c_2}(x_1, t_1)*\\bar{d}_{s_6 c_3}(x_0, t_0)*u_{s_7 c_3}(x_0, t_0)+-0.2222222222222222*\\gamma_{\\mu}_{s_2 s_3}*\\gamma_{\\nu}_{s_4 s_5}*\\gamma_5_{s_6 s_7}*\\bar{d}_{s_2 c_1}(x_2, t_2)*d_{s_3 c_1}(x_2, t_2)*\\bar{u}_{s_4 c_2}(x_1, t_1)*u_{s_5 c_2}(x_1, t_1)*\\bar{d}_{s_6 c_3}(x_0, t_0)*u_{s_7 c_3}(x_0, t_0)+0.1111111111111111*\\gamma_{\\mu}_{s_2 s_3}*\\gamma_{\\nu}_{s_4 s_5}*\\gamma_5_{s_6 s_7}*\\bar{d}_{s_2 c_1}(x_2, t_2)*d_{s_3 c_1}(x_2, t_2)*\\bar{d}_{s_4 c_2}(x_1, t_1)*d_{s_5 c_2}(x_1, t_1)*\\bar{d}_{s_6 c_3}(x_0, t_0)*u_{s_7 c_3}(x_0, t_0)\n"
     ]
    }
   ],
   "source": [
    "print(create)"
   ]
  },
  {
   "cell_type": "code",
   "execution_count": 5,
   "metadata": {},
   "outputs": [
    {
     "name": "stdout",
     "output_type": "stream",
     "text": [
      "1*\\gamma_5_{s_0 s_1}*\\bar{u}_{s_0 c_0}(x_3, t_3)*d_{s_1 c_0}(x_3, t_3)\n"
     ]
    }
   ],
   "source": [
    "print(annihilate)"
   ]
  },
  {
   "cell_type": "code",
   "execution_count": 6,
   "metadata": {},
   "outputs": [],
   "source": [
    "res=contract(annihilate,create)"
   ]
  },
  {
   "cell_type": "code",
   "execution_count": 7,
   "metadata": {},
   "outputs": [
    {
     "data": {
      "text/plain": [
       "20"
      ]
     },
     "execution_count": 7,
     "metadata": {},
     "output_type": "execute_result"
    }
   ],
   "source": [
    "len(res)"
   ]
  },
  {
   "cell_type": "code",
   "execution_count": 8,
   "metadata": {},
   "outputs": [
    {
     "name": "stdout",
     "output_type": "stream",
     "text": [
      "20\n",
      "20\n"
     ]
    }
   ],
   "source": [
    "import copy\n",
    "\n",
    "def latexStr(gamma):\n",
    "    tmp=gamma.name.split('_')\n",
    "    if(tmp[0]=='\\\\gamma'):\n",
    "        return tmp[0] + '_{' + tmp[1] + '_{' + gamma.indices[0] + gamma.indices[1] + '}}'\n",
    "    else:\n",
    "        return str(tmp)\n",
    "  \n",
    "def platexStr(p):\n",
    "    return p.name + '(' + p.ti.replace('t','x') + p.ti + '\\mid ' + p.tf.replace('t','x') + p.tf + ')' + '_{\\\\substack{' + p.left_indices.s + '\\\\\\\\' + p.left_indices.c + '}' +  '\\\\substack{' + p.right_indices.s + '\\\\\\\\' + p.right_indices.c + '}}'\n",
    "    \n",
    "total=copy.deepcopy(res)\n",
    "\n",
    "print(len(total))\n",
    "\n",
    "for d in total:\n",
    "    for p in d.props:\n",
    "        #p.name = 'S'\n",
    "        p.name = 'S^'+p.name.split('^')[1]\n",
    "        \n",
    "for i in range(len(total)-1,-1,-1):\n",
    "    for j in range(len(total)-1,-1,-1):\n",
    "        if(i!=j):\n",
    "            if((total[i].commuting==total[j].commuting) and (total[i].props==total[j].props)):\n",
    "            #if(total[i]==total[j]):\n",
    "                total[i].coef+=total[j].coef\n",
    "                total.pop(j)\n",
    "                break\n",
    "for i in range(len(total)-1,-1,-1):\n",
    "    if(total[i].coef==0):\n",
    "        total.pop(i)\n",
    "    else:\n",
    "        total[i].coef*=9\n",
    "        \n",
    "print(len(total))"
   ]
  },
  {
   "cell_type": "code",
   "execution_count": 9,
   "metadata": {},
   "outputs": [],
   "source": [
    "def print_diagrams(total_diags):\n",
    "    print('\\\\beqs')\n",
    "    for i,d in enumerate(total_diags):\n",
    "        #if(i==1 or i==6):\n",
    "        tmp='d_{'+str(i)+'}='+str(d.coef) + ' '\n",
    "        for p in d.props:\n",
    "            tmp+=platexStr(p)\n",
    "        for c in d.commuting:\n",
    "            tmp+=latexStr(c)\n",
    "        print(tmp+'\\\\\\\\')\n",
    "    print('\\\\eeqs')\n",
    "    "
   ]
  },
  {
   "cell_type": "code",
   "execution_count": 10,
   "metadata": {},
   "outputs": [
    {
     "name": "stdout",
     "output_type": "stream",
     "text": [
      "\\beqs\n",
      "d_{0}=4.0 S^u(x_0t_0\\mid x_3t_3)_{\\substack{s_7\\\\c_3}\\substack{s_0\\\\c_0}}S^u(x_1t_1\\mid x_2t_2)_{\\substack{s_5\\\\c_2}\\substack{s_2\\\\c_1}}S^u(x_2t_2\\mid x_1t_1)_{\\substack{s_3\\\\c_1}\\substack{s_4\\\\c_2}}S^d(x_3t_3\\mid x_0t_0)_{\\substack{s_1\\\\c_0}\\substack{s_6\\\\c_3}}\\gamma_{5_{s_0s_1}}\\gamma_{5_{s_6s_7}}\\gamma_{{\\mu}_{s_2s_3}}\\gamma_{{\\nu}_{s_4s_5}}\\\\\n",
      "d_{1}=-4.0 S^u(x_1t_1\\mid x_3t_3)_{\\substack{s_5\\\\c_2}\\substack{s_0\\\\c_0}}S^u(x_0t_0\\mid x_2t_2)_{\\substack{s_7\\\\c_3}\\substack{s_2\\\\c_1}}S^u(x_2t_2\\mid x_1t_1)_{\\substack{s_3\\\\c_1}\\substack{s_4\\\\c_2}}S^d(x_3t_3\\mid x_0t_0)_{\\substack{s_1\\\\c_0}\\substack{s_6\\\\c_3}}\\gamma_{5_{s_0s_1}}\\gamma_{5_{s_6s_7}}\\gamma_{{\\mu}_{s_2s_3}}\\gamma_{{\\nu}_{s_4s_5}}\\\\\n",
      "d_{2}=4.0 S^u(x_2t_2\\mid x_3t_3)_{\\substack{s_3\\\\c_1}\\substack{s_0\\\\c_0}}S^u(x_0t_0\\mid x_2t_2)_{\\substack{s_7\\\\c_3}\\substack{s_2\\\\c_1}}S^u(x_1t_1\\mid x_1t_1)_{\\substack{s_5\\\\c_2}\\substack{s_4\\\\c_2}}S^d(x_3t_3\\mid x_0t_0)_{\\substack{s_1\\\\c_0}\\substack{s_6\\\\c_3}}\\gamma_{5_{s_0s_1}}\\gamma_{5_{s_6s_7}}\\gamma_{{\\mu}_{s_2s_3}}\\gamma_{{\\nu}_{s_4s_5}}\\\\\n",
      "d_{3}=-4.0 S^u(x_0t_0\\mid x_3t_3)_{\\substack{s_7\\\\c_3}\\substack{s_0\\\\c_0}}S^u(x_2t_2\\mid x_2t_2)_{\\substack{s_3\\\\c_1}\\substack{s_2\\\\c_1}}S^u(x_1t_1\\mid x_1t_1)_{\\substack{s_5\\\\c_2}\\substack{s_4\\\\c_2}}S^d(x_3t_3\\mid x_0t_0)_{\\substack{s_1\\\\c_0}\\substack{s_6\\\\c_3}}\\gamma_{5_{s_0s_1}}\\gamma_{5_{s_6s_7}}\\gamma_{{\\mu}_{s_2s_3}}\\gamma_{{\\nu}_{s_4s_5}}\\\\\n",
      "d_{4}=4.0 S^u(x_1t_1\\mid x_3t_3)_{\\substack{s_5\\\\c_2}\\substack{s_0\\\\c_0}}S^u(x_2t_2\\mid x_2t_2)_{\\substack{s_3\\\\c_1}\\substack{s_2\\\\c_1}}S^u(x_0t_0\\mid x_1t_1)_{\\substack{s_7\\\\c_3}\\substack{s_4\\\\c_2}}S^d(x_3t_3\\mid x_0t_0)_{\\substack{s_1\\\\c_0}\\substack{s_6\\\\c_3}}\\gamma_{5_{s_0s_1}}\\gamma_{5_{s_6s_7}}\\gamma_{{\\mu}_{s_2s_3}}\\gamma_{{\\nu}_{s_4s_5}}\\\\\n",
      "d_{5}=-4.0 S^u(x_2t_2\\mid x_3t_3)_{\\substack{s_3\\\\c_1}\\substack{s_0\\\\c_0}}S^u(x_1t_1\\mid x_2t_2)_{\\substack{s_5\\\\c_2}\\substack{s_2\\\\c_1}}S^u(x_0t_0\\mid x_1t_1)_{\\substack{s_7\\\\c_3}\\substack{s_4\\\\c_2}}S^d(x_3t_3\\mid x_0t_0)_{\\substack{s_1\\\\c_0}\\substack{s_6\\\\c_3}}\\gamma_{5_{s_0s_1}}\\gamma_{5_{s_6s_7}}\\gamma_{{\\mu}_{s_2s_3}}\\gamma_{{\\nu}_{s_4s_5}}\\\\\n",
      "d_{6}=-2.0 S^u(x_0t_0\\mid x_3t_3)_{\\substack{s_7\\\\c_3}\\substack{s_0\\\\c_0}}S^u(x_2t_2\\mid x_2t_2)_{\\substack{s_3\\\\c_1}\\substack{s_2\\\\c_1}}S^d(x_3t_3\\mid x_1t_1)_{\\substack{s_1\\\\c_0}\\substack{s_4\\\\c_2}}S^d(x_1t_1\\mid x_0t_0)_{\\substack{s_5\\\\c_2}\\substack{s_6\\\\c_3}}\\gamma_{5_{s_0s_1}}\\gamma_{5_{s_6s_7}}\\gamma_{{\\mu}_{s_2s_3}}\\gamma_{{\\nu}_{s_4s_5}}\\\\\n",
      "d_{7}=2.0 S^u(x_2t_2\\mid x_3t_3)_{\\substack{s_3\\\\c_1}\\substack{s_0\\\\c_0}}S^u(x_0t_0\\mid x_2t_2)_{\\substack{s_7\\\\c_3}\\substack{s_2\\\\c_1}}S^d(x_3t_3\\mid x_1t_1)_{\\substack{s_1\\\\c_0}\\substack{s_4\\\\c_2}}S^d(x_1t_1\\mid x_0t_0)_{\\substack{s_5\\\\c_2}\\substack{s_6\\\\c_3}}\\gamma_{5_{s_0s_1}}\\gamma_{5_{s_6s_7}}\\gamma_{{\\mu}_{s_2s_3}}\\gamma_{{\\nu}_{s_4s_5}}\\\\\n",
      "d_{8}=-2.0 S^u(x_2t_2\\mid x_3t_3)_{\\substack{s_3\\\\c_1}\\substack{s_0\\\\c_0}}S^u(x_0t_0\\mid x_2t_2)_{\\substack{s_7\\\\c_3}\\substack{s_2\\\\c_1}}S^d(x_1t_1\\mid x_1t_1)_{\\substack{s_5\\\\c_2}\\substack{s_4\\\\c_2}}S^d(x_3t_3\\mid x_0t_0)_{\\substack{s_1\\\\c_0}\\substack{s_6\\\\c_3}}\\gamma_{5_{s_0s_1}}\\gamma_{5_{s_6s_7}}\\gamma_{{\\mu}_{s_2s_3}}\\gamma_{{\\nu}_{s_4s_5}}\\\\\n",
      "d_{9}=2.0 S^u(x_0t_0\\mid x_3t_3)_{\\substack{s_7\\\\c_3}\\substack{s_0\\\\c_0}}S^u(x_2t_2\\mid x_2t_2)_{\\substack{s_3\\\\c_1}\\substack{s_2\\\\c_1}}S^d(x_1t_1\\mid x_1t_1)_{\\substack{s_5\\\\c_2}\\substack{s_4\\\\c_2}}S^d(x_3t_3\\mid x_0t_0)_{\\substack{s_1\\\\c_0}\\substack{s_6\\\\c_3}}\\gamma_{5_{s_0s_1}}\\gamma_{5_{s_6s_7}}\\gamma_{{\\mu}_{s_2s_3}}\\gamma_{{\\nu}_{s_4s_5}}\\\\\n",
      "d_{10}=2.0 S^u(x_1t_1\\mid x_3t_3)_{\\substack{s_5\\\\c_2}\\substack{s_0\\\\c_0}}S^d(x_3t_3\\mid x_2t_2)_{\\substack{s_1\\\\c_0}\\substack{s_2\\\\c_1}}S^u(x_0t_0\\mid x_1t_1)_{\\substack{s_7\\\\c_3}\\substack{s_4\\\\c_2}}S^d(x_2t_2\\mid x_0t_0)_{\\substack{s_3\\\\c_1}\\substack{s_6\\\\c_3}}\\gamma_{5_{s_0s_1}}\\gamma_{5_{s_6s_7}}\\gamma_{{\\mu}_{s_2s_3}}\\gamma_{{\\nu}_{s_4s_5}}\\\\\n",
      "d_{11}=-2.0 S^u(x_0t_0\\mid x_3t_3)_{\\substack{s_7\\\\c_3}\\substack{s_0\\\\c_0}}S^d(x_3t_3\\mid x_2t_2)_{\\substack{s_1\\\\c_0}\\substack{s_2\\\\c_1}}S^u(x_1t_1\\mid x_1t_1)_{\\substack{s_5\\\\c_2}\\substack{s_4\\\\c_2}}S^d(x_2t_2\\mid x_0t_0)_{\\substack{s_3\\\\c_1}\\substack{s_6\\\\c_3}}\\gamma_{5_{s_0s_1}}\\gamma_{5_{s_6s_7}}\\gamma_{{\\mu}_{s_2s_3}}\\gamma_{{\\nu}_{s_4s_5}}\\\\\n",
      "d_{12}=2.0 S^u(x_0t_0\\mid x_3t_3)_{\\substack{s_7\\\\c_3}\\substack{s_0\\\\c_0}}S^d(x_2t_2\\mid x_2t_2)_{\\substack{s_3\\\\c_1}\\substack{s_2\\\\c_1}}S^u(x_1t_1\\mid x_1t_1)_{\\substack{s_5\\\\c_2}\\substack{s_4\\\\c_2}}S^d(x_3t_3\\mid x_0t_0)_{\\substack{s_1\\\\c_0}\\substack{s_6\\\\c_3}}\\gamma_{5_{s_0s_1}}\\gamma_{5_{s_6s_7}}\\gamma_{{\\mu}_{s_2s_3}}\\gamma_{{\\nu}_{s_4s_5}}\\\\\n",
      "d_{13}=-2.0 S^u(x_1t_1\\mid x_3t_3)_{\\substack{s_5\\\\c_2}\\substack{s_0\\\\c_0}}S^d(x_2t_2\\mid x_2t_2)_{\\substack{s_3\\\\c_1}\\substack{s_2\\\\c_1}}S^u(x_0t_0\\mid x_1t_1)_{\\substack{s_7\\\\c_3}\\substack{s_4\\\\c_2}}S^d(x_3t_3\\mid x_0t_0)_{\\substack{s_1\\\\c_0}\\substack{s_6\\\\c_3}}\\gamma_{5_{s_0s_1}}\\gamma_{5_{s_6s_7}}\\gamma_{{\\mu}_{s_2s_3}}\\gamma_{{\\nu}_{s_4s_5}}\\\\\n",
      "d_{14}=1.0 S^u(x_0t_0\\mid x_3t_3)_{\\substack{s_7\\\\c_3}\\substack{s_0\\\\c_0}}S^d(x_2t_2\\mid x_2t_2)_{\\substack{s_3\\\\c_1}\\substack{s_2\\\\c_1}}S^d(x_3t_3\\mid x_1t_1)_{\\substack{s_1\\\\c_0}\\substack{s_4\\\\c_2}}S^d(x_1t_1\\mid x_0t_0)_{\\substack{s_5\\\\c_2}\\substack{s_6\\\\c_3}}\\gamma_{5_{s_0s_1}}\\gamma_{5_{s_6s_7}}\\gamma_{{\\mu}_{s_2s_3}}\\gamma_{{\\nu}_{s_4s_5}}\\\\\n",
      "d_{15}=-1.0 S^u(x_0t_0\\mid x_3t_3)_{\\substack{s_7\\\\c_3}\\substack{s_0\\\\c_0}}S^d(x_3t_3\\mid x_2t_2)_{\\substack{s_1\\\\c_0}\\substack{s_2\\\\c_1}}S^d(x_2t_2\\mid x_1t_1)_{\\substack{s_3\\\\c_1}\\substack{s_4\\\\c_2}}S^d(x_1t_1\\mid x_0t_0)_{\\substack{s_5\\\\c_2}\\substack{s_6\\\\c_3}}\\gamma_{5_{s_0s_1}}\\gamma_{5_{s_6s_7}}\\gamma_{{\\mu}_{s_2s_3}}\\gamma_{{\\nu}_{s_4s_5}}\\\\\n",
      "d_{16}=1.0 S^u(x_0t_0\\mid x_3t_3)_{\\substack{s_7\\\\c_3}\\substack{s_0\\\\c_0}}S^d(x_3t_3\\mid x_2t_2)_{\\substack{s_1\\\\c_0}\\substack{s_2\\\\c_1}}S^d(x_1t_1\\mid x_1t_1)_{\\substack{s_5\\\\c_2}\\substack{s_4\\\\c_2}}S^d(x_2t_2\\mid x_0t_0)_{\\substack{s_3\\\\c_1}\\substack{s_6\\\\c_3}}\\gamma_{5_{s_0s_1}}\\gamma_{5_{s_6s_7}}\\gamma_{{\\mu}_{s_2s_3}}\\gamma_{{\\nu}_{s_4s_5}}\\\\\n",
      "d_{17}=-1.0 S^u(x_0t_0\\mid x_3t_3)_{\\substack{s_7\\\\c_3}\\substack{s_0\\\\c_0}}S^d(x_1t_1\\mid x_2t_2)_{\\substack{s_5\\\\c_2}\\substack{s_2\\\\c_1}}S^d(x_3t_3\\mid x_1t_1)_{\\substack{s_1\\\\c_0}\\substack{s_4\\\\c_2}}S^d(x_2t_2\\mid x_0t_0)_{\\substack{s_3\\\\c_1}\\substack{s_6\\\\c_3}}\\gamma_{5_{s_0s_1}}\\gamma_{5_{s_6s_7}}\\gamma_{{\\mu}_{s_2s_3}}\\gamma_{{\\nu}_{s_4s_5}}\\\\\n",
      "d_{18}=1.0 S^u(x_0t_0\\mid x_3t_3)_{\\substack{s_7\\\\c_3}\\substack{s_0\\\\c_0}}S^d(x_1t_1\\mid x_2t_2)_{\\substack{s_5\\\\c_2}\\substack{s_2\\\\c_1}}S^d(x_2t_2\\mid x_1t_1)_{\\substack{s_3\\\\c_1}\\substack{s_4\\\\c_2}}S^d(x_3t_3\\mid x_0t_0)_{\\substack{s_1\\\\c_0}\\substack{s_6\\\\c_3}}\\gamma_{5_{s_0s_1}}\\gamma_{5_{s_6s_7}}\\gamma_{{\\mu}_{s_2s_3}}\\gamma_{{\\nu}_{s_4s_5}}\\\\\n",
      "d_{19}=-1.0 S^u(x_0t_0\\mid x_3t_3)_{\\substack{s_7\\\\c_3}\\substack{s_0\\\\c_0}}S^d(x_2t_2\\mid x_2t_2)_{\\substack{s_3\\\\c_1}\\substack{s_2\\\\c_1}}S^d(x_1t_1\\mid x_1t_1)_{\\substack{s_5\\\\c_2}\\substack{s_4\\\\c_2}}S^d(x_3t_3\\mid x_0t_0)_{\\substack{s_1\\\\c_0}\\substack{s_6\\\\c_3}}\\gamma_{5_{s_0s_1}}\\gamma_{5_{s_6s_7}}\\gamma_{{\\mu}_{s_2s_3}}\\gamma_{{\\nu}_{s_4s_5}}\\\\\n",
      "\\eeqs\n"
     ]
    }
   ],
   "source": [
    "print_diagrams(total)"
   ]
  },
  {
   "cell_type": "code",
   "execution_count": 11,
   "metadata": {},
   "outputs": [],
   "source": [
    "def diagram_time_order(total_diags,log=False):\n",
    "    diagrams = {}\n",
    "\n",
    "    for i,d in enumerate(total):\n",
    "        top = []\n",
    "        d_str='d_' + str(i) + ':  '\n",
    "        for p in d.props:\n",
    "            d_str+=p.tf + '->' + p.ti + '   '\n",
    "            top.append([p.tf.split('_')[1],p.ti.split('_')[1]])\n",
    "        diagrams[i]=top\n",
    "        if(log):\n",
    "            print(d_str)\n",
    "    return diagrams\n",
    "    "
   ]
  },
  {
   "cell_type": "code",
   "execution_count": 12,
   "metadata": {},
   "outputs": [],
   "source": [
    "refTopologies={}\n",
    "refTopologies['A']=[['1','0'],['0','2'],['2','3'],['3','1']]\n",
    "refTopologies['A-bwd']=[['0','1'],['1','3'],['3','2'],['2','0']]\n",
    "refTopologies['B']=[['1','0'],['0','3'],['3','2'],['2','1']]\n",
    "refTopologies['B-bwd']=[['0','1'],['1','2'],['2','3'],['3','0']]\n",
    "refTopologies['C']=[['2','0'],['0','3'],['3','1'],['1','2']]\n",
    "refTopologies['C-bwd']=[['0','2'],['2','1'],['1','3'],['3','0']]\n",
    "refTopologies['D']=[['0','3'],['3','0'],['2','1'],['1','2']]\n",
    "refTopologies['El']=[['2','2'],['3','1'],['1','0'],['0','3']]\n",
    "refTopologies['El-bwd']=[['2','2'],['1','3'],['3','0'],['0','1']]\n",
    "refTopologies['Er']=[['1','1'],['3','2'],['2','0'],['0','3']]\n",
    "refTopologies['Er-bwd']=[['1','1'],['2','3'],['3','0'],['0','2']]\n",
    "refTopologies['F']=[['0','3'],['3','0'],['1','1'],['2','2']]"
   ]
  },
  {
   "cell_type": "code",
   "execution_count": 13,
   "metadata": {},
   "outputs": [],
   "source": [
    "from src.wick.utilities import permutations\n",
    "\n",
    "def swap(list, i, j):\n",
    "    list[i], list[j] = list[j], list[i]\n",
    "    return list\n",
    "\n",
    "def cyclic_permutations(list):\n",
    "    return [[list[i-j] for i in range(len(list))] for j in range(len(list))]\n",
    "\n",
    "#I kind of forget what this does...\n",
    "def connect_times(topList):\n",
    "    for idx,d in topList.items():\n",
    "        for p in range(len(d)):\n",
    "            if d[p][1] != d[(p+1)%len(d)][0]:\n",
    "                for pp in range(p,len(d)):\n",
    "                    if d[p][1] == d[pp][0]:\n",
    "                        swap(d,(p+1)%len(d),pp)\n",
    "\n",
    "def name_topologies(topList):\n",
    "    for idx,d in topList.items():\n",
    "        for label,top in refTopologies.items():\n",
    "            if d in permutations(top):\n",
    "                topList[idx]=label"
   ]
  },
  {
   "cell_type": "code",
   "execution_count": 14,
   "metadata": {},
   "outputs": [],
   "source": [
    "topList=diagram_time_order(total)\n",
    "\n",
    "connect_times(topList)\n",
    "\n",
    "name_topologies(topList)"
   ]
  },
  {
   "cell_type": "code",
   "execution_count": 15,
   "metadata": {},
   "outputs": [
    {
     "data": {
      "text/plain": [
       "{0: 'D',\n",
       " 1: 'C',\n",
       " 2: 'Er',\n",
       " 3: 'F',\n",
       " 4: 'El',\n",
       " 5: 'B',\n",
       " 6: 'El-bwd',\n",
       " 7: 'A-bwd',\n",
       " 8: 'Er',\n",
       " 9: 'F',\n",
       " 10: 'A',\n",
       " 11: 'Er-bwd',\n",
       " 12: 'F',\n",
       " 13: 'El',\n",
       " 14: 'El-bwd',\n",
       " 15: 'B-bwd',\n",
       " 16: 'Er-bwd',\n",
       " 17: 'C-bwd',\n",
       " 18: 'D',\n",
       " 19: 'F'}"
      ]
     },
     "execution_count": 15,
     "metadata": {},
     "output_type": "execute_result"
    }
   ],
   "source": [
    "topList"
   ]
  },
  {
   "cell_type": "code",
   "execution_count": 23,
   "metadata": {},
   "outputs": [
    {
     "name": "stdout",
     "output_type": "stream",
     "text": [
      "{10: 'A', 7: 'A-bwd', 5: 'B', 15: 'B-bwd', 1: 'C', 17: 'C-bwd', 0: 'D', 18: 'D', 4: 'El', 13: 'El', 6: 'El-bwd', 14: 'El-bwd', 2: 'Er', 8: 'Er', 11: 'Er-bwd', 16: 'Er-bwd', 3: 'F', 9: 'F', 12: 'F', 19: 'F'}\n"
     ]
    }
   ],
   "source": [
    "x=copy.deepcopy(topList)\n",
    "topSorted={k: v for k, v in sorted(x.items(), key=lambda item: item[1])}\n",
    "print(topSorted)"
   ]
  },
  {
   "cell_type": "code",
   "execution_count": 24,
   "metadata": {},
   "outputs": [],
   "source": [
    "def print_diagrams_labelled(diags,sortd):\n",
    "    print('\\\\beqs')\n",
    "    newI=0\n",
    "    for i,label in sortd.items():\n",
    "        #if(i==1 or i==6):\n",
    "        tmp='d_{'+str(i)+'}^{\\\\text{('+label+')}}='+str(diags[i].coef) + ' '\n",
    "        for p in diags[i].props:\n",
    "            tmp+=platexStr(p)\n",
    "        for c in diags[i].commuting:\n",
    "            tmp+=latexStr(c)\n",
    "        print(tmp+'\\\\\\\\')\n",
    "        newI+=1\n",
    "    print('\\\\eeqs')"
   ]
  },
  {
   "cell_type": "code",
   "execution_count": 25,
   "metadata": {},
   "outputs": [
    {
     "name": "stdout",
     "output_type": "stream",
     "text": [
      "\\beqs\n",
      "d_{10}^{\\text{(A)}}=2.0 S^u(x_1t_1\\mid x_3t_3)_{\\substack{s_5\\\\c_2}\\substack{s_0\\\\c_0}}S^d(x_3t_3\\mid x_2t_2)_{\\substack{s_1\\\\c_0}\\substack{s_2\\\\c_1}}S^u(x_0t_0\\mid x_1t_1)_{\\substack{s_7\\\\c_3}\\substack{s_4\\\\c_2}}S^d(x_2t_2\\mid x_0t_0)_{\\substack{s_3\\\\c_1}\\substack{s_6\\\\c_3}}\\gamma_{5_{s_0s_1}}\\gamma_{5_{s_6s_7}}\\gamma_{{\\mu}_{s_2s_3}}\\gamma_{{\\nu}_{s_4s_5}}\\\\\n",
      "d_{7}^{\\text{(A-bwd)}}=2.0 S^u(x_2t_2\\mid x_3t_3)_{\\substack{s_3\\\\c_1}\\substack{s_0\\\\c_0}}S^u(x_0t_0\\mid x_2t_2)_{\\substack{s_7\\\\c_3}\\substack{s_2\\\\c_1}}S^d(x_3t_3\\mid x_1t_1)_{\\substack{s_1\\\\c_0}\\substack{s_4\\\\c_2}}S^d(x_1t_1\\mid x_0t_0)_{\\substack{s_5\\\\c_2}\\substack{s_6\\\\c_3}}\\gamma_{5_{s_0s_1}}\\gamma_{5_{s_6s_7}}\\gamma_{{\\mu}_{s_2s_3}}\\gamma_{{\\nu}_{s_4s_5}}\\\\\n",
      "d_{5}^{\\text{(B)}}=-4.0 S^u(x_2t_2\\mid x_3t_3)_{\\substack{s_3\\\\c_1}\\substack{s_0\\\\c_0}}S^u(x_1t_1\\mid x_2t_2)_{\\substack{s_5\\\\c_2}\\substack{s_2\\\\c_1}}S^u(x_0t_0\\mid x_1t_1)_{\\substack{s_7\\\\c_3}\\substack{s_4\\\\c_2}}S^d(x_3t_3\\mid x_0t_0)_{\\substack{s_1\\\\c_0}\\substack{s_6\\\\c_3}}\\gamma_{5_{s_0s_1}}\\gamma_{5_{s_6s_7}}\\gamma_{{\\mu}_{s_2s_3}}\\gamma_{{\\nu}_{s_4s_5}}\\\\\n",
      "d_{15}^{\\text{(B-bwd)}}=-1.0 S^u(x_0t_0\\mid x_3t_3)_{\\substack{s_7\\\\c_3}\\substack{s_0\\\\c_0}}S^d(x_3t_3\\mid x_2t_2)_{\\substack{s_1\\\\c_0}\\substack{s_2\\\\c_1}}S^d(x_2t_2\\mid x_1t_1)_{\\substack{s_3\\\\c_1}\\substack{s_4\\\\c_2}}S^d(x_1t_1\\mid x_0t_0)_{\\substack{s_5\\\\c_2}\\substack{s_6\\\\c_3}}\\gamma_{5_{s_0s_1}}\\gamma_{5_{s_6s_7}}\\gamma_{{\\mu}_{s_2s_3}}\\gamma_{{\\nu}_{s_4s_5}}\\\\\n",
      "d_{1}^{\\text{(C)}}=-4.0 S^u(x_1t_1\\mid x_3t_3)_{\\substack{s_5\\\\c_2}\\substack{s_0\\\\c_0}}S^u(x_0t_0\\mid x_2t_2)_{\\substack{s_7\\\\c_3}\\substack{s_2\\\\c_1}}S^u(x_2t_2\\mid x_1t_1)_{\\substack{s_3\\\\c_1}\\substack{s_4\\\\c_2}}S^d(x_3t_3\\mid x_0t_0)_{\\substack{s_1\\\\c_0}\\substack{s_6\\\\c_3}}\\gamma_{5_{s_0s_1}}\\gamma_{5_{s_6s_7}}\\gamma_{{\\mu}_{s_2s_3}}\\gamma_{{\\nu}_{s_4s_5}}\\\\\n",
      "d_{17}^{\\text{(C-bwd)}}=-1.0 S^u(x_0t_0\\mid x_3t_3)_{\\substack{s_7\\\\c_3}\\substack{s_0\\\\c_0}}S^d(x_1t_1\\mid x_2t_2)_{\\substack{s_5\\\\c_2}\\substack{s_2\\\\c_1}}S^d(x_3t_3\\mid x_1t_1)_{\\substack{s_1\\\\c_0}\\substack{s_4\\\\c_2}}S^d(x_2t_2\\mid x_0t_0)_{\\substack{s_3\\\\c_1}\\substack{s_6\\\\c_3}}\\gamma_{5_{s_0s_1}}\\gamma_{5_{s_6s_7}}\\gamma_{{\\mu}_{s_2s_3}}\\gamma_{{\\nu}_{s_4s_5}}\\\\\n",
      "d_{0}^{\\text{(D)}}=4.0 S^u(x_0t_0\\mid x_3t_3)_{\\substack{s_7\\\\c_3}\\substack{s_0\\\\c_0}}S^u(x_1t_1\\mid x_2t_2)_{\\substack{s_5\\\\c_2}\\substack{s_2\\\\c_1}}S^u(x_2t_2\\mid x_1t_1)_{\\substack{s_3\\\\c_1}\\substack{s_4\\\\c_2}}S^d(x_3t_3\\mid x_0t_0)_{\\substack{s_1\\\\c_0}\\substack{s_6\\\\c_3}}\\gamma_{5_{s_0s_1}}\\gamma_{5_{s_6s_7}}\\gamma_{{\\mu}_{s_2s_3}}\\gamma_{{\\nu}_{s_4s_5}}\\\\\n",
      "d_{18}^{\\text{(D)}}=1.0 S^u(x_0t_0\\mid x_3t_3)_{\\substack{s_7\\\\c_3}\\substack{s_0\\\\c_0}}S^d(x_1t_1\\mid x_2t_2)_{\\substack{s_5\\\\c_2}\\substack{s_2\\\\c_1}}S^d(x_2t_2\\mid x_1t_1)_{\\substack{s_3\\\\c_1}\\substack{s_4\\\\c_2}}S^d(x_3t_3\\mid x_0t_0)_{\\substack{s_1\\\\c_0}\\substack{s_6\\\\c_3}}\\gamma_{5_{s_0s_1}}\\gamma_{5_{s_6s_7}}\\gamma_{{\\mu}_{s_2s_3}}\\gamma_{{\\nu}_{s_4s_5}}\\\\\n",
      "d_{4}^{\\text{(El)}}=4.0 S^u(x_1t_1\\mid x_3t_3)_{\\substack{s_5\\\\c_2}\\substack{s_0\\\\c_0}}S^u(x_2t_2\\mid x_2t_2)_{\\substack{s_3\\\\c_1}\\substack{s_2\\\\c_1}}S^u(x_0t_0\\mid x_1t_1)_{\\substack{s_7\\\\c_3}\\substack{s_4\\\\c_2}}S^d(x_3t_3\\mid x_0t_0)_{\\substack{s_1\\\\c_0}\\substack{s_6\\\\c_3}}\\gamma_{5_{s_0s_1}}\\gamma_{5_{s_6s_7}}\\gamma_{{\\mu}_{s_2s_3}}\\gamma_{{\\nu}_{s_4s_5}}\\\\\n",
      "d_{13}^{\\text{(El)}}=-2.0 S^u(x_1t_1\\mid x_3t_3)_{\\substack{s_5\\\\c_2}\\substack{s_0\\\\c_0}}S^d(x_2t_2\\mid x_2t_2)_{\\substack{s_3\\\\c_1}\\substack{s_2\\\\c_1}}S^u(x_0t_0\\mid x_1t_1)_{\\substack{s_7\\\\c_3}\\substack{s_4\\\\c_2}}S^d(x_3t_3\\mid x_0t_0)_{\\substack{s_1\\\\c_0}\\substack{s_6\\\\c_3}}\\gamma_{5_{s_0s_1}}\\gamma_{5_{s_6s_7}}\\gamma_{{\\mu}_{s_2s_3}}\\gamma_{{\\nu}_{s_4s_5}}\\\\\n",
      "d_{6}^{\\text{(El-bwd)}}=-2.0 S^u(x_0t_0\\mid x_3t_3)_{\\substack{s_7\\\\c_3}\\substack{s_0\\\\c_0}}S^u(x_2t_2\\mid x_2t_2)_{\\substack{s_3\\\\c_1}\\substack{s_2\\\\c_1}}S^d(x_3t_3\\mid x_1t_1)_{\\substack{s_1\\\\c_0}\\substack{s_4\\\\c_2}}S^d(x_1t_1\\mid x_0t_0)_{\\substack{s_5\\\\c_2}\\substack{s_6\\\\c_3}}\\gamma_{5_{s_0s_1}}\\gamma_{5_{s_6s_7}}\\gamma_{{\\mu}_{s_2s_3}}\\gamma_{{\\nu}_{s_4s_5}}\\\\\n",
      "d_{14}^{\\text{(El-bwd)}}=1.0 S^u(x_0t_0\\mid x_3t_3)_{\\substack{s_7\\\\c_3}\\substack{s_0\\\\c_0}}S^d(x_2t_2\\mid x_2t_2)_{\\substack{s_3\\\\c_1}\\substack{s_2\\\\c_1}}S^d(x_3t_3\\mid x_1t_1)_{\\substack{s_1\\\\c_0}\\substack{s_4\\\\c_2}}S^d(x_1t_1\\mid x_0t_0)_{\\substack{s_5\\\\c_2}\\substack{s_6\\\\c_3}}\\gamma_{5_{s_0s_1}}\\gamma_{5_{s_6s_7}}\\gamma_{{\\mu}_{s_2s_3}}\\gamma_{{\\nu}_{s_4s_5}}\\\\\n",
      "d_{2}^{\\text{(Er)}}=4.0 S^u(x_2t_2\\mid x_3t_3)_{\\substack{s_3\\\\c_1}\\substack{s_0\\\\c_0}}S^u(x_0t_0\\mid x_2t_2)_{\\substack{s_7\\\\c_3}\\substack{s_2\\\\c_1}}S^u(x_1t_1\\mid x_1t_1)_{\\substack{s_5\\\\c_2}\\substack{s_4\\\\c_2}}S^d(x_3t_3\\mid x_0t_0)_{\\substack{s_1\\\\c_0}\\substack{s_6\\\\c_3}}\\gamma_{5_{s_0s_1}}\\gamma_{5_{s_6s_7}}\\gamma_{{\\mu}_{s_2s_3}}\\gamma_{{\\nu}_{s_4s_5}}\\\\\n",
      "d_{8}^{\\text{(Er)}}=-2.0 S^u(x_2t_2\\mid x_3t_3)_{\\substack{s_3\\\\c_1}\\substack{s_0\\\\c_0}}S^u(x_0t_0\\mid x_2t_2)_{\\substack{s_7\\\\c_3}\\substack{s_2\\\\c_1}}S^d(x_1t_1\\mid x_1t_1)_{\\substack{s_5\\\\c_2}\\substack{s_4\\\\c_2}}S^d(x_3t_3\\mid x_0t_0)_{\\substack{s_1\\\\c_0}\\substack{s_6\\\\c_3}}\\gamma_{5_{s_0s_1}}\\gamma_{5_{s_6s_7}}\\gamma_{{\\mu}_{s_2s_3}}\\gamma_{{\\nu}_{s_4s_5}}\\\\\n",
      "d_{11}^{\\text{(Er-bwd)}}=-2.0 S^u(x_0t_0\\mid x_3t_3)_{\\substack{s_7\\\\c_3}\\substack{s_0\\\\c_0}}S^d(x_3t_3\\mid x_2t_2)_{\\substack{s_1\\\\c_0}\\substack{s_2\\\\c_1}}S^u(x_1t_1\\mid x_1t_1)_{\\substack{s_5\\\\c_2}\\substack{s_4\\\\c_2}}S^d(x_2t_2\\mid x_0t_0)_{\\substack{s_3\\\\c_1}\\substack{s_6\\\\c_3}}\\gamma_{5_{s_0s_1}}\\gamma_{5_{s_6s_7}}\\gamma_{{\\mu}_{s_2s_3}}\\gamma_{{\\nu}_{s_4s_5}}\\\\\n",
      "d_{16}^{\\text{(Er-bwd)}}=1.0 S^u(x_0t_0\\mid x_3t_3)_{\\substack{s_7\\\\c_3}\\substack{s_0\\\\c_0}}S^d(x_3t_3\\mid x_2t_2)_{\\substack{s_1\\\\c_0}\\substack{s_2\\\\c_1}}S^d(x_1t_1\\mid x_1t_1)_{\\substack{s_5\\\\c_2}\\substack{s_4\\\\c_2}}S^d(x_2t_2\\mid x_0t_0)_{\\substack{s_3\\\\c_1}\\substack{s_6\\\\c_3}}\\gamma_{5_{s_0s_1}}\\gamma_{5_{s_6s_7}}\\gamma_{{\\mu}_{s_2s_3}}\\gamma_{{\\nu}_{s_4s_5}}\\\\\n",
      "d_{3}^{\\text{(F)}}=-4.0 S^u(x_0t_0\\mid x_3t_3)_{\\substack{s_7\\\\c_3}\\substack{s_0\\\\c_0}}S^u(x_2t_2\\mid x_2t_2)_{\\substack{s_3\\\\c_1}\\substack{s_2\\\\c_1}}S^u(x_1t_1\\mid x_1t_1)_{\\substack{s_5\\\\c_2}\\substack{s_4\\\\c_2}}S^d(x_3t_3\\mid x_0t_0)_{\\substack{s_1\\\\c_0}\\substack{s_6\\\\c_3}}\\gamma_{5_{s_0s_1}}\\gamma_{5_{s_6s_7}}\\gamma_{{\\mu}_{s_2s_3}}\\gamma_{{\\nu}_{s_4s_5}}\\\\\n",
      "d_{9}^{\\text{(F)}}=2.0 S^u(x_0t_0\\mid x_3t_3)_{\\substack{s_7\\\\c_3}\\substack{s_0\\\\c_0}}S^u(x_2t_2\\mid x_2t_2)_{\\substack{s_3\\\\c_1}\\substack{s_2\\\\c_1}}S^d(x_1t_1\\mid x_1t_1)_{\\substack{s_5\\\\c_2}\\substack{s_4\\\\c_2}}S^d(x_3t_3\\mid x_0t_0)_{\\substack{s_1\\\\c_0}\\substack{s_6\\\\c_3}}\\gamma_{5_{s_0s_1}}\\gamma_{5_{s_6s_7}}\\gamma_{{\\mu}_{s_2s_3}}\\gamma_{{\\nu}_{s_4s_5}}\\\\\n",
      "d_{12}^{\\text{(F)}}=2.0 S^u(x_0t_0\\mid x_3t_3)_{\\substack{s_7\\\\c_3}\\substack{s_0\\\\c_0}}S^d(x_2t_2\\mid x_2t_2)_{\\substack{s_3\\\\c_1}\\substack{s_2\\\\c_1}}S^u(x_1t_1\\mid x_1t_1)_{\\substack{s_5\\\\c_2}\\substack{s_4\\\\c_2}}S^d(x_3t_3\\mid x_0t_0)_{\\substack{s_1\\\\c_0}\\substack{s_6\\\\c_3}}\\gamma_{5_{s_0s_1}}\\gamma_{5_{s_6s_7}}\\gamma_{{\\mu}_{s_2s_3}}\\gamma_{{\\nu}_{s_4s_5}}\\\\\n",
      "d_{19}^{\\text{(F)}}=-1.0 S^u(x_0t_0\\mid x_3t_3)_{\\substack{s_7\\\\c_3}\\substack{s_0\\\\c_0}}S^d(x_2t_2\\mid x_2t_2)_{\\substack{s_3\\\\c_1}\\substack{s_2\\\\c_1}}S^d(x_1t_1\\mid x_1t_1)_{\\substack{s_5\\\\c_2}\\substack{s_4\\\\c_2}}S^d(x_3t_3\\mid x_0t_0)_{\\substack{s_1\\\\c_0}\\substack{s_6\\\\c_3}}\\gamma_{5_{s_0s_1}}\\gamma_{5_{s_6s_7}}\\gamma_{{\\mu}_{s_2s_3}}\\gamma_{{\\nu}_{s_4s_5}}\\\\\n",
      "\\eeqs\n"
     ]
    }
   ],
   "source": [
    "print_diagrams_labelled(total,topSorted)"
   ]
  },
  {
   "cell_type": "code",
   "execution_count": null,
   "metadata": {},
   "outputs": [],
   "source": []
  }
 ],
 "metadata": {
  "kernelspec": {
   "display_name": "Python [conda env:LQCD] *",
   "language": "python",
   "name": "conda-env-LQCD-py"
  },
  "language_info": {
   "codemirror_mode": {
    "name": "ipython",
    "version": 3
   },
   "file_extension": ".py",
   "mimetype": "text/x-python",
   "name": "python",
   "nbconvert_exporter": "python",
   "pygments_lexer": "ipython3",
   "version": "3.8.5"
  }
 },
 "nbformat": 4,
 "nbformat_minor": 4
}
