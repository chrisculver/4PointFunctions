{
 "cells": [
  {
   "cell_type": "code",
   "execution_count": 1,
   "metadata": {},
   "outputs": [
    {
     "ename": "ModuleNotFoundError",
     "evalue": "No module named 'WickContractions'",
     "output_type": "error",
     "traceback": [
      "\u001b[1;31m---------------------------------------------------------------------------\u001b[0m",
      "\u001b[1;31mModuleNotFoundError\u001b[0m                       Traceback (most recent call last)",
      "\u001b[1;32m~\\AppData\\Local\\Temp/ipykernel_1104/3830496084.py\u001b[0m in \u001b[0;36m<module>\u001b[1;34m\u001b[0m\n\u001b[0;32m      4\u001b[0m \u001b[0msys\u001b[0m\u001b[1;33m.\u001b[0m\u001b[0mpath\u001b[0m\u001b[1;33m.\u001b[0m\u001b[0mappend\u001b[0m\u001b[1;33m(\u001b[0m\u001b[0mos\u001b[0m\u001b[1;33m.\u001b[0m\u001b[0mgetcwd\u001b[0m\u001b[1;33m(\u001b[0m\u001b[1;33m)\u001b[0m\u001b[1;33m[\u001b[0m\u001b[1;33m:\u001b[0m\u001b[1;33m-\u001b[0m\u001b[1;36m9\u001b[0m\u001b[1;33m]\u001b[0m\u001b[1;33m)\u001b[0m\u001b[1;33m\u001b[0m\u001b[1;33m\u001b[0m\u001b[0m\n\u001b[0;32m      5\u001b[0m \u001b[1;33m\u001b[0m\u001b[0m\n\u001b[1;32m----> 6\u001b[1;33m \u001b[1;32mimport\u001b[0m \u001b[0mWickContractions\u001b[0m\u001b[1;33m\u001b[0m\u001b[1;33m\u001b[0m\u001b[0m\n\u001b[0m\u001b[0;32m      7\u001b[0m \u001b[1;33m\u001b[0m\u001b[0m\n\u001b[0;32m      8\u001b[0m \u001b[1;31m# the uglies part of the code is still defining operators.\u001b[0m\u001b[1;33m\u001b[0m\u001b[1;33m\u001b[0m\u001b[0m\n",
      "\u001b[1;31mModuleNotFoundError\u001b[0m: No module named 'WickContractions'"
     ]
    }
   ],
   "source": [
    "import sys\n",
    "import os\n",
    "\n",
    "sys.path.append(os.getcwd()[:-9])\n",
    "\n",
    "import WickContractions\n",
    "\n",
    "# the uglies part of the code is still defining operators.\n",
    "from WickContractions.ops.operator import Operator\n",
    "from WickContractions.ops.elemental import ElementalOperator\n",
    "from WickContractions.ops.quarks import Quark\n",
    "from WickContractions.ops.indexed import IndexedObject"
   ]
  },
  {
   "cell_type": "code",
   "execution_count": 2,
   "metadata": {},
   "outputs": [],
   "source": [
    "q0=Quark(True,'u','s_0','c_0','t_3','x_3')\n",
    "g0=IndexedObject('\\\\gamma_5',['s_0','s_1'])\n",
    "q1=Quark(False,'d','s_1','c_0','t_3','x_3')\n",
    "\n",
    "annihilate=Operator([ElementalOperator(+1,[g0],[q0,q1])])\n",
    "\n",
    "elementals=[]\n",
    "for pi2 in [['u',+2/3],['d',-1/3]]:\n",
    "    for pi1 in [['u',+2/3],['d',-1/3]]:\n",
    "        q2=Quark(True,pi2[0],'s_2','c_1','t_2','x_2')\n",
    "        g1=IndexedObject('\\\\gamma_{\\mu}',['s_2','s_3'])\n",
    "        q3=Quark(False,pi2[0],'s_3','c_1','t_2','x_2')\n",
    "\n",
    "        q4=Quark(True,pi1[0],'s_4','c_2','t_1','x_1')\n",
    "        g2=IndexedObject('\\\\gamma_{\\\\nu}',['s_4','s_5'])\n",
    "        q5=Quark(False,pi1[0],'s_5','c_2','t_1','x_1')\n",
    "\n",
    "        q6=Quark(True,'d','s_6','c_3','t_0','x_0')\n",
    "        g3=IndexedObject('\\\\gamma_5',['s_6','s_7'])\n",
    "        q7=Quark(False,'u','s_7','c_3','t_0','x_0')\n",
    "        elementals.append(ElementalOperator(pi2[1]*pi1[1],[g1,g2,g3],[q2,q3,q4,q5,q6,q7]))\n",
    "        \n",
    "create=Operator(elementals)"
   ]
  },
  {
   "cell_type": "code",
   "execution_count": 3,
   "metadata": {},
   "outputs": [
    {
     "name": "stdout",
     "output_type": "stream",
     "text": [
      "0.4444444444444444*\\gamma_{\\mu}_{s_2 s_3}*\\gamma_{\\nu}_{s_4 s_5}*\\gamma_5_{s_6 s_7}*\\bar{u}_{s_2 c_1}(x_2, t_2)*u_{s_3 c_1}(x_2, t_2)*\\bar{u}_{s_4 c_2}(x_1, t_1)*u_{s_5 c_2}(x_1, t_1)*\\bar{d}_{s_6 c_3}(x_0, t_0)*u_{s_7 c_3}(x_0, t_0)+-0.2222222222222222*\\gamma_{\\mu}_{s_2 s_3}*\\gamma_{\\nu}_{s_4 s_5}*\\gamma_5_{s_6 s_7}*\\bar{u}_{s_2 c_1}(x_2, t_2)*u_{s_3 c_1}(x_2, t_2)*\\bar{d}_{s_4 c_2}(x_1, t_1)*d_{s_5 c_2}(x_1, t_1)*\\bar{d}_{s_6 c_3}(x_0, t_0)*u_{s_7 c_3}(x_0, t_0)+-0.2222222222222222*\\gamma_{\\mu}_{s_2 s_3}*\\gamma_{\\nu}_{s_4 s_5}*\\gamma_5_{s_6 s_7}*\\bar{d}_{s_2 c_1}(x_2, t_2)*d_{s_3 c_1}(x_2, t_2)*\\bar{u}_{s_4 c_2}(x_1, t_1)*u_{s_5 c_2}(x_1, t_1)*\\bar{d}_{s_6 c_3}(x_0, t_0)*u_{s_7 c_3}(x_0, t_0)+0.1111111111111111*\\gamma_{\\mu}_{s_2 s_3}*\\gamma_{\\nu}_{s_4 s_5}*\\gamma_5_{s_6 s_7}*\\bar{d}_{s_2 c_1}(x_2, t_2)*d_{s_3 c_1}(x_2, t_2)*\\bar{d}_{s_4 c_2}(x_1, t_1)*d_{s_5 c_2}(x_1, t_1)*\\bar{d}_{s_6 c_3}(x_0, t_0)*u_{s_7 c_3}(x_0, t_0)\n"
     ]
    }
   ],
   "source": [
    "print(create)"
   ]
  },
  {
   "cell_type": "code",
   "execution_count": 4,
   "metadata": {},
   "outputs": [
    {
     "name": "stdout",
     "output_type": "stream",
     "text": [
      "1*\\gamma_5_{s_0 s_1}*\\bar{u}_{s_0 c_0}(x_3, t_3)*d_{s_1 c_0}(x_3, t_3)\n"
     ]
    }
   ],
   "source": [
    "print(annihilate)"
   ]
  },
  {
   "cell_type": "code",
   "execution_count": 5,
   "metadata": {},
   "outputs": [],
   "source": [
    "from WickContractions.wick.contract import contract\n",
    "res=contract(annihilate,create)"
   ]
  },
  {
   "cell_type": "code",
   "execution_count": 6,
   "metadata": {},
   "outputs": [
    {
     "data": {
      "text/plain": [
       "20"
      ]
     },
     "execution_count": 6,
     "metadata": {},
     "output_type": "execute_result"
    }
   ],
   "source": [
    "len(res.diagrams)"
   ]
  },
  {
   "cell_type": "code",
   "execution_count": 7,
   "metadata": {},
   "outputs": [
    {
     "name": "stdout",
     "output_type": "stream",
     "text": [
      "20\n",
      "20\n"
     ]
    }
   ],
   "source": [
    "import copy\n",
    "from diagram_utils import combine_diagrams\n",
    "total=copy.deepcopy(res.diagrams)\n",
    "\n",
    "print(len(total))\n",
    "\n",
    "##you can take the isospin limit by setting 'd'='u'\n",
    "for d in total:\n",
    "    for p in d.props:\n",
    "        #p.name = 'S'\n",
    "        p.name = 'S^'+p.name.split('_')[1]\n",
    "\n",
    "combine_diagrams(total)\n",
    "\n",
    "for d in total:\n",
    "    d.coef*=9\n",
    "        \n",
    "print(len(total))"
   ]
  },
  {
   "cell_type": "code",
   "execution_count": 8,
   "metadata": {},
   "outputs": [],
   "source": [
    "from print_utilities import diagram_as_latex_str, labelled_diagram_as_latex_str\n",
    "from IPython.display import display, Math"
   ]
  },
  {
   "cell_type": "code",
   "execution_count": 9,
   "metadata": {},
   "outputs": [
    {
     "name": "stdout",
     "output_type": "stream",
     "text": [
      "d_{0}=4.0 S^{u}(x_0t_0\\mid x_3t_3)_{\\substack{s_7\\\\c_3}\\substack{s_0\\\\c_0}}S^{u}(x_1t_1\\mid x_2t_2)_{\\substack{s_5\\\\c_2}\\substack{s_2\\\\c_1}}S^{u}(x_2t_2\\mid x_1t_1)_{\\substack{s_3\\\\c_1}\\substack{s_4\\\\c_2}}S^{d}(x_3t_3\\mid x_0t_0)_{\\substack{s_1\\\\c_0}\\substack{s_6\\\\c_3}}\\gamma_{5_{s_0s_1}}\\gamma_{5_{s_6s_7}}\\gamma_{{\\mu}_{s_2s_3}}\\gamma_{{\\nu}_{s_4s_5}}\\\\\n"
     ]
    }
   ],
   "source": [
    "print(diagram_as_latex_str(total[0],0))"
   ]
  },
  {
   "cell_type": "code",
   "execution_count": 10,
   "metadata": {},
   "outputs": [],
   "source": [
    "#for i in range(0,len(total)):\n",
    "#    display(Math(diagram_as_latex_str(total[i],i)))"
   ]
  },
  {
   "cell_type": "code",
   "execution_count": 11,
   "metadata": {},
   "outputs": [],
   "source": [
    "from topologies import *\n",
    "\n",
    "topList=diagram_time_order(total)\n",
    "connect_times(topList)\n",
    "name_topologies(topList)"
   ]
  },
  {
   "cell_type": "code",
   "execution_count": 12,
   "metadata": {},
   "outputs": [
    {
     "data": {
      "text/plain": [
       "{0: 'D',\n",
       " 1: 'C',\n",
       " 2: 'Er',\n",
       " 3: 'F',\n",
       " 4: 'El',\n",
       " 5: 'B',\n",
       " 6: 'El-bwd',\n",
       " 7: 'A-bwd',\n",
       " 8: 'Er',\n",
       " 9: 'F',\n",
       " 10: 'A',\n",
       " 11: 'Er-bwd',\n",
       " 12: 'F',\n",
       " 13: 'El',\n",
       " 14: 'El-bwd',\n",
       " 15: 'B-bwd',\n",
       " 16: 'Er-bwd',\n",
       " 17: 'C-bwd',\n",
       " 18: 'D',\n",
       " 19: 'F'}"
      ]
     },
     "execution_count": 12,
     "metadata": {},
     "output_type": "execute_result"
    }
   ],
   "source": [
    "topList"
   ]
  },
  {
   "cell_type": "code",
   "execution_count": 13,
   "metadata": {},
   "outputs": [
    {
     "name": "stdout",
     "output_type": "stream",
     "text": [
      "{10: 'A', 7: 'A-bwd', 5: 'B', 15: 'B-bwd', 1: 'C', 17: 'C-bwd', 0: 'D', 18: 'D', 4: 'El', 13: 'El', 6: 'El-bwd', 14: 'El-bwd', 2: 'Er', 8: 'Er', 11: 'Er-bwd', 16: 'Er-bwd', 3: 'F', 9: 'F', 12: 'F', 19: 'F'}\n"
     ]
    }
   ],
   "source": [
    "x=copy.deepcopy(topList)\n",
    "topSorted={k: v for k, v in sorted(x.items(), key=lambda item: item[1])}\n",
    "print(topSorted)"
   ]
  },
  {
   "cell_type": "code",
   "execution_count": 14,
   "metadata": {},
   "outputs": [],
   "source": [
    "from print_utilities import print_diagrams_labelled\n",
    "\n",
    "#for i,label in topSorted.items():\n",
    "    #display(Math(labelled_diagram_as_latex_str(total[i],i,label)))"
   ]
  },
  {
   "cell_type": "code",
   "execution_count": 15,
   "metadata": {},
   "outputs": [
    {
     "name": "stdout",
     "output_type": "stream",
     "text": [
      "4.0 \\gamma_5_{s_0 s_1}\\gamma_5_{s_6 s_7}\\gamma_{\\mu}_{s_2 s_3}\\gamma_{\\nu}_{s_4 s_5}S^{u}(x_0,t_0\\mid x_3,t_3)_{\\substack{s_7\\\\c_3}\\substack{s_0\\\\c_0}}S^{u}(x_1,t_1\\mid x_2,t_2)_{\\substack{s_5\\\\c_2}\\substack{s_2\\\\c_1}}S^{u}(x_2,t_2\\mid x_1,t_1)_{\\substack{s_3\\\\c_1}\\substack{s_4\\\\c_2}}S^{d}(x_3,t_3\\mid x_0,t_0)_{\\substack{s_1\\\\c_0}\\substack{s_6\\\\c_3}}\n"
     ]
    }
   ],
   "source": [
    "tst = copy.deepcopy(total[0])\n",
    "\n",
    "print(tst)"
   ]
  },
  {
   "cell_type": "code",
   "execution_count": 18,
   "metadata": {},
   "outputs": [
    {
     "data": {
      "text/latex": [
       "$\\displaystyle d_{10}^{\\text{A}}=2.0\\,\\text{tr}\\left[S^{u}(t_1, t_3)\\gamma_5S^{d}(t_3, t_2)\\gamma_{\\mu}S^{d}(t_2, t_0)\\gamma_5S^{u}(t_0, t_1)\\gamma_{\\nu}\\right]$"
      ],
      "text/plain": [
       "<IPython.core.display.Math object>"
      ]
     },
     "metadata": {},
     "output_type": "display_data"
    },
    {
     "data": {
      "text/latex": [
       "$\\displaystyle d_{7}^{\\text{A-bwd}}=2.0\\,\\text{tr}\\left[S^{u}(t_2, t_3)\\gamma_5S^{d}(t_3, t_1)\\gamma_{\\nu}S^{d}(t_1, t_0)\\gamma_5S^{u}(t_0, t_2)\\gamma_{\\mu}\\right]$"
      ],
      "text/plain": [
       "<IPython.core.display.Math object>"
      ]
     },
     "metadata": {},
     "output_type": "display_data"
    },
    {
     "data": {
      "text/latex": [
       "$\\displaystyle d_{5}^{\\text{B}}=-4.0\\,\\text{tr}\\left[S^{u}(t_2, t_3)\\gamma_5S^{d}(t_3, t_0)\\gamma_5S^{u}(t_0, t_1)\\gamma_{\\nu}S^{u}(t_1, t_2)\\gamma_{\\mu}\\right]$"
      ],
      "text/plain": [
       "<IPython.core.display.Math object>"
      ]
     },
     "metadata": {},
     "output_type": "display_data"
    },
    {
     "data": {
      "text/latex": [
       "$\\displaystyle d_{15}^{\\text{B-bwd}}=-1.0\\,\\text{tr}\\left[S^{u}(t_0, t_3)\\gamma_5S^{d}(t_3, t_2)\\gamma_{\\mu}S^{d}(t_2, t_1)\\gamma_{\\nu}S^{d}(t_1, t_0)\\gamma_5\\right]$"
      ],
      "text/plain": [
       "<IPython.core.display.Math object>"
      ]
     },
     "metadata": {},
     "output_type": "display_data"
    },
    {
     "data": {
      "text/latex": [
       "$\\displaystyle d_{1}^{\\text{C}}=-4.0\\,\\text{tr}\\left[S^{u}(t_1, t_3)\\gamma_5S^{d}(t_3, t_0)\\gamma_5S^{u}(t_0, t_2)\\gamma_{\\mu}S^{u}(t_2, t_1)\\gamma_{\\nu}\\right]$"
      ],
      "text/plain": [
       "<IPython.core.display.Math object>"
      ]
     },
     "metadata": {},
     "output_type": "display_data"
    },
    {
     "data": {
      "text/latex": [
       "$\\displaystyle d_{17}^{\\text{C-bwd}}=-1.0\\,\\text{tr}\\left[S^{u}(t_0, t_3)\\gamma_5S^{d}(t_3, t_1)\\gamma_{\\nu}S^{d}(t_1, t_2)\\gamma_{\\mu}S^{d}(t_2, t_0)\\gamma_5\\right]$"
      ],
      "text/plain": [
       "<IPython.core.display.Math object>"
      ]
     },
     "metadata": {},
     "output_type": "display_data"
    },
    {
     "data": {
      "text/latex": [
       "$\\displaystyle d_{0}^{\\text{D}}=4.0\\,\\text{tr}\\left[S^{u}(t_0, t_3)\\gamma_5S^{d}(t_3, t_0)\\gamma_5\\right]\\text{tr}\\left[S^{u}(t_1, t_2)\\gamma_{\\mu}S^{u}(t_2, t_1)\\gamma_{\\nu}\\right]$"
      ],
      "text/plain": [
       "<IPython.core.display.Math object>"
      ]
     },
     "metadata": {},
     "output_type": "display_data"
    },
    {
     "data": {
      "text/latex": [
       "$\\displaystyle d_{18}^{\\text{D}}=1.0\\,\\text{tr}\\left[S^{u}(t_0, t_3)\\gamma_5S^{d}(t_3, t_0)\\gamma_5\\right]\\text{tr}\\left[S^{d}(t_1, t_2)\\gamma_{\\mu}S^{d}(t_2, t_1)\\gamma_{\\nu}\\right]$"
      ],
      "text/plain": [
       "<IPython.core.display.Math object>"
      ]
     },
     "metadata": {},
     "output_type": "display_data"
    },
    {
     "data": {
      "text/latex": [
       "$\\displaystyle d_{4}^{\\text{El}}=4.0\\,\\text{tr}\\left[S^{u}(t_1, t_3)\\gamma_5S^{d}(t_3, t_0)\\gamma_5S^{u}(t_0, t_1)\\gamma_{\\nu}\\right]\\text{tr}\\left[S^{u}(t_2, t_2)\\gamma_{\\mu}\\right]$"
      ],
      "text/plain": [
       "<IPython.core.display.Math object>"
      ]
     },
     "metadata": {},
     "output_type": "display_data"
    },
    {
     "data": {
      "text/latex": [
       "$\\displaystyle d_{13}^{\\text{El}}=-2.0\\,\\text{tr}\\left[S^{u}(t_1, t_3)\\gamma_5S^{d}(t_3, t_0)\\gamma_5S^{u}(t_0, t_1)\\gamma_{\\nu}\\right]\\text{tr}\\left[S^{d}(t_2, t_2)\\gamma_{\\mu}\\right]$"
      ],
      "text/plain": [
       "<IPython.core.display.Math object>"
      ]
     },
     "metadata": {},
     "output_type": "display_data"
    },
    {
     "data": {
      "text/latex": [
       "$\\displaystyle d_{6}^{\\text{El-bwd}}=-2.0\\,\\text{tr}\\left[S^{u}(t_0, t_3)\\gamma_5S^{d}(t_3, t_1)\\gamma_{\\nu}S^{d}(t_1, t_0)\\gamma_5\\right]\\text{tr}\\left[S^{u}(t_2, t_2)\\gamma_{\\mu}\\right]$"
      ],
      "text/plain": [
       "<IPython.core.display.Math object>"
      ]
     },
     "metadata": {},
     "output_type": "display_data"
    },
    {
     "data": {
      "text/latex": [
       "$\\displaystyle d_{14}^{\\text{El-bwd}}=1.0\\,\\text{tr}\\left[S^{u}(t_0, t_3)\\gamma_5S^{d}(t_3, t_1)\\gamma_{\\nu}S^{d}(t_1, t_0)\\gamma_5\\right]\\text{tr}\\left[S^{d}(t_2, t_2)\\gamma_{\\mu}\\right]$"
      ],
      "text/plain": [
       "<IPython.core.display.Math object>"
      ]
     },
     "metadata": {},
     "output_type": "display_data"
    },
    {
     "data": {
      "text/latex": [
       "$\\displaystyle d_{2}^{\\text{Er}}=4.0\\,\\text{tr}\\left[S^{u}(t_2, t_3)\\gamma_5S^{d}(t_3, t_0)\\gamma_5S^{u}(t_0, t_2)\\gamma_{\\mu}\\right]\\text{tr}\\left[S^{u}(t_1, t_1)\\gamma_{\\nu}\\right]$"
      ],
      "text/plain": [
       "<IPython.core.display.Math object>"
      ]
     },
     "metadata": {},
     "output_type": "display_data"
    },
    {
     "data": {
      "text/latex": [
       "$\\displaystyle d_{8}^{\\text{Er}}=-2.0\\,\\text{tr}\\left[S^{u}(t_2, t_3)\\gamma_5S^{d}(t_3, t_0)\\gamma_5S^{u}(t_0, t_2)\\gamma_{\\mu}\\right]\\text{tr}\\left[S^{d}(t_1, t_1)\\gamma_{\\nu}\\right]$"
      ],
      "text/plain": [
       "<IPython.core.display.Math object>"
      ]
     },
     "metadata": {},
     "output_type": "display_data"
    },
    {
     "data": {
      "text/latex": [
       "$\\displaystyle d_{11}^{\\text{Er-bwd}}=-2.0\\,\\text{tr}\\left[S^{u}(t_0, t_3)\\gamma_5S^{d}(t_3, t_2)\\gamma_{\\mu}S^{d}(t_2, t_0)\\gamma_5\\right]\\text{tr}\\left[S^{u}(t_1, t_1)\\gamma_{\\nu}\\right]$"
      ],
      "text/plain": [
       "<IPython.core.display.Math object>"
      ]
     },
     "metadata": {},
     "output_type": "display_data"
    },
    {
     "data": {
      "text/latex": [
       "$\\displaystyle d_{16}^{\\text{Er-bwd}}=1.0\\,\\text{tr}\\left[S^{u}(t_0, t_3)\\gamma_5S^{d}(t_3, t_2)\\gamma_{\\mu}S^{d}(t_2, t_0)\\gamma_5\\right]\\text{tr}\\left[S^{d}(t_1, t_1)\\gamma_{\\nu}\\right]$"
      ],
      "text/plain": [
       "<IPython.core.display.Math object>"
      ]
     },
     "metadata": {},
     "output_type": "display_data"
    },
    {
     "data": {
      "text/latex": [
       "$\\displaystyle d_{3}^{\\text{F}}=-4.0\\,\\text{tr}\\left[S^{u}(t_0, t_3)\\gamma_5S^{d}(t_3, t_0)\\gamma_5\\right]\\text{tr}\\left[S^{u}(t_2, t_2)\\gamma_{\\mu}\\right]\\text{tr}\\left[S^{u}(t_1, t_1)\\gamma_{\\nu}\\right]$"
      ],
      "text/plain": [
       "<IPython.core.display.Math object>"
      ]
     },
     "metadata": {},
     "output_type": "display_data"
    },
    {
     "data": {
      "text/latex": [
       "$\\displaystyle d_{9}^{\\text{F}}=2.0\\,\\text{tr}\\left[S^{u}(t_0, t_3)\\gamma_5S^{d}(t_3, t_0)\\gamma_5\\right]\\text{tr}\\left[S^{u}(t_2, t_2)\\gamma_{\\mu}\\right]\\text{tr}\\left[S^{d}(t_1, t_1)\\gamma_{\\nu}\\right]$"
      ],
      "text/plain": [
       "<IPython.core.display.Math object>"
      ]
     },
     "metadata": {},
     "output_type": "display_data"
    },
    {
     "data": {
      "text/latex": [
       "$\\displaystyle d_{12}^{\\text{F}}=2.0\\,\\text{tr}\\left[S^{u}(t_0, t_3)\\gamma_5S^{d}(t_3, t_0)\\gamma_5\\right]\\text{tr}\\left[S^{d}(t_2, t_2)\\gamma_{\\mu}\\right]\\text{tr}\\left[S^{u}(t_1, t_1)\\gamma_{\\nu}\\right]$"
      ],
      "text/plain": [
       "<IPython.core.display.Math object>"
      ]
     },
     "metadata": {},
     "output_type": "display_data"
    },
    {
     "data": {
      "text/latex": [
       "$\\displaystyle d_{19}^{\\text{F}}=-1.0\\,\\text{tr}\\left[S^{u}(t_0, t_3)\\gamma_5S^{d}(t_3, t_0)\\gamma_5\\right]\\text{tr}\\left[S^{d}(t_2, t_2)\\gamma_{\\mu}\\right]\\text{tr}\\left[S^{d}(t_1, t_1)\\gamma_{\\nu}\\right]$"
      ],
      "text/plain": [
       "<IPython.core.display.Math object>"
      ]
     },
     "metadata": {},
     "output_type": "display_data"
    }
   ],
   "source": [
    "from tracing import diagram_as_trace_string\n",
    "\n",
    "for i,label in topSorted.items():\n",
    "    display(Math('d_{{{}}}^{{\\\\text{{{}}}}}={}\\,'.format(i,label,total[i].coef)+diagram_as_trace_string(total[i])))"
   ]
  },
  {
   "cell_type": "code",
   "execution_count": 19,
   "metadata": {},
   "outputs": [
    {
     "name": "stdout",
     "output_type": "stream",
     "text": [
      "\\beqs\n",
      "d_{10}^{\\text{A}}=2.0\\,\\text{tr}\\left[S^{u}(t_1, t_3)\\gamma_5S^{d}(t_3, t_2)\\gamma_{\\mu}S^{d}(t_2, t_0)\\gamma_5S^{u}(t_0, t_1)\\gamma_{\\nu}\\right]\\\\\n",
      "d_{7}^{\\text{A-bwd}}=2.0\\,\\text{tr}\\left[S^{u}(t_2, t_3)\\gamma_5S^{d}(t_3, t_1)\\gamma_{\\nu}S^{d}(t_1, t_0)\\gamma_5S^{u}(t_0, t_2)\\gamma_{\\mu}\\right]\\\\\n",
      "d_{5}^{\\text{B}}=-4.0\\,\\text{tr}\\left[S^{u}(t_2, t_3)\\gamma_5S^{d}(t_3, t_0)\\gamma_5S^{u}(t_0, t_1)\\gamma_{\\nu}S^{u}(t_1, t_2)\\gamma_{\\mu}\\right]\\\\\n",
      "d_{15}^{\\text{B-bwd}}=-1.0\\,\\text{tr}\\left[S^{u}(t_0, t_3)\\gamma_5S^{d}(t_3, t_2)\\gamma_{\\mu}S^{d}(t_2, t_1)\\gamma_{\\nu}S^{d}(t_1, t_0)\\gamma_5\\right]\\\\\n",
      "d_{1}^{\\text{C}}=-4.0\\,\\text{tr}\\left[S^{u}(t_1, t_3)\\gamma_5S^{d}(t_3, t_0)\\gamma_5S^{u}(t_0, t_2)\\gamma_{\\mu}S^{u}(t_2, t_1)\\gamma_{\\nu}\\right]\\\\\n",
      "d_{17}^{\\text{C-bwd}}=-1.0\\,\\text{tr}\\left[S^{u}(t_0, t_3)\\gamma_5S^{d}(t_3, t_1)\\gamma_{\\nu}S^{d}(t_1, t_2)\\gamma_{\\mu}S^{d}(t_2, t_0)\\gamma_5\\right]\\\\\n",
      "d_{0}^{\\text{D}}=4.0\\,\\text{tr}\\left[S^{u}(t_0, t_3)\\gamma_5S^{d}(t_3, t_0)\\gamma_5\\right]\\text{tr}\\left[S^{u}(t_1, t_2)\\gamma_{\\mu}S^{u}(t_2, t_1)\\gamma_{\\nu}\\right]\\\\\n",
      "d_{18}^{\\text{D}}=1.0\\,\\text{tr}\\left[S^{u}(t_0, t_3)\\gamma_5S^{d}(t_3, t_0)\\gamma_5\\right]\\text{tr}\\left[S^{d}(t_1, t_2)\\gamma_{\\mu}S^{d}(t_2, t_1)\\gamma_{\\nu}\\right]\\\\\n",
      "d_{4}^{\\text{El}}=4.0\\,\\text{tr}\\left[S^{u}(t_1, t_3)\\gamma_5S^{d}(t_3, t_0)\\gamma_5S^{u}(t_0, t_1)\\gamma_{\\nu}\\right]\\text{tr}\\left[S^{u}(t_2, t_2)\\gamma_{\\mu}\\right]\\\\\n",
      "d_{13}^{\\text{El}}=-2.0\\,\\text{tr}\\left[S^{u}(t_1, t_3)\\gamma_5S^{d}(t_3, t_0)\\gamma_5S^{u}(t_0, t_1)\\gamma_{\\nu}\\right]\\text{tr}\\left[S^{d}(t_2, t_2)\\gamma_{\\mu}\\right]\\\\\n",
      "d_{6}^{\\text{El-bwd}}=-2.0\\,\\text{tr}\\left[S^{u}(t_0, t_3)\\gamma_5S^{d}(t_3, t_1)\\gamma_{\\nu}S^{d}(t_1, t_0)\\gamma_5\\right]\\text{tr}\\left[S^{u}(t_2, t_2)\\gamma_{\\mu}\\right]\\\\\n",
      "d_{14}^{\\text{El-bwd}}=1.0\\,\\text{tr}\\left[S^{u}(t_0, t_3)\\gamma_5S^{d}(t_3, t_1)\\gamma_{\\nu}S^{d}(t_1, t_0)\\gamma_5\\right]\\text{tr}\\left[S^{d}(t_2, t_2)\\gamma_{\\mu}\\right]\\\\\n",
      "d_{2}^{\\text{Er}}=4.0\\,\\text{tr}\\left[S^{u}(t_2, t_3)\\gamma_5S^{d}(t_3, t_0)\\gamma_5S^{u}(t_0, t_2)\\gamma_{\\mu}\\right]\\text{tr}\\left[S^{u}(t_1, t_1)\\gamma_{\\nu}\\right]\\\\\n",
      "d_{8}^{\\text{Er}}=-2.0\\,\\text{tr}\\left[S^{u}(t_2, t_3)\\gamma_5S^{d}(t_3, t_0)\\gamma_5S^{u}(t_0, t_2)\\gamma_{\\mu}\\right]\\text{tr}\\left[S^{d}(t_1, t_1)\\gamma_{\\nu}\\right]\\\\\n",
      "d_{11}^{\\text{Er-bwd}}=-2.0\\,\\text{tr}\\left[S^{u}(t_0, t_3)\\gamma_5S^{d}(t_3, t_2)\\gamma_{\\mu}S^{d}(t_2, t_0)\\gamma_5\\right]\\text{tr}\\left[S^{u}(t_1, t_1)\\gamma_{\\nu}\\right]\\\\\n",
      "d_{16}^{\\text{Er-bwd}}=1.0\\,\\text{tr}\\left[S^{u}(t_0, t_3)\\gamma_5S^{d}(t_3, t_2)\\gamma_{\\mu}S^{d}(t_2, t_0)\\gamma_5\\right]\\text{tr}\\left[S^{d}(t_1, t_1)\\gamma_{\\nu}\\right]\\\\\n",
      "d_{3}^{\\text{F}}=-4.0\\,\\text{tr}\\left[S^{u}(t_0, t_3)\\gamma_5S^{d}(t_3, t_0)\\gamma_5\\right]\\text{tr}\\left[S^{u}(t_2, t_2)\\gamma_{\\mu}\\right]\\text{tr}\\left[S^{u}(t_1, t_1)\\gamma_{\\nu}\\right]\\\\\n",
      "d_{9}^{\\text{F}}=2.0\\,\\text{tr}\\left[S^{u}(t_0, t_3)\\gamma_5S^{d}(t_3, t_0)\\gamma_5\\right]\\text{tr}\\left[S^{u}(t_2, t_2)\\gamma_{\\mu}\\right]\\text{tr}\\left[S^{d}(t_1, t_1)\\gamma_{\\nu}\\right]\\\\\n",
      "d_{12}^{\\text{F}}=2.0\\,\\text{tr}\\left[S^{u}(t_0, t_3)\\gamma_5S^{d}(t_3, t_0)\\gamma_5\\right]\\text{tr}\\left[S^{d}(t_2, t_2)\\gamma_{\\mu}\\right]\\text{tr}\\left[S^{u}(t_1, t_1)\\gamma_{\\nu}\\right]\\\\\n",
      "d_{19}^{\\text{F}}=-1.0\\,\\text{tr}\\left[S^{u}(t_0, t_3)\\gamma_5S^{d}(t_3, t_0)\\gamma_5\\right]\\text{tr}\\left[S^{d}(t_2, t_2)\\gamma_{\\mu}\\right]\\text{tr}\\left[S^{d}(t_1, t_1)\\gamma_{\\nu}\\right]\n",
      "\\eeqs\n"
     ]
    }
   ],
   "source": [
    "print('\\\\beqs')\n",
    "for i,label in topSorted.items():\n",
    "    s='d_{{{}}}^{{\\\\text{{{}}}}}={}\\,'.format(i,label,total[i].coef)+diagram_as_trace_string(total[i])\n",
    "    if(i!=len(topSorted.items())-1):\n",
    "        s+='\\\\\\\\'\n",
    "    print(s)\n",
    "print('\\\\eeqs')"
   ]
  },
  {
   "cell_type": "code",
   "execution_count": null,
   "metadata": {},
   "outputs": [],
   "source": []
  },
  {
   "cell_type": "code",
   "execution_count": null,
   "metadata": {},
   "outputs": [],
   "source": []
  }
 ],
 "metadata": {
  "kernelspec": {
   "display_name": "Python [conda env:LQCD] *",
   "language": "python",
   "name": "conda-env-LQCD-py"
  },
  "language_info": {
   "codemirror_mode": {
    "name": "ipython",
    "version": 3
   },
   "file_extension": ".py",
   "mimetype": "text/x-python",
   "name": "python",
   "nbconvert_exporter": "python",
   "pygments_lexer": "ipython3",
   "version": "3.9.7"
  }
 },
 "nbformat": 4,
 "nbformat_minor": 4
}
