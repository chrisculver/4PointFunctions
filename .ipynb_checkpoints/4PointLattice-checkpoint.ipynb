{
 "cells": [
  {
   "cell_type": "code",
   "execution_count": 1,
   "metadata": {},
   "outputs": [],
   "source": [
    "import sys\n",
    "import os\n",
    "\n",
    "sys.path.append(os.getcwd()[:-9])\n",
    "\n",
    "import WickContractions\n",
    "\n",
    "from WickContractions.ops.operator import Operator\n",
    "from WickContractions.ops.elemental import ElementalOperator\n",
    "from WickContractions.ops.quarks import Quark\n",
    "from WickContractions.ops.indexed import IndexedObject\n",
    "from WickContractions.wick.contract import contract"
   ]
  },
  {
   "cell_type": "code",
   "execution_count": 7,
   "metadata": {},
   "outputs": [],
   "source": [
    "q0=Quark(True,'u','s_0','c_0','t_3','x_3')\n",
    "g0=IndexedObject('\\\\gamma_5',['s_0','s_1'])\n",
    "q1=Quark(False,'d','s_1','c_0','t_3','x_3')\n",
    "\n",
    "annihilate=Operator([ElementalOperator(+1,[g0],[q0,q1])])\n",
    "\n",
    "#TODO add charge factors qu and qd\n",
    "\n",
    "elementals=[]\n",
    "for pi2 in [['u',+2/3],['d',-1/3]]:                              # uu + dd\n",
    "    for pi1 in [['u',+2/3],['d',-1/3]]:                          # uu + dd \n",
    "        for dirpi2 in [-1,+1]:                               # eq 17 of notes\n",
    "            for dirpi1 in [-1,+1]:\n",
    "                q2=Quark(True,pi2[0],'s_2','c_1','t_2','x_2')\n",
    "                g1=IndexedObject('(1-\\\\gamma_{\\mu})',['s_2','s_3'])\n",
    "                g2=IndexedObject('U_{\\mu}(x_2)',['c_1','c_2'])\n",
    "                q3=Quark(False,pi2[0],'s_3','c_2','t_2','x_2+a\\\\hat{\\mu}')\n",
    "                q4=Quark(True,pi1[0],'s_4','c_3','t_1','x_1')\n",
    "                g3=IndexedObject('(1-\\\\gamma_{\\\\nu})',['s_4','s_5'])\n",
    "                g4=IndexedObject('U_{\\\\nu}(x_1)',['c_3','c_4'])\n",
    "                q5=Quark(False,pi1[0],'s_5','c_4','t_1','x_1+a\\\\hat{\\\\nu}')\n",
    "                if(dirpi1==-1):\n",
    "                    q2=Quark(True,pi2[0],'s_2','c_1','t_2','x_2')\n",
    "                    g1=IndexedObject('(1-\\\\gamma_{\\mu})',['s_2','s_3'])\n",
    "                    g2=IndexedObject('U_{\\mu}(x_2)',['c_1','c_2'])\n",
    "                    q3=Quark(False,pi2[0],'s_3','c_2','t_2','x_2+a\\\\hat{\\mu}')\n",
    "                elif(dirpi1==+1):\n",
    "                    q2=Quark(True,pi2[0],'s_2','c_1','t_2','x_2+a\\\\hat{\\mu}')\n",
    "                    g1=IndexedObject('(1+\\\\gamma_{\\mu})',['s_2','s_3'])\n",
    "                    g2=IndexedObject('U_{\\mu}^{\\dagger}(x_2)',['c_1','c_2'])\n",
    "                    q3=Quark(False,pi2[0],'s_3','c_2','t_2','x_2')\n",
    "    \n",
    "                if(dirpi2==-1):\n",
    "                    q4=Quark(True,pi1[0],'s_4','c_3','t_1','x_1')\n",
    "                    g3=IndexedObject('(1-\\\\gamma_{\\\\nu})',['s_4','s_5'])\n",
    "                    g4=IndexedObject('U_{\\\\nu}(x_1)',['c_3','c_4'])\n",
    "                    q5=Quark(False,pi1[0],'s_5','c_4','t_1','x_1+a\\\\hat{\\\\nu}')\n",
    "                    \n",
    "                elif(dirpi2==+1):\n",
    "                    q4=Quark(True,pi1[0],'s_4','c_3','t_1','x_1+a\\\\hat{\\\\nu}')\n",
    "                    g3=IndexedObject('(1+\\\\gamma_{\\\\nu})',['s_4','s_5'])\n",
    "                    g4=IndexedObject('U_{\\\\nu}^{\\dagger}(x_1)',['c_3','c_4'])\n",
    "                    q5=Quark(False,pi1[0],'s_5','c_4','t_1','x_1')\n",
    "        \n",
    "                # for printing out the insertion cleanly, just comment out this pion\n",
    "                # and uncomment out the block about insertion.\n",
    "                \n",
    "                q6=Quark(True,'d','s_6','c_3','t_0','x_0')\n",
    "                g5=IndexedObject('\\\\gamma_5',['s_6','s_7'])\n",
    "                q7=Quark(False,'u','s_7','c_3','t_0','x_0')\n",
    "                coef=pi1[1]*pi2[1]*dirpi1*dirpi2\n",
    "                elementals.append(ElementalOperator(-1*coef,[g1,g2,g3,g4,g5],[q2,q3,q4,q5,q6,q7]))\n",
    "                #elementals.append(ElementalOperator(coef,[g1,g2,g3,g4],[q2,q3,q4,q5]))\n",
    "        \n",
    "insertion=Operator(elementals)\n",
    "#s=''\n",
    "#for e in insertion.elementals:\n",
    "#    s+=str(e)+'\\\\\\\\'\n",
    "#print(s.replace('*',''))\n",
    "\n",
    "creation=Operator(elementals)"
   ]
  },
  {
   "cell_type": "code",
   "execution_count": 8,
   "metadata": {},
   "outputs": [
    {
     "name": "stdout",
     "output_type": "stream",
     "text": [
      "80\n"
     ]
    }
   ],
   "source": [
    "res=contract(annihilate,creation)\n",
    "print(len(res))"
   ]
  },
  {
   "cell_type": "code",
   "execution_count": 9,
   "metadata": {},
   "outputs": [
    {
     "name": "stdout",
     "output_type": "stream",
     "text": [
      "80\n",
      "80\n"
     ]
    }
   ],
   "source": [
    "import copy\n",
    "from diagram_utils import combine_diagrams\n",
    "total=copy.deepcopy(res)\n",
    "\n",
    "print(len(total))\n",
    "\n",
    "##you can take the isospin limit by setting 'd'='u'\n",
    "for d in total:\n",
    "    for p in d.props:\n",
    "        #p.name = 'S'\n",
    "        p.name = 'S^'+p.name.split('_')[1]\n",
    "\n",
    "combine_diagrams(total)\n",
    "\n",
    "for d in total:\n",
    "    d.coef*=9\n",
    "        \n",
    "print(len(total))"
   ]
  },
  {
   "cell_type": "code",
   "execution_count": 10,
   "metadata": {},
   "outputs": [
    {
     "data": {
      "text/latex": [
       "$\\displaystyle d_{0}=-4.0 S^{u}(x_0t_0\\mid x_3t_3)_{\\substack{s_7\\\\c_3}\\substack{s_0\\\\c_0}}S^{u}(x_1t_1\\mid x_2t_2)_{\\substack{s_5\\\\c_4}\\substack{s_2\\\\c_1}}S^{u}(x_2t_2\\mid x_1t_1)_{\\substack{s_3\\\\c_2}\\substack{s_4\\\\c_3}}S^{d}(x_3t_3\\mid x_0t_0)_{\\substack{s_1\\\\c_0}\\substack{s_6\\\\c_3}}['(1-\\\\gamma', '{\\\\mu})']['(1-\\\\gamma', '{\\\\nu})']['U', '{\\\\mu}(x', '2)']['U', '{\\\\nu}(x', '1)']\\gamma_{5_{s_0s_1}}\\gamma_{5_{s_6s_7}}\\\\$"
      ],
      "text/plain": [
       "<IPython.core.display.Math object>"
      ]
     },
     "metadata": {},
     "output_type": "display_data"
    }
   ],
   "source": [
    "from print_utilities import diagram_as_latex_str, labelled_diagram_as_latex_str\n",
    "from IPython.display import display, Math\n",
    "\n",
    "display(Math(diagram_as_latex_str(total[0],0)))"
   ]
  },
  {
   "cell_type": "code",
   "execution_count": 11,
   "metadata": {},
   "outputs": [],
   "source": [
    "from topologies import *\n",
    "\n",
    "topList=diagram_time_order(total)\n",
    "connect_times(topList)\n",
    "name_topologies(topList)\n"
   ]
  },
  {
   "cell_type": "code",
   "execution_count": 16,
   "metadata": {},
   "outputs": [],
   "source": [
    "#print(topList)"
   ]
  },
  {
   "cell_type": "code",
   "execution_count": 17,
   "metadata": {},
   "outputs": [],
   "source": [
    "x=copy.deepcopy(topList)\n",
    "topSorted={k: v for k, v in sorted(x.items(), key=lambda item: item[1])}\n",
    "#print(topSorted)"
   ]
  },
  {
   "cell_type": "code",
   "execution_count": 18,
   "metadata": {},
   "outputs": [
    {
     "data": {
      "text/latex": [
       "$\\displaystyle d_{0}^{\\text{(D)}}=-4.0 S^{u}(x_0t_0\\mid x_3t_3)_{\\substack{s_7\\\\c_3}\\substack{s_0\\\\c_0}}S^{u}(x_1t_1\\mid x_2t_2)_{\\substack{s_5\\\\c_4}\\substack{s_2\\\\c_1}}S^{u}(x_2t_2\\mid x_1t_1)_{\\substack{s_3\\\\c_2}\\substack{s_4\\\\c_3}}S^{d}(x_3t_3\\mid x_0t_0)_{\\substack{s_1\\\\c_0}\\substack{s_6\\\\c_3}}['(1-\\\\gamma', '{\\\\mu})']['(1-\\\\gamma', '{\\\\nu})']['U', '{\\\\mu}(x', '2)']['U', '{\\\\nu}(x', '1)']\\gamma_{5_{s_0s_1}}\\gamma_{5_{s_6s_7}}\\\\$"
      ],
      "text/plain": [
       "<IPython.core.display.Math object>"
      ]
     },
     "metadata": {},
     "output_type": "display_data"
    }
   ],
   "source": [
    "from print_utilities import print_diagrams_labelled\n",
    "\n",
    "#for i,label in topSorted.items():\n",
    "display(Math(labelled_diagram_as_latex_str(total[0],0,topSorted[0])))"
   ]
  },
  {
   "cell_type": "code",
   "execution_count": null,
   "metadata": {},
   "outputs": [],
   "source": []
  },
  {
   "cell_type": "code",
   "execution_count": null,
   "metadata": {},
   "outputs": [],
   "source": []
  }
 ],
 "metadata": {
  "kernelspec": {
   "display_name": "Python [conda env:LQCD] *",
   "language": "python",
   "name": "conda-env-LQCD-py"
  },
  "language_info": {
   "codemirror_mode": {
    "name": "ipython",
    "version": 3
   },
   "file_extension": ".py",
   "mimetype": "text/x-python",
   "name": "python",
   "nbconvert_exporter": "python",
   "pygments_lexer": "ipython3",
   "version": "3.8.5"
  }
 },
 "nbformat": 4,
 "nbformat_minor": 4
}
