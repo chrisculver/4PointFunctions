{
 "cells": [
  {
   "cell_type": "code",
   "execution_count": 13,
   "metadata": {},
   "outputs": [],
   "source": [
    "import sys\n",
    "import os\n",
    "\n",
    "sys.path.append(os.getcwd()[:-9])\n",
    "\n",
    "import WickContractions\n",
    "\n",
    "from WickContractions.ops.operator import Operator\n",
    "from WickContractions.ops.elemental import ElementalOperator\n",
    "from WickContractions.ops.quarks import Quark\n",
    "from WickContractions.ops.indexed import IndexedObject\n",
    "from WickContractions.wick.contract import contract"
   ]
  },
  {
   "cell_type": "code",
   "execution_count": 14,
   "metadata": {},
   "outputs": [],
   "source": [
    "q0=Quark(True,'u','s_0','c_0','t_3','x_3')\n",
    "g0=IndexedObject('\\\\gamma_5',['s_0','s_1'])\n",
    "q1=Quark(False,'d','s_1','c_0','t_3','x_3')\n",
    "\n",
    "annihilate=Operator([ElementalOperator(+1,[g0],[q0,q1])])\n",
    "\n",
    "#TODO add charge factors qu and qd\n",
    "\n",
    "elementals=[]\n",
    "for pi2 in [['u',+2/3],['d',-1/3]]:                              # uu + dd\n",
    "    for pi1 in [['u',+2/3],['d',-1/3]]:                          # uu + dd \n",
    "        for dirpi2 in [-1,+1]:                               # eq 17 of notes\n",
    "            for dirpi1 in [-1,+1]:\n",
    "                q2=Quark(True,pi2[0],'s_2','c_1','t_2','x_2')\n",
    "                g1=IndexedObject('(1-\\\\gamma_{\\mu})',['s_2','s_3'])\n",
    "                g2=IndexedObject('U_{\\mu}(x_2)',['c_1','c_2'])\n",
    "                q3=Quark(False,pi2[0],'s_3','c_2','t_2','x_2+a\\\\hat{\\mu}')\n",
    "                q4=Quark(True,pi1[0],'s_4','c_3','t_1','x_1')\n",
    "                g3=IndexedObject('(1-\\\\gamma_{\\\\nu})',['s_4','s_5'])\n",
    "                g4=IndexedObject('U_{\\\\nu}(x_1)',['c_3','c_4'])\n",
    "                q5=Quark(False,pi1[0],'s_5','c_4','t_1','x_1+a\\\\hat{\\\\nu}')\n",
    "                if(dirpi1==-1):\n",
    "                    q2=Quark(True,pi2[0],'s_2','c_1','t_2','x_2')\n",
    "                    g1=IndexedObject('(1-\\\\gamma_{\\mu})',['s_2','s_3'])\n",
    "                    g2=IndexedObject('U_{\\mu}(x_2)',['c_1','c_2'])\n",
    "                    q3=Quark(False,pi2[0],'s_3','c_2','t_2','x_2+a\\\\hat{\\mu}')\n",
    "                elif(dirpi1==+1):\n",
    "                    q2=Quark(True,pi2[0],'s_2','c_1','t_2','x_2+a\\\\hat{\\mu}')\n",
    "                    g1=IndexedObject('(1+\\\\gamma_{\\mu})',['s_2','s_3'])\n",
    "                    g2=IndexedObject('U_{\\mu}^{\\dagger}(x_2)',['c_1','c_2'])\n",
    "                    q3=Quark(False,pi2[0],'s_3','c_2','t_2','x_2')\n",
    "    \n",
    "                if(dirpi2==-1):\n",
    "                    q4=Quark(True,pi1[0],'s_4','c_3','t_1','x_1')\n",
    "                    g3=IndexedObject('(1-\\\\gamma_{\\\\nu})',['s_4','s_5'])\n",
    "                    g4=IndexedObject('U_{\\\\nu}(x_1)',['c_3','c_4'])\n",
    "                    q5=Quark(False,pi1[0],'s_5','c_4','t_1','x_1+a\\\\hat{\\\\nu}')\n",
    "                    \n",
    "                elif(dirpi2==+1):\n",
    "                    q4=Quark(True,pi1[0],'s_4','c_3','t_1','x_1+a\\\\hat{\\\\nu}')\n",
    "                    g3=IndexedObject('(1+\\\\gamma_{\\\\nu})',['s_4','s_5'])\n",
    "                    g4=IndexedObject('U_{\\\\nu}^{\\dagger}(x_1)',['c_3','c_4'])\n",
    "                    q5=Quark(False,pi1[0],'s_5','c_4','t_1','x_1')\n",
    "        \n",
    "                # for printing out the insertion cleanly, just comment out this pion\n",
    "                # and uncomment out the block about insertion.\n",
    "                \n",
    "                q6=Quark(True,'d','s_6','c_5','t_0','x_0')\n",
    "                g5=IndexedObject('\\\\gamma_5',['s_6','s_7'])\n",
    "                q7=Quark(False,'u','s_7','c_5','t_0','x_0')\n",
    "                coef=pi1[1]*pi2[1]*dirpi1*dirpi2\n",
    "                elementals.append(ElementalOperator(-1*coef,[g1,g2,g3,g4,g5],[q2,q3,q4,q5,q6,q7]))\n",
    "                #elementals.append(ElementalOperator(coef,[g1,g2,g3,g4],[q2,q3,q4,q5]))\n",
    "        \n",
    "insertion=Operator(elementals)\n",
    "#s=''\n",
    "#for e in insertion.elementals:\n",
    "#    s+=str(e)+'\\\\\\\\'\n",
    "#print(s.replace('*',''))\n",
    "\n",
    "creation=Operator(elementals)"
   ]
  },
  {
   "cell_type": "code",
   "execution_count": 15,
   "metadata": {},
   "outputs": [
    {
     "name": "stdout",
     "output_type": "stream",
     "text": [
      "80\n"
     ]
    }
   ],
   "source": [
    "res=contract(annihilate,creation)\n",
    "print(len(res.diagrams))"
   ]
  },
  {
   "cell_type": "code",
   "execution_count": 16,
   "metadata": {},
   "outputs": [
    {
     "name": "stdout",
     "output_type": "stream",
     "text": [
      "80\n",
      "80\n"
     ]
    }
   ],
   "source": [
    "import copy\n",
    "from diagram_utils import combine_diagrams\n",
    "total=copy.deepcopy(res.diagrams)\n",
    "\n",
    "print(len(total))\n",
    "\n",
    "##you can take the isospin limit by setting 'd'='u'\n",
    "for d in total:\n",
    "    for p in d.props:\n",
    "        #p.name = 'S'\n",
    "        p.name = 'S_'+p.name.split('_')[1]\n",
    "\n",
    "combine_diagrams(total)\n",
    "\n",
    "for d in total:\n",
    "    d.coef*=9\n",
    "        \n",
    "print(len(total))"
   ]
  },
  {
   "cell_type": "code",
   "execution_count": 17,
   "metadata": {},
   "outputs": [
    {
     "data": {
      "text/latex": [
       "$\\displaystyle d_{0}=-4.0 S_{u}(x_0t_0\\mid x_3t_3)_{\\substack{s_7\\\\c_5}\\substack{s_0\\\\c_0}}S_{u}(x_1t_1\\mid x_2t_2)_{\\substack{s_5\\\\c_4}\\substack{s_2\\\\c_1}}S_{u}(x_2t_2\\mid x_1t_1)_{\\substack{s_3\\\\c_2}\\substack{s_4\\\\c_3}}S_{d}(x_3t_3\\mid x_0t_0)_{\\substack{s_1\\\\c_0}\\substack{s_6\\\\c_5}}['(1-\\\\gamma', '{\\\\mu})']['(1-\\\\gamma', '{\\\\nu})']['U', '{\\\\mu}(x', '2)']['U', '{\\\\nu}(x', '1)']\\gamma_{5_{s_0s_1}}\\gamma_{5_{s_6s_7}}\\\\$"
      ],
      "text/plain": [
       "<IPython.core.display.Math object>"
      ]
     },
     "metadata": {},
     "output_type": "display_data"
    }
   ],
   "source": [
    "from print_utilities import diagram_as_latex_str, labelled_diagram_as_latex_str\n",
    "from IPython.display import display, Math\n",
    "\n",
    "display(Math(diagram_as_latex_str(total[0],0)))"
   ]
  },
  {
   "cell_type": "code",
   "execution_count": 18,
   "metadata": {},
   "outputs": [],
   "source": [
    "from topologies import *\n",
    "\n",
    "topList=diagram_time_order(total)\n",
    "connect_times(topList)\n",
    "name_topologies(topList)\n"
   ]
  },
  {
   "cell_type": "code",
   "execution_count": 19,
   "metadata": {},
   "outputs": [],
   "source": [
    "#print(topList)"
   ]
  },
  {
   "cell_type": "code",
   "execution_count": 20,
   "metadata": {},
   "outputs": [],
   "source": [
    "x=copy.deepcopy(topList)\n",
    "topSorted={k: v for k, v in sorted(x.items(), key=lambda item: item[1])}\n",
    "#print(topSorted)"
   ]
  },
  {
   "cell_type": "code",
   "execution_count": 21,
   "metadata": {},
   "outputs": [
    {
     "data": {
      "text/latex": [
       "$\\displaystyle d_{0}^{\\text{(D)}}=-4.0 S_{u}(x_0t_0\\mid x_3t_3)_{\\substack{s_7\\\\c_5}\\substack{s_0\\\\c_0}}S_{u}(x_1t_1\\mid x_2t_2)_{\\substack{s_5\\\\c_4}\\substack{s_2\\\\c_1}}S_{u}(x_2t_2\\mid x_1t_1)_{\\substack{s_3\\\\c_2}\\substack{s_4\\\\c_3}}S_{d}(x_3t_3\\mid x_0t_0)_{\\substack{s_1\\\\c_0}\\substack{s_6\\\\c_5}}['(1-\\\\gamma', '{\\\\mu})']['(1-\\\\gamma', '{\\\\nu})']['U', '{\\\\mu}(x', '2)']['U', '{\\\\nu}(x', '1)']\\gamma_{5_{s_0s_1}}\\gamma_{5_{s_6s_7}}\\\\$"
      ],
      "text/plain": [
       "<IPython.core.display.Math object>"
      ]
     },
     "metadata": {},
     "output_type": "display_data"
    }
   ],
   "source": [
    "from print_utilities import print_diagrams_labelled\n",
    "\n",
    "#for i,label in topSorted.items():\n",
    "display(Math(labelled_diagram_as_latex_str(total[0],0,topSorted[0])))"
   ]
  },
  {
   "cell_type": "code",
   "execution_count": 24,
   "metadata": {},
   "outputs": [
    {
     "name": "stdout",
     "output_type": "stream",
     "text": [
      "-4.0 (1-\\gamma_{\\mu})_{s_2 s_3}(1-\\gamma_{\\nu})_{s_4 s_5}U_{\\mu}(x_2)_{c_1 c_2}U_{\\nu}(x_1)_{c_3 c_4}\\gamma_5_{s_0 s_1}\\gamma_5_{s_6 s_7}S_{u}(x_0,t_0\\mid x_3,t_3)_{\\substack{s_7\\\\c_5}\\substack{s_0\\\\c_0}}S_{u}(x_1+a\\hat{\\nu},t_1\\mid x_2,t_2)_{\\substack{s_5\\\\c_4}\\substack{s_2\\\\c_1}}S_{u}(x_2+a\\hat{\\mu},t_2\\mid x_1,t_1)_{\\substack{s_3\\\\c_2}\\substack{s_4\\\\c_3}}S_{d}(x_3,t_3\\mid x_0,t_0)_{\\substack{s_1\\\\c_0}\\substack{s_6\\\\c_5}}\n"
     ]
    }
   ],
   "source": [
    "tst = copy.deepcopy(total[0])\n",
    "\n",
    "print(tst)"
   ]
  },
  {
   "cell_type": "code",
   "execution_count": 25,
   "metadata": {},
   "outputs": [
    {
     "ename": "NameError",
     "evalue": "name 'tst' is not defined",
     "output_type": "error",
     "traceback": [
      "\u001b[0;31m---------------------------------------------------------------------------\u001b[0m",
      "\u001b[0;31mNameError\u001b[0m                                 Traceback (most recent call last)",
      "\u001b[0;32m<ipython-input-25-4e491ade12f3>\u001b[0m in \u001b[0;36m<module>\u001b[0;34m\u001b[0m\n\u001b[1;32m      2\u001b[0m \u001b[0;34m\u001b[0m\u001b[0m\n\u001b[1;32m      3\u001b[0m \u001b[0;32mfor\u001b[0m \u001b[0mi\u001b[0m\u001b[0;34m,\u001b[0m\u001b[0mlabel\u001b[0m \u001b[0;32min\u001b[0m \u001b[0mtopSorted\u001b[0m\u001b[0;34m.\u001b[0m\u001b[0mitems\u001b[0m\u001b[0;34m(\u001b[0m\u001b[0;34m)\u001b[0m\u001b[0;34m:\u001b[0m\u001b[0;34m\u001b[0m\u001b[0;34m\u001b[0m\u001b[0m\n\u001b[0;32m----> 4\u001b[0;31m     \u001b[0mdisplay\u001b[0m\u001b[0;34m(\u001b[0m\u001b[0mMath\u001b[0m\u001b[0;34m(\u001b[0m\u001b[0;34m'd_{{{}}}^{{\\\\text{{{}}}}}={}\\,'\u001b[0m\u001b[0;34m.\u001b[0m\u001b[0mformat\u001b[0m\u001b[0;34m(\u001b[0m\u001b[0mi\u001b[0m\u001b[0;34m,\u001b[0m\u001b[0mlabel\u001b[0m\u001b[0;34m,\u001b[0m\u001b[0mtotal\u001b[0m\u001b[0;34m[\u001b[0m\u001b[0mi\u001b[0m\u001b[0;34m]\u001b[0m\u001b[0;34m.\u001b[0m\u001b[0mcoef\u001b[0m\u001b[0;34m)\u001b[0m\u001b[0;34m+\u001b[0m\u001b[0mdiagram_as_trace_string\u001b[0m\u001b[0;34m(\u001b[0m\u001b[0mtotal\u001b[0m\u001b[0;34m[\u001b[0m\u001b[0mi\u001b[0m\u001b[0;34m]\u001b[0m\u001b[0;34m)\u001b[0m\u001b[0;34m)\u001b[0m\u001b[0;34m)\u001b[0m\u001b[0;34m\u001b[0m\u001b[0;34m\u001b[0m\u001b[0m\n\u001b[0m",
      "\u001b[0;32m~/Code/LatticeQCD/4PointFunctions/tracing.py\u001b[0m in \u001b[0;36mdiagram_as_trace_string\u001b[0;34m(d)\u001b[0m\n\u001b[1;32m      9\u001b[0m \u001b[0;34m\u001b[0m\u001b[0m\n\u001b[1;32m     10\u001b[0m     \u001b[0;31m# Start with the first prop.\u001b[0m\u001b[0;34m\u001b[0m\u001b[0;34m\u001b[0m\u001b[0;34m\u001b[0m\u001b[0m\n\u001b[0;32m---> 11\u001b[0;31m     \u001b[0ms\u001b[0m\u001b[0;34m+=\u001b[0m\u001b[0mtraced_prop_name\u001b[0m\u001b[0;34m(\u001b[0m\u001b[0mtst\u001b[0m\u001b[0;34m.\u001b[0m\u001b[0mprops\u001b[0m\u001b[0;34m[\u001b[0m\u001b[0;36m0\u001b[0m\u001b[0;34m]\u001b[0m\u001b[0;34m)\u001b[0m\u001b[0;34m\u001b[0m\u001b[0;34m\u001b[0m\u001b[0m\n\u001b[0m\u001b[1;32m     12\u001b[0m \u001b[0;34m\u001b[0m\u001b[0m\n\u001b[1;32m     13\u001b[0m     \u001b[0mlastProp\u001b[0m\u001b[0;34m=\u001b[0m\u001b[0mcopy\u001b[0m\u001b[0;34m.\u001b[0m\u001b[0mdeepcopy\u001b[0m\u001b[0;34m(\u001b[0m\u001b[0mtst\u001b[0m\u001b[0;34m.\u001b[0m\u001b[0mprops\u001b[0m\u001b[0;34m[\u001b[0m\u001b[0;36m0\u001b[0m\u001b[0;34m]\u001b[0m\u001b[0;34m)\u001b[0m\u001b[0;34m\u001b[0m\u001b[0;34m\u001b[0m\u001b[0m\n",
      "\u001b[0;31mNameError\u001b[0m: name 'tst' is not defined"
     ]
    }
   ],
   "source": [
    "from tracing import diagram_as_trace_string\n",
    "\n",
    "for i,label in topSorted.items():\n",
    "    display(Math('d_{{{}}}^{{\\\\text{{{}}}}}={}\\,'.format(i,label,total[i].coef)+diagram_as_trace_string(total[i])))"
   ]
  },
  {
   "cell_type": "code",
   "execution_count": null,
   "metadata": {},
   "outputs": [],
   "source": []
  },
  {
   "cell_type": "code",
   "execution_count": null,
   "metadata": {},
   "outputs": [],
   "source": []
  },
  {
   "cell_type": "code",
   "execution_count": 23,
   "metadata": {},
   "outputs": [
    {
     "name": "stdout",
     "output_type": "stream",
     "text": [
      "\\beqs\n"
     ]
    },
    {
     "ename": "NameError",
     "evalue": "name 'tst' is not defined",
     "output_type": "error",
     "traceback": [
      "\u001b[0;31m---------------------------------------------------------------------------\u001b[0m",
      "\u001b[0;31mNameError\u001b[0m                                 Traceback (most recent call last)",
      "\u001b[0;32m<ipython-input-23-c9fe6fb73103>\u001b[0m in \u001b[0;36m<module>\u001b[0;34m\u001b[0m\n\u001b[1;32m      1\u001b[0m \u001b[0mprint\u001b[0m\u001b[0;34m(\u001b[0m\u001b[0;34m'\\\\beqs'\u001b[0m\u001b[0;34m)\u001b[0m\u001b[0;34m\u001b[0m\u001b[0;34m\u001b[0m\u001b[0m\n\u001b[1;32m      2\u001b[0m \u001b[0;32mfor\u001b[0m \u001b[0mi\u001b[0m\u001b[0;34m,\u001b[0m\u001b[0mlabel\u001b[0m \u001b[0;32min\u001b[0m \u001b[0mtopSorted\u001b[0m\u001b[0;34m.\u001b[0m\u001b[0mitems\u001b[0m\u001b[0;34m(\u001b[0m\u001b[0;34m)\u001b[0m\u001b[0;34m:\u001b[0m\u001b[0;34m\u001b[0m\u001b[0;34m\u001b[0m\u001b[0m\n\u001b[0;32m----> 3\u001b[0;31m     \u001b[0ms\u001b[0m\u001b[0;34m=\u001b[0m\u001b[0;34m'd_{{{}}}^{{\\\\text{{{}}}}}={}\\,'\u001b[0m\u001b[0;34m.\u001b[0m\u001b[0mformat\u001b[0m\u001b[0;34m(\u001b[0m\u001b[0mi\u001b[0m\u001b[0;34m,\u001b[0m\u001b[0mlabel\u001b[0m\u001b[0;34m,\u001b[0m\u001b[0mtotal\u001b[0m\u001b[0;34m[\u001b[0m\u001b[0mi\u001b[0m\u001b[0;34m]\u001b[0m\u001b[0;34m.\u001b[0m\u001b[0mcoef\u001b[0m\u001b[0;34m)\u001b[0m\u001b[0;34m+\u001b[0m\u001b[0mdiagram_as_trace_string\u001b[0m\u001b[0;34m(\u001b[0m\u001b[0mtotal\u001b[0m\u001b[0;34m[\u001b[0m\u001b[0mi\u001b[0m\u001b[0;34m]\u001b[0m\u001b[0;34m)\u001b[0m\u001b[0;34m\u001b[0m\u001b[0;34m\u001b[0m\u001b[0m\n\u001b[0m\u001b[1;32m      4\u001b[0m     \u001b[0;32mif\u001b[0m\u001b[0;34m(\u001b[0m\u001b[0mi\u001b[0m\u001b[0;34m!=\u001b[0m\u001b[0mlen\u001b[0m\u001b[0;34m(\u001b[0m\u001b[0mtopSorted\u001b[0m\u001b[0;34m.\u001b[0m\u001b[0mitems\u001b[0m\u001b[0;34m(\u001b[0m\u001b[0;34m)\u001b[0m\u001b[0;34m)\u001b[0m\u001b[0;34m-\u001b[0m\u001b[0;36m1\u001b[0m\u001b[0;34m)\u001b[0m\u001b[0;34m:\u001b[0m\u001b[0;34m\u001b[0m\u001b[0;34m\u001b[0m\u001b[0m\n\u001b[1;32m      5\u001b[0m         \u001b[0ms\u001b[0m\u001b[0;34m+=\u001b[0m\u001b[0;34m'\\\\\\\\'\u001b[0m\u001b[0;34m\u001b[0m\u001b[0;34m\u001b[0m\u001b[0m\n",
      "\u001b[0;32m~/Code/LatticeQCD/4PointFunctions/tracing.py\u001b[0m in \u001b[0;36mdiagram_as_trace_string\u001b[0;34m(d)\u001b[0m\n\u001b[1;32m      9\u001b[0m \u001b[0;34m\u001b[0m\u001b[0m\n\u001b[1;32m     10\u001b[0m     \u001b[0;31m# Start with the first prop.\u001b[0m\u001b[0;34m\u001b[0m\u001b[0;34m\u001b[0m\u001b[0;34m\u001b[0m\u001b[0m\n\u001b[0;32m---> 11\u001b[0;31m     \u001b[0ms\u001b[0m\u001b[0;34m+=\u001b[0m\u001b[0mtraced_prop_name\u001b[0m\u001b[0;34m(\u001b[0m\u001b[0mtst\u001b[0m\u001b[0;34m.\u001b[0m\u001b[0mprops\u001b[0m\u001b[0;34m[\u001b[0m\u001b[0;36m0\u001b[0m\u001b[0;34m]\u001b[0m\u001b[0;34m)\u001b[0m\u001b[0;34m\u001b[0m\u001b[0;34m\u001b[0m\u001b[0m\n\u001b[0m\u001b[1;32m     12\u001b[0m \u001b[0;34m\u001b[0m\u001b[0m\n\u001b[1;32m     13\u001b[0m     \u001b[0mlastProp\u001b[0m\u001b[0;34m=\u001b[0m\u001b[0mcopy\u001b[0m\u001b[0;34m.\u001b[0m\u001b[0mdeepcopy\u001b[0m\u001b[0;34m(\u001b[0m\u001b[0mtst\u001b[0m\u001b[0;34m.\u001b[0m\u001b[0mprops\u001b[0m\u001b[0;34m[\u001b[0m\u001b[0;36m0\u001b[0m\u001b[0;34m]\u001b[0m\u001b[0;34m)\u001b[0m\u001b[0;34m\u001b[0m\u001b[0;34m\u001b[0m\u001b[0m\n",
      "\u001b[0;31mNameError\u001b[0m: name 'tst' is not defined"
     ]
    }
   ],
   "source": [
    "print('\\\\beqs')\n",
    "for i,label in topSorted.items():\n",
    "    s='d_{{{}}}^{{\\\\text{{{}}}}}={}\\,'.format(i,label,total[i].coef)+diagram_as_trace_string(total[i])\n",
    "    if(i!=len(topSorted.items())-1):\n",
    "        s+='\\\\\\\\'\n",
    "    print(s)\n",
    "print('\\\\eeqs')"
   ]
  },
  {
   "cell_type": "code",
   "execution_count": null,
   "metadata": {},
   "outputs": [],
   "source": []
  },
  {
   "cell_type": "code",
   "execution_count": null,
   "metadata": {},
   "outputs": [],
   "source": []
  },
  {
   "cell_type": "code",
   "execution_count": null,
   "metadata": {},
   "outputs": [],
   "source": []
  }
 ],
 "metadata": {
  "kernelspec": {
   "display_name": "Python [conda env:LQCD] *",
   "language": "python",
   "name": "conda-env-LQCD-py"
  },
  "language_info": {
   "codemirror_mode": {
    "name": "ipython",
    "version": 3
   },
   "file_extension": ".py",
   "mimetype": "text/x-python",
   "name": "python",
   "nbconvert_exporter": "python",
   "pygments_lexer": "ipython3",
   "version": "3.8.5"
  }
 },
 "nbformat": 4,
 "nbformat_minor": 4
}
