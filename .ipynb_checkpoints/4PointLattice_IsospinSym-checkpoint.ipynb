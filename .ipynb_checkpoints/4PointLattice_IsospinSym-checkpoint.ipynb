{
 "cells": [
  {
   "cell_type": "code",
   "execution_count": 1,
   "metadata": {},
   "outputs": [],
   "source": [
    "import sys\n",
    "import os\n",
    "\n",
    "sys.path.append(os.getcwd()[:-9])\n",
    "\n",
    "import WickContractions\n",
    "\n",
    "from WickContractions.ops.operator import Operator\n",
    "from WickContractions.ops.elemental import ElementalOperator\n",
    "from WickContractions.ops.quarks import Quark\n",
    "from WickContractions.ops.indexed import IndexedObject\n",
    "from WickContractions.wick.contract import contract"
   ]
  },
  {
   "cell_type": "code",
   "execution_count": 2,
   "metadata": {},
   "outputs": [],
   "source": [
    "### WARNING: The times MUST be specified with a string that starts with 't_i'."
   ]
  },
  {
   "cell_type": "code",
   "execution_count": 26,
   "metadata": {},
   "outputs": [],
   "source": [
    "q0=Quark(True,'u','s_0','c_0','t_3','x_3')\n",
    "g0=IndexedObject('(\\\\gamma_5)',['s_0','s_1'])\n",
    "q1=Quark(False,'d','s_1','c_0','t_3','x_3')\n",
    "\n",
    "annihilate=Operator([ElementalOperator(+1,[g0],[q0,q1])])\n",
    "\n",
    "#TODO add charge factors qu and qd\n",
    "\n",
    "elementals=[]\n",
    "for pi2 in [['u',+2/3],['d',-1/3]]:                              # uu + dd\n",
    "    for pi1 in [['u',+2/3],['d',-1/3]]:                          # uu + dd \n",
    "        for dirpi2 in [-1,+1]:                               # eq 17 of notes\n",
    "            for dirpi1 in [-1,+1]:\n",
    "                q2=Quark(True,pi2[0],'s_2','c_1','t_2','x_2')\n",
    "                g1=IndexedObject('(1-\\\\gamma_{\\mu})',['s_2','s_3'])\n",
    "                g2=IndexedObject('U_{\\mu}(x_2)',['c_1','c_2'])\n",
    "                q3=Quark(False,pi2[0],'s_3','c_2','t_2+\\hat{\\mu}','x_2+\\\\hat{\\\\mu}')\n",
    "                q4=Quark(True,pi1[0],'s_4','c_3','t_1','x_1')\n",
    "                g3=IndexedObject('(1-\\\\gamma_{\\\\nu})',['s_4','s_5'])\n",
    "                g4=IndexedObject('U_{\\\\nu}(x_1)',['c_3','c_4'])\n",
    "                q5=Quark(False,pi1[0],'s_5','c_4','t_1+\\hat{\\\\nu}','x_1+\\\\hat{\\\\nu}')\n",
    "                if(dirpi1==-1):\n",
    "                    q2=Quark(True,pi2[0],'s_2','c_1','t_2','x_2')\n",
    "                    g1=IndexedObject('(1-\\\\gamma_{\\mu})',['s_2','s_3'])\n",
    "                    g2=IndexedObject('U_{\\mu}(x_2)',['c_1','c_2'])\n",
    "                    q3=Quark(False,pi2[0],'s_3','c_2','t_2+\\hat{\\mu}','x_2+\\\\hat{\\\\mu}')\n",
    "                elif(dirpi1==+1):\n",
    "                    q2=Quark(True,pi2[0],'s_2','c_1','t_2+\\hat{\\mu}','x_2+\\\\hat{\\\\mu}')\n",
    "                    g1=IndexedObject('(1+\\\\gamma_{\\mu})',['s_2','s_3'])\n",
    "                    g2=IndexedObject('U_{\\mu}^{\\dagger}(x_2)',['c_1','c_2'])\n",
    "                    q3=Quark(False,pi2[0],'s_3','c_2','t_2','x_2')\n",
    "    \n",
    "                if(dirpi2==-1):\n",
    "                    q4=Quark(True,pi1[0],'s_4','c_3','t_1','x_1')\n",
    "                    g3=IndexedObject('(1-\\\\gamma_{\\\\nu})',['s_4','s_5'])\n",
    "                    g4=IndexedObject('U_{\\\\nu}(x_1)',['c_3','c_4'])\n",
    "                    q5=Quark(False,pi1[0],'s_5','c_4','t_1+\\hat{\\\\nu}','x_1+\\\\hat{\\\\nu}')\n",
    "                    \n",
    "                elif(dirpi2==+1):\n",
    "                    q4=Quark(True,pi1[0],'s_4','c_3','t_1+\\hat{\\\\nu}','x_1+\\\\hat{\\\\nu}')\n",
    "                    g3=IndexedObject('(1+\\\\gamma_{\\\\nu})',['s_4','s_5'])\n",
    "                    g4=IndexedObject('U_{\\\\nu}^{\\dagger}(x_1)',['c_3','c_4'])\n",
    "                    q5=Quark(False,pi1[0],'s_5','c_4','t_1','x_1')\n",
    "        \n",
    "                # for printing out the insertion cleanly, just comment out this pion\n",
    "                # and uncomment out the block about insertion.\n",
    "                \n",
    "                q6=Quark(True,'d','s_6','c_5','t_0','x_0')\n",
    "                g5=IndexedObject('(\\\\gamma_5)',['s_6','s_7'])\n",
    "                q7=Quark(False,'u','s_7','c_5','t_0','x_0')\n",
    "                coef=pi1[1]*pi2[1]*dirpi1*dirpi2\n",
    "                elementals.append(ElementalOperator(-1*coef,[g1,g2,g3,g4,g5],[q2,q3,q4,q5,q6,q7]))\n",
    "                #elementals.append(ElementalOperator(coef,[g1,g2,g3,g4],[q2,q3,q4,q5]))\n",
    "        \n",
    "insertion=Operator(elementals)\n",
    "#s=''\n",
    "#for e in insertion.elementals:\n",
    "#    s+=str(e)+'\\\\\\\\'\n",
    "#print(s.replace('*',''))\n",
    "\n",
    "creation=Operator(elementals)"
   ]
  },
  {
   "cell_type": "code",
   "execution_count": 27,
   "metadata": {},
   "outputs": [
    {
     "name": "stdout",
     "output_type": "stream",
     "text": [
      "80\n"
     ]
    }
   ],
   "source": [
    "res=contract(annihilate,creation)\n",
    "print(len(res.diagrams))"
   ]
  },
  {
   "cell_type": "code",
   "execution_count": 28,
   "metadata": {},
   "outputs": [
    {
     "name": "stdout",
     "output_type": "stream",
     "text": [
      "80\n",
      "48\n",
      "4.0 (1-\\gamma_{\\mu})_{s_2 s_3}(1-\\gamma_{\\nu})_{s_4 s_5}(\\gamma_5)_{s_0 s_1}(\\gamma_5)_{s_6 s_7}U_{\\mu}(x_2)_{c_1 c_2}U_{\\nu}(x_1)_{c_3 c_4}D^{-1}(x_1+\\hat{\\nu},t_1+\\hat{\\nu}\\mid x_3,t_3)_{\\substack{s_5\\\\c_4}\\substack{s_0\\\\c_0}}D^{-1}(x_0,t_0\\mid x_2,t_2)_{\\substack{s_7\\\\c_5}\\substack{s_2\\\\c_1}}D^{-1}(x_2+\\hat{\\mu},t_2+\\hat{\\mu}\\mid x_1,t_1)_{\\substack{s_3\\\\c_2}\\substack{s_4\\\\c_3}}D^{-1}(x_3,t_3\\mid x_0,t_0)_{\\substack{s_1\\\\c_0}\\substack{s_6\\\\c_5}}\n"
     ]
    }
   ],
   "source": [
    "import copy\n",
    "from diagram_utils import combine_diagrams\n",
    "total=copy.deepcopy(res.diagrams)\n",
    "\n",
    "print(len(total))\n",
    "\n",
    "##you can take the isospin limit by setting 'd'='u'\n",
    "for d in total:\n",
    "    for p in d.props:\n",
    "        p.name = 'D^{-1}'\n",
    "        #p.name = 'S^'+p.name.split('_')[1]\n",
    "\n",
    "combine_diagrams(total)\n",
    "\n",
    "for d in total:\n",
    "    d.coef*=9\n",
    "        \n",
    "print(len(total))\n",
    "\n",
    "print(total[0])"
   ]
  },
  {
   "cell_type": "code",
   "execution_count": 29,
   "metadata": {},
   "outputs": [
    {
     "data": {
      "text/latex": [
       "$\\displaystyle d_{0}=4.0 D^{-1}(x_1+\\hax{\\nu}t_1+\\hat{\\nu}\\mid x_3t_3)_{\\substack{s_5\\\\c_4}\\substack{s_0\\\\c_0}}D^{-1}(x_0t_0\\mid x_2t_2)_{\\substack{s_7\\\\c_5}\\substack{s_2\\\\c_1}}D^{-1}(x_2+\\hax{\\mu}t_2+\\hat{\\mu}\\mid x_1t_1)_{\\substack{s_3\\\\c_2}\\substack{s_4\\\\c_3}}D^{-1}(x_3t_3\\mid x_0t_0)_{\\substack{s_1\\\\c_0}\\substack{s_6\\\\c_5}}['(1-\\\\gamma', '{\\\\mu})']['(1-\\\\gamma', '{\\\\nu})']['(\\\\gamma', '5)']['(\\\\gamma', '5)']['U', '{\\\\mu}(x', '2)']['U', '{\\\\nu}(x', '1)']\\\\$"
      ],
      "text/plain": [
       "<IPython.core.display.Math object>"
      ]
     },
     "metadata": {},
     "output_type": "display_data"
    }
   ],
   "source": [
    "from print_utilities import diagram_as_latex_str, labelled_diagram_as_latex_str\n",
    "from IPython.display import display, Math\n",
    "\n",
    "display(Math(diagram_as_latex_str(total[0],0)))"
   ]
  },
  {
   "cell_type": "code",
   "execution_count": 30,
   "metadata": {},
   "outputs": [],
   "source": [
    "from topologies import *\n",
    "\n",
    "topList=diagram_time_order(total)\n",
    "connect_times(topList)\n",
    "name_topologies(topList)"
   ]
  },
  {
   "cell_type": "code",
   "execution_count": 31,
   "metadata": {},
   "outputs": [
    {
     "name": "stdout",
     "output_type": "stream",
     "text": [
      "{16: 'A', 18: 'A', 20: 'A', 22: 'A', 8: 'A-bwd', 10: 'A-bwd', 12: 'A-bwd', 14: 'A-bwd', 1: 'B', 3: 'B', 5: 'B', 7: 'B', 25: 'B-bwd', 31: 'B-bwd', 37: 'B-bwd', 43: 'B-bwd', 0: 'C', 2: 'C', 4: 'C', 6: 'C', 27: 'C-bwd', 33: 'C-bwd', 39: 'C-bwd', 45: 'C-bwd', 28: 'D', 34: 'D', 40: 'D', 46: 'D', 17: 'El', 19: 'El', 21: 'El', 23: 'El', 24: 'El-bwd', 30: 'El-bwd', 36: 'El-bwd', 42: 'El-bwd', 9: 'Er', 11: 'Er', 13: 'Er', 15: 'Er', 26: 'Er-bwd', 32: 'Er-bwd', 38: 'Er-bwd', 44: 'Er-bwd', 29: 'F', 35: 'F', 41: 'F', 47: 'F'}\n"
     ]
    }
   ],
   "source": [
    "x=copy.deepcopy(topList)\n",
    "topSorted={k: v for k, v in sorted(x.items(), key=lambda item: item[1])}\n",
    "print(topSorted)"
   ]
  },
  {
   "cell_type": "code",
   "execution_count": 32,
   "metadata": {},
   "outputs": [
    {
     "data": {
      "text/latex": [
       "$\\displaystyle d_{0}^{\\text{(C)}}=4.0 D^{-1}(x_1+\\hax{\\nu}t_1+\\hat{\\nu}\\mid x_3t_3)_{\\substack{s_5\\\\c_4}\\substack{s_0\\\\c_0}}D^{-1}(x_0t_0\\mid x_2t_2)_{\\substack{s_7\\\\c_5}\\substack{s_2\\\\c_1}}D^{-1}(x_2+\\hax{\\mu}t_2+\\hat{\\mu}\\mid x_1t_1)_{\\substack{s_3\\\\c_2}\\substack{s_4\\\\c_3}}D^{-1}(x_3t_3\\mid x_0t_0)_{\\substack{s_1\\\\c_0}\\substack{s_6\\\\c_5}}['(1-\\\\gamma', '{\\\\mu})']['(1-\\\\gamma', '{\\\\nu})']['(\\\\gamma', '5)']['(\\\\gamma', '5)']['U', '{\\\\mu}(x', '2)']['U', '{\\\\nu}(x', '1)']\\\\$"
      ],
      "text/plain": [
       "<IPython.core.display.Math object>"
      ]
     },
     "metadata": {},
     "output_type": "display_data"
    }
   ],
   "source": [
    "from print_utilities import print_diagrams_labelled\n",
    "\n",
    "#for i,label in topSorted.items():\n",
    "display(Math(labelled_diagram_as_latex_str(total[0],0,topSorted[0])))"
   ]
  },
  {
   "cell_type": "code",
   "execution_count": 33,
   "metadata": {},
   "outputs": [
    {
     "name": "stdout",
     "output_type": "stream",
     "text": [
      "d_{16}^{\\text{A}}=-2.0 (1-\\gamma_{\\mu})_{s_2 s_3}(1-\\gamma_{\\nu})_{s_4 s_5}(\\gamma_5)_{s_0 s_1}(\\gamma_5)_{s_6 s_7}U_{\\mu}(x_2)_{c_1 c_2}U_{\\nu}(x_1)_{c_3 c_4}D^{-1}(x_1+\\hat{\\nu},t_1+\\hat{\\nu}\\mid x_3,t_3)_{\\substack{s_5\\\\c_4}\\substack{s_0\\\\c_0}}D^{-1}(x_3,t_3\\mid x_2,t_2)_{\\substack{s_1\\\\c_0}\\substack{s_2\\\\c_1}}D^{-1}(x_0,t_0\\mid x_1,t_1)_{\\substack{s_7\\\\c_5}\\substack{s_4\\\\c_3}}D^{-1}(x_2+\\hat{\\mu},t_2+\\hat{\\mu}\\mid x_0,t_0)_{\\substack{s_3\\\\c_2}\\substack{s_6\\\\c_5}}\\,\n",
      "d_{18}^{\\text{A}}=2.0 (1+\\gamma_{\\mu})_{s_2 s_3}(1-\\gamma_{\\nu})_{s_4 s_5}(\\gamma_5)_{s_0 s_1}(\\gamma_5)_{s_6 s_7}U_{\\mu}^{\\dagger}(x_2)_{c_1 c_2}U_{\\nu}(x_1)_{c_3 c_4}D^{-1}(x_1+\\hat{\\nu},t_1+\\hat{\\nu}\\mid x_3,t_3)_{\\substack{s_5\\\\c_4}\\substack{s_0\\\\c_0}}D^{-1}(x_3,t_3\\mid x_2+\\hat{\\mu},t_2+\\hat{\\mu})_{\\substack{s_1\\\\c_0}\\substack{s_2\\\\c_1}}D^{-1}(x_0,t_0\\mid x_1,t_1)_{\\substack{s_7\\\\c_5}\\substack{s_4\\\\c_3}}D^{-1}(x_2,t_2\\mid x_0,t_0)_{\\substack{s_3\\\\c_2}\\substack{s_6\\\\c_5}}\\,\n",
      "d_{20}^{\\text{A}}=2.0 (1+\\gamma_{\\nu})_{s_4 s_5}(1-\\gamma_{\\mu})_{s_2 s_3}(\\gamma_5)_{s_0 s_1}(\\gamma_5)_{s_6 s_7}U_{\\mu}(x_2)_{c_1 c_2}U_{\\nu}^{\\dagger}(x_1)_{c_3 c_4}D^{-1}(x_1,t_1\\mid x_3,t_3)_{\\substack{s_5\\\\c_4}\\substack{s_0\\\\c_0}}D^{-1}(x_3,t_3\\mid x_2,t_2)_{\\substack{s_1\\\\c_0}\\substack{s_2\\\\c_1}}D^{-1}(x_0,t_0\\mid x_1+\\hat{\\nu},t_1+\\hat{\\nu})_{\\substack{s_7\\\\c_5}\\substack{s_4\\\\c_3}}D^{-1}(x_2+\\hat{\\mu},t_2+\\hat{\\mu}\\mid x_0,t_0)_{\\substack{s_3\\\\c_2}\\substack{s_6\\\\c_5}}\\,\n",
      "d_{22}^{\\text{A}}=-2.0 (1+\\gamma_{\\mu})_{s_2 s_3}(1+\\gamma_{\\nu})_{s_4 s_5}(\\gamma_5)_{s_0 s_1}(\\gamma_5)_{s_6 s_7}U_{\\mu}^{\\dagger}(x_2)_{c_1 c_2}U_{\\nu}^{\\dagger}(x_1)_{c_3 c_4}D^{-1}(x_1,t_1\\mid x_3,t_3)_{\\substack{s_5\\\\c_4}\\substack{s_0\\\\c_0}}D^{-1}(x_3,t_3\\mid x_2+\\hat{\\mu},t_2+\\hat{\\mu})_{\\substack{s_1\\\\c_0}\\substack{s_2\\\\c_1}}D^{-1}(x_0,t_0\\mid x_1+\\hat{\\nu},t_1+\\hat{\\nu})_{\\substack{s_7\\\\c_5}\\substack{s_4\\\\c_3}}D^{-1}(x_2,t_2\\mid x_0,t_0)_{\\substack{s_3\\\\c_2}\\substack{s_6\\\\c_5}}\\,\n",
      "d_{8}^{\\text{A-bwd}}=-2.0 (1-\\gamma_{\\mu})_{s_2 s_3}(1-\\gamma_{\\nu})_{s_4 s_5}(\\gamma_5)_{s_0 s_1}(\\gamma_5)_{s_6 s_7}U_{\\mu}(x_2)_{c_1 c_2}U_{\\nu}(x_1)_{c_3 c_4}D^{-1}(x_2+\\hat{\\mu},t_2+\\hat{\\mu}\\mid x_3,t_3)_{\\substack{s_3\\\\c_2}\\substack{s_0\\\\c_0}}D^{-1}(x_0,t_0\\mid x_2,t_2)_{\\substack{s_7\\\\c_5}\\substack{s_2\\\\c_1}}D^{-1}(x_3,t_3\\mid x_1,t_1)_{\\substack{s_1\\\\c_0}\\substack{s_4\\\\c_3}}D^{-1}(x_1+\\hat{\\nu},t_1+\\hat{\\nu}\\mid x_0,t_0)_{\\substack{s_5\\\\c_4}\\substack{s_6\\\\c_5}}\\,\n",
      "d_{10}^{\\text{A-bwd}}=2.0 (1+\\gamma_{\\mu})_{s_2 s_3}(1-\\gamma_{\\nu})_{s_4 s_5}(\\gamma_5)_{s_0 s_1}(\\gamma_5)_{s_6 s_7}U_{\\mu}^{\\dagger}(x_2)_{c_1 c_2}U_{\\nu}(x_1)_{c_3 c_4}D^{-1}(x_2,t_2\\mid x_3,t_3)_{\\substack{s_3\\\\c_2}\\substack{s_0\\\\c_0}}D^{-1}(x_0,t_0\\mid x_2+\\hat{\\mu},t_2+\\hat{\\mu})_{\\substack{s_7\\\\c_5}\\substack{s_2\\\\c_1}}D^{-1}(x_3,t_3\\mid x_1,t_1)_{\\substack{s_1\\\\c_0}\\substack{s_4\\\\c_3}}D^{-1}(x_1+\\hat{\\nu},t_1+\\hat{\\nu}\\mid x_0,t_0)_{\\substack{s_5\\\\c_4}\\substack{s_6\\\\c_5}}\\,\n",
      "d_{12}^{\\text{A-bwd}}=2.0 (1+\\gamma_{\\nu})_{s_4 s_5}(1-\\gamma_{\\mu})_{s_2 s_3}(\\gamma_5)_{s_0 s_1}(\\gamma_5)_{s_6 s_7}U_{\\mu}(x_2)_{c_1 c_2}U_{\\nu}^{\\dagger}(x_1)_{c_3 c_4}D^{-1}(x_2+\\hat{\\mu},t_2+\\hat{\\mu}\\mid x_3,t_3)_{\\substack{s_3\\\\c_2}\\substack{s_0\\\\c_0}}D^{-1}(x_0,t_0\\mid x_2,t_2)_{\\substack{s_7\\\\c_5}\\substack{s_2\\\\c_1}}D^{-1}(x_3,t_3\\mid x_1+\\hat{\\nu},t_1+\\hat{\\nu})_{\\substack{s_1\\\\c_0}\\substack{s_4\\\\c_3}}D^{-1}(x_1,t_1\\mid x_0,t_0)_{\\substack{s_5\\\\c_4}\\substack{s_6\\\\c_5}}\\,\n",
      "d_{14}^{\\text{A-bwd}}=-2.0 (1+\\gamma_{\\mu})_{s_2 s_3}(1+\\gamma_{\\nu})_{s_4 s_5}(\\gamma_5)_{s_0 s_1}(\\gamma_5)_{s_6 s_7}U_{\\mu}^{\\dagger}(x_2)_{c_1 c_2}U_{\\nu}^{\\dagger}(x_1)_{c_3 c_4}D^{-1}(x_2,t_2\\mid x_3,t_3)_{\\substack{s_3\\\\c_2}\\substack{s_0\\\\c_0}}D^{-1}(x_0,t_0\\mid x_2+\\hat{\\mu},t_2+\\hat{\\mu})_{\\substack{s_7\\\\c_5}\\substack{s_2\\\\c_1}}D^{-1}(x_3,t_3\\mid x_1+\\hat{\\nu},t_1+\\hat{\\nu})_{\\substack{s_1\\\\c_0}\\substack{s_4\\\\c_3}}D^{-1}(x_1,t_1\\mid x_0,t_0)_{\\substack{s_5\\\\c_4}\\substack{s_6\\\\c_5}}\\,\n",
      "d_{1}^{\\text{B}}=4.0 (1-\\gamma_{\\mu})_{s_2 s_3}(1-\\gamma_{\\nu})_{s_4 s_5}(\\gamma_5)_{s_0 s_1}(\\gamma_5)_{s_6 s_7}U_{\\mu}(x_2)_{c_1 c_2}U_{\\nu}(x_1)_{c_3 c_4}D^{-1}(x_2+\\hat{\\mu},t_2+\\hat{\\mu}\\mid x_3,t_3)_{\\substack{s_3\\\\c_2}\\substack{s_0\\\\c_0}}D^{-1}(x_1+\\hat{\\nu},t_1+\\hat{\\nu}\\mid x_2,t_2)_{\\substack{s_5\\\\c_4}\\substack{s_2\\\\c_1}}D^{-1}(x_0,t_0\\mid x_1,t_1)_{\\substack{s_7\\\\c_5}\\substack{s_4\\\\c_3}}D^{-1}(x_3,t_3\\mid x_0,t_0)_{\\substack{s_1\\\\c_0}\\substack{s_6\\\\c_5}}\\,\n",
      "d_{3}^{\\text{B}}=-4.0 (1+\\gamma_{\\mu})_{s_2 s_3}(1-\\gamma_{\\nu})_{s_4 s_5}(\\gamma_5)_{s_0 s_1}(\\gamma_5)_{s_6 s_7}U_{\\mu}^{\\dagger}(x_2)_{c_1 c_2}U_{\\nu}(x_1)_{c_3 c_4}D^{-1}(x_2,t_2\\mid x_3,t_3)_{\\substack{s_3\\\\c_2}\\substack{s_0\\\\c_0}}D^{-1}(x_1+\\hat{\\nu},t_1+\\hat{\\nu}\\mid x_2+\\hat{\\mu},t_2+\\hat{\\mu})_{\\substack{s_5\\\\c_4}\\substack{s_2\\\\c_1}}D^{-1}(x_0,t_0\\mid x_1,t_1)_{\\substack{s_7\\\\c_5}\\substack{s_4\\\\c_3}}D^{-1}(x_3,t_3\\mid x_0,t_0)_{\\substack{s_1\\\\c_0}\\substack{s_6\\\\c_5}}\\,\n",
      "d_{5}^{\\text{B}}=-4.0 (1+\\gamma_{\\nu})_{s_4 s_5}(1-\\gamma_{\\mu})_{s_2 s_3}(\\gamma_5)_{s_0 s_1}(\\gamma_5)_{s_6 s_7}U_{\\mu}(x_2)_{c_1 c_2}U_{\\nu}^{\\dagger}(x_1)_{c_3 c_4}D^{-1}(x_2+\\hat{\\mu},t_2+\\hat{\\mu}\\mid x_3,t_3)_{\\substack{s_3\\\\c_2}\\substack{s_0\\\\c_0}}D^{-1}(x_1,t_1\\mid x_2,t_2)_{\\substack{s_5\\\\c_4}\\substack{s_2\\\\c_1}}D^{-1}(x_0,t_0\\mid x_1+\\hat{\\nu},t_1+\\hat{\\nu})_{\\substack{s_7\\\\c_5}\\substack{s_4\\\\c_3}}D^{-1}(x_3,t_3\\mid x_0,t_0)_{\\substack{s_1\\\\c_0}\\substack{s_6\\\\c_5}}\\,\n",
      "d_{7}^{\\text{B}}=4.0 (1+\\gamma_{\\mu})_{s_2 s_3}(1+\\gamma_{\\nu})_{s_4 s_5}(\\gamma_5)_{s_0 s_1}(\\gamma_5)_{s_6 s_7}U_{\\mu}^{\\dagger}(x_2)_{c_1 c_2}U_{\\nu}^{\\dagger}(x_1)_{c_3 c_4}D^{-1}(x_2,t_2\\mid x_3,t_3)_{\\substack{s_3\\\\c_2}\\substack{s_0\\\\c_0}}D^{-1}(x_1,t_1\\mid x_2+\\hat{\\mu},t_2+\\hat{\\mu})_{\\substack{s_5\\\\c_4}\\substack{s_2\\\\c_1}}D^{-1}(x_0,t_0\\mid x_1+\\hat{\\nu},t_1+\\hat{\\nu})_{\\substack{s_7\\\\c_5}\\substack{s_4\\\\c_3}}D^{-1}(x_3,t_3\\mid x_0,t_0)_{\\substack{s_1\\\\c_0}\\substack{s_6\\\\c_5}}\\,\n",
      "d_{25}^{\\text{B-bwd}}=1.0 (1-\\gamma_{\\mu})_{s_2 s_3}(1-\\gamma_{\\nu})_{s_4 s_5}(\\gamma_5)_{s_0 s_1}(\\gamma_5)_{s_6 s_7}U_{\\mu}(x_2)_{c_1 c_2}U_{\\nu}(x_1)_{c_3 c_4}D^{-1}(x_0,t_0\\mid x_3,t_3)_{\\substack{s_7\\\\c_5}\\substack{s_0\\\\c_0}}D^{-1}(x_3,t_3\\mid x_2,t_2)_{\\substack{s_1\\\\c_0}\\substack{s_2\\\\c_1}}D^{-1}(x_2+\\hat{\\mu},t_2+\\hat{\\mu}\\mid x_1,t_1)_{\\substack{s_3\\\\c_2}\\substack{s_4\\\\c_3}}D^{-1}(x_1+\\hat{\\nu},t_1+\\hat{\\nu}\\mid x_0,t_0)_{\\substack{s_5\\\\c_4}\\substack{s_6\\\\c_5}}\\,\n",
      "d_{31}^{\\text{B-bwd}}=-1.0 (1+\\gamma_{\\mu})_{s_2 s_3}(1-\\gamma_{\\nu})_{s_4 s_5}(\\gamma_5)_{s_0 s_1}(\\gamma_5)_{s_6 s_7}U_{\\mu}^{\\dagger}(x_2)_{c_1 c_2}U_{\\nu}(x_1)_{c_3 c_4}D^{-1}(x_0,t_0\\mid x_3,t_3)_{\\substack{s_7\\\\c_5}\\substack{s_0\\\\c_0}}D^{-1}(x_3,t_3\\mid x_2+\\hat{\\mu},t_2+\\hat{\\mu})_{\\substack{s_1\\\\c_0}\\substack{s_2\\\\c_1}}D^{-1}(x_2,t_2\\mid x_1,t_1)_{\\substack{s_3\\\\c_2}\\substack{s_4\\\\c_3}}D^{-1}(x_1+\\hat{\\nu},t_1+\\hat{\\nu}\\mid x_0,t_0)_{\\substack{s_5\\\\c_4}\\substack{s_6\\\\c_5}}\\,\n",
      "d_{37}^{\\text{B-bwd}}=-1.0 (1+\\gamma_{\\nu})_{s_4 s_5}(1-\\gamma_{\\mu})_{s_2 s_3}(\\gamma_5)_{s_0 s_1}(\\gamma_5)_{s_6 s_7}U_{\\mu}(x_2)_{c_1 c_2}U_{\\nu}^{\\dagger}(x_1)_{c_3 c_4}D^{-1}(x_0,t_0\\mid x_3,t_3)_{\\substack{s_7\\\\c_5}\\substack{s_0\\\\c_0}}D^{-1}(x_3,t_3\\mid x_2,t_2)_{\\substack{s_1\\\\c_0}\\substack{s_2\\\\c_1}}D^{-1}(x_2+\\hat{\\mu},t_2+\\hat{\\mu}\\mid x_1+\\hat{\\nu},t_1+\\hat{\\nu})_{\\substack{s_3\\\\c_2}\\substack{s_4\\\\c_3}}D^{-1}(x_1,t_1\\mid x_0,t_0)_{\\substack{s_5\\\\c_4}\\substack{s_6\\\\c_5}}\\,\n",
      "d_{43}^{\\text{B-bwd}}=1.0 (1+\\gamma_{\\mu})_{s_2 s_3}(1+\\gamma_{\\nu})_{s_4 s_5}(\\gamma_5)_{s_0 s_1}(\\gamma_5)_{s_6 s_7}U_{\\mu}^{\\dagger}(x_2)_{c_1 c_2}U_{\\nu}^{\\dagger}(x_1)_{c_3 c_4}D^{-1}(x_0,t_0\\mid x_3,t_3)_{\\substack{s_7\\\\c_5}\\substack{s_0\\\\c_0}}D^{-1}(x_3,t_3\\mid x_2+\\hat{\\mu},t_2+\\hat{\\mu})_{\\substack{s_1\\\\c_0}\\substack{s_2\\\\c_1}}D^{-1}(x_2,t_2\\mid x_1+\\hat{\\nu},t_1+\\hat{\\nu})_{\\substack{s_3\\\\c_2}\\substack{s_4\\\\c_3}}D^{-1}(x_1,t_1\\mid x_0,t_0)_{\\substack{s_5\\\\c_4}\\substack{s_6\\\\c_5}}\\,\n",
      "d_{0}^{\\text{C}}=4.0 (1-\\gamma_{\\mu})_{s_2 s_3}(1-\\gamma_{\\nu})_{s_4 s_5}(\\gamma_5)_{s_0 s_1}(\\gamma_5)_{s_6 s_7}U_{\\mu}(x_2)_{c_1 c_2}U_{\\nu}(x_1)_{c_3 c_4}D^{-1}(x_1+\\hat{\\nu},t_1+\\hat{\\nu}\\mid x_3,t_3)_{\\substack{s_5\\\\c_4}\\substack{s_0\\\\c_0}}D^{-1}(x_0,t_0\\mid x_2,t_2)_{\\substack{s_7\\\\c_5}\\substack{s_2\\\\c_1}}D^{-1}(x_2+\\hat{\\mu},t_2+\\hat{\\mu}\\mid x_1,t_1)_{\\substack{s_3\\\\c_2}\\substack{s_4\\\\c_3}}D^{-1}(x_3,t_3\\mid x_0,t_0)_{\\substack{s_1\\\\c_0}\\substack{s_6\\\\c_5}}\\,\n",
      "d_{2}^{\\text{C}}=-4.0 (1+\\gamma_{\\mu})_{s_2 s_3}(1-\\gamma_{\\nu})_{s_4 s_5}(\\gamma_5)_{s_0 s_1}(\\gamma_5)_{s_6 s_7}U_{\\mu}^{\\dagger}(x_2)_{c_1 c_2}U_{\\nu}(x_1)_{c_3 c_4}D^{-1}(x_1+\\hat{\\nu},t_1+\\hat{\\nu}\\mid x_3,t_3)_{\\substack{s_5\\\\c_4}\\substack{s_0\\\\c_0}}D^{-1}(x_0,t_0\\mid x_2+\\hat{\\mu},t_2+\\hat{\\mu})_{\\substack{s_7\\\\c_5}\\substack{s_2\\\\c_1}}D^{-1}(x_2,t_2\\mid x_1,t_1)_{\\substack{s_3\\\\c_2}\\substack{s_4\\\\c_3}}D^{-1}(x_3,t_3\\mid x_0,t_0)_{\\substack{s_1\\\\c_0}\\substack{s_6\\\\c_5}}\\,\n",
      "d_{4}^{\\text{C}}=-4.0 (1+\\gamma_{\\nu})_{s_4 s_5}(1-\\gamma_{\\mu})_{s_2 s_3}(\\gamma_5)_{s_0 s_1}(\\gamma_5)_{s_6 s_7}U_{\\mu}(x_2)_{c_1 c_2}U_{\\nu}^{\\dagger}(x_1)_{c_3 c_4}D^{-1}(x_1,t_1\\mid x_3,t_3)_{\\substack{s_5\\\\c_4}\\substack{s_0\\\\c_0}}D^{-1}(x_0,t_0\\mid x_2,t_2)_{\\substack{s_7\\\\c_5}\\substack{s_2\\\\c_1}}D^{-1}(x_2+\\hat{\\mu},t_2+\\hat{\\mu}\\mid x_1+\\hat{\\nu},t_1+\\hat{\\nu})_{\\substack{s_3\\\\c_2}\\substack{s_4\\\\c_3}}D^{-1}(x_3,t_3\\mid x_0,t_0)_{\\substack{s_1\\\\c_0}\\substack{s_6\\\\c_5}}\\,\n",
      "d_{6}^{\\text{C}}=4.0 (1+\\gamma_{\\mu})_{s_2 s_3}(1+\\gamma_{\\nu})_{s_4 s_5}(\\gamma_5)_{s_0 s_1}(\\gamma_5)_{s_6 s_7}U_{\\mu}^{\\dagger}(x_2)_{c_1 c_2}U_{\\nu}^{\\dagger}(x_1)_{c_3 c_4}D^{-1}(x_1,t_1\\mid x_3,t_3)_{\\substack{s_5\\\\c_4}\\substack{s_0\\\\c_0}}D^{-1}(x_0,t_0\\mid x_2+\\hat{\\mu},t_2+\\hat{\\mu})_{\\substack{s_7\\\\c_5}\\substack{s_2\\\\c_1}}D^{-1}(x_2,t_2\\mid x_1+\\hat{\\nu},t_1+\\hat{\\nu})_{\\substack{s_3\\\\c_2}\\substack{s_4\\\\c_3}}D^{-1}(x_3,t_3\\mid x_0,t_0)_{\\substack{s_1\\\\c_0}\\substack{s_6\\\\c_5}}\\,\n",
      "d_{27}^{\\text{C-bwd}}=1.0 (1-\\gamma_{\\mu})_{s_2 s_3}(1-\\gamma_{\\nu})_{s_4 s_5}(\\gamma_5)_{s_0 s_1}(\\gamma_5)_{s_6 s_7}U_{\\mu}(x_2)_{c_1 c_2}U_{\\nu}(x_1)_{c_3 c_4}D^{-1}(x_0,t_0\\mid x_3,t_3)_{\\substack{s_7\\\\c_5}\\substack{s_0\\\\c_0}}D^{-1}(x_1+\\hat{\\nu},t_1+\\hat{\\nu}\\mid x_2,t_2)_{\\substack{s_5\\\\c_4}\\substack{s_2\\\\c_1}}D^{-1}(x_3,t_3\\mid x_1,t_1)_{\\substack{s_1\\\\c_0}\\substack{s_4\\\\c_3}}D^{-1}(x_2+\\hat{\\mu},t_2+\\hat{\\mu}\\mid x_0,t_0)_{\\substack{s_3\\\\c_2}\\substack{s_6\\\\c_5}}\\,\n",
      "d_{33}^{\\text{C-bwd}}=-1.0 (1+\\gamma_{\\mu})_{s_2 s_3}(1-\\gamma_{\\nu})_{s_4 s_5}(\\gamma_5)_{s_0 s_1}(\\gamma_5)_{s_6 s_7}U_{\\mu}^{\\dagger}(x_2)_{c_1 c_2}U_{\\nu}(x_1)_{c_3 c_4}D^{-1}(x_0,t_0\\mid x_3,t_3)_{\\substack{s_7\\\\c_5}\\substack{s_0\\\\c_0}}D^{-1}(x_1+\\hat{\\nu},t_1+\\hat{\\nu}\\mid x_2+\\hat{\\mu},t_2+\\hat{\\mu})_{\\substack{s_5\\\\c_4}\\substack{s_2\\\\c_1}}D^{-1}(x_3,t_3\\mid x_1,t_1)_{\\substack{s_1\\\\c_0}\\substack{s_4\\\\c_3}}D^{-1}(x_2,t_2\\mid x_0,t_0)_{\\substack{s_3\\\\c_2}\\substack{s_6\\\\c_5}}\\,\n",
      "d_{39}^{\\text{C-bwd}}=-1.0 (1+\\gamma_{\\nu})_{s_4 s_5}(1-\\gamma_{\\mu})_{s_2 s_3}(\\gamma_5)_{s_0 s_1}(\\gamma_5)_{s_6 s_7}U_{\\mu}(x_2)_{c_1 c_2}U_{\\nu}^{\\dagger}(x_1)_{c_3 c_4}D^{-1}(x_0,t_0\\mid x_3,t_3)_{\\substack{s_7\\\\c_5}\\substack{s_0\\\\c_0}}D^{-1}(x_1,t_1\\mid x_2,t_2)_{\\substack{s_5\\\\c_4}\\substack{s_2\\\\c_1}}D^{-1}(x_3,t_3\\mid x_1+\\hat{\\nu},t_1+\\hat{\\nu})_{\\substack{s_1\\\\c_0}\\substack{s_4\\\\c_3}}D^{-1}(x_2+\\hat{\\mu},t_2+\\hat{\\mu}\\mid x_0,t_0)_{\\substack{s_3\\\\c_2}\\substack{s_6\\\\c_5}}\\,\n",
      "d_{45}^{\\text{C-bwd}}=1.0 (1+\\gamma_{\\mu})_{s_2 s_3}(1+\\gamma_{\\nu})_{s_4 s_5}(\\gamma_5)_{s_0 s_1}(\\gamma_5)_{s_6 s_7}U_{\\mu}^{\\dagger}(x_2)_{c_1 c_2}U_{\\nu}^{\\dagger}(x_1)_{c_3 c_4}D^{-1}(x_0,t_0\\mid x_3,t_3)_{\\substack{s_7\\\\c_5}\\substack{s_0\\\\c_0}}D^{-1}(x_1,t_1\\mid x_2+\\hat{\\mu},t_2+\\hat{\\mu})_{\\substack{s_5\\\\c_4}\\substack{s_2\\\\c_1}}D^{-1}(x_3,t_3\\mid x_1+\\hat{\\nu},t_1+\\hat{\\nu})_{\\substack{s_1\\\\c_0}\\substack{s_4\\\\c_3}}D^{-1}(x_2,t_2\\mid x_0,t_0)_{\\substack{s_3\\\\c_2}\\substack{s_6\\\\c_5}}\\,\n",
      "d_{28}^{\\text{D}}=-5.0 (1-\\gamma_{\\mu})_{s_2 s_3}(1-\\gamma_{\\nu})_{s_4 s_5}(\\gamma_5)_{s_0 s_1}(\\gamma_5)_{s_6 s_7}U_{\\mu}(x_2)_{c_1 c_2}U_{\\nu}(x_1)_{c_3 c_4}D^{-1}(x_0,t_0\\mid x_3,t_3)_{\\substack{s_7\\\\c_5}\\substack{s_0\\\\c_0}}D^{-1}(x_1+\\hat{\\nu},t_1+\\hat{\\nu}\\mid x_2,t_2)_{\\substack{s_5\\\\c_4}\\substack{s_2\\\\c_1}}D^{-1}(x_2+\\hat{\\mu},t_2+\\hat{\\mu}\\mid x_1,t_1)_{\\substack{s_3\\\\c_2}\\substack{s_4\\\\c_3}}D^{-1}(x_3,t_3\\mid x_0,t_0)_{\\substack{s_1\\\\c_0}\\substack{s_6\\\\c_5}}\\,\n",
      "d_{34}^{\\text{D}}=5.0 (1+\\gamma_{\\mu})_{s_2 s_3}(1-\\gamma_{\\nu})_{s_4 s_5}(\\gamma_5)_{s_0 s_1}(\\gamma_5)_{s_6 s_7}U_{\\mu}^{\\dagger}(x_2)_{c_1 c_2}U_{\\nu}(x_1)_{c_3 c_4}D^{-1}(x_0,t_0\\mid x_3,t_3)_{\\substack{s_7\\\\c_5}\\substack{s_0\\\\c_0}}D^{-1}(x_1+\\hat{\\nu},t_1+\\hat{\\nu}\\mid x_2+\\hat{\\mu},t_2+\\hat{\\mu})_{\\substack{s_5\\\\c_4}\\substack{s_2\\\\c_1}}D^{-1}(x_2,t_2\\mid x_1,t_1)_{\\substack{s_3\\\\c_2}\\substack{s_4\\\\c_3}}D^{-1}(x_3,t_3\\mid x_0,t_0)_{\\substack{s_1\\\\c_0}\\substack{s_6\\\\c_5}}\\,\n",
      "d_{40}^{\\text{D}}=5.0 (1+\\gamma_{\\nu})_{s_4 s_5}(1-\\gamma_{\\mu})_{s_2 s_3}(\\gamma_5)_{s_0 s_1}(\\gamma_5)_{s_6 s_7}U_{\\mu}(x_2)_{c_1 c_2}U_{\\nu}^{\\dagger}(x_1)_{c_3 c_4}D^{-1}(x_0,t_0\\mid x_3,t_3)_{\\substack{s_7\\\\c_5}\\substack{s_0\\\\c_0}}D^{-1}(x_1,t_1\\mid x_2,t_2)_{\\substack{s_5\\\\c_4}\\substack{s_2\\\\c_1}}D^{-1}(x_2+\\hat{\\mu},t_2+\\hat{\\mu}\\mid x_1+\\hat{\\nu},t_1+\\hat{\\nu})_{\\substack{s_3\\\\c_2}\\substack{s_4\\\\c_3}}D^{-1}(x_3,t_3\\mid x_0,t_0)_{\\substack{s_1\\\\c_0}\\substack{s_6\\\\c_5}}\\,\n",
      "d_{46}^{\\text{D}}=-5.0 (1+\\gamma_{\\mu})_{s_2 s_3}(1+\\gamma_{\\nu})_{s_4 s_5}(\\gamma_5)_{s_0 s_1}(\\gamma_5)_{s_6 s_7}U_{\\mu}^{\\dagger}(x_2)_{c_1 c_2}U_{\\nu}^{\\dagger}(x_1)_{c_3 c_4}D^{-1}(x_0,t_0\\mid x_3,t_3)_{\\substack{s_7\\\\c_5}\\substack{s_0\\\\c_0}}D^{-1}(x_1,t_1\\mid x_2+\\hat{\\mu},t_2+\\hat{\\mu})_{\\substack{s_5\\\\c_4}\\substack{s_2\\\\c_1}}D^{-1}(x_2,t_2\\mid x_1+\\hat{\\nu},t_1+\\hat{\\nu})_{\\substack{s_3\\\\c_2}\\substack{s_4\\\\c_3}}D^{-1}(x_3,t_3\\mid x_0,t_0)_{\\substack{s_1\\\\c_0}\\substack{s_6\\\\c_5}}\\,\n",
      "d_{17}^{\\text{El}}=-2.0 (1-\\gamma_{\\mu})_{s_2 s_3}(1-\\gamma_{\\nu})_{s_4 s_5}(\\gamma_5)_{s_0 s_1}(\\gamma_5)_{s_6 s_7}U_{\\mu}(x_2)_{c_1 c_2}U_{\\nu}(x_1)_{c_3 c_4}D^{-1}(x_1+\\hat{\\nu},t_1+\\hat{\\nu}\\mid x_3,t_3)_{\\substack{s_5\\\\c_4}\\substack{s_0\\\\c_0}}D^{-1}(x_2+\\hat{\\mu},t_2+\\hat{\\mu}\\mid x_2,t_2)_{\\substack{s_3\\\\c_2}\\substack{s_2\\\\c_1}}D^{-1}(x_0,t_0\\mid x_1,t_1)_{\\substack{s_7\\\\c_5}\\substack{s_4\\\\c_3}}D^{-1}(x_3,t_3\\mid x_0,t_0)_{\\substack{s_1\\\\c_0}\\substack{s_6\\\\c_5}}\\,\n",
      "d_{19}^{\\text{El}}=2.0 (1+\\gamma_{\\mu})_{s_2 s_3}(1-\\gamma_{\\nu})_{s_4 s_5}(\\gamma_5)_{s_0 s_1}(\\gamma_5)_{s_6 s_7}U_{\\mu}^{\\dagger}(x_2)_{c_1 c_2}U_{\\nu}(x_1)_{c_3 c_4}D^{-1}(x_1+\\hat{\\nu},t_1+\\hat{\\nu}\\mid x_3,t_3)_{\\substack{s_5\\\\c_4}\\substack{s_0\\\\c_0}}D^{-1}(x_2,t_2\\mid x_2+\\hat{\\mu},t_2+\\hat{\\mu})_{\\substack{s_3\\\\c_2}\\substack{s_2\\\\c_1}}D^{-1}(x_0,t_0\\mid x_1,t_1)_{\\substack{s_7\\\\c_5}\\substack{s_4\\\\c_3}}D^{-1}(x_3,t_3\\mid x_0,t_0)_{\\substack{s_1\\\\c_0}\\substack{s_6\\\\c_5}}\\,\n",
      "d_{21}^{\\text{El}}=2.0 (1+\\gamma_{\\nu})_{s_4 s_5}(1-\\gamma_{\\mu})_{s_2 s_3}(\\gamma_5)_{s_0 s_1}(\\gamma_5)_{s_6 s_7}U_{\\mu}(x_2)_{c_1 c_2}U_{\\nu}^{\\dagger}(x_1)_{c_3 c_4}D^{-1}(x_1,t_1\\mid x_3,t_3)_{\\substack{s_5\\\\c_4}\\substack{s_0\\\\c_0}}D^{-1}(x_2+\\hat{\\mu},t_2+\\hat{\\mu}\\mid x_2,t_2)_{\\substack{s_3\\\\c_2}\\substack{s_2\\\\c_1}}D^{-1}(x_0,t_0\\mid x_1+\\hat{\\nu},t_1+\\hat{\\nu})_{\\substack{s_7\\\\c_5}\\substack{s_4\\\\c_3}}D^{-1}(x_3,t_3\\mid x_0,t_0)_{\\substack{s_1\\\\c_0}\\substack{s_6\\\\c_5}}\\,\n",
      "d_{23}^{\\text{El}}=-2.0 (1+\\gamma_{\\mu})_{s_2 s_3}(1+\\gamma_{\\nu})_{s_4 s_5}(\\gamma_5)_{s_0 s_1}(\\gamma_5)_{s_6 s_7}U_{\\mu}^{\\dagger}(x_2)_{c_1 c_2}U_{\\nu}^{\\dagger}(x_1)_{c_3 c_4}D^{-1}(x_1,t_1\\mid x_3,t_3)_{\\substack{s_5\\\\c_4}\\substack{s_0\\\\c_0}}D^{-1}(x_2,t_2\\mid x_2+\\hat{\\mu},t_2+\\hat{\\mu})_{\\substack{s_3\\\\c_2}\\substack{s_2\\\\c_1}}D^{-1}(x_0,t_0\\mid x_1+\\hat{\\nu},t_1+\\hat{\\nu})_{\\substack{s_7\\\\c_5}\\substack{s_4\\\\c_3}}D^{-1}(x_3,t_3\\mid x_0,t_0)_{\\substack{s_1\\\\c_0}\\substack{s_6\\\\c_5}}\\,\n",
      "d_{24}^{\\text{El-bwd}}=1.0 (1-\\gamma_{\\mu})_{s_2 s_3}(1-\\gamma_{\\nu})_{s_4 s_5}(\\gamma_5)_{s_0 s_1}(\\gamma_5)_{s_6 s_7}U_{\\mu}(x_2)_{c_1 c_2}U_{\\nu}(x_1)_{c_3 c_4}D^{-1}(x_0,t_0\\mid x_3,t_3)_{\\substack{s_7\\\\c_5}\\substack{s_0\\\\c_0}}D^{-1}(x_2+\\hat{\\mu},t_2+\\hat{\\mu}\\mid x_2,t_2)_{\\substack{s_3\\\\c_2}\\substack{s_2\\\\c_1}}D^{-1}(x_3,t_3\\mid x_1,t_1)_{\\substack{s_1\\\\c_0}\\substack{s_4\\\\c_3}}D^{-1}(x_1+\\hat{\\nu},t_1+\\hat{\\nu}\\mid x_0,t_0)_{\\substack{s_5\\\\c_4}\\substack{s_6\\\\c_5}}\\,\n",
      "d_{30}^{\\text{El-bwd}}=-1.0 (1+\\gamma_{\\mu})_{s_2 s_3}(1-\\gamma_{\\nu})_{s_4 s_5}(\\gamma_5)_{s_0 s_1}(\\gamma_5)_{s_6 s_7}U_{\\mu}^{\\dagger}(x_2)_{c_1 c_2}U_{\\nu}(x_1)_{c_3 c_4}D^{-1}(x_0,t_0\\mid x_3,t_3)_{\\substack{s_7\\\\c_5}\\substack{s_0\\\\c_0}}D^{-1}(x_2,t_2\\mid x_2+\\hat{\\mu},t_2+\\hat{\\mu})_{\\substack{s_3\\\\c_2}\\substack{s_2\\\\c_1}}D^{-1}(x_3,t_3\\mid x_1,t_1)_{\\substack{s_1\\\\c_0}\\substack{s_4\\\\c_3}}D^{-1}(x_1+\\hat{\\nu},t_1+\\hat{\\nu}\\mid x_0,t_0)_{\\substack{s_5\\\\c_4}\\substack{s_6\\\\c_5}}\\,\n",
      "d_{36}^{\\text{El-bwd}}=-1.0 (1+\\gamma_{\\nu})_{s_4 s_5}(1-\\gamma_{\\mu})_{s_2 s_3}(\\gamma_5)_{s_0 s_1}(\\gamma_5)_{s_6 s_7}U_{\\mu}(x_2)_{c_1 c_2}U_{\\nu}^{\\dagger}(x_1)_{c_3 c_4}D^{-1}(x_0,t_0\\mid x_3,t_3)_{\\substack{s_7\\\\c_5}\\substack{s_0\\\\c_0}}D^{-1}(x_2+\\hat{\\mu},t_2+\\hat{\\mu}\\mid x_2,t_2)_{\\substack{s_3\\\\c_2}\\substack{s_2\\\\c_1}}D^{-1}(x_3,t_3\\mid x_1+\\hat{\\nu},t_1+\\hat{\\nu})_{\\substack{s_1\\\\c_0}\\substack{s_4\\\\c_3}}D^{-1}(x_1,t_1\\mid x_0,t_0)_{\\substack{s_5\\\\c_4}\\substack{s_6\\\\c_5}}\\,\n",
      "d_{42}^{\\text{El-bwd}}=1.0 (1+\\gamma_{\\mu})_{s_2 s_3}(1+\\gamma_{\\nu})_{s_4 s_5}(\\gamma_5)_{s_0 s_1}(\\gamma_5)_{s_6 s_7}U_{\\mu}^{\\dagger}(x_2)_{c_1 c_2}U_{\\nu}^{\\dagger}(x_1)_{c_3 c_4}D^{-1}(x_0,t_0\\mid x_3,t_3)_{\\substack{s_7\\\\c_5}\\substack{s_0\\\\c_0}}D^{-1}(x_2,t_2\\mid x_2+\\hat{\\mu},t_2+\\hat{\\mu})_{\\substack{s_3\\\\c_2}\\substack{s_2\\\\c_1}}D^{-1}(x_3,t_3\\mid x_1+\\hat{\\nu},t_1+\\hat{\\nu})_{\\substack{s_1\\\\c_0}\\substack{s_4\\\\c_3}}D^{-1}(x_1,t_1\\mid x_0,t_0)_{\\substack{s_5\\\\c_4}\\substack{s_6\\\\c_5}}\\,\n",
      "d_{9}^{\\text{Er}}=-2.0 (1-\\gamma_{\\mu})_{s_2 s_3}(1-\\gamma_{\\nu})_{s_4 s_5}(\\gamma_5)_{s_0 s_1}(\\gamma_5)_{s_6 s_7}U_{\\mu}(x_2)_{c_1 c_2}U_{\\nu}(x_1)_{c_3 c_4}D^{-1}(x_2+\\hat{\\mu},t_2+\\hat{\\mu}\\mid x_3,t_3)_{\\substack{s_3\\\\c_2}\\substack{s_0\\\\c_0}}D^{-1}(x_0,t_0\\mid x_2,t_2)_{\\substack{s_7\\\\c_5}\\substack{s_2\\\\c_1}}D^{-1}(x_1+\\hat{\\nu},t_1+\\hat{\\nu}\\mid x_1,t_1)_{\\substack{s_5\\\\c_4}\\substack{s_4\\\\c_3}}D^{-1}(x_3,t_3\\mid x_0,t_0)_{\\substack{s_1\\\\c_0}\\substack{s_6\\\\c_5}}\\,\n",
      "d_{11}^{\\text{Er}}=2.0 (1+\\gamma_{\\mu})_{s_2 s_3}(1-\\gamma_{\\nu})_{s_4 s_5}(\\gamma_5)_{s_0 s_1}(\\gamma_5)_{s_6 s_7}U_{\\mu}^{\\dagger}(x_2)_{c_1 c_2}U_{\\nu}(x_1)_{c_3 c_4}D^{-1}(x_2,t_2\\mid x_3,t_3)_{\\substack{s_3\\\\c_2}\\substack{s_0\\\\c_0}}D^{-1}(x_0,t_0\\mid x_2+\\hat{\\mu},t_2+\\hat{\\mu})_{\\substack{s_7\\\\c_5}\\substack{s_2\\\\c_1}}D^{-1}(x_1+\\hat{\\nu},t_1+\\hat{\\nu}\\mid x_1,t_1)_{\\substack{s_5\\\\c_4}\\substack{s_4\\\\c_3}}D^{-1}(x_3,t_3\\mid x_0,t_0)_{\\substack{s_1\\\\c_0}\\substack{s_6\\\\c_5}}\\,\n",
      "d_{13}^{\\text{Er}}=2.0 (1+\\gamma_{\\nu})_{s_4 s_5}(1-\\gamma_{\\mu})_{s_2 s_3}(\\gamma_5)_{s_0 s_1}(\\gamma_5)_{s_6 s_7}U_{\\mu}(x_2)_{c_1 c_2}U_{\\nu}^{\\dagger}(x_1)_{c_3 c_4}D^{-1}(x_2+\\hat{\\mu},t_2+\\hat{\\mu}\\mid x_3,t_3)_{\\substack{s_3\\\\c_2}\\substack{s_0\\\\c_0}}D^{-1}(x_0,t_0\\mid x_2,t_2)_{\\substack{s_7\\\\c_5}\\substack{s_2\\\\c_1}}D^{-1}(x_1,t_1\\mid x_1+\\hat{\\nu},t_1+\\hat{\\nu})_{\\substack{s_5\\\\c_4}\\substack{s_4\\\\c_3}}D^{-1}(x_3,t_3\\mid x_0,t_0)_{\\substack{s_1\\\\c_0}\\substack{s_6\\\\c_5}}\\,\n",
      "d_{15}^{\\text{Er}}=-2.0 (1+\\gamma_{\\mu})_{s_2 s_3}(1+\\gamma_{\\nu})_{s_4 s_5}(\\gamma_5)_{s_0 s_1}(\\gamma_5)_{s_6 s_7}U_{\\mu}^{\\dagger}(x_2)_{c_1 c_2}U_{\\nu}^{\\dagger}(x_1)_{c_3 c_4}D^{-1}(x_2,t_2\\mid x_3,t_3)_{\\substack{s_3\\\\c_2}\\substack{s_0\\\\c_0}}D^{-1}(x_0,t_0\\mid x_2+\\hat{\\mu},t_2+\\hat{\\mu})_{\\substack{s_7\\\\c_5}\\substack{s_2\\\\c_1}}D^{-1}(x_1,t_1\\mid x_1+\\hat{\\nu},t_1+\\hat{\\nu})_{\\substack{s_5\\\\c_4}\\substack{s_4\\\\c_3}}D^{-1}(x_3,t_3\\mid x_0,t_0)_{\\substack{s_1\\\\c_0}\\substack{s_6\\\\c_5}}\\,\n",
      "d_{26}^{\\text{Er-bwd}}=1.0 (1-\\gamma_{\\mu})_{s_2 s_3}(1-\\gamma_{\\nu})_{s_4 s_5}(\\gamma_5)_{s_0 s_1}(\\gamma_5)_{s_6 s_7}U_{\\mu}(x_2)_{c_1 c_2}U_{\\nu}(x_1)_{c_3 c_4}D^{-1}(x_0,t_0\\mid x_3,t_3)_{\\substack{s_7\\\\c_5}\\substack{s_0\\\\c_0}}D^{-1}(x_3,t_3\\mid x_2,t_2)_{\\substack{s_1\\\\c_0}\\substack{s_2\\\\c_1}}D^{-1}(x_1+\\hat{\\nu},t_1+\\hat{\\nu}\\mid x_1,t_1)_{\\substack{s_5\\\\c_4}\\substack{s_4\\\\c_3}}D^{-1}(x_2+\\hat{\\mu},t_2+\\hat{\\mu}\\mid x_0,t_0)_{\\substack{s_3\\\\c_2}\\substack{s_6\\\\c_5}}\\,\n",
      "d_{32}^{\\text{Er-bwd}}=-1.0 (1+\\gamma_{\\mu})_{s_2 s_3}(1-\\gamma_{\\nu})_{s_4 s_5}(\\gamma_5)_{s_0 s_1}(\\gamma_5)_{s_6 s_7}U_{\\mu}^{\\dagger}(x_2)_{c_1 c_2}U_{\\nu}(x_1)_{c_3 c_4}D^{-1}(x_0,t_0\\mid x_3,t_3)_{\\substack{s_7\\\\c_5}\\substack{s_0\\\\c_0}}D^{-1}(x_3,t_3\\mid x_2+\\hat{\\mu},t_2+\\hat{\\mu})_{\\substack{s_1\\\\c_0}\\substack{s_2\\\\c_1}}D^{-1}(x_1+\\hat{\\nu},t_1+\\hat{\\nu}\\mid x_1,t_1)_{\\substack{s_5\\\\c_4}\\substack{s_4\\\\c_3}}D^{-1}(x_2,t_2\\mid x_0,t_0)_{\\substack{s_3\\\\c_2}\\substack{s_6\\\\c_5}}\\,\n",
      "d_{38}^{\\text{Er-bwd}}=-1.0 (1+\\gamma_{\\nu})_{s_4 s_5}(1-\\gamma_{\\mu})_{s_2 s_3}(\\gamma_5)_{s_0 s_1}(\\gamma_5)_{s_6 s_7}U_{\\mu}(x_2)_{c_1 c_2}U_{\\nu}^{\\dagger}(x_1)_{c_3 c_4}D^{-1}(x_0,t_0\\mid x_3,t_3)_{\\substack{s_7\\\\c_5}\\substack{s_0\\\\c_0}}D^{-1}(x_3,t_3\\mid x_2,t_2)_{\\substack{s_1\\\\c_0}\\substack{s_2\\\\c_1}}D^{-1}(x_1,t_1\\mid x_1+\\hat{\\nu},t_1+\\hat{\\nu})_{\\substack{s_5\\\\c_4}\\substack{s_4\\\\c_3}}D^{-1}(x_2+\\hat{\\mu},t_2+\\hat{\\mu}\\mid x_0,t_0)_{\\substack{s_3\\\\c_2}\\substack{s_6\\\\c_5}}\\,\n",
      "d_{44}^{\\text{Er-bwd}}=1.0 (1+\\gamma_{\\mu})_{s_2 s_3}(1+\\gamma_{\\nu})_{s_4 s_5}(\\gamma_5)_{s_0 s_1}(\\gamma_5)_{s_6 s_7}U_{\\mu}^{\\dagger}(x_2)_{c_1 c_2}U_{\\nu}^{\\dagger}(x_1)_{c_3 c_4}D^{-1}(x_0,t_0\\mid x_3,t_3)_{\\substack{s_7\\\\c_5}\\substack{s_0\\\\c_0}}D^{-1}(x_3,t_3\\mid x_2+\\hat{\\mu},t_2+\\hat{\\mu})_{\\substack{s_1\\\\c_0}\\substack{s_2\\\\c_1}}D^{-1}(x_1,t_1\\mid x_1+\\hat{\\nu},t_1+\\hat{\\nu})_{\\substack{s_5\\\\c_4}\\substack{s_4\\\\c_3}}D^{-1}(x_2,t_2\\mid x_0,t_0)_{\\substack{s_3\\\\c_2}\\substack{s_6\\\\c_5}}\\,\n",
      "d_{29}^{\\text{F}}=1.0 (1-\\gamma_{\\mu})_{s_2 s_3}(1-\\gamma_{\\nu})_{s_4 s_5}(\\gamma_5)_{s_0 s_1}(\\gamma_5)_{s_6 s_7}U_{\\mu}(x_2)_{c_1 c_2}U_{\\nu}(x_1)_{c_3 c_4}D^{-1}(x_0,t_0\\mid x_3,t_3)_{\\substack{s_7\\\\c_5}\\substack{s_0\\\\c_0}}D^{-1}(x_2+\\hat{\\mu},t_2+\\hat{\\mu}\\mid x_2,t_2)_{\\substack{s_3\\\\c_2}\\substack{s_2\\\\c_1}}D^{-1}(x_1+\\hat{\\nu},t_1+\\hat{\\nu}\\mid x_1,t_1)_{\\substack{s_5\\\\c_4}\\substack{s_4\\\\c_3}}D^{-1}(x_3,t_3\\mid x_0,t_0)_{\\substack{s_1\\\\c_0}\\substack{s_6\\\\c_5}}\\,\n",
      "d_{35}^{\\text{F}}=-1.0 (1+\\gamma_{\\mu})_{s_2 s_3}(1-\\gamma_{\\nu})_{s_4 s_5}(\\gamma_5)_{s_0 s_1}(\\gamma_5)_{s_6 s_7}U_{\\mu}^{\\dagger}(x_2)_{c_1 c_2}U_{\\nu}(x_1)_{c_3 c_4}D^{-1}(x_0,t_0\\mid x_3,t_3)_{\\substack{s_7\\\\c_5}\\substack{s_0\\\\c_0}}D^{-1}(x_2,t_2\\mid x_2+\\hat{\\mu},t_2+\\hat{\\mu})_{\\substack{s_3\\\\c_2}\\substack{s_2\\\\c_1}}D^{-1}(x_1+\\hat{\\nu},t_1+\\hat{\\nu}\\mid x_1,t_1)_{\\substack{s_5\\\\c_4}\\substack{s_4\\\\c_3}}D^{-1}(x_3,t_3\\mid x_0,t_0)_{\\substack{s_1\\\\c_0}\\substack{s_6\\\\c_5}}\\,\n",
      "d_{41}^{\\text{F}}=-1.0 (1+\\gamma_{\\nu})_{s_4 s_5}(1-\\gamma_{\\mu})_{s_2 s_3}(\\gamma_5)_{s_0 s_1}(\\gamma_5)_{s_6 s_7}U_{\\mu}(x_2)_{c_1 c_2}U_{\\nu}^{\\dagger}(x_1)_{c_3 c_4}D^{-1}(x_0,t_0\\mid x_3,t_3)_{\\substack{s_7\\\\c_5}\\substack{s_0\\\\c_0}}D^{-1}(x_2+\\hat{\\mu},t_2+\\hat{\\mu}\\mid x_2,t_2)_{\\substack{s_3\\\\c_2}\\substack{s_2\\\\c_1}}D^{-1}(x_1,t_1\\mid x_1+\\hat{\\nu},t_1+\\hat{\\nu})_{\\substack{s_5\\\\c_4}\\substack{s_4\\\\c_3}}D^{-1}(x_3,t_3\\mid x_0,t_0)_{\\substack{s_1\\\\c_0}\\substack{s_6\\\\c_5}}\\,\n",
      "d_{47}^{\\text{F}}=1.0 (1+\\gamma_{\\mu})_{s_2 s_3}(1+\\gamma_{\\nu})_{s_4 s_5}(\\gamma_5)_{s_0 s_1}(\\gamma_5)_{s_6 s_7}U_{\\mu}^{\\dagger}(x_2)_{c_1 c_2}U_{\\nu}^{\\dagger}(x_1)_{c_3 c_4}D^{-1}(x_0,t_0\\mid x_3,t_3)_{\\substack{s_7\\\\c_5}\\substack{s_0\\\\c_0}}D^{-1}(x_2,t_2\\mid x_2+\\hat{\\mu},t_2+\\hat{\\mu})_{\\substack{s_3\\\\c_2}\\substack{s_2\\\\c_1}}D^{-1}(x_1,t_1\\mid x_1+\\hat{\\nu},t_1+\\hat{\\nu})_{\\substack{s_5\\\\c_4}\\substack{s_4\\\\c_3}}D^{-1}(x_3,t_3\\mid x_0,t_0)_{\\substack{s_1\\\\c_0}\\substack{s_6\\\\c_5}}\\,\n"
     ]
    }
   ],
   "source": [
    "for i,label in topSorted.items():\n",
    "    print('d_{{{}}}^{{\\\\text{{{}}}}}={}\\,'.format(i,label,total[i]))"
   ]
  },
  {
   "cell_type": "code",
   "execution_count": 34,
   "metadata": {},
   "outputs": [
    {
     "data": {
      "text/latex": [
       "$\\displaystyle d_{16}^{\\text{A}}=-2.0\\,\\text{tr}\\left[D^{-1}(t_1+\\hat{\\nu}, t_3)(\\gamma_5)D^{-1}(t_3, t_2)(1-\\gamma_{\\mu})U_{\\mu}(x_2)D^{-1}(t_2+\\hat{\\mu}, t_0)(\\gamma_5)D^{-1}(t_0, t_1)(1-\\gamma_{\\nu})U_{\\nu}(x_1)\\right]$"
      ],
      "text/plain": [
       "<IPython.core.display.Math object>"
      ]
     },
     "metadata": {},
     "output_type": "display_data"
    },
    {
     "data": {
      "text/latex": [
       "$\\displaystyle d_{18}^{\\text{A}}=2.0\\,\\text{tr}\\left[D^{-1}(t_1+\\hat{\\nu}, t_3)(\\gamma_5)D^{-1}(t_3, t_2+\\hat{\\mu})(1+\\gamma_{\\mu})U_{\\mu}^{\\dagger}(x_2)D^{-1}(t_2, t_0)(\\gamma_5)D^{-1}(t_0, t_1)(1-\\gamma_{\\nu})U_{\\nu}(x_1)\\right]$"
      ],
      "text/plain": [
       "<IPython.core.display.Math object>"
      ]
     },
     "metadata": {},
     "output_type": "display_data"
    },
    {
     "data": {
      "text/latex": [
       "$\\displaystyle d_{20}^{\\text{A}}=2.0\\,\\text{tr}\\left[D^{-1}(t_1, t_3)(\\gamma_5)D^{-1}(t_3, t_2)(1-\\gamma_{\\mu})U_{\\mu}(x_2)D^{-1}(t_2+\\hat{\\mu}, t_0)(\\gamma_5)D^{-1}(t_0, t_1+\\hat{\\nu})(1+\\gamma_{\\nu})U_{\\nu}^{\\dagger}(x_1)\\right]$"
      ],
      "text/plain": [
       "<IPython.core.display.Math object>"
      ]
     },
     "metadata": {},
     "output_type": "display_data"
    },
    {
     "data": {
      "text/latex": [
       "$\\displaystyle d_{22}^{\\text{A}}=-2.0\\,\\text{tr}\\left[D^{-1}(t_1, t_3)(\\gamma_5)D^{-1}(t_3, t_2+\\hat{\\mu})(1+\\gamma_{\\mu})U_{\\mu}^{\\dagger}(x_2)D^{-1}(t_2, t_0)(\\gamma_5)D^{-1}(t_0, t_1+\\hat{\\nu})(1+\\gamma_{\\nu})U_{\\nu}^{\\dagger}(x_1)\\right]$"
      ],
      "text/plain": [
       "<IPython.core.display.Math object>"
      ]
     },
     "metadata": {},
     "output_type": "display_data"
    },
    {
     "data": {
      "text/latex": [
       "$\\displaystyle d_{8}^{\\text{A-bwd}}=-2.0\\,\\text{tr}\\left[D^{-1}(t_2+\\hat{\\mu}, t_3)(\\gamma_5)D^{-1}(t_3, t_1)(1-\\gamma_{\\nu})U_{\\nu}(x_1)D^{-1}(t_1+\\hat{\\nu}, t_0)(\\gamma_5)D^{-1}(t_0, t_2)(1-\\gamma_{\\mu})U_{\\mu}(x_2)\\right]$"
      ],
      "text/plain": [
       "<IPython.core.display.Math object>"
      ]
     },
     "metadata": {},
     "output_type": "display_data"
    },
    {
     "data": {
      "text/latex": [
       "$\\displaystyle d_{10}^{\\text{A-bwd}}=2.0\\,\\text{tr}\\left[D^{-1}(t_2, t_3)(\\gamma_5)D^{-1}(t_3, t_1)(1-\\gamma_{\\nu})U_{\\nu}(x_1)D^{-1}(t_1+\\hat{\\nu}, t_0)(\\gamma_5)D^{-1}(t_0, t_2+\\hat{\\mu})(1+\\gamma_{\\mu})U_{\\mu}^{\\dagger}(x_2)\\right]$"
      ],
      "text/plain": [
       "<IPython.core.display.Math object>"
      ]
     },
     "metadata": {},
     "output_type": "display_data"
    },
    {
     "data": {
      "text/latex": [
       "$\\displaystyle d_{12}^{\\text{A-bwd}}=2.0\\,\\text{tr}\\left[D^{-1}(t_2+\\hat{\\mu}, t_3)(\\gamma_5)D^{-1}(t_3, t_1+\\hat{\\nu})(1+\\gamma_{\\nu})U_{\\nu}^{\\dagger}(x_1)D^{-1}(t_1, t_0)(\\gamma_5)D^{-1}(t_0, t_2)(1-\\gamma_{\\mu})U_{\\mu}(x_2)\\right]$"
      ],
      "text/plain": [
       "<IPython.core.display.Math object>"
      ]
     },
     "metadata": {},
     "output_type": "display_data"
    },
    {
     "data": {
      "text/latex": [
       "$\\displaystyle d_{14}^{\\text{A-bwd}}=-2.0\\,\\text{tr}\\left[D^{-1}(t_2, t_3)(\\gamma_5)D^{-1}(t_3, t_1+\\hat{\\nu})(1+\\gamma_{\\nu})U_{\\nu}^{\\dagger}(x_1)D^{-1}(t_1, t_0)(\\gamma_5)D^{-1}(t_0, t_2+\\hat{\\mu})(1+\\gamma_{\\mu})U_{\\mu}^{\\dagger}(x_2)\\right]$"
      ],
      "text/plain": [
       "<IPython.core.display.Math object>"
      ]
     },
     "metadata": {},
     "output_type": "display_data"
    },
    {
     "data": {
      "text/latex": [
       "$\\displaystyle d_{1}^{\\text{B}}=4.0\\,\\text{tr}\\left[D^{-1}(t_2+\\hat{\\mu}, t_3)(\\gamma_5)D^{-1}(t_3, t_0)(\\gamma_5)D^{-1}(t_0, t_1)(1-\\gamma_{\\nu})U_{\\nu}(x_1)D^{-1}(t_1+\\hat{\\nu}, t_2)(1-\\gamma_{\\mu})U_{\\mu}(x_2)\\right]$"
      ],
      "text/plain": [
       "<IPython.core.display.Math object>"
      ]
     },
     "metadata": {},
     "output_type": "display_data"
    },
    {
     "data": {
      "text/latex": [
       "$\\displaystyle d_{3}^{\\text{B}}=-4.0\\,\\text{tr}\\left[D^{-1}(t_2, t_3)(\\gamma_5)D^{-1}(t_3, t_0)(\\gamma_5)D^{-1}(t_0, t_1)(1-\\gamma_{\\nu})U_{\\nu}(x_1)D^{-1}(t_1+\\hat{\\nu}, t_2+\\hat{\\mu})(1+\\gamma_{\\mu})U_{\\mu}^{\\dagger}(x_2)\\right]$"
      ],
      "text/plain": [
       "<IPython.core.display.Math object>"
      ]
     },
     "metadata": {},
     "output_type": "display_data"
    },
    {
     "data": {
      "text/latex": [
       "$\\displaystyle d_{5}^{\\text{B}}=-4.0\\,\\text{tr}\\left[D^{-1}(t_2+\\hat{\\mu}, t_3)(\\gamma_5)D^{-1}(t_3, t_0)(\\gamma_5)D^{-1}(t_0, t_1+\\hat{\\nu})(1+\\gamma_{\\nu})U_{\\nu}^{\\dagger}(x_1)D^{-1}(t_1, t_2)(1-\\gamma_{\\mu})U_{\\mu}(x_2)\\right]$"
      ],
      "text/plain": [
       "<IPython.core.display.Math object>"
      ]
     },
     "metadata": {},
     "output_type": "display_data"
    },
    {
     "data": {
      "text/latex": [
       "$\\displaystyle d_{7}^{\\text{B}}=4.0\\,\\text{tr}\\left[D^{-1}(t_2, t_3)(\\gamma_5)D^{-1}(t_3, t_0)(\\gamma_5)D^{-1}(t_0, t_1+\\hat{\\nu})(1+\\gamma_{\\nu})U_{\\nu}^{\\dagger}(x_1)D^{-1}(t_1, t_2+\\hat{\\mu})(1+\\gamma_{\\mu})U_{\\mu}^{\\dagger}(x_2)\\right]$"
      ],
      "text/plain": [
       "<IPython.core.display.Math object>"
      ]
     },
     "metadata": {},
     "output_type": "display_data"
    },
    {
     "data": {
      "text/latex": [
       "$\\displaystyle d_{25}^{\\text{B-bwd}}=1.0\\,\\text{tr}\\left[D^{-1}(t_0, t_3)(\\gamma_5)D^{-1}(t_3, t_2)(1-\\gamma_{\\mu})U_{\\mu}(x_2)D^{-1}(t_2+\\hat{\\mu}, t_1)(1-\\gamma_{\\nu})U_{\\nu}(x_1)D^{-1}(t_1+\\hat{\\nu}, t_0)(\\gamma_5)\\right]$"
      ],
      "text/plain": [
       "<IPython.core.display.Math object>"
      ]
     },
     "metadata": {},
     "output_type": "display_data"
    },
    {
     "data": {
      "text/latex": [
       "$\\displaystyle d_{31}^{\\text{B-bwd}}=-1.0\\,\\text{tr}\\left[D^{-1}(t_0, t_3)(\\gamma_5)D^{-1}(t_3, t_2+\\hat{\\mu})(1+\\gamma_{\\mu})U_{\\mu}^{\\dagger}(x_2)D^{-1}(t_2, t_1)(1-\\gamma_{\\nu})U_{\\nu}(x_1)D^{-1}(t_1+\\hat{\\nu}, t_0)(\\gamma_5)\\right]$"
      ],
      "text/plain": [
       "<IPython.core.display.Math object>"
      ]
     },
     "metadata": {},
     "output_type": "display_data"
    },
    {
     "data": {
      "text/latex": [
       "$\\displaystyle d_{37}^{\\text{B-bwd}}=-1.0\\,\\text{tr}\\left[D^{-1}(t_0, t_3)(\\gamma_5)D^{-1}(t_3, t_2)(1-\\gamma_{\\mu})U_{\\mu}(x_2)D^{-1}(t_2+\\hat{\\mu}, t_1+\\hat{\\nu})(1+\\gamma_{\\nu})U_{\\nu}^{\\dagger}(x_1)D^{-1}(t_1, t_0)(\\gamma_5)\\right]$"
      ],
      "text/plain": [
       "<IPython.core.display.Math object>"
      ]
     },
     "metadata": {},
     "output_type": "display_data"
    },
    {
     "data": {
      "text/latex": [
       "$\\displaystyle d_{43}^{\\text{B-bwd}}=1.0\\,\\text{tr}\\left[D^{-1}(t_0, t_3)(\\gamma_5)D^{-1}(t_3, t_2+\\hat{\\mu})(1+\\gamma_{\\mu})U_{\\mu}^{\\dagger}(x_2)D^{-1}(t_2, t_1+\\hat{\\nu})(1+\\gamma_{\\nu})U_{\\nu}^{\\dagger}(x_1)D^{-1}(t_1, t_0)(\\gamma_5)\\right]$"
      ],
      "text/plain": [
       "<IPython.core.display.Math object>"
      ]
     },
     "metadata": {},
     "output_type": "display_data"
    },
    {
     "data": {
      "text/latex": [
       "$\\displaystyle d_{0}^{\\text{C}}=4.0\\,\\text{tr}\\left[D^{-1}(t_1+\\hat{\\nu}, t_3)(\\gamma_5)D^{-1}(t_3, t_0)(\\gamma_5)D^{-1}(t_0, t_2)(1-\\gamma_{\\mu})U_{\\mu}(x_2)D^{-1}(t_2+\\hat{\\mu}, t_1)(1-\\gamma_{\\nu})U_{\\nu}(x_1)\\right]$"
      ],
      "text/plain": [
       "<IPython.core.display.Math object>"
      ]
     },
     "metadata": {},
     "output_type": "display_data"
    },
    {
     "data": {
      "text/latex": [
       "$\\displaystyle d_{2}^{\\text{C}}=-4.0\\,\\text{tr}\\left[D^{-1}(t_1+\\hat{\\nu}, t_3)(\\gamma_5)D^{-1}(t_3, t_0)(\\gamma_5)D^{-1}(t_0, t_2+\\hat{\\mu})(1+\\gamma_{\\mu})U_{\\mu}^{\\dagger}(x_2)D^{-1}(t_2, t_1)(1-\\gamma_{\\nu})U_{\\nu}(x_1)\\right]$"
      ],
      "text/plain": [
       "<IPython.core.display.Math object>"
      ]
     },
     "metadata": {},
     "output_type": "display_data"
    },
    {
     "data": {
      "text/latex": [
       "$\\displaystyle d_{4}^{\\text{C}}=-4.0\\,\\text{tr}\\left[D^{-1}(t_1, t_3)(\\gamma_5)D^{-1}(t_3, t_0)(\\gamma_5)D^{-1}(t_0, t_2)(1-\\gamma_{\\mu})U_{\\mu}(x_2)D^{-1}(t_2+\\hat{\\mu}, t_1+\\hat{\\nu})(1+\\gamma_{\\nu})U_{\\nu}^{\\dagger}(x_1)\\right]$"
      ],
      "text/plain": [
       "<IPython.core.display.Math object>"
      ]
     },
     "metadata": {},
     "output_type": "display_data"
    },
    {
     "data": {
      "text/latex": [
       "$\\displaystyle d_{6}^{\\text{C}}=4.0\\,\\text{tr}\\left[D^{-1}(t_1, t_3)(\\gamma_5)D^{-1}(t_3, t_0)(\\gamma_5)D^{-1}(t_0, t_2+\\hat{\\mu})(1+\\gamma_{\\mu})U_{\\mu}^{\\dagger}(x_2)D^{-1}(t_2, t_1+\\hat{\\nu})(1+\\gamma_{\\nu})U_{\\nu}^{\\dagger}(x_1)\\right]$"
      ],
      "text/plain": [
       "<IPython.core.display.Math object>"
      ]
     },
     "metadata": {},
     "output_type": "display_data"
    },
    {
     "data": {
      "text/latex": [
       "$\\displaystyle d_{27}^{\\text{C-bwd}}=1.0\\,\\text{tr}\\left[D^{-1}(t_0, t_3)(\\gamma_5)D^{-1}(t_3, t_1)(1-\\gamma_{\\nu})U_{\\nu}(x_1)D^{-1}(t_1+\\hat{\\nu}, t_2)(1-\\gamma_{\\mu})U_{\\mu}(x_2)D^{-1}(t_2+\\hat{\\mu}, t_0)(\\gamma_5)\\right]$"
      ],
      "text/plain": [
       "<IPython.core.display.Math object>"
      ]
     },
     "metadata": {},
     "output_type": "display_data"
    },
    {
     "data": {
      "text/latex": [
       "$\\displaystyle d_{33}^{\\text{C-bwd}}=-1.0\\,\\text{tr}\\left[D^{-1}(t_0, t_3)(\\gamma_5)D^{-1}(t_3, t_1)(1-\\gamma_{\\nu})U_{\\nu}(x_1)D^{-1}(t_1+\\hat{\\nu}, t_2+\\hat{\\mu})(1+\\gamma_{\\mu})U_{\\mu}^{\\dagger}(x_2)D^{-1}(t_2, t_0)(\\gamma_5)\\right]$"
      ],
      "text/plain": [
       "<IPython.core.display.Math object>"
      ]
     },
     "metadata": {},
     "output_type": "display_data"
    },
    {
     "data": {
      "text/latex": [
       "$\\displaystyle d_{39}^{\\text{C-bwd}}=-1.0\\,\\text{tr}\\left[D^{-1}(t_0, t_3)(\\gamma_5)D^{-1}(t_3, t_1+\\hat{\\nu})(1+\\gamma_{\\nu})U_{\\nu}^{\\dagger}(x_1)D^{-1}(t_1, t_2)(1-\\gamma_{\\mu})U_{\\mu}(x_2)D^{-1}(t_2+\\hat{\\mu}, t_0)(\\gamma_5)\\right]$"
      ],
      "text/plain": [
       "<IPython.core.display.Math object>"
      ]
     },
     "metadata": {},
     "output_type": "display_data"
    },
    {
     "data": {
      "text/latex": [
       "$\\displaystyle d_{45}^{\\text{C-bwd}}=1.0\\,\\text{tr}\\left[D^{-1}(t_0, t_3)(\\gamma_5)D^{-1}(t_3, t_1+\\hat{\\nu})(1+\\gamma_{\\nu})U_{\\nu}^{\\dagger}(x_1)D^{-1}(t_1, t_2+\\hat{\\mu})(1+\\gamma_{\\mu})U_{\\mu}^{\\dagger}(x_2)D^{-1}(t_2, t_0)(\\gamma_5)\\right]$"
      ],
      "text/plain": [
       "<IPython.core.display.Math object>"
      ]
     },
     "metadata": {},
     "output_type": "display_data"
    },
    {
     "data": {
      "text/latex": [
       "$\\displaystyle d_{28}^{\\text{D}}=-5.0\\,\\text{tr}\\left[D^{-1}(t_0, t_3)(\\gamma_5)D^{-1}(t_3, t_0)(\\gamma_5)\\right]\\text{tr}\\left[D^{-1}(t_1+\\hat{\\nu}, t_2)(1-\\gamma_{\\mu})U_{\\mu}(x_2)D^{-1}(t_2+\\hat{\\mu}, t_1)(1-\\gamma_{\\nu})U_{\\nu}(x_1)\\right]$"
      ],
      "text/plain": [
       "<IPython.core.display.Math object>"
      ]
     },
     "metadata": {},
     "output_type": "display_data"
    },
    {
     "data": {
      "text/latex": [
       "$\\displaystyle d_{34}^{\\text{D}}=5.0\\,\\text{tr}\\left[D^{-1}(t_0, t_3)(\\gamma_5)D^{-1}(t_3, t_0)(\\gamma_5)\\right]\\text{tr}\\left[D^{-1}(t_1+\\hat{\\nu}, t_2+\\hat{\\mu})(1+\\gamma_{\\mu})U_{\\mu}^{\\dagger}(x_2)D^{-1}(t_2, t_1)(1-\\gamma_{\\nu})U_{\\nu}(x_1)\\right]$"
      ],
      "text/plain": [
       "<IPython.core.display.Math object>"
      ]
     },
     "metadata": {},
     "output_type": "display_data"
    },
    {
     "data": {
      "text/latex": [
       "$\\displaystyle d_{40}^{\\text{D}}=5.0\\,\\text{tr}\\left[D^{-1}(t_0, t_3)(\\gamma_5)D^{-1}(t_3, t_0)(\\gamma_5)\\right]\\text{tr}\\left[D^{-1}(t_1, t_2)(1-\\gamma_{\\mu})U_{\\mu}(x_2)D^{-1}(t_2+\\hat{\\mu}, t_1+\\hat{\\nu})(1+\\gamma_{\\nu})U_{\\nu}^{\\dagger}(x_1)\\right]$"
      ],
      "text/plain": [
       "<IPython.core.display.Math object>"
      ]
     },
     "metadata": {},
     "output_type": "display_data"
    },
    {
     "data": {
      "text/latex": [
       "$\\displaystyle d_{46}^{\\text{D}}=-5.0\\,\\text{tr}\\left[D^{-1}(t_0, t_3)(\\gamma_5)D^{-1}(t_3, t_0)(\\gamma_5)\\right]\\text{tr}\\left[D^{-1}(t_1, t_2+\\hat{\\mu})(1+\\gamma_{\\mu})U_{\\mu}^{\\dagger}(x_2)D^{-1}(t_2, t_1+\\hat{\\nu})(1+\\gamma_{\\nu})U_{\\nu}^{\\dagger}(x_1)\\right]$"
      ],
      "text/plain": [
       "<IPython.core.display.Math object>"
      ]
     },
     "metadata": {},
     "output_type": "display_data"
    },
    {
     "data": {
      "text/latex": [
       "$\\displaystyle d_{17}^{\\text{El}}=-2.0\\,\\text{tr}\\left[D^{-1}(t_1+\\hat{\\nu}, t_3)(\\gamma_5)D^{-1}(t_3, t_0)(\\gamma_5)D^{-1}(t_0, t_1)(1-\\gamma_{\\nu})U_{\\nu}(x_1)\\right]\\text{tr}\\left[D^{-1}(t_2+\\hat{\\mu}, t_2)(1-\\gamma_{\\mu})U_{\\mu}(x_2)\\right]$"
      ],
      "text/plain": [
       "<IPython.core.display.Math object>"
      ]
     },
     "metadata": {},
     "output_type": "display_data"
    },
    {
     "data": {
      "text/latex": [
       "$\\displaystyle d_{19}^{\\text{El}}=2.0\\,\\text{tr}\\left[D^{-1}(t_1+\\hat{\\nu}, t_3)(\\gamma_5)D^{-1}(t_3, t_0)(\\gamma_5)D^{-1}(t_0, t_1)(1-\\gamma_{\\nu})U_{\\nu}(x_1)\\right]\\text{tr}\\left[D^{-1}(t_2, t_2+\\hat{\\mu})(1+\\gamma_{\\mu})U_{\\mu}^{\\dagger}(x_2)\\right]$"
      ],
      "text/plain": [
       "<IPython.core.display.Math object>"
      ]
     },
     "metadata": {},
     "output_type": "display_data"
    },
    {
     "data": {
      "text/latex": [
       "$\\displaystyle d_{21}^{\\text{El}}=2.0\\,\\text{tr}\\left[D^{-1}(t_1, t_3)(\\gamma_5)D^{-1}(t_3, t_0)(\\gamma_5)D^{-1}(t_0, t_1+\\hat{\\nu})(1+\\gamma_{\\nu})U_{\\nu}^{\\dagger}(x_1)\\right]\\text{tr}\\left[D^{-1}(t_2+\\hat{\\mu}, t_2)(1-\\gamma_{\\mu})U_{\\mu}(x_2)\\right]$"
      ],
      "text/plain": [
       "<IPython.core.display.Math object>"
      ]
     },
     "metadata": {},
     "output_type": "display_data"
    },
    {
     "data": {
      "text/latex": [
       "$\\displaystyle d_{23}^{\\text{El}}=-2.0\\,\\text{tr}\\left[D^{-1}(t_1, t_3)(\\gamma_5)D^{-1}(t_3, t_0)(\\gamma_5)D^{-1}(t_0, t_1+\\hat{\\nu})(1+\\gamma_{\\nu})U_{\\nu}^{\\dagger}(x_1)\\right]\\text{tr}\\left[D^{-1}(t_2, t_2+\\hat{\\mu})(1+\\gamma_{\\mu})U_{\\mu}^{\\dagger}(x_2)\\right]$"
      ],
      "text/plain": [
       "<IPython.core.display.Math object>"
      ]
     },
     "metadata": {},
     "output_type": "display_data"
    },
    {
     "data": {
      "text/latex": [
       "$\\displaystyle d_{24}^{\\text{El-bwd}}=1.0\\,\\text{tr}\\left[D^{-1}(t_0, t_3)(\\gamma_5)D^{-1}(t_3, t_1)(1-\\gamma_{\\nu})U_{\\nu}(x_1)D^{-1}(t_1+\\hat{\\nu}, t_0)(\\gamma_5)\\right]\\text{tr}\\left[D^{-1}(t_2+\\hat{\\mu}, t_2)(1-\\gamma_{\\mu})U_{\\mu}(x_2)\\right]$"
      ],
      "text/plain": [
       "<IPython.core.display.Math object>"
      ]
     },
     "metadata": {},
     "output_type": "display_data"
    },
    {
     "data": {
      "text/latex": [
       "$\\displaystyle d_{30}^{\\text{El-bwd}}=-1.0\\,\\text{tr}\\left[D^{-1}(t_0, t_3)(\\gamma_5)D^{-1}(t_3, t_1)(1-\\gamma_{\\nu})U_{\\nu}(x_1)D^{-1}(t_1+\\hat{\\nu}, t_0)(\\gamma_5)\\right]\\text{tr}\\left[D^{-1}(t_2, t_2+\\hat{\\mu})(1+\\gamma_{\\mu})U_{\\mu}^{\\dagger}(x_2)\\right]$"
      ],
      "text/plain": [
       "<IPython.core.display.Math object>"
      ]
     },
     "metadata": {},
     "output_type": "display_data"
    },
    {
     "data": {
      "text/latex": [
       "$\\displaystyle d_{36}^{\\text{El-bwd}}=-1.0\\,\\text{tr}\\left[D^{-1}(t_0, t_3)(\\gamma_5)D^{-1}(t_3, t_1+\\hat{\\nu})(1+\\gamma_{\\nu})U_{\\nu}^{\\dagger}(x_1)D^{-1}(t_1, t_0)(\\gamma_5)\\right]\\text{tr}\\left[D^{-1}(t_2+\\hat{\\mu}, t_2)(1-\\gamma_{\\mu})U_{\\mu}(x_2)\\right]$"
      ],
      "text/plain": [
       "<IPython.core.display.Math object>"
      ]
     },
     "metadata": {},
     "output_type": "display_data"
    },
    {
     "data": {
      "text/latex": [
       "$\\displaystyle d_{42}^{\\text{El-bwd}}=1.0\\,\\text{tr}\\left[D^{-1}(t_0, t_3)(\\gamma_5)D^{-1}(t_3, t_1+\\hat{\\nu})(1+\\gamma_{\\nu})U_{\\nu}^{\\dagger}(x_1)D^{-1}(t_1, t_0)(\\gamma_5)\\right]\\text{tr}\\left[D^{-1}(t_2, t_2+\\hat{\\mu})(1+\\gamma_{\\mu})U_{\\mu}^{\\dagger}(x_2)\\right]$"
      ],
      "text/plain": [
       "<IPython.core.display.Math object>"
      ]
     },
     "metadata": {},
     "output_type": "display_data"
    },
    {
     "data": {
      "text/latex": [
       "$\\displaystyle d_{9}^{\\text{Er}}=-2.0\\,\\text{tr}\\left[D^{-1}(t_2+\\hat{\\mu}, t_3)(\\gamma_5)D^{-1}(t_3, t_0)(\\gamma_5)D^{-1}(t_0, t_2)(1-\\gamma_{\\mu})U_{\\mu}(x_2)\\right]\\text{tr}\\left[D^{-1}(t_1+\\hat{\\nu}, t_1)(1-\\gamma_{\\nu})U_{\\nu}(x_1)\\right]$"
      ],
      "text/plain": [
       "<IPython.core.display.Math object>"
      ]
     },
     "metadata": {},
     "output_type": "display_data"
    },
    {
     "data": {
      "text/latex": [
       "$\\displaystyle d_{11}^{\\text{Er}}=2.0\\,\\text{tr}\\left[D^{-1}(t_2, t_3)(\\gamma_5)D^{-1}(t_3, t_0)(\\gamma_5)D^{-1}(t_0, t_2+\\hat{\\mu})(1+\\gamma_{\\mu})U_{\\mu}^{\\dagger}(x_2)\\right]\\text{tr}\\left[D^{-1}(t_1+\\hat{\\nu}, t_1)(1-\\gamma_{\\nu})U_{\\nu}(x_1)\\right]$"
      ],
      "text/plain": [
       "<IPython.core.display.Math object>"
      ]
     },
     "metadata": {},
     "output_type": "display_data"
    },
    {
     "data": {
      "text/latex": [
       "$\\displaystyle d_{13}^{\\text{Er}}=2.0\\,\\text{tr}\\left[D^{-1}(t_2+\\hat{\\mu}, t_3)(\\gamma_5)D^{-1}(t_3, t_0)(\\gamma_5)D^{-1}(t_0, t_2)(1-\\gamma_{\\mu})U_{\\mu}(x_2)\\right]\\text{tr}\\left[D^{-1}(t_1, t_1+\\hat{\\nu})(1+\\gamma_{\\nu})U_{\\nu}^{\\dagger}(x_1)\\right]$"
      ],
      "text/plain": [
       "<IPython.core.display.Math object>"
      ]
     },
     "metadata": {},
     "output_type": "display_data"
    },
    {
     "data": {
      "text/latex": [
       "$\\displaystyle d_{15}^{\\text{Er}}=-2.0\\,\\text{tr}\\left[D^{-1}(t_2, t_3)(\\gamma_5)D^{-1}(t_3, t_0)(\\gamma_5)D^{-1}(t_0, t_2+\\hat{\\mu})(1+\\gamma_{\\mu})U_{\\mu}^{\\dagger}(x_2)\\right]\\text{tr}\\left[D^{-1}(t_1, t_1+\\hat{\\nu})(1+\\gamma_{\\nu})U_{\\nu}^{\\dagger}(x_1)\\right]$"
      ],
      "text/plain": [
       "<IPython.core.display.Math object>"
      ]
     },
     "metadata": {},
     "output_type": "display_data"
    },
    {
     "data": {
      "text/latex": [
       "$\\displaystyle d_{26}^{\\text{Er-bwd}}=1.0\\,\\text{tr}\\left[D^{-1}(t_0, t_3)(\\gamma_5)D^{-1}(t_3, t_2)(1-\\gamma_{\\mu})U_{\\mu}(x_2)D^{-1}(t_2+\\hat{\\mu}, t_0)(\\gamma_5)\\right]\\text{tr}\\left[D^{-1}(t_1+\\hat{\\nu}, t_1)(1-\\gamma_{\\nu})U_{\\nu}(x_1)\\right]$"
      ],
      "text/plain": [
       "<IPython.core.display.Math object>"
      ]
     },
     "metadata": {},
     "output_type": "display_data"
    },
    {
     "data": {
      "text/latex": [
       "$\\displaystyle d_{32}^{\\text{Er-bwd}}=-1.0\\,\\text{tr}\\left[D^{-1}(t_0, t_3)(\\gamma_5)D^{-1}(t_3, t_2+\\hat{\\mu})(1+\\gamma_{\\mu})U_{\\mu}^{\\dagger}(x_2)D^{-1}(t_2, t_0)(\\gamma_5)\\right]\\text{tr}\\left[D^{-1}(t_1+\\hat{\\nu}, t_1)(1-\\gamma_{\\nu})U_{\\nu}(x_1)\\right]$"
      ],
      "text/plain": [
       "<IPython.core.display.Math object>"
      ]
     },
     "metadata": {},
     "output_type": "display_data"
    },
    {
     "data": {
      "text/latex": [
       "$\\displaystyle d_{38}^{\\text{Er-bwd}}=-1.0\\,\\text{tr}\\left[D^{-1}(t_0, t_3)(\\gamma_5)D^{-1}(t_3, t_2)(1-\\gamma_{\\mu})U_{\\mu}(x_2)D^{-1}(t_2+\\hat{\\mu}, t_0)(\\gamma_5)\\right]\\text{tr}\\left[D^{-1}(t_1, t_1+\\hat{\\nu})(1+\\gamma_{\\nu})U_{\\nu}^{\\dagger}(x_1)\\right]$"
      ],
      "text/plain": [
       "<IPython.core.display.Math object>"
      ]
     },
     "metadata": {},
     "output_type": "display_data"
    },
    {
     "data": {
      "text/latex": [
       "$\\displaystyle d_{44}^{\\text{Er-bwd}}=1.0\\,\\text{tr}\\left[D^{-1}(t_0, t_3)(\\gamma_5)D^{-1}(t_3, t_2+\\hat{\\mu})(1+\\gamma_{\\mu})U_{\\mu}^{\\dagger}(x_2)D^{-1}(t_2, t_0)(\\gamma_5)\\right]\\text{tr}\\left[D^{-1}(t_1, t_1+\\hat{\\nu})(1+\\gamma_{\\nu})U_{\\nu}^{\\dagger}(x_1)\\right]$"
      ],
      "text/plain": [
       "<IPython.core.display.Math object>"
      ]
     },
     "metadata": {},
     "output_type": "display_data"
    },
    {
     "data": {
      "text/latex": [
       "$\\displaystyle d_{29}^{\\text{F}}=1.0\\,\\text{tr}\\left[D^{-1}(t_0, t_3)(\\gamma_5)D^{-1}(t_3, t_0)(\\gamma_5)\\right]\\text{tr}\\left[D^{-1}(t_2+\\hat{\\mu}, t_2)(1-\\gamma_{\\mu})U_{\\mu}(x_2)\\right]\\text{tr}\\left[D^{-1}(t_1+\\hat{\\nu}, t_1)(1-\\gamma_{\\nu})U_{\\nu}(x_1)\\right]$"
      ],
      "text/plain": [
       "<IPython.core.display.Math object>"
      ]
     },
     "metadata": {},
     "output_type": "display_data"
    },
    {
     "data": {
      "text/latex": [
       "$\\displaystyle d_{35}^{\\text{F}}=-1.0\\,\\text{tr}\\left[D^{-1}(t_0, t_3)(\\gamma_5)D^{-1}(t_3, t_0)(\\gamma_5)\\right]\\text{tr}\\left[D^{-1}(t_2, t_2+\\hat{\\mu})(1+\\gamma_{\\mu})U_{\\mu}^{\\dagger}(x_2)\\right]\\text{tr}\\left[D^{-1}(t_1+\\hat{\\nu}, t_1)(1-\\gamma_{\\nu})U_{\\nu}(x_1)\\right]$"
      ],
      "text/plain": [
       "<IPython.core.display.Math object>"
      ]
     },
     "metadata": {},
     "output_type": "display_data"
    },
    {
     "data": {
      "text/latex": [
       "$\\displaystyle d_{41}^{\\text{F}}=-1.0\\,\\text{tr}\\left[D^{-1}(t_0, t_3)(\\gamma_5)D^{-1}(t_3, t_0)(\\gamma_5)\\right]\\text{tr}\\left[D^{-1}(t_2+\\hat{\\mu}, t_2)(1-\\gamma_{\\mu})U_{\\mu}(x_2)\\right]\\text{tr}\\left[D^{-1}(t_1, t_1+\\hat{\\nu})(1+\\gamma_{\\nu})U_{\\nu}^{\\dagger}(x_1)\\right]$"
      ],
      "text/plain": [
       "<IPython.core.display.Math object>"
      ]
     },
     "metadata": {},
     "output_type": "display_data"
    },
    {
     "data": {
      "text/latex": [
       "$\\displaystyle d_{47}^{\\text{F}}=1.0\\,\\text{tr}\\left[D^{-1}(t_0, t_3)(\\gamma_5)D^{-1}(t_3, t_0)(\\gamma_5)\\right]\\text{tr}\\left[D^{-1}(t_2, t_2+\\hat{\\mu})(1+\\gamma_{\\mu})U_{\\mu}^{\\dagger}(x_2)\\right]\\text{tr}\\left[D^{-1}(t_1, t_1+\\hat{\\nu})(1+\\gamma_{\\nu})U_{\\nu}^{\\dagger}(x_1)\\right]$"
      ],
      "text/plain": [
       "<IPython.core.display.Math object>"
      ]
     },
     "metadata": {},
     "output_type": "display_data"
    }
   ],
   "source": [
    "from tracing import diagram_as_trace_string\n",
    "\n",
    "for i,label in topSorted.items():\n",
    "    display(Math('d_{{{}}}^{{\\\\text{{{}}}}}={}\\,'.format(i,label,total[i].coef)+diagram_as_trace_string(total[i])))"
   ]
  },
  {
   "cell_type": "code",
   "execution_count": null,
   "metadata": {},
   "outputs": [],
   "source": []
  },
  {
   "cell_type": "code",
   "execution_count": 35,
   "metadata": {},
   "outputs": [
    {
     "name": "stdout",
     "output_type": "stream",
     "text": [
      "\\beqs\n",
      "d_{16}^{\\text{A}}=-2\\,\\text{tr}\\left[D^{-1}(t_1+\\hat{\\nu}, t_3)(\\gamma_5)D^{-1}(t_3, t_2)(1-\\gamma_{\\mu})U_{\\mu}(x_2)D^{-1}(t_2+\\hat{\\mu}, t_0)(\\gamma_5)D^{-1}(t_0, t_1)(1-\\gamma_{\\nu})U_{\\nu}(x_1)\\right]\\\\\n",
      "d_{18}^{\\text{A}}=2\\,\\text{tr}\\left[D^{-1}(t_1+\\hat{\\nu}, t_3)(\\gamma_5)D^{-1}(t_3, t_2+\\hat{\\mu})(1+\\gamma_{\\mu})U_{\\mu}^{\\dagger}(x_2)D^{-1}(t_2, t_0)(\\gamma_5)D^{-1}(t_0, t_1)(1-\\gamma_{\\nu})U_{\\nu}(x_1)\\right]\\\\\n",
      "d_{20}^{\\text{A}}=2\\,\\text{tr}\\left[D^{-1}(t_1, t_3)(\\gamma_5)D^{-1}(t_3, t_2)(1-\\gamma_{\\mu})U_{\\mu}(x_2)D^{-1}(t_2+\\hat{\\mu}, t_0)(\\gamma_5)D^{-1}(t_0, t_1+\\hat{\\nu})(1+\\gamma_{\\nu})U_{\\nu}^{\\dagger}(x_1)\\right]\\\\\n",
      "d_{22}^{\\text{A}}=-2\\,\\text{tr}\\left[D^{-1}(t_1, t_3)(\\gamma_5)D^{-1}(t_3, t_2+\\hat{\\mu})(1+\\gamma_{\\mu})U_{\\mu}^{\\dagger}(x_2)D^{-1}(t_2, t_0)(\\gamma_5)D^{-1}(t_0, t_1+\\hat{\\nu})(1+\\gamma_{\\nu})U_{\\nu}^{\\dagger}(x_1)\\right]\\\\\n",
      "d_{8}^{\\text{A-bwd}}=-2\\,\\text{tr}\\left[D^{-1}(t_2+\\hat{\\mu}, t_3)(\\gamma_5)D^{-1}(t_3, t_1)(1-\\gamma_{\\nu})U_{\\nu}(x_1)D^{-1}(t_1+\\hat{\\nu}, t_0)(\\gamma_5)D^{-1}(t_0, t_2)(1-\\gamma_{\\mu})U_{\\mu}(x_2)\\right]\\\\\n",
      "d_{10}^{\\text{A-bwd}}=2\\,\\text{tr}\\left[D^{-1}(t_2, t_3)(\\gamma_5)D^{-1}(t_3, t_1)(1-\\gamma_{\\nu})U_{\\nu}(x_1)D^{-1}(t_1+\\hat{\\nu}, t_0)(\\gamma_5)D^{-1}(t_0, t_2+\\hat{\\mu})(1+\\gamma_{\\mu})U_{\\mu}^{\\dagger}(x_2)\\right]\\\\\n",
      "d_{12}^{\\text{A-bwd}}=2\\,\\text{tr}\\left[D^{-1}(t_2+\\hat{\\mu}, t_3)(\\gamma_5)D^{-1}(t_3, t_1+\\hat{\\nu})(1+\\gamma_{\\nu})U_{\\nu}^{\\dagger}(x_1)D^{-1}(t_1, t_0)(\\gamma_5)D^{-1}(t_0, t_2)(1-\\gamma_{\\mu})U_{\\mu}(x_2)\\right]\\\\\n",
      "d_{14}^{\\text{A-bwd}}=-2\\,\\text{tr}\\left[D^{-1}(t_2, t_3)(\\gamma_5)D^{-1}(t_3, t_1+\\hat{\\nu})(1+\\gamma_{\\nu})U_{\\nu}^{\\dagger}(x_1)D^{-1}(t_1, t_0)(\\gamma_5)D^{-1}(t_0, t_2+\\hat{\\mu})(1+\\gamma_{\\mu})U_{\\mu}^{\\dagger}(x_2)\\right]\\\\\n",
      "d_{1}^{\\text{B}}=4\\,\\text{tr}\\left[D^{-1}(t_2+\\hat{\\mu}, t_3)(\\gamma_5)D^{-1}(t_3, t_0)(\\gamma_5)D^{-1}(t_0, t_1)(1-\\gamma_{\\nu})U_{\\nu}(x_1)D^{-1}(t_1+\\hat{\\nu}, t_2)(1-\\gamma_{\\mu})U_{\\mu}(x_2)\\right]\\\\\n",
      "d_{3}^{\\text{B}}=-4\\,\\text{tr}\\left[D^{-1}(t_2, t_3)(\\gamma_5)D^{-1}(t_3, t_0)(\\gamma_5)D^{-1}(t_0, t_1)(1-\\gamma_{\\nu})U_{\\nu}(x_1)D^{-1}(t_1+\\hat{\\nu}, t_2+\\hat{\\mu})(1+\\gamma_{\\mu})U_{\\mu}^{\\dagger}(x_2)\\right]\\\\\n",
      "d_{5}^{\\text{B}}=-4\\,\\text{tr}\\left[D^{-1}(t_2+\\hat{\\mu}, t_3)(\\gamma_5)D^{-1}(t_3, t_0)(\\gamma_5)D^{-1}(t_0, t_1+\\hat{\\nu})(1+\\gamma_{\\nu})U_{\\nu}^{\\dagger}(x_1)D^{-1}(t_1, t_2)(1-\\gamma_{\\mu})U_{\\mu}(x_2)\\right]\\\\\n",
      "d_{7}^{\\text{B}}=4\\,\\text{tr}\\left[D^{-1}(t_2, t_3)(\\gamma_5)D^{-1}(t_3, t_0)(\\gamma_5)D^{-1}(t_0, t_1+\\hat{\\nu})(1+\\gamma_{\\nu})U_{\\nu}^{\\dagger}(x_1)D^{-1}(t_1, t_2+\\hat{\\mu})(1+\\gamma_{\\mu})U_{\\mu}^{\\dagger}(x_2)\\right]\\\\\n",
      "d_{25}^{\\text{B-bwd}}=1\\,\\text{tr}\\left[D^{-1}(t_0, t_3)(\\gamma_5)D^{-1}(t_3, t_2)(1-\\gamma_{\\mu})U_{\\mu}(x_2)D^{-1}(t_2+\\hat{\\mu}, t_1)(1-\\gamma_{\\nu})U_{\\nu}(x_1)D^{-1}(t_1+\\hat{\\nu}, t_0)(\\gamma_5)\\right]\\\\\n",
      "d_{31}^{\\text{B-bwd}}=-1\\,\\text{tr}\\left[D^{-1}(t_0, t_3)(\\gamma_5)D^{-1}(t_3, t_2+\\hat{\\mu})(1+\\gamma_{\\mu})U_{\\mu}^{\\dagger}(x_2)D^{-1}(t_2, t_1)(1-\\gamma_{\\nu})U_{\\nu}(x_1)D^{-1}(t_1+\\hat{\\nu}, t_0)(\\gamma_5)\\right]\\\\\n",
      "d_{37}^{\\text{B-bwd}}=-1\\,\\text{tr}\\left[D^{-1}(t_0, t_3)(\\gamma_5)D^{-1}(t_3, t_2)(1-\\gamma_{\\mu})U_{\\mu}(x_2)D^{-1}(t_2+\\hat{\\mu}, t_1+\\hat{\\nu})(1+\\gamma_{\\nu})U_{\\nu}^{\\dagger}(x_1)D^{-1}(t_1, t_0)(\\gamma_5)\\right]\\\\\n",
      "d_{43}^{\\text{B-bwd}}=1\\,\\text{tr}\\left[D^{-1}(t_0, t_3)(\\gamma_5)D^{-1}(t_3, t_2+\\hat{\\mu})(1+\\gamma_{\\mu})U_{\\mu}^{\\dagger}(x_2)D^{-1}(t_2, t_1+\\hat{\\nu})(1+\\gamma_{\\nu})U_{\\nu}^{\\dagger}(x_1)D^{-1}(t_1, t_0)(\\gamma_5)\\right]\\\\\n",
      "d_{0}^{\\text{C}}=4\\,\\text{tr}\\left[D^{-1}(t_1+\\hat{\\nu}, t_3)(\\gamma_5)D^{-1}(t_3, t_0)(\\gamma_5)D^{-1}(t_0, t_2)(1-\\gamma_{\\mu})U_{\\mu}(x_2)D^{-1}(t_2+\\hat{\\mu}, t_1)(1-\\gamma_{\\nu})U_{\\nu}(x_1)\\right]\\\\\n",
      "d_{2}^{\\text{C}}=-4\\,\\text{tr}\\left[D^{-1}(t_1+\\hat{\\nu}, t_3)(\\gamma_5)D^{-1}(t_3, t_0)(\\gamma_5)D^{-1}(t_0, t_2+\\hat{\\mu})(1+\\gamma_{\\mu})U_{\\mu}^{\\dagger}(x_2)D^{-1}(t_2, t_1)(1-\\gamma_{\\nu})U_{\\nu}(x_1)\\right]\\\\\n",
      "d_{4}^{\\text{C}}=-4\\,\\text{tr}\\left[D^{-1}(t_1, t_3)(\\gamma_5)D^{-1}(t_3, t_0)(\\gamma_5)D^{-1}(t_0, t_2)(1-\\gamma_{\\mu})U_{\\mu}(x_2)D^{-1}(t_2+\\hat{\\mu}, t_1+\\hat{\\nu})(1+\\gamma_{\\nu})U_{\\nu}^{\\dagger}(x_1)\\right]\\\\\n",
      "d_{6}^{\\text{C}}=4\\,\\text{tr}\\left[D^{-1}(t_1, t_3)(\\gamma_5)D^{-1}(t_3, t_0)(\\gamma_5)D^{-1}(t_0, t_2+\\hat{\\mu})(1+\\gamma_{\\mu})U_{\\mu}^{\\dagger}(x_2)D^{-1}(t_2, t_1+\\hat{\\nu})(1+\\gamma_{\\nu})U_{\\nu}^{\\dagger}(x_1)\\right]\\\\\n",
      "d_{27}^{\\text{C-bwd}}=1\\,\\text{tr}\\left[D^{-1}(t_0, t_3)(\\gamma_5)D^{-1}(t_3, t_1)(1-\\gamma_{\\nu})U_{\\nu}(x_1)D^{-1}(t_1+\\hat{\\nu}, t_2)(1-\\gamma_{\\mu})U_{\\mu}(x_2)D^{-1}(t_2+\\hat{\\mu}, t_0)(\\gamma_5)\\right]\\\\\n",
      "d_{33}^{\\text{C-bwd}}=-1\\,\\text{tr}\\left[D^{-1}(t_0, t_3)(\\gamma_5)D^{-1}(t_3, t_1)(1-\\gamma_{\\nu})U_{\\nu}(x_1)D^{-1}(t_1+\\hat{\\nu}, t_2+\\hat{\\mu})(1+\\gamma_{\\mu})U_{\\mu}^{\\dagger}(x_2)D^{-1}(t_2, t_0)(\\gamma_5)\\right]\\\\\n",
      "d_{39}^{\\text{C-bwd}}=-1\\,\\text{tr}\\left[D^{-1}(t_0, t_3)(\\gamma_5)D^{-1}(t_3, t_1+\\hat{\\nu})(1+\\gamma_{\\nu})U_{\\nu}^{\\dagger}(x_1)D^{-1}(t_1, t_2)(1-\\gamma_{\\mu})U_{\\mu}(x_2)D^{-1}(t_2+\\hat{\\mu}, t_0)(\\gamma_5)\\right]\\\\\n",
      "d_{45}^{\\text{C-bwd}}=1\\,\\text{tr}\\left[D^{-1}(t_0, t_3)(\\gamma_5)D^{-1}(t_3, t_1+\\hat{\\nu})(1+\\gamma_{\\nu})U_{\\nu}^{\\dagger}(x_1)D^{-1}(t_1, t_2+\\hat{\\mu})(1+\\gamma_{\\mu})U_{\\mu}^{\\dagger}(x_2)D^{-1}(t_2, t_0)(\\gamma_5)\\right]\\\\\n",
      "d_{28}^{\\text{D}}=-5\\,\\text{tr}\\left[D^{-1}(t_0, t_3)(\\gamma_5)D^{-1}(t_3, t_0)(\\gamma_5)\\right]\\text{tr}\\left[D^{-1}(t_1+\\hat{\\nu}, t_2)(1-\\gamma_{\\mu})U_{\\mu}(x_2)D^{-1}(t_2+\\hat{\\mu}, t_1)(1-\\gamma_{\\nu})U_{\\nu}(x_1)\\right]\\\\\n",
      "d_{34}^{\\text{D}}=5\\,\\text{tr}\\left[D^{-1}(t_0, t_3)(\\gamma_5)D^{-1}(t_3, t_0)(\\gamma_5)\\right]\\text{tr}\\left[D^{-1}(t_1+\\hat{\\nu}, t_2+\\hat{\\mu})(1+\\gamma_{\\mu})U_{\\mu}^{\\dagger}(x_2)D^{-1}(t_2, t_1)(1-\\gamma_{\\nu})U_{\\nu}(x_1)\\right]\\\\\n",
      "d_{40}^{\\text{D}}=5\\,\\text{tr}\\left[D^{-1}(t_0, t_3)(\\gamma_5)D^{-1}(t_3, t_0)(\\gamma_5)\\right]\\text{tr}\\left[D^{-1}(t_1, t_2)(1-\\gamma_{\\mu})U_{\\mu}(x_2)D^{-1}(t_2+\\hat{\\mu}, t_1+\\hat{\\nu})(1+\\gamma_{\\nu})U_{\\nu}^{\\dagger}(x_1)\\right]\\\\\n",
      "d_{46}^{\\text{D}}=-5\\,\\text{tr}\\left[D^{-1}(t_0, t_3)(\\gamma_5)D^{-1}(t_3, t_0)(\\gamma_5)\\right]\\text{tr}\\left[D^{-1}(t_1, t_2+\\hat{\\mu})(1+\\gamma_{\\mu})U_{\\mu}^{\\dagger}(x_2)D^{-1}(t_2, t_1+\\hat{\\nu})(1+\\gamma_{\\nu})U_{\\nu}^{\\dagger}(x_1)\\right]\\\\\n",
      "d_{17}^{\\text{El}}=-2\\,\\text{tr}\\left[D^{-1}(t_1+\\hat{\\nu}, t_3)(\\gamma_5)D^{-1}(t_3, t_0)(\\gamma_5)D^{-1}(t_0, t_1)(1-\\gamma_{\\nu})U_{\\nu}(x_1)\\right]\\text{tr}\\left[D^{-1}(t_2+\\hat{\\mu}, t_2)(1-\\gamma_{\\mu})U_{\\mu}(x_2)\\right]\\\\\n",
      "d_{19}^{\\text{El}}=2\\,\\text{tr}\\left[D^{-1}(t_1+\\hat{\\nu}, t_3)(\\gamma_5)D^{-1}(t_3, t_0)(\\gamma_5)D^{-1}(t_0, t_1)(1-\\gamma_{\\nu})U_{\\nu}(x_1)\\right]\\text{tr}\\left[D^{-1}(t_2, t_2+\\hat{\\mu})(1+\\gamma_{\\mu})U_{\\mu}^{\\dagger}(x_2)\\right]\\\\\n",
      "d_{21}^{\\text{El}}=2\\,\\text{tr}\\left[D^{-1}(t_1, t_3)(\\gamma_5)D^{-1}(t_3, t_0)(\\gamma_5)D^{-1}(t_0, t_1+\\hat{\\nu})(1+\\gamma_{\\nu})U_{\\nu}^{\\dagger}(x_1)\\right]\\text{tr}\\left[D^{-1}(t_2+\\hat{\\mu}, t_2)(1-\\gamma_{\\mu})U_{\\mu}(x_2)\\right]\\\\\n",
      "d_{23}^{\\text{El}}=-2\\,\\text{tr}\\left[D^{-1}(t_1, t_3)(\\gamma_5)D^{-1}(t_3, t_0)(\\gamma_5)D^{-1}(t_0, t_1+\\hat{\\nu})(1+\\gamma_{\\nu})U_{\\nu}^{\\dagger}(x_1)\\right]\\text{tr}\\left[D^{-1}(t_2, t_2+\\hat{\\mu})(1+\\gamma_{\\mu})U_{\\mu}^{\\dagger}(x_2)\\right]\\\\\n",
      "d_{24}^{\\text{El-bwd}}=1\\,\\text{tr}\\left[D^{-1}(t_0, t_3)(\\gamma_5)D^{-1}(t_3, t_1)(1-\\gamma_{\\nu})U_{\\nu}(x_1)D^{-1}(t_1+\\hat{\\nu}, t_0)(\\gamma_5)\\right]\\text{tr}\\left[D^{-1}(t_2+\\hat{\\mu}, t_2)(1-\\gamma_{\\mu})U_{\\mu}(x_2)\\right]\\\\\n",
      "d_{30}^{\\text{El-bwd}}=-1\\,\\text{tr}\\left[D^{-1}(t_0, t_3)(\\gamma_5)D^{-1}(t_3, t_1)(1-\\gamma_{\\nu})U_{\\nu}(x_1)D^{-1}(t_1+\\hat{\\nu}, t_0)(\\gamma_5)\\right]\\text{tr}\\left[D^{-1}(t_2, t_2+\\hat{\\mu})(1+\\gamma_{\\mu})U_{\\mu}^{\\dagger}(x_2)\\right]\\\\\n",
      "d_{36}^{\\text{El-bwd}}=-1\\,\\text{tr}\\left[D^{-1}(t_0, t_3)(\\gamma_5)D^{-1}(t_3, t_1+\\hat{\\nu})(1+\\gamma_{\\nu})U_{\\nu}^{\\dagger}(x_1)D^{-1}(t_1, t_0)(\\gamma_5)\\right]\\text{tr}\\left[D^{-1}(t_2+\\hat{\\mu}, t_2)(1-\\gamma_{\\mu})U_{\\mu}(x_2)\\right]\\\\\n",
      "d_{42}^{\\text{El-bwd}}=1\\,\\text{tr}\\left[D^{-1}(t_0, t_3)(\\gamma_5)D^{-1}(t_3, t_1+\\hat{\\nu})(1+\\gamma_{\\nu})U_{\\nu}^{\\dagger}(x_1)D^{-1}(t_1, t_0)(\\gamma_5)\\right]\\text{tr}\\left[D^{-1}(t_2, t_2+\\hat{\\mu})(1+\\gamma_{\\mu})U_{\\mu}^{\\dagger}(x_2)\\right]\\\\\n",
      "d_{9}^{\\text{Er}}=-2\\,\\text{tr}\\left[D^{-1}(t_2+\\hat{\\mu}, t_3)(\\gamma_5)D^{-1}(t_3, t_0)(\\gamma_5)D^{-1}(t_0, t_2)(1-\\gamma_{\\mu})U_{\\mu}(x_2)\\right]\\text{tr}\\left[D^{-1}(t_1+\\hat{\\nu}, t_1)(1-\\gamma_{\\nu})U_{\\nu}(x_1)\\right]\\\\\n",
      "d_{11}^{\\text{Er}}=2\\,\\text{tr}\\left[D^{-1}(t_2, t_3)(\\gamma_5)D^{-1}(t_3, t_0)(\\gamma_5)D^{-1}(t_0, t_2+\\hat{\\mu})(1+\\gamma_{\\mu})U_{\\mu}^{\\dagger}(x_2)\\right]\\text{tr}\\left[D^{-1}(t_1+\\hat{\\nu}, t_1)(1-\\gamma_{\\nu})U_{\\nu}(x_1)\\right]\\\\\n",
      "d_{13}^{\\text{Er}}=2\\,\\text{tr}\\left[D^{-1}(t_2+\\hat{\\mu}, t_3)(\\gamma_5)D^{-1}(t_3, t_0)(\\gamma_5)D^{-1}(t_0, t_2)(1-\\gamma_{\\mu})U_{\\mu}(x_2)\\right]\\text{tr}\\left[D^{-1}(t_1, t_1+\\hat{\\nu})(1+\\gamma_{\\nu})U_{\\nu}^{\\dagger}(x_1)\\right]\\\\\n",
      "d_{15}^{\\text{Er}}=-2\\,\\text{tr}\\left[D^{-1}(t_2, t_3)(\\gamma_5)D^{-1}(t_3, t_0)(\\gamma_5)D^{-1}(t_0, t_2+\\hat{\\mu})(1+\\gamma_{\\mu})U_{\\mu}^{\\dagger}(x_2)\\right]\\text{tr}\\left[D^{-1}(t_1, t_1+\\hat{\\nu})(1+\\gamma_{\\nu})U_{\\nu}^{\\dagger}(x_1)\\right]\\\\\n",
      "d_{26}^{\\text{Er-bwd}}=1\\,\\text{tr}\\left[D^{-1}(t_0, t_3)(\\gamma_5)D^{-1}(t_3, t_2)(1-\\gamma_{\\mu})U_{\\mu}(x_2)D^{-1}(t_2+\\hat{\\mu}, t_0)(\\gamma_5)\\right]\\text{tr}\\left[D^{-1}(t_1+\\hat{\\nu}, t_1)(1-\\gamma_{\\nu})U_{\\nu}(x_1)\\right]\\\\\n",
      "d_{32}^{\\text{Er-bwd}}=-1\\,\\text{tr}\\left[D^{-1}(t_0, t_3)(\\gamma_5)D^{-1}(t_3, t_2+\\hat{\\mu})(1+\\gamma_{\\mu})U_{\\mu}^{\\dagger}(x_2)D^{-1}(t_2, t_0)(\\gamma_5)\\right]\\text{tr}\\left[D^{-1}(t_1+\\hat{\\nu}, t_1)(1-\\gamma_{\\nu})U_{\\nu}(x_1)\\right]\\\\\n",
      "d_{38}^{\\text{Er-bwd}}=-1\\,\\text{tr}\\left[D^{-1}(t_0, t_3)(\\gamma_5)D^{-1}(t_3, t_2)(1-\\gamma_{\\mu})U_{\\mu}(x_2)D^{-1}(t_2+\\hat{\\mu}, t_0)(\\gamma_5)\\right]\\text{tr}\\left[D^{-1}(t_1, t_1+\\hat{\\nu})(1+\\gamma_{\\nu})U_{\\nu}^{\\dagger}(x_1)\\right]\\\\\n",
      "d_{44}^{\\text{Er-bwd}}=1\\,\\text{tr}\\left[D^{-1}(t_0, t_3)(\\gamma_5)D^{-1}(t_3, t_2+\\hat{\\mu})(1+\\gamma_{\\mu})U_{\\mu}^{\\dagger}(x_2)D^{-1}(t_2, t_0)(\\gamma_5)\\right]\\text{tr}\\left[D^{-1}(t_1, t_1+\\hat{\\nu})(1+\\gamma_{\\nu})U_{\\nu}^{\\dagger}(x_1)\\right]\\\\\n",
      "d_{29}^{\\text{F}}=1\\,\\text{tr}\\left[D^{-1}(t_0, t_3)(\\gamma_5)D^{-1}(t_3, t_0)(\\gamma_5)\\right]\\text{tr}\\left[D^{-1}(t_2+\\hat{\\mu}, t_2)(1-\\gamma_{\\mu})U_{\\mu}(x_2)\\right]\\text{tr}\\left[D^{-1}(t_1+\\hat{\\nu}, t_1)(1-\\gamma_{\\nu})U_{\\nu}(x_1)\\right]\\\\\n",
      "d_{35}^{\\text{F}}=-1\\,\\text{tr}\\left[D^{-1}(t_0, t_3)(\\gamma_5)D^{-1}(t_3, t_0)(\\gamma_5)\\right]\\text{tr}\\left[D^{-1}(t_2, t_2+\\hat{\\mu})(1+\\gamma_{\\mu})U_{\\mu}^{\\dagger}(x_2)\\right]\\text{tr}\\left[D^{-1}(t_1+\\hat{\\nu}, t_1)(1-\\gamma_{\\nu})U_{\\nu}(x_1)\\right]\\\\\n",
      "d_{41}^{\\text{F}}=-1\\,\\text{tr}\\left[D^{-1}(t_0, t_3)(\\gamma_5)D^{-1}(t_3, t_0)(\\gamma_5)\\right]\\text{tr}\\left[D^{-1}(t_2+\\hat{\\mu}, t_2)(1-\\gamma_{\\mu})U_{\\mu}(x_2)\\right]\\text{tr}\\left[D^{-1}(t_1, t_1+\\hat{\\nu})(1+\\gamma_{\\nu})U_{\\nu}^{\\dagger}(x_1)\\right]\\\\\n",
      "d_{47}^{\\text{F}}=1\\,\\text{tr}\\left[D^{-1}(t_0, t_3)(\\gamma_5)D^{-1}(t_3, t_0)(\\gamma_5)\\right]\\text{tr}\\left[D^{-1}(t_2, t_2+\\hat{\\mu})(1+\\gamma_{\\mu})U_{\\mu}^{\\dagger}(x_2)\\right]\\text{tr}\\left[D^{-1}(t_1, t_1+\\hat{\\nu})(1+\\gamma_{\\nu})U_{\\nu}^{\\dagger}(x_1)\\right]\n",
      "\\eeqs\n"
     ]
    }
   ],
   "source": [
    "print('\\\\beqs')\n",
    "for i,label in topSorted.items():\n",
    "    s='d_{{{}}}^{{\\\\text{{{}}}}}={}\\,'.format(i,label,int(total[i].coef))+diagram_as_trace_string(total[i])\n",
    "    if(i!=len(topSorted.items())-1):\n",
    "        s+='\\\\\\\\'\n",
    "    print(s)\n",
    "print('\\\\eeqs')\n",
    "    "
   ]
  },
  {
   "cell_type": "code",
   "execution_count": null,
   "metadata": {},
   "outputs": [],
   "source": []
  },
  {
   "cell_type": "code",
   "execution_count": null,
   "metadata": {},
   "outputs": [],
   "source": []
  },
  {
   "cell_type": "code",
   "execution_count": null,
   "metadata": {},
   "outputs": [],
   "source": []
  },
  {
   "cell_type": "code",
   "execution_count": null,
   "metadata": {},
   "outputs": [],
   "source": []
  },
  {
   "cell_type": "code",
   "execution_count": 12,
   "metadata": {},
   "outputs": [
    {
     "name": "stdout",
     "output_type": "stream",
     "text": [
      "{'A': [16, 18, 20, 22, 8, 10, 12, 14], 'B': [1, 3, 5, 7, 25, 31, 37, 43], 'C': [0, 2, 4, 6, 27, 33, 39, 45], 'D': [28, 34, 40, 46], 'E': [17, 19, 21, 23, 24, 30, 36, 42, 9, 11, 13, 15, 26, 32, 38, 44], 'F': [29, 35, 41, 47]}\n"
     ]
    }
   ],
   "source": [
    "data={}\n",
    "for k,v in topSorted.items():\n",
    "    if v[0] in data.keys():\n",
    "        data[v[0]].append(k)\n",
    "    else:\n",
    "        data[v[0]]=[k]\n",
    "print(data)"
   ]
  },
  {
   "cell_type": "code",
   "execution_count": 13,
   "metadata": {},
   "outputs": [
    {
     "name": "stdout",
     "output_type": "stream",
     "text": [
      "\\begin{tabular}{c c}\n"
     ]
    },
    {
     "ename": "TypeError",
     "evalue": "unsupported operand type(s) for +: 'int' and 'str'",
     "output_type": "error",
     "traceback": [
      "\u001b[0;31m---------------------------------------------------------------------------\u001b[0m",
      "\u001b[0;31mTypeError\u001b[0m                                 Traceback (most recent call last)",
      "\u001b[0;32m<ipython-input-13-4a1e8fd6b5a1>\u001b[0m in \u001b[0;36m<module>\u001b[0;34m\u001b[0m\n\u001b[1;32m     10\u001b[0m \u001b[0mprint\u001b[0m\u001b[0;34m(\u001b[0m\u001b[0;34m\"\\\\begin{tabular}{c c}\"\u001b[0m\u001b[0;34m)\u001b[0m\u001b[0;34m\u001b[0m\u001b[0;34m\u001b[0m\u001b[0m\n\u001b[1;32m     11\u001b[0m \u001b[0;32mfor\u001b[0m \u001b[0mk\u001b[0m\u001b[0;34m,\u001b[0m\u001b[0mv\u001b[0m \u001b[0;32min\u001b[0m \u001b[0mdata\u001b[0m\u001b[0;34m.\u001b[0m\u001b[0mitems\u001b[0m\u001b[0;34m(\u001b[0m\u001b[0;34m)\u001b[0m\u001b[0;34m:\u001b[0m\u001b[0;34m\u001b[0m\u001b[0;34m\u001b[0m\u001b[0m\n\u001b[0;32m---> 12\u001b[0;31m     \u001b[0mprint\u001b[0m\u001b[0;34m(\u001b[0m\u001b[0;34m\"{} \\& {}\"\u001b[0m\u001b[0;34m.\u001b[0m\u001b[0mformat\u001b[0m\u001b[0;34m(\u001b[0m\u001b[0mk\u001b[0m\u001b[0;34m,\u001b[0m\u001b[0mformat_line\u001b[0m\u001b[0;34m(\u001b[0m\u001b[0mv\u001b[0m\u001b[0;34m)\u001b[0m\u001b[0;34m)\u001b[0m\u001b[0;34m)\u001b[0m\u001b[0;34m\u001b[0m\u001b[0;34m\u001b[0m\u001b[0m\n\u001b[0m\u001b[1;32m     13\u001b[0m \u001b[0mprint\u001b[0m\u001b[0;34m(\u001b[0m\u001b[0;34m\"\\\\end{tabular}\"\u001b[0m\u001b[0;34m)\u001b[0m\u001b[0;34m\u001b[0m\u001b[0;34m\u001b[0m\u001b[0m\n",
      "\u001b[0;32m<ipython-input-13-4a1e8fd6b5a1>\u001b[0m in \u001b[0;36mformat_line\u001b[0;34m(lst)\u001b[0m\n\u001b[1;32m      3\u001b[0m     \u001b[0;32mfor\u001b[0m \u001b[0mi\u001b[0m\u001b[0;34m,\u001b[0m\u001b[0mc\u001b[0m \u001b[0;32min\u001b[0m \u001b[0menumerate\u001b[0m\u001b[0;34m(\u001b[0m\u001b[0mlst\u001b[0m\u001b[0;34m)\u001b[0m\u001b[0;34m:\u001b[0m\u001b[0;34m\u001b[0m\u001b[0;34m\u001b[0m\u001b[0m\n\u001b[1;32m      4\u001b[0m         \u001b[0;32mif\u001b[0m\u001b[0;34m(\u001b[0m\u001b[0mi\u001b[0m\u001b[0;34m!=\u001b[0m\u001b[0mlen\u001b[0m\u001b[0;34m(\u001b[0m\u001b[0mlst\u001b[0m\u001b[0;34m)\u001b[0m\u001b[0;34m-\u001b[0m\u001b[0;36m1\u001b[0m\u001b[0;34m)\u001b[0m\u001b[0;34m:\u001b[0m\u001b[0;34m\u001b[0m\u001b[0;34m\u001b[0m\u001b[0m\n\u001b[0;32m----> 5\u001b[0;31m             \u001b[0ms\u001b[0m\u001b[0;34m+=\u001b[0m\u001b[0mc\u001b[0m\u001b[0;34m+\u001b[0m\u001b[0;34m\" \"\u001b[0m\u001b[0;34m\u001b[0m\u001b[0;34m\u001b[0m\u001b[0m\n\u001b[0m\u001b[1;32m      6\u001b[0m         \u001b[0;32melse\u001b[0m\u001b[0;34m:\u001b[0m\u001b[0;34m\u001b[0m\u001b[0;34m\u001b[0m\u001b[0m\n\u001b[1;32m      7\u001b[0m             \u001b[0ms\u001b[0m\u001b[0;34m+=\u001b[0m\u001b[0mc\u001b[0m\u001b[0;34m\u001b[0m\u001b[0;34m\u001b[0m\u001b[0m\n",
      "\u001b[0;31mTypeError\u001b[0m: unsupported operand type(s) for +: 'int' and 'str'"
     ]
    }
   ],
   "source": [
    "def format_line(lst):\n",
    "    s=\"\"\n",
    "    for i,c in enumerate(lst):\n",
    "        if(i!=len(lst)-1):\n",
    "            s+=c+\" \"\n",
    "        else:\n",
    "            s+=c\n",
    "    return s\n",
    "\n",
    "print(\"\\\\begin{tabular}{c c}\")\n",
    "for k,v in data.items():\n",
    "    print(\"{} \\& {}\".format(k,format_line(v)))\n",
    "print(\"\\\\end{tabular}\")"
   ]
  },
  {
   "cell_type": "code",
   "execution_count": null,
   "metadata": {},
   "outputs": [],
   "source": []
  },
  {
   "cell_type": "code",
   "execution_count": null,
   "metadata": {},
   "outputs": [],
   "source": []
  }
 ],
 "metadata": {
  "kernelspec": {
   "display_name": "Python [conda env:LQCD] *",
   "language": "python",
   "name": "conda-env-LQCD-py"
  },
  "language_info": {
   "codemirror_mode": {
    "name": "ipython",
    "version": 3
   },
   "file_extension": ".py",
   "mimetype": "text/x-python",
   "name": "python",
   "nbconvert_exporter": "python",
   "pygments_lexer": "ipython3",
   "version": "3.8.13"
  }
 },
 "nbformat": 4,
 "nbformat_minor": 4
}
