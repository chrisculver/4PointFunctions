{
 "cells": [
  {
   "cell_type": "code",
   "execution_count": 1,
   "metadata": {},
   "outputs": [],
   "source": [
    "import sys\n",
    "import os\n",
    "\n",
    "sys.path.append(os.getcwd()[:-9])\n",
    "\n",
    "import WickContractions\n",
    "\n",
    "# the uglies part of the code is still defining operators.\n",
    "from WickContractions.ops.operator import Operator\n",
    "from WickContractions.ops.elemental import ElementalOperator\n",
    "from WickContractions.ops.quarks import Quark\n",
    "from WickContractions.ops.indexed import IndexedObject"
   ]
  },
  {
   "cell_type": "code",
   "execution_count": 2,
   "metadata": {},
   "outputs": [],
   "source": [
    "q0=Quark(True,'u','s_0','c_0','t_3','x_3')\n",
    "g0=IndexedObject('\\\\gamma_5',['s_0','s_1'])\n",
    "q1=Quark(False,'d','s_1','c_0','t_3','x_3')\n",
    "\n",
    "annihilate=Operator([ElementalOperator(+1,[g0],[q0,q1])])\n",
    "\n",
    "elementals=[]\n",
    "for pi2 in [['u',+2/3],['d',-1/3]]:\n",
    "    for pi1 in [['u',+2/3],['d',-1/3]]:\n",
    "        q2=Quark(True,pi2[0],'s_2','c_1','t_2','x_2')\n",
    "        g1=IndexedObject('\\\\gamma_{\\mu}',['s_2','s_3'])\n",
    "        q3=Quark(False,pi2[0],'s_3','c_1','t_2','x_2')\n",
    "\n",
    "        q4=Quark(True,pi1[0],'s_4','c_2','t_1','x_1')\n",
    "        g2=IndexedObject('\\\\gamma_{\\\\nu}',['s_4','s_5'])\n",
    "        q5=Quark(False,pi1[0],'s_5','c_2','t_1','x_1')\n",
    "\n",
    "        q6=Quark(True,'d','s_6','c_3','t_0','x_0')\n",
    "        g3=IndexedObject('\\\\gamma_5',['s_6','s_7'])\n",
    "        q7=Quark(False,'u','s_7','c_3','t_0','x_0')\n",
    "        elementals.append(ElementalOperator(-1*pi2[1]*pi1[1],[g1,g2,g3],[q2,q3,q4,q5,q6,q7]))\n",
    "        \n",
    "create=Operator(elementals)"
   ]
  },
  {
   "cell_type": "code",
   "execution_count": 3,
   "metadata": {},
   "outputs": [
    {
     "name": "stdout",
     "output_type": "stream",
     "text": [
      "-0.4444444444444444*\\gamma_{\\mu}_{s_2 s_3}*\\gamma_{\\nu}_{s_4 s_5}*\\gamma_5_{s_6 s_7}*\\bar{u}_{s_2 c_1}(x_2, t_2)*u_{s_3 c_1}(x_2, t_2)*\\bar{u}_{s_4 c_2}(x_1, t_1)*u_{s_5 c_2}(x_1, t_1)*\\bar{d}_{s_6 c_3}(x_0, t_0)*u_{s_7 c_3}(x_0, t_0)+0.2222222222222222*\\gamma_{\\mu}_{s_2 s_3}*\\gamma_{\\nu}_{s_4 s_5}*\\gamma_5_{s_6 s_7}*\\bar{u}_{s_2 c_1}(x_2, t_2)*u_{s_3 c_1}(x_2, t_2)*\\bar{d}_{s_4 c_2}(x_1, t_1)*d_{s_5 c_2}(x_1, t_1)*\\bar{d}_{s_6 c_3}(x_0, t_0)*u_{s_7 c_3}(x_0, t_0)+0.2222222222222222*\\gamma_{\\mu}_{s_2 s_3}*\\gamma_{\\nu}_{s_4 s_5}*\\gamma_5_{s_6 s_7}*\\bar{d}_{s_2 c_1}(x_2, t_2)*d_{s_3 c_1}(x_2, t_2)*\\bar{u}_{s_4 c_2}(x_1, t_1)*u_{s_5 c_2}(x_1, t_1)*\\bar{d}_{s_6 c_3}(x_0, t_0)*u_{s_7 c_3}(x_0, t_0)+-0.1111111111111111*\\gamma_{\\mu}_{s_2 s_3}*\\gamma_{\\nu}_{s_4 s_5}*\\gamma_5_{s_6 s_7}*\\bar{d}_{s_2 c_1}(x_2, t_2)*d_{s_3 c_1}(x_2, t_2)*\\bar{d}_{s_4 c_2}(x_1, t_1)*d_{s_5 c_2}(x_1, t_1)*\\bar{d}_{s_6 c_3}(x_0, t_0)*u_{s_7 c_3}(x_0, t_0)\n"
     ]
    }
   ],
   "source": [
    "print(create)"
   ]
  },
  {
   "cell_type": "code",
   "execution_count": 4,
   "metadata": {},
   "outputs": [
    {
     "name": "stdout",
     "output_type": "stream",
     "text": [
      "1*\\gamma_5_{s_0 s_1}*\\bar{u}_{s_0 c_0}(x_3, t_3)*d_{s_1 c_0}(x_3, t_3)\n"
     ]
    }
   ],
   "source": [
    "print(annihilate)"
   ]
  },
  {
   "cell_type": "code",
   "execution_count": 5,
   "metadata": {},
   "outputs": [],
   "source": [
    "from WickContractions.wick.contract import contract\n",
    "res=contract(annihilate,create)"
   ]
  },
  {
   "cell_type": "code",
   "execution_count": 6,
   "metadata": {},
   "outputs": [
    {
     "data": {
      "text/plain": [
       "20"
      ]
     },
     "execution_count": 6,
     "metadata": {},
     "output_type": "execute_result"
    }
   ],
   "source": [
    "len(res.diagrams)"
   ]
  },
  {
   "cell_type": "code",
   "execution_count": 7,
   "metadata": {},
   "outputs": [
    {
     "name": "stdout",
     "output_type": "stream",
     "text": [
      "20\n",
      "12\n"
     ]
    }
   ],
   "source": [
    "import copy\n",
    "from diagram_utils import combine_diagrams\n",
    "total=copy.deepcopy(res.diagrams)\n",
    "\n",
    "print(len(total))\n",
    "\n",
    "##you can take the isospin limit by setting 'd'='u'\n",
    "for d in total:\n",
    "    for p in d.props:\n",
    "        p.name = 'S'\n",
    "        #p.name = 'S^'+p.name.split('_')[1]\n",
    "\n",
    "combine_diagrams(total)\n",
    "\n",
    "for d in total:\n",
    "    d.coef*=9\n",
    "        \n",
    "print(len(total))"
   ]
  },
  {
   "cell_type": "code",
   "execution_count": 8,
   "metadata": {},
   "outputs": [],
   "source": [
    "from print_utilities import diagram_as_latex_str, labelled_diagram_as_latex_str\n",
    "from IPython.display import display, Math"
   ]
  },
  {
   "cell_type": "code",
   "execution_count": 9,
   "metadata": {},
   "outputs": [
    {
     "data": {
      "text/latex": [
       "$\\displaystyle d_{0}=4.0 S(x_1t_1\\mid x_3t_3)_{\\substack{s_5\\\\c_2}\\substack{s_0\\\\c_0}}S(x_0t_0\\mid x_2t_2)_{\\substack{s_7\\\\c_3}\\substack{s_2\\\\c_1}}S(x_2t_2\\mid x_1t_1)_{\\substack{s_3\\\\c_1}\\substack{s_4\\\\c_2}}S(x_3t_3\\mid x_0t_0)_{\\substack{s_1\\\\c_0}\\substack{s_6\\\\c_3}}\\gamma_{5_{s_0s_1}}\\gamma_{5_{s_6s_7}}\\gamma_{{\\mu}_{s_2s_3}}\\gamma_{{\\nu}_{s_4s_5}}\\\\$"
      ],
      "text/plain": [
       "<IPython.core.display.Math object>"
      ]
     },
     "metadata": {},
     "output_type": "display_data"
    },
    {
     "data": {
      "text/latex": [
       "$\\displaystyle d_{1}=4.0 S(x_2t_2\\mid x_3t_3)_{\\substack{s_3\\\\c_1}\\substack{s_0\\\\c_0}}S(x_1t_1\\mid x_2t_2)_{\\substack{s_5\\\\c_2}\\substack{s_2\\\\c_1}}S(x_0t_0\\mid x_1t_1)_{\\substack{s_7\\\\c_3}\\substack{s_4\\\\c_2}}S(x_3t_3\\mid x_0t_0)_{\\substack{s_1\\\\c_0}\\substack{s_6\\\\c_3}}\\gamma_{5_{s_0s_1}}\\gamma_{5_{s_6s_7}}\\gamma_{{\\mu}_{s_2s_3}}\\gamma_{{\\nu}_{s_4s_5}}\\\\$"
      ],
      "text/plain": [
       "<IPython.core.display.Math object>"
      ]
     },
     "metadata": {},
     "output_type": "display_data"
    },
    {
     "data": {
      "text/latex": [
       "$\\displaystyle d_{2}=-2.0 S(x_2t_2\\mid x_3t_3)_{\\substack{s_3\\\\c_1}\\substack{s_0\\\\c_0}}S(x_0t_0\\mid x_2t_2)_{\\substack{s_7\\\\c_3}\\substack{s_2\\\\c_1}}S(x_3t_3\\mid x_1t_1)_{\\substack{s_1\\\\c_0}\\substack{s_4\\\\c_2}}S(x_1t_1\\mid x_0t_0)_{\\substack{s_5\\\\c_2}\\substack{s_6\\\\c_3}}\\gamma_{5_{s_0s_1}}\\gamma_{5_{s_6s_7}}\\gamma_{{\\mu}_{s_2s_3}}\\gamma_{{\\nu}_{s_4s_5}}\\\\$"
      ],
      "text/plain": [
       "<IPython.core.display.Math object>"
      ]
     },
     "metadata": {},
     "output_type": "display_data"
    },
    {
     "data": {
      "text/latex": [
       "$\\displaystyle d_{3}=-2.0 S(x_2t_2\\mid x_3t_3)_{\\substack{s_3\\\\c_1}\\substack{s_0\\\\c_0}}S(x_0t_0\\mid x_2t_2)_{\\substack{s_7\\\\c_3}\\substack{s_2\\\\c_1}}S(x_1t_1\\mid x_1t_1)_{\\substack{s_5\\\\c_2}\\substack{s_4\\\\c_2}}S(x_3t_3\\mid x_0t_0)_{\\substack{s_1\\\\c_0}\\substack{s_6\\\\c_3}}\\gamma_{5_{s_0s_1}}\\gamma_{5_{s_6s_7}}\\gamma_{{\\mu}_{s_2s_3}}\\gamma_{{\\nu}_{s_4s_5}}\\\\$"
      ],
      "text/plain": [
       "<IPython.core.display.Math object>"
      ]
     },
     "metadata": {},
     "output_type": "display_data"
    },
    {
     "data": {
      "text/latex": [
       "$\\displaystyle d_{4}=-2.0 S(x_1t_1\\mid x_3t_3)_{\\substack{s_5\\\\c_2}\\substack{s_0\\\\c_0}}S(x_3t_3\\mid x_2t_2)_{\\substack{s_1\\\\c_0}\\substack{s_2\\\\c_1}}S(x_0t_0\\mid x_1t_1)_{\\substack{s_7\\\\c_3}\\substack{s_4\\\\c_2}}S(x_2t_2\\mid x_0t_0)_{\\substack{s_3\\\\c_1}\\substack{s_6\\\\c_3}}\\gamma_{5_{s_0s_1}}\\gamma_{5_{s_6s_7}}\\gamma_{{\\mu}_{s_2s_3}}\\gamma_{{\\nu}_{s_4s_5}}\\\\$"
      ],
      "text/plain": [
       "<IPython.core.display.Math object>"
      ]
     },
     "metadata": {},
     "output_type": "display_data"
    },
    {
     "data": {
      "text/latex": [
       "$\\displaystyle d_{5}=-2.0 S(x_1t_1\\mid x_3t_3)_{\\substack{s_5\\\\c_2}\\substack{s_0\\\\c_0}}S(x_2t_2\\mid x_2t_2)_{\\substack{s_3\\\\c_1}\\substack{s_2\\\\c_1}}S(x_0t_0\\mid x_1t_1)_{\\substack{s_7\\\\c_3}\\substack{s_4\\\\c_2}}S(x_3t_3\\mid x_0t_0)_{\\substack{s_1\\\\c_0}\\substack{s_6\\\\c_3}}\\gamma_{5_{s_0s_1}}\\gamma_{5_{s_6s_7}}\\gamma_{{\\mu}_{s_2s_3}}\\gamma_{{\\nu}_{s_4s_5}}\\\\$"
      ],
      "text/plain": [
       "<IPython.core.display.Math object>"
      ]
     },
     "metadata": {},
     "output_type": "display_data"
    },
    {
     "data": {
      "text/latex": [
       "$\\displaystyle d_{6}=1.0 S(x_0t_0\\mid x_3t_3)_{\\substack{s_7\\\\c_3}\\substack{s_0\\\\c_0}}S(x_2t_2\\mid x_2t_2)_{\\substack{s_3\\\\c_1}\\substack{s_2\\\\c_1}}S(x_3t_3\\mid x_1t_1)_{\\substack{s_1\\\\c_0}\\substack{s_4\\\\c_2}}S(x_1t_1\\mid x_0t_0)_{\\substack{s_5\\\\c_2}\\substack{s_6\\\\c_3}}\\gamma_{5_{s_0s_1}}\\gamma_{5_{s_6s_7}}\\gamma_{{\\mu}_{s_2s_3}}\\gamma_{{\\nu}_{s_4s_5}}\\\\$"
      ],
      "text/plain": [
       "<IPython.core.display.Math object>"
      ]
     },
     "metadata": {},
     "output_type": "display_data"
    },
    {
     "data": {
      "text/latex": [
       "$\\displaystyle d_{7}=1.0 S(x_0t_0\\mid x_3t_3)_{\\substack{s_7\\\\c_3}\\substack{s_0\\\\c_0}}S(x_3t_3\\mid x_2t_2)_{\\substack{s_1\\\\c_0}\\substack{s_2\\\\c_1}}S(x_2t_2\\mid x_1t_1)_{\\substack{s_3\\\\c_1}\\substack{s_4\\\\c_2}}S(x_1t_1\\mid x_0t_0)_{\\substack{s_5\\\\c_2}\\substack{s_6\\\\c_3}}\\gamma_{5_{s_0s_1}}\\gamma_{5_{s_6s_7}}\\gamma_{{\\mu}_{s_2s_3}}\\gamma_{{\\nu}_{s_4s_5}}\\\\$"
      ],
      "text/plain": [
       "<IPython.core.display.Math object>"
      ]
     },
     "metadata": {},
     "output_type": "display_data"
    },
    {
     "data": {
      "text/latex": [
       "$\\displaystyle d_{8}=1.0 S(x_0t_0\\mid x_3t_3)_{\\substack{s_7\\\\c_3}\\substack{s_0\\\\c_0}}S(x_3t_3\\mid x_2t_2)_{\\substack{s_1\\\\c_0}\\substack{s_2\\\\c_1}}S(x_1t_1\\mid x_1t_1)_{\\substack{s_5\\\\c_2}\\substack{s_4\\\\c_2}}S(x_2t_2\\mid x_0t_0)_{\\substack{s_3\\\\c_1}\\substack{s_6\\\\c_3}}\\gamma_{5_{s_0s_1}}\\gamma_{5_{s_6s_7}}\\gamma_{{\\mu}_{s_2s_3}}\\gamma_{{\\nu}_{s_4s_5}}\\\\$"
      ],
      "text/plain": [
       "<IPython.core.display.Math object>"
      ]
     },
     "metadata": {},
     "output_type": "display_data"
    },
    {
     "data": {
      "text/latex": [
       "$\\displaystyle d_{9}=1.0 S(x_0t_0\\mid x_3t_3)_{\\substack{s_7\\\\c_3}\\substack{s_0\\\\c_0}}S(x_1t_1\\mid x_2t_2)_{\\substack{s_5\\\\c_2}\\substack{s_2\\\\c_1}}S(x_3t_3\\mid x_1t_1)_{\\substack{s_1\\\\c_0}\\substack{s_4\\\\c_2}}S(x_2t_2\\mid x_0t_0)_{\\substack{s_3\\\\c_1}\\substack{s_6\\\\c_3}}\\gamma_{5_{s_0s_1}}\\gamma_{5_{s_6s_7}}\\gamma_{{\\mu}_{s_2s_3}}\\gamma_{{\\nu}_{s_4s_5}}\\\\$"
      ],
      "text/plain": [
       "<IPython.core.display.Math object>"
      ]
     },
     "metadata": {},
     "output_type": "display_data"
    },
    {
     "data": {
      "text/latex": [
       "$\\displaystyle d_{10}=-5.0 S(x_0t_0\\mid x_3t_3)_{\\substack{s_7\\\\c_3}\\substack{s_0\\\\c_0}}S(x_1t_1\\mid x_2t_2)_{\\substack{s_5\\\\c_2}\\substack{s_2\\\\c_1}}S(x_2t_2\\mid x_1t_1)_{\\substack{s_3\\\\c_1}\\substack{s_4\\\\c_2}}S(x_3t_3\\mid x_0t_0)_{\\substack{s_1\\\\c_0}\\substack{s_6\\\\c_3}}\\gamma_{5_{s_0s_1}}\\gamma_{5_{s_6s_7}}\\gamma_{{\\mu}_{s_2s_3}}\\gamma_{{\\nu}_{s_4s_5}}\\\\$"
      ],
      "text/plain": [
       "<IPython.core.display.Math object>"
      ]
     },
     "metadata": {},
     "output_type": "display_data"
    },
    {
     "data": {
      "text/latex": [
       "$\\displaystyle d_{11}=1.0 S(x_0t_0\\mid x_3t_3)_{\\substack{s_7\\\\c_3}\\substack{s_0\\\\c_0}}S(x_2t_2\\mid x_2t_2)_{\\substack{s_3\\\\c_1}\\substack{s_2\\\\c_1}}S(x_1t_1\\mid x_1t_1)_{\\substack{s_5\\\\c_2}\\substack{s_4\\\\c_2}}S(x_3t_3\\mid x_0t_0)_{\\substack{s_1\\\\c_0}\\substack{s_6\\\\c_3}}\\gamma_{5_{s_0s_1}}\\gamma_{5_{s_6s_7}}\\gamma_{{\\mu}_{s_2s_3}}\\gamma_{{\\nu}_{s_4s_5}}\\\\$"
      ],
      "text/plain": [
       "<IPython.core.display.Math object>"
      ]
     },
     "metadata": {},
     "output_type": "display_data"
    }
   ],
   "source": [
    "for i in range(0,len(total)):\n",
    "    display(Math(diagram_as_latex_str(total[i],i)))"
   ]
  },
  {
   "cell_type": "code",
   "execution_count": 10,
   "metadata": {},
   "outputs": [],
   "source": [
    "from topologies import *\n",
    "\n",
    "topList=diagram_time_order(total)\n",
    "connect_times(topList)\n",
    "name_topologies(topList)"
   ]
  },
  {
   "cell_type": "code",
   "execution_count": 11,
   "metadata": {},
   "outputs": [
    {
     "data": {
      "text/plain": [
       "{0: 'C',\n",
       " 1: 'B',\n",
       " 2: 'A-bwd',\n",
       " 3: 'Er',\n",
       " 4: 'A',\n",
       " 5: 'El',\n",
       " 6: 'El-bwd',\n",
       " 7: 'B-bwd',\n",
       " 8: 'Er-bwd',\n",
       " 9: 'C-bwd',\n",
       " 10: 'D',\n",
       " 11: 'F'}"
      ]
     },
     "execution_count": 11,
     "metadata": {},
     "output_type": "execute_result"
    }
   ],
   "source": [
    "topList"
   ]
  },
  {
   "cell_type": "code",
   "execution_count": 12,
   "metadata": {},
   "outputs": [
    {
     "name": "stdout",
     "output_type": "stream",
     "text": [
      "{4: 'A', 2: 'A-bwd', 1: 'B', 7: 'B-bwd', 0: 'C', 9: 'C-bwd', 10: 'D', 5: 'El', 6: 'El-bwd', 3: 'Er', 8: 'Er-bwd', 11: 'F'}\n"
     ]
    }
   ],
   "source": [
    "x=copy.deepcopy(topList)\n",
    "topSorted={k: v for k, v in sorted(x.items(), key=lambda item: item[1])}\n",
    "print(topSorted)"
   ]
  },
  {
   "cell_type": "code",
   "execution_count": 13,
   "metadata": {},
   "outputs": [
    {
     "data": {
      "text/latex": [
       "$\\displaystyle d_{4}^{\\text{(A)}}=-2.0 S(x_1t_1\\mid x_3t_3)_{\\substack{s_5\\\\c_2}\\substack{s_0\\\\c_0}}S(x_3t_3\\mid x_2t_2)_{\\substack{s_1\\\\c_0}\\substack{s_2\\\\c_1}}S(x_0t_0\\mid x_1t_1)_{\\substack{s_7\\\\c_3}\\substack{s_4\\\\c_2}}S(x_2t_2\\mid x_0t_0)_{\\substack{s_3\\\\c_1}\\substack{s_6\\\\c_3}}\\gamma_{5_{s_0s_1}}\\gamma_{5_{s_6s_7}}\\gamma_{{\\mu}_{s_2s_3}}\\gamma_{{\\nu}_{s_4s_5}}\\\\$"
      ],
      "text/plain": [
       "<IPython.core.display.Math object>"
      ]
     },
     "metadata": {},
     "output_type": "display_data"
    },
    {
     "data": {
      "text/latex": [
       "$\\displaystyle d_{2}^{\\text{(A-bwd)}}=-2.0 S(x_2t_2\\mid x_3t_3)_{\\substack{s_3\\\\c_1}\\substack{s_0\\\\c_0}}S(x_0t_0\\mid x_2t_2)_{\\substack{s_7\\\\c_3}\\substack{s_2\\\\c_1}}S(x_3t_3\\mid x_1t_1)_{\\substack{s_1\\\\c_0}\\substack{s_4\\\\c_2}}S(x_1t_1\\mid x_0t_0)_{\\substack{s_5\\\\c_2}\\substack{s_6\\\\c_3}}\\gamma_{5_{s_0s_1}}\\gamma_{5_{s_6s_7}}\\gamma_{{\\mu}_{s_2s_3}}\\gamma_{{\\nu}_{s_4s_5}}\\\\$"
      ],
      "text/plain": [
       "<IPython.core.display.Math object>"
      ]
     },
     "metadata": {},
     "output_type": "display_data"
    },
    {
     "data": {
      "text/latex": [
       "$\\displaystyle d_{1}^{\\text{(B)}}=4.0 S(x_2t_2\\mid x_3t_3)_{\\substack{s_3\\\\c_1}\\substack{s_0\\\\c_0}}S(x_1t_1\\mid x_2t_2)_{\\substack{s_5\\\\c_2}\\substack{s_2\\\\c_1}}S(x_0t_0\\mid x_1t_1)_{\\substack{s_7\\\\c_3}\\substack{s_4\\\\c_2}}S(x_3t_3\\mid x_0t_0)_{\\substack{s_1\\\\c_0}\\substack{s_6\\\\c_3}}\\gamma_{5_{s_0s_1}}\\gamma_{5_{s_6s_7}}\\gamma_{{\\mu}_{s_2s_3}}\\gamma_{{\\nu}_{s_4s_5}}\\\\$"
      ],
      "text/plain": [
       "<IPython.core.display.Math object>"
      ]
     },
     "metadata": {},
     "output_type": "display_data"
    },
    {
     "data": {
      "text/latex": [
       "$\\displaystyle d_{7}^{\\text{(B-bwd)}}=1.0 S(x_0t_0\\mid x_3t_3)_{\\substack{s_7\\\\c_3}\\substack{s_0\\\\c_0}}S(x_3t_3\\mid x_2t_2)_{\\substack{s_1\\\\c_0}\\substack{s_2\\\\c_1}}S(x_2t_2\\mid x_1t_1)_{\\substack{s_3\\\\c_1}\\substack{s_4\\\\c_2}}S(x_1t_1\\mid x_0t_0)_{\\substack{s_5\\\\c_2}\\substack{s_6\\\\c_3}}\\gamma_{5_{s_0s_1}}\\gamma_{5_{s_6s_7}}\\gamma_{{\\mu}_{s_2s_3}}\\gamma_{{\\nu}_{s_4s_5}}\\\\$"
      ],
      "text/plain": [
       "<IPython.core.display.Math object>"
      ]
     },
     "metadata": {},
     "output_type": "display_data"
    },
    {
     "data": {
      "text/latex": [
       "$\\displaystyle d_{0}^{\\text{(C)}}=4.0 S(x_1t_1\\mid x_3t_3)_{\\substack{s_5\\\\c_2}\\substack{s_0\\\\c_0}}S(x_0t_0\\mid x_2t_2)_{\\substack{s_7\\\\c_3}\\substack{s_2\\\\c_1}}S(x_2t_2\\mid x_1t_1)_{\\substack{s_3\\\\c_1}\\substack{s_4\\\\c_2}}S(x_3t_3\\mid x_0t_0)_{\\substack{s_1\\\\c_0}\\substack{s_6\\\\c_3}}\\gamma_{5_{s_0s_1}}\\gamma_{5_{s_6s_7}}\\gamma_{{\\mu}_{s_2s_3}}\\gamma_{{\\nu}_{s_4s_5}}\\\\$"
      ],
      "text/plain": [
       "<IPython.core.display.Math object>"
      ]
     },
     "metadata": {},
     "output_type": "display_data"
    },
    {
     "data": {
      "text/latex": [
       "$\\displaystyle d_{9}^{\\text{(C-bwd)}}=1.0 S(x_0t_0\\mid x_3t_3)_{\\substack{s_7\\\\c_3}\\substack{s_0\\\\c_0}}S(x_1t_1\\mid x_2t_2)_{\\substack{s_5\\\\c_2}\\substack{s_2\\\\c_1}}S(x_3t_3\\mid x_1t_1)_{\\substack{s_1\\\\c_0}\\substack{s_4\\\\c_2}}S(x_2t_2\\mid x_0t_0)_{\\substack{s_3\\\\c_1}\\substack{s_6\\\\c_3}}\\gamma_{5_{s_0s_1}}\\gamma_{5_{s_6s_7}}\\gamma_{{\\mu}_{s_2s_3}}\\gamma_{{\\nu}_{s_4s_5}}\\\\$"
      ],
      "text/plain": [
       "<IPython.core.display.Math object>"
      ]
     },
     "metadata": {},
     "output_type": "display_data"
    },
    {
     "data": {
      "text/latex": [
       "$\\displaystyle d_{10}^{\\text{(D)}}=-5.0 S(x_0t_0\\mid x_3t_3)_{\\substack{s_7\\\\c_3}\\substack{s_0\\\\c_0}}S(x_1t_1\\mid x_2t_2)_{\\substack{s_5\\\\c_2}\\substack{s_2\\\\c_1}}S(x_2t_2\\mid x_1t_1)_{\\substack{s_3\\\\c_1}\\substack{s_4\\\\c_2}}S(x_3t_3\\mid x_0t_0)_{\\substack{s_1\\\\c_0}\\substack{s_6\\\\c_3}}\\gamma_{5_{s_0s_1}}\\gamma_{5_{s_6s_7}}\\gamma_{{\\mu}_{s_2s_3}}\\gamma_{{\\nu}_{s_4s_5}}\\\\$"
      ],
      "text/plain": [
       "<IPython.core.display.Math object>"
      ]
     },
     "metadata": {},
     "output_type": "display_data"
    },
    {
     "data": {
      "text/latex": [
       "$\\displaystyle d_{5}^{\\text{(El)}}=-2.0 S(x_1t_1\\mid x_3t_3)_{\\substack{s_5\\\\c_2}\\substack{s_0\\\\c_0}}S(x_2t_2\\mid x_2t_2)_{\\substack{s_3\\\\c_1}\\substack{s_2\\\\c_1}}S(x_0t_0\\mid x_1t_1)_{\\substack{s_7\\\\c_3}\\substack{s_4\\\\c_2}}S(x_3t_3\\mid x_0t_0)_{\\substack{s_1\\\\c_0}\\substack{s_6\\\\c_3}}\\gamma_{5_{s_0s_1}}\\gamma_{5_{s_6s_7}}\\gamma_{{\\mu}_{s_2s_3}}\\gamma_{{\\nu}_{s_4s_5}}\\\\$"
      ],
      "text/plain": [
       "<IPython.core.display.Math object>"
      ]
     },
     "metadata": {},
     "output_type": "display_data"
    },
    {
     "data": {
      "text/latex": [
       "$\\displaystyle d_{6}^{\\text{(El-bwd)}}=1.0 S(x_0t_0\\mid x_3t_3)_{\\substack{s_7\\\\c_3}\\substack{s_0\\\\c_0}}S(x_2t_2\\mid x_2t_2)_{\\substack{s_3\\\\c_1}\\substack{s_2\\\\c_1}}S(x_3t_3\\mid x_1t_1)_{\\substack{s_1\\\\c_0}\\substack{s_4\\\\c_2}}S(x_1t_1\\mid x_0t_0)_{\\substack{s_5\\\\c_2}\\substack{s_6\\\\c_3}}\\gamma_{5_{s_0s_1}}\\gamma_{5_{s_6s_7}}\\gamma_{{\\mu}_{s_2s_3}}\\gamma_{{\\nu}_{s_4s_5}}\\\\$"
      ],
      "text/plain": [
       "<IPython.core.display.Math object>"
      ]
     },
     "metadata": {},
     "output_type": "display_data"
    },
    {
     "data": {
      "text/latex": [
       "$\\displaystyle d_{3}^{\\text{(Er)}}=-2.0 S(x_2t_2\\mid x_3t_3)_{\\substack{s_3\\\\c_1}\\substack{s_0\\\\c_0}}S(x_0t_0\\mid x_2t_2)_{\\substack{s_7\\\\c_3}\\substack{s_2\\\\c_1}}S(x_1t_1\\mid x_1t_1)_{\\substack{s_5\\\\c_2}\\substack{s_4\\\\c_2}}S(x_3t_3\\mid x_0t_0)_{\\substack{s_1\\\\c_0}\\substack{s_6\\\\c_3}}\\gamma_{5_{s_0s_1}}\\gamma_{5_{s_6s_7}}\\gamma_{{\\mu}_{s_2s_3}}\\gamma_{{\\nu}_{s_4s_5}}\\\\$"
      ],
      "text/plain": [
       "<IPython.core.display.Math object>"
      ]
     },
     "metadata": {},
     "output_type": "display_data"
    },
    {
     "data": {
      "text/latex": [
       "$\\displaystyle d_{8}^{\\text{(Er-bwd)}}=1.0 S(x_0t_0\\mid x_3t_3)_{\\substack{s_7\\\\c_3}\\substack{s_0\\\\c_0}}S(x_3t_3\\mid x_2t_2)_{\\substack{s_1\\\\c_0}\\substack{s_2\\\\c_1}}S(x_1t_1\\mid x_1t_1)_{\\substack{s_5\\\\c_2}\\substack{s_4\\\\c_2}}S(x_2t_2\\mid x_0t_0)_{\\substack{s_3\\\\c_1}\\substack{s_6\\\\c_3}}\\gamma_{5_{s_0s_1}}\\gamma_{5_{s_6s_7}}\\gamma_{{\\mu}_{s_2s_3}}\\gamma_{{\\nu}_{s_4s_5}}\\\\$"
      ],
      "text/plain": [
       "<IPython.core.display.Math object>"
      ]
     },
     "metadata": {},
     "output_type": "display_data"
    },
    {
     "data": {
      "text/latex": [
       "$\\displaystyle d_{11}^{\\text{(F)}}=1.0 S(x_0t_0\\mid x_3t_3)_{\\substack{s_7\\\\c_3}\\substack{s_0\\\\c_0}}S(x_2t_2\\mid x_2t_2)_{\\substack{s_3\\\\c_1}\\substack{s_2\\\\c_1}}S(x_1t_1\\mid x_1t_1)_{\\substack{s_5\\\\c_2}\\substack{s_4\\\\c_2}}S(x_3t_3\\mid x_0t_0)_{\\substack{s_1\\\\c_0}\\substack{s_6\\\\c_3}}\\gamma_{5_{s_0s_1}}\\gamma_{5_{s_6s_7}}\\gamma_{{\\mu}_{s_2s_3}}\\gamma_{{\\nu}_{s_4s_5}}\\\\$"
      ],
      "text/plain": [
       "<IPython.core.display.Math object>"
      ]
     },
     "metadata": {},
     "output_type": "display_data"
    }
   ],
   "source": [
    "from print_utilities import print_diagrams_labelled\n",
    "\n",
    "for i,label in topSorted.items():\n",
    "    display(Math(labelled_diagram_as_latex_str(total[i],i,label)))"
   ]
  },
  {
   "cell_type": "code",
   "execution_count": 14,
   "metadata": {},
   "outputs": [
    {
     "data": {
      "text/latex": [
       "$\\displaystyle d_{4}^{\\text{A}}=-2.0\\,\\text{tr}\\left[S(t_1, t_3)\\gamma_5S(t_3, t_2)\\gamma_{\\mu}S(t_2, t_0)\\gamma_5S(t_0, t_1)\\gamma_{\\nu}\\right]$"
      ],
      "text/plain": [
       "<IPython.core.display.Math object>"
      ]
     },
     "metadata": {},
     "output_type": "display_data"
    },
    {
     "data": {
      "text/latex": [
       "$\\displaystyle d_{2}^{\\text{A-bwd}}=-2.0\\,\\text{tr}\\left[S(t_2, t_3)\\gamma_5S(t_3, t_1)\\gamma_{\\nu}S(t_1, t_0)\\gamma_5S(t_0, t_2)\\gamma_{\\mu}\\right]$"
      ],
      "text/plain": [
       "<IPython.core.display.Math object>"
      ]
     },
     "metadata": {},
     "output_type": "display_data"
    },
    {
     "data": {
      "text/latex": [
       "$\\displaystyle d_{1}^{\\text{B}}=4.0\\,\\text{tr}\\left[S(t_2, t_3)\\gamma_5S(t_3, t_0)\\gamma_5S(t_0, t_1)\\gamma_{\\nu}S(t_1, t_2)\\gamma_{\\mu}\\right]$"
      ],
      "text/plain": [
       "<IPython.core.display.Math object>"
      ]
     },
     "metadata": {},
     "output_type": "display_data"
    },
    {
     "data": {
      "text/latex": [
       "$\\displaystyle d_{7}^{\\text{B-bwd}}=1.0\\,\\text{tr}\\left[S(t_0, t_3)\\gamma_5S(t_3, t_2)\\gamma_{\\mu}S(t_2, t_1)\\gamma_{\\nu}S(t_1, t_0)\\gamma_5\\right]$"
      ],
      "text/plain": [
       "<IPython.core.display.Math object>"
      ]
     },
     "metadata": {},
     "output_type": "display_data"
    },
    {
     "data": {
      "text/latex": [
       "$\\displaystyle d_{0}^{\\text{C}}=4.0\\,\\text{tr}\\left[S(t_1, t_3)\\gamma_5S(t_3, t_0)\\gamma_5S(t_0, t_2)\\gamma_{\\mu}S(t_2, t_1)\\gamma_{\\nu}\\right]$"
      ],
      "text/plain": [
       "<IPython.core.display.Math object>"
      ]
     },
     "metadata": {},
     "output_type": "display_data"
    },
    {
     "data": {
      "text/latex": [
       "$\\displaystyle d_{9}^{\\text{C-bwd}}=1.0\\,\\text{tr}\\left[S(t_0, t_3)\\gamma_5S(t_3, t_1)\\gamma_{\\nu}S(t_1, t_2)\\gamma_{\\mu}S(t_2, t_0)\\gamma_5\\right]$"
      ],
      "text/plain": [
       "<IPython.core.display.Math object>"
      ]
     },
     "metadata": {},
     "output_type": "display_data"
    },
    {
     "data": {
      "text/latex": [
       "$\\displaystyle d_{10}^{\\text{D}}=-5.0\\,\\text{tr}\\left[S(t_0, t_3)\\gamma_5S(t_3, t_0)\\gamma_5\\right]\\text{tr}\\left[S(t_1, t_2)\\gamma_{\\mu}S(t_2, t_1)\\gamma_{\\nu}\\right]$"
      ],
      "text/plain": [
       "<IPython.core.display.Math object>"
      ]
     },
     "metadata": {},
     "output_type": "display_data"
    },
    {
     "data": {
      "text/latex": [
       "$\\displaystyle d_{5}^{\\text{El}}=-2.0\\,\\text{tr}\\left[S(t_1, t_3)\\gamma_5S(t_3, t_0)\\gamma_5S(t_0, t_1)\\gamma_{\\nu}\\right]\\text{tr}\\left[S(t_2, t_2)\\gamma_{\\mu}\\right]$"
      ],
      "text/plain": [
       "<IPython.core.display.Math object>"
      ]
     },
     "metadata": {},
     "output_type": "display_data"
    },
    {
     "data": {
      "text/latex": [
       "$\\displaystyle d_{6}^{\\text{El-bwd}}=1.0\\,\\text{tr}\\left[S(t_0, t_3)\\gamma_5S(t_3, t_1)\\gamma_{\\nu}S(t_1, t_0)\\gamma_5\\right]\\text{tr}\\left[S(t_2, t_2)\\gamma_{\\mu}\\right]$"
      ],
      "text/plain": [
       "<IPython.core.display.Math object>"
      ]
     },
     "metadata": {},
     "output_type": "display_data"
    },
    {
     "data": {
      "text/latex": [
       "$\\displaystyle d_{3}^{\\text{Er}}=-2.0\\,\\text{tr}\\left[S(t_2, t_3)\\gamma_5S(t_3, t_0)\\gamma_5S(t_0, t_2)\\gamma_{\\mu}\\right]\\text{tr}\\left[S(t_1, t_1)\\gamma_{\\nu}\\right]$"
      ],
      "text/plain": [
       "<IPython.core.display.Math object>"
      ]
     },
     "metadata": {},
     "output_type": "display_data"
    },
    {
     "data": {
      "text/latex": [
       "$\\displaystyle d_{8}^{\\text{Er-bwd}}=1.0\\,\\text{tr}\\left[S(t_0, t_3)\\gamma_5S(t_3, t_2)\\gamma_{\\mu}S(t_2, t_0)\\gamma_5\\right]\\text{tr}\\left[S(t_1, t_1)\\gamma_{\\nu}\\right]$"
      ],
      "text/plain": [
       "<IPython.core.display.Math object>"
      ]
     },
     "metadata": {},
     "output_type": "display_data"
    },
    {
     "data": {
      "text/latex": [
       "$\\displaystyle d_{11}^{\\text{F}}=1.0\\,\\text{tr}\\left[S(t_0, t_3)\\gamma_5S(t_3, t_0)\\gamma_5\\right]\\text{tr}\\left[S(t_2, t_2)\\gamma_{\\mu}\\right]\\text{tr}\\left[S(t_1, t_1)\\gamma_{\\nu}\\right]$"
      ],
      "text/plain": [
       "<IPython.core.display.Math object>"
      ]
     },
     "metadata": {},
     "output_type": "display_data"
    }
   ],
   "source": [
    "from tracing import diagram_as_trace_string\n",
    "\n",
    "for i,label in topSorted.items():\n",
    "    display(Math('d_{{{}}}^{{\\\\text{{{}}}}}={}\\,'.format(i,label,total[i].coef)+diagram_as_trace_string(total[i])))"
   ]
  },
  {
   "cell_type": "code",
   "execution_count": 15,
   "metadata": {},
   "outputs": [
    {
     "name": "stdout",
     "output_type": "stream",
     "text": [
      "d_{4}^{\\text{A}}=-2.0\\,\\text{tr}\\left[S(t_1, t_3)\\gamma_5S(t_3, t_2)\\gamma_{\\mu}S(t_2, t_0)\\gamma_5S(t_0, t_1)\\gamma_{\\nu}\\right]\n",
      "d_{2}^{\\text{A-bwd}}=-2.0\\,\\text{tr}\\left[S(t_2, t_3)\\gamma_5S(t_3, t_1)\\gamma_{\\nu}S(t_1, t_0)\\gamma_5S(t_0, t_2)\\gamma_{\\mu}\\right]\n",
      "d_{1}^{\\text{B}}=4.0\\,\\text{tr}\\left[S(t_2, t_3)\\gamma_5S(t_3, t_0)\\gamma_5S(t_0, t_1)\\gamma_{\\nu}S(t_1, t_2)\\gamma_{\\mu}\\right]\n",
      "d_{7}^{\\text{B-bwd}}=1.0\\,\\text{tr}\\left[S(t_0, t_3)\\gamma_5S(t_3, t_2)\\gamma_{\\mu}S(t_2, t_1)\\gamma_{\\nu}S(t_1, t_0)\\gamma_5\\right]\n",
      "d_{0}^{\\text{C}}=4.0\\,\\text{tr}\\left[S(t_1, t_3)\\gamma_5S(t_3, t_0)\\gamma_5S(t_0, t_2)\\gamma_{\\mu}S(t_2, t_1)\\gamma_{\\nu}\\right]\n",
      "d_{9}^{\\text{C-bwd}}=1.0\\,\\text{tr}\\left[S(t_0, t_3)\\gamma_5S(t_3, t_1)\\gamma_{\\nu}S(t_1, t_2)\\gamma_{\\mu}S(t_2, t_0)\\gamma_5\\right]\n",
      "d_{10}^{\\text{D}}=-5.0\\,\\text{tr}\\left[S(t_0, t_3)\\gamma_5S(t_3, t_0)\\gamma_5\\right]\\text{tr}\\left[S(t_1, t_2)\\gamma_{\\mu}S(t_2, t_1)\\gamma_{\\nu}\\right]\n",
      "d_{5}^{\\text{El}}=-2.0\\,\\text{tr}\\left[S(t_1, t_3)\\gamma_5S(t_3, t_0)\\gamma_5S(t_0, t_1)\\gamma_{\\nu}\\right]\\text{tr}\\left[S(t_2, t_2)\\gamma_{\\mu}\\right]\n",
      "d_{6}^{\\text{El-bwd}}=1.0\\,\\text{tr}\\left[S(t_0, t_3)\\gamma_5S(t_3, t_1)\\gamma_{\\nu}S(t_1, t_0)\\gamma_5\\right]\\text{tr}\\left[S(t_2, t_2)\\gamma_{\\mu}\\right]\n",
      "d_{3}^{\\text{Er}}=-2.0\\,\\text{tr}\\left[S(t_2, t_3)\\gamma_5S(t_3, t_0)\\gamma_5S(t_0, t_2)\\gamma_{\\mu}\\right]\\text{tr}\\left[S(t_1, t_1)\\gamma_{\\nu}\\right]\n",
      "d_{8}^{\\text{Er-bwd}}=1.0\\,\\text{tr}\\left[S(t_0, t_3)\\gamma_5S(t_3, t_2)\\gamma_{\\mu}S(t_2, t_0)\\gamma_5\\right]\\text{tr}\\left[S(t_1, t_1)\\gamma_{\\nu}\\right]\n",
      "d_{11}^{\\text{F}}=1.0\\,\\text{tr}\\left[S(t_0, t_3)\\gamma_5S(t_3, t_0)\\gamma_5\\right]\\text{tr}\\left[S(t_2, t_2)\\gamma_{\\mu}\\right]\\text{tr}\\left[S(t_1, t_1)\\gamma_{\\nu}\\right]\n"
     ]
    }
   ],
   "source": [
    "for i,label in topSorted.items():\n",
    "    print('d_{{{}}}^{{\\\\text{{{}}}}}={}\\,'.format(i,label,total[i].coef)+diagram_as_trace_string(total[i]))"
   ]
  },
  {
   "cell_type": "code",
   "execution_count": 18,
   "metadata": {},
   "outputs": [
    {
     "name": "stdout",
     "output_type": "stream",
     "text": [
      "\\beqs\n",
      "d_{4}^{\\text{A}}=-2\\,\\text{tr}\\left[S(t_1, t_3)\\gamma_5S(t_3, t_2)\\gamma_{\\mu}S(t_2, t_0)\\gamma_5S(t_0, t_1)\\gamma_{\\nu}\\right]\\\\\n",
      "d_{2}^{\\text{A-bwd}}=-2\\,\\text{tr}\\left[S(t_2, t_3)\\gamma_5S(t_3, t_1)\\gamma_{\\nu}S(t_1, t_0)\\gamma_5S(t_0, t_2)\\gamma_{\\mu}\\right]\\\\\n",
      "d_{1}^{\\text{B}}=4\\,\\text{tr}\\left[S(t_2, t_3)\\gamma_5S(t_3, t_0)\\gamma_5S(t_0, t_1)\\gamma_{\\nu}S(t_1, t_2)\\gamma_{\\mu}\\right]\\\\\n",
      "d_{7}^{\\text{B-bwd}}=1\\,\\text{tr}\\left[S(t_0, t_3)\\gamma_5S(t_3, t_2)\\gamma_{\\mu}S(t_2, t_1)\\gamma_{\\nu}S(t_1, t_0)\\gamma_5\\right]\\\\\n",
      "d_{0}^{\\text{C}}=4\\,\\text{tr}\\left[S(t_1, t_3)\\gamma_5S(t_3, t_0)\\gamma_5S(t_0, t_2)\\gamma_{\\mu}S(t_2, t_1)\\gamma_{\\nu}\\right]\\\\\n",
      "d_{9}^{\\text{C-bwd}}=1\\,\\text{tr}\\left[S(t_0, t_3)\\gamma_5S(t_3, t_1)\\gamma_{\\nu}S(t_1, t_2)\\gamma_{\\mu}S(t_2, t_0)\\gamma_5\\right]\\\\\n",
      "d_{10}^{\\text{D}}=-5\\,\\text{tr}\\left[S(t_0, t_3)\\gamma_5S(t_3, t_0)\\gamma_5\\right]\\text{tr}\\left[S(t_1, t_2)\\gamma_{\\mu}S(t_2, t_1)\\gamma_{\\nu}\\right]\\\\\n",
      "d_{5}^{\\text{El}}=-2\\,\\text{tr}\\left[S(t_1, t_3)\\gamma_5S(t_3, t_0)\\gamma_5S(t_0, t_1)\\gamma_{\\nu}\\right]\\text{tr}\\left[S(t_2, t_2)\\gamma_{\\mu}\\right]\\\\\n",
      "d_{6}^{\\text{El-bwd}}=1\\,\\text{tr}\\left[S(t_0, t_3)\\gamma_5S(t_3, t_1)\\gamma_{\\nu}S(t_1, t_0)\\gamma_5\\right]\\text{tr}\\left[S(t_2, t_2)\\gamma_{\\mu}\\right]\\\\\n",
      "d_{3}^{\\text{Er}}=-2\\,\\text{tr}\\left[S(t_2, t_3)\\gamma_5S(t_3, t_0)\\gamma_5S(t_0, t_2)\\gamma_{\\mu}\\right]\\text{tr}\\left[S(t_1, t_1)\\gamma_{\\nu}\\right]\\\\\n",
      "d_{8}^{\\text{Er-bwd}}=1\\,\\text{tr}\\left[S(t_0, t_3)\\gamma_5S(t_3, t_2)\\gamma_{\\mu}S(t_2, t_0)\\gamma_5\\right]\\text{tr}\\left[S(t_1, t_1)\\gamma_{\\nu}\\right]\\\\\n",
      "d_{11}^{\\text{F}}=1\\,\\text{tr}\\left[S(t_0, t_3)\\gamma_5S(t_3, t_0)\\gamma_5\\right]\\text{tr}\\left[S(t_2, t_2)\\gamma_{\\mu}\\right]\\text{tr}\\left[S(t_1, t_1)\\gamma_{\\nu}\\right]\n",
      "\\label{eq:dPC12}\n",
      "\\eeqs\n"
     ]
    }
   ],
   "source": [
    "print('\\\\beqs')\n",
    "for i,label in topSorted.items():\n",
    "    s='d_{{{}}}^{{\\\\text{{{}}}}}={}\\,'.format(i,label,int(total[i].coef))+diagram_as_trace_string(total[i])\n",
    "    if(i!=len(topSorted.items())-1):\n",
    "        s+='\\\\\\\\'\n",
    "    print(s)\n",
    "print('\\\\label{eq:dPC12}')\n",
    "print('\\\\eeqs')"
   ]
  },
  {
   "cell_type": "code",
   "execution_count": null,
   "metadata": {},
   "outputs": [],
   "source": []
  },
  {
   "cell_type": "code",
   "execution_count": null,
   "metadata": {},
   "outputs": [],
   "source": []
  }
 ],
 "metadata": {
  "kernelspec": {
   "display_name": "Python [conda env:LQCD] *",
   "language": "python",
   "name": "conda-env-LQCD-py"
  },
  "language_info": {
   "codemirror_mode": {
    "name": "ipython",
    "version": 3
   },
   "file_extension": ".py",
   "mimetype": "text/x-python",
   "name": "python",
   "nbconvert_exporter": "python",
   "pygments_lexer": "ipython3",
   "version": "3.8.5"
  }
 },
 "nbformat": 4,
 "nbformat_minor": 4
}
