{
 "cells": [
  {
   "cell_type": "code",
   "execution_count": 1,
   "metadata": {},
   "outputs": [],
   "source": [
    "import sys\n",
    "import os\n",
    "\n",
    "sys.path.append(os.getcwd()[:-9])\n",
    "\n",
    "import WickContractions\n",
    "\n",
    "# the uglies part of the code is still defining operators.\n",
    "from WickContractions.ops.operator import Operator\n",
    "from WickContractions.ops.elemental import ElementalOperator\n",
    "from WickContractions.ops.quarks import Quark\n",
    "from WickContractions.ops.indexed import IndexedObject"
   ]
  },
  {
   "cell_type": "code",
   "execution_count": 2,
   "metadata": {},
   "outputs": [],
   "source": [
    "# epsilion^abc (u_a Cg5 d_b^T) u_c\n",
    "q1=Quark(False,'u','s_0','a','t_3','x_3')\n",
    "g=IndexedObject('\\\\Gamma',['s_0','s_1'])\n",
    "eps=IndexedObject('\\\\epsilon',['a','b','c'])\n",
    "q2=Quark(False,'d','s_1','b','t_3','x_3')\n",
    "q3=Quark(False,'u','s_2','c','t_3','x_3')\n",
    "\n",
    "annihilate=Operator([ElementalOperator(+1,[g,eps],[q1,q2,q3])])\n",
    "\n",
    "\n",
    "# epsilion^abc (baru_a Cg5 bard_b^T) baru_c\n",
    "elementals=[]\n",
    "for pi2 in [['u',+2/3],['d',-1/3]]:\n",
    "    for pi1 in [['u',+2/3],['d',-1/3]]:\n",
    "        q2=Quark(True,pi2[0],'s_3','c_1','t_2','x_2')\n",
    "        g1=IndexedObject('\\\\gamma_{\\mu}e^{-i\\\\mathbf{q}}',['s_3','s_4'])\n",
    "        q3=Quark(False,pi2[0],'s_4','c_1','t_2','x_2')\n",
    "\n",
    "        q4=Quark(True,pi1[0],'s_5','c_2','t_1','x_1')\n",
    "        g2=IndexedObject('\\\\gamma_{\\\\nu}e^{i\\\\mathbf{q}}',['s_5','s_6'])\n",
    "        q5=Quark(False,pi1[0],'s_6','c_2','t_1','x_1')\n",
    "        \n",
    "        pq1=Quark(True,'u','s_7','a\\'','t_0','x_0')\n",
    "        pg=IndexedObject('\\\\Gamma',['s_7','s_8'])\n",
    "        peps=IndexedObject('\\\\epsilon',['a\\'','b\\'','c\\''])\n",
    "        pq2=Quark(True,'d','s_8','b\\'','t_0','x_0')\n",
    "        pq3=Quark(True,'u','s_9','c\\'','t_0','x_0')\n",
    "        \n",
    "        elementals.append(ElementalOperator(-1*pi2[1]*pi1[1],[g1,g2,pg,peps],[q2,q3,q4,q5,pq1,pq2,pq3]))\n",
    "        \n",
    "create=Operator(elementals)"
   ]
  },
  {
   "cell_type": "code",
   "execution_count": 3,
   "metadata": {},
   "outputs": [
    {
     "name": "stdout",
     "output_type": "stream",
     "text": [
      "1\\Gamma_{s_0 s_1}\\epsilon_{a b c}u_{s_0 a}(x_3, t_3)d_{s_1 b}(x_3, t_3)u_{s_2 c}(x_3, t_3)\n"
     ]
    }
   ],
   "source": [
    "print(annihilate)"
   ]
  },
  {
   "cell_type": "code",
   "execution_count": 4,
   "metadata": {},
   "outputs": [
    {
     "name": "stdout",
     "output_type": "stream",
     "text": [
      "-0.4444444444444444\\gamma_{\\mu}e^{-i\\mathbf{q}}_{s_3 s_4}\\gamma_{\\nu}e^{i\\mathbf{q}}_{s_5 s_6}\\Gamma_{s_7 s_8}\\epsilon_{a' b' c'}\\bar{u}_{s_3 c_1}(x_2, t_2)u_{s_4 c_1}(x_2, t_2)\\bar{u}_{s_5 c_2}(x_1, t_1)u_{s_6 c_2}(x_1, t_1)\\bar{u}_{s_7 a'}(x_0, t_0)\\bar{d}_{s_8 b'}(x_0, t_0)\\bar{u}_{s_9 c'}(x_0, t_0)+0.2222222222222222\\gamma_{\\mu}e^{-i\\mathbf{q}}_{s_3 s_4}\\gamma_{\\nu}e^{i\\mathbf{q}}_{s_5 s_6}\\Gamma_{s_7 s_8}\\epsilon_{a' b' c'}\\bar{u}_{s_3 c_1}(x_2, t_2)u_{s_4 c_1}(x_2, t_2)\\bar{d}_{s_5 c_2}(x_1, t_1)d_{s_6 c_2}(x_1, t_1)\\bar{u}_{s_7 a'}(x_0, t_0)\\bar{d}_{s_8 b'}(x_0, t_0)\\bar{u}_{s_9 c'}(x_0, t_0)+0.2222222222222222\\gamma_{\\mu}e^{-i\\mathbf{q}}_{s_3 s_4}\\gamma_{\\nu}e^{i\\mathbf{q}}_{s_5 s_6}\\Gamma_{s_7 s_8}\\epsilon_{a' b' c'}\\bar{d}_{s_3 c_1}(x_2, t_2)d_{s_4 c_1}(x_2, t_2)\\bar{u}_{s_5 c_2}(x_1, t_1)u_{s_6 c_2}(x_1, t_1)\\bar{u}_{s_7 a'}(x_0, t_0)\\bar{d}_{s_8 b'}(x_0, t_0)\\bar{u}_{s_9 c'}(x_0, t_0)+-0.1111111111111111\\gamma_{\\mu}e^{-i\\mathbf{q}}_{s_3 s_4}\\gamma_{\\nu}e^{i\\mathbf{q}}_{s_5 s_6}\\Gamma_{s_7 s_8}\\epsilon_{a' b' c'}\\bar{d}_{s_3 c_1}(x_2, t_2)d_{s_4 c_1}(x_2, t_2)\\bar{d}_{s_5 c_2}(x_1, t_1)d_{s_6 c_2}(x_1, t_1)\\bar{u}_{s_7 a'}(x_0, t_0)\\bar{d}_{s_8 b'}(x_0, t_0)\\bar{u}_{s_9 c'}(x_0, t_0)\n"
     ]
    }
   ],
   "source": [
    "print(create)"
   ]
  },
  {
   "cell_type": "code",
   "execution_count": 5,
   "metadata": {},
   "outputs": [
    {
     "data": {
      "text/plain": [
       "60"
      ]
     },
     "execution_count": 5,
     "metadata": {},
     "output_type": "execute_result"
    }
   ],
   "source": [
    "from WickContractions.wick.contract import contract\n",
    "res=contract(annihilate,create)\n",
    "len(res.diagrams)"
   ]
  },
  {
   "cell_type": "code",
   "execution_count": 6,
   "metadata": {},
   "outputs": [
    {
     "name": "stdout",
     "output_type": "stream",
     "text": [
      "60\n",
      "60\n"
     ]
    }
   ],
   "source": [
    "import copy\n",
    "from diagram_utils import combine_diagrams\n",
    "total=copy.deepcopy(res.diagrams)\n",
    "\n",
    "print(len(total))\n",
    "\n",
    "##you can take the isospin limit by setting 'd'='u'\n",
    "for d in total:\n",
    "    for p in d.props:\n",
    "        #p.name = 'S'\n",
    "        p.name = 'S_'+p.name.split('_')[1]\n",
    "\n",
    "combine_diagrams(total)\n",
    "\n",
    "for d in total:\n",
    "    d.coef*=9\n",
    "        \n",
    "print(len(total))"
   ]
  },
  {
   "cell_type": "code",
   "execution_count": 7,
   "metadata": {},
   "outputs": [],
   "source": [
    "from print_utilities import diagram_as_latex_str, labelled_diagram_as_latex_str\n",
    "from IPython.display import display, Math"
   ]
  },
  {
   "cell_type": "code",
   "execution_count": 8,
   "metadata": {},
   "outputs": [
    {
     "name": "stdout",
     "output_type": "stream",
     "text": [
      "d_{0}=4.0 S_{u}(x_3t_3\\mid x_2t_2)_{\\substack{s_0\\\\a}\\substack{s_3\\\\c_1}}S_{u}(x_3t_3\\mid x_1t_1)_{\\substack{s_2\\\\c}\\substack{s_5\\\\c_2}}S_{u}(x_2t_2\\mid x_0t_0)_{\\substack{s_4\\\\c_1}\\substack{s_7\\\\a'}}S_{d}(x_3t_3\\mid x_0t_0)_{\\substack{s_1\\\\b}\\substack{s_8\\\\b'}}S_{u}(x_1t_1\\mid x_0t_0)_{\\substack{s_6\\\\c_2}\\substack{s_9\\\\c'}}['\\\\Gamma']['\\\\Gamma']['\\\\epsilon']['\\\\epsilon']\\gamma_{{\\mu}e^{-i\\mathbf{q}}_{s_3s_4}}\\gamma_{{\\nu}e^{i\\mathbf{q}}_{s_5s_6}}\\\\\n"
     ]
    }
   ],
   "source": [
    "print(diagram_as_latex_str(total[0],0))"
   ]
  },
  {
   "cell_type": "code",
   "execution_count": 9,
   "metadata": {},
   "outputs": [],
   "source": [
    "#for i in range(0,len(total)):\n",
    "#    display(Math(diagram_as_latex_str(total[i],i)))"
   ]
  },
  {
   "cell_type": "code",
   "execution_count": 10,
   "metadata": {},
   "outputs": [],
   "source": [
    "from topologies_long import *\n",
    "\n",
    "topList=diagram_time_order(total)\n",
    "connect_times(topList)\n",
    "name_topologies(topList)"
   ]
  },
  {
   "cell_type": "code",
   "execution_count": 11,
   "metadata": {},
   "outputs": [
    {
     "data": {
      "text/plain": [
       "{0: [['2', '3'], ['1', '3'], ['0', '2'], ['0', '3'], ['0', '1']],\n",
       " 1: [['2', '3'], ['1', '3'], ['0', '2'], ['0', '3'], ['0', '1']],\n",
       " 2: [['2', '2'], ['0', '3'], ['0', '3'], ['0', '1'], ['1', '3']],\n",
       " 3: [['2', '3'], ['1', '2'], ['0', '3'], ['0', '3'], ['0', '1']],\n",
       " 4: [['2', '3'], ['1', '2'], ['0', '3'], ['0', '3'], ['0', '1']],\n",
       " 5: [['2', '2'], ['0', '3'], ['0', '3'], ['0', '1'], ['1', '3']],\n",
       " 6: [['2', '1'], ['1', '3'], ['0', '2'], ['0', '3'], ['0', '3']],\n",
       " 7: [['1', '1'], ['0', '2'], ['0', '3'], ['0', '3'], ['2', '3']],\n",
       " 8: [['2', '2'], ['0', '3'], ['0', '3'], ['0', '3'], ['1', '1']],\n",
       " 9: [['2', '1'], ['1', '2'], ['0', '3'], ['0', '3'], ['0', '3']],\n",
       " 10: [['2', '3'], ['1', '2'], ['0', '1'], ['0', '3'], ['0', '3']],\n",
       " 11: [['2', '2'], ['0', '1'], ['0', '3'], ['0', '3'], ['1', '3']],\n",
       " 12: [['2', '3'], ['1', '3'], ['0', '1'], ['0', '3'], ['0', '2']],\n",
       " 13: [['2', '3'], ['1', '3'], ['0', '1'], ['0', '3'], ['0', '2']],\n",
       " 14: [['2', '1'], ['1', '3'], ['0', '3'], ['0', '3'], ['0', '2']],\n",
       " 15: [['1', '1'], ['0', '3'], ['0', '3'], ['0', '2'], ['2', '3']],\n",
       " 16: [['1', '1'], ['0', '3'], ['0', '3'], ['0', '2'], ['2', '3']],\n",
       " 17: [['2', '1'], ['1', '3'], ['0', '3'], ['0', '3'], ['0', '2']],\n",
       " 18: [['1', '1'], ['0', '2'], ['0', '3'], ['0', '3'], ['2', '3']],\n",
       " 19: [['2', '1'], ['1', '3'], ['0', '2'], ['0', '3'], ['0', '3']],\n",
       " 20: [['2', '2'], ['0', '1'], ['0', '3'], ['0', '3'], ['1', '3']],\n",
       " 21: [['2', '3'], ['1', '2'], ['0', '1'], ['0', '3'], ['0', '3']],\n",
       " 22: [['2', '1'], ['1', '2'], ['0', '3'], ['0', '3'], ['0', '3']],\n",
       " 23: [['2', '2'], ['0', '3'], ['0', '3'], ['0', '3'], ['1', '1']],\n",
       " 24: [['2', '2'], ['0', '3'], ['0', '1'], ['0', '3'], ['1', '3']],\n",
       " 25: [['2', '3'], ['1', '3'], ['0', '2'], ['0', '1'], ['0', '3']],\n",
       " 26: [['1', '1'], ['0', '2'], ['0', '3'], ['0', '3'], ['2', '3']],\n",
       " 27: [['2', '2'], ['0', '3'], ['0', '3'], ['0', '3'], ['1', '1']],\n",
       " 28: [['1', '1'], ['0', '3'], ['0', '3'], ['0', '2'], ['2', '3']],\n",
       " 29: [['1', '1'], ['0', '3'], ['0', '3'], ['0', '2'], ['2', '3']],\n",
       " 30: [['2', '3'], ['1', '3'], ['0', '3'], ['0', '1'], ['0', '2']],\n",
       " 31: [['2', '3'], ['1', '3'], ['0', '3'], ['0', '1'], ['0', '2']],\n",
       " 32: [['1', '1'], ['0', '2'], ['0', '3'], ['0', '3'], ['2', '3']],\n",
       " 33: [['2', '2'], ['0', '3'], ['0', '3'], ['0', '3'], ['1', '1']],\n",
       " 34: [['2', '2'], ['0', '3'], ['0', '1'], ['0', '3'], ['1', '3']],\n",
       " 35: [['2', '3'], ['1', '3'], ['0', '2'], ['0', '1'], ['0', '3']],\n",
       " 36: [['2', '3'], ['1', '3'], ['0', '3'], ['0', '2'], ['0', '1']],\n",
       " 37: [['2', '3'], ['1', '3'], ['0', '3'], ['0', '2'], ['0', '1']],\n",
       " 38: [['2', '2'], ['0', '3'], ['0', '3'], ['0', '1'], ['1', '3']],\n",
       " 39: [['2', '2'], ['0', '3'], ['0', '3'], ['0', '1'], ['1', '3']],\n",
       " 40: [['2', '3'], ['1', '3'], ['0', '1'], ['0', '2'], ['0', '3']],\n",
       " 41: [['1', '1'], ['0', '3'], ['0', '2'], ['0', '3'], ['2', '3']],\n",
       " 42: [['2', '2'], ['0', '3'], ['0', '3'], ['0', '3'], ['1', '1']],\n",
       " 43: [['2', '2'], ['0', '1'], ['0', '3'], ['0', '3'], ['1', '3']],\n",
       " 44: [['2', '2'], ['0', '1'], ['0', '3'], ['0', '3'], ['1', '3']],\n",
       " 45: [['2', '2'], ['0', '3'], ['0', '3'], ['0', '3'], ['1', '1']],\n",
       " 46: [['2', '3'], ['1', '3'], ['0', '1'], ['0', '2'], ['0', '3']],\n",
       " 47: [['1', '1'], ['0', '3'], ['0', '2'], ['0', '3'], ['2', '3']],\n",
       " 48: [['2', '3'], ['1', '2'], ['0', '3'], ['0', '1'], ['0', '3']],\n",
       " 49: [['2', '2'], ['0', '3'], ['0', '1'], ['0', '3'], ['1', '3']],\n",
       " 50: [['2', '1'], ['1', '3'], ['0', '3'], ['0', '2'], ['0', '3']],\n",
       " 51: [['1', '1'], ['0', '3'], ['0', '2'], ['0', '3'], ['2', '3']],\n",
       " 52: [['2', '2'], ['0', '3'], ['0', '3'], ['0', '3'], ['1', '1']],\n",
       " 53: [['2', '1'], ['1', '2'], ['0', '3'], ['0', '3'], ['0', '3']],\n",
       " 54: [['2', '1'], ['1', '2'], ['0', '3'], ['0', '3'], ['0', '3']],\n",
       " 55: [['2', '2'], ['0', '3'], ['0', '3'], ['0', '3'], ['1', '1']],\n",
       " 56: [['2', '2'], ['0', '3'], ['0', '1'], ['0', '3'], ['1', '3']],\n",
       " 57: [['2', '3'], ['1', '2'], ['0', '3'], ['0', '1'], ['0', '3']],\n",
       " 58: [['1', '1'], ['0', '3'], ['0', '2'], ['0', '3'], ['2', '3']],\n",
       " 59: [['2', '1'], ['1', '3'], ['0', '3'], ['0', '2'], ['0', '3']]}"
      ]
     },
     "execution_count": 11,
     "metadata": {},
     "output_type": "execute_result"
    }
   ],
   "source": [
    "topList"
   ]
  },
  {
   "cell_type": "code",
   "execution_count": 12,
   "metadata": {},
   "outputs": [
    {
     "name": "stdout",
     "output_type": "stream",
     "text": [
      "{7: [['1', '1'], ['0', '2'], ['0', '3'], ['0', '3'], ['2', '3']], 18: [['1', '1'], ['0', '2'], ['0', '3'], ['0', '3'], ['2', '3']], 26: [['1', '1'], ['0', '2'], ['0', '3'], ['0', '3'], ['2', '3']], 32: [['1', '1'], ['0', '2'], ['0', '3'], ['0', '3'], ['2', '3']], 41: [['1', '1'], ['0', '3'], ['0', '2'], ['0', '3'], ['2', '3']], 47: [['1', '1'], ['0', '3'], ['0', '2'], ['0', '3'], ['2', '3']], 51: [['1', '1'], ['0', '3'], ['0', '2'], ['0', '3'], ['2', '3']], 58: [['1', '1'], ['0', '3'], ['0', '2'], ['0', '3'], ['2', '3']], 15: [['1', '1'], ['0', '3'], ['0', '3'], ['0', '2'], ['2', '3']], 16: [['1', '1'], ['0', '3'], ['0', '3'], ['0', '2'], ['2', '3']], 28: [['1', '1'], ['0', '3'], ['0', '3'], ['0', '2'], ['2', '3']], 29: [['1', '1'], ['0', '3'], ['0', '3'], ['0', '2'], ['2', '3']], 9: [['2', '1'], ['1', '2'], ['0', '3'], ['0', '3'], ['0', '3']], 22: [['2', '1'], ['1', '2'], ['0', '3'], ['0', '3'], ['0', '3']], 53: [['2', '1'], ['1', '2'], ['0', '3'], ['0', '3'], ['0', '3']], 54: [['2', '1'], ['1', '2'], ['0', '3'], ['0', '3'], ['0', '3']], 6: [['2', '1'], ['1', '3'], ['0', '2'], ['0', '3'], ['0', '3']], 19: [['2', '1'], ['1', '3'], ['0', '2'], ['0', '3'], ['0', '3']], 50: [['2', '1'], ['1', '3'], ['0', '3'], ['0', '2'], ['0', '3']], 59: [['2', '1'], ['1', '3'], ['0', '3'], ['0', '2'], ['0', '3']], 14: [['2', '1'], ['1', '3'], ['0', '3'], ['0', '3'], ['0', '2']], 17: [['2', '1'], ['1', '3'], ['0', '3'], ['0', '3'], ['0', '2']], 11: [['2', '2'], ['0', '1'], ['0', '3'], ['0', '3'], ['1', '3']], 20: [['2', '2'], ['0', '1'], ['0', '3'], ['0', '3'], ['1', '3']], 43: [['2', '2'], ['0', '1'], ['0', '3'], ['0', '3'], ['1', '3']], 44: [['2', '2'], ['0', '1'], ['0', '3'], ['0', '3'], ['1', '3']], 24: [['2', '2'], ['0', '3'], ['0', '1'], ['0', '3'], ['1', '3']], 34: [['2', '2'], ['0', '3'], ['0', '1'], ['0', '3'], ['1', '3']], 49: [['2', '2'], ['0', '3'], ['0', '1'], ['0', '3'], ['1', '3']], 56: [['2', '2'], ['0', '3'], ['0', '1'], ['0', '3'], ['1', '3']], 2: [['2', '2'], ['0', '3'], ['0', '3'], ['0', '1'], ['1', '3']], 5: [['2', '2'], ['0', '3'], ['0', '3'], ['0', '1'], ['1', '3']], 38: [['2', '2'], ['0', '3'], ['0', '3'], ['0', '1'], ['1', '3']], 39: [['2', '2'], ['0', '3'], ['0', '3'], ['0', '1'], ['1', '3']], 8: [['2', '2'], ['0', '3'], ['0', '3'], ['0', '3'], ['1', '1']], 23: [['2', '2'], ['0', '3'], ['0', '3'], ['0', '3'], ['1', '1']], 27: [['2', '2'], ['0', '3'], ['0', '3'], ['0', '3'], ['1', '1']], 33: [['2', '2'], ['0', '3'], ['0', '3'], ['0', '3'], ['1', '1']], 42: [['2', '2'], ['0', '3'], ['0', '3'], ['0', '3'], ['1', '1']], 45: [['2', '2'], ['0', '3'], ['0', '3'], ['0', '3'], ['1', '1']], 52: [['2', '2'], ['0', '3'], ['0', '3'], ['0', '3'], ['1', '1']], 55: [['2', '2'], ['0', '3'], ['0', '3'], ['0', '3'], ['1', '1']], 10: [['2', '3'], ['1', '2'], ['0', '1'], ['0', '3'], ['0', '3']], 21: [['2', '3'], ['1', '2'], ['0', '1'], ['0', '3'], ['0', '3']], 48: [['2', '3'], ['1', '2'], ['0', '3'], ['0', '1'], ['0', '3']], 57: [['2', '3'], ['1', '2'], ['0', '3'], ['0', '1'], ['0', '3']], 3: [['2', '3'], ['1', '2'], ['0', '3'], ['0', '3'], ['0', '1']], 4: [['2', '3'], ['1', '2'], ['0', '3'], ['0', '3'], ['0', '1']], 40: [['2', '3'], ['1', '3'], ['0', '1'], ['0', '2'], ['0', '3']], 46: [['2', '3'], ['1', '3'], ['0', '1'], ['0', '2'], ['0', '3']], 12: [['2', '3'], ['1', '3'], ['0', '1'], ['0', '3'], ['0', '2']], 13: [['2', '3'], ['1', '3'], ['0', '1'], ['0', '3'], ['0', '2']], 25: [['2', '3'], ['1', '3'], ['0', '2'], ['0', '1'], ['0', '3']], 35: [['2', '3'], ['1', '3'], ['0', '2'], ['0', '1'], ['0', '3']], 0: [['2', '3'], ['1', '3'], ['0', '2'], ['0', '3'], ['0', '1']], 1: [['2', '3'], ['1', '3'], ['0', '2'], ['0', '3'], ['0', '1']], 30: [['2', '3'], ['1', '3'], ['0', '3'], ['0', '1'], ['0', '2']], 31: [['2', '3'], ['1', '3'], ['0', '3'], ['0', '1'], ['0', '2']], 36: [['2', '3'], ['1', '3'], ['0', '3'], ['0', '2'], ['0', '1']], 37: [['2', '3'], ['1', '3'], ['0', '3'], ['0', '2'], ['0', '1']]}\n"
     ]
    }
   ],
   "source": [
    "x=copy.deepcopy(topList)\n",
    "topSorted={k: v for k, v in sorted(x.items(), key=lambda item: item[1])}\n",
    "print(topSorted)"
   ]
  },
  {
   "cell_type": "code",
   "execution_count": 13,
   "metadata": {},
   "outputs": [],
   "source": [
    "from print_utilities import print_diagrams_labelled\n",
    "\n",
    "#for i,label in topSorted.items():\n",
    "    #display(Math(labelled_diagram_as_latex_str(total[i],i,label)))"
   ]
  },
  {
   "cell_type": "code",
   "execution_count": 14,
   "metadata": {},
   "outputs": [
    {
     "name": "stdout",
     "output_type": "stream",
     "text": [
      "4.0 \\Gamma_{s_0 s_1}\\Gamma_{s_7 s_8}\\epsilon_{a b c}\\epsilon_{a' b' c'}\\gamma_{\\mu}e^{-i\\mathbf{q}}_{s_3 s_4}\\gamma_{\\nu}e^{i\\mathbf{q}}_{s_5 s_6}S_{u}(x_3,t_3\\mid x_2,t_2)_{\\substack{s_0\\\\a}\\substack{s_3\\\\c_1}}S_{u}(x_3,t_3\\mid x_1,t_1)_{\\substack{s_2\\\\c}\\substack{s_5\\\\c_2}}S_{u}(x_2,t_2\\mid x_0,t_0)_{\\substack{s_4\\\\c_1}\\substack{s_7\\\\a'}}S_{d}(x_3,t_3\\mid x_0,t_0)_{\\substack{s_1\\\\b}\\substack{s_8\\\\b'}}S_{u}(x_1,t_1\\mid x_0,t_0)_{\\substack{s_6\\\\c_2}\\substack{s_9\\\\c'}}\n"
     ]
    }
   ],
   "source": [
    "tst = copy.deepcopy(total[0])\n",
    "\n",
    "print(tst)"
   ]
  },
  {
   "cell_type": "code",
   "execution_count": 15,
   "metadata": {},
   "outputs": [
    {
     "data": {
      "text/latex": [
       "$\\displaystyle d_{7}^{\\text{[['1', '1'], ['0', '2'], ['0', '3'], ['0', '3'], ['2', '3']]}}=\\,-4.0 \\Gamma_{s_0 s_1}\\Gamma_{s_7 s_8}\\epsilon_{a b c}\\epsilon_{a' b' c'}\\gamma_{\\mu}e^{-i\\mathbf{q}}_{s_3 s_4}\\gamma_{\\nu}e^{i\\mathbf{q}}_{s_5 s_6}S_{u}(x_3,t_3\\mid x_2,t_2)_{\\substack{s_0\\\\a}\\substack{s_3\\\\c_1}}S_{u}(x_1,t_1\\mid x_1,t_1)_{\\substack{s_6\\\\c_2}\\substack{s_5\\\\c_2}}S_{u}(x_2,t_2\\mid x_0,t_0)_{\\substack{s_4\\\\c_1}\\substack{s_7\\\\a'}}S_{d}(x_3,t_3\\mid x_0,t_0)_{\\substack{s_1\\\\b}\\substack{s_8\\\\b'}}S_{u}(x_3,t_3\\mid x_0,t_0)_{\\substack{s_2\\\\c}\\substack{s_9\\\\c'}}$"
      ],
      "text/plain": [
       "<IPython.core.display.Math object>"
      ]
     },
     "metadata": {},
     "output_type": "display_data"
    },
    {
     "data": {
      "text/latex": [
       "$\\displaystyle d_{18}^{\\text{[['1', '1'], ['0', '2'], ['0', '3'], ['0', '3'], ['2', '3']]}}=\\,4.0 \\Gamma_{s_0 s_1}\\Gamma_{s_7 s_8}\\epsilon_{a b c}\\epsilon_{a' b' c'}\\gamma_{\\mu}e^{-i\\mathbf{q}}_{s_3 s_4}\\gamma_{\\nu}e^{i\\mathbf{q}}_{s_5 s_6}S_{u}(x_3,t_3\\mid x_2,t_2)_{\\substack{s_2\\\\c}\\substack{s_3\\\\c_1}}S_{u}(x_1,t_1\\mid x_1,t_1)_{\\substack{s_6\\\\c_2}\\substack{s_5\\\\c_2}}S_{u}(x_2,t_2\\mid x_0,t_0)_{\\substack{s_4\\\\c_1}\\substack{s_7\\\\a'}}S_{d}(x_3,t_3\\mid x_0,t_0)_{\\substack{s_1\\\\b}\\substack{s_8\\\\b'}}S_{u}(x_3,t_3\\mid x_0,t_0)_{\\substack{s_0\\\\a}\\substack{s_9\\\\c'}}$"
      ],
      "text/plain": [
       "<IPython.core.display.Math object>"
      ]
     },
     "metadata": {},
     "output_type": "display_data"
    },
    {
     "data": {
      "text/latex": [
       "$\\displaystyle d_{26}^{\\text{[['1', '1'], ['0', '2'], ['0', '3'], ['0', '3'], ['2', '3']]}}=\\,2.0 \\Gamma_{s_0 s_1}\\Gamma_{s_7 s_8}\\epsilon_{a b c}\\epsilon_{a' b' c'}\\gamma_{\\mu}e^{-i\\mathbf{q}}_{s_3 s_4}\\gamma_{\\nu}e^{i\\mathbf{q}}_{s_5 s_6}S_{u}(x_3,t_3\\mid x_2,t_2)_{\\substack{s_0\\\\a}\\substack{s_3\\\\c_1}}S_{d}(x_1,t_1\\mid x_1,t_1)_{\\substack{s_6\\\\c_2}\\substack{s_5\\\\c_2}}S_{u}(x_2,t_2\\mid x_0,t_0)_{\\substack{s_4\\\\c_1}\\substack{s_7\\\\a'}}S_{d}(x_3,t_3\\mid x_0,t_0)_{\\substack{s_1\\\\b}\\substack{s_8\\\\b'}}S_{u}(x_3,t_3\\mid x_0,t_0)_{\\substack{s_2\\\\c}\\substack{s_9\\\\c'}}$"
      ],
      "text/plain": [
       "<IPython.core.display.Math object>"
      ]
     },
     "metadata": {},
     "output_type": "display_data"
    },
    {
     "data": {
      "text/latex": [
       "$\\displaystyle d_{32}^{\\text{[['1', '1'], ['0', '2'], ['0', '3'], ['0', '3'], ['2', '3']]}}=\\,-2.0 \\Gamma_{s_0 s_1}\\Gamma_{s_7 s_8}\\epsilon_{a b c}\\epsilon_{a' b' c'}\\gamma_{\\mu}e^{-i\\mathbf{q}}_{s_3 s_4}\\gamma_{\\nu}e^{i\\mathbf{q}}_{s_5 s_6}S_{u}(x_3,t_3\\mid x_2,t_2)_{\\substack{s_2\\\\c}\\substack{s_3\\\\c_1}}S_{d}(x_1,t_1\\mid x_1,t_1)_{\\substack{s_6\\\\c_2}\\substack{s_5\\\\c_2}}S_{u}(x_2,t_2\\mid x_0,t_0)_{\\substack{s_4\\\\c_1}\\substack{s_7\\\\a'}}S_{d}(x_3,t_3\\mid x_0,t_0)_{\\substack{s_1\\\\b}\\substack{s_8\\\\b'}}S_{u}(x_3,t_3\\mid x_0,t_0)_{\\substack{s_0\\\\a}\\substack{s_9\\\\c'}}$"
      ],
      "text/plain": [
       "<IPython.core.display.Math object>"
      ]
     },
     "metadata": {},
     "output_type": "display_data"
    },
    {
     "data": {
      "text/latex": [
       "$\\displaystyle d_{41}^{\\text{[['1', '1'], ['0', '3'], ['0', '2'], ['0', '3'], ['2', '3']]}}=\\,2.0 \\Gamma_{s_0 s_1}\\Gamma_{s_7 s_8}\\epsilon_{a b c}\\epsilon_{a' b' c'}\\gamma_{\\mu}e^{-i\\mathbf{q}}_{s_3 s_4}\\gamma_{\\nu}e^{i\\mathbf{q}}_{s_5 s_6}S_{d}(x_3,t_3\\mid x_2,t_2)_{\\substack{s_1\\\\b}\\substack{s_3\\\\c_1}}S_{u}(x_1,t_1\\mid x_1,t_1)_{\\substack{s_6\\\\c_2}\\substack{s_5\\\\c_2}}S_{u}(x_3,t_3\\mid x_0,t_0)_{\\substack{s_0\\\\a}\\substack{s_7\\\\a'}}S_{d}(x_2,t_2\\mid x_0,t_0)_{\\substack{s_4\\\\c_1}\\substack{s_8\\\\b'}}S_{u}(x_3,t_3\\mid x_0,t_0)_{\\substack{s_2\\\\c}\\substack{s_9\\\\c'}}$"
      ],
      "text/plain": [
       "<IPython.core.display.Math object>"
      ]
     },
     "metadata": {},
     "output_type": "display_data"
    },
    {
     "data": {
      "text/latex": [
       "$\\displaystyle d_{47}^{\\text{[['1', '1'], ['0', '3'], ['0', '2'], ['0', '3'], ['2', '3']]}}=\\,-2.0 \\Gamma_{s_0 s_1}\\Gamma_{s_7 s_8}\\epsilon_{a b c}\\epsilon_{a' b' c'}\\gamma_{\\mu}e^{-i\\mathbf{q}}_{s_3 s_4}\\gamma_{\\nu}e^{i\\mathbf{q}}_{s_5 s_6}S_{d}(x_3,t_3\\mid x_2,t_2)_{\\substack{s_1\\\\b}\\substack{s_3\\\\c_1}}S_{u}(x_1,t_1\\mid x_1,t_1)_{\\substack{s_6\\\\c_2}\\substack{s_5\\\\c_2}}S_{u}(x_3,t_3\\mid x_0,t_0)_{\\substack{s_2\\\\c}\\substack{s_7\\\\a'}}S_{d}(x_2,t_2\\mid x_0,t_0)_{\\substack{s_4\\\\c_1}\\substack{s_8\\\\b'}}S_{u}(x_3,t_3\\mid x_0,t_0)_{\\substack{s_0\\\\a}\\substack{s_9\\\\c'}}$"
      ],
      "text/plain": [
       "<IPython.core.display.Math object>"
      ]
     },
     "metadata": {},
     "output_type": "display_data"
    },
    {
     "data": {
      "text/latex": [
       "$\\displaystyle d_{51}^{\\text{[['1', '1'], ['0', '3'], ['0', '2'], ['0', '3'], ['2', '3']]}}=\\,-1.0 \\Gamma_{s_0 s_1}\\Gamma_{s_7 s_8}\\epsilon_{a b c}\\epsilon_{a' b' c'}\\gamma_{\\mu}e^{-i\\mathbf{q}}_{s_3 s_4}\\gamma_{\\nu}e^{i\\mathbf{q}}_{s_5 s_6}S_{d}(x_3,t_3\\mid x_2,t_2)_{\\substack{s_1\\\\b}\\substack{s_3\\\\c_1}}S_{d}(x_1,t_1\\mid x_1,t_1)_{\\substack{s_6\\\\c_2}\\substack{s_5\\\\c_2}}S_{u}(x_3,t_3\\mid x_0,t_0)_{\\substack{s_0\\\\a}\\substack{s_7\\\\a'}}S_{d}(x_2,t_2\\mid x_0,t_0)_{\\substack{s_4\\\\c_1}\\substack{s_8\\\\b'}}S_{u}(x_3,t_3\\mid x_0,t_0)_{\\substack{s_2\\\\c}\\substack{s_9\\\\c'}}$"
      ],
      "text/plain": [
       "<IPython.core.display.Math object>"
      ]
     },
     "metadata": {},
     "output_type": "display_data"
    },
    {
     "data": {
      "text/latex": [
       "$\\displaystyle d_{58}^{\\text{[['1', '1'], ['0', '3'], ['0', '2'], ['0', '3'], ['2', '3']]}}=\\,1.0 \\Gamma_{s_0 s_1}\\Gamma_{s_7 s_8}\\epsilon_{a b c}\\epsilon_{a' b' c'}\\gamma_{\\mu}e^{-i\\mathbf{q}}_{s_3 s_4}\\gamma_{\\nu}e^{i\\mathbf{q}}_{s_5 s_6}S_{d}(x_3,t_3\\mid x_2,t_2)_{\\substack{s_1\\\\b}\\substack{s_3\\\\c_1}}S_{d}(x_1,t_1\\mid x_1,t_1)_{\\substack{s_6\\\\c_2}\\substack{s_5\\\\c_2}}S_{u}(x_3,t_3\\mid x_0,t_0)_{\\substack{s_2\\\\c}\\substack{s_7\\\\a'}}S_{d}(x_2,t_2\\mid x_0,t_0)_{\\substack{s_4\\\\c_1}\\substack{s_8\\\\b'}}S_{u}(x_3,t_3\\mid x_0,t_0)_{\\substack{s_0\\\\a}\\substack{s_9\\\\c'}}$"
      ],
      "text/plain": [
       "<IPython.core.display.Math object>"
      ]
     },
     "metadata": {},
     "output_type": "display_data"
    },
    {
     "data": {
      "text/latex": [
       "$\\displaystyle d_{15}^{\\text{[['1', '1'], ['0', '3'], ['0', '3'], ['0', '2'], ['2', '3']]}}=\\,-4.0 \\Gamma_{s_0 s_1}\\Gamma_{s_7 s_8}\\epsilon_{a b c}\\epsilon_{a' b' c'}\\gamma_{\\mu}e^{-i\\mathbf{q}}_{s_3 s_4}\\gamma_{\\nu}e^{i\\mathbf{q}}_{s_5 s_6}S_{u}(x_3,t_3\\mid x_2,t_2)_{\\substack{s_2\\\\c}\\substack{s_3\\\\c_1}}S_{u}(x_1,t_1\\mid x_1,t_1)_{\\substack{s_6\\\\c_2}\\substack{s_5\\\\c_2}}S_{u}(x_3,t_3\\mid x_0,t_0)_{\\substack{s_0\\\\a}\\substack{s_7\\\\a'}}S_{d}(x_3,t_3\\mid x_0,t_0)_{\\substack{s_1\\\\b}\\substack{s_8\\\\b'}}S_{u}(x_2,t_2\\mid x_0,t_0)_{\\substack{s_4\\\\c_1}\\substack{s_9\\\\c'}}$"
      ],
      "text/plain": [
       "<IPython.core.display.Math object>"
      ]
     },
     "metadata": {},
     "output_type": "display_data"
    },
    {
     "data": {
      "text/latex": [
       "$\\displaystyle d_{16}^{\\text{[['1', '1'], ['0', '3'], ['0', '3'], ['0', '2'], ['2', '3']]}}=\\,4.0 \\Gamma_{s_0 s_1}\\Gamma_{s_7 s_8}\\epsilon_{a b c}\\epsilon_{a' b' c'}\\gamma_{\\mu}e^{-i\\mathbf{q}}_{s_3 s_4}\\gamma_{\\nu}e^{i\\mathbf{q}}_{s_5 s_6}S_{u}(x_3,t_3\\mid x_2,t_2)_{\\substack{s_0\\\\a}\\substack{s_3\\\\c_1}}S_{u}(x_1,t_1\\mid x_1,t_1)_{\\substack{s_6\\\\c_2}\\substack{s_5\\\\c_2}}S_{u}(x_3,t_3\\mid x_0,t_0)_{\\substack{s_2\\\\c}\\substack{s_7\\\\a'}}S_{d}(x_3,t_3\\mid x_0,t_0)_{\\substack{s_1\\\\b}\\substack{s_8\\\\b'}}S_{u}(x_2,t_2\\mid x_0,t_0)_{\\substack{s_4\\\\c_1}\\substack{s_9\\\\c'}}$"
      ],
      "text/plain": [
       "<IPython.core.display.Math object>"
      ]
     },
     "metadata": {},
     "output_type": "display_data"
    },
    {
     "data": {
      "text/latex": [
       "$\\displaystyle d_{28}^{\\text{[['1', '1'], ['0', '3'], ['0', '3'], ['0', '2'], ['2', '3']]}}=\\,2.0 \\Gamma_{s_0 s_1}\\Gamma_{s_7 s_8}\\epsilon_{a b c}\\epsilon_{a' b' c'}\\gamma_{\\mu}e^{-i\\mathbf{q}}_{s_3 s_4}\\gamma_{\\nu}e^{i\\mathbf{q}}_{s_5 s_6}S_{u}(x_3,t_3\\mid x_2,t_2)_{\\substack{s_2\\\\c}\\substack{s_3\\\\c_1}}S_{d}(x_1,t_1\\mid x_1,t_1)_{\\substack{s_6\\\\c_2}\\substack{s_5\\\\c_2}}S_{u}(x_3,t_3\\mid x_0,t_0)_{\\substack{s_0\\\\a}\\substack{s_7\\\\a'}}S_{d}(x_3,t_3\\mid x_0,t_0)_{\\substack{s_1\\\\b}\\substack{s_8\\\\b'}}S_{u}(x_2,t_2\\mid x_0,t_0)_{\\substack{s_4\\\\c_1}\\substack{s_9\\\\c'}}$"
      ],
      "text/plain": [
       "<IPython.core.display.Math object>"
      ]
     },
     "metadata": {},
     "output_type": "display_data"
    },
    {
     "data": {
      "text/latex": [
       "$\\displaystyle d_{29}^{\\text{[['1', '1'], ['0', '3'], ['0', '3'], ['0', '2'], ['2', '3']]}}=\\,-2.0 \\Gamma_{s_0 s_1}\\Gamma_{s_7 s_8}\\epsilon_{a b c}\\epsilon_{a' b' c'}\\gamma_{\\mu}e^{-i\\mathbf{q}}_{s_3 s_4}\\gamma_{\\nu}e^{i\\mathbf{q}}_{s_5 s_6}S_{u}(x_3,t_3\\mid x_2,t_2)_{\\substack{s_0\\\\a}\\substack{s_3\\\\c_1}}S_{d}(x_1,t_1\\mid x_1,t_1)_{\\substack{s_6\\\\c_2}\\substack{s_5\\\\c_2}}S_{u}(x_3,t_3\\mid x_0,t_0)_{\\substack{s_2\\\\c}\\substack{s_7\\\\a'}}S_{d}(x_3,t_3\\mid x_0,t_0)_{\\substack{s_1\\\\b}\\substack{s_8\\\\b'}}S_{u}(x_2,t_2\\mid x_0,t_0)_{\\substack{s_4\\\\c_1}\\substack{s_9\\\\c'}}$"
      ],
      "text/plain": [
       "<IPython.core.display.Math object>"
      ]
     },
     "metadata": {},
     "output_type": "display_data"
    },
    {
     "data": {
      "text/latex": [
       "$\\displaystyle d_{9}^{\\text{[['2', '1'], ['1', '2'], ['0', '3'], ['0', '3'], ['0', '3']]}}=\\,-4.0 \\Gamma_{s_0 s_1}\\Gamma_{s_7 s_8}\\epsilon_{a b c}\\epsilon_{a' b' c'}\\gamma_{\\mu}e^{-i\\mathbf{q}}_{s_3 s_4}\\gamma_{\\nu}e^{i\\mathbf{q}}_{s_5 s_6}S_{u}(x_1,t_1\\mid x_2,t_2)_{\\substack{s_6\\\\c_2}\\substack{s_3\\\\c_1}}S_{u}(x_2,t_2\\mid x_1,t_1)_{\\substack{s_4\\\\c_1}\\substack{s_5\\\\c_2}}S_{u}(x_3,t_3\\mid x_0,t_0)_{\\substack{s_0\\\\a}\\substack{s_7\\\\a'}}S_{d}(x_3,t_3\\mid x_0,t_0)_{\\substack{s_1\\\\b}\\substack{s_8\\\\b'}}S_{u}(x_3,t_3\\mid x_0,t_0)_{\\substack{s_2\\\\c}\\substack{s_9\\\\c'}}$"
      ],
      "text/plain": [
       "<IPython.core.display.Math object>"
      ]
     },
     "metadata": {},
     "output_type": "display_data"
    },
    {
     "data": {
      "text/latex": [
       "$\\displaystyle d_{22}^{\\text{[['2', '1'], ['1', '2'], ['0', '3'], ['0', '3'], ['0', '3']]}}=\\,4.0 \\Gamma_{s_0 s_1}\\Gamma_{s_7 s_8}\\epsilon_{a b c}\\epsilon_{a' b' c'}\\gamma_{\\mu}e^{-i\\mathbf{q}}_{s_3 s_4}\\gamma_{\\nu}e^{i\\mathbf{q}}_{s_5 s_6}S_{u}(x_1,t_1\\mid x_2,t_2)_{\\substack{s_6\\\\c_2}\\substack{s_3\\\\c_1}}S_{u}(x_2,t_2\\mid x_1,t_1)_{\\substack{s_4\\\\c_1}\\substack{s_5\\\\c_2}}S_{u}(x_3,t_3\\mid x_0,t_0)_{\\substack{s_2\\\\c}\\substack{s_7\\\\a'}}S_{d}(x_3,t_3\\mid x_0,t_0)_{\\substack{s_1\\\\b}\\substack{s_8\\\\b'}}S_{u}(x_3,t_3\\mid x_0,t_0)_{\\substack{s_0\\\\a}\\substack{s_9\\\\c'}}$"
      ],
      "text/plain": [
       "<IPython.core.display.Math object>"
      ]
     },
     "metadata": {},
     "output_type": "display_data"
    },
    {
     "data": {
      "text/latex": [
       "$\\displaystyle d_{53}^{\\text{[['2', '1'], ['1', '2'], ['0', '3'], ['0', '3'], ['0', '3']]}}=\\,-1.0 \\Gamma_{s_0 s_1}\\Gamma_{s_7 s_8}\\epsilon_{a b c}\\epsilon_{a' b' c'}\\gamma_{\\mu}e^{-i\\mathbf{q}}_{s_3 s_4}\\gamma_{\\nu}e^{i\\mathbf{q}}_{s_5 s_6}S_{d}(x_1,t_1\\mid x_2,t_2)_{\\substack{s_6\\\\c_2}\\substack{s_3\\\\c_1}}S_{d}(x_2,t_2\\mid x_1,t_1)_{\\substack{s_4\\\\c_1}\\substack{s_5\\\\c_2}}S_{u}(x_3,t_3\\mid x_0,t_0)_{\\substack{s_0\\\\a}\\substack{s_7\\\\a'}}S_{d}(x_3,t_3\\mid x_0,t_0)_{\\substack{s_1\\\\b}\\substack{s_8\\\\b'}}S_{u}(x_3,t_3\\mid x_0,t_0)_{\\substack{s_2\\\\c}\\substack{s_9\\\\c'}}$"
      ],
      "text/plain": [
       "<IPython.core.display.Math object>"
      ]
     },
     "metadata": {},
     "output_type": "display_data"
    },
    {
     "data": {
      "text/latex": [
       "$\\displaystyle d_{54}^{\\text{[['2', '1'], ['1', '2'], ['0', '3'], ['0', '3'], ['0', '3']]}}=\\,1.0 \\Gamma_{s_0 s_1}\\Gamma_{s_7 s_8}\\epsilon_{a b c}\\epsilon_{a' b' c'}\\gamma_{\\mu}e^{-i\\mathbf{q}}_{s_3 s_4}\\gamma_{\\nu}e^{i\\mathbf{q}}_{s_5 s_6}S_{d}(x_1,t_1\\mid x_2,t_2)_{\\substack{s_6\\\\c_2}\\substack{s_3\\\\c_1}}S_{d}(x_2,t_2\\mid x_1,t_1)_{\\substack{s_4\\\\c_1}\\substack{s_5\\\\c_2}}S_{u}(x_3,t_3\\mid x_0,t_0)_{\\substack{s_2\\\\c}\\substack{s_7\\\\a'}}S_{d}(x_3,t_3\\mid x_0,t_0)_{\\substack{s_1\\\\b}\\substack{s_8\\\\b'}}S_{u}(x_3,t_3\\mid x_0,t_0)_{\\substack{s_0\\\\a}\\substack{s_9\\\\c'}}$"
      ],
      "text/plain": [
       "<IPython.core.display.Math object>"
      ]
     },
     "metadata": {},
     "output_type": "display_data"
    },
    {
     "data": {
      "text/latex": [
       "$\\displaystyle d_{6}^{\\text{[['2', '1'], ['1', '3'], ['0', '2'], ['0', '3'], ['0', '3']]}}=\\,4.0 \\Gamma_{s_0 s_1}\\Gamma_{s_7 s_8}\\epsilon_{a b c}\\epsilon_{a' b' c'}\\gamma_{\\mu}e^{-i\\mathbf{q}}_{s_3 s_4}\\gamma_{\\nu}e^{i\\mathbf{q}}_{s_5 s_6}S_{u}(x_1,t_1\\mid x_2,t_2)_{\\substack{s_6\\\\c_2}\\substack{s_3\\\\c_1}}S_{u}(x_3,t_3\\mid x_1,t_1)_{\\substack{s_0\\\\a}\\substack{s_5\\\\c_2}}S_{u}(x_2,t_2\\mid x_0,t_0)_{\\substack{s_4\\\\c_1}\\substack{s_7\\\\a'}}S_{d}(x_3,t_3\\mid x_0,t_0)_{\\substack{s_1\\\\b}\\substack{s_8\\\\b'}}S_{u}(x_3,t_3\\mid x_0,t_0)_{\\substack{s_2\\\\c}\\substack{s_9\\\\c'}}$"
      ],
      "text/plain": [
       "<IPython.core.display.Math object>"
      ]
     },
     "metadata": {},
     "output_type": "display_data"
    },
    {
     "data": {
      "text/latex": [
       "$\\displaystyle d_{19}^{\\text{[['2', '1'], ['1', '3'], ['0', '2'], ['0', '3'], ['0', '3']]}}=\\,-4.0 \\Gamma_{s_0 s_1}\\Gamma_{s_7 s_8}\\epsilon_{a b c}\\epsilon_{a' b' c'}\\gamma_{\\mu}e^{-i\\mathbf{q}}_{s_3 s_4}\\gamma_{\\nu}e^{i\\mathbf{q}}_{s_5 s_6}S_{u}(x_1,t_1\\mid x_2,t_2)_{\\substack{s_6\\\\c_2}\\substack{s_3\\\\c_1}}S_{u}(x_3,t_3\\mid x_1,t_1)_{\\substack{s_2\\\\c}\\substack{s_5\\\\c_2}}S_{u}(x_2,t_2\\mid x_0,t_0)_{\\substack{s_4\\\\c_1}\\substack{s_7\\\\a'}}S_{d}(x_3,t_3\\mid x_0,t_0)_{\\substack{s_1\\\\b}\\substack{s_8\\\\b'}}S_{u}(x_3,t_3\\mid x_0,t_0)_{\\substack{s_0\\\\a}\\substack{s_9\\\\c'}}$"
      ],
      "text/plain": [
       "<IPython.core.display.Math object>"
      ]
     },
     "metadata": {},
     "output_type": "display_data"
    },
    {
     "data": {
      "text/latex": [
       "$\\displaystyle d_{50}^{\\text{[['2', '1'], ['1', '3'], ['0', '3'], ['0', '2'], ['0', '3']]}}=\\,1.0 \\Gamma_{s_0 s_1}\\Gamma_{s_7 s_8}\\epsilon_{a b c}\\epsilon_{a' b' c'}\\gamma_{\\mu}e^{-i\\mathbf{q}}_{s_3 s_4}\\gamma_{\\nu}e^{i\\mathbf{q}}_{s_5 s_6}S_{d}(x_1,t_1\\mid x_2,t_2)_{\\substack{s_6\\\\c_2}\\substack{s_3\\\\c_1}}S_{d}(x_3,t_3\\mid x_1,t_1)_{\\substack{s_1\\\\b}\\substack{s_5\\\\c_2}}S_{u}(x_3,t_3\\mid x_0,t_0)_{\\substack{s_0\\\\a}\\substack{s_7\\\\a'}}S_{d}(x_2,t_2\\mid x_0,t_0)_{\\substack{s_4\\\\c_1}\\substack{s_8\\\\b'}}S_{u}(x_3,t_3\\mid x_0,t_0)_{\\substack{s_2\\\\c}\\substack{s_9\\\\c'}}$"
      ],
      "text/plain": [
       "<IPython.core.display.Math object>"
      ]
     },
     "metadata": {},
     "output_type": "display_data"
    },
    {
     "data": {
      "text/latex": [
       "$\\displaystyle d_{59}^{\\text{[['2', '1'], ['1', '3'], ['0', '3'], ['0', '2'], ['0', '3']]}}=\\,-1.0 \\Gamma_{s_0 s_1}\\Gamma_{s_7 s_8}\\epsilon_{a b c}\\epsilon_{a' b' c'}\\gamma_{\\mu}e^{-i\\mathbf{q}}_{s_3 s_4}\\gamma_{\\nu}e^{i\\mathbf{q}}_{s_5 s_6}S_{d}(x_1,t_1\\mid x_2,t_2)_{\\substack{s_6\\\\c_2}\\substack{s_3\\\\c_1}}S_{d}(x_3,t_3\\mid x_1,t_1)_{\\substack{s_1\\\\b}\\substack{s_5\\\\c_2}}S_{u}(x_3,t_3\\mid x_0,t_0)_{\\substack{s_2\\\\c}\\substack{s_7\\\\a'}}S_{d}(x_2,t_2\\mid x_0,t_0)_{\\substack{s_4\\\\c_1}\\substack{s_8\\\\b'}}S_{u}(x_3,t_3\\mid x_0,t_0)_{\\substack{s_0\\\\a}\\substack{s_9\\\\c'}}$"
      ],
      "text/plain": [
       "<IPython.core.display.Math object>"
      ]
     },
     "metadata": {},
     "output_type": "display_data"
    },
    {
     "data": {
      "text/latex": [
       "$\\displaystyle d_{14}^{\\text{[['2', '1'], ['1', '3'], ['0', '3'], ['0', '3'], ['0', '2']]}}=\\,4.0 \\Gamma_{s_0 s_1}\\Gamma_{s_7 s_8}\\epsilon_{a b c}\\epsilon_{a' b' c'}\\gamma_{\\mu}e^{-i\\mathbf{q}}_{s_3 s_4}\\gamma_{\\nu}e^{i\\mathbf{q}}_{s_5 s_6}S_{u}(x_1,t_1\\mid x_2,t_2)_{\\substack{s_6\\\\c_2}\\substack{s_3\\\\c_1}}S_{u}(x_3,t_3\\mid x_1,t_1)_{\\substack{s_2\\\\c}\\substack{s_5\\\\c_2}}S_{u}(x_3,t_3\\mid x_0,t_0)_{\\substack{s_0\\\\a}\\substack{s_7\\\\a'}}S_{d}(x_3,t_3\\mid x_0,t_0)_{\\substack{s_1\\\\b}\\substack{s_8\\\\b'}}S_{u}(x_2,t_2\\mid x_0,t_0)_{\\substack{s_4\\\\c_1}\\substack{s_9\\\\c'}}$"
      ],
      "text/plain": [
       "<IPython.core.display.Math object>"
      ]
     },
     "metadata": {},
     "output_type": "display_data"
    },
    {
     "data": {
      "text/latex": [
       "$\\displaystyle d_{17}^{\\text{[['2', '1'], ['1', '3'], ['0', '3'], ['0', '3'], ['0', '2']]}}=\\,-4.0 \\Gamma_{s_0 s_1}\\Gamma_{s_7 s_8}\\epsilon_{a b c}\\epsilon_{a' b' c'}\\gamma_{\\mu}e^{-i\\mathbf{q}}_{s_3 s_4}\\gamma_{\\nu}e^{i\\mathbf{q}}_{s_5 s_6}S_{u}(x_1,t_1\\mid x_2,t_2)_{\\substack{s_6\\\\c_2}\\substack{s_3\\\\c_1}}S_{u}(x_3,t_3\\mid x_1,t_1)_{\\substack{s_0\\\\a}\\substack{s_5\\\\c_2}}S_{u}(x_3,t_3\\mid x_0,t_0)_{\\substack{s_2\\\\c}\\substack{s_7\\\\a'}}S_{d}(x_3,t_3\\mid x_0,t_0)_{\\substack{s_1\\\\b}\\substack{s_8\\\\b'}}S_{u}(x_2,t_2\\mid x_0,t_0)_{\\substack{s_4\\\\c_1}\\substack{s_9\\\\c'}}$"
      ],
      "text/plain": [
       "<IPython.core.display.Math object>"
      ]
     },
     "metadata": {},
     "output_type": "display_data"
    },
    {
     "data": {
      "text/latex": [
       "$\\displaystyle d_{11}^{\\text{[['2', '2'], ['0', '1'], ['0', '3'], ['0', '3'], ['1', '3']]}}=\\,-4.0 \\Gamma_{s_0 s_1}\\Gamma_{s_7 s_8}\\epsilon_{a b c}\\epsilon_{a' b' c'}\\gamma_{\\mu}e^{-i\\mathbf{q}}_{s_3 s_4}\\gamma_{\\nu}e^{i\\mathbf{q}}_{s_5 s_6}S_{u}(x_2,t_2\\mid x_2,t_2)_{\\substack{s_4\\\\c_1}\\substack{s_3\\\\c_1}}S_{u}(x_3,t_3\\mid x_1,t_1)_{\\substack{s_0\\\\a}\\substack{s_5\\\\c_2}}S_{u}(x_1,t_1\\mid x_0,t_0)_{\\substack{s_6\\\\c_2}\\substack{s_7\\\\a'}}S_{d}(x_3,t_3\\mid x_0,t_0)_{\\substack{s_1\\\\b}\\substack{s_8\\\\b'}}S_{u}(x_3,t_3\\mid x_0,t_0)_{\\substack{s_2\\\\c}\\substack{s_9\\\\c'}}$"
      ],
      "text/plain": [
       "<IPython.core.display.Math object>"
      ]
     },
     "metadata": {},
     "output_type": "display_data"
    },
    {
     "data": {
      "text/latex": [
       "$\\displaystyle d_{20}^{\\text{[['2', '2'], ['0', '1'], ['0', '3'], ['0', '3'], ['1', '3']]}}=\\,4.0 \\Gamma_{s_0 s_1}\\Gamma_{s_7 s_8}\\epsilon_{a b c}\\epsilon_{a' b' c'}\\gamma_{\\mu}e^{-i\\mathbf{q}}_{s_3 s_4}\\gamma_{\\nu}e^{i\\mathbf{q}}_{s_5 s_6}S_{u}(x_2,t_2\\mid x_2,t_2)_{\\substack{s_4\\\\c_1}\\substack{s_3\\\\c_1}}S_{u}(x_3,t_3\\mid x_1,t_1)_{\\substack{s_2\\\\c}\\substack{s_5\\\\c_2}}S_{u}(x_1,t_1\\mid x_0,t_0)_{\\substack{s_6\\\\c_2}\\substack{s_7\\\\a'}}S_{d}(x_3,t_3\\mid x_0,t_0)_{\\substack{s_1\\\\b}\\substack{s_8\\\\b'}}S_{u}(x_3,t_3\\mid x_0,t_0)_{\\substack{s_0\\\\a}\\substack{s_9\\\\c'}}$"
      ],
      "text/plain": [
       "<IPython.core.display.Math object>"
      ]
     },
     "metadata": {},
     "output_type": "display_data"
    },
    {
     "data": {
      "text/latex": [
       "$\\displaystyle d_{43}^{\\text{[['2', '2'], ['0', '1'], ['0', '3'], ['0', '3'], ['1', '3']]}}=\\,2.0 \\Gamma_{s_0 s_1}\\Gamma_{s_7 s_8}\\epsilon_{a b c}\\epsilon_{a' b' c'}\\gamma_{\\mu}e^{-i\\mathbf{q}}_{s_3 s_4}\\gamma_{\\nu}e^{i\\mathbf{q}}_{s_5 s_6}S_{d}(x_2,t_2\\mid x_2,t_2)_{\\substack{s_4\\\\c_1}\\substack{s_3\\\\c_1}}S_{u}(x_3,t_3\\mid x_1,t_1)_{\\substack{s_0\\\\a}\\substack{s_5\\\\c_2}}S_{u}(x_1,t_1\\mid x_0,t_0)_{\\substack{s_6\\\\c_2}\\substack{s_7\\\\a'}}S_{d}(x_3,t_3\\mid x_0,t_0)_{\\substack{s_1\\\\b}\\substack{s_8\\\\b'}}S_{u}(x_3,t_3\\mid x_0,t_0)_{\\substack{s_2\\\\c}\\substack{s_9\\\\c'}}$"
      ],
      "text/plain": [
       "<IPython.core.display.Math object>"
      ]
     },
     "metadata": {},
     "output_type": "display_data"
    },
    {
     "data": {
      "text/latex": [
       "$\\displaystyle d_{44}^{\\text{[['2', '2'], ['0', '1'], ['0', '3'], ['0', '3'], ['1', '3']]}}=\\,-2.0 \\Gamma_{s_0 s_1}\\Gamma_{s_7 s_8}\\epsilon_{a b c}\\epsilon_{a' b' c'}\\gamma_{\\mu}e^{-i\\mathbf{q}}_{s_3 s_4}\\gamma_{\\nu}e^{i\\mathbf{q}}_{s_5 s_6}S_{d}(x_2,t_2\\mid x_2,t_2)_{\\substack{s_4\\\\c_1}\\substack{s_3\\\\c_1}}S_{u}(x_3,t_3\\mid x_1,t_1)_{\\substack{s_2\\\\c}\\substack{s_5\\\\c_2}}S_{u}(x_1,t_1\\mid x_0,t_0)_{\\substack{s_6\\\\c_2}\\substack{s_7\\\\a'}}S_{d}(x_3,t_3\\mid x_0,t_0)_{\\substack{s_1\\\\b}\\substack{s_8\\\\b'}}S_{u}(x_3,t_3\\mid x_0,t_0)_{\\substack{s_0\\\\a}\\substack{s_9\\\\c'}}$"
      ],
      "text/plain": [
       "<IPython.core.display.Math object>"
      ]
     },
     "metadata": {},
     "output_type": "display_data"
    },
    {
     "data": {
      "text/latex": [
       "$\\displaystyle d_{24}^{\\text{[['2', '2'], ['0', '3'], ['0', '1'], ['0', '3'], ['1', '3']]}}=\\,2.0 \\Gamma_{s_0 s_1}\\Gamma_{s_7 s_8}\\epsilon_{a b c}\\epsilon_{a' b' c'}\\gamma_{\\mu}e^{-i\\mathbf{q}}_{s_3 s_4}\\gamma_{\\nu}e^{i\\mathbf{q}}_{s_5 s_6}S_{u}(x_2,t_2\\mid x_2,t_2)_{\\substack{s_4\\\\c_1}\\substack{s_3\\\\c_1}}S_{d}(x_3,t_3\\mid x_1,t_1)_{\\substack{s_1\\\\b}\\substack{s_5\\\\c_2}}S_{u}(x_3,t_3\\mid x_0,t_0)_{\\substack{s_0\\\\a}\\substack{s_7\\\\a'}}S_{d}(x_1,t_1\\mid x_0,t_0)_{\\substack{s_6\\\\c_2}\\substack{s_8\\\\b'}}S_{u}(x_3,t_3\\mid x_0,t_0)_{\\substack{s_2\\\\c}\\substack{s_9\\\\c'}}$"
      ],
      "text/plain": [
       "<IPython.core.display.Math object>"
      ]
     },
     "metadata": {},
     "output_type": "display_data"
    },
    {
     "data": {
      "text/latex": [
       "$\\displaystyle d_{34}^{\\text{[['2', '2'], ['0', '3'], ['0', '1'], ['0', '3'], ['1', '3']]}}=\\,-2.0 \\Gamma_{s_0 s_1}\\Gamma_{s_7 s_8}\\epsilon_{a b c}\\epsilon_{a' b' c'}\\gamma_{\\mu}e^{-i\\mathbf{q}}_{s_3 s_4}\\gamma_{\\nu}e^{i\\mathbf{q}}_{s_5 s_6}S_{u}(x_2,t_2\\mid x_2,t_2)_{\\substack{s_4\\\\c_1}\\substack{s_3\\\\c_1}}S_{d}(x_3,t_3\\mid x_1,t_1)_{\\substack{s_1\\\\b}\\substack{s_5\\\\c_2}}S_{u}(x_3,t_3\\mid x_0,t_0)_{\\substack{s_2\\\\c}\\substack{s_7\\\\a'}}S_{d}(x_1,t_1\\mid x_0,t_0)_{\\substack{s_6\\\\c_2}\\substack{s_8\\\\b'}}S_{u}(x_3,t_3\\mid x_0,t_0)_{\\substack{s_0\\\\a}\\substack{s_9\\\\c'}}$"
      ],
      "text/plain": [
       "<IPython.core.display.Math object>"
      ]
     },
     "metadata": {},
     "output_type": "display_data"
    },
    {
     "data": {
      "text/latex": [
       "$\\displaystyle d_{49}^{\\text{[['2', '2'], ['0', '3'], ['0', '1'], ['0', '3'], ['1', '3']]}}=\\,-1.0 \\Gamma_{s_0 s_1}\\Gamma_{s_7 s_8}\\epsilon_{a b c}\\epsilon_{a' b' c'}\\gamma_{\\mu}e^{-i\\mathbf{q}}_{s_3 s_4}\\gamma_{\\nu}e^{i\\mathbf{q}}_{s_5 s_6}S_{d}(x_2,t_2\\mid x_2,t_2)_{\\substack{s_4\\\\c_1}\\substack{s_3\\\\c_1}}S_{d}(x_3,t_3\\mid x_1,t_1)_{\\substack{s_1\\\\b}\\substack{s_5\\\\c_2}}S_{u}(x_3,t_3\\mid x_0,t_0)_{\\substack{s_0\\\\a}\\substack{s_7\\\\a'}}S_{d}(x_1,t_1\\mid x_0,t_0)_{\\substack{s_6\\\\c_2}\\substack{s_8\\\\b'}}S_{u}(x_3,t_3\\mid x_0,t_0)_{\\substack{s_2\\\\c}\\substack{s_9\\\\c'}}$"
      ],
      "text/plain": [
       "<IPython.core.display.Math object>"
      ]
     },
     "metadata": {},
     "output_type": "display_data"
    },
    {
     "data": {
      "text/latex": [
       "$\\displaystyle d_{56}^{\\text{[['2', '2'], ['0', '3'], ['0', '1'], ['0', '3'], ['1', '3']]}}=\\,1.0 \\Gamma_{s_0 s_1}\\Gamma_{s_7 s_8}\\epsilon_{a b c}\\epsilon_{a' b' c'}\\gamma_{\\mu}e^{-i\\mathbf{q}}_{s_3 s_4}\\gamma_{\\nu}e^{i\\mathbf{q}}_{s_5 s_6}S_{d}(x_2,t_2\\mid x_2,t_2)_{\\substack{s_4\\\\c_1}\\substack{s_3\\\\c_1}}S_{d}(x_3,t_3\\mid x_1,t_1)_{\\substack{s_1\\\\b}\\substack{s_5\\\\c_2}}S_{u}(x_3,t_3\\mid x_0,t_0)_{\\substack{s_2\\\\c}\\substack{s_7\\\\a'}}S_{d}(x_1,t_1\\mid x_0,t_0)_{\\substack{s_6\\\\c_2}\\substack{s_8\\\\b'}}S_{u}(x_3,t_3\\mid x_0,t_0)_{\\substack{s_0\\\\a}\\substack{s_9\\\\c'}}$"
      ],
      "text/plain": [
       "<IPython.core.display.Math object>"
      ]
     },
     "metadata": {},
     "output_type": "display_data"
    },
    {
     "data": {
      "text/latex": [
       "$\\displaystyle d_{2}^{\\text{[['2', '2'], ['0', '3'], ['0', '3'], ['0', '1'], ['1', '3']]}}=\\,4.0 \\Gamma_{s_0 s_1}\\Gamma_{s_7 s_8}\\epsilon_{a b c}\\epsilon_{a' b' c'}\\gamma_{\\mu}e^{-i\\mathbf{q}}_{s_3 s_4}\\gamma_{\\nu}e^{i\\mathbf{q}}_{s_5 s_6}S_{u}(x_2,t_2\\mid x_2,t_2)_{\\substack{s_4\\\\c_1}\\substack{s_3\\\\c_1}}S_{u}(x_3,t_3\\mid x_1,t_1)_{\\substack{s_0\\\\a}\\substack{s_5\\\\c_2}}S_{u}(x_3,t_3\\mid x_0,t_0)_{\\substack{s_2\\\\c}\\substack{s_7\\\\a'}}S_{d}(x_3,t_3\\mid x_0,t_0)_{\\substack{s_1\\\\b}\\substack{s_8\\\\b'}}S_{u}(x_1,t_1\\mid x_0,t_0)_{\\substack{s_6\\\\c_2}\\substack{s_9\\\\c'}}$"
      ],
      "text/plain": [
       "<IPython.core.display.Math object>"
      ]
     },
     "metadata": {},
     "output_type": "display_data"
    },
    {
     "data": {
      "text/latex": [
       "$\\displaystyle d_{5}^{\\text{[['2', '2'], ['0', '3'], ['0', '3'], ['0', '1'], ['1', '3']]}}=\\,-4.0 \\Gamma_{s_0 s_1}\\Gamma_{s_7 s_8}\\epsilon_{a b c}\\epsilon_{a' b' c'}\\gamma_{\\mu}e^{-i\\mathbf{q}}_{s_3 s_4}\\gamma_{\\nu}e^{i\\mathbf{q}}_{s_5 s_6}S_{u}(x_2,t_2\\mid x_2,t_2)_{\\substack{s_4\\\\c_1}\\substack{s_3\\\\c_1}}S_{u}(x_3,t_3\\mid x_1,t_1)_{\\substack{s_2\\\\c}\\substack{s_5\\\\c_2}}S_{u}(x_3,t_3\\mid x_0,t_0)_{\\substack{s_0\\\\a}\\substack{s_7\\\\a'}}S_{d}(x_3,t_3\\mid x_0,t_0)_{\\substack{s_1\\\\b}\\substack{s_8\\\\b'}}S_{u}(x_1,t_1\\mid x_0,t_0)_{\\substack{s_6\\\\c_2}\\substack{s_9\\\\c'}}$"
      ],
      "text/plain": [
       "<IPython.core.display.Math object>"
      ]
     },
     "metadata": {},
     "output_type": "display_data"
    },
    {
     "data": {
      "text/latex": [
       "$\\displaystyle d_{38}^{\\text{[['2', '2'], ['0', '3'], ['0', '3'], ['0', '1'], ['1', '3']]}}=\\,-2.0 \\Gamma_{s_0 s_1}\\Gamma_{s_7 s_8}\\epsilon_{a b c}\\epsilon_{a' b' c'}\\gamma_{\\mu}e^{-i\\mathbf{q}}_{s_3 s_4}\\gamma_{\\nu}e^{i\\mathbf{q}}_{s_5 s_6}S_{d}(x_2,t_2\\mid x_2,t_2)_{\\substack{s_4\\\\c_1}\\substack{s_3\\\\c_1}}S_{u}(x_3,t_3\\mid x_1,t_1)_{\\substack{s_0\\\\a}\\substack{s_5\\\\c_2}}S_{u}(x_3,t_3\\mid x_0,t_0)_{\\substack{s_2\\\\c}\\substack{s_7\\\\a'}}S_{d}(x_3,t_3\\mid x_0,t_0)_{\\substack{s_1\\\\b}\\substack{s_8\\\\b'}}S_{u}(x_1,t_1\\mid x_0,t_0)_{\\substack{s_6\\\\c_2}\\substack{s_9\\\\c'}}$"
      ],
      "text/plain": [
       "<IPython.core.display.Math object>"
      ]
     },
     "metadata": {},
     "output_type": "display_data"
    },
    {
     "data": {
      "text/latex": [
       "$\\displaystyle d_{39}^{\\text{[['2', '2'], ['0', '3'], ['0', '3'], ['0', '1'], ['1', '3']]}}=\\,2.0 \\Gamma_{s_0 s_1}\\Gamma_{s_7 s_8}\\epsilon_{a b c}\\epsilon_{a' b' c'}\\gamma_{\\mu}e^{-i\\mathbf{q}}_{s_3 s_4}\\gamma_{\\nu}e^{i\\mathbf{q}}_{s_5 s_6}S_{d}(x_2,t_2\\mid x_2,t_2)_{\\substack{s_4\\\\c_1}\\substack{s_3\\\\c_1}}S_{u}(x_3,t_3\\mid x_1,t_1)_{\\substack{s_2\\\\c}\\substack{s_5\\\\c_2}}S_{u}(x_3,t_3\\mid x_0,t_0)_{\\substack{s_0\\\\a}\\substack{s_7\\\\a'}}S_{d}(x_3,t_3\\mid x_0,t_0)_{\\substack{s_1\\\\b}\\substack{s_8\\\\b'}}S_{u}(x_1,t_1\\mid x_0,t_0)_{\\substack{s_6\\\\c_2}\\substack{s_9\\\\c'}}$"
      ],
      "text/plain": [
       "<IPython.core.display.Math object>"
      ]
     },
     "metadata": {},
     "output_type": "display_data"
    },
    {
     "data": {
      "text/latex": [
       "$\\displaystyle d_{8}^{\\text{[['2', '2'], ['0', '3'], ['0', '3'], ['0', '3'], ['1', '1']]}}=\\,4.0 \\Gamma_{s_0 s_1}\\Gamma_{s_7 s_8}\\epsilon_{a b c}\\epsilon_{a' b' c'}\\gamma_{\\mu}e^{-i\\mathbf{q}}_{s_3 s_4}\\gamma_{\\nu}e^{i\\mathbf{q}}_{s_5 s_6}S_{u}(x_2,t_2\\mid x_2,t_2)_{\\substack{s_4\\\\c_1}\\substack{s_3\\\\c_1}}S_{u}(x_1,t_1\\mid x_1,t_1)_{\\substack{s_6\\\\c_2}\\substack{s_5\\\\c_2}}S_{u}(x_3,t_3\\mid x_0,t_0)_{\\substack{s_0\\\\a}\\substack{s_7\\\\a'}}S_{d}(x_3,t_3\\mid x_0,t_0)_{\\substack{s_1\\\\b}\\substack{s_8\\\\b'}}S_{u}(x_3,t_3\\mid x_0,t_0)_{\\substack{s_2\\\\c}\\substack{s_9\\\\c'}}$"
      ],
      "text/plain": [
       "<IPython.core.display.Math object>"
      ]
     },
     "metadata": {},
     "output_type": "display_data"
    },
    {
     "data": {
      "text/latex": [
       "$\\displaystyle d_{23}^{\\text{[['2', '2'], ['0', '3'], ['0', '3'], ['0', '3'], ['1', '1']]}}=\\,-4.0 \\Gamma_{s_0 s_1}\\Gamma_{s_7 s_8}\\epsilon_{a b c}\\epsilon_{a' b' c'}\\gamma_{\\mu}e^{-i\\mathbf{q}}_{s_3 s_4}\\gamma_{\\nu}e^{i\\mathbf{q}}_{s_5 s_6}S_{u}(x_2,t_2\\mid x_2,t_2)_{\\substack{s_4\\\\c_1}\\substack{s_3\\\\c_1}}S_{u}(x_1,t_1\\mid x_1,t_1)_{\\substack{s_6\\\\c_2}\\substack{s_5\\\\c_2}}S_{u}(x_3,t_3\\mid x_0,t_0)_{\\substack{s_2\\\\c}\\substack{s_7\\\\a'}}S_{d}(x_3,t_3\\mid x_0,t_0)_{\\substack{s_1\\\\b}\\substack{s_8\\\\b'}}S_{u}(x_3,t_3\\mid x_0,t_0)_{\\substack{s_0\\\\a}\\substack{s_9\\\\c'}}$"
      ],
      "text/plain": [
       "<IPython.core.display.Math object>"
      ]
     },
     "metadata": {},
     "output_type": "display_data"
    },
    {
     "data": {
      "text/latex": [
       "$\\displaystyle d_{27}^{\\text{[['2', '2'], ['0', '3'], ['0', '3'], ['0', '3'], ['1', '1']]}}=\\,-2.0 \\Gamma_{s_0 s_1}\\Gamma_{s_7 s_8}\\epsilon_{a b c}\\epsilon_{a' b' c'}\\gamma_{\\mu}e^{-i\\mathbf{q}}_{s_3 s_4}\\gamma_{\\nu}e^{i\\mathbf{q}}_{s_5 s_6}S_{u}(x_2,t_2\\mid x_2,t_2)_{\\substack{s_4\\\\c_1}\\substack{s_3\\\\c_1}}S_{d}(x_1,t_1\\mid x_1,t_1)_{\\substack{s_6\\\\c_2}\\substack{s_5\\\\c_2}}S_{u}(x_3,t_3\\mid x_0,t_0)_{\\substack{s_0\\\\a}\\substack{s_7\\\\a'}}S_{d}(x_3,t_3\\mid x_0,t_0)_{\\substack{s_1\\\\b}\\substack{s_8\\\\b'}}S_{u}(x_3,t_3\\mid x_0,t_0)_{\\substack{s_2\\\\c}\\substack{s_9\\\\c'}}$"
      ],
      "text/plain": [
       "<IPython.core.display.Math object>"
      ]
     },
     "metadata": {},
     "output_type": "display_data"
    },
    {
     "data": {
      "text/latex": [
       "$\\displaystyle d_{33}^{\\text{[['2', '2'], ['0', '3'], ['0', '3'], ['0', '3'], ['1', '1']]}}=\\,2.0 \\Gamma_{s_0 s_1}\\Gamma_{s_7 s_8}\\epsilon_{a b c}\\epsilon_{a' b' c'}\\gamma_{\\mu}e^{-i\\mathbf{q}}_{s_3 s_4}\\gamma_{\\nu}e^{i\\mathbf{q}}_{s_5 s_6}S_{u}(x_2,t_2\\mid x_2,t_2)_{\\substack{s_4\\\\c_1}\\substack{s_3\\\\c_1}}S_{d}(x_1,t_1\\mid x_1,t_1)_{\\substack{s_6\\\\c_2}\\substack{s_5\\\\c_2}}S_{u}(x_3,t_3\\mid x_0,t_0)_{\\substack{s_2\\\\c}\\substack{s_7\\\\a'}}S_{d}(x_3,t_3\\mid x_0,t_0)_{\\substack{s_1\\\\b}\\substack{s_8\\\\b'}}S_{u}(x_3,t_3\\mid x_0,t_0)_{\\substack{s_0\\\\a}\\substack{s_9\\\\c'}}$"
      ],
      "text/plain": [
       "<IPython.core.display.Math object>"
      ]
     },
     "metadata": {},
     "output_type": "display_data"
    },
    {
     "data": {
      "text/latex": [
       "$\\displaystyle d_{42}^{\\text{[['2', '2'], ['0', '3'], ['0', '3'], ['0', '3'], ['1', '1']]}}=\\,-2.0 \\Gamma_{s_0 s_1}\\Gamma_{s_7 s_8}\\epsilon_{a b c}\\epsilon_{a' b' c'}\\gamma_{\\mu}e^{-i\\mathbf{q}}_{s_3 s_4}\\gamma_{\\nu}e^{i\\mathbf{q}}_{s_5 s_6}S_{d}(x_2,t_2\\mid x_2,t_2)_{\\substack{s_4\\\\c_1}\\substack{s_3\\\\c_1}}S_{u}(x_1,t_1\\mid x_1,t_1)_{\\substack{s_6\\\\c_2}\\substack{s_5\\\\c_2}}S_{u}(x_3,t_3\\mid x_0,t_0)_{\\substack{s_0\\\\a}\\substack{s_7\\\\a'}}S_{d}(x_3,t_3\\mid x_0,t_0)_{\\substack{s_1\\\\b}\\substack{s_8\\\\b'}}S_{u}(x_3,t_3\\mid x_0,t_0)_{\\substack{s_2\\\\c}\\substack{s_9\\\\c'}}$"
      ],
      "text/plain": [
       "<IPython.core.display.Math object>"
      ]
     },
     "metadata": {},
     "output_type": "display_data"
    },
    {
     "data": {
      "text/latex": [
       "$\\displaystyle d_{45}^{\\text{[['2', '2'], ['0', '3'], ['0', '3'], ['0', '3'], ['1', '1']]}}=\\,2.0 \\Gamma_{s_0 s_1}\\Gamma_{s_7 s_8}\\epsilon_{a b c}\\epsilon_{a' b' c'}\\gamma_{\\mu}e^{-i\\mathbf{q}}_{s_3 s_4}\\gamma_{\\nu}e^{i\\mathbf{q}}_{s_5 s_6}S_{d}(x_2,t_2\\mid x_2,t_2)_{\\substack{s_4\\\\c_1}\\substack{s_3\\\\c_1}}S_{u}(x_1,t_1\\mid x_1,t_1)_{\\substack{s_6\\\\c_2}\\substack{s_5\\\\c_2}}S_{u}(x_3,t_3\\mid x_0,t_0)_{\\substack{s_2\\\\c}\\substack{s_7\\\\a'}}S_{d}(x_3,t_3\\mid x_0,t_0)_{\\substack{s_1\\\\b}\\substack{s_8\\\\b'}}S_{u}(x_3,t_3\\mid x_0,t_0)_{\\substack{s_0\\\\a}\\substack{s_9\\\\c'}}$"
      ],
      "text/plain": [
       "<IPython.core.display.Math object>"
      ]
     },
     "metadata": {},
     "output_type": "display_data"
    },
    {
     "data": {
      "text/latex": [
       "$\\displaystyle d_{52}^{\\text{[['2', '2'], ['0', '3'], ['0', '3'], ['0', '3'], ['1', '1']]}}=\\,1.0 \\Gamma_{s_0 s_1}\\Gamma_{s_7 s_8}\\epsilon_{a b c}\\epsilon_{a' b' c'}\\gamma_{\\mu}e^{-i\\mathbf{q}}_{s_3 s_4}\\gamma_{\\nu}e^{i\\mathbf{q}}_{s_5 s_6}S_{d}(x_2,t_2\\mid x_2,t_2)_{\\substack{s_4\\\\c_1}\\substack{s_3\\\\c_1}}S_{d}(x_1,t_1\\mid x_1,t_1)_{\\substack{s_6\\\\c_2}\\substack{s_5\\\\c_2}}S_{u}(x_3,t_3\\mid x_0,t_0)_{\\substack{s_0\\\\a}\\substack{s_7\\\\a'}}S_{d}(x_3,t_3\\mid x_0,t_0)_{\\substack{s_1\\\\b}\\substack{s_8\\\\b'}}S_{u}(x_3,t_3\\mid x_0,t_0)_{\\substack{s_2\\\\c}\\substack{s_9\\\\c'}}$"
      ],
      "text/plain": [
       "<IPython.core.display.Math object>"
      ]
     },
     "metadata": {},
     "output_type": "display_data"
    },
    {
     "data": {
      "text/latex": [
       "$\\displaystyle d_{55}^{\\text{[['2', '2'], ['0', '3'], ['0', '3'], ['0', '3'], ['1', '1']]}}=\\,-1.0 \\Gamma_{s_0 s_1}\\Gamma_{s_7 s_8}\\epsilon_{a b c}\\epsilon_{a' b' c'}\\gamma_{\\mu}e^{-i\\mathbf{q}}_{s_3 s_4}\\gamma_{\\nu}e^{i\\mathbf{q}}_{s_5 s_6}S_{d}(x_2,t_2\\mid x_2,t_2)_{\\substack{s_4\\\\c_1}\\substack{s_3\\\\c_1}}S_{d}(x_1,t_1\\mid x_1,t_1)_{\\substack{s_6\\\\c_2}\\substack{s_5\\\\c_2}}S_{u}(x_3,t_3\\mid x_0,t_0)_{\\substack{s_2\\\\c}\\substack{s_7\\\\a'}}S_{d}(x_3,t_3\\mid x_0,t_0)_{\\substack{s_1\\\\b}\\substack{s_8\\\\b'}}S_{u}(x_3,t_3\\mid x_0,t_0)_{\\substack{s_0\\\\a}\\substack{s_9\\\\c'}}$"
      ],
      "text/plain": [
       "<IPython.core.display.Math object>"
      ]
     },
     "metadata": {},
     "output_type": "display_data"
    },
    {
     "data": {
      "text/latex": [
       "$\\displaystyle d_{10}^{\\text{[['2', '3'], ['1', '2'], ['0', '1'], ['0', '3'], ['0', '3']]}}=\\,4.0 \\Gamma_{s_0 s_1}\\Gamma_{s_7 s_8}\\epsilon_{a b c}\\epsilon_{a' b' c'}\\gamma_{\\mu}e^{-i\\mathbf{q}}_{s_3 s_4}\\gamma_{\\nu}e^{i\\mathbf{q}}_{s_5 s_6}S_{u}(x_3,t_3\\mid x_2,t_2)_{\\substack{s_0\\\\a}\\substack{s_3\\\\c_1}}S_{u}(x_2,t_2\\mid x_1,t_1)_{\\substack{s_4\\\\c_1}\\substack{s_5\\\\c_2}}S_{u}(x_1,t_1\\mid x_0,t_0)_{\\substack{s_6\\\\c_2}\\substack{s_7\\\\a'}}S_{d}(x_3,t_3\\mid x_0,t_0)_{\\substack{s_1\\\\b}\\substack{s_8\\\\b'}}S_{u}(x_3,t_3\\mid x_0,t_0)_{\\substack{s_2\\\\c}\\substack{s_9\\\\c'}}$"
      ],
      "text/plain": [
       "<IPython.core.display.Math object>"
      ]
     },
     "metadata": {},
     "output_type": "display_data"
    },
    {
     "data": {
      "text/latex": [
       "$\\displaystyle d_{21}^{\\text{[['2', '3'], ['1', '2'], ['0', '1'], ['0', '3'], ['0', '3']]}}=\\,-4.0 \\Gamma_{s_0 s_1}\\Gamma_{s_7 s_8}\\epsilon_{a b c}\\epsilon_{a' b' c'}\\gamma_{\\mu}e^{-i\\mathbf{q}}_{s_3 s_4}\\gamma_{\\nu}e^{i\\mathbf{q}}_{s_5 s_6}S_{u}(x_3,t_3\\mid x_2,t_2)_{\\substack{s_2\\\\c}\\substack{s_3\\\\c_1}}S_{u}(x_2,t_2\\mid x_1,t_1)_{\\substack{s_4\\\\c_1}\\substack{s_5\\\\c_2}}S_{u}(x_1,t_1\\mid x_0,t_0)_{\\substack{s_6\\\\c_2}\\substack{s_7\\\\a'}}S_{d}(x_3,t_3\\mid x_0,t_0)_{\\substack{s_1\\\\b}\\substack{s_8\\\\b'}}S_{u}(x_3,t_3\\mid x_0,t_0)_{\\substack{s_0\\\\a}\\substack{s_9\\\\c'}}$"
      ],
      "text/plain": [
       "<IPython.core.display.Math object>"
      ]
     },
     "metadata": {},
     "output_type": "display_data"
    },
    {
     "data": {
      "text/latex": [
       "$\\displaystyle d_{48}^{\\text{[['2', '3'], ['1', '2'], ['0', '3'], ['0', '1'], ['0', '3']]}}=\\,1.0 \\Gamma_{s_0 s_1}\\Gamma_{s_7 s_8}\\epsilon_{a b c}\\epsilon_{a' b' c'}\\gamma_{\\mu}e^{-i\\mathbf{q}}_{s_3 s_4}\\gamma_{\\nu}e^{i\\mathbf{q}}_{s_5 s_6}S_{d}(x_3,t_3\\mid x_2,t_2)_{\\substack{s_1\\\\b}\\substack{s_3\\\\c_1}}S_{d}(x_2,t_2\\mid x_1,t_1)_{\\substack{s_4\\\\c_1}\\substack{s_5\\\\c_2}}S_{u}(x_3,t_3\\mid x_0,t_0)_{\\substack{s_0\\\\a}\\substack{s_7\\\\a'}}S_{d}(x_1,t_1\\mid x_0,t_0)_{\\substack{s_6\\\\c_2}\\substack{s_8\\\\b'}}S_{u}(x_3,t_3\\mid x_0,t_0)_{\\substack{s_2\\\\c}\\substack{s_9\\\\c'}}$"
      ],
      "text/plain": [
       "<IPython.core.display.Math object>"
      ]
     },
     "metadata": {},
     "output_type": "display_data"
    },
    {
     "data": {
      "text/latex": [
       "$\\displaystyle d_{57}^{\\text{[['2', '3'], ['1', '2'], ['0', '3'], ['0', '1'], ['0', '3']]}}=\\,-1.0 \\Gamma_{s_0 s_1}\\Gamma_{s_7 s_8}\\epsilon_{a b c}\\epsilon_{a' b' c'}\\gamma_{\\mu}e^{-i\\mathbf{q}}_{s_3 s_4}\\gamma_{\\nu}e^{i\\mathbf{q}}_{s_5 s_6}S_{d}(x_3,t_3\\mid x_2,t_2)_{\\substack{s_1\\\\b}\\substack{s_3\\\\c_1}}S_{d}(x_2,t_2\\mid x_1,t_1)_{\\substack{s_4\\\\c_1}\\substack{s_5\\\\c_2}}S_{u}(x_3,t_3\\mid x_0,t_0)_{\\substack{s_2\\\\c}\\substack{s_7\\\\a'}}S_{d}(x_1,t_1\\mid x_0,t_0)_{\\substack{s_6\\\\c_2}\\substack{s_8\\\\b'}}S_{u}(x_3,t_3\\mid x_0,t_0)_{\\substack{s_0\\\\a}\\substack{s_9\\\\c'}}$"
      ],
      "text/plain": [
       "<IPython.core.display.Math object>"
      ]
     },
     "metadata": {},
     "output_type": "display_data"
    },
    {
     "data": {
      "text/latex": [
       "$\\displaystyle d_{3}^{\\text{[['2', '3'], ['1', '2'], ['0', '3'], ['0', '3'], ['0', '1']]}}=\\,-4.0 \\Gamma_{s_0 s_1}\\Gamma_{s_7 s_8}\\epsilon_{a b c}\\epsilon_{a' b' c'}\\gamma_{\\mu}e^{-i\\mathbf{q}}_{s_3 s_4}\\gamma_{\\nu}e^{i\\mathbf{q}}_{s_5 s_6}S_{u}(x_3,t_3\\mid x_2,t_2)_{\\substack{s_0\\\\a}\\substack{s_3\\\\c_1}}S_{u}(x_2,t_2\\mid x_1,t_1)_{\\substack{s_4\\\\c_1}\\substack{s_5\\\\c_2}}S_{u}(x_3,t_3\\mid x_0,t_0)_{\\substack{s_2\\\\c}\\substack{s_7\\\\a'}}S_{d}(x_3,t_3\\mid x_0,t_0)_{\\substack{s_1\\\\b}\\substack{s_8\\\\b'}}S_{u}(x_1,t_1\\mid x_0,t_0)_{\\substack{s_6\\\\c_2}\\substack{s_9\\\\c'}}$"
      ],
      "text/plain": [
       "<IPython.core.display.Math object>"
      ]
     },
     "metadata": {},
     "output_type": "display_data"
    },
    {
     "data": {
      "text/latex": [
       "$\\displaystyle d_{4}^{\\text{[['2', '3'], ['1', '2'], ['0', '3'], ['0', '3'], ['0', '1']]}}=\\,4.0 \\Gamma_{s_0 s_1}\\Gamma_{s_7 s_8}\\epsilon_{a b c}\\epsilon_{a' b' c'}\\gamma_{\\mu}e^{-i\\mathbf{q}}_{s_3 s_4}\\gamma_{\\nu}e^{i\\mathbf{q}}_{s_5 s_6}S_{u}(x_3,t_3\\mid x_2,t_2)_{\\substack{s_2\\\\c}\\substack{s_3\\\\c_1}}S_{u}(x_2,t_2\\mid x_1,t_1)_{\\substack{s_4\\\\c_1}\\substack{s_5\\\\c_2}}S_{u}(x_3,t_3\\mid x_0,t_0)_{\\substack{s_0\\\\a}\\substack{s_7\\\\a'}}S_{d}(x_3,t_3\\mid x_0,t_0)_{\\substack{s_1\\\\b}\\substack{s_8\\\\b'}}S_{u}(x_1,t_1\\mid x_0,t_0)_{\\substack{s_6\\\\c_2}\\substack{s_9\\\\c'}}$"
      ],
      "text/plain": [
       "<IPython.core.display.Math object>"
      ]
     },
     "metadata": {},
     "output_type": "display_data"
    },
    {
     "data": {
      "text/latex": [
       "$\\displaystyle d_{40}^{\\text{[['2', '3'], ['1', '3'], ['0', '1'], ['0', '2'], ['0', '3']]}}=\\,-2.0 \\Gamma_{s_0 s_1}\\Gamma_{s_7 s_8}\\epsilon_{a b c}\\epsilon_{a' b' c'}\\gamma_{\\mu}e^{-i\\mathbf{q}}_{s_3 s_4}\\gamma_{\\nu}e^{i\\mathbf{q}}_{s_5 s_6}S_{d}(x_3,t_3\\mid x_2,t_2)_{\\substack{s_1\\\\b}\\substack{s_3\\\\c_1}}S_{u}(x_3,t_3\\mid x_1,t_1)_{\\substack{s_0\\\\a}\\substack{s_5\\\\c_2}}S_{u}(x_1,t_1\\mid x_0,t_0)_{\\substack{s_6\\\\c_2}\\substack{s_7\\\\a'}}S_{d}(x_2,t_2\\mid x_0,t_0)_{\\substack{s_4\\\\c_1}\\substack{s_8\\\\b'}}S_{u}(x_3,t_3\\mid x_0,t_0)_{\\substack{s_2\\\\c}\\substack{s_9\\\\c'}}$"
      ],
      "text/plain": [
       "<IPython.core.display.Math object>"
      ]
     },
     "metadata": {},
     "output_type": "display_data"
    },
    {
     "data": {
      "text/latex": [
       "$\\displaystyle d_{46}^{\\text{[['2', '3'], ['1', '3'], ['0', '1'], ['0', '2'], ['0', '3']]}}=\\,2.0 \\Gamma_{s_0 s_1}\\Gamma_{s_7 s_8}\\epsilon_{a b c}\\epsilon_{a' b' c'}\\gamma_{\\mu}e^{-i\\mathbf{q}}_{s_3 s_4}\\gamma_{\\nu}e^{i\\mathbf{q}}_{s_5 s_6}S_{d}(x_3,t_3\\mid x_2,t_2)_{\\substack{s_1\\\\b}\\substack{s_3\\\\c_1}}S_{u}(x_3,t_3\\mid x_1,t_1)_{\\substack{s_2\\\\c}\\substack{s_5\\\\c_2}}S_{u}(x_1,t_1\\mid x_0,t_0)_{\\substack{s_6\\\\c_2}\\substack{s_7\\\\a'}}S_{d}(x_2,t_2\\mid x_0,t_0)_{\\substack{s_4\\\\c_1}\\substack{s_8\\\\b'}}S_{u}(x_3,t_3\\mid x_0,t_0)_{\\substack{s_0\\\\a}\\substack{s_9\\\\c'}}$"
      ],
      "text/plain": [
       "<IPython.core.display.Math object>"
      ]
     },
     "metadata": {},
     "output_type": "display_data"
    },
    {
     "data": {
      "text/latex": [
       "$\\displaystyle d_{12}^{\\text{[['2', '3'], ['1', '3'], ['0', '1'], ['0', '3'], ['0', '2']]}}=\\,4.0 \\Gamma_{s_0 s_1}\\Gamma_{s_7 s_8}\\epsilon_{a b c}\\epsilon_{a' b' c'}\\gamma_{\\mu}e^{-i\\mathbf{q}}_{s_3 s_4}\\gamma_{\\nu}e^{i\\mathbf{q}}_{s_5 s_6}S_{u}(x_3,t_3\\mid x_2,t_2)_{\\substack{s_2\\\\c}\\substack{s_3\\\\c_1}}S_{u}(x_3,t_3\\mid x_1,t_1)_{\\substack{s_0\\\\a}\\substack{s_5\\\\c_2}}S_{u}(x_1,t_1\\mid x_0,t_0)_{\\substack{s_6\\\\c_2}\\substack{s_7\\\\a'}}S_{d}(x_3,t_3\\mid x_0,t_0)_{\\substack{s_1\\\\b}\\substack{s_8\\\\b'}}S_{u}(x_2,t_2\\mid x_0,t_0)_{\\substack{s_4\\\\c_1}\\substack{s_9\\\\c'}}$"
      ],
      "text/plain": [
       "<IPython.core.display.Math object>"
      ]
     },
     "metadata": {},
     "output_type": "display_data"
    },
    {
     "data": {
      "text/latex": [
       "$\\displaystyle d_{13}^{\\text{[['2', '3'], ['1', '3'], ['0', '1'], ['0', '3'], ['0', '2']]}}=\\,-4.0 \\Gamma_{s_0 s_1}\\Gamma_{s_7 s_8}\\epsilon_{a b c}\\epsilon_{a' b' c'}\\gamma_{\\mu}e^{-i\\mathbf{q}}_{s_3 s_4}\\gamma_{\\nu}e^{i\\mathbf{q}}_{s_5 s_6}S_{u}(x_3,t_3\\mid x_2,t_2)_{\\substack{s_0\\\\a}\\substack{s_3\\\\c_1}}S_{u}(x_3,t_3\\mid x_1,t_1)_{\\substack{s_2\\\\c}\\substack{s_5\\\\c_2}}S_{u}(x_1,t_1\\mid x_0,t_0)_{\\substack{s_6\\\\c_2}\\substack{s_7\\\\a'}}S_{d}(x_3,t_3\\mid x_0,t_0)_{\\substack{s_1\\\\b}\\substack{s_8\\\\b'}}S_{u}(x_2,t_2\\mid x_0,t_0)_{\\substack{s_4\\\\c_1}\\substack{s_9\\\\c'}}$"
      ],
      "text/plain": [
       "<IPython.core.display.Math object>"
      ]
     },
     "metadata": {},
     "output_type": "display_data"
    },
    {
     "data": {
      "text/latex": [
       "$\\displaystyle d_{25}^{\\text{[['2', '3'], ['1', '3'], ['0', '2'], ['0', '1'], ['0', '3']]}}=\\,-2.0 \\Gamma_{s_0 s_1}\\Gamma_{s_7 s_8}\\epsilon_{a b c}\\epsilon_{a' b' c'}\\gamma_{\\mu}e^{-i\\mathbf{q}}_{s_3 s_4}\\gamma_{\\nu}e^{i\\mathbf{q}}_{s_5 s_6}S_{u}(x_3,t_3\\mid x_2,t_2)_{\\substack{s_0\\\\a}\\substack{s_3\\\\c_1}}S_{d}(x_3,t_3\\mid x_1,t_1)_{\\substack{s_1\\\\b}\\substack{s_5\\\\c_2}}S_{u}(x_2,t_2\\mid x_0,t_0)_{\\substack{s_4\\\\c_1}\\substack{s_7\\\\a'}}S_{d}(x_1,t_1\\mid x_0,t_0)_{\\substack{s_6\\\\c_2}\\substack{s_8\\\\b'}}S_{u}(x_3,t_3\\mid x_0,t_0)_{\\substack{s_2\\\\c}\\substack{s_9\\\\c'}}$"
      ],
      "text/plain": [
       "<IPython.core.display.Math object>"
      ]
     },
     "metadata": {},
     "output_type": "display_data"
    },
    {
     "data": {
      "text/latex": [
       "$\\displaystyle d_{35}^{\\text{[['2', '3'], ['1', '3'], ['0', '2'], ['0', '1'], ['0', '3']]}}=\\,2.0 \\Gamma_{s_0 s_1}\\Gamma_{s_7 s_8}\\epsilon_{a b c}\\epsilon_{a' b' c'}\\gamma_{\\mu}e^{-i\\mathbf{q}}_{s_3 s_4}\\gamma_{\\nu}e^{i\\mathbf{q}}_{s_5 s_6}S_{u}(x_3,t_3\\mid x_2,t_2)_{\\substack{s_2\\\\c}\\substack{s_3\\\\c_1}}S_{d}(x_3,t_3\\mid x_1,t_1)_{\\substack{s_1\\\\b}\\substack{s_5\\\\c_2}}S_{u}(x_2,t_2\\mid x_0,t_0)_{\\substack{s_4\\\\c_1}\\substack{s_7\\\\a'}}S_{d}(x_1,t_1\\mid x_0,t_0)_{\\substack{s_6\\\\c_2}\\substack{s_8\\\\b'}}S_{u}(x_3,t_3\\mid x_0,t_0)_{\\substack{s_0\\\\a}\\substack{s_9\\\\c'}}$"
      ],
      "text/plain": [
       "<IPython.core.display.Math object>"
      ]
     },
     "metadata": {},
     "output_type": "display_data"
    },
    {
     "data": {
      "text/latex": [
       "$\\displaystyle d_{0}^{\\text{[['2', '3'], ['1', '3'], ['0', '2'], ['0', '3'], ['0', '1']]}}=\\,4.0 \\Gamma_{s_0 s_1}\\Gamma_{s_7 s_8}\\epsilon_{a b c}\\epsilon_{a' b' c'}\\gamma_{\\mu}e^{-i\\mathbf{q}}_{s_3 s_4}\\gamma_{\\nu}e^{i\\mathbf{q}}_{s_5 s_6}S_{u}(x_3,t_3\\mid x_2,t_2)_{\\substack{s_0\\\\a}\\substack{s_3\\\\c_1}}S_{u}(x_3,t_3\\mid x_1,t_1)_{\\substack{s_2\\\\c}\\substack{s_5\\\\c_2}}S_{u}(x_2,t_2\\mid x_0,t_0)_{\\substack{s_4\\\\c_1}\\substack{s_7\\\\a'}}S_{d}(x_3,t_3\\mid x_0,t_0)_{\\substack{s_1\\\\b}\\substack{s_8\\\\b'}}S_{u}(x_1,t_1\\mid x_0,t_0)_{\\substack{s_6\\\\c_2}\\substack{s_9\\\\c'}}$"
      ],
      "text/plain": [
       "<IPython.core.display.Math object>"
      ]
     },
     "metadata": {},
     "output_type": "display_data"
    },
    {
     "data": {
      "text/latex": [
       "$\\displaystyle d_{1}^{\\text{[['2', '3'], ['1', '3'], ['0', '2'], ['0', '3'], ['0', '1']]}}=\\,-4.0 \\Gamma_{s_0 s_1}\\Gamma_{s_7 s_8}\\epsilon_{a b c}\\epsilon_{a' b' c'}\\gamma_{\\mu}e^{-i\\mathbf{q}}_{s_3 s_4}\\gamma_{\\nu}e^{i\\mathbf{q}}_{s_5 s_6}S_{u}(x_3,t_3\\mid x_2,t_2)_{\\substack{s_2\\\\c}\\substack{s_3\\\\c_1}}S_{u}(x_3,t_3\\mid x_1,t_1)_{\\substack{s_0\\\\a}\\substack{s_5\\\\c_2}}S_{u}(x_2,t_2\\mid x_0,t_0)_{\\substack{s_4\\\\c_1}\\substack{s_7\\\\a'}}S_{d}(x_3,t_3\\mid x_0,t_0)_{\\substack{s_1\\\\b}\\substack{s_8\\\\b'}}S_{u}(x_1,t_1\\mid x_0,t_0)_{\\substack{s_6\\\\c_2}\\substack{s_9\\\\c'}}$"
      ],
      "text/plain": [
       "<IPython.core.display.Math object>"
      ]
     },
     "metadata": {},
     "output_type": "display_data"
    },
    {
     "data": {
      "text/latex": [
       "$\\displaystyle d_{30}^{\\text{[['2', '3'], ['1', '3'], ['0', '3'], ['0', '1'], ['0', '2']]}}=\\,2.0 \\Gamma_{s_0 s_1}\\Gamma_{s_7 s_8}\\epsilon_{a b c}\\epsilon_{a' b' c'}\\gamma_{\\mu}e^{-i\\mathbf{q}}_{s_3 s_4}\\gamma_{\\nu}e^{i\\mathbf{q}}_{s_5 s_6}S_{u}(x_3,t_3\\mid x_2,t_2)_{\\substack{s_0\\\\a}\\substack{s_3\\\\c_1}}S_{d}(x_3,t_3\\mid x_1,t_1)_{\\substack{s_1\\\\b}\\substack{s_5\\\\c_2}}S_{u}(x_3,t_3\\mid x_0,t_0)_{\\substack{s_2\\\\c}\\substack{s_7\\\\a'}}S_{d}(x_1,t_1\\mid x_0,t_0)_{\\substack{s_6\\\\c_2}\\substack{s_8\\\\b'}}S_{u}(x_2,t_2\\mid x_0,t_0)_{\\substack{s_4\\\\c_1}\\substack{s_9\\\\c'}}$"
      ],
      "text/plain": [
       "<IPython.core.display.Math object>"
      ]
     },
     "metadata": {},
     "output_type": "display_data"
    },
    {
     "data": {
      "text/latex": [
       "$\\displaystyle d_{31}^{\\text{[['2', '3'], ['1', '3'], ['0', '3'], ['0', '1'], ['0', '2']]}}=\\,-2.0 \\Gamma_{s_0 s_1}\\Gamma_{s_7 s_8}\\epsilon_{a b c}\\epsilon_{a' b' c'}\\gamma_{\\mu}e^{-i\\mathbf{q}}_{s_3 s_4}\\gamma_{\\nu}e^{i\\mathbf{q}}_{s_5 s_6}S_{u}(x_3,t_3\\mid x_2,t_2)_{\\substack{s_2\\\\c}\\substack{s_3\\\\c_1}}S_{d}(x_3,t_3\\mid x_1,t_1)_{\\substack{s_1\\\\b}\\substack{s_5\\\\c_2}}S_{u}(x_3,t_3\\mid x_0,t_0)_{\\substack{s_0\\\\a}\\substack{s_7\\\\a'}}S_{d}(x_1,t_1\\mid x_0,t_0)_{\\substack{s_6\\\\c_2}\\substack{s_8\\\\b'}}S_{u}(x_2,t_2\\mid x_0,t_0)_{\\substack{s_4\\\\c_1}\\substack{s_9\\\\c'}}$"
      ],
      "text/plain": [
       "<IPython.core.display.Math object>"
      ]
     },
     "metadata": {},
     "output_type": "display_data"
    },
    {
     "data": {
      "text/latex": [
       "$\\displaystyle d_{36}^{\\text{[['2', '3'], ['1', '3'], ['0', '3'], ['0', '2'], ['0', '1']]}}=\\,2.0 \\Gamma_{s_0 s_1}\\Gamma_{s_7 s_8}\\epsilon_{a b c}\\epsilon_{a' b' c'}\\gamma_{\\mu}e^{-i\\mathbf{q}}_{s_3 s_4}\\gamma_{\\nu}e^{i\\mathbf{q}}_{s_5 s_6}S_{d}(x_3,t_3\\mid x_2,t_2)_{\\substack{s_1\\\\b}\\substack{s_3\\\\c_1}}S_{u}(x_3,t_3\\mid x_1,t_1)_{\\substack{s_0\\\\a}\\substack{s_5\\\\c_2}}S_{u}(x_3,t_3\\mid x_0,t_0)_{\\substack{s_2\\\\c}\\substack{s_7\\\\a'}}S_{d}(x_2,t_2\\mid x_0,t_0)_{\\substack{s_4\\\\c_1}\\substack{s_8\\\\b'}}S_{u}(x_1,t_1\\mid x_0,t_0)_{\\substack{s_6\\\\c_2}\\substack{s_9\\\\c'}}$"
      ],
      "text/plain": [
       "<IPython.core.display.Math object>"
      ]
     },
     "metadata": {},
     "output_type": "display_data"
    },
    {
     "data": {
      "text/latex": [
       "$\\displaystyle d_{37}^{\\text{[['2', '3'], ['1', '3'], ['0', '3'], ['0', '2'], ['0', '1']]}}=\\,-2.0 \\Gamma_{s_0 s_1}\\Gamma_{s_7 s_8}\\epsilon_{a b c}\\epsilon_{a' b' c'}\\gamma_{\\mu}e^{-i\\mathbf{q}}_{s_3 s_4}\\gamma_{\\nu}e^{i\\mathbf{q}}_{s_5 s_6}S_{d}(x_3,t_3\\mid x_2,t_2)_{\\substack{s_1\\\\b}\\substack{s_3\\\\c_1}}S_{u}(x_3,t_3\\mid x_1,t_1)_{\\substack{s_2\\\\c}\\substack{s_5\\\\c_2}}S_{u}(x_3,t_3\\mid x_0,t_0)_{\\substack{s_0\\\\a}\\substack{s_7\\\\a'}}S_{d}(x_2,t_2\\mid x_0,t_0)_{\\substack{s_4\\\\c_1}\\substack{s_8\\\\b'}}S_{u}(x_1,t_1\\mid x_0,t_0)_{\\substack{s_6\\\\c_2}\\substack{s_9\\\\c'}}$"
      ],
      "text/plain": [
       "<IPython.core.display.Math object>"
      ]
     },
     "metadata": {},
     "output_type": "display_data"
    }
   ],
   "source": [
    "from tracing import diagram_as_trace_string\n",
    "\n",
    "for i,label in topSorted.items():\n",
    "    display(Math('d_{{{}}}^{{\\\\text{{{}}}}}=\\,'.format(i,label)+str(total[i])))"
   ]
  },
  {
   "cell_type": "code",
   "execution_count": 16,
   "metadata": {},
   "outputs": [
    {
     "name": "stdout",
     "output_type": "stream",
     "text": [
      "\\beqs\n",
      "d_{7}^{\\text{[['1', '1'], ['0', '2'], ['0', '3'], ['0', '3'], ['2', '3']]}}=\\,-4.0 \\Gamma_{s_0 s_1}\\Gamma_{s_7 s_8}\\epsilon_{a b c}\\epsilon_{a' b' c'}\\gamma_{\\mu}e^{-i\\mathbf{q}}_{s_3 s_4}\\gamma_{\\nu}e^{i\\mathbf{q}}_{s_5 s_6}S_{u}(x_3,t_3\\mid x_2,t_2)_{\\substack{s_0\\\\a}\\substack{s_3\\\\c_1}}S_{u}(x_1,t_1\\mid x_1,t_1)_{\\substack{s_6\\\\c_2}\\substack{s_5\\\\c_2}}S_{u}(x_2,t_2\\mid x_0,t_0)_{\\substack{s_4\\\\c_1}\\substack{s_7\\\\a'}}S_{d}(x_3,t_3\\mid x_0,t_0)_{\\substack{s_1\\\\b}\\substack{s_8\\\\b'}}S_{u}(x_3,t_3\\mid x_0,t_0)_{\\substack{s_2\\\\c}\\substack{s_9\\\\c'}}\\\\\n",
      "d_{18}^{\\text{[['1', '1'], ['0', '2'], ['0', '3'], ['0', '3'], ['2', '3']]}}=\\,4.0 \\Gamma_{s_0 s_1}\\Gamma_{s_7 s_8}\\epsilon_{a b c}\\epsilon_{a' b' c'}\\gamma_{\\mu}e^{-i\\mathbf{q}}_{s_3 s_4}\\gamma_{\\nu}e^{i\\mathbf{q}}_{s_5 s_6}S_{u}(x_3,t_3\\mid x_2,t_2)_{\\substack{s_2\\\\c}\\substack{s_3\\\\c_1}}S_{u}(x_1,t_1\\mid x_1,t_1)_{\\substack{s_6\\\\c_2}\\substack{s_5\\\\c_2}}S_{u}(x_2,t_2\\mid x_0,t_0)_{\\substack{s_4\\\\c_1}\\substack{s_7\\\\a'}}S_{d}(x_3,t_3\\mid x_0,t_0)_{\\substack{s_1\\\\b}\\substack{s_8\\\\b'}}S_{u}(x_3,t_3\\mid x_0,t_0)_{\\substack{s_0\\\\a}\\substack{s_9\\\\c'}}\\\\\n",
      "d_{26}^{\\text{[['1', '1'], ['0', '2'], ['0', '3'], ['0', '3'], ['2', '3']]}}=\\,2.0 \\Gamma_{s_0 s_1}\\Gamma_{s_7 s_8}\\epsilon_{a b c}\\epsilon_{a' b' c'}\\gamma_{\\mu}e^{-i\\mathbf{q}}_{s_3 s_4}\\gamma_{\\nu}e^{i\\mathbf{q}}_{s_5 s_6}S_{u}(x_3,t_3\\mid x_2,t_2)_{\\substack{s_0\\\\a}\\substack{s_3\\\\c_1}}S_{d}(x_1,t_1\\mid x_1,t_1)_{\\substack{s_6\\\\c_2}\\substack{s_5\\\\c_2}}S_{u}(x_2,t_2\\mid x_0,t_0)_{\\substack{s_4\\\\c_1}\\substack{s_7\\\\a'}}S_{d}(x_3,t_3\\mid x_0,t_0)_{\\substack{s_1\\\\b}\\substack{s_8\\\\b'}}S_{u}(x_3,t_3\\mid x_0,t_0)_{\\substack{s_2\\\\c}\\substack{s_9\\\\c'}}\\\\\n",
      "d_{32}^{\\text{[['1', '1'], ['0', '2'], ['0', '3'], ['0', '3'], ['2', '3']]}}=\\,-2.0 \\Gamma_{s_0 s_1}\\Gamma_{s_7 s_8}\\epsilon_{a b c}\\epsilon_{a' b' c'}\\gamma_{\\mu}e^{-i\\mathbf{q}}_{s_3 s_4}\\gamma_{\\nu}e^{i\\mathbf{q}}_{s_5 s_6}S_{u}(x_3,t_3\\mid x_2,t_2)_{\\substack{s_2\\\\c}\\substack{s_3\\\\c_1}}S_{d}(x_1,t_1\\mid x_1,t_1)_{\\substack{s_6\\\\c_2}\\substack{s_5\\\\c_2}}S_{u}(x_2,t_2\\mid x_0,t_0)_{\\substack{s_4\\\\c_1}\\substack{s_7\\\\a'}}S_{d}(x_3,t_3\\mid x_0,t_0)_{\\substack{s_1\\\\b}\\substack{s_8\\\\b'}}S_{u}(x_3,t_3\\mid x_0,t_0)_{\\substack{s_0\\\\a}\\substack{s_9\\\\c'}}\\\\\n",
      "d_{41}^{\\text{[['1', '1'], ['0', '3'], ['0', '2'], ['0', '3'], ['2', '3']]}}=\\,2.0 \\Gamma_{s_0 s_1}\\Gamma_{s_7 s_8}\\epsilon_{a b c}\\epsilon_{a' b' c'}\\gamma_{\\mu}e^{-i\\mathbf{q}}_{s_3 s_4}\\gamma_{\\nu}e^{i\\mathbf{q}}_{s_5 s_6}S_{d}(x_3,t_3\\mid x_2,t_2)_{\\substack{s_1\\\\b}\\substack{s_3\\\\c_1}}S_{u}(x_1,t_1\\mid x_1,t_1)_{\\substack{s_6\\\\c_2}\\substack{s_5\\\\c_2}}S_{u}(x_3,t_3\\mid x_0,t_0)_{\\substack{s_0\\\\a}\\substack{s_7\\\\a'}}S_{d}(x_2,t_2\\mid x_0,t_0)_{\\substack{s_4\\\\c_1}\\substack{s_8\\\\b'}}S_{u}(x_3,t_3\\mid x_0,t_0)_{\\substack{s_2\\\\c}\\substack{s_9\\\\c'}}\\\\\n",
      "d_{47}^{\\text{[['1', '1'], ['0', '3'], ['0', '2'], ['0', '3'], ['2', '3']]}}=\\,-2.0 \\Gamma_{s_0 s_1}\\Gamma_{s_7 s_8}\\epsilon_{a b c}\\epsilon_{a' b' c'}\\gamma_{\\mu}e^{-i\\mathbf{q}}_{s_3 s_4}\\gamma_{\\nu}e^{i\\mathbf{q}}_{s_5 s_6}S_{d}(x_3,t_3\\mid x_2,t_2)_{\\substack{s_1\\\\b}\\substack{s_3\\\\c_1}}S_{u}(x_1,t_1\\mid x_1,t_1)_{\\substack{s_6\\\\c_2}\\substack{s_5\\\\c_2}}S_{u}(x_3,t_3\\mid x_0,t_0)_{\\substack{s_2\\\\c}\\substack{s_7\\\\a'}}S_{d}(x_2,t_2\\mid x_0,t_0)_{\\substack{s_4\\\\c_1}\\substack{s_8\\\\b'}}S_{u}(x_3,t_3\\mid x_0,t_0)_{\\substack{s_0\\\\a}\\substack{s_9\\\\c'}}\\\\\n",
      "d_{51}^{\\text{[['1', '1'], ['0', '3'], ['0', '2'], ['0', '3'], ['2', '3']]}}=\\,-1.0 \\Gamma_{s_0 s_1}\\Gamma_{s_7 s_8}\\epsilon_{a b c}\\epsilon_{a' b' c'}\\gamma_{\\mu}e^{-i\\mathbf{q}}_{s_3 s_4}\\gamma_{\\nu}e^{i\\mathbf{q}}_{s_5 s_6}S_{d}(x_3,t_3\\mid x_2,t_2)_{\\substack{s_1\\\\b}\\substack{s_3\\\\c_1}}S_{d}(x_1,t_1\\mid x_1,t_1)_{\\substack{s_6\\\\c_2}\\substack{s_5\\\\c_2}}S_{u}(x_3,t_3\\mid x_0,t_0)_{\\substack{s_0\\\\a}\\substack{s_7\\\\a'}}S_{d}(x_2,t_2\\mid x_0,t_0)_{\\substack{s_4\\\\c_1}\\substack{s_8\\\\b'}}S_{u}(x_3,t_3\\mid x_0,t_0)_{\\substack{s_2\\\\c}\\substack{s_9\\\\c'}}\\\\\n",
      "d_{58}^{\\text{[['1', '1'], ['0', '3'], ['0', '2'], ['0', '3'], ['2', '3']]}}=\\,1.0 \\Gamma_{s_0 s_1}\\Gamma_{s_7 s_8}\\epsilon_{a b c}\\epsilon_{a' b' c'}\\gamma_{\\mu}e^{-i\\mathbf{q}}_{s_3 s_4}\\gamma_{\\nu}e^{i\\mathbf{q}}_{s_5 s_6}S_{d}(x_3,t_3\\mid x_2,t_2)_{\\substack{s_1\\\\b}\\substack{s_3\\\\c_1}}S_{d}(x_1,t_1\\mid x_1,t_1)_{\\substack{s_6\\\\c_2}\\substack{s_5\\\\c_2}}S_{u}(x_3,t_3\\mid x_0,t_0)_{\\substack{s_2\\\\c}\\substack{s_7\\\\a'}}S_{d}(x_2,t_2\\mid x_0,t_0)_{\\substack{s_4\\\\c_1}\\substack{s_8\\\\b'}}S_{u}(x_3,t_3\\mid x_0,t_0)_{\\substack{s_0\\\\a}\\substack{s_9\\\\c'}}\\\\\n",
      "d_{15}^{\\text{[['1', '1'], ['0', '3'], ['0', '3'], ['0', '2'], ['2', '3']]}}=\\,-4.0 \\Gamma_{s_0 s_1}\\Gamma_{s_7 s_8}\\epsilon_{a b c}\\epsilon_{a' b' c'}\\gamma_{\\mu}e^{-i\\mathbf{q}}_{s_3 s_4}\\gamma_{\\nu}e^{i\\mathbf{q}}_{s_5 s_6}S_{u}(x_3,t_3\\mid x_2,t_2)_{\\substack{s_2\\\\c}\\substack{s_3\\\\c_1}}S_{u}(x_1,t_1\\mid x_1,t_1)_{\\substack{s_6\\\\c_2}\\substack{s_5\\\\c_2}}S_{u}(x_3,t_3\\mid x_0,t_0)_{\\substack{s_0\\\\a}\\substack{s_7\\\\a'}}S_{d}(x_3,t_3\\mid x_0,t_0)_{\\substack{s_1\\\\b}\\substack{s_8\\\\b'}}S_{u}(x_2,t_2\\mid x_0,t_0)_{\\substack{s_4\\\\c_1}\\substack{s_9\\\\c'}}\\\\\n",
      "d_{16}^{\\text{[['1', '1'], ['0', '3'], ['0', '3'], ['0', '2'], ['2', '3']]}}=\\,4.0 \\Gamma_{s_0 s_1}\\Gamma_{s_7 s_8}\\epsilon_{a b c}\\epsilon_{a' b' c'}\\gamma_{\\mu}e^{-i\\mathbf{q}}_{s_3 s_4}\\gamma_{\\nu}e^{i\\mathbf{q}}_{s_5 s_6}S_{u}(x_3,t_3\\mid x_2,t_2)_{\\substack{s_0\\\\a}\\substack{s_3\\\\c_1}}S_{u}(x_1,t_1\\mid x_1,t_1)_{\\substack{s_6\\\\c_2}\\substack{s_5\\\\c_2}}S_{u}(x_3,t_3\\mid x_0,t_0)_{\\substack{s_2\\\\c}\\substack{s_7\\\\a'}}S_{d}(x_3,t_3\\mid x_0,t_0)_{\\substack{s_1\\\\b}\\substack{s_8\\\\b'}}S_{u}(x_2,t_2\\mid x_0,t_0)_{\\substack{s_4\\\\c_1}\\substack{s_9\\\\c'}}\\\\\n",
      "d_{28}^{\\text{[['1', '1'], ['0', '3'], ['0', '3'], ['0', '2'], ['2', '3']]}}=\\,2.0 \\Gamma_{s_0 s_1}\\Gamma_{s_7 s_8}\\epsilon_{a b c}\\epsilon_{a' b' c'}\\gamma_{\\mu}e^{-i\\mathbf{q}}_{s_3 s_4}\\gamma_{\\nu}e^{i\\mathbf{q}}_{s_5 s_6}S_{u}(x_3,t_3\\mid x_2,t_2)_{\\substack{s_2\\\\c}\\substack{s_3\\\\c_1}}S_{d}(x_1,t_1\\mid x_1,t_1)_{\\substack{s_6\\\\c_2}\\substack{s_5\\\\c_2}}S_{u}(x_3,t_3\\mid x_0,t_0)_{\\substack{s_0\\\\a}\\substack{s_7\\\\a'}}S_{d}(x_3,t_3\\mid x_0,t_0)_{\\substack{s_1\\\\b}\\substack{s_8\\\\b'}}S_{u}(x_2,t_2\\mid x_0,t_0)_{\\substack{s_4\\\\c_1}\\substack{s_9\\\\c'}}\\\\\n",
      "d_{29}^{\\text{[['1', '1'], ['0', '3'], ['0', '3'], ['0', '2'], ['2', '3']]}}=\\,-2.0 \\Gamma_{s_0 s_1}\\Gamma_{s_7 s_8}\\epsilon_{a b c}\\epsilon_{a' b' c'}\\gamma_{\\mu}e^{-i\\mathbf{q}}_{s_3 s_4}\\gamma_{\\nu}e^{i\\mathbf{q}}_{s_5 s_6}S_{u}(x_3,t_3\\mid x_2,t_2)_{\\substack{s_0\\\\a}\\substack{s_3\\\\c_1}}S_{d}(x_1,t_1\\mid x_1,t_1)_{\\substack{s_6\\\\c_2}\\substack{s_5\\\\c_2}}S_{u}(x_3,t_3\\mid x_0,t_0)_{\\substack{s_2\\\\c}\\substack{s_7\\\\a'}}S_{d}(x_3,t_3\\mid x_0,t_0)_{\\substack{s_1\\\\b}\\substack{s_8\\\\b'}}S_{u}(x_2,t_2\\mid x_0,t_0)_{\\substack{s_4\\\\c_1}\\substack{s_9\\\\c'}}\\\\\n",
      "d_{9}^{\\text{[['2', '1'], ['1', '2'], ['0', '3'], ['0', '3'], ['0', '3']]}}=\\,-4.0 \\Gamma_{s_0 s_1}\\Gamma_{s_7 s_8}\\epsilon_{a b c}\\epsilon_{a' b' c'}\\gamma_{\\mu}e^{-i\\mathbf{q}}_{s_3 s_4}\\gamma_{\\nu}e^{i\\mathbf{q}}_{s_5 s_6}S_{u}(x_1,t_1\\mid x_2,t_2)_{\\substack{s_6\\\\c_2}\\substack{s_3\\\\c_1}}S_{u}(x_2,t_2\\mid x_1,t_1)_{\\substack{s_4\\\\c_1}\\substack{s_5\\\\c_2}}S_{u}(x_3,t_3\\mid x_0,t_0)_{\\substack{s_0\\\\a}\\substack{s_7\\\\a'}}S_{d}(x_3,t_3\\mid x_0,t_0)_{\\substack{s_1\\\\b}\\substack{s_8\\\\b'}}S_{u}(x_3,t_3\\mid x_0,t_0)_{\\substack{s_2\\\\c}\\substack{s_9\\\\c'}}\\\\\n",
      "d_{22}^{\\text{[['2', '1'], ['1', '2'], ['0', '3'], ['0', '3'], ['0', '3']]}}=\\,4.0 \\Gamma_{s_0 s_1}\\Gamma_{s_7 s_8}\\epsilon_{a b c}\\epsilon_{a' b' c'}\\gamma_{\\mu}e^{-i\\mathbf{q}}_{s_3 s_4}\\gamma_{\\nu}e^{i\\mathbf{q}}_{s_5 s_6}S_{u}(x_1,t_1\\mid x_2,t_2)_{\\substack{s_6\\\\c_2}\\substack{s_3\\\\c_1}}S_{u}(x_2,t_2\\mid x_1,t_1)_{\\substack{s_4\\\\c_1}\\substack{s_5\\\\c_2}}S_{u}(x_3,t_3\\mid x_0,t_0)_{\\substack{s_2\\\\c}\\substack{s_7\\\\a'}}S_{d}(x_3,t_3\\mid x_0,t_0)_{\\substack{s_1\\\\b}\\substack{s_8\\\\b'}}S_{u}(x_3,t_3\\mid x_0,t_0)_{\\substack{s_0\\\\a}\\substack{s_9\\\\c'}}\\\\\n",
      "d_{53}^{\\text{[['2', '1'], ['1', '2'], ['0', '3'], ['0', '3'], ['0', '3']]}}=\\,-1.0 \\Gamma_{s_0 s_1}\\Gamma_{s_7 s_8}\\epsilon_{a b c}\\epsilon_{a' b' c'}\\gamma_{\\mu}e^{-i\\mathbf{q}}_{s_3 s_4}\\gamma_{\\nu}e^{i\\mathbf{q}}_{s_5 s_6}S_{d}(x_1,t_1\\mid x_2,t_2)_{\\substack{s_6\\\\c_2}\\substack{s_3\\\\c_1}}S_{d}(x_2,t_2\\mid x_1,t_1)_{\\substack{s_4\\\\c_1}\\substack{s_5\\\\c_2}}S_{u}(x_3,t_3\\mid x_0,t_0)_{\\substack{s_0\\\\a}\\substack{s_7\\\\a'}}S_{d}(x_3,t_3\\mid x_0,t_0)_{\\substack{s_1\\\\b}\\substack{s_8\\\\b'}}S_{u}(x_3,t_3\\mid x_0,t_0)_{\\substack{s_2\\\\c}\\substack{s_9\\\\c'}}\\\\\n",
      "d_{54}^{\\text{[['2', '1'], ['1', '2'], ['0', '3'], ['0', '3'], ['0', '3']]}}=\\,1.0 \\Gamma_{s_0 s_1}\\Gamma_{s_7 s_8}\\epsilon_{a b c}\\epsilon_{a' b' c'}\\gamma_{\\mu}e^{-i\\mathbf{q}}_{s_3 s_4}\\gamma_{\\nu}e^{i\\mathbf{q}}_{s_5 s_6}S_{d}(x_1,t_1\\mid x_2,t_2)_{\\substack{s_6\\\\c_2}\\substack{s_3\\\\c_1}}S_{d}(x_2,t_2\\mid x_1,t_1)_{\\substack{s_4\\\\c_1}\\substack{s_5\\\\c_2}}S_{u}(x_3,t_3\\mid x_0,t_0)_{\\substack{s_2\\\\c}\\substack{s_7\\\\a'}}S_{d}(x_3,t_3\\mid x_0,t_0)_{\\substack{s_1\\\\b}\\substack{s_8\\\\b'}}S_{u}(x_3,t_3\\mid x_0,t_0)_{\\substack{s_0\\\\a}\\substack{s_9\\\\c'}}\\\\\n",
      "d_{6}^{\\text{[['2', '1'], ['1', '3'], ['0', '2'], ['0', '3'], ['0', '3']]}}=\\,4.0 \\Gamma_{s_0 s_1}\\Gamma_{s_7 s_8}\\epsilon_{a b c}\\epsilon_{a' b' c'}\\gamma_{\\mu}e^{-i\\mathbf{q}}_{s_3 s_4}\\gamma_{\\nu}e^{i\\mathbf{q}}_{s_5 s_6}S_{u}(x_1,t_1\\mid x_2,t_2)_{\\substack{s_6\\\\c_2}\\substack{s_3\\\\c_1}}S_{u}(x_3,t_3\\mid x_1,t_1)_{\\substack{s_0\\\\a}\\substack{s_5\\\\c_2}}S_{u}(x_2,t_2\\mid x_0,t_0)_{\\substack{s_4\\\\c_1}\\substack{s_7\\\\a'}}S_{d}(x_3,t_3\\mid x_0,t_0)_{\\substack{s_1\\\\b}\\substack{s_8\\\\b'}}S_{u}(x_3,t_3\\mid x_0,t_0)_{\\substack{s_2\\\\c}\\substack{s_9\\\\c'}}\\\\\n",
      "d_{19}^{\\text{[['2', '1'], ['1', '3'], ['0', '2'], ['0', '3'], ['0', '3']]}}=\\,-4.0 \\Gamma_{s_0 s_1}\\Gamma_{s_7 s_8}\\epsilon_{a b c}\\epsilon_{a' b' c'}\\gamma_{\\mu}e^{-i\\mathbf{q}}_{s_3 s_4}\\gamma_{\\nu}e^{i\\mathbf{q}}_{s_5 s_6}S_{u}(x_1,t_1\\mid x_2,t_2)_{\\substack{s_6\\\\c_2}\\substack{s_3\\\\c_1}}S_{u}(x_3,t_3\\mid x_1,t_1)_{\\substack{s_2\\\\c}\\substack{s_5\\\\c_2}}S_{u}(x_2,t_2\\mid x_0,t_0)_{\\substack{s_4\\\\c_1}\\substack{s_7\\\\a'}}S_{d}(x_3,t_3\\mid x_0,t_0)_{\\substack{s_1\\\\b}\\substack{s_8\\\\b'}}S_{u}(x_3,t_3\\mid x_0,t_0)_{\\substack{s_0\\\\a}\\substack{s_9\\\\c'}}\\\\\n",
      "d_{50}^{\\text{[['2', '1'], ['1', '3'], ['0', '3'], ['0', '2'], ['0', '3']]}}=\\,1.0 \\Gamma_{s_0 s_1}\\Gamma_{s_7 s_8}\\epsilon_{a b c}\\epsilon_{a' b' c'}\\gamma_{\\mu}e^{-i\\mathbf{q}}_{s_3 s_4}\\gamma_{\\nu}e^{i\\mathbf{q}}_{s_5 s_6}S_{d}(x_1,t_1\\mid x_2,t_2)_{\\substack{s_6\\\\c_2}\\substack{s_3\\\\c_1}}S_{d}(x_3,t_3\\mid x_1,t_1)_{\\substack{s_1\\\\b}\\substack{s_5\\\\c_2}}S_{u}(x_3,t_3\\mid x_0,t_0)_{\\substack{s_0\\\\a}\\substack{s_7\\\\a'}}S_{d}(x_2,t_2\\mid x_0,t_0)_{\\substack{s_4\\\\c_1}\\substack{s_8\\\\b'}}S_{u}(x_3,t_3\\mid x_0,t_0)_{\\substack{s_2\\\\c}\\substack{s_9\\\\c'}}\\\\\n",
      "d_{59}^{\\text{[['2', '1'], ['1', '3'], ['0', '3'], ['0', '2'], ['0', '3']]}}=\\,-1.0 \\Gamma_{s_0 s_1}\\Gamma_{s_7 s_8}\\epsilon_{a b c}\\epsilon_{a' b' c'}\\gamma_{\\mu}e^{-i\\mathbf{q}}_{s_3 s_4}\\gamma_{\\nu}e^{i\\mathbf{q}}_{s_5 s_6}S_{d}(x_1,t_1\\mid x_2,t_2)_{\\substack{s_6\\\\c_2}\\substack{s_3\\\\c_1}}S_{d}(x_3,t_3\\mid x_1,t_1)_{\\substack{s_1\\\\b}\\substack{s_5\\\\c_2}}S_{u}(x_3,t_3\\mid x_0,t_0)_{\\substack{s_2\\\\c}\\substack{s_7\\\\a'}}S_{d}(x_2,t_2\\mid x_0,t_0)_{\\substack{s_4\\\\c_1}\\substack{s_8\\\\b'}}S_{u}(x_3,t_3\\mid x_0,t_0)_{\\substack{s_0\\\\a}\\substack{s_9\\\\c'}}\n",
      "d_{14}^{\\text{[['2', '1'], ['1', '3'], ['0', '3'], ['0', '3'], ['0', '2']]}}=\\,4.0 \\Gamma_{s_0 s_1}\\Gamma_{s_7 s_8}\\epsilon_{a b c}\\epsilon_{a' b' c'}\\gamma_{\\mu}e^{-i\\mathbf{q}}_{s_3 s_4}\\gamma_{\\nu}e^{i\\mathbf{q}}_{s_5 s_6}S_{u}(x_1,t_1\\mid x_2,t_2)_{\\substack{s_6\\\\c_2}\\substack{s_3\\\\c_1}}S_{u}(x_3,t_3\\mid x_1,t_1)_{\\substack{s_2\\\\c}\\substack{s_5\\\\c_2}}S_{u}(x_3,t_3\\mid x_0,t_0)_{\\substack{s_0\\\\a}\\substack{s_7\\\\a'}}S_{d}(x_3,t_3\\mid x_0,t_0)_{\\substack{s_1\\\\b}\\substack{s_8\\\\b'}}S_{u}(x_2,t_2\\mid x_0,t_0)_{\\substack{s_4\\\\c_1}\\substack{s_9\\\\c'}}\\\\\n",
      "d_{17}^{\\text{[['2', '1'], ['1', '3'], ['0', '3'], ['0', '3'], ['0', '2']]}}=\\,-4.0 \\Gamma_{s_0 s_1}\\Gamma_{s_7 s_8}\\epsilon_{a b c}\\epsilon_{a' b' c'}\\gamma_{\\mu}e^{-i\\mathbf{q}}_{s_3 s_4}\\gamma_{\\nu}e^{i\\mathbf{q}}_{s_5 s_6}S_{u}(x_1,t_1\\mid x_2,t_2)_{\\substack{s_6\\\\c_2}\\substack{s_3\\\\c_1}}S_{u}(x_3,t_3\\mid x_1,t_1)_{\\substack{s_0\\\\a}\\substack{s_5\\\\c_2}}S_{u}(x_3,t_3\\mid x_0,t_0)_{\\substack{s_2\\\\c}\\substack{s_7\\\\a'}}S_{d}(x_3,t_3\\mid x_0,t_0)_{\\substack{s_1\\\\b}\\substack{s_8\\\\b'}}S_{u}(x_2,t_2\\mid x_0,t_0)_{\\substack{s_4\\\\c_1}\\substack{s_9\\\\c'}}\\\\\n",
      "d_{11}^{\\text{[['2', '2'], ['0', '1'], ['0', '3'], ['0', '3'], ['1', '3']]}}=\\,-4.0 \\Gamma_{s_0 s_1}\\Gamma_{s_7 s_8}\\epsilon_{a b c}\\epsilon_{a' b' c'}\\gamma_{\\mu}e^{-i\\mathbf{q}}_{s_3 s_4}\\gamma_{\\nu}e^{i\\mathbf{q}}_{s_5 s_6}S_{u}(x_2,t_2\\mid x_2,t_2)_{\\substack{s_4\\\\c_1}\\substack{s_3\\\\c_1}}S_{u}(x_3,t_3\\mid x_1,t_1)_{\\substack{s_0\\\\a}\\substack{s_5\\\\c_2}}S_{u}(x_1,t_1\\mid x_0,t_0)_{\\substack{s_6\\\\c_2}\\substack{s_7\\\\a'}}S_{d}(x_3,t_3\\mid x_0,t_0)_{\\substack{s_1\\\\b}\\substack{s_8\\\\b'}}S_{u}(x_3,t_3\\mid x_0,t_0)_{\\substack{s_2\\\\c}\\substack{s_9\\\\c'}}\\\\\n",
      "d_{20}^{\\text{[['2', '2'], ['0', '1'], ['0', '3'], ['0', '3'], ['1', '3']]}}=\\,4.0 \\Gamma_{s_0 s_1}\\Gamma_{s_7 s_8}\\epsilon_{a b c}\\epsilon_{a' b' c'}\\gamma_{\\mu}e^{-i\\mathbf{q}}_{s_3 s_4}\\gamma_{\\nu}e^{i\\mathbf{q}}_{s_5 s_6}S_{u}(x_2,t_2\\mid x_2,t_2)_{\\substack{s_4\\\\c_1}\\substack{s_3\\\\c_1}}S_{u}(x_3,t_3\\mid x_1,t_1)_{\\substack{s_2\\\\c}\\substack{s_5\\\\c_2}}S_{u}(x_1,t_1\\mid x_0,t_0)_{\\substack{s_6\\\\c_2}\\substack{s_7\\\\a'}}S_{d}(x_3,t_3\\mid x_0,t_0)_{\\substack{s_1\\\\b}\\substack{s_8\\\\b'}}S_{u}(x_3,t_3\\mid x_0,t_0)_{\\substack{s_0\\\\a}\\substack{s_9\\\\c'}}\\\\\n",
      "d_{43}^{\\text{[['2', '2'], ['0', '1'], ['0', '3'], ['0', '3'], ['1', '3']]}}=\\,2.0 \\Gamma_{s_0 s_1}\\Gamma_{s_7 s_8}\\epsilon_{a b c}\\epsilon_{a' b' c'}\\gamma_{\\mu}e^{-i\\mathbf{q}}_{s_3 s_4}\\gamma_{\\nu}e^{i\\mathbf{q}}_{s_5 s_6}S_{d}(x_2,t_2\\mid x_2,t_2)_{\\substack{s_4\\\\c_1}\\substack{s_3\\\\c_1}}S_{u}(x_3,t_3\\mid x_1,t_1)_{\\substack{s_0\\\\a}\\substack{s_5\\\\c_2}}S_{u}(x_1,t_1\\mid x_0,t_0)_{\\substack{s_6\\\\c_2}\\substack{s_7\\\\a'}}S_{d}(x_3,t_3\\mid x_0,t_0)_{\\substack{s_1\\\\b}\\substack{s_8\\\\b'}}S_{u}(x_3,t_3\\mid x_0,t_0)_{\\substack{s_2\\\\c}\\substack{s_9\\\\c'}}\\\\\n",
      "d_{44}^{\\text{[['2', '2'], ['0', '1'], ['0', '3'], ['0', '3'], ['1', '3']]}}=\\,-2.0 \\Gamma_{s_0 s_1}\\Gamma_{s_7 s_8}\\epsilon_{a b c}\\epsilon_{a' b' c'}\\gamma_{\\mu}e^{-i\\mathbf{q}}_{s_3 s_4}\\gamma_{\\nu}e^{i\\mathbf{q}}_{s_5 s_6}S_{d}(x_2,t_2\\mid x_2,t_2)_{\\substack{s_4\\\\c_1}\\substack{s_3\\\\c_1}}S_{u}(x_3,t_3\\mid x_1,t_1)_{\\substack{s_2\\\\c}\\substack{s_5\\\\c_2}}S_{u}(x_1,t_1\\mid x_0,t_0)_{\\substack{s_6\\\\c_2}\\substack{s_7\\\\a'}}S_{d}(x_3,t_3\\mid x_0,t_0)_{\\substack{s_1\\\\b}\\substack{s_8\\\\b'}}S_{u}(x_3,t_3\\mid x_0,t_0)_{\\substack{s_0\\\\a}\\substack{s_9\\\\c'}}\\\\\n",
      "d_{24}^{\\text{[['2', '2'], ['0', '3'], ['0', '1'], ['0', '3'], ['1', '3']]}}=\\,2.0 \\Gamma_{s_0 s_1}\\Gamma_{s_7 s_8}\\epsilon_{a b c}\\epsilon_{a' b' c'}\\gamma_{\\mu}e^{-i\\mathbf{q}}_{s_3 s_4}\\gamma_{\\nu}e^{i\\mathbf{q}}_{s_5 s_6}S_{u}(x_2,t_2\\mid x_2,t_2)_{\\substack{s_4\\\\c_1}\\substack{s_3\\\\c_1}}S_{d}(x_3,t_3\\mid x_1,t_1)_{\\substack{s_1\\\\b}\\substack{s_5\\\\c_2}}S_{u}(x_3,t_3\\mid x_0,t_0)_{\\substack{s_0\\\\a}\\substack{s_7\\\\a'}}S_{d}(x_1,t_1\\mid x_0,t_0)_{\\substack{s_6\\\\c_2}\\substack{s_8\\\\b'}}S_{u}(x_3,t_3\\mid x_0,t_0)_{\\substack{s_2\\\\c}\\substack{s_9\\\\c'}}\\\\\n",
      "d_{34}^{\\text{[['2', '2'], ['0', '3'], ['0', '1'], ['0', '3'], ['1', '3']]}}=\\,-2.0 \\Gamma_{s_0 s_1}\\Gamma_{s_7 s_8}\\epsilon_{a b c}\\epsilon_{a' b' c'}\\gamma_{\\mu}e^{-i\\mathbf{q}}_{s_3 s_4}\\gamma_{\\nu}e^{i\\mathbf{q}}_{s_5 s_6}S_{u}(x_2,t_2\\mid x_2,t_2)_{\\substack{s_4\\\\c_1}\\substack{s_3\\\\c_1}}S_{d}(x_3,t_3\\mid x_1,t_1)_{\\substack{s_1\\\\b}\\substack{s_5\\\\c_2}}S_{u}(x_3,t_3\\mid x_0,t_0)_{\\substack{s_2\\\\c}\\substack{s_7\\\\a'}}S_{d}(x_1,t_1\\mid x_0,t_0)_{\\substack{s_6\\\\c_2}\\substack{s_8\\\\b'}}S_{u}(x_3,t_3\\mid x_0,t_0)_{\\substack{s_0\\\\a}\\substack{s_9\\\\c'}}\\\\\n",
      "d_{49}^{\\text{[['2', '2'], ['0', '3'], ['0', '1'], ['0', '3'], ['1', '3']]}}=\\,-1.0 \\Gamma_{s_0 s_1}\\Gamma_{s_7 s_8}\\epsilon_{a b c}\\epsilon_{a' b' c'}\\gamma_{\\mu}e^{-i\\mathbf{q}}_{s_3 s_4}\\gamma_{\\nu}e^{i\\mathbf{q}}_{s_5 s_6}S_{d}(x_2,t_2\\mid x_2,t_2)_{\\substack{s_4\\\\c_1}\\substack{s_3\\\\c_1}}S_{d}(x_3,t_3\\mid x_1,t_1)_{\\substack{s_1\\\\b}\\substack{s_5\\\\c_2}}S_{u}(x_3,t_3\\mid x_0,t_0)_{\\substack{s_0\\\\a}\\substack{s_7\\\\a'}}S_{d}(x_1,t_1\\mid x_0,t_0)_{\\substack{s_6\\\\c_2}\\substack{s_8\\\\b'}}S_{u}(x_3,t_3\\mid x_0,t_0)_{\\substack{s_2\\\\c}\\substack{s_9\\\\c'}}\\\\\n",
      "d_{56}^{\\text{[['2', '2'], ['0', '3'], ['0', '1'], ['0', '3'], ['1', '3']]}}=\\,1.0 \\Gamma_{s_0 s_1}\\Gamma_{s_7 s_8}\\epsilon_{a b c}\\epsilon_{a' b' c'}\\gamma_{\\mu}e^{-i\\mathbf{q}}_{s_3 s_4}\\gamma_{\\nu}e^{i\\mathbf{q}}_{s_5 s_6}S_{d}(x_2,t_2\\mid x_2,t_2)_{\\substack{s_4\\\\c_1}\\substack{s_3\\\\c_1}}S_{d}(x_3,t_3\\mid x_1,t_1)_{\\substack{s_1\\\\b}\\substack{s_5\\\\c_2}}S_{u}(x_3,t_3\\mid x_0,t_0)_{\\substack{s_2\\\\c}\\substack{s_7\\\\a'}}S_{d}(x_1,t_1\\mid x_0,t_0)_{\\substack{s_6\\\\c_2}\\substack{s_8\\\\b'}}S_{u}(x_3,t_3\\mid x_0,t_0)_{\\substack{s_0\\\\a}\\substack{s_9\\\\c'}}\\\\\n",
      "d_{2}^{\\text{[['2', '2'], ['0', '3'], ['0', '3'], ['0', '1'], ['1', '3']]}}=\\,4.0 \\Gamma_{s_0 s_1}\\Gamma_{s_7 s_8}\\epsilon_{a b c}\\epsilon_{a' b' c'}\\gamma_{\\mu}e^{-i\\mathbf{q}}_{s_3 s_4}\\gamma_{\\nu}e^{i\\mathbf{q}}_{s_5 s_6}S_{u}(x_2,t_2\\mid x_2,t_2)_{\\substack{s_4\\\\c_1}\\substack{s_3\\\\c_1}}S_{u}(x_3,t_3\\mid x_1,t_1)_{\\substack{s_0\\\\a}\\substack{s_5\\\\c_2}}S_{u}(x_3,t_3\\mid x_0,t_0)_{\\substack{s_2\\\\c}\\substack{s_7\\\\a'}}S_{d}(x_3,t_3\\mid x_0,t_0)_{\\substack{s_1\\\\b}\\substack{s_8\\\\b'}}S_{u}(x_1,t_1\\mid x_0,t_0)_{\\substack{s_6\\\\c_2}\\substack{s_9\\\\c'}}\\\\\n",
      "d_{5}^{\\text{[['2', '2'], ['0', '3'], ['0', '3'], ['0', '1'], ['1', '3']]}}=\\,-4.0 \\Gamma_{s_0 s_1}\\Gamma_{s_7 s_8}\\epsilon_{a b c}\\epsilon_{a' b' c'}\\gamma_{\\mu}e^{-i\\mathbf{q}}_{s_3 s_4}\\gamma_{\\nu}e^{i\\mathbf{q}}_{s_5 s_6}S_{u}(x_2,t_2\\mid x_2,t_2)_{\\substack{s_4\\\\c_1}\\substack{s_3\\\\c_1}}S_{u}(x_3,t_3\\mid x_1,t_1)_{\\substack{s_2\\\\c}\\substack{s_5\\\\c_2}}S_{u}(x_3,t_3\\mid x_0,t_0)_{\\substack{s_0\\\\a}\\substack{s_7\\\\a'}}S_{d}(x_3,t_3\\mid x_0,t_0)_{\\substack{s_1\\\\b}\\substack{s_8\\\\b'}}S_{u}(x_1,t_1\\mid x_0,t_0)_{\\substack{s_6\\\\c_2}\\substack{s_9\\\\c'}}\\\\\n",
      "d_{38}^{\\text{[['2', '2'], ['0', '3'], ['0', '3'], ['0', '1'], ['1', '3']]}}=\\,-2.0 \\Gamma_{s_0 s_1}\\Gamma_{s_7 s_8}\\epsilon_{a b c}\\epsilon_{a' b' c'}\\gamma_{\\mu}e^{-i\\mathbf{q}}_{s_3 s_4}\\gamma_{\\nu}e^{i\\mathbf{q}}_{s_5 s_6}S_{d}(x_2,t_2\\mid x_2,t_2)_{\\substack{s_4\\\\c_1}\\substack{s_3\\\\c_1}}S_{u}(x_3,t_3\\mid x_1,t_1)_{\\substack{s_0\\\\a}\\substack{s_5\\\\c_2}}S_{u}(x_3,t_3\\mid x_0,t_0)_{\\substack{s_2\\\\c}\\substack{s_7\\\\a'}}S_{d}(x_3,t_3\\mid x_0,t_0)_{\\substack{s_1\\\\b}\\substack{s_8\\\\b'}}S_{u}(x_1,t_1\\mid x_0,t_0)_{\\substack{s_6\\\\c_2}\\substack{s_9\\\\c'}}\\\\\n",
      "d_{39}^{\\text{[['2', '2'], ['0', '3'], ['0', '3'], ['0', '1'], ['1', '3']]}}=\\,2.0 \\Gamma_{s_0 s_1}\\Gamma_{s_7 s_8}\\epsilon_{a b c}\\epsilon_{a' b' c'}\\gamma_{\\mu}e^{-i\\mathbf{q}}_{s_3 s_4}\\gamma_{\\nu}e^{i\\mathbf{q}}_{s_5 s_6}S_{d}(x_2,t_2\\mid x_2,t_2)_{\\substack{s_4\\\\c_1}\\substack{s_3\\\\c_1}}S_{u}(x_3,t_3\\mid x_1,t_1)_{\\substack{s_2\\\\c}\\substack{s_5\\\\c_2}}S_{u}(x_3,t_3\\mid x_0,t_0)_{\\substack{s_0\\\\a}\\substack{s_7\\\\a'}}S_{d}(x_3,t_3\\mid x_0,t_0)_{\\substack{s_1\\\\b}\\substack{s_8\\\\b'}}S_{u}(x_1,t_1\\mid x_0,t_0)_{\\substack{s_6\\\\c_2}\\substack{s_9\\\\c'}}\\\\\n",
      "d_{8}^{\\text{[['2', '2'], ['0', '3'], ['0', '3'], ['0', '3'], ['1', '1']]}}=\\,4.0 \\Gamma_{s_0 s_1}\\Gamma_{s_7 s_8}\\epsilon_{a b c}\\epsilon_{a' b' c'}\\gamma_{\\mu}e^{-i\\mathbf{q}}_{s_3 s_4}\\gamma_{\\nu}e^{i\\mathbf{q}}_{s_5 s_6}S_{u}(x_2,t_2\\mid x_2,t_2)_{\\substack{s_4\\\\c_1}\\substack{s_3\\\\c_1}}S_{u}(x_1,t_1\\mid x_1,t_1)_{\\substack{s_6\\\\c_2}\\substack{s_5\\\\c_2}}S_{u}(x_3,t_3\\mid x_0,t_0)_{\\substack{s_0\\\\a}\\substack{s_7\\\\a'}}S_{d}(x_3,t_3\\mid x_0,t_0)_{\\substack{s_1\\\\b}\\substack{s_8\\\\b'}}S_{u}(x_3,t_3\\mid x_0,t_0)_{\\substack{s_2\\\\c}\\substack{s_9\\\\c'}}\\\\\n",
      "d_{23}^{\\text{[['2', '2'], ['0', '3'], ['0', '3'], ['0', '3'], ['1', '1']]}}=\\,-4.0 \\Gamma_{s_0 s_1}\\Gamma_{s_7 s_8}\\epsilon_{a b c}\\epsilon_{a' b' c'}\\gamma_{\\mu}e^{-i\\mathbf{q}}_{s_3 s_4}\\gamma_{\\nu}e^{i\\mathbf{q}}_{s_5 s_6}S_{u}(x_2,t_2\\mid x_2,t_2)_{\\substack{s_4\\\\c_1}\\substack{s_3\\\\c_1}}S_{u}(x_1,t_1\\mid x_1,t_1)_{\\substack{s_6\\\\c_2}\\substack{s_5\\\\c_2}}S_{u}(x_3,t_3\\mid x_0,t_0)_{\\substack{s_2\\\\c}\\substack{s_7\\\\a'}}S_{d}(x_3,t_3\\mid x_0,t_0)_{\\substack{s_1\\\\b}\\substack{s_8\\\\b'}}S_{u}(x_3,t_3\\mid x_0,t_0)_{\\substack{s_0\\\\a}\\substack{s_9\\\\c'}}\\\\\n",
      "d_{27}^{\\text{[['2', '2'], ['0', '3'], ['0', '3'], ['0', '3'], ['1', '1']]}}=\\,-2.0 \\Gamma_{s_0 s_1}\\Gamma_{s_7 s_8}\\epsilon_{a b c}\\epsilon_{a' b' c'}\\gamma_{\\mu}e^{-i\\mathbf{q}}_{s_3 s_4}\\gamma_{\\nu}e^{i\\mathbf{q}}_{s_5 s_6}S_{u}(x_2,t_2\\mid x_2,t_2)_{\\substack{s_4\\\\c_1}\\substack{s_3\\\\c_1}}S_{d}(x_1,t_1\\mid x_1,t_1)_{\\substack{s_6\\\\c_2}\\substack{s_5\\\\c_2}}S_{u}(x_3,t_3\\mid x_0,t_0)_{\\substack{s_0\\\\a}\\substack{s_7\\\\a'}}S_{d}(x_3,t_3\\mid x_0,t_0)_{\\substack{s_1\\\\b}\\substack{s_8\\\\b'}}S_{u}(x_3,t_3\\mid x_0,t_0)_{\\substack{s_2\\\\c}\\substack{s_9\\\\c'}}\\\\\n",
      "d_{33}^{\\text{[['2', '2'], ['0', '3'], ['0', '3'], ['0', '3'], ['1', '1']]}}=\\,2.0 \\Gamma_{s_0 s_1}\\Gamma_{s_7 s_8}\\epsilon_{a b c}\\epsilon_{a' b' c'}\\gamma_{\\mu}e^{-i\\mathbf{q}}_{s_3 s_4}\\gamma_{\\nu}e^{i\\mathbf{q}}_{s_5 s_6}S_{u}(x_2,t_2\\mid x_2,t_2)_{\\substack{s_4\\\\c_1}\\substack{s_3\\\\c_1}}S_{d}(x_1,t_1\\mid x_1,t_1)_{\\substack{s_6\\\\c_2}\\substack{s_5\\\\c_2}}S_{u}(x_3,t_3\\mid x_0,t_0)_{\\substack{s_2\\\\c}\\substack{s_7\\\\a'}}S_{d}(x_3,t_3\\mid x_0,t_0)_{\\substack{s_1\\\\b}\\substack{s_8\\\\b'}}S_{u}(x_3,t_3\\mid x_0,t_0)_{\\substack{s_0\\\\a}\\substack{s_9\\\\c'}}\\\\\n",
      "d_{42}^{\\text{[['2', '2'], ['0', '3'], ['0', '3'], ['0', '3'], ['1', '1']]}}=\\,-2.0 \\Gamma_{s_0 s_1}\\Gamma_{s_7 s_8}\\epsilon_{a b c}\\epsilon_{a' b' c'}\\gamma_{\\mu}e^{-i\\mathbf{q}}_{s_3 s_4}\\gamma_{\\nu}e^{i\\mathbf{q}}_{s_5 s_6}S_{d}(x_2,t_2\\mid x_2,t_2)_{\\substack{s_4\\\\c_1}\\substack{s_3\\\\c_1}}S_{u}(x_1,t_1\\mid x_1,t_1)_{\\substack{s_6\\\\c_2}\\substack{s_5\\\\c_2}}S_{u}(x_3,t_3\\mid x_0,t_0)_{\\substack{s_0\\\\a}\\substack{s_7\\\\a'}}S_{d}(x_3,t_3\\mid x_0,t_0)_{\\substack{s_1\\\\b}\\substack{s_8\\\\b'}}S_{u}(x_3,t_3\\mid x_0,t_0)_{\\substack{s_2\\\\c}\\substack{s_9\\\\c'}}\\\\\n",
      "d_{45}^{\\text{[['2', '2'], ['0', '3'], ['0', '3'], ['0', '3'], ['1', '1']]}}=\\,2.0 \\Gamma_{s_0 s_1}\\Gamma_{s_7 s_8}\\epsilon_{a b c}\\epsilon_{a' b' c'}\\gamma_{\\mu}e^{-i\\mathbf{q}}_{s_3 s_4}\\gamma_{\\nu}e^{i\\mathbf{q}}_{s_5 s_6}S_{d}(x_2,t_2\\mid x_2,t_2)_{\\substack{s_4\\\\c_1}\\substack{s_3\\\\c_1}}S_{u}(x_1,t_1\\mid x_1,t_1)_{\\substack{s_6\\\\c_2}\\substack{s_5\\\\c_2}}S_{u}(x_3,t_3\\mid x_0,t_0)_{\\substack{s_2\\\\c}\\substack{s_7\\\\a'}}S_{d}(x_3,t_3\\mid x_0,t_0)_{\\substack{s_1\\\\b}\\substack{s_8\\\\b'}}S_{u}(x_3,t_3\\mid x_0,t_0)_{\\substack{s_0\\\\a}\\substack{s_9\\\\c'}}\\\\\n",
      "d_{52}^{\\text{[['2', '2'], ['0', '3'], ['0', '3'], ['0', '3'], ['1', '1']]}}=\\,1.0 \\Gamma_{s_0 s_1}\\Gamma_{s_7 s_8}\\epsilon_{a b c}\\epsilon_{a' b' c'}\\gamma_{\\mu}e^{-i\\mathbf{q}}_{s_3 s_4}\\gamma_{\\nu}e^{i\\mathbf{q}}_{s_5 s_6}S_{d}(x_2,t_2\\mid x_2,t_2)_{\\substack{s_4\\\\c_1}\\substack{s_3\\\\c_1}}S_{d}(x_1,t_1\\mid x_1,t_1)_{\\substack{s_6\\\\c_2}\\substack{s_5\\\\c_2}}S_{u}(x_3,t_3\\mid x_0,t_0)_{\\substack{s_0\\\\a}\\substack{s_7\\\\a'}}S_{d}(x_3,t_3\\mid x_0,t_0)_{\\substack{s_1\\\\b}\\substack{s_8\\\\b'}}S_{u}(x_3,t_3\\mid x_0,t_0)_{\\substack{s_2\\\\c}\\substack{s_9\\\\c'}}\\\\\n",
      "d_{55}^{\\text{[['2', '2'], ['0', '3'], ['0', '3'], ['0', '3'], ['1', '1']]}}=\\,-1.0 \\Gamma_{s_0 s_1}\\Gamma_{s_7 s_8}\\epsilon_{a b c}\\epsilon_{a' b' c'}\\gamma_{\\mu}e^{-i\\mathbf{q}}_{s_3 s_4}\\gamma_{\\nu}e^{i\\mathbf{q}}_{s_5 s_6}S_{d}(x_2,t_2\\mid x_2,t_2)_{\\substack{s_4\\\\c_1}\\substack{s_3\\\\c_1}}S_{d}(x_1,t_1\\mid x_1,t_1)_{\\substack{s_6\\\\c_2}\\substack{s_5\\\\c_2}}S_{u}(x_3,t_3\\mid x_0,t_0)_{\\substack{s_2\\\\c}\\substack{s_7\\\\a'}}S_{d}(x_3,t_3\\mid x_0,t_0)_{\\substack{s_1\\\\b}\\substack{s_8\\\\b'}}S_{u}(x_3,t_3\\mid x_0,t_0)_{\\substack{s_0\\\\a}\\substack{s_9\\\\c'}}\\\\\n",
      "d_{10}^{\\text{[['2', '3'], ['1', '2'], ['0', '1'], ['0', '3'], ['0', '3']]}}=\\,4.0 \\Gamma_{s_0 s_1}\\Gamma_{s_7 s_8}\\epsilon_{a b c}\\epsilon_{a' b' c'}\\gamma_{\\mu}e^{-i\\mathbf{q}}_{s_3 s_4}\\gamma_{\\nu}e^{i\\mathbf{q}}_{s_5 s_6}S_{u}(x_3,t_3\\mid x_2,t_2)_{\\substack{s_0\\\\a}\\substack{s_3\\\\c_1}}S_{u}(x_2,t_2\\mid x_1,t_1)_{\\substack{s_4\\\\c_1}\\substack{s_5\\\\c_2}}S_{u}(x_1,t_1\\mid x_0,t_0)_{\\substack{s_6\\\\c_2}\\substack{s_7\\\\a'}}S_{d}(x_3,t_3\\mid x_0,t_0)_{\\substack{s_1\\\\b}\\substack{s_8\\\\b'}}S_{u}(x_3,t_3\\mid x_0,t_0)_{\\substack{s_2\\\\c}\\substack{s_9\\\\c'}}\\\\\n",
      "d_{21}^{\\text{[['2', '3'], ['1', '2'], ['0', '1'], ['0', '3'], ['0', '3']]}}=\\,-4.0 \\Gamma_{s_0 s_1}\\Gamma_{s_7 s_8}\\epsilon_{a b c}\\epsilon_{a' b' c'}\\gamma_{\\mu}e^{-i\\mathbf{q}}_{s_3 s_4}\\gamma_{\\nu}e^{i\\mathbf{q}}_{s_5 s_6}S_{u}(x_3,t_3\\mid x_2,t_2)_{\\substack{s_2\\\\c}\\substack{s_3\\\\c_1}}S_{u}(x_2,t_2\\mid x_1,t_1)_{\\substack{s_4\\\\c_1}\\substack{s_5\\\\c_2}}S_{u}(x_1,t_1\\mid x_0,t_0)_{\\substack{s_6\\\\c_2}\\substack{s_7\\\\a'}}S_{d}(x_3,t_3\\mid x_0,t_0)_{\\substack{s_1\\\\b}\\substack{s_8\\\\b'}}S_{u}(x_3,t_3\\mid x_0,t_0)_{\\substack{s_0\\\\a}\\substack{s_9\\\\c'}}\\\\\n",
      "d_{48}^{\\text{[['2', '3'], ['1', '2'], ['0', '3'], ['0', '1'], ['0', '3']]}}=\\,1.0 \\Gamma_{s_0 s_1}\\Gamma_{s_7 s_8}\\epsilon_{a b c}\\epsilon_{a' b' c'}\\gamma_{\\mu}e^{-i\\mathbf{q}}_{s_3 s_4}\\gamma_{\\nu}e^{i\\mathbf{q}}_{s_5 s_6}S_{d}(x_3,t_3\\mid x_2,t_2)_{\\substack{s_1\\\\b}\\substack{s_3\\\\c_1}}S_{d}(x_2,t_2\\mid x_1,t_1)_{\\substack{s_4\\\\c_1}\\substack{s_5\\\\c_2}}S_{u}(x_3,t_3\\mid x_0,t_0)_{\\substack{s_0\\\\a}\\substack{s_7\\\\a'}}S_{d}(x_1,t_1\\mid x_0,t_0)_{\\substack{s_6\\\\c_2}\\substack{s_8\\\\b'}}S_{u}(x_3,t_3\\mid x_0,t_0)_{\\substack{s_2\\\\c}\\substack{s_9\\\\c'}}\\\\\n",
      "d_{57}^{\\text{[['2', '3'], ['1', '2'], ['0', '3'], ['0', '1'], ['0', '3']]}}=\\,-1.0 \\Gamma_{s_0 s_1}\\Gamma_{s_7 s_8}\\epsilon_{a b c}\\epsilon_{a' b' c'}\\gamma_{\\mu}e^{-i\\mathbf{q}}_{s_3 s_4}\\gamma_{\\nu}e^{i\\mathbf{q}}_{s_5 s_6}S_{d}(x_3,t_3\\mid x_2,t_2)_{\\substack{s_1\\\\b}\\substack{s_3\\\\c_1}}S_{d}(x_2,t_2\\mid x_1,t_1)_{\\substack{s_4\\\\c_1}\\substack{s_5\\\\c_2}}S_{u}(x_3,t_3\\mid x_0,t_0)_{\\substack{s_2\\\\c}\\substack{s_7\\\\a'}}S_{d}(x_1,t_1\\mid x_0,t_0)_{\\substack{s_6\\\\c_2}\\substack{s_8\\\\b'}}S_{u}(x_3,t_3\\mid x_0,t_0)_{\\substack{s_0\\\\a}\\substack{s_9\\\\c'}}\\\\\n",
      "d_{3}^{\\text{[['2', '3'], ['1', '2'], ['0', '3'], ['0', '3'], ['0', '1']]}}=\\,-4.0 \\Gamma_{s_0 s_1}\\Gamma_{s_7 s_8}\\epsilon_{a b c}\\epsilon_{a' b' c'}\\gamma_{\\mu}e^{-i\\mathbf{q}}_{s_3 s_4}\\gamma_{\\nu}e^{i\\mathbf{q}}_{s_5 s_6}S_{u}(x_3,t_3\\mid x_2,t_2)_{\\substack{s_0\\\\a}\\substack{s_3\\\\c_1}}S_{u}(x_2,t_2\\mid x_1,t_1)_{\\substack{s_4\\\\c_1}\\substack{s_5\\\\c_2}}S_{u}(x_3,t_3\\mid x_0,t_0)_{\\substack{s_2\\\\c}\\substack{s_7\\\\a'}}S_{d}(x_3,t_3\\mid x_0,t_0)_{\\substack{s_1\\\\b}\\substack{s_8\\\\b'}}S_{u}(x_1,t_1\\mid x_0,t_0)_{\\substack{s_6\\\\c_2}\\substack{s_9\\\\c'}}\\\\\n",
      "d_{4}^{\\text{[['2', '3'], ['1', '2'], ['0', '3'], ['0', '3'], ['0', '1']]}}=\\,4.0 \\Gamma_{s_0 s_1}\\Gamma_{s_7 s_8}\\epsilon_{a b c}\\epsilon_{a' b' c'}\\gamma_{\\mu}e^{-i\\mathbf{q}}_{s_3 s_4}\\gamma_{\\nu}e^{i\\mathbf{q}}_{s_5 s_6}S_{u}(x_3,t_3\\mid x_2,t_2)_{\\substack{s_2\\\\c}\\substack{s_3\\\\c_1}}S_{u}(x_2,t_2\\mid x_1,t_1)_{\\substack{s_4\\\\c_1}\\substack{s_5\\\\c_2}}S_{u}(x_3,t_3\\mid x_0,t_0)_{\\substack{s_0\\\\a}\\substack{s_7\\\\a'}}S_{d}(x_3,t_3\\mid x_0,t_0)_{\\substack{s_1\\\\b}\\substack{s_8\\\\b'}}S_{u}(x_1,t_1\\mid x_0,t_0)_{\\substack{s_6\\\\c_2}\\substack{s_9\\\\c'}}\\\\\n",
      "d_{40}^{\\text{[['2', '3'], ['1', '3'], ['0', '1'], ['0', '2'], ['0', '3']]}}=\\,-2.0 \\Gamma_{s_0 s_1}\\Gamma_{s_7 s_8}\\epsilon_{a b c}\\epsilon_{a' b' c'}\\gamma_{\\mu}e^{-i\\mathbf{q}}_{s_3 s_4}\\gamma_{\\nu}e^{i\\mathbf{q}}_{s_5 s_6}S_{d}(x_3,t_3\\mid x_2,t_2)_{\\substack{s_1\\\\b}\\substack{s_3\\\\c_1}}S_{u}(x_3,t_3\\mid x_1,t_1)_{\\substack{s_0\\\\a}\\substack{s_5\\\\c_2}}S_{u}(x_1,t_1\\mid x_0,t_0)_{\\substack{s_6\\\\c_2}\\substack{s_7\\\\a'}}S_{d}(x_2,t_2\\mid x_0,t_0)_{\\substack{s_4\\\\c_1}\\substack{s_8\\\\b'}}S_{u}(x_3,t_3\\mid x_0,t_0)_{\\substack{s_2\\\\c}\\substack{s_9\\\\c'}}\\\\\n",
      "d_{46}^{\\text{[['2', '3'], ['1', '3'], ['0', '1'], ['0', '2'], ['0', '3']]}}=\\,2.0 \\Gamma_{s_0 s_1}\\Gamma_{s_7 s_8}\\epsilon_{a b c}\\epsilon_{a' b' c'}\\gamma_{\\mu}e^{-i\\mathbf{q}}_{s_3 s_4}\\gamma_{\\nu}e^{i\\mathbf{q}}_{s_5 s_6}S_{d}(x_3,t_3\\mid x_2,t_2)_{\\substack{s_1\\\\b}\\substack{s_3\\\\c_1}}S_{u}(x_3,t_3\\mid x_1,t_1)_{\\substack{s_2\\\\c}\\substack{s_5\\\\c_2}}S_{u}(x_1,t_1\\mid x_0,t_0)_{\\substack{s_6\\\\c_2}\\substack{s_7\\\\a'}}S_{d}(x_2,t_2\\mid x_0,t_0)_{\\substack{s_4\\\\c_1}\\substack{s_8\\\\b'}}S_{u}(x_3,t_3\\mid x_0,t_0)_{\\substack{s_0\\\\a}\\substack{s_9\\\\c'}}\\\\\n",
      "d_{12}^{\\text{[['2', '3'], ['1', '3'], ['0', '1'], ['0', '3'], ['0', '2']]}}=\\,4.0 \\Gamma_{s_0 s_1}\\Gamma_{s_7 s_8}\\epsilon_{a b c}\\epsilon_{a' b' c'}\\gamma_{\\mu}e^{-i\\mathbf{q}}_{s_3 s_4}\\gamma_{\\nu}e^{i\\mathbf{q}}_{s_5 s_6}S_{u}(x_3,t_3\\mid x_2,t_2)_{\\substack{s_2\\\\c}\\substack{s_3\\\\c_1}}S_{u}(x_3,t_3\\mid x_1,t_1)_{\\substack{s_0\\\\a}\\substack{s_5\\\\c_2}}S_{u}(x_1,t_1\\mid x_0,t_0)_{\\substack{s_6\\\\c_2}\\substack{s_7\\\\a'}}S_{d}(x_3,t_3\\mid x_0,t_0)_{\\substack{s_1\\\\b}\\substack{s_8\\\\b'}}S_{u}(x_2,t_2\\mid x_0,t_0)_{\\substack{s_4\\\\c_1}\\substack{s_9\\\\c'}}\\\\\n",
      "d_{13}^{\\text{[['2', '3'], ['1', '3'], ['0', '1'], ['0', '3'], ['0', '2']]}}=\\,-4.0 \\Gamma_{s_0 s_1}\\Gamma_{s_7 s_8}\\epsilon_{a b c}\\epsilon_{a' b' c'}\\gamma_{\\mu}e^{-i\\mathbf{q}}_{s_3 s_4}\\gamma_{\\nu}e^{i\\mathbf{q}}_{s_5 s_6}S_{u}(x_3,t_3\\mid x_2,t_2)_{\\substack{s_0\\\\a}\\substack{s_3\\\\c_1}}S_{u}(x_3,t_3\\mid x_1,t_1)_{\\substack{s_2\\\\c}\\substack{s_5\\\\c_2}}S_{u}(x_1,t_1\\mid x_0,t_0)_{\\substack{s_6\\\\c_2}\\substack{s_7\\\\a'}}S_{d}(x_3,t_3\\mid x_0,t_0)_{\\substack{s_1\\\\b}\\substack{s_8\\\\b'}}S_{u}(x_2,t_2\\mid x_0,t_0)_{\\substack{s_4\\\\c_1}\\substack{s_9\\\\c'}}\\\\\n",
      "d_{25}^{\\text{[['2', '3'], ['1', '3'], ['0', '2'], ['0', '1'], ['0', '3']]}}=\\,-2.0 \\Gamma_{s_0 s_1}\\Gamma_{s_7 s_8}\\epsilon_{a b c}\\epsilon_{a' b' c'}\\gamma_{\\mu}e^{-i\\mathbf{q}}_{s_3 s_4}\\gamma_{\\nu}e^{i\\mathbf{q}}_{s_5 s_6}S_{u}(x_3,t_3\\mid x_2,t_2)_{\\substack{s_0\\\\a}\\substack{s_3\\\\c_1}}S_{d}(x_3,t_3\\mid x_1,t_1)_{\\substack{s_1\\\\b}\\substack{s_5\\\\c_2}}S_{u}(x_2,t_2\\mid x_0,t_0)_{\\substack{s_4\\\\c_1}\\substack{s_7\\\\a'}}S_{d}(x_1,t_1\\mid x_0,t_0)_{\\substack{s_6\\\\c_2}\\substack{s_8\\\\b'}}S_{u}(x_3,t_3\\mid x_0,t_0)_{\\substack{s_2\\\\c}\\substack{s_9\\\\c'}}\\\\\n",
      "d_{35}^{\\text{[['2', '3'], ['1', '3'], ['0', '2'], ['0', '1'], ['0', '3']]}}=\\,2.0 \\Gamma_{s_0 s_1}\\Gamma_{s_7 s_8}\\epsilon_{a b c}\\epsilon_{a' b' c'}\\gamma_{\\mu}e^{-i\\mathbf{q}}_{s_3 s_4}\\gamma_{\\nu}e^{i\\mathbf{q}}_{s_5 s_6}S_{u}(x_3,t_3\\mid x_2,t_2)_{\\substack{s_2\\\\c}\\substack{s_3\\\\c_1}}S_{d}(x_3,t_3\\mid x_1,t_1)_{\\substack{s_1\\\\b}\\substack{s_5\\\\c_2}}S_{u}(x_2,t_2\\mid x_0,t_0)_{\\substack{s_4\\\\c_1}\\substack{s_7\\\\a'}}S_{d}(x_1,t_1\\mid x_0,t_0)_{\\substack{s_6\\\\c_2}\\substack{s_8\\\\b'}}S_{u}(x_3,t_3\\mid x_0,t_0)_{\\substack{s_0\\\\a}\\substack{s_9\\\\c'}}\\\\\n",
      "d_{0}^{\\text{[['2', '3'], ['1', '3'], ['0', '2'], ['0', '3'], ['0', '1']]}}=\\,4.0 \\Gamma_{s_0 s_1}\\Gamma_{s_7 s_8}\\epsilon_{a b c}\\epsilon_{a' b' c'}\\gamma_{\\mu}e^{-i\\mathbf{q}}_{s_3 s_4}\\gamma_{\\nu}e^{i\\mathbf{q}}_{s_5 s_6}S_{u}(x_3,t_3\\mid x_2,t_2)_{\\substack{s_0\\\\a}\\substack{s_3\\\\c_1}}S_{u}(x_3,t_3\\mid x_1,t_1)_{\\substack{s_2\\\\c}\\substack{s_5\\\\c_2}}S_{u}(x_2,t_2\\mid x_0,t_0)_{\\substack{s_4\\\\c_1}\\substack{s_7\\\\a'}}S_{d}(x_3,t_3\\mid x_0,t_0)_{\\substack{s_1\\\\b}\\substack{s_8\\\\b'}}S_{u}(x_1,t_1\\mid x_0,t_0)_{\\substack{s_6\\\\c_2}\\substack{s_9\\\\c'}}\\\\\n",
      "d_{1}^{\\text{[['2', '3'], ['1', '3'], ['0', '2'], ['0', '3'], ['0', '1']]}}=\\,-4.0 \\Gamma_{s_0 s_1}\\Gamma_{s_7 s_8}\\epsilon_{a b c}\\epsilon_{a' b' c'}\\gamma_{\\mu}e^{-i\\mathbf{q}}_{s_3 s_4}\\gamma_{\\nu}e^{i\\mathbf{q}}_{s_5 s_6}S_{u}(x_3,t_3\\mid x_2,t_2)_{\\substack{s_2\\\\c}\\substack{s_3\\\\c_1}}S_{u}(x_3,t_3\\mid x_1,t_1)_{\\substack{s_0\\\\a}\\substack{s_5\\\\c_2}}S_{u}(x_2,t_2\\mid x_0,t_0)_{\\substack{s_4\\\\c_1}\\substack{s_7\\\\a'}}S_{d}(x_3,t_3\\mid x_0,t_0)_{\\substack{s_1\\\\b}\\substack{s_8\\\\b'}}S_{u}(x_1,t_1\\mid x_0,t_0)_{\\substack{s_6\\\\c_2}\\substack{s_9\\\\c'}}\\\\\n",
      "d_{30}^{\\text{[['2', '3'], ['1', '3'], ['0', '3'], ['0', '1'], ['0', '2']]}}=\\,2.0 \\Gamma_{s_0 s_1}\\Gamma_{s_7 s_8}\\epsilon_{a b c}\\epsilon_{a' b' c'}\\gamma_{\\mu}e^{-i\\mathbf{q}}_{s_3 s_4}\\gamma_{\\nu}e^{i\\mathbf{q}}_{s_5 s_6}S_{u}(x_3,t_3\\mid x_2,t_2)_{\\substack{s_0\\\\a}\\substack{s_3\\\\c_1}}S_{d}(x_3,t_3\\mid x_1,t_1)_{\\substack{s_1\\\\b}\\substack{s_5\\\\c_2}}S_{u}(x_3,t_3\\mid x_0,t_0)_{\\substack{s_2\\\\c}\\substack{s_7\\\\a'}}S_{d}(x_1,t_1\\mid x_0,t_0)_{\\substack{s_6\\\\c_2}\\substack{s_8\\\\b'}}S_{u}(x_2,t_2\\mid x_0,t_0)_{\\substack{s_4\\\\c_1}\\substack{s_9\\\\c'}}\\\\\n",
      "d_{31}^{\\text{[['2', '3'], ['1', '3'], ['0', '3'], ['0', '1'], ['0', '2']]}}=\\,-2.0 \\Gamma_{s_0 s_1}\\Gamma_{s_7 s_8}\\epsilon_{a b c}\\epsilon_{a' b' c'}\\gamma_{\\mu}e^{-i\\mathbf{q}}_{s_3 s_4}\\gamma_{\\nu}e^{i\\mathbf{q}}_{s_5 s_6}S_{u}(x_3,t_3\\mid x_2,t_2)_{\\substack{s_2\\\\c}\\substack{s_3\\\\c_1}}S_{d}(x_3,t_3\\mid x_1,t_1)_{\\substack{s_1\\\\b}\\substack{s_5\\\\c_2}}S_{u}(x_3,t_3\\mid x_0,t_0)_{\\substack{s_0\\\\a}\\substack{s_7\\\\a'}}S_{d}(x_1,t_1\\mid x_0,t_0)_{\\substack{s_6\\\\c_2}\\substack{s_8\\\\b'}}S_{u}(x_2,t_2\\mid x_0,t_0)_{\\substack{s_4\\\\c_1}\\substack{s_9\\\\c'}}\\\\\n",
      "d_{36}^{\\text{[['2', '3'], ['1', '3'], ['0', '3'], ['0', '2'], ['0', '1']]}}=\\,2.0 \\Gamma_{s_0 s_1}\\Gamma_{s_7 s_8}\\epsilon_{a b c}\\epsilon_{a' b' c'}\\gamma_{\\mu}e^{-i\\mathbf{q}}_{s_3 s_4}\\gamma_{\\nu}e^{i\\mathbf{q}}_{s_5 s_6}S_{d}(x_3,t_3\\mid x_2,t_2)_{\\substack{s_1\\\\b}\\substack{s_3\\\\c_1}}S_{u}(x_3,t_3\\mid x_1,t_1)_{\\substack{s_0\\\\a}\\substack{s_5\\\\c_2}}S_{u}(x_3,t_3\\mid x_0,t_0)_{\\substack{s_2\\\\c}\\substack{s_7\\\\a'}}S_{d}(x_2,t_2\\mid x_0,t_0)_{\\substack{s_4\\\\c_1}\\substack{s_8\\\\b'}}S_{u}(x_1,t_1\\mid x_0,t_0)_{\\substack{s_6\\\\c_2}\\substack{s_9\\\\c'}}\\\\\n",
      "d_{37}^{\\text{[['2', '3'], ['1', '3'], ['0', '3'], ['0', '2'], ['0', '1']]}}=\\,-2.0 \\Gamma_{s_0 s_1}\\Gamma_{s_7 s_8}\\epsilon_{a b c}\\epsilon_{a' b' c'}\\gamma_{\\mu}e^{-i\\mathbf{q}}_{s_3 s_4}\\gamma_{\\nu}e^{i\\mathbf{q}}_{s_5 s_6}S_{d}(x_3,t_3\\mid x_2,t_2)_{\\substack{s_1\\\\b}\\substack{s_3\\\\c_1}}S_{u}(x_3,t_3\\mid x_1,t_1)_{\\substack{s_2\\\\c}\\substack{s_5\\\\c_2}}S_{u}(x_3,t_3\\mid x_0,t_0)_{\\substack{s_0\\\\a}\\substack{s_7\\\\a'}}S_{d}(x_2,t_2\\mid x_0,t_0)_{\\substack{s_4\\\\c_1}\\substack{s_8\\\\b'}}S_{u}(x_1,t_1\\mid x_0,t_0)_{\\substack{s_6\\\\c_2}\\substack{s_9\\\\c'}}\\\\\n",
      "\\eeqs\n"
     ]
    }
   ],
   "source": [
    "print('\\\\beqs')\n",
    "for i,label in topSorted.items():\n",
    "    s='d_{{{}}}^{{\\\\text{{{}}}}}=\\,'.format(i,label)+str(total[i])\n",
    "    if(i!=len(topSorted.items())-1):\n",
    "        s+='\\\\\\\\'\n",
    "    print(s)\n",
    "print('\\\\eeqs')"
   ]
  },
  {
   "cell_type": "code",
   "execution_count": null,
   "metadata": {},
   "outputs": [],
   "source": []
  },
  {
   "cell_type": "code",
   "execution_count": null,
   "metadata": {},
   "outputs": [],
   "source": []
  },
  {
   "cell_type": "code",
   "execution_count": null,
   "metadata": {},
   "outputs": [],
   "source": []
  }
 ],
 "metadata": {
  "kernelspec": {
   "display_name": "Python 3 (ipykernel)",
   "language": "python",
   "name": "python3"
  },
  "language_info": {
   "codemirror_mode": {
    "name": "ipython",
    "version": 3
   },
   "file_extension": ".py",
   "mimetype": "text/x-python",
   "name": "python",
   "nbconvert_exporter": "python",
   "pygments_lexer": "ipython3",
   "version": "3.9.6"
  }
 },
 "nbformat": 4,
 "nbformat_minor": 4
}
