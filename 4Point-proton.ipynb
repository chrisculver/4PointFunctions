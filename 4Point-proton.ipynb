{
 "cells": [
  {
   "cell_type": "code",
   "execution_count": 2,
   "metadata": {},
   "outputs": [],
   "source": [
    "%load_ext autoreload\n",
    "%autoreload 2\n",
    "\n",
    "import sys\n",
    "import os\n",
    "\n",
    "sys.path.append(os.getcwd()[:-9])\n",
    "\n",
    "import WickContractions\n",
    "\n",
    "# the uglies part of the code is still defining operators.\n",
    "from WickContractions.ops.operator import Operator\n",
    "from WickContractions.ops.elemental import ElementalOperator\n",
    "from WickContractions.ops.quarks import Quark\n",
    "from WickContractions.ops.indexed import IndexedObject\n",
    "\n",
    "#pretty latex printing\n",
    "from IPython.display import display, Math \n",
    "pprint = lambda o : display(Math(str(o)))"
   ]
  },
  {
   "cell_type": "code",
   "execution_count": 3,
   "metadata": {},
   "outputs": [],
   "source": [
    "# epsilion^abc (u_a Cg5 d_b^T) u_c\n",
    "q1=Quark(False,'u','s_0','a','t_3','x_3')\n",
    "g=IndexedObject('\\\\Gamma',['s_0','s_1'])\n",
    "eps=IndexedObject('\\\\epsilon',['a','b','c'])\n",
    "q2=Quark(False,'d','s_1','b','t_3','x_3')\n",
    "q3=Quark(False,'u','s_2','c','t_3','x_3')\n",
    "\n",
    "annihilate=Operator([ElementalOperator(+1,[g,eps],[q1,q2,q3])])\n",
    "\n",
    "\n",
    "# epsilion^abc (baru_a Cg5 bard_b^T) baru_c\n",
    "elementals=[]\n",
    "for pi2 in [['u',+2/3],['d',-1/3]]:\n",
    "    for pi1 in [['u',+2/3],['d',-1/3]]:\n",
    "        q2=Quark(True,pi2[0],'s_3','c_1','t_2','x_2')\n",
    "        g1=IndexedObject('(\\\\gamma_{\\mu}e^{-i\\\\mathbf{q}})',['s_3','s_4'])\n",
    "        q3=Quark(False,pi2[0],'s_4','c_1','t_2','x_2')\n",
    "\n",
    "        q4=Quark(True,pi1[0],'s_5','c_2','t_1','x_1')\n",
    "        g2=IndexedObject('(\\\\gamma_{\\\\nu}e^{i\\\\mathbf{q}})',['s_5','s_6'])\n",
    "        q5=Quark(False,pi1[0],'s_6','c_2','t_1','x_1')\n",
    "        \n",
    "        pq1=Quark(True,'u','s_7','a\\'','t_0','x_0')\n",
    "        pg=IndexedObject('\\\\Gamma',['s_7','s_8'])\n",
    "        peps=IndexedObject('\\\\epsilon',['a\\'','b\\'','c\\''])\n",
    "        pq2=Quark(True,'d','s_8','b\\'','t_0','x_0')\n",
    "        pq3=Quark(True,'u','s_9','c\\'','t_0','x_0')\n",
    "        \n",
    "        elementals.append(ElementalOperator(-1*pi2[1]*pi1[1],[g1,g2,pg,peps],[q2,q3,q4,q5,pq1,pq2,pq3]))\n",
    "        \n",
    "create=Operator(elementals)"
   ]
  },
  {
   "cell_type": "code",
   "execution_count": 4,
   "metadata": {},
   "outputs": [
    {
     "name": "stdout",
     "output_type": "stream",
     "text": [
      "1\\Gamma_{s_0 s_1}\\epsilon_{a b c}u_{s_0 a}(x_3, t_3)d_{s_1 b}(x_3, t_3)u_{s_2 c}(x_3, t_3)\n"
     ]
    }
   ],
   "source": [
    "print(annihilate)"
   ]
  },
  {
   "cell_type": "code",
   "execution_count": 5,
   "metadata": {},
   "outputs": [
    {
     "name": "stdout",
     "output_type": "stream",
     "text": [
      "-0.4444444444444444(\\gamma_{\\mu}e^{-i\\mathbf{q}})_{s_3 s_4}(\\gamma_{\\nu}e^{i\\mathbf{q}})_{s_5 s_6}\\Gamma_{s_7 s_8}\\epsilon_{a' b' c'}\\bar{u}_{s_3 c_1}(x_2, t_2)u_{s_4 c_1}(x_2, t_2)\\bar{u}_{s_5 c_2}(x_1, t_1)u_{s_6 c_2}(x_1, t_1)\\bar{u}_{s_7 a'}(x_0, t_0)\\bar{d}_{s_8 b'}(x_0, t_0)\\bar{u}_{s_9 c'}(x_0, t_0)+0.2222222222222222(\\gamma_{\\mu}e^{-i\\mathbf{q}})_{s_3 s_4}(\\gamma_{\\nu}e^{i\\mathbf{q}})_{s_5 s_6}\\Gamma_{s_7 s_8}\\epsilon_{a' b' c'}\\bar{u}_{s_3 c_1}(x_2, t_2)u_{s_4 c_1}(x_2, t_2)\\bar{d}_{s_5 c_2}(x_1, t_1)d_{s_6 c_2}(x_1, t_1)\\bar{u}_{s_7 a'}(x_0, t_0)\\bar{d}_{s_8 b'}(x_0, t_0)\\bar{u}_{s_9 c'}(x_0, t_0)+0.2222222222222222(\\gamma_{\\mu}e^{-i\\mathbf{q}})_{s_3 s_4}(\\gamma_{\\nu}e^{i\\mathbf{q}})_{s_5 s_6}\\Gamma_{s_7 s_8}\\epsilon_{a' b' c'}\\bar{d}_{s_3 c_1}(x_2, t_2)d_{s_4 c_1}(x_2, t_2)\\bar{u}_{s_5 c_2}(x_1, t_1)u_{s_6 c_2}(x_1, t_1)\\bar{u}_{s_7 a'}(x_0, t_0)\\bar{d}_{s_8 b'}(x_0, t_0)\\bar{u}_{s_9 c'}(x_0, t_0)+-0.1111111111111111(\\gamma_{\\mu}e^{-i\\mathbf{q}})_{s_3 s_4}(\\gamma_{\\nu}e^{i\\mathbf{q}})_{s_5 s_6}\\Gamma_{s_7 s_8}\\epsilon_{a' b' c'}\\bar{d}_{s_3 c_1}(x_2, t_2)d_{s_4 c_1}(x_2, t_2)\\bar{d}_{s_5 c_2}(x_1, t_1)d_{s_6 c_2}(x_1, t_1)\\bar{u}_{s_7 a'}(x_0, t_0)\\bar{d}_{s_8 b'}(x_0, t_0)\\bar{u}_{s_9 c'}(x_0, t_0)\n"
     ]
    }
   ],
   "source": [
    "print(create)"
   ]
  },
  {
   "cell_type": "code",
   "execution_count": 6,
   "metadata": {},
   "outputs": [
    {
     "data": {
      "text/plain": [
       "60"
      ]
     },
     "execution_count": 6,
     "metadata": {},
     "output_type": "execute_result"
    }
   ],
   "source": [
    "from WickContractions.wick.contract import contract\n",
    "res=contract(annihilate,create)\n",
    "len(res.diagrams)"
   ]
  },
  {
   "cell_type": "code",
   "execution_count": 7,
   "metadata": {},
   "outputs": [
    {
     "name": "stdout",
     "output_type": "stream",
     "text": [
      "60\n",
      "60\n"
     ]
    }
   ],
   "source": [
    "import copy\n",
    "from diagram_utils import combine_diagrams\n",
    "total=copy.deepcopy(res.diagrams)\n",
    "\n",
    "print(len(total))\n",
    "\n",
    "##you can take the isospin limit by setting 'd'='u'\n",
    "for d in total:\n",
    "    for p in d.props:\n",
    "        #p.name = 'S'\n",
    "        p.name = 'S_'+p.name.split('_')[1]\n",
    "\n",
    "combine_diagrams(total)\n",
    "\n",
    "for d in total:\n",
    "    d.coef*=9\n",
    "        \n",
    "print(len(total))"
   ]
  },
  {
   "cell_type": "code",
   "execution_count": 8,
   "metadata": {},
   "outputs": [],
   "source": [
    "from print_utilities import diagram_as_latex_str, labelled_diagram_as_latex_str\n",
    "from IPython.display import display, Math"
   ]
  },
  {
   "cell_type": "code",
   "execution_count": 9,
   "metadata": {},
   "outputs": [
    {
     "name": "stdout",
     "output_type": "stream",
     "text": [
      "d_{0}=4.0 S_{u}(x_3t_3\\mid x_2t_2)_{\\substack{s_0\\\\a}\\substack{s_3\\\\c_1}}S_{u}(x_3t_3\\mid x_1t_1)_{\\substack{s_2\\\\c}\\substack{s_5\\\\c_2}}S_{u}(x_2t_2\\mid x_0t_0)_{\\substack{s_4\\\\c_1}\\substack{s_7\\\\a'}}S_{d}(x_3t_3\\mid x_0t_0)_{\\substack{s_1\\\\b}\\substack{s_8\\\\b'}}S_{u}(x_1t_1\\mid x_0t_0)_{\\substack{s_6\\\\c_2}\\substack{s_9\\\\c'}}['(\\\\gamma', '{\\\\mu}e^{-i\\\\mathbf{q}})']['(\\\\gamma', '{\\\\nu}e^{i\\\\mathbf{q}})']['\\\\Gamma']['\\\\Gamma']['\\\\epsilon']['\\\\epsilon']\\\\\n"
     ]
    }
   ],
   "source": [
    "print(diagram_as_latex_str(total[0],0))"
   ]
  },
  {
   "cell_type": "code",
   "execution_count": 10,
   "metadata": {},
   "outputs": [],
   "source": [
    "#for i in range(0,len(total)):\n",
    "#    display(Math(diagram_as_latex_str(total[i],i)))"
   ]
  },
  {
   "cell_type": "code",
   "execution_count": 11,
   "metadata": {},
   "outputs": [],
   "source": [
    "from topologies import *\n",
    "\n",
    "topList=diagram_time_order(total)\n",
    "connect_times(topList)\n",
    "name_topologies(topList)"
   ]
  },
  {
   "cell_type": "code",
   "execution_count": 12,
   "metadata": {},
   "outputs": [
    {
     "data": {
      "text/plain": [
       "{0: [['2', '3'], ['1', '3'], ['0', '2'], ['0', '3'], ['0', '1']],\n",
       " 1: [['2', '3'], ['1', '3'], ['0', '2'], ['0', '3'], ['0', '1']],\n",
       " 2: [['2', '2'], ['0', '3'], ['0', '3'], ['0', '1'], ['1', '3']],\n",
       " 3: [['2', '3'], ['1', '2'], ['0', '3'], ['0', '3'], ['0', '1']],\n",
       " 4: [['2', '3'], ['1', '2'], ['0', '3'], ['0', '3'], ['0', '1']],\n",
       " 5: [['2', '2'], ['0', '3'], ['0', '3'], ['0', '1'], ['1', '3']],\n",
       " 6: [['2', '1'], ['1', '3'], ['0', '2'], ['0', '3'], ['0', '3']],\n",
       " 7: [['1', '1'], ['0', '2'], ['0', '3'], ['0', '3'], ['2', '3']],\n",
       " 8: [['2', '2'], ['0', '3'], ['0', '3'], ['0', '3'], ['1', '1']],\n",
       " 9: [['2', '1'], ['1', '2'], ['0', '3'], ['0', '3'], ['0', '3']],\n",
       " 10: [['2', '3'], ['1', '2'], ['0', '1'], ['0', '3'], ['0', '3']],\n",
       " 11: [['2', '2'], ['0', '1'], ['0', '3'], ['0', '3'], ['1', '3']],\n",
       " 12: [['2', '3'], ['1', '3'], ['0', '1'], ['0', '3'], ['0', '2']],\n",
       " 13: [['2', '3'], ['1', '3'], ['0', '1'], ['0', '3'], ['0', '2']],\n",
       " 14: [['2', '1'], ['1', '3'], ['0', '3'], ['0', '3'], ['0', '2']],\n",
       " 15: [['1', '1'], ['0', '3'], ['0', '3'], ['0', '2'], ['2', '3']],\n",
       " 16: [['1', '1'], ['0', '3'], ['0', '3'], ['0', '2'], ['2', '3']],\n",
       " 17: [['2', '1'], ['1', '3'], ['0', '3'], ['0', '3'], ['0', '2']],\n",
       " 18: [['1', '1'], ['0', '2'], ['0', '3'], ['0', '3'], ['2', '3']],\n",
       " 19: [['2', '1'], ['1', '3'], ['0', '2'], ['0', '3'], ['0', '3']],\n",
       " 20: [['2', '2'], ['0', '1'], ['0', '3'], ['0', '3'], ['1', '3']],\n",
       " 21: [['2', '3'], ['1', '2'], ['0', '1'], ['0', '3'], ['0', '3']],\n",
       " 22: [['2', '1'], ['1', '2'], ['0', '3'], ['0', '3'], ['0', '3']],\n",
       " 23: [['2', '2'], ['0', '3'], ['0', '3'], ['0', '3'], ['1', '1']],\n",
       " 24: [['2', '2'], ['0', '3'], ['0', '1'], ['0', '3'], ['1', '3']],\n",
       " 25: [['2', '3'], ['1', '3'], ['0', '2'], ['0', '1'], ['0', '3']],\n",
       " 26: [['1', '1'], ['0', '2'], ['0', '3'], ['0', '3'], ['2', '3']],\n",
       " 27: [['2', '2'], ['0', '3'], ['0', '3'], ['0', '3'], ['1', '1']],\n",
       " 28: [['1', '1'], ['0', '3'], ['0', '3'], ['0', '2'], ['2', '3']],\n",
       " 29: [['1', '1'], ['0', '3'], ['0', '3'], ['0', '2'], ['2', '3']],\n",
       " 30: [['2', '3'], ['1', '3'], ['0', '3'], ['0', '1'], ['0', '2']],\n",
       " 31: [['2', '3'], ['1', '3'], ['0', '3'], ['0', '1'], ['0', '2']],\n",
       " 32: [['1', '1'], ['0', '2'], ['0', '3'], ['0', '3'], ['2', '3']],\n",
       " 33: [['2', '2'], ['0', '3'], ['0', '3'], ['0', '3'], ['1', '1']],\n",
       " 34: [['2', '2'], ['0', '3'], ['0', '1'], ['0', '3'], ['1', '3']],\n",
       " 35: [['2', '3'], ['1', '3'], ['0', '2'], ['0', '1'], ['0', '3']],\n",
       " 36: [['2', '3'], ['1', '3'], ['0', '3'], ['0', '2'], ['0', '1']],\n",
       " 37: [['2', '3'], ['1', '3'], ['0', '3'], ['0', '2'], ['0', '1']],\n",
       " 38: [['2', '2'], ['0', '3'], ['0', '3'], ['0', '1'], ['1', '3']],\n",
       " 39: [['2', '2'], ['0', '3'], ['0', '3'], ['0', '1'], ['1', '3']],\n",
       " 40: [['2', '3'], ['1', '3'], ['0', '1'], ['0', '2'], ['0', '3']],\n",
       " 41: [['1', '1'], ['0', '3'], ['0', '2'], ['0', '3'], ['2', '3']],\n",
       " 42: [['2', '2'], ['0', '3'], ['0', '3'], ['0', '3'], ['1', '1']],\n",
       " 43: [['2', '2'], ['0', '1'], ['0', '3'], ['0', '3'], ['1', '3']],\n",
       " 44: [['2', '2'], ['0', '1'], ['0', '3'], ['0', '3'], ['1', '3']],\n",
       " 45: [['2', '2'], ['0', '3'], ['0', '3'], ['0', '3'], ['1', '1']],\n",
       " 46: [['2', '3'], ['1', '3'], ['0', '1'], ['0', '2'], ['0', '3']],\n",
       " 47: [['1', '1'], ['0', '3'], ['0', '2'], ['0', '3'], ['2', '3']],\n",
       " 48: [['2', '3'], ['1', '2'], ['0', '3'], ['0', '1'], ['0', '3']],\n",
       " 49: [['2', '2'], ['0', '3'], ['0', '1'], ['0', '3'], ['1', '3']],\n",
       " 50: [['2', '1'], ['1', '3'], ['0', '3'], ['0', '2'], ['0', '3']],\n",
       " 51: [['1', '1'], ['0', '3'], ['0', '2'], ['0', '3'], ['2', '3']],\n",
       " 52: [['2', '2'], ['0', '3'], ['0', '3'], ['0', '3'], ['1', '1']],\n",
       " 53: [['2', '1'], ['1', '2'], ['0', '3'], ['0', '3'], ['0', '3']],\n",
       " 54: [['2', '1'], ['1', '2'], ['0', '3'], ['0', '3'], ['0', '3']],\n",
       " 55: [['2', '2'], ['0', '3'], ['0', '3'], ['0', '3'], ['1', '1']],\n",
       " 56: [['2', '2'], ['0', '3'], ['0', '1'], ['0', '3'], ['1', '3']],\n",
       " 57: [['2', '3'], ['1', '2'], ['0', '3'], ['0', '1'], ['0', '3']],\n",
       " 58: [['1', '1'], ['0', '3'], ['0', '2'], ['0', '3'], ['2', '3']],\n",
       " 59: [['2', '1'], ['1', '3'], ['0', '3'], ['0', '2'], ['0', '3']]}"
      ]
     },
     "execution_count": 12,
     "metadata": {},
     "output_type": "execute_result"
    }
   ],
   "source": [
    "topList"
   ]
  },
  {
   "cell_type": "code",
   "execution_count": 13,
   "metadata": {},
   "outputs": [
    {
     "name": "stdout",
     "output_type": "stream",
     "text": [
      "{7: [['1', '1'], ['0', '2'], ['0', '3'], ['0', '3'], ['2', '3']], 18: [['1', '1'], ['0', '2'], ['0', '3'], ['0', '3'], ['2', '3']], 26: [['1', '1'], ['0', '2'], ['0', '3'], ['0', '3'], ['2', '3']], 32: [['1', '1'], ['0', '2'], ['0', '3'], ['0', '3'], ['2', '3']], 41: [['1', '1'], ['0', '3'], ['0', '2'], ['0', '3'], ['2', '3']], 47: [['1', '1'], ['0', '3'], ['0', '2'], ['0', '3'], ['2', '3']], 51: [['1', '1'], ['0', '3'], ['0', '2'], ['0', '3'], ['2', '3']], 58: [['1', '1'], ['0', '3'], ['0', '2'], ['0', '3'], ['2', '3']], 15: [['1', '1'], ['0', '3'], ['0', '3'], ['0', '2'], ['2', '3']], 16: [['1', '1'], ['0', '3'], ['0', '3'], ['0', '2'], ['2', '3']], 28: [['1', '1'], ['0', '3'], ['0', '3'], ['0', '2'], ['2', '3']], 29: [['1', '1'], ['0', '3'], ['0', '3'], ['0', '2'], ['2', '3']], 9: [['2', '1'], ['1', '2'], ['0', '3'], ['0', '3'], ['0', '3']], 22: [['2', '1'], ['1', '2'], ['0', '3'], ['0', '3'], ['0', '3']], 53: [['2', '1'], ['1', '2'], ['0', '3'], ['0', '3'], ['0', '3']], 54: [['2', '1'], ['1', '2'], ['0', '3'], ['0', '3'], ['0', '3']], 6: [['2', '1'], ['1', '3'], ['0', '2'], ['0', '3'], ['0', '3']], 19: [['2', '1'], ['1', '3'], ['0', '2'], ['0', '3'], ['0', '3']], 50: [['2', '1'], ['1', '3'], ['0', '3'], ['0', '2'], ['0', '3']], 59: [['2', '1'], ['1', '3'], ['0', '3'], ['0', '2'], ['0', '3']], 14: [['2', '1'], ['1', '3'], ['0', '3'], ['0', '3'], ['0', '2']], 17: [['2', '1'], ['1', '3'], ['0', '3'], ['0', '3'], ['0', '2']], 11: [['2', '2'], ['0', '1'], ['0', '3'], ['0', '3'], ['1', '3']], 20: [['2', '2'], ['0', '1'], ['0', '3'], ['0', '3'], ['1', '3']], 43: [['2', '2'], ['0', '1'], ['0', '3'], ['0', '3'], ['1', '3']], 44: [['2', '2'], ['0', '1'], ['0', '3'], ['0', '3'], ['1', '3']], 24: [['2', '2'], ['0', '3'], ['0', '1'], ['0', '3'], ['1', '3']], 34: [['2', '2'], ['0', '3'], ['0', '1'], ['0', '3'], ['1', '3']], 49: [['2', '2'], ['0', '3'], ['0', '1'], ['0', '3'], ['1', '3']], 56: [['2', '2'], ['0', '3'], ['0', '1'], ['0', '3'], ['1', '3']], 2: [['2', '2'], ['0', '3'], ['0', '3'], ['0', '1'], ['1', '3']], 5: [['2', '2'], ['0', '3'], ['0', '3'], ['0', '1'], ['1', '3']], 38: [['2', '2'], ['0', '3'], ['0', '3'], ['0', '1'], ['1', '3']], 39: [['2', '2'], ['0', '3'], ['0', '3'], ['0', '1'], ['1', '3']], 8: [['2', '2'], ['0', '3'], ['0', '3'], ['0', '3'], ['1', '1']], 23: [['2', '2'], ['0', '3'], ['0', '3'], ['0', '3'], ['1', '1']], 27: [['2', '2'], ['0', '3'], ['0', '3'], ['0', '3'], ['1', '1']], 33: [['2', '2'], ['0', '3'], ['0', '3'], ['0', '3'], ['1', '1']], 42: [['2', '2'], ['0', '3'], ['0', '3'], ['0', '3'], ['1', '1']], 45: [['2', '2'], ['0', '3'], ['0', '3'], ['0', '3'], ['1', '1']], 52: [['2', '2'], ['0', '3'], ['0', '3'], ['0', '3'], ['1', '1']], 55: [['2', '2'], ['0', '3'], ['0', '3'], ['0', '3'], ['1', '1']], 10: [['2', '3'], ['1', '2'], ['0', '1'], ['0', '3'], ['0', '3']], 21: [['2', '3'], ['1', '2'], ['0', '1'], ['0', '3'], ['0', '3']], 48: [['2', '3'], ['1', '2'], ['0', '3'], ['0', '1'], ['0', '3']], 57: [['2', '3'], ['1', '2'], ['0', '3'], ['0', '1'], ['0', '3']], 3: [['2', '3'], ['1', '2'], ['0', '3'], ['0', '3'], ['0', '1']], 4: [['2', '3'], ['1', '2'], ['0', '3'], ['0', '3'], ['0', '1']], 40: [['2', '3'], ['1', '3'], ['0', '1'], ['0', '2'], ['0', '3']], 46: [['2', '3'], ['1', '3'], ['0', '1'], ['0', '2'], ['0', '3']], 12: [['2', '3'], ['1', '3'], ['0', '1'], ['0', '3'], ['0', '2']], 13: [['2', '3'], ['1', '3'], ['0', '1'], ['0', '3'], ['0', '2']], 25: [['2', '3'], ['1', '3'], ['0', '2'], ['0', '1'], ['0', '3']], 35: [['2', '3'], ['1', '3'], ['0', '2'], ['0', '1'], ['0', '3']], 0: [['2', '3'], ['1', '3'], ['0', '2'], ['0', '3'], ['0', '1']], 1: [['2', '3'], ['1', '3'], ['0', '2'], ['0', '3'], ['0', '1']], 30: [['2', '3'], ['1', '3'], ['0', '3'], ['0', '1'], ['0', '2']], 31: [['2', '3'], ['1', '3'], ['0', '3'], ['0', '1'], ['0', '2']], 36: [['2', '3'], ['1', '3'], ['0', '3'], ['0', '2'], ['0', '1']], 37: [['2', '3'], ['1', '3'], ['0', '3'], ['0', '2'], ['0', '1']]}\n"
     ]
    }
   ],
   "source": [
    "x=copy.deepcopy(topList)\n",
    "topSorted={k: v for k, v in sorted(x.items(), key=lambda item: item[1])}\n",
    "print(topSorted)"
   ]
  },
  {
   "cell_type": "code",
   "execution_count": 14,
   "metadata": {},
   "outputs": [],
   "source": [
    "from print_utilities import print_diagrams_labelled\n",
    "from proton_diagram import ProtonDiagram\n",
    "\n",
    "#for i,label in topSorted.items():\n",
    "    #display(Math(labelled_diagram_as_latex_str(total[i],i,label)))\n",
    "\n",
    "\n",
    "# Todo : First create a list of all my objects, in \"spin-matmul order\" with transposes where appropriate\n",
    "#  eps1 eps2 prop gamma prop gamma^T .... \n",
    "#  This essentially already finds traces lol\n",
    "#  Then I can look for traces and remove spin indices of any traced set of things.\n",
    "\n"
   ]
  },
  {
   "cell_type": "code",
   "execution_count": 22,
   "metadata": {},
   "outputs": [
    {
     "data": {
      "text/latex": [
       "$\\displaystyle -4.0 (\\gamma_{\\mu}e^{-i\\mathbf{q}})_{s_3 s_4}(\\gamma_{\\nu}e^{i\\mathbf{q}})_{s_5 s_6}\\Gamma_{s_0 s_1}\\Gamma_{s_7 s_8}\\epsilon_{a b c}\\epsilon_{a' b' c'}S_{u}(x_2,t_2\\mid x_2,t_2)_{\\substack{s_4\\\\c_1}\\substack{s_3\\\\c_1}}S_{u}(x_3,t_3\\mid x_1,t_1)_{\\substack{s_2\\\\c}\\substack{s_5\\\\c_2}}S_{u}(x_3,t_3\\mid x_0,t_0)_{\\substack{s_0\\\\a}\\substack{s_7\\\\a'}}S_{d}(x_3,t_3\\mid x_0,t_0)_{\\substack{s_1\\\\b}\\substack{s_8\\\\b'}}S_{u}(x_1,t_1\\mid x_0,t_0)_{\\substack{s_6\\\\c_2}\\substack{s_9\\\\c'}}$"
      ],
      "text/plain": [
       "<IPython.core.display.Math object>"
      ]
     },
     "metadata": {},
     "output_type": "display_data"
    },
    {
     "data": {
      "text/latex": [
       "$\\displaystyle -4.0\\epsilon_{a b c}\\epsilon_{a' b' c'}S_{u}(t_3, t_1)_{c,c_2}(\\gamma_{\\nu}e^{i\\mathbf{q}}) S_{u}(t_1, t_0)_{c_2,c'}\\text{tr}\\left[S_{u}(t_2, t_2)_{c_1,c_1}(\\gamma_{\\mu}e^{-i\\mathbf{q}}) \\right]\\text{tr}\\left[S_{u}(t_3, t_0)_{a,a'}\\Gamma S_{d}^{\\widetilde{T}}(t_3, t_0)_{b,b'}\\Gamma^{\\widetilde{T}} \\right]$"
      ],
      "text/plain": [
       "<IPython.core.display.Math object>"
      ]
     },
     "metadata": {},
     "output_type": "display_data"
    }
   ],
   "source": [
    "from print_utilities import print_diagrams_labelled\n",
    "from proton_diagram import ProtonDiagram\n",
    "\n",
    "d0=copy.deepcopy(total[5])\n",
    "pprint(d0)\n",
    "pd0=ProtonDiagram(d0)\n",
    "\n",
    "pprint(pd0.spin_prod_string())"
   ]
  },
  {
   "cell_type": "code",
   "execution_count": null,
   "metadata": {},
   "outputs": [],
   "source": []
  },
  {
   "cell_type": "code",
   "execution_count": 21,
   "metadata": {},
   "outputs": [
    {
     "data": {
      "text/latex": [
       "$\\displaystyle d_{0}=4.0\\epsilon_{a b c}\\epsilon_{a' b' c'}S_{u}(t_3, t_1)_{c,c_2}(\\gamma_{\\nu}e^{i\\mathbf{q}}) S_{u}(t_1, t_0)_{c_2,c'}\\text{tr}\\left[S_{u}(t_3, t_2)_{a,c_1}(\\gamma_{\\mu}e^{-i\\mathbf{q}}) S_{u}(t_2, t_0)_{c_1,a'}\\Gamma S_{d}^{\\widetilde{T}}(t_3, t_0)_{b,b'}\\Gamma^{\\widetilde{T}} \\right]$"
      ],
      "text/plain": [
       "<IPython.core.display.Math object>"
      ]
     },
     "metadata": {},
     "output_type": "display_data"
    },
    {
     "data": {
      "text/latex": [
       "$\\displaystyle d_{1}=-4.0\\epsilon_{a b c}\\epsilon_{a' b' c'}S_{u}(t_3, t_2)_{c,c_1}(\\gamma_{\\mu}e^{-i\\mathbf{q}}) S_{u}(t_2, t_0)_{c_1,a'}\\Gamma S_{d}^{\\widetilde{T}}(t_3, t_0)_{b,b'}\\Gamma^{\\widetilde{T}} S_{u}(t_3, t_1)_{a,c_2}(\\gamma_{\\nu}e^{i\\mathbf{q}}) S_{u}(t_1, t_0)_{c_2,c'}$"
      ],
      "text/plain": [
       "<IPython.core.display.Math object>"
      ]
     },
     "metadata": {},
     "output_type": "display_data"
    },
    {
     "data": {
      "text/latex": [
       "$\\displaystyle d_{2}=4.0\\epsilon_{a b c}\\epsilon_{a' b' c'}S_{u}(t_3, t_0)_{c,a'}\\Gamma S_{d}^{\\widetilde{T}}(t_3, t_0)_{b,b'}\\Gamma^{\\widetilde{T}} S_{u}(t_3, t_1)_{a,c_2}(\\gamma_{\\nu}e^{i\\mathbf{q}}) S_{u}(t_1, t_0)_{c_2,c'}\\text{tr}\\left[S_{u}(t_2, t_2)_{c_1,c_1}(\\gamma_{\\mu}e^{-i\\mathbf{q}}) \\right]$"
      ],
      "text/plain": [
       "<IPython.core.display.Math object>"
      ]
     },
     "metadata": {},
     "output_type": "display_data"
    },
    {
     "data": {
      "text/latex": [
       "$\\displaystyle d_{3}=-4.0\\epsilon_{a b c}\\epsilon_{a' b' c'}S_{u}(t_3, t_0)_{c,a'}\\Gamma S_{d}^{\\widetilde{T}}(t_3, t_0)_{b,b'}\\Gamma^{\\widetilde{T}} S_{u}(t_3, t_2)_{a,c_1}(\\gamma_{\\mu}e^{-i\\mathbf{q}}) S_{u}(t_2, t_1)_{c_1,c_2}(\\gamma_{\\nu}e^{i\\mathbf{q}}) S_{u}(t_1, t_0)_{c_2,c'}$"
      ],
      "text/plain": [
       "<IPython.core.display.Math object>"
      ]
     },
     "metadata": {},
     "output_type": "display_data"
    },
    {
     "data": {
      "text/latex": [
       "$\\displaystyle d_{4}=4.0\\epsilon_{a b c}\\epsilon_{a' b' c'}S_{u}(t_3, t_2)_{c,c_1}(\\gamma_{\\mu}e^{-i\\mathbf{q}}) S_{u}(t_2, t_1)_{c_1,c_2}(\\gamma_{\\nu}e^{i\\mathbf{q}}) S_{u}(t_1, t_0)_{c_2,c'}\\text{tr}\\left[S_{u}(t_3, t_0)_{a,a'}\\Gamma S_{d}^{\\widetilde{T}}(t_3, t_0)_{b,b'}\\Gamma^{\\widetilde{T}} \\right]$"
      ],
      "text/plain": [
       "<IPython.core.display.Math object>"
      ]
     },
     "metadata": {},
     "output_type": "display_data"
    },
    {
     "data": {
      "text/latex": [
       "$\\displaystyle d_{5}=-4.0\\epsilon_{a b c}\\epsilon_{a' b' c'}S_{u}(t_3, t_1)_{c,c_2}(\\gamma_{\\nu}e^{i\\mathbf{q}}) S_{u}(t_1, t_0)_{c_2,c'}\\text{tr}\\left[S_{u}(t_2, t_2)_{c_1,c_1}(\\gamma_{\\mu}e^{-i\\mathbf{q}}) \\right]\\text{tr}\\left[S_{u}(t_3, t_0)_{a,a'}\\Gamma S_{d}^{\\widetilde{T}}(t_3, t_0)_{b,b'}\\Gamma^{\\widetilde{T}} \\right]$"
      ],
      "text/plain": [
       "<IPython.core.display.Math object>"
      ]
     },
     "metadata": {},
     "output_type": "display_data"
    },
    {
     "data": {
      "text/latex": [
       "$\\displaystyle d_{6}=4.0\\epsilon_{a b c}\\epsilon_{a' b' c'}S_{u}(t_3, t_0)_{c,c'}\\text{tr}\\left[S_{u}(t_1, t_2)_{c_2,c_1}(\\gamma_{\\mu}e^{-i\\mathbf{q}}) S_{u}(t_2, t_0)_{c_1,a'}\\Gamma S_{d}^{\\widetilde{T}}(t_3, t_0)_{b,b'}\\Gamma^{\\widetilde{T}} S_{u}(t_3, t_1)_{a,c_2}(\\gamma_{\\nu}e^{i\\mathbf{q}}) \\right]$"
      ],
      "text/plain": [
       "<IPython.core.display.Math object>"
      ]
     },
     "metadata": {},
     "output_type": "display_data"
    },
    {
     "data": {
      "text/latex": [
       "$\\displaystyle d_{7}=-4.0\\epsilon_{a b c}\\epsilon_{a' b' c'}S_{u}(t_3, t_0)_{c,c'}\\text{tr}\\left[S_{u}(t_3, t_2)_{a,c_1}(\\gamma_{\\mu}e^{-i\\mathbf{q}}) S_{u}(t_2, t_0)_{c_1,a'}\\Gamma S_{d}^{\\widetilde{T}}(t_3, t_0)_{b,b'}\\Gamma^{\\widetilde{T}} \\right]\\text{tr}\\left[S_{u}(t_1, t_1)_{c_2,c_2}(\\gamma_{\\nu}e^{i\\mathbf{q}}) \\right]$"
      ],
      "text/plain": [
       "<IPython.core.display.Math object>"
      ]
     },
     "metadata": {},
     "output_type": "display_data"
    },
    {
     "data": {
      "text/latex": [
       "$\\displaystyle d_{8}=4.0\\epsilon_{a b c}\\epsilon_{a' b' c'}S_{u}(t_3, t_0)_{c,c'}\\text{tr}\\left[S_{u}(t_2, t_2)_{c_1,c_1}(\\gamma_{\\mu}e^{-i\\mathbf{q}}) \\right]\\text{tr}\\left[S_{u}(t_1, t_1)_{c_2,c_2}(\\gamma_{\\nu}e^{i\\mathbf{q}}) \\right]\\text{tr}\\left[S_{u}(t_3, t_0)_{a,a'}\\Gamma S_{d}^{\\widetilde{T}}(t_3, t_0)_{b,b'}\\Gamma^{\\widetilde{T}} \\right]$"
      ],
      "text/plain": [
       "<IPython.core.display.Math object>"
      ]
     },
     "metadata": {},
     "output_type": "display_data"
    },
    {
     "data": {
      "text/latex": [
       "$\\displaystyle d_{9}=-4.0\\epsilon_{a b c}\\epsilon_{a' b' c'}S_{u}(t_3, t_0)_{c,c'}\\text{tr}\\left[S_{u}(t_1, t_2)_{c_2,c_1}(\\gamma_{\\mu}e^{-i\\mathbf{q}}) S_{u}(t_2, t_1)_{c_1,c_2}(\\gamma_{\\nu}e^{i\\mathbf{q}}) \\right]\\text{tr}\\left[S_{u}(t_3, t_0)_{a,a'}\\Gamma S_{d}^{\\widetilde{T}}(t_3, t_0)_{b,b'}\\Gamma^{\\widetilde{T}} \\right]$"
      ],
      "text/plain": [
       "<IPython.core.display.Math object>"
      ]
     },
     "metadata": {},
     "output_type": "display_data"
    },
    {
     "data": {
      "text/latex": [
       "$\\displaystyle d_{10}=4.0\\epsilon_{a b c}\\epsilon_{a' b' c'}S_{u}(t_3, t_0)_{c,c'}\\text{tr}\\left[S_{u}(t_3, t_2)_{a,c_1}(\\gamma_{\\mu}e^{-i\\mathbf{q}}) S_{u}(t_2, t_1)_{c_1,c_2}(\\gamma_{\\nu}e^{i\\mathbf{q}}) S_{u}(t_1, t_0)_{c_2,a'}\\Gamma S_{d}^{\\widetilde{T}}(t_3, t_0)_{b,b'}\\Gamma^{\\widetilde{T}} \\right]$"
      ],
      "text/plain": [
       "<IPython.core.display.Math object>"
      ]
     },
     "metadata": {},
     "output_type": "display_data"
    },
    {
     "data": {
      "text/latex": [
       "$\\displaystyle d_{11}=-4.0\\epsilon_{a b c}\\epsilon_{a' b' c'}S_{u}(t_3, t_0)_{c,c'}\\text{tr}\\left[S_{u}(t_2, t_2)_{c_1,c_1}(\\gamma_{\\mu}e^{-i\\mathbf{q}}) \\right]\\text{tr}\\left[S_{u}(t_3, t_1)_{a,c_2}(\\gamma_{\\nu}e^{i\\mathbf{q}}) S_{u}(t_1, t_0)_{c_2,a'}\\Gamma S_{d}^{\\widetilde{T}}(t_3, t_0)_{b,b'}\\Gamma^{\\widetilde{T}} \\right]$"
      ],
      "text/plain": [
       "<IPython.core.display.Math object>"
      ]
     },
     "metadata": {},
     "output_type": "display_data"
    },
    {
     "data": {
      "text/latex": [
       "$\\displaystyle d_{12}=4.0\\epsilon_{a b c}\\epsilon_{a' b' c'}S_{u}(t_3, t_2)_{c,c_1}(\\gamma_{\\mu}e^{-i\\mathbf{q}}) S_{u}(t_2, t_0)_{c_1,c'}\\text{tr}\\left[S_{u}(t_3, t_1)_{a,c_2}(\\gamma_{\\nu}e^{i\\mathbf{q}}) S_{u}(t_1, t_0)_{c_2,a'}\\Gamma S_{d}^{\\widetilde{T}}(t_3, t_0)_{b,b'}\\Gamma^{\\widetilde{T}} \\right]$"
      ],
      "text/plain": [
       "<IPython.core.display.Math object>"
      ]
     },
     "metadata": {},
     "output_type": "display_data"
    },
    {
     "data": {
      "text/latex": [
       "$\\displaystyle d_{13}=-4.0\\epsilon_{a b c}\\epsilon_{a' b' c'}S_{u}(t_3, t_1)_{c,c_2}(\\gamma_{\\nu}e^{i\\mathbf{q}}) S_{u}(t_1, t_0)_{c_2,a'}\\Gamma S_{d}^{\\widetilde{T}}(t_3, t_0)_{b,b'}\\Gamma^{\\widetilde{T}} S_{u}(t_3, t_2)_{a,c_1}(\\gamma_{\\mu}e^{-i\\mathbf{q}}) S_{u}(t_2, t_0)_{c_1,c'}$"
      ],
      "text/plain": [
       "<IPython.core.display.Math object>"
      ]
     },
     "metadata": {},
     "output_type": "display_data"
    },
    {
     "data": {
      "text/latex": [
       "$\\displaystyle d_{14}=4.0\\epsilon_{a b c}\\epsilon_{a' b' c'}S_{u}(t_3, t_1)_{c,c_2}(\\gamma_{\\nu}e^{i\\mathbf{q}}) S_{u}(t_1, t_2)_{c_2,c_1}(\\gamma_{\\mu}e^{-i\\mathbf{q}}) S_{u}(t_2, t_0)_{c_1,c'}\\text{tr}\\left[S_{u}(t_3, t_0)_{a,a'}\\Gamma S_{d}^{\\widetilde{T}}(t_3, t_0)_{b,b'}\\Gamma^{\\widetilde{T}} \\right]$"
      ],
      "text/plain": [
       "<IPython.core.display.Math object>"
      ]
     },
     "metadata": {},
     "output_type": "display_data"
    },
    {
     "data": {
      "text/latex": [
       "$\\displaystyle d_{15}=-4.0\\epsilon_{a b c}\\epsilon_{a' b' c'}S_{u}(t_3, t_2)_{c,c_1}(\\gamma_{\\mu}e^{-i\\mathbf{q}}) S_{u}(t_2, t_0)_{c_1,c'}\\text{tr}\\left[S_{u}(t_1, t_1)_{c_2,c_2}(\\gamma_{\\nu}e^{i\\mathbf{q}}) \\right]\\text{tr}\\left[S_{u}(t_3, t_0)_{a,a'}\\Gamma S_{d}^{\\widetilde{T}}(t_3, t_0)_{b,b'}\\Gamma^{\\widetilde{T}} \\right]$"
      ],
      "text/plain": [
       "<IPython.core.display.Math object>"
      ]
     },
     "metadata": {},
     "output_type": "display_data"
    },
    {
     "data": {
      "text/latex": [
       "$\\displaystyle d_{16}=4.0\\epsilon_{a b c}\\epsilon_{a' b' c'}S_{u}(t_3, t_0)_{c,a'}\\Gamma S_{d}^{\\widetilde{T}}(t_3, t_0)_{b,b'}\\Gamma^{\\widetilde{T}} S_{u}(t_3, t_2)_{a,c_1}(\\gamma_{\\mu}e^{-i\\mathbf{q}}) S_{u}(t_2, t_0)_{c_1,c'}\\text{tr}\\left[S_{u}(t_1, t_1)_{c_2,c_2}(\\gamma_{\\nu}e^{i\\mathbf{q}}) \\right]$"
      ],
      "text/plain": [
       "<IPython.core.display.Math object>"
      ]
     },
     "metadata": {},
     "output_type": "display_data"
    },
    {
     "data": {
      "text/latex": [
       "$\\displaystyle d_{17}=-4.0\\epsilon_{a b c}\\epsilon_{a' b' c'}S_{u}(t_3, t_0)_{c,a'}\\Gamma S_{d}^{\\widetilde{T}}(t_3, t_0)_{b,b'}\\Gamma^{\\widetilde{T}} S_{u}(t_3, t_1)_{a,c_2}(\\gamma_{\\nu}e^{i\\mathbf{q}}) S_{u}(t_1, t_2)_{c_2,c_1}(\\gamma_{\\mu}e^{-i\\mathbf{q}}) S_{u}(t_2, t_0)_{c_1,c'}$"
      ],
      "text/plain": [
       "<IPython.core.display.Math object>"
      ]
     },
     "metadata": {},
     "output_type": "display_data"
    },
    {
     "data": {
      "text/latex": [
       "$\\displaystyle d_{18}=4.0\\epsilon_{a b c}\\epsilon_{a' b' c'}S_{u}(t_3, t_2)_{c,c_1}(\\gamma_{\\mu}e^{-i\\mathbf{q}}) S_{u}(t_2, t_0)_{c_1,a'}\\Gamma S_{d}^{\\widetilde{T}}(t_3, t_0)_{b,b'}\\Gamma^{\\widetilde{T}} S_{u}(t_3, t_0)_{a,c'}\\text{tr}\\left[S_{u}(t_1, t_1)_{c_2,c_2}(\\gamma_{\\nu}e^{i\\mathbf{q}}) \\right]$"
      ],
      "text/plain": [
       "<IPython.core.display.Math object>"
      ]
     },
     "metadata": {},
     "output_type": "display_data"
    },
    {
     "data": {
      "text/latex": [
       "$\\displaystyle d_{19}=-4.0\\epsilon_{a b c}\\epsilon_{a' b' c'}S_{u}(t_3, t_1)_{c,c_2}(\\gamma_{\\nu}e^{i\\mathbf{q}}) S_{u}(t_1, t_2)_{c_2,c_1}(\\gamma_{\\mu}e^{-i\\mathbf{q}}) S_{u}(t_2, t_0)_{c_1,a'}\\Gamma S_{d}^{\\widetilde{T}}(t_3, t_0)_{b,b'}\\Gamma^{\\widetilde{T}} S_{u}(t_3, t_0)_{a,c'}$"
      ],
      "text/plain": [
       "<IPython.core.display.Math object>"
      ]
     },
     "metadata": {},
     "output_type": "display_data"
    },
    {
     "data": {
      "text/latex": [
       "$\\displaystyle d_{20}=4.0\\epsilon_{a b c}\\epsilon_{a' b' c'}S_{u}(t_3, t_1)_{c,c_2}(\\gamma_{\\nu}e^{i\\mathbf{q}}) S_{u}(t_1, t_0)_{c_2,a'}\\Gamma S_{d}^{\\widetilde{T}}(t_3, t_0)_{b,b'}\\Gamma^{\\widetilde{T}} S_{u}(t_3, t_0)_{a,c'}\\text{tr}\\left[S_{u}(t_2, t_2)_{c_1,c_1}(\\gamma_{\\mu}e^{-i\\mathbf{q}}) \\right]$"
      ],
      "text/plain": [
       "<IPython.core.display.Math object>"
      ]
     },
     "metadata": {},
     "output_type": "display_data"
    },
    {
     "data": {
      "text/latex": [
       "$\\displaystyle d_{21}=-4.0\\epsilon_{a b c}\\epsilon_{a' b' c'}S_{u}(t_3, t_2)_{c,c_1}(\\gamma_{\\mu}e^{-i\\mathbf{q}}) S_{u}(t_2, t_1)_{c_1,c_2}(\\gamma_{\\nu}e^{i\\mathbf{q}}) S_{u}(t_1, t_0)_{c_2,a'}\\Gamma S_{d}^{\\widetilde{T}}(t_3, t_0)_{b,b'}\\Gamma^{\\widetilde{T}} S_{u}(t_3, t_0)_{a,c'}$"
      ],
      "text/plain": [
       "<IPython.core.display.Math object>"
      ]
     },
     "metadata": {},
     "output_type": "display_data"
    },
    {
     "data": {
      "text/latex": [
       "$\\displaystyle d_{22}=4.0\\epsilon_{a b c}\\epsilon_{a' b' c'}S_{u}(t_3, t_0)_{c,a'}\\Gamma S_{d}^{\\widetilde{T}}(t_3, t_0)_{b,b'}\\Gamma^{\\widetilde{T}} S_{u}(t_3, t_0)_{a,c'}\\text{tr}\\left[S_{u}(t_1, t_2)_{c_2,c_1}(\\gamma_{\\mu}e^{-i\\mathbf{q}}) S_{u}(t_2, t_1)_{c_1,c_2}(\\gamma_{\\nu}e^{i\\mathbf{q}}) \\right]$"
      ],
      "text/plain": [
       "<IPython.core.display.Math object>"
      ]
     },
     "metadata": {},
     "output_type": "display_data"
    },
    {
     "data": {
      "text/latex": [
       "$\\displaystyle d_{23}=-4.0\\epsilon_{a b c}\\epsilon_{a' b' c'}S_{u}(t_3, t_0)_{c,a'}\\Gamma S_{d}^{\\widetilde{T}}(t_3, t_0)_{b,b'}\\Gamma^{\\widetilde{T}} S_{u}(t_3, t_0)_{a,c'}\\text{tr}\\left[S_{u}(t_2, t_2)_{c_1,c_1}(\\gamma_{\\mu}e^{-i\\mathbf{q}}) \\right]\\text{tr}\\left[S_{u}(t_1, t_1)_{c_2,c_2}(\\gamma_{\\nu}e^{i\\mathbf{q}}) \\right]$"
      ],
      "text/plain": [
       "<IPython.core.display.Math object>"
      ]
     },
     "metadata": {},
     "output_type": "display_data"
    },
    {
     "data": {
      "text/latex": [
       "$\\displaystyle d_{24}=2.0\\epsilon_{a b c}\\epsilon_{a' b' c'}S_{u}(t_3, t_0)_{c,c'}\\text{tr}\\left[S_{u}(t_2, t_2)_{c_1,c_1}(\\gamma_{\\mu}e^{-i\\mathbf{q}}) \\right]\\text{tr}\\left[S_{d}(t_3, t_1)_{b,c_2}(\\gamma_{\\nu}e^{i\\mathbf{q}}) S_{d}(t_1, t_0)_{c_2,b'}\\Gamma^{\\widetilde{T}} S_{u}^{\\widetilde{T}}(t_3, t_0)_{a,a'}\\Gamma \\right]$"
      ],
      "text/plain": [
       "<IPython.core.display.Math object>"
      ]
     },
     "metadata": {},
     "output_type": "display_data"
    },
    {
     "data": {
      "text/latex": [
       "$\\displaystyle d_{25}=-2.0\\epsilon_{a b c}\\epsilon_{a' b' c'}S_{u}(t_3, t_0)_{c,c'}\\text{tr}\\left[S_{u}(t_3, t_2)_{a,c_1}(\\gamma_{\\mu}e^{-i\\mathbf{q}}) S_{u}(t_2, t_0)_{c_1,a'}\\Gamma S_{d}^{\\widetilde{T}}(t_1, t_0)_{c_2,b'}(\\gamma_{\\nu}e^{i\\mathbf{q}})^{\\widetilde{T}} S_{d}^{\\widetilde{T}}(t_3, t_1)_{b,c_2}\\Gamma^{\\widetilde{T}} \\right]$"
      ],
      "text/plain": [
       "<IPython.core.display.Math object>"
      ]
     },
     "metadata": {},
     "output_type": "display_data"
    },
    {
     "data": {
      "text/latex": [
       "$\\displaystyle d_{26}=2.0\\epsilon_{a b c}\\epsilon_{a' b' c'}S_{u}(t_3, t_0)_{c,c'}\\text{tr}\\left[S_{u}(t_3, t_2)_{a,c_1}(\\gamma_{\\mu}e^{-i\\mathbf{q}}) S_{u}(t_2, t_0)_{c_1,a'}\\Gamma S_{d}^{\\widetilde{T}}(t_3, t_0)_{b,b'}\\Gamma^{\\widetilde{T}} \\right]\\text{tr}\\left[S_{d}(t_1, t_1)_{c_2,c_2}(\\gamma_{\\nu}e^{i\\mathbf{q}}) \\right]$"
      ],
      "text/plain": [
       "<IPython.core.display.Math object>"
      ]
     },
     "metadata": {},
     "output_type": "display_data"
    },
    {
     "data": {
      "text/latex": [
       "$\\displaystyle d_{27}=-2.0\\epsilon_{a b c}\\epsilon_{a' b' c'}S_{u}(t_3, t_0)_{c,c'}\\text{tr}\\left[S_{u}(t_2, t_2)_{c_1,c_1}(\\gamma_{\\mu}e^{-i\\mathbf{q}}) \\right]\\text{tr}\\left[S_{d}(t_1, t_1)_{c_2,c_2}(\\gamma_{\\nu}e^{i\\mathbf{q}}) \\right]\\text{tr}\\left[S_{u}(t_3, t_0)_{a,a'}\\Gamma S_{d}^{\\widetilde{T}}(t_3, t_0)_{b,b'}\\Gamma^{\\widetilde{T}} \\right]$"
      ],
      "text/plain": [
       "<IPython.core.display.Math object>"
      ]
     },
     "metadata": {},
     "output_type": "display_data"
    },
    {
     "data": {
      "text/latex": [
       "$\\displaystyle d_{28}=2.0\\epsilon_{a b c}\\epsilon_{a' b' c'}S_{u}(t_3, t_2)_{c,c_1}(\\gamma_{\\mu}e^{-i\\mathbf{q}}) S_{u}(t_2, t_0)_{c_1,c'}\\text{tr}\\left[S_{d}(t_1, t_1)_{c_2,c_2}(\\gamma_{\\nu}e^{i\\mathbf{q}}) \\right]\\text{tr}\\left[S_{u}(t_3, t_0)_{a,a'}\\Gamma S_{d}^{\\widetilde{T}}(t_3, t_0)_{b,b'}\\Gamma^{\\widetilde{T}} \\right]$"
      ],
      "text/plain": [
       "<IPython.core.display.Math object>"
      ]
     },
     "metadata": {},
     "output_type": "display_data"
    },
    {
     "data": {
      "text/latex": [
       "$\\displaystyle d_{29}=-2.0\\epsilon_{a b c}\\epsilon_{a' b' c'}S_{u}(t_3, t_0)_{c,a'}\\Gamma S_{d}^{\\widetilde{T}}(t_3, t_0)_{b,b'}\\Gamma^{\\widetilde{T}} S_{u}(t_3, t_2)_{a,c_1}(\\gamma_{\\mu}e^{-i\\mathbf{q}}) S_{u}(t_2, t_0)_{c_1,c'}\\text{tr}\\left[S_{d}(t_1, t_1)_{c_2,c_2}(\\gamma_{\\nu}e^{i\\mathbf{q}}) \\right]$"
      ],
      "text/plain": [
       "<IPython.core.display.Math object>"
      ]
     },
     "metadata": {},
     "output_type": "display_data"
    },
    {
     "data": {
      "text/latex": [
       "$\\displaystyle d_{30}=2.0\\epsilon_{a b c}\\epsilon_{a' b' c'}S_{u}(t_3, t_0)_{c,a'}\\Gamma S_{d}^{\\widetilde{T}}(t_1, t_0)_{c_2,b'}(\\gamma_{\\nu}e^{i\\mathbf{q}})^{\\widetilde{T}} S_{d}^{\\widetilde{T}}(t_3, t_1)_{b,c_2}\\Gamma^{\\widetilde{T}} S_{u}(t_3, t_2)_{a,c_1}(\\gamma_{\\mu}e^{-i\\mathbf{q}}) S_{u}(t_2, t_0)_{c_1,c'}$"
      ],
      "text/plain": [
       "<IPython.core.display.Math object>"
      ]
     },
     "metadata": {},
     "output_type": "display_data"
    },
    {
     "data": {
      "text/latex": [
       "$\\displaystyle d_{31}=-2.0\\epsilon_{a b c}\\epsilon_{a' b' c'}S_{u}(t_3, t_2)_{c,c_1}(\\gamma_{\\mu}e^{-i\\mathbf{q}}) S_{u}(t_2, t_0)_{c_1,c'}\\text{tr}\\left[S_{d}(t_3, t_1)_{b,c_2}(\\gamma_{\\nu}e^{i\\mathbf{q}}) S_{d}(t_1, t_0)_{c_2,b'}\\Gamma^{\\widetilde{T}} S_{u}^{\\widetilde{T}}(t_3, t_0)_{a,a'}\\Gamma \\right]$"
      ],
      "text/plain": [
       "<IPython.core.display.Math object>"
      ]
     },
     "metadata": {},
     "output_type": "display_data"
    },
    {
     "data": {
      "text/latex": [
       "$\\displaystyle d_{32}=-2.0\\epsilon_{a b c}\\epsilon_{a' b' c'}S_{u}(t_3, t_2)_{c,c_1}(\\gamma_{\\mu}e^{-i\\mathbf{q}}) S_{u}(t_2, t_0)_{c_1,a'}\\Gamma S_{d}^{\\widetilde{T}}(t_3, t_0)_{b,b'}\\Gamma^{\\widetilde{T}} S_{u}(t_3, t_0)_{a,c'}\\text{tr}\\left[S_{d}(t_1, t_1)_{c_2,c_2}(\\gamma_{\\nu}e^{i\\mathbf{q}}) \\right]$"
      ],
      "text/plain": [
       "<IPython.core.display.Math object>"
      ]
     },
     "metadata": {},
     "output_type": "display_data"
    },
    {
     "data": {
      "text/latex": [
       "$\\displaystyle d_{33}=2.0\\epsilon_{a b c}\\epsilon_{a' b' c'}S_{u}(t_3, t_0)_{c,a'}\\Gamma S_{d}^{\\widetilde{T}}(t_3, t_0)_{b,b'}\\Gamma^{\\widetilde{T}} S_{u}(t_3, t_0)_{a,c'}\\text{tr}\\left[S_{u}(t_2, t_2)_{c_1,c_1}(\\gamma_{\\mu}e^{-i\\mathbf{q}}) \\right]\\text{tr}\\left[S_{d}(t_1, t_1)_{c_2,c_2}(\\gamma_{\\nu}e^{i\\mathbf{q}}) \\right]$"
      ],
      "text/plain": [
       "<IPython.core.display.Math object>"
      ]
     },
     "metadata": {},
     "output_type": "display_data"
    },
    {
     "data": {
      "text/latex": [
       "$\\displaystyle d_{34}=-2.0\\epsilon_{a b c}\\epsilon_{a' b' c'}S_{u}(t_3, t_0)_{c,a'}\\Gamma S_{d}^{\\widetilde{T}}(t_1, t_0)_{c_2,b'}(\\gamma_{\\nu}e^{i\\mathbf{q}})^{\\widetilde{T}} S_{d}^{\\widetilde{T}}(t_3, t_1)_{b,c_2}\\Gamma^{\\widetilde{T}} S_{u}(t_3, t_0)_{a,c'}\\text{tr}\\left[S_{u}(t_2, t_2)_{c_1,c_1}(\\gamma_{\\mu}e^{-i\\mathbf{q}}) \\right]$"
      ],
      "text/plain": [
       "<IPython.core.display.Math object>"
      ]
     },
     "metadata": {},
     "output_type": "display_data"
    },
    {
     "data": {
      "text/latex": [
       "$\\displaystyle d_{35}=2.0\\epsilon_{a b c}\\epsilon_{a' b' c'}S_{u}(t_3, t_2)_{c,c_1}(\\gamma_{\\mu}e^{-i\\mathbf{q}}) S_{u}(t_2, t_0)_{c_1,a'}\\Gamma S_{d}^{\\widetilde{T}}(t_1, t_0)_{c_2,b'}(\\gamma_{\\nu}e^{i\\mathbf{q}})^{\\widetilde{T}} S_{d}^{\\widetilde{T}}(t_3, t_1)_{b,c_2}\\Gamma^{\\widetilde{T}} S_{u}(t_3, t_0)_{a,c'}$"
      ],
      "text/plain": [
       "<IPython.core.display.Math object>"
      ]
     },
     "metadata": {},
     "output_type": "display_data"
    },
    {
     "data": {
      "text/latex": [
       "$\\displaystyle d_{36}=2.0\\epsilon_{a b c}\\epsilon_{a' b' c'}S_{u}(t_3, t_0)_{c,a'}\\Gamma S_{d}^{\\widetilde{T}}(t_2, t_0)_{c_1,b'}(\\gamma_{\\mu}e^{-i\\mathbf{q}})^{\\widetilde{T}} S_{d}^{\\widetilde{T}}(t_3, t_2)_{b,c_1}\\Gamma^{\\widetilde{T}} S_{u}(t_3, t_1)_{a,c_2}(\\gamma_{\\nu}e^{i\\mathbf{q}}) S_{u}(t_1, t_0)_{c_2,c'}$"
      ],
      "text/plain": [
       "<IPython.core.display.Math object>"
      ]
     },
     "metadata": {},
     "output_type": "display_data"
    },
    {
     "data": {
      "text/latex": [
       "$\\displaystyle d_{37}=-2.0\\epsilon_{a b c}\\epsilon_{a' b' c'}S_{u}(t_3, t_1)_{c,c_2}(\\gamma_{\\nu}e^{i\\mathbf{q}}) S_{u}(t_1, t_0)_{c_2,c'}\\text{tr}\\left[S_{d}(t_3, t_2)_{b,c_1}(\\gamma_{\\mu}e^{-i\\mathbf{q}}) S_{d}(t_2, t_0)_{c_1,b'}\\Gamma^{\\widetilde{T}} S_{u}^{\\widetilde{T}}(t_3, t_0)_{a,a'}\\Gamma \\right]$"
      ],
      "text/plain": [
       "<IPython.core.display.Math object>"
      ]
     },
     "metadata": {},
     "output_type": "display_data"
    },
    {
     "data": {
      "text/latex": [
       "$\\displaystyle d_{38}=-2.0\\epsilon_{a b c}\\epsilon_{a' b' c'}S_{u}(t_3, t_0)_{c,a'}\\Gamma S_{d}^{\\widetilde{T}}(t_3, t_0)_{b,b'}\\Gamma^{\\widetilde{T}} S_{u}(t_3, t_1)_{a,c_2}(\\gamma_{\\nu}e^{i\\mathbf{q}}) S_{u}(t_1, t_0)_{c_2,c'}\\text{tr}\\left[S_{d}(t_2, t_2)_{c_1,c_1}(\\gamma_{\\mu}e^{-i\\mathbf{q}}) \\right]$"
      ],
      "text/plain": [
       "<IPython.core.display.Math object>"
      ]
     },
     "metadata": {},
     "output_type": "display_data"
    },
    {
     "data": {
      "text/latex": [
       "$\\displaystyle d_{39}=2.0\\epsilon_{a b c}\\epsilon_{a' b' c'}S_{u}(t_3, t_1)_{c,c_2}(\\gamma_{\\nu}e^{i\\mathbf{q}}) S_{u}(t_1, t_0)_{c_2,c'}\\text{tr}\\left[S_{d}(t_2, t_2)_{c_1,c_1}(\\gamma_{\\mu}e^{-i\\mathbf{q}}) \\right]\\text{tr}\\left[S_{u}(t_3, t_0)_{a,a'}\\Gamma S_{d}^{\\widetilde{T}}(t_3, t_0)_{b,b'}\\Gamma^{\\widetilde{T}} \\right]$"
      ],
      "text/plain": [
       "<IPython.core.display.Math object>"
      ]
     },
     "metadata": {},
     "output_type": "display_data"
    },
    {
     "data": {
      "text/latex": [
       "$\\displaystyle d_{40}=-2.0\\epsilon_{a b c}\\epsilon_{a' b' c'}S_{u}(t_3, t_0)_{c,c'}\\text{tr}\\left[S_{d}(t_3, t_2)_{b,c_1}(\\gamma_{\\mu}e^{-i\\mathbf{q}}) S_{d}(t_2, t_0)_{c_1,b'}\\Gamma^{\\widetilde{T}} S_{u}^{\\widetilde{T}}(t_1, t_0)_{c_2,a'}(\\gamma_{\\nu}e^{i\\mathbf{q}})^{\\widetilde{T}} S_{u}^{\\widetilde{T}}(t_3, t_1)_{a,c_2}\\Gamma \\right]$"
      ],
      "text/plain": [
       "<IPython.core.display.Math object>"
      ]
     },
     "metadata": {},
     "output_type": "display_data"
    },
    {
     "data": {
      "text/latex": [
       "$\\displaystyle d_{41}=2.0\\epsilon_{a b c}\\epsilon_{a' b' c'}S_{u}(t_3, t_0)_{c,c'}\\text{tr}\\left[S_{d}(t_3, t_2)_{b,c_1}(\\gamma_{\\mu}e^{-i\\mathbf{q}}) S_{d}(t_2, t_0)_{c_1,b'}\\Gamma^{\\widetilde{T}} S_{u}^{\\widetilde{T}}(t_3, t_0)_{a,a'}\\Gamma \\right]\\text{tr}\\left[S_{u}(t_1, t_1)_{c_2,c_2}(\\gamma_{\\nu}e^{i\\mathbf{q}}) \\right]$"
      ],
      "text/plain": [
       "<IPython.core.display.Math object>"
      ]
     },
     "metadata": {},
     "output_type": "display_data"
    },
    {
     "data": {
      "text/latex": [
       "$\\displaystyle d_{42}=-2.0\\epsilon_{a b c}\\epsilon_{a' b' c'}S_{u}(t_3, t_0)_{c,c'}\\text{tr}\\left[S_{d}(t_2, t_2)_{c_1,c_1}(\\gamma_{\\mu}e^{-i\\mathbf{q}}) \\right]\\text{tr}\\left[S_{u}(t_1, t_1)_{c_2,c_2}(\\gamma_{\\nu}e^{i\\mathbf{q}}) \\right]\\text{tr}\\left[S_{u}(t_3, t_0)_{a,a'}\\Gamma S_{d}^{\\widetilde{T}}(t_3, t_0)_{b,b'}\\Gamma^{\\widetilde{T}} \\right]$"
      ],
      "text/plain": [
       "<IPython.core.display.Math object>"
      ]
     },
     "metadata": {},
     "output_type": "display_data"
    },
    {
     "data": {
      "text/latex": [
       "$\\displaystyle d_{43}=2.0\\epsilon_{a b c}\\epsilon_{a' b' c'}S_{u}(t_3, t_0)_{c,c'}\\text{tr}\\left[S_{d}(t_2, t_2)_{c_1,c_1}(\\gamma_{\\mu}e^{-i\\mathbf{q}}) \\right]\\text{tr}\\left[S_{u}(t_3, t_1)_{a,c_2}(\\gamma_{\\nu}e^{i\\mathbf{q}}) S_{u}(t_1, t_0)_{c_2,a'}\\Gamma S_{d}^{\\widetilde{T}}(t_3, t_0)_{b,b'}\\Gamma^{\\widetilde{T}} \\right]$"
      ],
      "text/plain": [
       "<IPython.core.display.Math object>"
      ]
     },
     "metadata": {},
     "output_type": "display_data"
    },
    {
     "data": {
      "text/latex": [
       "$\\displaystyle d_{44}=-2.0\\epsilon_{a b c}\\epsilon_{a' b' c'}S_{u}(t_3, t_1)_{c,c_2}(\\gamma_{\\nu}e^{i\\mathbf{q}}) S_{u}(t_1, t_0)_{c_2,a'}\\Gamma S_{d}^{\\widetilde{T}}(t_3, t_0)_{b,b'}\\Gamma^{\\widetilde{T}} S_{u}(t_3, t_0)_{a,c'}\\text{tr}\\left[S_{d}(t_2, t_2)_{c_1,c_1}(\\gamma_{\\mu}e^{-i\\mathbf{q}}) \\right]$"
      ],
      "text/plain": [
       "<IPython.core.display.Math object>"
      ]
     },
     "metadata": {},
     "output_type": "display_data"
    },
    {
     "data": {
      "text/latex": [
       "$\\displaystyle d_{45}=2.0\\epsilon_{a b c}\\epsilon_{a' b' c'}S_{u}(t_3, t_0)_{c,a'}\\Gamma S_{d}^{\\widetilde{T}}(t_3, t_0)_{b,b'}\\Gamma^{\\widetilde{T}} S_{u}(t_3, t_0)_{a,c'}\\text{tr}\\left[S_{d}(t_2, t_2)_{c_1,c_1}(\\gamma_{\\mu}e^{-i\\mathbf{q}}) \\right]\\text{tr}\\left[S_{u}(t_1, t_1)_{c_2,c_2}(\\gamma_{\\nu}e^{i\\mathbf{q}}) \\right]$"
      ],
      "text/plain": [
       "<IPython.core.display.Math object>"
      ]
     },
     "metadata": {},
     "output_type": "display_data"
    },
    {
     "data": {
      "text/latex": [
       "$\\displaystyle d_{46}=2.0\\epsilon_{a b c}\\epsilon_{a' b' c'}S_{u}(t_3, t_1)_{c,c_2}(\\gamma_{\\nu}e^{i\\mathbf{q}}) S_{u}(t_1, t_0)_{c_2,a'}\\Gamma S_{d}^{\\widetilde{T}}(t_2, t_0)_{c_1,b'}(\\gamma_{\\mu}e^{-i\\mathbf{q}})^{\\widetilde{T}} S_{d}^{\\widetilde{T}}(t_3, t_2)_{b,c_1}\\Gamma^{\\widetilde{T}} S_{u}(t_3, t_0)_{a,c'}$"
      ],
      "text/plain": [
       "<IPython.core.display.Math object>"
      ]
     },
     "metadata": {},
     "output_type": "display_data"
    },
    {
     "data": {
      "text/latex": [
       "$\\displaystyle d_{47}=-2.0\\epsilon_{a b c}\\epsilon_{a' b' c'}S_{u}(t_3, t_0)_{c,a'}\\Gamma S_{d}^{\\widetilde{T}}(t_2, t_0)_{c_1,b'}(\\gamma_{\\mu}e^{-i\\mathbf{q}})^{\\widetilde{T}} S_{d}^{\\widetilde{T}}(t_3, t_2)_{b,c_1}\\Gamma^{\\widetilde{T}} S_{u}(t_3, t_0)_{a,c'}\\text{tr}\\left[S_{u}(t_1, t_1)_{c_2,c_2}(\\gamma_{\\nu}e^{i\\mathbf{q}}) \\right]$"
      ],
      "text/plain": [
       "<IPython.core.display.Math object>"
      ]
     },
     "metadata": {},
     "output_type": "display_data"
    },
    {
     "data": {
      "text/latex": [
       "$\\displaystyle d_{48}=1.0\\epsilon_{a b c}\\epsilon_{a' b' c'}S_{u}(t_3, t_0)_{c,c'}\\text{tr}\\left[S_{d}(t_3, t_2)_{b,c_1}(\\gamma_{\\mu}e^{-i\\mathbf{q}}) S_{d}(t_2, t_1)_{c_1,c_2}(\\gamma_{\\nu}e^{i\\mathbf{q}}) S_{d}(t_1, t_0)_{c_2,b'}\\Gamma^{\\widetilde{T}} S_{u}^{\\widetilde{T}}(t_3, t_0)_{a,a'}\\Gamma \\right]$"
      ],
      "text/plain": [
       "<IPython.core.display.Math object>"
      ]
     },
     "metadata": {},
     "output_type": "display_data"
    },
    {
     "data": {
      "text/latex": [
       "$\\displaystyle d_{49}=-1.0\\epsilon_{a b c}\\epsilon_{a' b' c'}S_{u}(t_3, t_0)_{c,c'}\\text{tr}\\left[S_{d}(t_2, t_2)_{c_1,c_1}(\\gamma_{\\mu}e^{-i\\mathbf{q}}) \\right]\\text{tr}\\left[S_{d}(t_3, t_1)_{b,c_2}(\\gamma_{\\nu}e^{i\\mathbf{q}}) S_{d}(t_1, t_0)_{c_2,b'}\\Gamma^{\\widetilde{T}} S_{u}^{\\widetilde{T}}(t_3, t_0)_{a,a'}\\Gamma \\right]$"
      ],
      "text/plain": [
       "<IPython.core.display.Math object>"
      ]
     },
     "metadata": {},
     "output_type": "display_data"
    },
    {
     "data": {
      "text/latex": [
       "$\\displaystyle d_{50}=1.0\\epsilon_{a b c}\\epsilon_{a' b' c'}S_{u}(t_3, t_0)_{c,c'}\\text{tr}\\left[S_{d}(t_1, t_2)_{c_2,c_1}(\\gamma_{\\mu}e^{-i\\mathbf{q}}) S_{d}(t_2, t_0)_{c_1,b'}\\Gamma^{\\widetilde{T}} S_{u}^{\\widetilde{T}}(t_3, t_0)_{a,a'}\\Gamma S_{d}(t_3, t_1)_{b,c_2}(\\gamma_{\\nu}e^{i\\mathbf{q}}) \\right]$"
      ],
      "text/plain": [
       "<IPython.core.display.Math object>"
      ]
     },
     "metadata": {},
     "output_type": "display_data"
    },
    {
     "data": {
      "text/latex": [
       "$\\displaystyle d_{51}=-1.0\\epsilon_{a b c}\\epsilon_{a' b' c'}S_{u}(t_3, t_0)_{c,c'}\\text{tr}\\left[S_{d}(t_3, t_2)_{b,c_1}(\\gamma_{\\mu}e^{-i\\mathbf{q}}) S_{d}(t_2, t_0)_{c_1,b'}\\Gamma^{\\widetilde{T}} S_{u}^{\\widetilde{T}}(t_3, t_0)_{a,a'}\\Gamma \\right]\\text{tr}\\left[S_{d}(t_1, t_1)_{c_2,c_2}(\\gamma_{\\nu}e^{i\\mathbf{q}}) \\right]$"
      ],
      "text/plain": [
       "<IPython.core.display.Math object>"
      ]
     },
     "metadata": {},
     "output_type": "display_data"
    },
    {
     "data": {
      "text/latex": [
       "$\\displaystyle d_{52}=1.0\\epsilon_{a b c}\\epsilon_{a' b' c'}S_{u}(t_3, t_0)_{c,c'}\\text{tr}\\left[S_{d}(t_2, t_2)_{c_1,c_1}(\\gamma_{\\mu}e^{-i\\mathbf{q}}) \\right]\\text{tr}\\left[S_{d}(t_1, t_1)_{c_2,c_2}(\\gamma_{\\nu}e^{i\\mathbf{q}}) \\right]\\text{tr}\\left[S_{u}(t_3, t_0)_{a,a'}\\Gamma S_{d}^{\\widetilde{T}}(t_3, t_0)_{b,b'}\\Gamma^{\\widetilde{T}} \\right]$"
      ],
      "text/plain": [
       "<IPython.core.display.Math object>"
      ]
     },
     "metadata": {},
     "output_type": "display_data"
    },
    {
     "data": {
      "text/latex": [
       "$\\displaystyle d_{53}=-1.0\\epsilon_{a b c}\\epsilon_{a' b' c'}S_{u}(t_3, t_0)_{c,c'}\\text{tr}\\left[S_{d}(t_1, t_2)_{c_2,c_1}(\\gamma_{\\mu}e^{-i\\mathbf{q}}) S_{d}(t_2, t_1)_{c_1,c_2}(\\gamma_{\\nu}e^{i\\mathbf{q}}) \\right]\\text{tr}\\left[S_{u}(t_3, t_0)_{a,a'}\\Gamma S_{d}^{\\widetilde{T}}(t_3, t_0)_{b,b'}\\Gamma^{\\widetilde{T}} \\right]$"
      ],
      "text/plain": [
       "<IPython.core.display.Math object>"
      ]
     },
     "metadata": {},
     "output_type": "display_data"
    },
    {
     "data": {
      "text/latex": [
       "$\\displaystyle d_{54}=1.0\\epsilon_{a b c}\\epsilon_{a' b' c'}S_{u}(t_3, t_0)_{c,a'}\\Gamma S_{d}^{\\widetilde{T}}(t_3, t_0)_{b,b'}\\Gamma^{\\widetilde{T}} S_{u}(t_3, t_0)_{a,c'}\\text{tr}\\left[S_{d}(t_1, t_2)_{c_2,c_1}(\\gamma_{\\mu}e^{-i\\mathbf{q}}) S_{d}(t_2, t_1)_{c_1,c_2}(\\gamma_{\\nu}e^{i\\mathbf{q}}) \\right]$"
      ],
      "text/plain": [
       "<IPython.core.display.Math object>"
      ]
     },
     "metadata": {},
     "output_type": "display_data"
    },
    {
     "data": {
      "text/latex": [
       "$\\displaystyle d_{55}=-1.0\\epsilon_{a b c}\\epsilon_{a' b' c'}S_{u}(t_3, t_0)_{c,a'}\\Gamma S_{d}^{\\widetilde{T}}(t_3, t_0)_{b,b'}\\Gamma^{\\widetilde{T}} S_{u}(t_3, t_0)_{a,c'}\\text{tr}\\left[S_{d}(t_2, t_2)_{c_1,c_1}(\\gamma_{\\mu}e^{-i\\mathbf{q}}) \\right]\\text{tr}\\left[S_{d}(t_1, t_1)_{c_2,c_2}(\\gamma_{\\nu}e^{i\\mathbf{q}}) \\right]$"
      ],
      "text/plain": [
       "<IPython.core.display.Math object>"
      ]
     },
     "metadata": {},
     "output_type": "display_data"
    },
    {
     "data": {
      "text/latex": [
       "$\\displaystyle d_{56}=1.0\\epsilon_{a b c}\\epsilon_{a' b' c'}S_{u}(t_3, t_0)_{c,a'}\\Gamma S_{d}^{\\widetilde{T}}(t_1, t_0)_{c_2,b'}(\\gamma_{\\nu}e^{i\\mathbf{q}})^{\\widetilde{T}} S_{d}^{\\widetilde{T}}(t_3, t_1)_{b,c_2}\\Gamma^{\\widetilde{T}} S_{u}(t_3, t_0)_{a,c'}\\text{tr}\\left[S_{d}(t_2, t_2)_{c_1,c_1}(\\gamma_{\\mu}e^{-i\\mathbf{q}}) \\right]$"
      ],
      "text/plain": [
       "<IPython.core.display.Math object>"
      ]
     },
     "metadata": {},
     "output_type": "display_data"
    },
    {
     "data": {
      "text/latex": [
       "$\\displaystyle d_{57}=-1.0\\epsilon_{a b c}\\epsilon_{a' b' c'}S_{u}(t_3, t_0)_{c,a'}\\Gamma S_{d}^{\\widetilde{T}}(t_1, t_0)_{c_2,b'}(\\gamma_{\\nu}e^{i\\mathbf{q}})^{\\widetilde{T}} S_{d}^{\\widetilde{T}}(t_2, t_1)_{c_1,c_2}(\\gamma_{\\mu}e^{-i\\mathbf{q}})^{\\widetilde{T}} S_{d}^{\\widetilde{T}}(t_3, t_2)_{b,c_1}\\Gamma^{\\widetilde{T}} S_{u}(t_3, t_0)_{a,c'}$"
      ],
      "text/plain": [
       "<IPython.core.display.Math object>"
      ]
     },
     "metadata": {},
     "output_type": "display_data"
    },
    {
     "data": {
      "text/latex": [
       "$\\displaystyle d_{58}=1.0\\epsilon_{a b c}\\epsilon_{a' b' c'}S_{u}(t_3, t_0)_{c,a'}\\Gamma S_{d}^{\\widetilde{T}}(t_2, t_0)_{c_1,b'}(\\gamma_{\\mu}e^{-i\\mathbf{q}})^{\\widetilde{T}} S_{d}^{\\widetilde{T}}(t_3, t_2)_{b,c_1}\\Gamma^{\\widetilde{T}} S_{u}(t_3, t_0)_{a,c'}\\text{tr}\\left[S_{d}(t_1, t_1)_{c_2,c_2}(\\gamma_{\\nu}e^{i\\mathbf{q}}) \\right]$"
      ],
      "text/plain": [
       "<IPython.core.display.Math object>"
      ]
     },
     "metadata": {},
     "output_type": "display_data"
    },
    {
     "data": {
      "text/latex": [
       "$\\displaystyle d_{59}=-1.0\\epsilon_{a b c}\\epsilon_{a' b' c'}S_{u}(t_3, t_0)_{c,a'}\\Gamma S_{d}^{\\widetilde{T}}(t_2, t_0)_{c_1,b'}(\\gamma_{\\mu}e^{-i\\mathbf{q}})^{\\widetilde{T}} S_{d}^{\\widetilde{T}}(t_1, t_2)_{c_2,c_1}(\\gamma_{\\nu}e^{i\\mathbf{q}})^{\\widetilde{T}} S_{d}^{\\widetilde{T}}(t_3, t_1)_{b,c_2}\\Gamma^{\\widetilde{T}} S_{u}(t_3, t_0)_{a,c'}$"
      ],
      "text/plain": [
       "<IPython.core.display.Math object>"
      ]
     },
     "metadata": {},
     "output_type": "display_data"
    }
   ],
   "source": [
    "for i,diagram in enumerate(total):\n",
    "    #pprint(str(diagram))\n",
    "    pd=ProtonDiagram(diagram)\n",
    "    pprint(\"d_{\"+str(i)+\"}=\"+pd.spin_prod_string())\n",
    "\n",
    "\n",
    "# pairing terms?"
   ]
  },
  {
   "cell_type": "code",
   "execution_count": null,
   "metadata": {},
   "outputs": [],
   "source": []
  }
 ],
 "metadata": {
  "kernelspec": {
   "display_name": "Python 3 (ipykernel)",
   "language": "python",
   "name": "python3"
  },
  "language_info": {
   "codemirror_mode": {
    "name": "ipython",
    "version": 3
   },
   "file_extension": ".py",
   "mimetype": "text/x-python",
   "name": "python",
   "nbconvert_exporter": "python",
   "pygments_lexer": "ipython3",
   "version": "3.9.12"
  }
 },
 "nbformat": 4,
 "nbformat_minor": 4
}
