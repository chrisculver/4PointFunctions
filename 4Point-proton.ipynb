{
 "cells": [
  {
   "cell_type": "code",
   "execution_count": 1,
   "metadata": {},
   "outputs": [],
   "source": [
    "%load_ext autoreload\n",
    "%autoreload 2\n",
    "\n",
    "import sys\n",
    "import os\n",
    "\n",
    "sys.path.append(os.getcwd()[:-9])\n",
    "\n",
    "import WickContractions\n",
    "\n",
    "# the uglies part of the code is still defining operators.\n",
    "from WickContractions.ops.operator import Operator\n",
    "from WickContractions.ops.elemental import ElementalOperator\n",
    "from WickContractions.ops.quarks import Quark\n",
    "from WickContractions.ops.indexed import IndexedObject\n",
    "\n",
    "#pretty latex printing\n",
    "from IPython.display import display, Math \n",
    "pprint = lambda o : display(Math(str(o)))"
   ]
  },
  {
   "cell_type": "code",
   "execution_count": 2,
   "metadata": {},
   "outputs": [],
   "source": [
    "# epsilion^abc (u_a Cg5 d_b^T) u_c\n",
    "q1=Quark(False,'u','s_0','a','t_3','x_3')\n",
    "g=IndexedObject('\\\\Gamma',['s_0','s_1'])\n",
    "eps=IndexedObject('\\\\epsilon',['a','b','c'])\n",
    "q2=Quark(False,'d','s_1','b','t_3','x_3')\n",
    "q3=Quark(False,'u','s_2','c','t_3','x_3')\n",
    "\n",
    "annihilate=Operator([ElementalOperator(+1,[g,eps],[q1,q2,q3])])\n",
    "\n",
    "\n",
    "# epsilion^abc (baru_a Cg5 bard_b^T) baru_c\n",
    "elementals=[]\n",
    "for pi2 in [['u',+2/3],['d',-1/3]]:\n",
    "    for pi1 in [['u',+2/3],['d',-1/3]]:\n",
    "        q2=Quark(True,pi2[0],'s_3','c_1','t_2','x_2')\n",
    "        g1=IndexedObject('(\\\\gamma_{\\mu}e^{-i\\\\mathbf{q}})',['s_3','s_4'])\n",
    "        q3=Quark(False,pi2[0],'s_4','c_1','t_2','x_2')\n",
    "\n",
    "        q4=Quark(True,pi1[0],'s_5','c_2','t_1','x_1')\n",
    "        g2=IndexedObject('(\\\\gamma_{\\\\nu}e^{i\\\\mathbf{q}})',['s_5','s_6'])\n",
    "        q5=Quark(False,pi1[0],'s_6','c_2','t_1','x_1')\n",
    "        \n",
    "        pq1=Quark(True,'u','s_7','a\\'','t_0','x_0')\n",
    "        pg=IndexedObject('\\\\Gamma',['s_7','s_8'])\n",
    "        peps=IndexedObject('\\\\epsilon',['a\\'','b\\'','c\\''])\n",
    "        pq2=Quark(True,'d','s_8','b\\'','t_0','x_0')\n",
    "        pq3=Quark(True,'u','s_9','c\\'','t_0','x_0')\n",
    "        \n",
    "        elementals.append(ElementalOperator(-1*pi2[1]*pi1[1],[g1,g2,pg,peps],[q2,q3,q4,q5,pq1,pq2,pq3]))\n",
    "        \n",
    "create=Operator(elementals)"
   ]
  },
  {
   "cell_type": "code",
   "execution_count": 3,
   "metadata": {},
   "outputs": [
    {
     "name": "stdout",
     "output_type": "stream",
     "text": [
      "1\\Gamma_{s_0 s_1}\\epsilon_{a b c}u_{s_0 a}(x_3, t_3)d_{s_1 b}(x_3, t_3)u_{s_2 c}(x_3, t_3)\n"
     ]
    }
   ],
   "source": [
    "print(annihilate)"
   ]
  },
  {
   "cell_type": "code",
   "execution_count": 4,
   "metadata": {},
   "outputs": [
    {
     "name": "stdout",
     "output_type": "stream",
     "text": [
      "-0.4444444444444444(\\gamma_{\\mu}e^{-i\\mathbf{q}})_{s_3 s_4}(\\gamma_{\\nu}e^{i\\mathbf{q}})_{s_5 s_6}\\Gamma_{s_7 s_8}\\epsilon_{a' b' c'}\\bar{u}_{s_3 c_1}(x_2, t_2)u_{s_4 c_1}(x_2, t_2)\\bar{u}_{s_5 c_2}(x_1, t_1)u_{s_6 c_2}(x_1, t_1)\\bar{u}_{s_7 a'}(x_0, t_0)\\bar{d}_{s_8 b'}(x_0, t_0)\\bar{u}_{s_9 c'}(x_0, t_0)+0.2222222222222222(\\gamma_{\\mu}e^{-i\\mathbf{q}})_{s_3 s_4}(\\gamma_{\\nu}e^{i\\mathbf{q}})_{s_5 s_6}\\Gamma_{s_7 s_8}\\epsilon_{a' b' c'}\\bar{u}_{s_3 c_1}(x_2, t_2)u_{s_4 c_1}(x_2, t_2)\\bar{d}_{s_5 c_2}(x_1, t_1)d_{s_6 c_2}(x_1, t_1)\\bar{u}_{s_7 a'}(x_0, t_0)\\bar{d}_{s_8 b'}(x_0, t_0)\\bar{u}_{s_9 c'}(x_0, t_0)+0.2222222222222222(\\gamma_{\\mu}e^{-i\\mathbf{q}})_{s_3 s_4}(\\gamma_{\\nu}e^{i\\mathbf{q}})_{s_5 s_6}\\Gamma_{s_7 s_8}\\epsilon_{a' b' c'}\\bar{d}_{s_3 c_1}(x_2, t_2)d_{s_4 c_1}(x_2, t_2)\\bar{u}_{s_5 c_2}(x_1, t_1)u_{s_6 c_2}(x_1, t_1)\\bar{u}_{s_7 a'}(x_0, t_0)\\bar{d}_{s_8 b'}(x_0, t_0)\\bar{u}_{s_9 c'}(x_0, t_0)+-0.1111111111111111(\\gamma_{\\mu}e^{-i\\mathbf{q}})_{s_3 s_4}(\\gamma_{\\nu}e^{i\\mathbf{q}})_{s_5 s_6}\\Gamma_{s_7 s_8}\\epsilon_{a' b' c'}\\bar{d}_{s_3 c_1}(x_2, t_2)d_{s_4 c_1}(x_2, t_2)\\bar{d}_{s_5 c_2}(x_1, t_1)d_{s_6 c_2}(x_1, t_1)\\bar{u}_{s_7 a'}(x_0, t_0)\\bar{d}_{s_8 b'}(x_0, t_0)\\bar{u}_{s_9 c'}(x_0, t_0)\n"
     ]
    }
   ],
   "source": [
    "print(create)"
   ]
  },
  {
   "cell_type": "code",
   "execution_count": 5,
   "metadata": {},
   "outputs": [
    {
     "data": {
      "text/plain": [
       "60"
      ]
     },
     "execution_count": 5,
     "metadata": {},
     "output_type": "execute_result"
    }
   ],
   "source": [
    "from WickContractions.wick.contract import contract\n",
    "res=contract(annihilate,create)\n",
    "len(res.diagrams)"
   ]
  },
  {
   "cell_type": "code",
   "execution_count": 6,
   "metadata": {},
   "outputs": [
    {
     "name": "stdout",
     "output_type": "stream",
     "text": [
      "60\n",
      "60\n"
     ]
    }
   ],
   "source": [
    "import copy\n",
    "from diagram_utils import combine_diagrams\n",
    "total=copy.deepcopy(res.diagrams)\n",
    "\n",
    "print(len(total))\n",
    "\n",
    "##you can take the isospin limit by setting 'd'='u'\n",
    "for d in total:\n",
    "    for p in d.props:\n",
    "        #p.name = 'S'\n",
    "        p.name = 'S_'+p.name.split('_')[1]\n",
    "\n",
    "combine_diagrams(total)\n",
    "\n",
    "for d in total:\n",
    "    d.coef*=9\n",
    "        \n",
    "print(len(total))"
   ]
  },
  {
   "cell_type": "code",
   "execution_count": 7,
   "metadata": {},
   "outputs": [],
   "source": [
    "from print_utilities import *\n",
    "from IPython.display import display, Math"
   ]
  },
  {
   "cell_type": "code",
   "execution_count": 8,
   "metadata": {},
   "outputs": [
    {
     "data": {
      "text/latex": [
       "$\\displaystyle 4.0 (\\gamma_{\\mu}e^{-i\\mathbf{q}})_{s_3 s_4}(\\gamma_{\\nu}e^{i\\mathbf{q}})_{s_5 s_6}\\Gamma_{s_0 s_1}\\Gamma_{s_7 s_8}\\epsilon_{a b c}\\epsilon_{a' b' c'}S_{u}(x_3,x_2)_{\\substack{s_0\\\\a}\\substack{s_3\\\\c_1}}S_{u}(x_3,x_1)_{\\substack{s_2\\\\c}\\substack{s_5\\\\c_2}}S_{u}(x_2,x_0)_{\\substack{s_4\\\\c_1}\\substack{s_7\\\\a'}}S_{d}(x_3,x_0)_{\\substack{s_1\\\\b}\\substack{s_8\\\\b'}}S_{u}(x_1,x_0)_{\\substack{s_6\\\\c_2}\\substack{s_9\\\\c'}}\\\\$"
      ],
      "text/plain": [
       "<IPython.core.display.Math object>"
      ]
     },
     "metadata": {},
     "output_type": "display_data"
    }
   ],
   "source": [
    "pprint(proton_diagram_str(total[0]))"
   ]
  },
  {
   "cell_type": "code",
   "execution_count": 9,
   "metadata": {},
   "outputs": [],
   "source": [
    "#for i in range(0,len(total)):\n",
    "#    display(Math(diagram_as_latex_str(total[i],i)))"
   ]
  },
  {
   "cell_type": "code",
   "execution_count": 10,
   "metadata": {},
   "outputs": [],
   "source": [
    "from topologies import *\n",
    "\n",
    "topList=diagram_time_order(total)"
   ]
  },
  {
   "cell_type": "code",
   "execution_count": 11,
   "metadata": {},
   "outputs": [],
   "source": [
    "#topList"
   ]
  },
  {
   "cell_type": "code",
   "execution_count": 14,
   "metadata": {},
   "outputs": [],
   "source": [
    "topNames={}\n",
    "\n",
    "for k,v in topList.items():\n",
    "    if (['1','1'] in v) and (['2','2'] in v):\n",
    "        topNames[k]='F'\n",
    "    elif (['1','1'] in v) or (['2','2'] in v):\n",
    "        topNames[k]='E'\n",
    "    else:\n",
    "        if (['1','2'] in v) and (['2','1'] in v):\n",
    "            topNames[k]='D'\n",
    "        else:\n",
    "            if ['1','2'] in v:\n",
    "                topNames[k]='B'\n",
    "            elif ['2','1'] in v:\n",
    "                topNames[k]='C'\n",
    "            else:\n",
    "                topNames[k]='A'\n",
    "\n",
    "#print(topNames)\n",
    "\n",
    "x=copy.deepcopy(topNames)\n",
    "topSorted={k: v for k, v in sorted(x.items(), key=lambda item: item[1])}"
   ]
  },
  {
   "cell_type": "code",
   "execution_count": 15,
   "metadata": {},
   "outputs": [
    {
     "data": {
      "text/latex": [
       "$\\displaystyle d_{0}^{A}=4.0 (\\gamma_{\\mu}e^{-i\\mathbf{q}})_{s_3 s_4}(\\gamma_{\\nu}e^{i\\mathbf{q}})_{s_5 s_6}\\Gamma_{s_0 s_1}\\Gamma_{s_7 s_8}\\epsilon_{a b c}\\epsilon_{a' b' c'}S_{u}(x_3,x_2)_{\\substack{s_0\\\\a}\\substack{s_3\\\\c_1}}S_{u}(x_3,x_1)_{\\substack{s_2\\\\c}\\substack{s_5\\\\c_2}}S_{u}(x_2,x_0)_{\\substack{s_4\\\\c_1}\\substack{s_7\\\\a'}}S_{d}(x_3,x_0)_{\\substack{s_1\\\\b}\\substack{s_8\\\\b'}}S_{u}(x_1,x_0)_{\\substack{s_6\\\\c_2}\\substack{s_9\\\\c'}}\\\\\\\\$"
      ],
      "text/plain": [
       "<IPython.core.display.Math object>"
      ]
     },
     "metadata": {},
     "output_type": "display_data"
    },
    {
     "data": {
      "text/latex": [
       "$\\displaystyle d_{1}^{A}=-4.0 (\\gamma_{\\mu}e^{-i\\mathbf{q}})_{s_3 s_4}(\\gamma_{\\nu}e^{i\\mathbf{q}})_{s_5 s_6}\\Gamma_{s_0 s_1}\\Gamma_{s_7 s_8}\\epsilon_{a b c}\\epsilon_{a' b' c'}S_{u}(x_3,x_2)_{\\substack{s_2\\\\c}\\substack{s_3\\\\c_1}}S_{u}(x_3,x_1)_{\\substack{s_0\\\\a}\\substack{s_5\\\\c_2}}S_{u}(x_2,x_0)_{\\substack{s_4\\\\c_1}\\substack{s_7\\\\a'}}S_{d}(x_3,x_0)_{\\substack{s_1\\\\b}\\substack{s_8\\\\b'}}S_{u}(x_1,x_0)_{\\substack{s_6\\\\c_2}\\substack{s_9\\\\c'}}\\\\\\\\$"
      ],
      "text/plain": [
       "<IPython.core.display.Math object>"
      ]
     },
     "metadata": {},
     "output_type": "display_data"
    },
    {
     "data": {
      "text/latex": [
       "$\\displaystyle d_{12}^{A}=4.0 (\\gamma_{\\mu}e^{-i\\mathbf{q}})_{s_3 s_4}(\\gamma_{\\nu}e^{i\\mathbf{q}})_{s_5 s_6}\\Gamma_{s_0 s_1}\\Gamma_{s_7 s_8}\\epsilon_{a b c}\\epsilon_{a' b' c'}S_{u}(x_3,x_2)_{\\substack{s_2\\\\c}\\substack{s_3\\\\c_1}}S_{u}(x_3,x_1)_{\\substack{s_0\\\\a}\\substack{s_5\\\\c_2}}S_{u}(x_1,x_0)_{\\substack{s_6\\\\c_2}\\substack{s_7\\\\a'}}S_{d}(x_3,x_0)_{\\substack{s_1\\\\b}\\substack{s_8\\\\b'}}S_{u}(x_2,x_0)_{\\substack{s_4\\\\c_1}\\substack{s_9\\\\c'}}\\\\\\\\$"
      ],
      "text/plain": [
       "<IPython.core.display.Math object>"
      ]
     },
     "metadata": {},
     "output_type": "display_data"
    },
    {
     "data": {
      "text/latex": [
       "$\\displaystyle d_{13}^{A}=-4.0 (\\gamma_{\\mu}e^{-i\\mathbf{q}})_{s_3 s_4}(\\gamma_{\\nu}e^{i\\mathbf{q}})_{s_5 s_6}\\Gamma_{s_0 s_1}\\Gamma_{s_7 s_8}\\epsilon_{a b c}\\epsilon_{a' b' c'}S_{u}(x_3,x_2)_{\\substack{s_0\\\\a}\\substack{s_3\\\\c_1}}S_{u}(x_3,x_1)_{\\substack{s_2\\\\c}\\substack{s_5\\\\c_2}}S_{u}(x_1,x_0)_{\\substack{s_6\\\\c_2}\\substack{s_7\\\\a'}}S_{d}(x_3,x_0)_{\\substack{s_1\\\\b}\\substack{s_8\\\\b'}}S_{u}(x_2,x_0)_{\\substack{s_4\\\\c_1}\\substack{s_9\\\\c'}}\\\\\\\\$"
      ],
      "text/plain": [
       "<IPython.core.display.Math object>"
      ]
     },
     "metadata": {},
     "output_type": "display_data"
    },
    {
     "data": {
      "text/latex": [
       "$\\displaystyle d_{25}^{A}=-2.0 (\\gamma_{\\mu}e^{-i\\mathbf{q}})_{s_3 s_4}(\\gamma_{\\nu}e^{i\\mathbf{q}})_{s_5 s_6}\\Gamma_{s_0 s_1}\\Gamma_{s_7 s_8}\\epsilon_{a b c}\\epsilon_{a' b' c'}S_{u}(x_3,x_2)_{\\substack{s_0\\\\a}\\substack{s_3\\\\c_1}}S_{d}(x_3,x_1)_{\\substack{s_1\\\\b}\\substack{s_5\\\\c_2}}S_{u}(x_2,x_0)_{\\substack{s_4\\\\c_1}\\substack{s_7\\\\a'}}S_{d}(x_1,x_0)_{\\substack{s_6\\\\c_2}\\substack{s_8\\\\b'}}S_{u}(x_3,x_0)_{\\substack{s_2\\\\c}\\substack{s_9\\\\c'}}\\\\\\\\$"
      ],
      "text/plain": [
       "<IPython.core.display.Math object>"
      ]
     },
     "metadata": {},
     "output_type": "display_data"
    },
    {
     "data": {
      "text/latex": [
       "$\\displaystyle d_{30}^{A}=2.0 (\\gamma_{\\mu}e^{-i\\mathbf{q}})_{s_3 s_4}(\\gamma_{\\nu}e^{i\\mathbf{q}})_{s_5 s_6}\\Gamma_{s_0 s_1}\\Gamma_{s_7 s_8}\\epsilon_{a b c}\\epsilon_{a' b' c'}S_{u}(x_3,x_2)_{\\substack{s_0\\\\a}\\substack{s_3\\\\c_1}}S_{d}(x_3,x_1)_{\\substack{s_1\\\\b}\\substack{s_5\\\\c_2}}S_{u}(x_3,x_0)_{\\substack{s_2\\\\c}\\substack{s_7\\\\a'}}S_{d}(x_1,x_0)_{\\substack{s_6\\\\c_2}\\substack{s_8\\\\b'}}S_{u}(x_2,x_0)_{\\substack{s_4\\\\c_1}\\substack{s_9\\\\c'}}\\\\\\\\$"
      ],
      "text/plain": [
       "<IPython.core.display.Math object>"
      ]
     },
     "metadata": {},
     "output_type": "display_data"
    },
    {
     "data": {
      "text/latex": [
       "$\\displaystyle d_{31}^{A}=-2.0 (\\gamma_{\\mu}e^{-i\\mathbf{q}})_{s_3 s_4}(\\gamma_{\\nu}e^{i\\mathbf{q}})_{s_5 s_6}\\Gamma_{s_0 s_1}\\Gamma_{s_7 s_8}\\epsilon_{a b c}\\epsilon_{a' b' c'}S_{u}(x_3,x_2)_{\\substack{s_2\\\\c}\\substack{s_3\\\\c_1}}S_{d}(x_3,x_1)_{\\substack{s_1\\\\b}\\substack{s_5\\\\c_2}}S_{u}(x_3,x_0)_{\\substack{s_0\\\\a}\\substack{s_7\\\\a'}}S_{d}(x_1,x_0)_{\\substack{s_6\\\\c_2}\\substack{s_8\\\\b'}}S_{u}(x_2,x_0)_{\\substack{s_4\\\\c_1}\\substack{s_9\\\\c'}}\\\\\\\\$"
      ],
      "text/plain": [
       "<IPython.core.display.Math object>"
      ]
     },
     "metadata": {},
     "output_type": "display_data"
    },
    {
     "data": {
      "text/latex": [
       "$\\displaystyle d_{35}^{A}=2.0 (\\gamma_{\\mu}e^{-i\\mathbf{q}})_{s_3 s_4}(\\gamma_{\\nu}e^{i\\mathbf{q}})_{s_5 s_6}\\Gamma_{s_0 s_1}\\Gamma_{s_7 s_8}\\epsilon_{a b c}\\epsilon_{a' b' c'}S_{u}(x_3,x_2)_{\\substack{s_2\\\\c}\\substack{s_3\\\\c_1}}S_{d}(x_3,x_1)_{\\substack{s_1\\\\b}\\substack{s_5\\\\c_2}}S_{u}(x_2,x_0)_{\\substack{s_4\\\\c_1}\\substack{s_7\\\\a'}}S_{d}(x_1,x_0)_{\\substack{s_6\\\\c_2}\\substack{s_8\\\\b'}}S_{u}(x_3,x_0)_{\\substack{s_0\\\\a}\\substack{s_9\\\\c'}}\\\\\\\\$"
      ],
      "text/plain": [
       "<IPython.core.display.Math object>"
      ]
     },
     "metadata": {},
     "output_type": "display_data"
    },
    {
     "data": {
      "text/latex": [
       "$\\displaystyle d_{36}^{A}=2.0 (\\gamma_{\\mu}e^{-i\\mathbf{q}})_{s_3 s_4}(\\gamma_{\\nu}e^{i\\mathbf{q}})_{s_5 s_6}\\Gamma_{s_0 s_1}\\Gamma_{s_7 s_8}\\epsilon_{a b c}\\epsilon_{a' b' c'}S_{d}(x_3,x_2)_{\\substack{s_1\\\\b}\\substack{s_3\\\\c_1}}S_{u}(x_3,x_1)_{\\substack{s_0\\\\a}\\substack{s_5\\\\c_2}}S_{u}(x_3,x_0)_{\\substack{s_2\\\\c}\\substack{s_7\\\\a'}}S_{d}(x_2,x_0)_{\\substack{s_4\\\\c_1}\\substack{s_8\\\\b'}}S_{u}(x_1,x_0)_{\\substack{s_6\\\\c_2}\\substack{s_9\\\\c'}}\\\\\\\\$"
      ],
      "text/plain": [
       "<IPython.core.display.Math object>"
      ]
     },
     "metadata": {},
     "output_type": "display_data"
    },
    {
     "data": {
      "text/latex": [
       "$\\displaystyle d_{37}^{A}=-2.0 (\\gamma_{\\mu}e^{-i\\mathbf{q}})_{s_3 s_4}(\\gamma_{\\nu}e^{i\\mathbf{q}})_{s_5 s_6}\\Gamma_{s_0 s_1}\\Gamma_{s_7 s_8}\\epsilon_{a b c}\\epsilon_{a' b' c'}S_{d}(x_3,x_2)_{\\substack{s_1\\\\b}\\substack{s_3\\\\c_1}}S_{u}(x_3,x_1)_{\\substack{s_2\\\\c}\\substack{s_5\\\\c_2}}S_{u}(x_3,x_0)_{\\substack{s_0\\\\a}\\substack{s_7\\\\a'}}S_{d}(x_2,x_0)_{\\substack{s_4\\\\c_1}\\substack{s_8\\\\b'}}S_{u}(x_1,x_0)_{\\substack{s_6\\\\c_2}\\substack{s_9\\\\c'}}\\\\\\\\$"
      ],
      "text/plain": [
       "<IPython.core.display.Math object>"
      ]
     },
     "metadata": {},
     "output_type": "display_data"
    },
    {
     "data": {
      "text/latex": [
       "$\\displaystyle d_{40}^{A}=-2.0 (\\gamma_{\\mu}e^{-i\\mathbf{q}})_{s_3 s_4}(\\gamma_{\\nu}e^{i\\mathbf{q}})_{s_5 s_6}\\Gamma_{s_0 s_1}\\Gamma_{s_7 s_8}\\epsilon_{a b c}\\epsilon_{a' b' c'}S_{d}(x_3,x_2)_{\\substack{s_1\\\\b}\\substack{s_3\\\\c_1}}S_{u}(x_3,x_1)_{\\substack{s_0\\\\a}\\substack{s_5\\\\c_2}}S_{u}(x_1,x_0)_{\\substack{s_6\\\\c_2}\\substack{s_7\\\\a'}}S_{d}(x_2,x_0)_{\\substack{s_4\\\\c_1}\\substack{s_8\\\\b'}}S_{u}(x_3,x_0)_{\\substack{s_2\\\\c}\\substack{s_9\\\\c'}}\\\\\\\\$"
      ],
      "text/plain": [
       "<IPython.core.display.Math object>"
      ]
     },
     "metadata": {},
     "output_type": "display_data"
    },
    {
     "data": {
      "text/latex": [
       "$\\displaystyle d_{46}^{A}=2.0 (\\gamma_{\\mu}e^{-i\\mathbf{q}})_{s_3 s_4}(\\gamma_{\\nu}e^{i\\mathbf{q}})_{s_5 s_6}\\Gamma_{s_0 s_1}\\Gamma_{s_7 s_8}\\epsilon_{a b c}\\epsilon_{a' b' c'}S_{d}(x_3,x_2)_{\\substack{s_1\\\\b}\\substack{s_3\\\\c_1}}S_{u}(x_3,x_1)_{\\substack{s_2\\\\c}\\substack{s_5\\\\c_2}}S_{u}(x_1,x_0)_{\\substack{s_6\\\\c_2}\\substack{s_7\\\\a'}}S_{d}(x_2,x_0)_{\\substack{s_4\\\\c_1}\\substack{s_8\\\\b'}}S_{u}(x_3,x_0)_{\\substack{s_0\\\\a}\\substack{s_9\\\\c'}}\\\\\\\\$"
      ],
      "text/plain": [
       "<IPython.core.display.Math object>"
      ]
     },
     "metadata": {},
     "output_type": "display_data"
    },
    {
     "data": {
      "text/latex": [
       "$\\displaystyle d_{3}^{B}=-4.0 (\\gamma_{\\mu}e^{-i\\mathbf{q}})_{s_3 s_4}(\\gamma_{\\nu}e^{i\\mathbf{q}})_{s_5 s_6}\\Gamma_{s_0 s_1}\\Gamma_{s_7 s_8}\\epsilon_{a b c}\\epsilon_{a' b' c'}S_{u}(x_3,x_2)_{\\substack{s_0\\\\a}\\substack{s_3\\\\c_1}}S_{u}(x_2,x_1)_{\\substack{s_4\\\\c_1}\\substack{s_5\\\\c_2}}S_{u}(x_3,x_0)_{\\substack{s_2\\\\c}\\substack{s_7\\\\a'}}S_{d}(x_3,x_0)_{\\substack{s_1\\\\b}\\substack{s_8\\\\b'}}S_{u}(x_1,x_0)_{\\substack{s_6\\\\c_2}\\substack{s_9\\\\c'}}\\\\\\\\$"
      ],
      "text/plain": [
       "<IPython.core.display.Math object>"
      ]
     },
     "metadata": {},
     "output_type": "display_data"
    },
    {
     "data": {
      "text/latex": [
       "$\\displaystyle d_{4}^{B}=4.0 (\\gamma_{\\mu}e^{-i\\mathbf{q}})_{s_3 s_4}(\\gamma_{\\nu}e^{i\\mathbf{q}})_{s_5 s_6}\\Gamma_{s_0 s_1}\\Gamma_{s_7 s_8}\\epsilon_{a b c}\\epsilon_{a' b' c'}S_{u}(x_3,x_2)_{\\substack{s_2\\\\c}\\substack{s_3\\\\c_1}}S_{u}(x_2,x_1)_{\\substack{s_4\\\\c_1}\\substack{s_5\\\\c_2}}S_{u}(x_3,x_0)_{\\substack{s_0\\\\a}\\substack{s_7\\\\a'}}S_{d}(x_3,x_0)_{\\substack{s_1\\\\b}\\substack{s_8\\\\b'}}S_{u}(x_1,x_0)_{\\substack{s_6\\\\c_2}\\substack{s_9\\\\c'}}\\\\\\\\$"
      ],
      "text/plain": [
       "<IPython.core.display.Math object>"
      ]
     },
     "metadata": {},
     "output_type": "display_data"
    },
    {
     "data": {
      "text/latex": [
       "$\\displaystyle d_{10}^{B}=4.0 (\\gamma_{\\mu}e^{-i\\mathbf{q}})_{s_3 s_4}(\\gamma_{\\nu}e^{i\\mathbf{q}})_{s_5 s_6}\\Gamma_{s_0 s_1}\\Gamma_{s_7 s_8}\\epsilon_{a b c}\\epsilon_{a' b' c'}S_{u}(x_3,x_2)_{\\substack{s_0\\\\a}\\substack{s_3\\\\c_1}}S_{u}(x_2,x_1)_{\\substack{s_4\\\\c_1}\\substack{s_5\\\\c_2}}S_{u}(x_1,x_0)_{\\substack{s_6\\\\c_2}\\substack{s_7\\\\a'}}S_{d}(x_3,x_0)_{\\substack{s_1\\\\b}\\substack{s_8\\\\b'}}S_{u}(x_3,x_0)_{\\substack{s_2\\\\c}\\substack{s_9\\\\c'}}\\\\\\\\$"
      ],
      "text/plain": [
       "<IPython.core.display.Math object>"
      ]
     },
     "metadata": {},
     "output_type": "display_data"
    },
    {
     "data": {
      "text/latex": [
       "$\\displaystyle d_{21}^{B}=-4.0 (\\gamma_{\\mu}e^{-i\\mathbf{q}})_{s_3 s_4}(\\gamma_{\\nu}e^{i\\mathbf{q}})_{s_5 s_6}\\Gamma_{s_0 s_1}\\Gamma_{s_7 s_8}\\epsilon_{a b c}\\epsilon_{a' b' c'}S_{u}(x_3,x_2)_{\\substack{s_2\\\\c}\\substack{s_3\\\\c_1}}S_{u}(x_2,x_1)_{\\substack{s_4\\\\c_1}\\substack{s_5\\\\c_2}}S_{u}(x_1,x_0)_{\\substack{s_6\\\\c_2}\\substack{s_7\\\\a'}}S_{d}(x_3,x_0)_{\\substack{s_1\\\\b}\\substack{s_8\\\\b'}}S_{u}(x_3,x_0)_{\\substack{s_0\\\\a}\\substack{s_9\\\\c'}}\\\\\\\\$"
      ],
      "text/plain": [
       "<IPython.core.display.Math object>"
      ]
     },
     "metadata": {},
     "output_type": "display_data"
    },
    {
     "data": {
      "text/latex": [
       "$\\displaystyle d_{48}^{B}=1.0 (\\gamma_{\\mu}e^{-i\\mathbf{q}})_{s_3 s_4}(\\gamma_{\\nu}e^{i\\mathbf{q}})_{s_5 s_6}\\Gamma_{s_0 s_1}\\Gamma_{s_7 s_8}\\epsilon_{a b c}\\epsilon_{a' b' c'}S_{d}(x_3,x_2)_{\\substack{s_1\\\\b}\\substack{s_3\\\\c_1}}S_{d}(x_2,x_1)_{\\substack{s_4\\\\c_1}\\substack{s_5\\\\c_2}}S_{u}(x_3,x_0)_{\\substack{s_0\\\\a}\\substack{s_7\\\\a'}}S_{d}(x_1,x_0)_{\\substack{s_6\\\\c_2}\\substack{s_8\\\\b'}}S_{u}(x_3,x_0)_{\\substack{s_2\\\\c}\\substack{s_9\\\\c'}}\\\\\\\\$"
      ],
      "text/plain": [
       "<IPython.core.display.Math object>"
      ]
     },
     "metadata": {},
     "output_type": "display_data"
    },
    {
     "data": {
      "text/latex": [
       "$\\displaystyle d_{57}^{B}=-1.0 (\\gamma_{\\mu}e^{-i\\mathbf{q}})_{s_3 s_4}(\\gamma_{\\nu}e^{i\\mathbf{q}})_{s_5 s_6}\\Gamma_{s_0 s_1}\\Gamma_{s_7 s_8}\\epsilon_{a b c}\\epsilon_{a' b' c'}S_{d}(x_3,x_2)_{\\substack{s_1\\\\b}\\substack{s_3\\\\c_1}}S_{d}(x_2,x_1)_{\\substack{s_4\\\\c_1}\\substack{s_5\\\\c_2}}S_{u}(x_3,x_0)_{\\substack{s_2\\\\c}\\substack{s_7\\\\a'}}S_{d}(x_1,x_0)_{\\substack{s_6\\\\c_2}\\substack{s_8\\\\b'}}S_{u}(x_3,x_0)_{\\substack{s_0\\\\a}\\substack{s_9\\\\c'}}\\\\\\\\$"
      ],
      "text/plain": [
       "<IPython.core.display.Math object>"
      ]
     },
     "metadata": {},
     "output_type": "display_data"
    },
    {
     "data": {
      "text/latex": [
       "$\\displaystyle d_{6}^{C}=4.0 (\\gamma_{\\mu}e^{-i\\mathbf{q}})_{s_3 s_4}(\\gamma_{\\nu}e^{i\\mathbf{q}})_{s_5 s_6}\\Gamma_{s_0 s_1}\\Gamma_{s_7 s_8}\\epsilon_{a b c}\\epsilon_{a' b' c'}S_{u}(x_1,x_2)_{\\substack{s_6\\\\c_2}\\substack{s_3\\\\c_1}}S_{u}(x_3,x_1)_{\\substack{s_0\\\\a}\\substack{s_5\\\\c_2}}S_{u}(x_2,x_0)_{\\substack{s_4\\\\c_1}\\substack{s_7\\\\a'}}S_{d}(x_3,x_0)_{\\substack{s_1\\\\b}\\substack{s_8\\\\b'}}S_{u}(x_3,x_0)_{\\substack{s_2\\\\c}\\substack{s_9\\\\c'}}\\\\\\\\$"
      ],
      "text/plain": [
       "<IPython.core.display.Math object>"
      ]
     },
     "metadata": {},
     "output_type": "display_data"
    },
    {
     "data": {
      "text/latex": [
       "$\\displaystyle d_{14}^{C}=4.0 (\\gamma_{\\mu}e^{-i\\mathbf{q}})_{s_3 s_4}(\\gamma_{\\nu}e^{i\\mathbf{q}})_{s_5 s_6}\\Gamma_{s_0 s_1}\\Gamma_{s_7 s_8}\\epsilon_{a b c}\\epsilon_{a' b' c'}S_{u}(x_1,x_2)_{\\substack{s_6\\\\c_2}\\substack{s_3\\\\c_1}}S_{u}(x_3,x_1)_{\\substack{s_2\\\\c}\\substack{s_5\\\\c_2}}S_{u}(x_3,x_0)_{\\substack{s_0\\\\a}\\substack{s_7\\\\a'}}S_{d}(x_3,x_0)_{\\substack{s_1\\\\b}\\substack{s_8\\\\b'}}S_{u}(x_2,x_0)_{\\substack{s_4\\\\c_1}\\substack{s_9\\\\c'}}\\\\\\\\$"
      ],
      "text/plain": [
       "<IPython.core.display.Math object>"
      ]
     },
     "metadata": {},
     "output_type": "display_data"
    },
    {
     "data": {
      "text/latex": [
       "$\\displaystyle d_{17}^{C}=-4.0 (\\gamma_{\\mu}e^{-i\\mathbf{q}})_{s_3 s_4}(\\gamma_{\\nu}e^{i\\mathbf{q}})_{s_5 s_6}\\Gamma_{s_0 s_1}\\Gamma_{s_7 s_8}\\epsilon_{a b c}\\epsilon_{a' b' c'}S_{u}(x_1,x_2)_{\\substack{s_6\\\\c_2}\\substack{s_3\\\\c_1}}S_{u}(x_3,x_1)_{\\substack{s_0\\\\a}\\substack{s_5\\\\c_2}}S_{u}(x_3,x_0)_{\\substack{s_2\\\\c}\\substack{s_7\\\\a'}}S_{d}(x_3,x_0)_{\\substack{s_1\\\\b}\\substack{s_8\\\\b'}}S_{u}(x_2,x_0)_{\\substack{s_4\\\\c_1}\\substack{s_9\\\\c'}}\\\\\\\\$"
      ],
      "text/plain": [
       "<IPython.core.display.Math object>"
      ]
     },
     "metadata": {},
     "output_type": "display_data"
    },
    {
     "data": {
      "text/latex": [
       "$\\displaystyle d_{19}^{C}=-4.0 (\\gamma_{\\mu}e^{-i\\mathbf{q}})_{s_3 s_4}(\\gamma_{\\nu}e^{i\\mathbf{q}})_{s_5 s_6}\\Gamma_{s_0 s_1}\\Gamma_{s_7 s_8}\\epsilon_{a b c}\\epsilon_{a' b' c'}S_{u}(x_1,x_2)_{\\substack{s_6\\\\c_2}\\substack{s_3\\\\c_1}}S_{u}(x_3,x_1)_{\\substack{s_2\\\\c}\\substack{s_5\\\\c_2}}S_{u}(x_2,x_0)_{\\substack{s_4\\\\c_1}\\substack{s_7\\\\a'}}S_{d}(x_3,x_0)_{\\substack{s_1\\\\b}\\substack{s_8\\\\b'}}S_{u}(x_3,x_0)_{\\substack{s_0\\\\a}\\substack{s_9\\\\c'}}\\\\\\\\$"
      ],
      "text/plain": [
       "<IPython.core.display.Math object>"
      ]
     },
     "metadata": {},
     "output_type": "display_data"
    },
    {
     "data": {
      "text/latex": [
       "$\\displaystyle d_{50}^{C}=1.0 (\\gamma_{\\mu}e^{-i\\mathbf{q}})_{s_3 s_4}(\\gamma_{\\nu}e^{i\\mathbf{q}})_{s_5 s_6}\\Gamma_{s_0 s_1}\\Gamma_{s_7 s_8}\\epsilon_{a b c}\\epsilon_{a' b' c'}S_{d}(x_1,x_2)_{\\substack{s_6\\\\c_2}\\substack{s_3\\\\c_1}}S_{d}(x_3,x_1)_{\\substack{s_1\\\\b}\\substack{s_5\\\\c_2}}S_{u}(x_3,x_0)_{\\substack{s_0\\\\a}\\substack{s_7\\\\a'}}S_{d}(x_2,x_0)_{\\substack{s_4\\\\c_1}\\substack{s_8\\\\b'}}S_{u}(x_3,x_0)_{\\substack{s_2\\\\c}\\substack{s_9\\\\c'}}\\\\\\\\$"
      ],
      "text/plain": [
       "<IPython.core.display.Math object>"
      ]
     },
     "metadata": {},
     "output_type": "display_data"
    },
    {
     "data": {
      "text/latex": [
       "$\\displaystyle d_{59}^{C}=-1.0 (\\gamma_{\\mu}e^{-i\\mathbf{q}})_{s_3 s_4}(\\gamma_{\\nu}e^{i\\mathbf{q}})_{s_5 s_6}\\Gamma_{s_0 s_1}\\Gamma_{s_7 s_8}\\epsilon_{a b c}\\epsilon_{a' b' c'}S_{d}(x_1,x_2)_{\\substack{s_6\\\\c_2}\\substack{s_3\\\\c_1}}S_{d}(x_3,x_1)_{\\substack{s_1\\\\b}\\substack{s_5\\\\c_2}}S_{u}(x_3,x_0)_{\\substack{s_2\\\\c}\\substack{s_7\\\\a'}}S_{d}(x_2,x_0)_{\\substack{s_4\\\\c_1}\\substack{s_8\\\\b'}}S_{u}(x_3,x_0)_{\\substack{s_0\\\\a}\\substack{s_9\\\\c'}}\\\\\\\\$"
      ],
      "text/plain": [
       "<IPython.core.display.Math object>"
      ]
     },
     "metadata": {},
     "output_type": "display_data"
    },
    {
     "data": {
      "text/latex": [
       "$\\displaystyle d_{9}^{D}=-4.0 (\\gamma_{\\mu}e^{-i\\mathbf{q}})_{s_3 s_4}(\\gamma_{\\nu}e^{i\\mathbf{q}})_{s_5 s_6}\\Gamma_{s_0 s_1}\\Gamma_{s_7 s_8}\\epsilon_{a b c}\\epsilon_{a' b' c'}S_{u}(x_1,x_2)_{\\substack{s_6\\\\c_2}\\substack{s_3\\\\c_1}}S_{u}(x_2,x_1)_{\\substack{s_4\\\\c_1}\\substack{s_5\\\\c_2}}S_{u}(x_3,x_0)_{\\substack{s_0\\\\a}\\substack{s_7\\\\a'}}S_{d}(x_3,x_0)_{\\substack{s_1\\\\b}\\substack{s_8\\\\b'}}S_{u}(x_3,x_0)_{\\substack{s_2\\\\c}\\substack{s_9\\\\c'}}\\\\\\\\$"
      ],
      "text/plain": [
       "<IPython.core.display.Math object>"
      ]
     },
     "metadata": {},
     "output_type": "display_data"
    },
    {
     "data": {
      "text/latex": [
       "$\\displaystyle d_{22}^{D}=4.0 (\\gamma_{\\mu}e^{-i\\mathbf{q}})_{s_3 s_4}(\\gamma_{\\nu}e^{i\\mathbf{q}})_{s_5 s_6}\\Gamma_{s_0 s_1}\\Gamma_{s_7 s_8}\\epsilon_{a b c}\\epsilon_{a' b' c'}S_{u}(x_1,x_2)_{\\substack{s_6\\\\c_2}\\substack{s_3\\\\c_1}}S_{u}(x_2,x_1)_{\\substack{s_4\\\\c_1}\\substack{s_5\\\\c_2}}S_{u}(x_3,x_0)_{\\substack{s_2\\\\c}\\substack{s_7\\\\a'}}S_{d}(x_3,x_0)_{\\substack{s_1\\\\b}\\substack{s_8\\\\b'}}S_{u}(x_3,x_0)_{\\substack{s_0\\\\a}\\substack{s_9\\\\c'}}\\\\\\\\$"
      ],
      "text/plain": [
       "<IPython.core.display.Math object>"
      ]
     },
     "metadata": {},
     "output_type": "display_data"
    },
    {
     "data": {
      "text/latex": [
       "$\\displaystyle d_{53}^{D}=-1.0 (\\gamma_{\\mu}e^{-i\\mathbf{q}})_{s_3 s_4}(\\gamma_{\\nu}e^{i\\mathbf{q}})_{s_5 s_6}\\Gamma_{s_0 s_1}\\Gamma_{s_7 s_8}\\epsilon_{a b c}\\epsilon_{a' b' c'}S_{d}(x_1,x_2)_{\\substack{s_6\\\\c_2}\\substack{s_3\\\\c_1}}S_{d}(x_2,x_1)_{\\substack{s_4\\\\c_1}\\substack{s_5\\\\c_2}}S_{u}(x_3,x_0)_{\\substack{s_0\\\\a}\\substack{s_7\\\\a'}}S_{d}(x_3,x_0)_{\\substack{s_1\\\\b}\\substack{s_8\\\\b'}}S_{u}(x_3,x_0)_{\\substack{s_2\\\\c}\\substack{s_9\\\\c'}}\\\\\\\\$"
      ],
      "text/plain": [
       "<IPython.core.display.Math object>"
      ]
     },
     "metadata": {},
     "output_type": "display_data"
    },
    {
     "data": {
      "text/latex": [
       "$\\displaystyle d_{54}^{D}=1.0 (\\gamma_{\\mu}e^{-i\\mathbf{q}})_{s_3 s_4}(\\gamma_{\\nu}e^{i\\mathbf{q}})_{s_5 s_6}\\Gamma_{s_0 s_1}\\Gamma_{s_7 s_8}\\epsilon_{a b c}\\epsilon_{a' b' c'}S_{d}(x_1,x_2)_{\\substack{s_6\\\\c_2}\\substack{s_3\\\\c_1}}S_{d}(x_2,x_1)_{\\substack{s_4\\\\c_1}\\substack{s_5\\\\c_2}}S_{u}(x_3,x_0)_{\\substack{s_2\\\\c}\\substack{s_7\\\\a'}}S_{d}(x_3,x_0)_{\\substack{s_1\\\\b}\\substack{s_8\\\\b'}}S_{u}(x_3,x_0)_{\\substack{s_0\\\\a}\\substack{s_9\\\\c'}}\\\\\\\\$"
      ],
      "text/plain": [
       "<IPython.core.display.Math object>"
      ]
     },
     "metadata": {},
     "output_type": "display_data"
    },
    {
     "data": {
      "text/latex": [
       "$\\displaystyle d_{2}^{E}=4.0 (\\gamma_{\\mu}e^{-i\\mathbf{q}})_{s_3 s_4}(\\gamma_{\\nu}e^{i\\mathbf{q}})_{s_5 s_6}\\Gamma_{s_0 s_1}\\Gamma_{s_7 s_8}\\epsilon_{a b c}\\epsilon_{a' b' c'}S_{u}(x_2,x_2)_{\\substack{s_4\\\\c_1}\\substack{s_3\\\\c_1}}S_{u}(x_3,x_1)_{\\substack{s_0\\\\a}\\substack{s_5\\\\c_2}}S_{u}(x_3,x_0)_{\\substack{s_2\\\\c}\\substack{s_7\\\\a'}}S_{d}(x_3,x_0)_{\\substack{s_1\\\\b}\\substack{s_8\\\\b'}}S_{u}(x_1,x_0)_{\\substack{s_6\\\\c_2}\\substack{s_9\\\\c'}}\\\\\\\\$"
      ],
      "text/plain": [
       "<IPython.core.display.Math object>"
      ]
     },
     "metadata": {},
     "output_type": "display_data"
    },
    {
     "data": {
      "text/latex": [
       "$\\displaystyle d_{5}^{E}=-4.0 (\\gamma_{\\mu}e^{-i\\mathbf{q}})_{s_3 s_4}(\\gamma_{\\nu}e^{i\\mathbf{q}})_{s_5 s_6}\\Gamma_{s_0 s_1}\\Gamma_{s_7 s_8}\\epsilon_{a b c}\\epsilon_{a' b' c'}S_{u}(x_2,x_2)_{\\substack{s_4\\\\c_1}\\substack{s_3\\\\c_1}}S_{u}(x_3,x_1)_{\\substack{s_2\\\\c}\\substack{s_5\\\\c_2}}S_{u}(x_3,x_0)_{\\substack{s_0\\\\a}\\substack{s_7\\\\a'}}S_{d}(x_3,x_0)_{\\substack{s_1\\\\b}\\substack{s_8\\\\b'}}S_{u}(x_1,x_0)_{\\substack{s_6\\\\c_2}\\substack{s_9\\\\c'}}\\\\\\\\$"
      ],
      "text/plain": [
       "<IPython.core.display.Math object>"
      ]
     },
     "metadata": {},
     "output_type": "display_data"
    },
    {
     "data": {
      "text/latex": [
       "$\\displaystyle d_{7}^{E}=-4.0 (\\gamma_{\\mu}e^{-i\\mathbf{q}})_{s_3 s_4}(\\gamma_{\\nu}e^{i\\mathbf{q}})_{s_5 s_6}\\Gamma_{s_0 s_1}\\Gamma_{s_7 s_8}\\epsilon_{a b c}\\epsilon_{a' b' c'}S_{u}(x_3,x_2)_{\\substack{s_0\\\\a}\\substack{s_3\\\\c_1}}S_{u}(x_1,x_1)_{\\substack{s_6\\\\c_2}\\substack{s_5\\\\c_2}}S_{u}(x_2,x_0)_{\\substack{s_4\\\\c_1}\\substack{s_7\\\\a'}}S_{d}(x_3,x_0)_{\\substack{s_1\\\\b}\\substack{s_8\\\\b'}}S_{u}(x_3,x_0)_{\\substack{s_2\\\\c}\\substack{s_9\\\\c'}}\\\\\\\\$"
      ],
      "text/plain": [
       "<IPython.core.display.Math object>"
      ]
     },
     "metadata": {},
     "output_type": "display_data"
    },
    {
     "data": {
      "text/latex": [
       "$\\displaystyle d_{11}^{E}=-4.0 (\\gamma_{\\mu}e^{-i\\mathbf{q}})_{s_3 s_4}(\\gamma_{\\nu}e^{i\\mathbf{q}})_{s_5 s_6}\\Gamma_{s_0 s_1}\\Gamma_{s_7 s_8}\\epsilon_{a b c}\\epsilon_{a' b' c'}S_{u}(x_2,x_2)_{\\substack{s_4\\\\c_1}\\substack{s_3\\\\c_1}}S_{u}(x_3,x_1)_{\\substack{s_0\\\\a}\\substack{s_5\\\\c_2}}S_{u}(x_1,x_0)_{\\substack{s_6\\\\c_2}\\substack{s_7\\\\a'}}S_{d}(x_3,x_0)_{\\substack{s_1\\\\b}\\substack{s_8\\\\b'}}S_{u}(x_3,x_0)_{\\substack{s_2\\\\c}\\substack{s_9\\\\c'}}\\\\\\\\$"
      ],
      "text/plain": [
       "<IPython.core.display.Math object>"
      ]
     },
     "metadata": {},
     "output_type": "display_data"
    },
    {
     "data": {
      "text/latex": [
       "$\\displaystyle d_{15}^{E}=-4.0 (\\gamma_{\\mu}e^{-i\\mathbf{q}})_{s_3 s_4}(\\gamma_{\\nu}e^{i\\mathbf{q}})_{s_5 s_6}\\Gamma_{s_0 s_1}\\Gamma_{s_7 s_8}\\epsilon_{a b c}\\epsilon_{a' b' c'}S_{u}(x_3,x_2)_{\\substack{s_2\\\\c}\\substack{s_3\\\\c_1}}S_{u}(x_1,x_1)_{\\substack{s_6\\\\c_2}\\substack{s_5\\\\c_2}}S_{u}(x_3,x_0)_{\\substack{s_0\\\\a}\\substack{s_7\\\\a'}}S_{d}(x_3,x_0)_{\\substack{s_1\\\\b}\\substack{s_8\\\\b'}}S_{u}(x_2,x_0)_{\\substack{s_4\\\\c_1}\\substack{s_9\\\\c'}}\\\\\\\\$"
      ],
      "text/plain": [
       "<IPython.core.display.Math object>"
      ]
     },
     "metadata": {},
     "output_type": "display_data"
    },
    {
     "data": {
      "text/latex": [
       "$\\displaystyle d_{16}^{E}=4.0 (\\gamma_{\\mu}e^{-i\\mathbf{q}})_{s_3 s_4}(\\gamma_{\\nu}e^{i\\mathbf{q}})_{s_5 s_6}\\Gamma_{s_0 s_1}\\Gamma_{s_7 s_8}\\epsilon_{a b c}\\epsilon_{a' b' c'}S_{u}(x_3,x_2)_{\\substack{s_0\\\\a}\\substack{s_3\\\\c_1}}S_{u}(x_1,x_1)_{\\substack{s_6\\\\c_2}\\substack{s_5\\\\c_2}}S_{u}(x_3,x_0)_{\\substack{s_2\\\\c}\\substack{s_7\\\\a'}}S_{d}(x_3,x_0)_{\\substack{s_1\\\\b}\\substack{s_8\\\\b'}}S_{u}(x_2,x_0)_{\\substack{s_4\\\\c_1}\\substack{s_9\\\\c'}}\\\\\\\\$"
      ],
      "text/plain": [
       "<IPython.core.display.Math object>"
      ]
     },
     "metadata": {},
     "output_type": "display_data"
    },
    {
     "data": {
      "text/latex": [
       "$\\displaystyle d_{18}^{E}=4.0 (\\gamma_{\\mu}e^{-i\\mathbf{q}})_{s_3 s_4}(\\gamma_{\\nu}e^{i\\mathbf{q}})_{s_5 s_6}\\Gamma_{s_0 s_1}\\Gamma_{s_7 s_8}\\epsilon_{a b c}\\epsilon_{a' b' c'}S_{u}(x_3,x_2)_{\\substack{s_2\\\\c}\\substack{s_3\\\\c_1}}S_{u}(x_1,x_1)_{\\substack{s_6\\\\c_2}\\substack{s_5\\\\c_2}}S_{u}(x_2,x_0)_{\\substack{s_4\\\\c_1}\\substack{s_7\\\\a'}}S_{d}(x_3,x_0)_{\\substack{s_1\\\\b}\\substack{s_8\\\\b'}}S_{u}(x_3,x_0)_{\\substack{s_0\\\\a}\\substack{s_9\\\\c'}}\\\\\\\\$"
      ],
      "text/plain": [
       "<IPython.core.display.Math object>"
      ]
     },
     "metadata": {},
     "output_type": "display_data"
    },
    {
     "data": {
      "text/latex": [
       "$\\displaystyle d_{20}^{E}=4.0 (\\gamma_{\\mu}e^{-i\\mathbf{q}})_{s_3 s_4}(\\gamma_{\\nu}e^{i\\mathbf{q}})_{s_5 s_6}\\Gamma_{s_0 s_1}\\Gamma_{s_7 s_8}\\epsilon_{a b c}\\epsilon_{a' b' c'}S_{u}(x_2,x_2)_{\\substack{s_4\\\\c_1}\\substack{s_3\\\\c_1}}S_{u}(x_3,x_1)_{\\substack{s_2\\\\c}\\substack{s_5\\\\c_2}}S_{u}(x_1,x_0)_{\\substack{s_6\\\\c_2}\\substack{s_7\\\\a'}}S_{d}(x_3,x_0)_{\\substack{s_1\\\\b}\\substack{s_8\\\\b'}}S_{u}(x_3,x_0)_{\\substack{s_0\\\\a}\\substack{s_9\\\\c'}}\\\\\\\\$"
      ],
      "text/plain": [
       "<IPython.core.display.Math object>"
      ]
     },
     "metadata": {},
     "output_type": "display_data"
    },
    {
     "data": {
      "text/latex": [
       "$\\displaystyle d_{24}^{E}=2.0 (\\gamma_{\\mu}e^{-i\\mathbf{q}})_{s_3 s_4}(\\gamma_{\\nu}e^{i\\mathbf{q}})_{s_5 s_6}\\Gamma_{s_0 s_1}\\Gamma_{s_7 s_8}\\epsilon_{a b c}\\epsilon_{a' b' c'}S_{u}(x_2,x_2)_{\\substack{s_4\\\\c_1}\\substack{s_3\\\\c_1}}S_{d}(x_3,x_1)_{\\substack{s_1\\\\b}\\substack{s_5\\\\c_2}}S_{u}(x_3,x_0)_{\\substack{s_0\\\\a}\\substack{s_7\\\\a'}}S_{d}(x_1,x_0)_{\\substack{s_6\\\\c_2}\\substack{s_8\\\\b'}}S_{u}(x_3,x_0)_{\\substack{s_2\\\\c}\\substack{s_9\\\\c'}}\\\\\\\\$"
      ],
      "text/plain": [
       "<IPython.core.display.Math object>"
      ]
     },
     "metadata": {},
     "output_type": "display_data"
    },
    {
     "data": {
      "text/latex": [
       "$\\displaystyle d_{26}^{E}=2.0 (\\gamma_{\\mu}e^{-i\\mathbf{q}})_{s_3 s_4}(\\gamma_{\\nu}e^{i\\mathbf{q}})_{s_5 s_6}\\Gamma_{s_0 s_1}\\Gamma_{s_7 s_8}\\epsilon_{a b c}\\epsilon_{a' b' c'}S_{u}(x_3,x_2)_{\\substack{s_0\\\\a}\\substack{s_3\\\\c_1}}S_{d}(x_1,x_1)_{\\substack{s_6\\\\c_2}\\substack{s_5\\\\c_2}}S_{u}(x_2,x_0)_{\\substack{s_4\\\\c_1}\\substack{s_7\\\\a'}}S_{d}(x_3,x_0)_{\\substack{s_1\\\\b}\\substack{s_8\\\\b'}}S_{u}(x_3,x_0)_{\\substack{s_2\\\\c}\\substack{s_9\\\\c'}}\\\\\\\\$"
      ],
      "text/plain": [
       "<IPython.core.display.Math object>"
      ]
     },
     "metadata": {},
     "output_type": "display_data"
    },
    {
     "data": {
      "text/latex": [
       "$\\displaystyle d_{28}^{E}=2.0 (\\gamma_{\\mu}e^{-i\\mathbf{q}})_{s_3 s_4}(\\gamma_{\\nu}e^{i\\mathbf{q}})_{s_5 s_6}\\Gamma_{s_0 s_1}\\Gamma_{s_7 s_8}\\epsilon_{a b c}\\epsilon_{a' b' c'}S_{u}(x_3,x_2)_{\\substack{s_2\\\\c}\\substack{s_3\\\\c_1}}S_{d}(x_1,x_1)_{\\substack{s_6\\\\c_2}\\substack{s_5\\\\c_2}}S_{u}(x_3,x_0)_{\\substack{s_0\\\\a}\\substack{s_7\\\\a'}}S_{d}(x_3,x_0)_{\\substack{s_1\\\\b}\\substack{s_8\\\\b'}}S_{u}(x_2,x_0)_{\\substack{s_4\\\\c_1}\\substack{s_9\\\\c'}}\\\\\\\\$"
      ],
      "text/plain": [
       "<IPython.core.display.Math object>"
      ]
     },
     "metadata": {},
     "output_type": "display_data"
    },
    {
     "data": {
      "text/latex": [
       "$\\displaystyle d_{29}^{E}=-2.0 (\\gamma_{\\mu}e^{-i\\mathbf{q}})_{s_3 s_4}(\\gamma_{\\nu}e^{i\\mathbf{q}})_{s_5 s_6}\\Gamma_{s_0 s_1}\\Gamma_{s_7 s_8}\\epsilon_{a b c}\\epsilon_{a' b' c'}S_{u}(x_3,x_2)_{\\substack{s_0\\\\a}\\substack{s_3\\\\c_1}}S_{d}(x_1,x_1)_{\\substack{s_6\\\\c_2}\\substack{s_5\\\\c_2}}S_{u}(x_3,x_0)_{\\substack{s_2\\\\c}\\substack{s_7\\\\a'}}S_{d}(x_3,x_0)_{\\substack{s_1\\\\b}\\substack{s_8\\\\b'}}S_{u}(x_2,x_0)_{\\substack{s_4\\\\c_1}\\substack{s_9\\\\c'}}\\\\\\\\$"
      ],
      "text/plain": [
       "<IPython.core.display.Math object>"
      ]
     },
     "metadata": {},
     "output_type": "display_data"
    },
    {
     "data": {
      "text/latex": [
       "$\\displaystyle d_{32}^{E}=-2.0 (\\gamma_{\\mu}e^{-i\\mathbf{q}})_{s_3 s_4}(\\gamma_{\\nu}e^{i\\mathbf{q}})_{s_5 s_6}\\Gamma_{s_0 s_1}\\Gamma_{s_7 s_8}\\epsilon_{a b c}\\epsilon_{a' b' c'}S_{u}(x_3,x_2)_{\\substack{s_2\\\\c}\\substack{s_3\\\\c_1}}S_{d}(x_1,x_1)_{\\substack{s_6\\\\c_2}\\substack{s_5\\\\c_2}}S_{u}(x_2,x_0)_{\\substack{s_4\\\\c_1}\\substack{s_7\\\\a'}}S_{d}(x_3,x_0)_{\\substack{s_1\\\\b}\\substack{s_8\\\\b'}}S_{u}(x_3,x_0)_{\\substack{s_0\\\\a}\\substack{s_9\\\\c'}}\\\\\\\\$"
      ],
      "text/plain": [
       "<IPython.core.display.Math object>"
      ]
     },
     "metadata": {},
     "output_type": "display_data"
    },
    {
     "data": {
      "text/latex": [
       "$\\displaystyle d_{34}^{E}=-2.0 (\\gamma_{\\mu}e^{-i\\mathbf{q}})_{s_3 s_4}(\\gamma_{\\nu}e^{i\\mathbf{q}})_{s_5 s_6}\\Gamma_{s_0 s_1}\\Gamma_{s_7 s_8}\\epsilon_{a b c}\\epsilon_{a' b' c'}S_{u}(x_2,x_2)_{\\substack{s_4\\\\c_1}\\substack{s_3\\\\c_1}}S_{d}(x_3,x_1)_{\\substack{s_1\\\\b}\\substack{s_5\\\\c_2}}S_{u}(x_3,x_0)_{\\substack{s_2\\\\c}\\substack{s_7\\\\a'}}S_{d}(x_1,x_0)_{\\substack{s_6\\\\c_2}\\substack{s_8\\\\b'}}S_{u}(x_3,x_0)_{\\substack{s_0\\\\a}\\substack{s_9\\\\c'}}\\\\\\\\$"
      ],
      "text/plain": [
       "<IPython.core.display.Math object>"
      ]
     },
     "metadata": {},
     "output_type": "display_data"
    },
    {
     "data": {
      "text/latex": [
       "$\\displaystyle d_{38}^{E}=-2.0 (\\gamma_{\\mu}e^{-i\\mathbf{q}})_{s_3 s_4}(\\gamma_{\\nu}e^{i\\mathbf{q}})_{s_5 s_6}\\Gamma_{s_0 s_1}\\Gamma_{s_7 s_8}\\epsilon_{a b c}\\epsilon_{a' b' c'}S_{d}(x_2,x_2)_{\\substack{s_4\\\\c_1}\\substack{s_3\\\\c_1}}S_{u}(x_3,x_1)_{\\substack{s_0\\\\a}\\substack{s_5\\\\c_2}}S_{u}(x_3,x_0)_{\\substack{s_2\\\\c}\\substack{s_7\\\\a'}}S_{d}(x_3,x_0)_{\\substack{s_1\\\\b}\\substack{s_8\\\\b'}}S_{u}(x_1,x_0)_{\\substack{s_6\\\\c_2}\\substack{s_9\\\\c'}}\\\\\\\\$"
      ],
      "text/plain": [
       "<IPython.core.display.Math object>"
      ]
     },
     "metadata": {},
     "output_type": "display_data"
    },
    {
     "data": {
      "text/latex": [
       "$\\displaystyle d_{39}^{E}=2.0 (\\gamma_{\\mu}e^{-i\\mathbf{q}})_{s_3 s_4}(\\gamma_{\\nu}e^{i\\mathbf{q}})_{s_5 s_6}\\Gamma_{s_0 s_1}\\Gamma_{s_7 s_8}\\epsilon_{a b c}\\epsilon_{a' b' c'}S_{d}(x_2,x_2)_{\\substack{s_4\\\\c_1}\\substack{s_3\\\\c_1}}S_{u}(x_3,x_1)_{\\substack{s_2\\\\c}\\substack{s_5\\\\c_2}}S_{u}(x_3,x_0)_{\\substack{s_0\\\\a}\\substack{s_7\\\\a'}}S_{d}(x_3,x_0)_{\\substack{s_1\\\\b}\\substack{s_8\\\\b'}}S_{u}(x_1,x_0)_{\\substack{s_6\\\\c_2}\\substack{s_9\\\\c'}}\\\\\\\\$"
      ],
      "text/plain": [
       "<IPython.core.display.Math object>"
      ]
     },
     "metadata": {},
     "output_type": "display_data"
    },
    {
     "data": {
      "text/latex": [
       "$\\displaystyle d_{41}^{E}=2.0 (\\gamma_{\\mu}e^{-i\\mathbf{q}})_{s_3 s_4}(\\gamma_{\\nu}e^{i\\mathbf{q}})_{s_5 s_6}\\Gamma_{s_0 s_1}\\Gamma_{s_7 s_8}\\epsilon_{a b c}\\epsilon_{a' b' c'}S_{d}(x_3,x_2)_{\\substack{s_1\\\\b}\\substack{s_3\\\\c_1}}S_{u}(x_1,x_1)_{\\substack{s_6\\\\c_2}\\substack{s_5\\\\c_2}}S_{u}(x_3,x_0)_{\\substack{s_0\\\\a}\\substack{s_7\\\\a'}}S_{d}(x_2,x_0)_{\\substack{s_4\\\\c_1}\\substack{s_8\\\\b'}}S_{u}(x_3,x_0)_{\\substack{s_2\\\\c}\\substack{s_9\\\\c'}}\\\\\\\\$"
      ],
      "text/plain": [
       "<IPython.core.display.Math object>"
      ]
     },
     "metadata": {},
     "output_type": "display_data"
    },
    {
     "data": {
      "text/latex": [
       "$\\displaystyle d_{43}^{E}=2.0 (\\gamma_{\\mu}e^{-i\\mathbf{q}})_{s_3 s_4}(\\gamma_{\\nu}e^{i\\mathbf{q}})_{s_5 s_6}\\Gamma_{s_0 s_1}\\Gamma_{s_7 s_8}\\epsilon_{a b c}\\epsilon_{a' b' c'}S_{d}(x_2,x_2)_{\\substack{s_4\\\\c_1}\\substack{s_3\\\\c_1}}S_{u}(x_3,x_1)_{\\substack{s_0\\\\a}\\substack{s_5\\\\c_2}}S_{u}(x_1,x_0)_{\\substack{s_6\\\\c_2}\\substack{s_7\\\\a'}}S_{d}(x_3,x_0)_{\\substack{s_1\\\\b}\\substack{s_8\\\\b'}}S_{u}(x_3,x_0)_{\\substack{s_2\\\\c}\\substack{s_9\\\\c'}}\\\\\\\\$"
      ],
      "text/plain": [
       "<IPython.core.display.Math object>"
      ]
     },
     "metadata": {},
     "output_type": "display_data"
    },
    {
     "data": {
      "text/latex": [
       "$\\displaystyle d_{44}^{E}=-2.0 (\\gamma_{\\mu}e^{-i\\mathbf{q}})_{s_3 s_4}(\\gamma_{\\nu}e^{i\\mathbf{q}})_{s_5 s_6}\\Gamma_{s_0 s_1}\\Gamma_{s_7 s_8}\\epsilon_{a b c}\\epsilon_{a' b' c'}S_{d}(x_2,x_2)_{\\substack{s_4\\\\c_1}\\substack{s_3\\\\c_1}}S_{u}(x_3,x_1)_{\\substack{s_2\\\\c}\\substack{s_5\\\\c_2}}S_{u}(x_1,x_0)_{\\substack{s_6\\\\c_2}\\substack{s_7\\\\a'}}S_{d}(x_3,x_0)_{\\substack{s_1\\\\b}\\substack{s_8\\\\b'}}S_{u}(x_3,x_0)_{\\substack{s_0\\\\a}\\substack{s_9\\\\c'}}\\\\\\\\$"
      ],
      "text/plain": [
       "<IPython.core.display.Math object>"
      ]
     },
     "metadata": {},
     "output_type": "display_data"
    },
    {
     "data": {
      "text/latex": [
       "$\\displaystyle d_{47}^{E}=-2.0 (\\gamma_{\\mu}e^{-i\\mathbf{q}})_{s_3 s_4}(\\gamma_{\\nu}e^{i\\mathbf{q}})_{s_5 s_6}\\Gamma_{s_0 s_1}\\Gamma_{s_7 s_8}\\epsilon_{a b c}\\epsilon_{a' b' c'}S_{d}(x_3,x_2)_{\\substack{s_1\\\\b}\\substack{s_3\\\\c_1}}S_{u}(x_1,x_1)_{\\substack{s_6\\\\c_2}\\substack{s_5\\\\c_2}}S_{u}(x_3,x_0)_{\\substack{s_2\\\\c}\\substack{s_7\\\\a'}}S_{d}(x_2,x_0)_{\\substack{s_4\\\\c_1}\\substack{s_8\\\\b'}}S_{u}(x_3,x_0)_{\\substack{s_0\\\\a}\\substack{s_9\\\\c'}}\\\\\\\\$"
      ],
      "text/plain": [
       "<IPython.core.display.Math object>"
      ]
     },
     "metadata": {},
     "output_type": "display_data"
    },
    {
     "data": {
      "text/latex": [
       "$\\displaystyle d_{49}^{E}=-1.0 (\\gamma_{\\mu}e^{-i\\mathbf{q}})_{s_3 s_4}(\\gamma_{\\nu}e^{i\\mathbf{q}})_{s_5 s_6}\\Gamma_{s_0 s_1}\\Gamma_{s_7 s_8}\\epsilon_{a b c}\\epsilon_{a' b' c'}S_{d}(x_2,x_2)_{\\substack{s_4\\\\c_1}\\substack{s_3\\\\c_1}}S_{d}(x_3,x_1)_{\\substack{s_1\\\\b}\\substack{s_5\\\\c_2}}S_{u}(x_3,x_0)_{\\substack{s_0\\\\a}\\substack{s_7\\\\a'}}S_{d}(x_1,x_0)_{\\substack{s_6\\\\c_2}\\substack{s_8\\\\b'}}S_{u}(x_3,x_0)_{\\substack{s_2\\\\c}\\substack{s_9\\\\c'}}\\\\\\\\$"
      ],
      "text/plain": [
       "<IPython.core.display.Math object>"
      ]
     },
     "metadata": {},
     "output_type": "display_data"
    },
    {
     "data": {
      "text/latex": [
       "$\\displaystyle d_{51}^{E}=-1.0 (\\gamma_{\\mu}e^{-i\\mathbf{q}})_{s_3 s_4}(\\gamma_{\\nu}e^{i\\mathbf{q}})_{s_5 s_6}\\Gamma_{s_0 s_1}\\Gamma_{s_7 s_8}\\epsilon_{a b c}\\epsilon_{a' b' c'}S_{d}(x_3,x_2)_{\\substack{s_1\\\\b}\\substack{s_3\\\\c_1}}S_{d}(x_1,x_1)_{\\substack{s_6\\\\c_2}\\substack{s_5\\\\c_2}}S_{u}(x_3,x_0)_{\\substack{s_0\\\\a}\\substack{s_7\\\\a'}}S_{d}(x_2,x_0)_{\\substack{s_4\\\\c_1}\\substack{s_8\\\\b'}}S_{u}(x_3,x_0)_{\\substack{s_2\\\\c}\\substack{s_9\\\\c'}}\\\\\\\\$"
      ],
      "text/plain": [
       "<IPython.core.display.Math object>"
      ]
     },
     "metadata": {},
     "output_type": "display_data"
    },
    {
     "data": {
      "text/latex": [
       "$\\displaystyle d_{56}^{E}=1.0 (\\gamma_{\\mu}e^{-i\\mathbf{q}})_{s_3 s_4}(\\gamma_{\\nu}e^{i\\mathbf{q}})_{s_5 s_6}\\Gamma_{s_0 s_1}\\Gamma_{s_7 s_8}\\epsilon_{a b c}\\epsilon_{a' b' c'}S_{d}(x_2,x_2)_{\\substack{s_4\\\\c_1}\\substack{s_3\\\\c_1}}S_{d}(x_3,x_1)_{\\substack{s_1\\\\b}\\substack{s_5\\\\c_2}}S_{u}(x_3,x_0)_{\\substack{s_2\\\\c}\\substack{s_7\\\\a'}}S_{d}(x_1,x_0)_{\\substack{s_6\\\\c_2}\\substack{s_8\\\\b'}}S_{u}(x_3,x_0)_{\\substack{s_0\\\\a}\\substack{s_9\\\\c'}}\\\\\\\\$"
      ],
      "text/plain": [
       "<IPython.core.display.Math object>"
      ]
     },
     "metadata": {},
     "output_type": "display_data"
    },
    {
     "data": {
      "text/latex": [
       "$\\displaystyle d_{58}^{E}=1.0 (\\gamma_{\\mu}e^{-i\\mathbf{q}})_{s_3 s_4}(\\gamma_{\\nu}e^{i\\mathbf{q}})_{s_5 s_6}\\Gamma_{s_0 s_1}\\Gamma_{s_7 s_8}\\epsilon_{a b c}\\epsilon_{a' b' c'}S_{d}(x_3,x_2)_{\\substack{s_1\\\\b}\\substack{s_3\\\\c_1}}S_{d}(x_1,x_1)_{\\substack{s_6\\\\c_2}\\substack{s_5\\\\c_2}}S_{u}(x_3,x_0)_{\\substack{s_2\\\\c}\\substack{s_7\\\\a'}}S_{d}(x_2,x_0)_{\\substack{s_4\\\\c_1}\\substack{s_8\\\\b'}}S_{u}(x_3,x_0)_{\\substack{s_0\\\\a}\\substack{s_9\\\\c'}}\\\\\\\\$"
      ],
      "text/plain": [
       "<IPython.core.display.Math object>"
      ]
     },
     "metadata": {},
     "output_type": "display_data"
    },
    {
     "data": {
      "text/latex": [
       "$\\displaystyle d_{8}^{F}=4.0 (\\gamma_{\\mu}e^{-i\\mathbf{q}})_{s_3 s_4}(\\gamma_{\\nu}e^{i\\mathbf{q}})_{s_5 s_6}\\Gamma_{s_0 s_1}\\Gamma_{s_7 s_8}\\epsilon_{a b c}\\epsilon_{a' b' c'}S_{u}(x_2,x_2)_{\\substack{s_4\\\\c_1}\\substack{s_3\\\\c_1}}S_{u}(x_1,x_1)_{\\substack{s_6\\\\c_2}\\substack{s_5\\\\c_2}}S_{u}(x_3,x_0)_{\\substack{s_0\\\\a}\\substack{s_7\\\\a'}}S_{d}(x_3,x_0)_{\\substack{s_1\\\\b}\\substack{s_8\\\\b'}}S_{u}(x_3,x_0)_{\\substack{s_2\\\\c}\\substack{s_9\\\\c'}}\\\\\\\\$"
      ],
      "text/plain": [
       "<IPython.core.display.Math object>"
      ]
     },
     "metadata": {},
     "output_type": "display_data"
    },
    {
     "data": {
      "text/latex": [
       "$\\displaystyle d_{23}^{F}=-4.0 (\\gamma_{\\mu}e^{-i\\mathbf{q}})_{s_3 s_4}(\\gamma_{\\nu}e^{i\\mathbf{q}})_{s_5 s_6}\\Gamma_{s_0 s_1}\\Gamma_{s_7 s_8}\\epsilon_{a b c}\\epsilon_{a' b' c'}S_{u}(x_2,x_2)_{\\substack{s_4\\\\c_1}\\substack{s_3\\\\c_1}}S_{u}(x_1,x_1)_{\\substack{s_6\\\\c_2}\\substack{s_5\\\\c_2}}S_{u}(x_3,x_0)_{\\substack{s_2\\\\c}\\substack{s_7\\\\a'}}S_{d}(x_3,x_0)_{\\substack{s_1\\\\b}\\substack{s_8\\\\b'}}S_{u}(x_3,x_0)_{\\substack{s_0\\\\a}\\substack{s_9\\\\c'}}\\\\\\\\$"
      ],
      "text/plain": [
       "<IPython.core.display.Math object>"
      ]
     },
     "metadata": {},
     "output_type": "display_data"
    },
    {
     "data": {
      "text/latex": [
       "$\\displaystyle d_{27}^{F}=-2.0 (\\gamma_{\\mu}e^{-i\\mathbf{q}})_{s_3 s_4}(\\gamma_{\\nu}e^{i\\mathbf{q}})_{s_5 s_6}\\Gamma_{s_0 s_1}\\Gamma_{s_7 s_8}\\epsilon_{a b c}\\epsilon_{a' b' c'}S_{u}(x_2,x_2)_{\\substack{s_4\\\\c_1}\\substack{s_3\\\\c_1}}S_{d}(x_1,x_1)_{\\substack{s_6\\\\c_2}\\substack{s_5\\\\c_2}}S_{u}(x_3,x_0)_{\\substack{s_0\\\\a}\\substack{s_7\\\\a'}}S_{d}(x_3,x_0)_{\\substack{s_1\\\\b}\\substack{s_8\\\\b'}}S_{u}(x_3,x_0)_{\\substack{s_2\\\\c}\\substack{s_9\\\\c'}}\\\\\\\\$"
      ],
      "text/plain": [
       "<IPython.core.display.Math object>"
      ]
     },
     "metadata": {},
     "output_type": "display_data"
    },
    {
     "data": {
      "text/latex": [
       "$\\displaystyle d_{33}^{F}=2.0 (\\gamma_{\\mu}e^{-i\\mathbf{q}})_{s_3 s_4}(\\gamma_{\\nu}e^{i\\mathbf{q}})_{s_5 s_6}\\Gamma_{s_0 s_1}\\Gamma_{s_7 s_8}\\epsilon_{a b c}\\epsilon_{a' b' c'}S_{u}(x_2,x_2)_{\\substack{s_4\\\\c_1}\\substack{s_3\\\\c_1}}S_{d}(x_1,x_1)_{\\substack{s_6\\\\c_2}\\substack{s_5\\\\c_2}}S_{u}(x_3,x_0)_{\\substack{s_2\\\\c}\\substack{s_7\\\\a'}}S_{d}(x_3,x_0)_{\\substack{s_1\\\\b}\\substack{s_8\\\\b'}}S_{u}(x_3,x_0)_{\\substack{s_0\\\\a}\\substack{s_9\\\\c'}}\\\\\\\\$"
      ],
      "text/plain": [
       "<IPython.core.display.Math object>"
      ]
     },
     "metadata": {},
     "output_type": "display_data"
    },
    {
     "data": {
      "text/latex": [
       "$\\displaystyle d_{42}^{F}=-2.0 (\\gamma_{\\mu}e^{-i\\mathbf{q}})_{s_3 s_4}(\\gamma_{\\nu}e^{i\\mathbf{q}})_{s_5 s_6}\\Gamma_{s_0 s_1}\\Gamma_{s_7 s_8}\\epsilon_{a b c}\\epsilon_{a' b' c'}S_{d}(x_2,x_2)_{\\substack{s_4\\\\c_1}\\substack{s_3\\\\c_1}}S_{u}(x_1,x_1)_{\\substack{s_6\\\\c_2}\\substack{s_5\\\\c_2}}S_{u}(x_3,x_0)_{\\substack{s_0\\\\a}\\substack{s_7\\\\a'}}S_{d}(x_3,x_0)_{\\substack{s_1\\\\b}\\substack{s_8\\\\b'}}S_{u}(x_3,x_0)_{\\substack{s_2\\\\c}\\substack{s_9\\\\c'}}\\\\\\\\$"
      ],
      "text/plain": [
       "<IPython.core.display.Math object>"
      ]
     },
     "metadata": {},
     "output_type": "display_data"
    },
    {
     "data": {
      "text/latex": [
       "$\\displaystyle d_{45}^{F}=2.0 (\\gamma_{\\mu}e^{-i\\mathbf{q}})_{s_3 s_4}(\\gamma_{\\nu}e^{i\\mathbf{q}})_{s_5 s_6}\\Gamma_{s_0 s_1}\\Gamma_{s_7 s_8}\\epsilon_{a b c}\\epsilon_{a' b' c'}S_{d}(x_2,x_2)_{\\substack{s_4\\\\c_1}\\substack{s_3\\\\c_1}}S_{u}(x_1,x_1)_{\\substack{s_6\\\\c_2}\\substack{s_5\\\\c_2}}S_{u}(x_3,x_0)_{\\substack{s_2\\\\c}\\substack{s_7\\\\a'}}S_{d}(x_3,x_0)_{\\substack{s_1\\\\b}\\substack{s_8\\\\b'}}S_{u}(x_3,x_0)_{\\substack{s_0\\\\a}\\substack{s_9\\\\c'}}\\\\\\\\$"
      ],
      "text/plain": [
       "<IPython.core.display.Math object>"
      ]
     },
     "metadata": {},
     "output_type": "display_data"
    },
    {
     "data": {
      "text/latex": [
       "$\\displaystyle d_{52}^{F}=1.0 (\\gamma_{\\mu}e^{-i\\mathbf{q}})_{s_3 s_4}(\\gamma_{\\nu}e^{i\\mathbf{q}})_{s_5 s_6}\\Gamma_{s_0 s_1}\\Gamma_{s_7 s_8}\\epsilon_{a b c}\\epsilon_{a' b' c'}S_{d}(x_2,x_2)_{\\substack{s_4\\\\c_1}\\substack{s_3\\\\c_1}}S_{d}(x_1,x_1)_{\\substack{s_6\\\\c_2}\\substack{s_5\\\\c_2}}S_{u}(x_3,x_0)_{\\substack{s_0\\\\a}\\substack{s_7\\\\a'}}S_{d}(x_3,x_0)_{\\substack{s_1\\\\b}\\substack{s_8\\\\b'}}S_{u}(x_3,x_0)_{\\substack{s_2\\\\c}\\substack{s_9\\\\c'}}\\\\\\\\$"
      ],
      "text/plain": [
       "<IPython.core.display.Math object>"
      ]
     },
     "metadata": {},
     "output_type": "display_data"
    },
    {
     "data": {
      "text/latex": [
       "$\\displaystyle d_{55}^{F}=-1.0 (\\gamma_{\\mu}e^{-i\\mathbf{q}})_{s_3 s_4}(\\gamma_{\\nu}e^{i\\mathbf{q}})_{s_5 s_6}\\Gamma_{s_0 s_1}\\Gamma_{s_7 s_8}\\epsilon_{a b c}\\epsilon_{a' b' c'}S_{d}(x_2,x_2)_{\\substack{s_4\\\\c_1}\\substack{s_3\\\\c_1}}S_{d}(x_1,x_1)_{\\substack{s_6\\\\c_2}\\substack{s_5\\\\c_2}}S_{u}(x_3,x_0)_{\\substack{s_2\\\\c}\\substack{s_7\\\\a'}}S_{d}(x_3,x_0)_{\\substack{s_1\\\\b}\\substack{s_8\\\\b'}}S_{u}(x_3,x_0)_{\\substack{s_0\\\\a}\\substack{s_9\\\\c'}}\\\\\\\\$"
      ],
      "text/plain": [
       "<IPython.core.display.Math object>"
      ]
     },
     "metadata": {},
     "output_type": "display_data"
    }
   ],
   "source": [
    "for i,label in topSorted.items():\n",
    "    pprint(\"d_{\"+str(i)+\"}^{\"+topNames[i]+\"}=\"+proton_diagram_str(total[i])+\"\\\\\\\\\")\n"
   ]
  },
  {
   "cell_type": "code",
   "execution_count": 16,
   "metadata": {},
   "outputs": [
    {
     "name": "stdout",
     "output_type": "stream",
     "text": [
      "\\beq\n",
      "d_{0}^{A}&=4.0 (\\gamma_{\\mu}e^{-i\\mathbf{q}})_{s_3 s_4}(\\gamma_{\\nu}e^{i\\mathbf{q}})_{s_5 s_6}\\Gamma_{s_0 s_1}\\Gamma_{s_7 s_8}\\epsilon_{a b c}\\epsilon_{a' b' c'}S_{u}(x_3,x_2)_{\\substack{s_0\\\\a}\\substack{s_3\\\\c_1}}S_{u}(x_3,x_1)_{\\substack{s_2\\\\c}\\substack{s_5\\\\c_2}}S_{u}(x_2,x_0)_{\\substack{s_4\\\\c_1}\\substack{s_7\\\\a'}}S_{d}(x_3,x_0)_{\\substack{s_1\\\\b}\\substack{s_8\\\\b'}}S_{u}(x_1,x_0)_{\\substack{s_6\\\\c_2}\\substack{s_9\\\\c'}}\\\\\\\\\n",
      "d_{1}^{A}&=-4.0 (\\gamma_{\\mu}e^{-i\\mathbf{q}})_{s_3 s_4}(\\gamma_{\\nu}e^{i\\mathbf{q}})_{s_5 s_6}\\Gamma_{s_0 s_1}\\Gamma_{s_7 s_8}\\epsilon_{a b c}\\epsilon_{a' b' c'}S_{u}(x_3,x_2)_{\\substack{s_2\\\\c}\\substack{s_3\\\\c_1}}S_{u}(x_3,x_1)_{\\substack{s_0\\\\a}\\substack{s_5\\\\c_2}}S_{u}(x_2,x_0)_{\\substack{s_4\\\\c_1}\\substack{s_7\\\\a'}}S_{d}(x_3,x_0)_{\\substack{s_1\\\\b}\\substack{s_8\\\\b'}}S_{u}(x_1,x_0)_{\\substack{s_6\\\\c_2}\\substack{s_9\\\\c'}}\\\\\\\\\n",
      "d_{12}^{A}&=4.0 (\\gamma_{\\mu}e^{-i\\mathbf{q}})_{s_3 s_4}(\\gamma_{\\nu}e^{i\\mathbf{q}})_{s_5 s_6}\\Gamma_{s_0 s_1}\\Gamma_{s_7 s_8}\\epsilon_{a b c}\\epsilon_{a' b' c'}S_{u}(x_3,x_2)_{\\substack{s_2\\\\c}\\substack{s_3\\\\c_1}}S_{u}(x_3,x_1)_{\\substack{s_0\\\\a}\\substack{s_5\\\\c_2}}S_{u}(x_1,x_0)_{\\substack{s_6\\\\c_2}\\substack{s_7\\\\a'}}S_{d}(x_3,x_0)_{\\substack{s_1\\\\b}\\substack{s_8\\\\b'}}S_{u}(x_2,x_0)_{\\substack{s_4\\\\c_1}\\substack{s_9\\\\c'}}\\\\\\\\\n",
      "d_{13}^{A}&=-4.0 (\\gamma_{\\mu}e^{-i\\mathbf{q}})_{s_3 s_4}(\\gamma_{\\nu}e^{i\\mathbf{q}})_{s_5 s_6}\\Gamma_{s_0 s_1}\\Gamma_{s_7 s_8}\\epsilon_{a b c}\\epsilon_{a' b' c'}S_{u}(x_3,x_2)_{\\substack{s_0\\\\a}\\substack{s_3\\\\c_1}}S_{u}(x_3,x_1)_{\\substack{s_2\\\\c}\\substack{s_5\\\\c_2}}S_{u}(x_1,x_0)_{\\substack{s_6\\\\c_2}\\substack{s_7\\\\a'}}S_{d}(x_3,x_0)_{\\substack{s_1\\\\b}\\substack{s_8\\\\b'}}S_{u}(x_2,x_0)_{\\substack{s_4\\\\c_1}\\substack{s_9\\\\c'}}\\\\\\\\\n",
      "d_{25}^{A}&=-2.0 (\\gamma_{\\mu}e^{-i\\mathbf{q}})_{s_3 s_4}(\\gamma_{\\nu}e^{i\\mathbf{q}})_{s_5 s_6}\\Gamma_{s_0 s_1}\\Gamma_{s_7 s_8}\\epsilon_{a b c}\\epsilon_{a' b' c'}S_{u}(x_3,x_2)_{\\substack{s_0\\\\a}\\substack{s_3\\\\c_1}}S_{d}(x_3,x_1)_{\\substack{s_1\\\\b}\\substack{s_5\\\\c_2}}S_{u}(x_2,x_0)_{\\substack{s_4\\\\c_1}\\substack{s_7\\\\a'}}S_{d}(x_1,x_0)_{\\substack{s_6\\\\c_2}\\substack{s_8\\\\b'}}S_{u}(x_3,x_0)_{\\substack{s_2\\\\c}\\substack{s_9\\\\c'}}\\\\\\\\\n",
      "d_{30}^{A}&=2.0 (\\gamma_{\\mu}e^{-i\\mathbf{q}})_{s_3 s_4}(\\gamma_{\\nu}e^{i\\mathbf{q}})_{s_5 s_6}\\Gamma_{s_0 s_1}\\Gamma_{s_7 s_8}\\epsilon_{a b c}\\epsilon_{a' b' c'}S_{u}(x_3,x_2)_{\\substack{s_0\\\\a}\\substack{s_3\\\\c_1}}S_{d}(x_3,x_1)_{\\substack{s_1\\\\b}\\substack{s_5\\\\c_2}}S_{u}(x_3,x_0)_{\\substack{s_2\\\\c}\\substack{s_7\\\\a'}}S_{d}(x_1,x_0)_{\\substack{s_6\\\\c_2}\\substack{s_8\\\\b'}}S_{u}(x_2,x_0)_{\\substack{s_4\\\\c_1}\\substack{s_9\\\\c'}}\\\\\\\\\n",
      "d_{31}^{A}&=-2.0 (\\gamma_{\\mu}e^{-i\\mathbf{q}})_{s_3 s_4}(\\gamma_{\\nu}e^{i\\mathbf{q}})_{s_5 s_6}\\Gamma_{s_0 s_1}\\Gamma_{s_7 s_8}\\epsilon_{a b c}\\epsilon_{a' b' c'}S_{u}(x_3,x_2)_{\\substack{s_2\\\\c}\\substack{s_3\\\\c_1}}S_{d}(x_3,x_1)_{\\substack{s_1\\\\b}\\substack{s_5\\\\c_2}}S_{u}(x_3,x_0)_{\\substack{s_0\\\\a}\\substack{s_7\\\\a'}}S_{d}(x_1,x_0)_{\\substack{s_6\\\\c_2}\\substack{s_8\\\\b'}}S_{u}(x_2,x_0)_{\\substack{s_4\\\\c_1}\\substack{s_9\\\\c'}}\\\\\\\\\n",
      "d_{35}^{A}&=2.0 (\\gamma_{\\mu}e^{-i\\mathbf{q}})_{s_3 s_4}(\\gamma_{\\nu}e^{i\\mathbf{q}})_{s_5 s_6}\\Gamma_{s_0 s_1}\\Gamma_{s_7 s_8}\\epsilon_{a b c}\\epsilon_{a' b' c'}S_{u}(x_3,x_2)_{\\substack{s_2\\\\c}\\substack{s_3\\\\c_1}}S_{d}(x_3,x_1)_{\\substack{s_1\\\\b}\\substack{s_5\\\\c_2}}S_{u}(x_2,x_0)_{\\substack{s_4\\\\c_1}\\substack{s_7\\\\a'}}S_{d}(x_1,x_0)_{\\substack{s_6\\\\c_2}\\substack{s_8\\\\b'}}S_{u}(x_3,x_0)_{\\substack{s_0\\\\a}\\substack{s_9\\\\c'}}\\\\\\\\\n",
      "d_{36}^{A}&=2.0 (\\gamma_{\\mu}e^{-i\\mathbf{q}})_{s_3 s_4}(\\gamma_{\\nu}e^{i\\mathbf{q}})_{s_5 s_6}\\Gamma_{s_0 s_1}\\Gamma_{s_7 s_8}\\epsilon_{a b c}\\epsilon_{a' b' c'}S_{d}(x_3,x_2)_{\\substack{s_1\\\\b}\\substack{s_3\\\\c_1}}S_{u}(x_3,x_1)_{\\substack{s_0\\\\a}\\substack{s_5\\\\c_2}}S_{u}(x_3,x_0)_{\\substack{s_2\\\\c}\\substack{s_7\\\\a'}}S_{d}(x_2,x_0)_{\\substack{s_4\\\\c_1}\\substack{s_8\\\\b'}}S_{u}(x_1,x_0)_{\\substack{s_6\\\\c_2}\\substack{s_9\\\\c'}}\\\\\\\\\n",
      "d_{37}^{A}&=-2.0 (\\gamma_{\\mu}e^{-i\\mathbf{q}})_{s_3 s_4}(\\gamma_{\\nu}e^{i\\mathbf{q}})_{s_5 s_6}\\Gamma_{s_0 s_1}\\Gamma_{s_7 s_8}\\epsilon_{a b c}\\epsilon_{a' b' c'}S_{d}(x_3,x_2)_{\\substack{s_1\\\\b}\\substack{s_3\\\\c_1}}S_{u}(x_3,x_1)_{\\substack{s_2\\\\c}\\substack{s_5\\\\c_2}}S_{u}(x_3,x_0)_{\\substack{s_0\\\\a}\\substack{s_7\\\\a'}}S_{d}(x_2,x_0)_{\\substack{s_4\\\\c_1}\\substack{s_8\\\\b'}}S_{u}(x_1,x_0)_{\\substack{s_6\\\\c_2}\\substack{s_9\\\\c'}}\\\\\\\\\n",
      "d_{40}^{A}&=-2.0 (\\gamma_{\\mu}e^{-i\\mathbf{q}})_{s_3 s_4}(\\gamma_{\\nu}e^{i\\mathbf{q}})_{s_5 s_6}\\Gamma_{s_0 s_1}\\Gamma_{s_7 s_8}\\epsilon_{a b c}\\epsilon_{a' b' c'}S_{d}(x_3,x_2)_{\\substack{s_1\\\\b}\\substack{s_3\\\\c_1}}S_{u}(x_3,x_1)_{\\substack{s_0\\\\a}\\substack{s_5\\\\c_2}}S_{u}(x_1,x_0)_{\\substack{s_6\\\\c_2}\\substack{s_7\\\\a'}}S_{d}(x_2,x_0)_{\\substack{s_4\\\\c_1}\\substack{s_8\\\\b'}}S_{u}(x_3,x_0)_{\\substack{s_2\\\\c}\\substack{s_9\\\\c'}}\\\\\\\\\n",
      "d_{46}^{A}&=2.0 (\\gamma_{\\mu}e^{-i\\mathbf{q}})_{s_3 s_4}(\\gamma_{\\nu}e^{i\\mathbf{q}})_{s_5 s_6}\\Gamma_{s_0 s_1}\\Gamma_{s_7 s_8}\\epsilon_{a b c}\\epsilon_{a' b' c'}S_{d}(x_3,x_2)_{\\substack{s_1\\\\b}\\substack{s_3\\\\c_1}}S_{u}(x_3,x_1)_{\\substack{s_2\\\\c}\\substack{s_5\\\\c_2}}S_{u}(x_1,x_0)_{\\substack{s_6\\\\c_2}\\substack{s_7\\\\a'}}S_{d}(x_2,x_0)_{\\substack{s_4\\\\c_1}\\substack{s_8\\\\b'}}S_{u}(x_3,x_0)_{\\substack{s_0\\\\a}\\substack{s_9\\\\c'}}\\\\\\\\\n",
      "d_{3}^{B}&=-4.0 (\\gamma_{\\mu}e^{-i\\mathbf{q}})_{s_3 s_4}(\\gamma_{\\nu}e^{i\\mathbf{q}})_{s_5 s_6}\\Gamma_{s_0 s_1}\\Gamma_{s_7 s_8}\\epsilon_{a b c}\\epsilon_{a' b' c'}S_{u}(x_3,x_2)_{\\substack{s_0\\\\a}\\substack{s_3\\\\c_1}}S_{u}(x_2,x_1)_{\\substack{s_4\\\\c_1}\\substack{s_5\\\\c_2}}S_{u}(x_3,x_0)_{\\substack{s_2\\\\c}\\substack{s_7\\\\a'}}S_{d}(x_3,x_0)_{\\substack{s_1\\\\b}\\substack{s_8\\\\b'}}S_{u}(x_1,x_0)_{\\substack{s_6\\\\c_2}\\substack{s_9\\\\c'}}\\\\\\\\\n",
      "d_{4}^{B}&=4.0 (\\gamma_{\\mu}e^{-i\\mathbf{q}})_{s_3 s_4}(\\gamma_{\\nu}e^{i\\mathbf{q}})_{s_5 s_6}\\Gamma_{s_0 s_1}\\Gamma_{s_7 s_8}\\epsilon_{a b c}\\epsilon_{a' b' c'}S_{u}(x_3,x_2)_{\\substack{s_2\\\\c}\\substack{s_3\\\\c_1}}S_{u}(x_2,x_1)_{\\substack{s_4\\\\c_1}\\substack{s_5\\\\c_2}}S_{u}(x_3,x_0)_{\\substack{s_0\\\\a}\\substack{s_7\\\\a'}}S_{d}(x_3,x_0)_{\\substack{s_1\\\\b}\\substack{s_8\\\\b'}}S_{u}(x_1,x_0)_{\\substack{s_6\\\\c_2}\\substack{s_9\\\\c'}}\\\\\\\\\n",
      "d_{10}^{B}&=4.0 (\\gamma_{\\mu}e^{-i\\mathbf{q}})_{s_3 s_4}(\\gamma_{\\nu}e^{i\\mathbf{q}})_{s_5 s_6}\\Gamma_{s_0 s_1}\\Gamma_{s_7 s_8}\\epsilon_{a b c}\\epsilon_{a' b' c'}S_{u}(x_3,x_2)_{\\substack{s_0\\\\a}\\substack{s_3\\\\c_1}}S_{u}(x_2,x_1)_{\\substack{s_4\\\\c_1}\\substack{s_5\\\\c_2}}S_{u}(x_1,x_0)_{\\substack{s_6\\\\c_2}\\substack{s_7\\\\a'}}S_{d}(x_3,x_0)_{\\substack{s_1\\\\b}\\substack{s_8\\\\b'}}S_{u}(x_3,x_0)_{\\substack{s_2\\\\c}\\substack{s_9\\\\c'}}\\\\\\\\\n",
      "d_{21}^{B}&=-4.0 (\\gamma_{\\mu}e^{-i\\mathbf{q}})_{s_3 s_4}(\\gamma_{\\nu}e^{i\\mathbf{q}})_{s_5 s_6}\\Gamma_{s_0 s_1}\\Gamma_{s_7 s_8}\\epsilon_{a b c}\\epsilon_{a' b' c'}S_{u}(x_3,x_2)_{\\substack{s_2\\\\c}\\substack{s_3\\\\c_1}}S_{u}(x_2,x_1)_{\\substack{s_4\\\\c_1}\\substack{s_5\\\\c_2}}S_{u}(x_1,x_0)_{\\substack{s_6\\\\c_2}\\substack{s_7\\\\a'}}S_{d}(x_3,x_0)_{\\substack{s_1\\\\b}\\substack{s_8\\\\b'}}S_{u}(x_3,x_0)_{\\substack{s_0\\\\a}\\substack{s_9\\\\c'}}\\\\\\\\\n",
      "d_{48}^{B}&=1.0 (\\gamma_{\\mu}e^{-i\\mathbf{q}})_{s_3 s_4}(\\gamma_{\\nu}e^{i\\mathbf{q}})_{s_5 s_6}\\Gamma_{s_0 s_1}\\Gamma_{s_7 s_8}\\epsilon_{a b c}\\epsilon_{a' b' c'}S_{d}(x_3,x_2)_{\\substack{s_1\\\\b}\\substack{s_3\\\\c_1}}S_{d}(x_2,x_1)_{\\substack{s_4\\\\c_1}\\substack{s_5\\\\c_2}}S_{u}(x_3,x_0)_{\\substack{s_0\\\\a}\\substack{s_7\\\\a'}}S_{d}(x_1,x_0)_{\\substack{s_6\\\\c_2}\\substack{s_8\\\\b'}}S_{u}(x_3,x_0)_{\\substack{s_2\\\\c}\\substack{s_9\\\\c'}}\\\\\\\\\n",
      "d_{57}^{B}&=-1.0 (\\gamma_{\\mu}e^{-i\\mathbf{q}})_{s_3 s_4}(\\gamma_{\\nu}e^{i\\mathbf{q}})_{s_5 s_6}\\Gamma_{s_0 s_1}\\Gamma_{s_7 s_8}\\epsilon_{a b c}\\epsilon_{a' b' c'}S_{d}(x_3,x_2)_{\\substack{s_1\\\\b}\\substack{s_3\\\\c_1}}S_{d}(x_2,x_1)_{\\substack{s_4\\\\c_1}\\substack{s_5\\\\c_2}}S_{u}(x_3,x_0)_{\\substack{s_2\\\\c}\\substack{s_7\\\\a'}}S_{d}(x_1,x_0)_{\\substack{s_6\\\\c_2}\\substack{s_8\\\\b'}}S_{u}(x_3,x_0)_{\\substack{s_0\\\\a}\\substack{s_9\\\\c'}}\\\\\\\\\n",
      "d_{6}^{C}&=4.0 (\\gamma_{\\mu}e^{-i\\mathbf{q}})_{s_3 s_4}(\\gamma_{\\nu}e^{i\\mathbf{q}})_{s_5 s_6}\\Gamma_{s_0 s_1}\\Gamma_{s_7 s_8}\\epsilon_{a b c}\\epsilon_{a' b' c'}S_{u}(x_1,x_2)_{\\substack{s_6\\\\c_2}\\substack{s_3\\\\c_1}}S_{u}(x_3,x_1)_{\\substack{s_0\\\\a}\\substack{s_5\\\\c_2}}S_{u}(x_2,x_0)_{\\substack{s_4\\\\c_1}\\substack{s_7\\\\a'}}S_{d}(x_3,x_0)_{\\substack{s_1\\\\b}\\substack{s_8\\\\b'}}S_{u}(x_3,x_0)_{\\substack{s_2\\\\c}\\substack{s_9\\\\c'}}\\\\\\\\\n",
      "d_{14}^{C}&=4.0 (\\gamma_{\\mu}e^{-i\\mathbf{q}})_{s_3 s_4}(\\gamma_{\\nu}e^{i\\mathbf{q}})_{s_5 s_6}\\Gamma_{s_0 s_1}\\Gamma_{s_7 s_8}\\epsilon_{a b c}\\epsilon_{a' b' c'}S_{u}(x_1,x_2)_{\\substack{s_6\\\\c_2}\\substack{s_3\\\\c_1}}S_{u}(x_3,x_1)_{\\substack{s_2\\\\c}\\substack{s_5\\\\c_2}}S_{u}(x_3,x_0)_{\\substack{s_0\\\\a}\\substack{s_7\\\\a'}}S_{d}(x_3,x_0)_{\\substack{s_1\\\\b}\\substack{s_8\\\\b'}}S_{u}(x_2,x_0)_{\\substack{s_4\\\\c_1}\\substack{s_9\\\\c'}}\\\\\\\\\n",
      "d_{17}^{C}&=-4.0 (\\gamma_{\\mu}e^{-i\\mathbf{q}})_{s_3 s_4}(\\gamma_{\\nu}e^{i\\mathbf{q}})_{s_5 s_6}\\Gamma_{s_0 s_1}\\Gamma_{s_7 s_8}\\epsilon_{a b c}\\epsilon_{a' b' c'}S_{u}(x_1,x_2)_{\\substack{s_6\\\\c_2}\\substack{s_3\\\\c_1}}S_{u}(x_3,x_1)_{\\substack{s_0\\\\a}\\substack{s_5\\\\c_2}}S_{u}(x_3,x_0)_{\\substack{s_2\\\\c}\\substack{s_7\\\\a'}}S_{d}(x_3,x_0)_{\\substack{s_1\\\\b}\\substack{s_8\\\\b'}}S_{u}(x_2,x_0)_{\\substack{s_4\\\\c_1}\\substack{s_9\\\\c'}}\\\\\\\\\n",
      "d_{19}^{C}&=-4.0 (\\gamma_{\\mu}e^{-i\\mathbf{q}})_{s_3 s_4}(\\gamma_{\\nu}e^{i\\mathbf{q}})_{s_5 s_6}\\Gamma_{s_0 s_1}\\Gamma_{s_7 s_8}\\epsilon_{a b c}\\epsilon_{a' b' c'}S_{u}(x_1,x_2)_{\\substack{s_6\\\\c_2}\\substack{s_3\\\\c_1}}S_{u}(x_3,x_1)_{\\substack{s_2\\\\c}\\substack{s_5\\\\c_2}}S_{u}(x_2,x_0)_{\\substack{s_4\\\\c_1}\\substack{s_7\\\\a'}}S_{d}(x_3,x_0)_{\\substack{s_1\\\\b}\\substack{s_8\\\\b'}}S_{u}(x_3,x_0)_{\\substack{s_0\\\\a}\\substack{s_9\\\\c'}}\\\\\\\\\n",
      "d_{50}^{C}&=1.0 (\\gamma_{\\mu}e^{-i\\mathbf{q}})_{s_3 s_4}(\\gamma_{\\nu}e^{i\\mathbf{q}})_{s_5 s_6}\\Gamma_{s_0 s_1}\\Gamma_{s_7 s_8}\\epsilon_{a b c}\\epsilon_{a' b' c'}S_{d}(x_1,x_2)_{\\substack{s_6\\\\c_2}\\substack{s_3\\\\c_1}}S_{d}(x_3,x_1)_{\\substack{s_1\\\\b}\\substack{s_5\\\\c_2}}S_{u}(x_3,x_0)_{\\substack{s_0\\\\a}\\substack{s_7\\\\a'}}S_{d}(x_2,x_0)_{\\substack{s_4\\\\c_1}\\substack{s_8\\\\b'}}S_{u}(x_3,x_0)_{\\substack{s_2\\\\c}\\substack{s_9\\\\c'}}\\\\\\\\\n",
      "d_{59}^{C}&=-1.0 (\\gamma_{\\mu}e^{-i\\mathbf{q}})_{s_3 s_4}(\\gamma_{\\nu}e^{i\\mathbf{q}})_{s_5 s_6}\\Gamma_{s_0 s_1}\\Gamma_{s_7 s_8}\\epsilon_{a b c}\\epsilon_{a' b' c'}S_{d}(x_1,x_2)_{\\substack{s_6\\\\c_2}\\substack{s_3\\\\c_1}}S_{d}(x_3,x_1)_{\\substack{s_1\\\\b}\\substack{s_5\\\\c_2}}S_{u}(x_3,x_0)_{\\substack{s_2\\\\c}\\substack{s_7\\\\a'}}S_{d}(x_2,x_0)_{\\substack{s_4\\\\c_1}\\substack{s_8\\\\b'}}S_{u}(x_3,x_0)_{\\substack{s_0\\\\a}\\substack{s_9\\\\c'}}\\\\\\\\\n",
      "d_{9}^{D}&=-4.0 (\\gamma_{\\mu}e^{-i\\mathbf{q}})_{s_3 s_4}(\\gamma_{\\nu}e^{i\\mathbf{q}})_{s_5 s_6}\\Gamma_{s_0 s_1}\\Gamma_{s_7 s_8}\\epsilon_{a b c}\\epsilon_{a' b' c'}S_{u}(x_1,x_2)_{\\substack{s_6\\\\c_2}\\substack{s_3\\\\c_1}}S_{u}(x_2,x_1)_{\\substack{s_4\\\\c_1}\\substack{s_5\\\\c_2}}S_{u}(x_3,x_0)_{\\substack{s_0\\\\a}\\substack{s_7\\\\a'}}S_{d}(x_3,x_0)_{\\substack{s_1\\\\b}\\substack{s_8\\\\b'}}S_{u}(x_3,x_0)_{\\substack{s_2\\\\c}\\substack{s_9\\\\c'}}\\\\\\\\\n",
      "d_{22}^{D}&=4.0 (\\gamma_{\\mu}e^{-i\\mathbf{q}})_{s_3 s_4}(\\gamma_{\\nu}e^{i\\mathbf{q}})_{s_5 s_6}\\Gamma_{s_0 s_1}\\Gamma_{s_7 s_8}\\epsilon_{a b c}\\epsilon_{a' b' c'}S_{u}(x_1,x_2)_{\\substack{s_6\\\\c_2}\\substack{s_3\\\\c_1}}S_{u}(x_2,x_1)_{\\substack{s_4\\\\c_1}\\substack{s_5\\\\c_2}}S_{u}(x_3,x_0)_{\\substack{s_2\\\\c}\\substack{s_7\\\\a'}}S_{d}(x_3,x_0)_{\\substack{s_1\\\\b}\\substack{s_8\\\\b'}}S_{u}(x_3,x_0)_{\\substack{s_0\\\\a}\\substack{s_9\\\\c'}}\\\\\\\\\n",
      "d_{53}^{D}&=-1.0 (\\gamma_{\\mu}e^{-i\\mathbf{q}})_{s_3 s_4}(\\gamma_{\\nu}e^{i\\mathbf{q}})_{s_5 s_6}\\Gamma_{s_0 s_1}\\Gamma_{s_7 s_8}\\epsilon_{a b c}\\epsilon_{a' b' c'}S_{d}(x_1,x_2)_{\\substack{s_6\\\\c_2}\\substack{s_3\\\\c_1}}S_{d}(x_2,x_1)_{\\substack{s_4\\\\c_1}\\substack{s_5\\\\c_2}}S_{u}(x_3,x_0)_{\\substack{s_0\\\\a}\\substack{s_7\\\\a'}}S_{d}(x_3,x_0)_{\\substack{s_1\\\\b}\\substack{s_8\\\\b'}}S_{u}(x_3,x_0)_{\\substack{s_2\\\\c}\\substack{s_9\\\\c'}}\\\\\\\\\n",
      "d_{54}^{D}&=1.0 (\\gamma_{\\mu}e^{-i\\mathbf{q}})_{s_3 s_4}(\\gamma_{\\nu}e^{i\\mathbf{q}})_{s_5 s_6}\\Gamma_{s_0 s_1}\\Gamma_{s_7 s_8}\\epsilon_{a b c}\\epsilon_{a' b' c'}S_{d}(x_1,x_2)_{\\substack{s_6\\\\c_2}\\substack{s_3\\\\c_1}}S_{d}(x_2,x_1)_{\\substack{s_4\\\\c_1}\\substack{s_5\\\\c_2}}S_{u}(x_3,x_0)_{\\substack{s_2\\\\c}\\substack{s_7\\\\a'}}S_{d}(x_3,x_0)_{\\substack{s_1\\\\b}\\substack{s_8\\\\b'}}S_{u}(x_3,x_0)_{\\substack{s_0\\\\a}\\substack{s_9\\\\c'}}\\\\\\\\\n",
      "d_{2}^{E}&=4.0 (\\gamma_{\\mu}e^{-i\\mathbf{q}})_{s_3 s_4}(\\gamma_{\\nu}e^{i\\mathbf{q}})_{s_5 s_6}\\Gamma_{s_0 s_1}\\Gamma_{s_7 s_8}\\epsilon_{a b c}\\epsilon_{a' b' c'}S_{u}(x_2,x_2)_{\\substack{s_4\\\\c_1}\\substack{s_3\\\\c_1}}S_{u}(x_3,x_1)_{\\substack{s_0\\\\a}\\substack{s_5\\\\c_2}}S_{u}(x_3,x_0)_{\\substack{s_2\\\\c}\\substack{s_7\\\\a'}}S_{d}(x_3,x_0)_{\\substack{s_1\\\\b}\\substack{s_8\\\\b'}}S_{u}(x_1,x_0)_{\\substack{s_6\\\\c_2}\\substack{s_9\\\\c'}}\\\\\\\\\n",
      "d_{5}^{E}&=-4.0 (\\gamma_{\\mu}e^{-i\\mathbf{q}})_{s_3 s_4}(\\gamma_{\\nu}e^{i\\mathbf{q}})_{s_5 s_6}\\Gamma_{s_0 s_1}\\Gamma_{s_7 s_8}\\epsilon_{a b c}\\epsilon_{a' b' c'}S_{u}(x_2,x_2)_{\\substack{s_4\\\\c_1}\\substack{s_3\\\\c_1}}S_{u}(x_3,x_1)_{\\substack{s_2\\\\c}\\substack{s_5\\\\c_2}}S_{u}(x_3,x_0)_{\\substack{s_0\\\\a}\\substack{s_7\\\\a'}}S_{d}(x_3,x_0)_{\\substack{s_1\\\\b}\\substack{s_8\\\\b'}}S_{u}(x_1,x_0)_{\\substack{s_6\\\\c_2}\\substack{s_9\\\\c'}}\\\\\\\\\n",
      "d_{7}^{E}&=-4.0 (\\gamma_{\\mu}e^{-i\\mathbf{q}})_{s_3 s_4}(\\gamma_{\\nu}e^{i\\mathbf{q}})_{s_5 s_6}\\Gamma_{s_0 s_1}\\Gamma_{s_7 s_8}\\epsilon_{a b c}\\epsilon_{a' b' c'}S_{u}(x_3,x_2)_{\\substack{s_0\\\\a}\\substack{s_3\\\\c_1}}S_{u}(x_1,x_1)_{\\substack{s_6\\\\c_2}\\substack{s_5\\\\c_2}}S_{u}(x_2,x_0)_{\\substack{s_4\\\\c_1}\\substack{s_7\\\\a'}}S_{d}(x_3,x_0)_{\\substack{s_1\\\\b}\\substack{s_8\\\\b'}}S_{u}(x_3,x_0)_{\\substack{s_2\\\\c}\\substack{s_9\\\\c'}}\\\\\\\\\n",
      "d_{11}^{E}&=-4.0 (\\gamma_{\\mu}e^{-i\\mathbf{q}})_{s_3 s_4}(\\gamma_{\\nu}e^{i\\mathbf{q}})_{s_5 s_6}\\Gamma_{s_0 s_1}\\Gamma_{s_7 s_8}\\epsilon_{a b c}\\epsilon_{a' b' c'}S_{u}(x_2,x_2)_{\\substack{s_4\\\\c_1}\\substack{s_3\\\\c_1}}S_{u}(x_3,x_1)_{\\substack{s_0\\\\a}\\substack{s_5\\\\c_2}}S_{u}(x_1,x_0)_{\\substack{s_6\\\\c_2}\\substack{s_7\\\\a'}}S_{d}(x_3,x_0)_{\\substack{s_1\\\\b}\\substack{s_8\\\\b'}}S_{u}(x_3,x_0)_{\\substack{s_2\\\\c}\\substack{s_9\\\\c'}}\\\\\\\\\n",
      "d_{15}^{E}&=-4.0 (\\gamma_{\\mu}e^{-i\\mathbf{q}})_{s_3 s_4}(\\gamma_{\\nu}e^{i\\mathbf{q}})_{s_5 s_6}\\Gamma_{s_0 s_1}\\Gamma_{s_7 s_8}\\epsilon_{a b c}\\epsilon_{a' b' c'}S_{u}(x_3,x_2)_{\\substack{s_2\\\\c}\\substack{s_3\\\\c_1}}S_{u}(x_1,x_1)_{\\substack{s_6\\\\c_2}\\substack{s_5\\\\c_2}}S_{u}(x_3,x_0)_{\\substack{s_0\\\\a}\\substack{s_7\\\\a'}}S_{d}(x_3,x_0)_{\\substack{s_1\\\\b}\\substack{s_8\\\\b'}}S_{u}(x_2,x_0)_{\\substack{s_4\\\\c_1}\\substack{s_9\\\\c'}}\\\\\\\\\n",
      "d_{16}^{E}&=4.0 (\\gamma_{\\mu}e^{-i\\mathbf{q}})_{s_3 s_4}(\\gamma_{\\nu}e^{i\\mathbf{q}})_{s_5 s_6}\\Gamma_{s_0 s_1}\\Gamma_{s_7 s_8}\\epsilon_{a b c}\\epsilon_{a' b' c'}S_{u}(x_3,x_2)_{\\substack{s_0\\\\a}\\substack{s_3\\\\c_1}}S_{u}(x_1,x_1)_{\\substack{s_6\\\\c_2}\\substack{s_5\\\\c_2}}S_{u}(x_3,x_0)_{\\substack{s_2\\\\c}\\substack{s_7\\\\a'}}S_{d}(x_3,x_0)_{\\substack{s_1\\\\b}\\substack{s_8\\\\b'}}S_{u}(x_2,x_0)_{\\substack{s_4\\\\c_1}\\substack{s_9\\\\c'}}\\\\\\\\\n",
      "d_{18}^{E}&=4.0 (\\gamma_{\\mu}e^{-i\\mathbf{q}})_{s_3 s_4}(\\gamma_{\\nu}e^{i\\mathbf{q}})_{s_5 s_6}\\Gamma_{s_0 s_1}\\Gamma_{s_7 s_8}\\epsilon_{a b c}\\epsilon_{a' b' c'}S_{u}(x_3,x_2)_{\\substack{s_2\\\\c}\\substack{s_3\\\\c_1}}S_{u}(x_1,x_1)_{\\substack{s_6\\\\c_2}\\substack{s_5\\\\c_2}}S_{u}(x_2,x_0)_{\\substack{s_4\\\\c_1}\\substack{s_7\\\\a'}}S_{d}(x_3,x_0)_{\\substack{s_1\\\\b}\\substack{s_8\\\\b'}}S_{u}(x_3,x_0)_{\\substack{s_0\\\\a}\\substack{s_9\\\\c'}}\\\\\\\\\n",
      "d_{20}^{E}&=4.0 (\\gamma_{\\mu}e^{-i\\mathbf{q}})_{s_3 s_4}(\\gamma_{\\nu}e^{i\\mathbf{q}})_{s_5 s_6}\\Gamma_{s_0 s_1}\\Gamma_{s_7 s_8}\\epsilon_{a b c}\\epsilon_{a' b' c'}S_{u}(x_2,x_2)_{\\substack{s_4\\\\c_1}\\substack{s_3\\\\c_1}}S_{u}(x_3,x_1)_{\\substack{s_2\\\\c}\\substack{s_5\\\\c_2}}S_{u}(x_1,x_0)_{\\substack{s_6\\\\c_2}\\substack{s_7\\\\a'}}S_{d}(x_3,x_0)_{\\substack{s_1\\\\b}\\substack{s_8\\\\b'}}S_{u}(x_3,x_0)_{\\substack{s_0\\\\a}\\substack{s_9\\\\c'}}\\\\\\\\\n",
      "d_{24}^{E}&=2.0 (\\gamma_{\\mu}e^{-i\\mathbf{q}})_{s_3 s_4}(\\gamma_{\\nu}e^{i\\mathbf{q}})_{s_5 s_6}\\Gamma_{s_0 s_1}\\Gamma_{s_7 s_8}\\epsilon_{a b c}\\epsilon_{a' b' c'}S_{u}(x_2,x_2)_{\\substack{s_4\\\\c_1}\\substack{s_3\\\\c_1}}S_{d}(x_3,x_1)_{\\substack{s_1\\\\b}\\substack{s_5\\\\c_2}}S_{u}(x_3,x_0)_{\\substack{s_0\\\\a}\\substack{s_7\\\\a'}}S_{d}(x_1,x_0)_{\\substack{s_6\\\\c_2}\\substack{s_8\\\\b'}}S_{u}(x_3,x_0)_{\\substack{s_2\\\\c}\\substack{s_9\\\\c'}}\\\\\\\\\n",
      "d_{26}^{E}&=2.0 (\\gamma_{\\mu}e^{-i\\mathbf{q}})_{s_3 s_4}(\\gamma_{\\nu}e^{i\\mathbf{q}})_{s_5 s_6}\\Gamma_{s_0 s_1}\\Gamma_{s_7 s_8}\\epsilon_{a b c}\\epsilon_{a' b' c'}S_{u}(x_3,x_2)_{\\substack{s_0\\\\a}\\substack{s_3\\\\c_1}}S_{d}(x_1,x_1)_{\\substack{s_6\\\\c_2}\\substack{s_5\\\\c_2}}S_{u}(x_2,x_0)_{\\substack{s_4\\\\c_1}\\substack{s_7\\\\a'}}S_{d}(x_3,x_0)_{\\substack{s_1\\\\b}\\substack{s_8\\\\b'}}S_{u}(x_3,x_0)_{\\substack{s_2\\\\c}\\substack{s_9\\\\c'}}\\\\\\\\\n",
      "d_{28}^{E}&=2.0 (\\gamma_{\\mu}e^{-i\\mathbf{q}})_{s_3 s_4}(\\gamma_{\\nu}e^{i\\mathbf{q}})_{s_5 s_6}\\Gamma_{s_0 s_1}\\Gamma_{s_7 s_8}\\epsilon_{a b c}\\epsilon_{a' b' c'}S_{u}(x_3,x_2)_{\\substack{s_2\\\\c}\\substack{s_3\\\\c_1}}S_{d}(x_1,x_1)_{\\substack{s_6\\\\c_2}\\substack{s_5\\\\c_2}}S_{u}(x_3,x_0)_{\\substack{s_0\\\\a}\\substack{s_7\\\\a'}}S_{d}(x_3,x_0)_{\\substack{s_1\\\\b}\\substack{s_8\\\\b'}}S_{u}(x_2,x_0)_{\\substack{s_4\\\\c_1}\\substack{s_9\\\\c'}}\\\\\\\\\n",
      "d_{29}^{E}&=-2.0 (\\gamma_{\\mu}e^{-i\\mathbf{q}})_{s_3 s_4}(\\gamma_{\\nu}e^{i\\mathbf{q}})_{s_5 s_6}\\Gamma_{s_0 s_1}\\Gamma_{s_7 s_8}\\epsilon_{a b c}\\epsilon_{a' b' c'}S_{u}(x_3,x_2)_{\\substack{s_0\\\\a}\\substack{s_3\\\\c_1}}S_{d}(x_1,x_1)_{\\substack{s_6\\\\c_2}\\substack{s_5\\\\c_2}}S_{u}(x_3,x_0)_{\\substack{s_2\\\\c}\\substack{s_7\\\\a'}}S_{d}(x_3,x_0)_{\\substack{s_1\\\\b}\\substack{s_8\\\\b'}}S_{u}(x_2,x_0)_{\\substack{s_4\\\\c_1}\\substack{s_9\\\\c'}}\\\\\\\\\n",
      "d_{32}^{E}&=-2.0 (\\gamma_{\\mu}e^{-i\\mathbf{q}})_{s_3 s_4}(\\gamma_{\\nu}e^{i\\mathbf{q}})_{s_5 s_6}\\Gamma_{s_0 s_1}\\Gamma_{s_7 s_8}\\epsilon_{a b c}\\epsilon_{a' b' c'}S_{u}(x_3,x_2)_{\\substack{s_2\\\\c}\\substack{s_3\\\\c_1}}S_{d}(x_1,x_1)_{\\substack{s_6\\\\c_2}\\substack{s_5\\\\c_2}}S_{u}(x_2,x_0)_{\\substack{s_4\\\\c_1}\\substack{s_7\\\\a'}}S_{d}(x_3,x_0)_{\\substack{s_1\\\\b}\\substack{s_8\\\\b'}}S_{u}(x_3,x_0)_{\\substack{s_0\\\\a}\\substack{s_9\\\\c'}}\\\\\\\\\n",
      "d_{34}^{E}&=-2.0 (\\gamma_{\\mu}e^{-i\\mathbf{q}})_{s_3 s_4}(\\gamma_{\\nu}e^{i\\mathbf{q}})_{s_5 s_6}\\Gamma_{s_0 s_1}\\Gamma_{s_7 s_8}\\epsilon_{a b c}\\epsilon_{a' b' c'}S_{u}(x_2,x_2)_{\\substack{s_4\\\\c_1}\\substack{s_3\\\\c_1}}S_{d}(x_3,x_1)_{\\substack{s_1\\\\b}\\substack{s_5\\\\c_2}}S_{u}(x_3,x_0)_{\\substack{s_2\\\\c}\\substack{s_7\\\\a'}}S_{d}(x_1,x_0)_{\\substack{s_6\\\\c_2}\\substack{s_8\\\\b'}}S_{u}(x_3,x_0)_{\\substack{s_0\\\\a}\\substack{s_9\\\\c'}}\\\\\\\\\n",
      "d_{38}^{E}&=-2.0 (\\gamma_{\\mu}e^{-i\\mathbf{q}})_{s_3 s_4}(\\gamma_{\\nu}e^{i\\mathbf{q}})_{s_5 s_6}\\Gamma_{s_0 s_1}\\Gamma_{s_7 s_8}\\epsilon_{a b c}\\epsilon_{a' b' c'}S_{d}(x_2,x_2)_{\\substack{s_4\\\\c_1}\\substack{s_3\\\\c_1}}S_{u}(x_3,x_1)_{\\substack{s_0\\\\a}\\substack{s_5\\\\c_2}}S_{u}(x_3,x_0)_{\\substack{s_2\\\\c}\\substack{s_7\\\\a'}}S_{d}(x_3,x_0)_{\\substack{s_1\\\\b}\\substack{s_8\\\\b'}}S_{u}(x_1,x_0)_{\\substack{s_6\\\\c_2}\\substack{s_9\\\\c'}}\\\\\\\\\n",
      "d_{39}^{E}&=2.0 (\\gamma_{\\mu}e^{-i\\mathbf{q}})_{s_3 s_4}(\\gamma_{\\nu}e^{i\\mathbf{q}})_{s_5 s_6}\\Gamma_{s_0 s_1}\\Gamma_{s_7 s_8}\\epsilon_{a b c}\\epsilon_{a' b' c'}S_{d}(x_2,x_2)_{\\substack{s_4\\\\c_1}\\substack{s_3\\\\c_1}}S_{u}(x_3,x_1)_{\\substack{s_2\\\\c}\\substack{s_5\\\\c_2}}S_{u}(x_3,x_0)_{\\substack{s_0\\\\a}\\substack{s_7\\\\a'}}S_{d}(x_3,x_0)_{\\substack{s_1\\\\b}\\substack{s_8\\\\b'}}S_{u}(x_1,x_0)_{\\substack{s_6\\\\c_2}\\substack{s_9\\\\c'}}\\\\\\\\\n",
      "d_{41}^{E}&=2.0 (\\gamma_{\\mu}e^{-i\\mathbf{q}})_{s_3 s_4}(\\gamma_{\\nu}e^{i\\mathbf{q}})_{s_5 s_6}\\Gamma_{s_0 s_1}\\Gamma_{s_7 s_8}\\epsilon_{a b c}\\epsilon_{a' b' c'}S_{d}(x_3,x_2)_{\\substack{s_1\\\\b}\\substack{s_3\\\\c_1}}S_{u}(x_1,x_1)_{\\substack{s_6\\\\c_2}\\substack{s_5\\\\c_2}}S_{u}(x_3,x_0)_{\\substack{s_0\\\\a}\\substack{s_7\\\\a'}}S_{d}(x_2,x_0)_{\\substack{s_4\\\\c_1}\\substack{s_8\\\\b'}}S_{u}(x_3,x_0)_{\\substack{s_2\\\\c}\\substack{s_9\\\\c'}}\\\\\\\\\n",
      "d_{43}^{E}&=2.0 (\\gamma_{\\mu}e^{-i\\mathbf{q}})_{s_3 s_4}(\\gamma_{\\nu}e^{i\\mathbf{q}})_{s_5 s_6}\\Gamma_{s_0 s_1}\\Gamma_{s_7 s_8}\\epsilon_{a b c}\\epsilon_{a' b' c'}S_{d}(x_2,x_2)_{\\substack{s_4\\\\c_1}\\substack{s_3\\\\c_1}}S_{u}(x_3,x_1)_{\\substack{s_0\\\\a}\\substack{s_5\\\\c_2}}S_{u}(x_1,x_0)_{\\substack{s_6\\\\c_2}\\substack{s_7\\\\a'}}S_{d}(x_3,x_0)_{\\substack{s_1\\\\b}\\substack{s_8\\\\b'}}S_{u}(x_3,x_0)_{\\substack{s_2\\\\c}\\substack{s_9\\\\c'}}\\\\\\\\\n",
      "d_{44}^{E}&=-2.0 (\\gamma_{\\mu}e^{-i\\mathbf{q}})_{s_3 s_4}(\\gamma_{\\nu}e^{i\\mathbf{q}})_{s_5 s_6}\\Gamma_{s_0 s_1}\\Gamma_{s_7 s_8}\\epsilon_{a b c}\\epsilon_{a' b' c'}S_{d}(x_2,x_2)_{\\substack{s_4\\\\c_1}\\substack{s_3\\\\c_1}}S_{u}(x_3,x_1)_{\\substack{s_2\\\\c}\\substack{s_5\\\\c_2}}S_{u}(x_1,x_0)_{\\substack{s_6\\\\c_2}\\substack{s_7\\\\a'}}S_{d}(x_3,x_0)_{\\substack{s_1\\\\b}\\substack{s_8\\\\b'}}S_{u}(x_3,x_0)_{\\substack{s_0\\\\a}\\substack{s_9\\\\c'}}\\\\\\\\\n",
      "d_{47}^{E}&=-2.0 (\\gamma_{\\mu}e^{-i\\mathbf{q}})_{s_3 s_4}(\\gamma_{\\nu}e^{i\\mathbf{q}})_{s_5 s_6}\\Gamma_{s_0 s_1}\\Gamma_{s_7 s_8}\\epsilon_{a b c}\\epsilon_{a' b' c'}S_{d}(x_3,x_2)_{\\substack{s_1\\\\b}\\substack{s_3\\\\c_1}}S_{u}(x_1,x_1)_{\\substack{s_6\\\\c_2}\\substack{s_5\\\\c_2}}S_{u}(x_3,x_0)_{\\substack{s_2\\\\c}\\substack{s_7\\\\a'}}S_{d}(x_2,x_0)_{\\substack{s_4\\\\c_1}\\substack{s_8\\\\b'}}S_{u}(x_3,x_0)_{\\substack{s_0\\\\a}\\substack{s_9\\\\c'}}\\\\\\\\\n",
      "d_{49}^{E}&=-1.0 (\\gamma_{\\mu}e^{-i\\mathbf{q}})_{s_3 s_4}(\\gamma_{\\nu}e^{i\\mathbf{q}})_{s_5 s_6}\\Gamma_{s_0 s_1}\\Gamma_{s_7 s_8}\\epsilon_{a b c}\\epsilon_{a' b' c'}S_{d}(x_2,x_2)_{\\substack{s_4\\\\c_1}\\substack{s_3\\\\c_1}}S_{d}(x_3,x_1)_{\\substack{s_1\\\\b}\\substack{s_5\\\\c_2}}S_{u}(x_3,x_0)_{\\substack{s_0\\\\a}\\substack{s_7\\\\a'}}S_{d}(x_1,x_0)_{\\substack{s_6\\\\c_2}\\substack{s_8\\\\b'}}S_{u}(x_3,x_0)_{\\substack{s_2\\\\c}\\substack{s_9\\\\c'}}\\\\\\\\\n",
      "d_{51}^{E}&=-1.0 (\\gamma_{\\mu}e^{-i\\mathbf{q}})_{s_3 s_4}(\\gamma_{\\nu}e^{i\\mathbf{q}})_{s_5 s_6}\\Gamma_{s_0 s_1}\\Gamma_{s_7 s_8}\\epsilon_{a b c}\\epsilon_{a' b' c'}S_{d}(x_3,x_2)_{\\substack{s_1\\\\b}\\substack{s_3\\\\c_1}}S_{d}(x_1,x_1)_{\\substack{s_6\\\\c_2}\\substack{s_5\\\\c_2}}S_{u}(x_3,x_0)_{\\substack{s_0\\\\a}\\substack{s_7\\\\a'}}S_{d}(x_2,x_0)_{\\substack{s_4\\\\c_1}\\substack{s_8\\\\b'}}S_{u}(x_3,x_0)_{\\substack{s_2\\\\c}\\substack{s_9\\\\c'}}\\\\\\\\\n",
      "d_{56}^{E}&=1.0 (\\gamma_{\\mu}e^{-i\\mathbf{q}})_{s_3 s_4}(\\gamma_{\\nu}e^{i\\mathbf{q}})_{s_5 s_6}\\Gamma_{s_0 s_1}\\Gamma_{s_7 s_8}\\epsilon_{a b c}\\epsilon_{a' b' c'}S_{d}(x_2,x_2)_{\\substack{s_4\\\\c_1}\\substack{s_3\\\\c_1}}S_{d}(x_3,x_1)_{\\substack{s_1\\\\b}\\substack{s_5\\\\c_2}}S_{u}(x_3,x_0)_{\\substack{s_2\\\\c}\\substack{s_7\\\\a'}}S_{d}(x_1,x_0)_{\\substack{s_6\\\\c_2}\\substack{s_8\\\\b'}}S_{u}(x_3,x_0)_{\\substack{s_0\\\\a}\\substack{s_9\\\\c'}}\\\\\\\\\n",
      "d_{58}^{E}&=1.0 (\\gamma_{\\mu}e^{-i\\mathbf{q}})_{s_3 s_4}(\\gamma_{\\nu}e^{i\\mathbf{q}})_{s_5 s_6}\\Gamma_{s_0 s_1}\\Gamma_{s_7 s_8}\\epsilon_{a b c}\\epsilon_{a' b' c'}S_{d}(x_3,x_2)_{\\substack{s_1\\\\b}\\substack{s_3\\\\c_1}}S_{d}(x_1,x_1)_{\\substack{s_6\\\\c_2}\\substack{s_5\\\\c_2}}S_{u}(x_3,x_0)_{\\substack{s_2\\\\c}\\substack{s_7\\\\a'}}S_{d}(x_2,x_0)_{\\substack{s_4\\\\c_1}\\substack{s_8\\\\b'}}S_{u}(x_3,x_0)_{\\substack{s_0\\\\a}\\substack{s_9\\\\c'}}\\\\\\\\\n",
      "d_{8}^{F}&=4.0 (\\gamma_{\\mu}e^{-i\\mathbf{q}})_{s_3 s_4}(\\gamma_{\\nu}e^{i\\mathbf{q}})_{s_5 s_6}\\Gamma_{s_0 s_1}\\Gamma_{s_7 s_8}\\epsilon_{a b c}\\epsilon_{a' b' c'}S_{u}(x_2,x_2)_{\\substack{s_4\\\\c_1}\\substack{s_3\\\\c_1}}S_{u}(x_1,x_1)_{\\substack{s_6\\\\c_2}\\substack{s_5\\\\c_2}}S_{u}(x_3,x_0)_{\\substack{s_0\\\\a}\\substack{s_7\\\\a'}}S_{d}(x_3,x_0)_{\\substack{s_1\\\\b}\\substack{s_8\\\\b'}}S_{u}(x_3,x_0)_{\\substack{s_2\\\\c}\\substack{s_9\\\\c'}}\\\\\\\\\n",
      "d_{23}^{F}&=-4.0 (\\gamma_{\\mu}e^{-i\\mathbf{q}})_{s_3 s_4}(\\gamma_{\\nu}e^{i\\mathbf{q}})_{s_5 s_6}\\Gamma_{s_0 s_1}\\Gamma_{s_7 s_8}\\epsilon_{a b c}\\epsilon_{a' b' c'}S_{u}(x_2,x_2)_{\\substack{s_4\\\\c_1}\\substack{s_3\\\\c_1}}S_{u}(x_1,x_1)_{\\substack{s_6\\\\c_2}\\substack{s_5\\\\c_2}}S_{u}(x_3,x_0)_{\\substack{s_2\\\\c}\\substack{s_7\\\\a'}}S_{d}(x_3,x_0)_{\\substack{s_1\\\\b}\\substack{s_8\\\\b'}}S_{u}(x_3,x_0)_{\\substack{s_0\\\\a}\\substack{s_9\\\\c'}}\\\\\\\\\n",
      "d_{27}^{F}&=-2.0 (\\gamma_{\\mu}e^{-i\\mathbf{q}})_{s_3 s_4}(\\gamma_{\\nu}e^{i\\mathbf{q}})_{s_5 s_6}\\Gamma_{s_0 s_1}\\Gamma_{s_7 s_8}\\epsilon_{a b c}\\epsilon_{a' b' c'}S_{u}(x_2,x_2)_{\\substack{s_4\\\\c_1}\\substack{s_3\\\\c_1}}S_{d}(x_1,x_1)_{\\substack{s_6\\\\c_2}\\substack{s_5\\\\c_2}}S_{u}(x_3,x_0)_{\\substack{s_0\\\\a}\\substack{s_7\\\\a'}}S_{d}(x_3,x_0)_{\\substack{s_1\\\\b}\\substack{s_8\\\\b'}}S_{u}(x_3,x_0)_{\\substack{s_2\\\\c}\\substack{s_9\\\\c'}}\\\\\\\\\n",
      "d_{33}^{F}&=2.0 (\\gamma_{\\mu}e^{-i\\mathbf{q}})_{s_3 s_4}(\\gamma_{\\nu}e^{i\\mathbf{q}})_{s_5 s_6}\\Gamma_{s_0 s_1}\\Gamma_{s_7 s_8}\\epsilon_{a b c}\\epsilon_{a' b' c'}S_{u}(x_2,x_2)_{\\substack{s_4\\\\c_1}\\substack{s_3\\\\c_1}}S_{d}(x_1,x_1)_{\\substack{s_6\\\\c_2}\\substack{s_5\\\\c_2}}S_{u}(x_3,x_0)_{\\substack{s_2\\\\c}\\substack{s_7\\\\a'}}S_{d}(x_3,x_0)_{\\substack{s_1\\\\b}\\substack{s_8\\\\b'}}S_{u}(x_3,x_0)_{\\substack{s_0\\\\a}\\substack{s_9\\\\c'}}\\\\\\\\\n",
      "d_{42}^{F}&=-2.0 (\\gamma_{\\mu}e^{-i\\mathbf{q}})_{s_3 s_4}(\\gamma_{\\nu}e^{i\\mathbf{q}})_{s_5 s_6}\\Gamma_{s_0 s_1}\\Gamma_{s_7 s_8}\\epsilon_{a b c}\\epsilon_{a' b' c'}S_{d}(x_2,x_2)_{\\substack{s_4\\\\c_1}\\substack{s_3\\\\c_1}}S_{u}(x_1,x_1)_{\\substack{s_6\\\\c_2}\\substack{s_5\\\\c_2}}S_{u}(x_3,x_0)_{\\substack{s_0\\\\a}\\substack{s_7\\\\a'}}S_{d}(x_3,x_0)_{\\substack{s_1\\\\b}\\substack{s_8\\\\b'}}S_{u}(x_3,x_0)_{\\substack{s_2\\\\c}\\substack{s_9\\\\c'}}\\\\\\\\\n",
      "d_{45}^{F}&=2.0 (\\gamma_{\\mu}e^{-i\\mathbf{q}})_{s_3 s_4}(\\gamma_{\\nu}e^{i\\mathbf{q}})_{s_5 s_6}\\Gamma_{s_0 s_1}\\Gamma_{s_7 s_8}\\epsilon_{a b c}\\epsilon_{a' b' c'}S_{d}(x_2,x_2)_{\\substack{s_4\\\\c_1}\\substack{s_3\\\\c_1}}S_{u}(x_1,x_1)_{\\substack{s_6\\\\c_2}\\substack{s_5\\\\c_2}}S_{u}(x_3,x_0)_{\\substack{s_2\\\\c}\\substack{s_7\\\\a'}}S_{d}(x_3,x_0)_{\\substack{s_1\\\\b}\\substack{s_8\\\\b'}}S_{u}(x_3,x_0)_{\\substack{s_0\\\\a}\\substack{s_9\\\\c'}}\\\\\\\\\n",
      "d_{52}^{F}&=1.0 (\\gamma_{\\mu}e^{-i\\mathbf{q}})_{s_3 s_4}(\\gamma_{\\nu}e^{i\\mathbf{q}})_{s_5 s_6}\\Gamma_{s_0 s_1}\\Gamma_{s_7 s_8}\\epsilon_{a b c}\\epsilon_{a' b' c'}S_{d}(x_2,x_2)_{\\substack{s_4\\\\c_1}\\substack{s_3\\\\c_1}}S_{d}(x_1,x_1)_{\\substack{s_6\\\\c_2}\\substack{s_5\\\\c_2}}S_{u}(x_3,x_0)_{\\substack{s_0\\\\a}\\substack{s_7\\\\a'}}S_{d}(x_3,x_0)_{\\substack{s_1\\\\b}\\substack{s_8\\\\b'}}S_{u}(x_3,x_0)_{\\substack{s_2\\\\c}\\substack{s_9\\\\c'}}\\\\\\\\\n",
      "d_{55}^{F}&=-1.0 (\\gamma_{\\mu}e^{-i\\mathbf{q}})_{s_3 s_4}(\\gamma_{\\nu}e^{i\\mathbf{q}})_{s_5 s_6}\\Gamma_{s_0 s_1}\\Gamma_{s_7 s_8}\\epsilon_{a b c}\\epsilon_{a' b' c'}S_{d}(x_2,x_2)_{\\substack{s_4\\\\c_1}\\substack{s_3\\\\c_1}}S_{d}(x_1,x_1)_{\\substack{s_6\\\\c_2}\\substack{s_5\\\\c_2}}S_{u}(x_3,x_0)_{\\substack{s_2\\\\c}\\substack{s_7\\\\a'}}S_{d}(x_3,x_0)_{\\substack{s_1\\\\b}\\substack{s_8\\\\b'}}S_{u}(x_3,x_0)_{\\substack{s_0\\\\a}\\substack{s_9\\\\c'}}\\\\\\\\\n",
      "\\eeq\n"
     ]
    }
   ],
   "source": [
    "print(\"\\\\beq\")\n",
    "for i,label in topSorted.items():\n",
    "    print(\"d_{\"+str(i)+\"}^{\"+topNames[i]+\"}&=\"+proton_diagram_str(total[i])+\"\\\\\\\\\")\n",
    "print(\"\\eeq\")\n",
    "\n",
    "\n",
    "# pairing terms?"
   ]
  },
  {
   "cell_type": "code",
   "execution_count": 17,
   "metadata": {},
   "outputs": [],
   "source": [
    "from print_utilities import print_diagrams_labelled\n",
    "from proton_diagram import ProtonDiagram"
   ]
  },
  {
   "cell_type": "code",
   "execution_count": null,
   "metadata": {},
   "outputs": [],
   "source": []
  },
  {
   "cell_type": "code",
   "execution_count": 18,
   "metadata": {},
   "outputs": [
    {
     "data": {
      "text/latex": [
       "$\\displaystyle d_{0}^{A}=4.0\\epsilon_{a b c}\\epsilon_{a' b' c'}S_{u}(t_3, t_1)_{c,c_2}(\\gamma_{\\nu}e^{i\\mathbf{q}}) S_{u}(t_1, t_0)_{c_2,c'}\\text{tr}\\left[S_{u}(t_3, t_2)_{a,c_1}(\\gamma_{\\mu}e^{-i\\mathbf{q}}) S_{u}(t_2, t_0)_{c_1,a'}\\Gamma S_{d}^{\\widetilde{T}}(t_3, t_0)_{b,b'}\\Gamma^{\\widetilde{T}} \\right]$"
      ],
      "text/plain": [
       "<IPython.core.display.Math object>"
      ]
     },
     "metadata": {},
     "output_type": "display_data"
    },
    {
     "data": {
      "text/latex": [
       "$\\displaystyle d_{1}^{A}=-4.0\\epsilon_{a b c}\\epsilon_{a' b' c'}S_{u}(t_3, t_2)_{c,c_1}(\\gamma_{\\mu}e^{-i\\mathbf{q}}) S_{u}(t_2, t_0)_{c_1,a'}\\Gamma S_{d}^{\\widetilde{T}}(t_3, t_0)_{b,b'}\\Gamma^{\\widetilde{T}} S_{u}(t_3, t_1)_{a,c_2}(\\gamma_{\\nu}e^{i\\mathbf{q}}) S_{u}(t_1, t_0)_{c_2,c'}$"
      ],
      "text/plain": [
       "<IPython.core.display.Math object>"
      ]
     },
     "metadata": {},
     "output_type": "display_data"
    },
    {
     "data": {
      "text/latex": [
       "$\\displaystyle d_{12}^{A}=4.0\\epsilon_{a b c}\\epsilon_{a' b' c'}S_{u}(t_3, t_2)_{c,c_1}(\\gamma_{\\mu}e^{-i\\mathbf{q}}) S_{u}(t_2, t_0)_{c_1,c'}\\text{tr}\\left[S_{u}(t_3, t_1)_{a,c_2}(\\gamma_{\\nu}e^{i\\mathbf{q}}) S_{u}(t_1, t_0)_{c_2,a'}\\Gamma S_{d}^{\\widetilde{T}}(t_3, t_0)_{b,b'}\\Gamma^{\\widetilde{T}} \\right]$"
      ],
      "text/plain": [
       "<IPython.core.display.Math object>"
      ]
     },
     "metadata": {},
     "output_type": "display_data"
    },
    {
     "data": {
      "text/latex": [
       "$\\displaystyle d_{13}^{A}=-4.0\\epsilon_{a b c}\\epsilon_{a' b' c'}S_{u}(t_3, t_1)_{c,c_2}(\\gamma_{\\nu}e^{i\\mathbf{q}}) S_{u}(t_1, t_0)_{c_2,a'}\\Gamma S_{d}^{\\widetilde{T}}(t_3, t_0)_{b,b'}\\Gamma^{\\widetilde{T}} S_{u}(t_3, t_2)_{a,c_1}(\\gamma_{\\mu}e^{-i\\mathbf{q}}) S_{u}(t_2, t_0)_{c_1,c'}$"
      ],
      "text/plain": [
       "<IPython.core.display.Math object>"
      ]
     },
     "metadata": {},
     "output_type": "display_data"
    },
    {
     "data": {
      "text/latex": [
       "$\\displaystyle d_{25}^{A}=-2.0\\epsilon_{a b c}\\epsilon_{a' b' c'}S_{u}(t_3, t_0)_{c,c'}\\text{tr}\\left[S_{u}(t_3, t_2)_{a,c_1}(\\gamma_{\\mu}e^{-i\\mathbf{q}}) S_{u}(t_2, t_0)_{c_1,a'}\\Gamma S_{d}^{\\widetilde{T}}(t_1, t_0)_{c_2,b'}(\\gamma_{\\nu}e^{i\\mathbf{q}})^{\\widetilde{T}} S_{d}^{\\widetilde{T}}(t_3, t_1)_{b,c_2}\\Gamma^{\\widetilde{T}} \\right]$"
      ],
      "text/plain": [
       "<IPython.core.display.Math object>"
      ]
     },
     "metadata": {},
     "output_type": "display_data"
    },
    {
     "data": {
      "text/latex": [
       "$\\displaystyle d_{30}^{A}=2.0\\epsilon_{a b c}\\epsilon_{a' b' c'}S_{u}(t_3, t_0)_{c,a'}\\Gamma S_{d}^{\\widetilde{T}}(t_1, t_0)_{c_2,b'}(\\gamma_{\\nu}e^{i\\mathbf{q}})^{\\widetilde{T}} S_{d}^{\\widetilde{T}}(t_3, t_1)_{b,c_2}\\Gamma^{\\widetilde{T}} S_{u}(t_3, t_2)_{a,c_1}(\\gamma_{\\mu}e^{-i\\mathbf{q}}) S_{u}(t_2, t_0)_{c_1,c'}$"
      ],
      "text/plain": [
       "<IPython.core.display.Math object>"
      ]
     },
     "metadata": {},
     "output_type": "display_data"
    },
    {
     "data": {
      "text/latex": [
       "$\\displaystyle d_{31}^{A}=-2.0\\epsilon_{a b c}\\epsilon_{a' b' c'}S_{u}(t_3, t_2)_{c,c_1}(\\gamma_{\\mu}e^{-i\\mathbf{q}}) S_{u}(t_2, t_0)_{c_1,c'}\\text{tr}\\left[S_{d}(t_3, t_1)_{b,c_2}(\\gamma_{\\nu}e^{i\\mathbf{q}}) S_{d}(t_1, t_0)_{c_2,b'}\\Gamma^{\\widetilde{T}} S_{u}^{\\widetilde{T}}(t_3, t_0)_{a,a'}\\Gamma \\right]$"
      ],
      "text/plain": [
       "<IPython.core.display.Math object>"
      ]
     },
     "metadata": {},
     "output_type": "display_data"
    },
    {
     "data": {
      "text/latex": [
       "$\\displaystyle d_{35}^{A}=2.0\\epsilon_{a b c}\\epsilon_{a' b' c'}S_{u}(t_3, t_2)_{c,c_1}(\\gamma_{\\mu}e^{-i\\mathbf{q}}) S_{u}(t_2, t_0)_{c_1,a'}\\Gamma S_{d}^{\\widetilde{T}}(t_1, t_0)_{c_2,b'}(\\gamma_{\\nu}e^{i\\mathbf{q}})^{\\widetilde{T}} S_{d}^{\\widetilde{T}}(t_3, t_1)_{b,c_2}\\Gamma^{\\widetilde{T}} S_{u}(t_3, t_0)_{a,c'}$"
      ],
      "text/plain": [
       "<IPython.core.display.Math object>"
      ]
     },
     "metadata": {},
     "output_type": "display_data"
    },
    {
     "data": {
      "text/latex": [
       "$\\displaystyle d_{36}^{A}=2.0\\epsilon_{a b c}\\epsilon_{a' b' c'}S_{u}(t_3, t_0)_{c,a'}\\Gamma S_{d}^{\\widetilde{T}}(t_2, t_0)_{c_1,b'}(\\gamma_{\\mu}e^{-i\\mathbf{q}})^{\\widetilde{T}} S_{d}^{\\widetilde{T}}(t_3, t_2)_{b,c_1}\\Gamma^{\\widetilde{T}} S_{u}(t_3, t_1)_{a,c_2}(\\gamma_{\\nu}e^{i\\mathbf{q}}) S_{u}(t_1, t_0)_{c_2,c'}$"
      ],
      "text/plain": [
       "<IPython.core.display.Math object>"
      ]
     },
     "metadata": {},
     "output_type": "display_data"
    },
    {
     "data": {
      "text/latex": [
       "$\\displaystyle d_{37}^{A}=-2.0\\epsilon_{a b c}\\epsilon_{a' b' c'}S_{u}(t_3, t_1)_{c,c_2}(\\gamma_{\\nu}e^{i\\mathbf{q}}) S_{u}(t_1, t_0)_{c_2,c'}\\text{tr}\\left[S_{d}(t_3, t_2)_{b,c_1}(\\gamma_{\\mu}e^{-i\\mathbf{q}}) S_{d}(t_2, t_0)_{c_1,b'}\\Gamma^{\\widetilde{T}} S_{u}^{\\widetilde{T}}(t_3, t_0)_{a,a'}\\Gamma \\right]$"
      ],
      "text/plain": [
       "<IPython.core.display.Math object>"
      ]
     },
     "metadata": {},
     "output_type": "display_data"
    },
    {
     "data": {
      "text/latex": [
       "$\\displaystyle d_{40}^{A}=-2.0\\epsilon_{a b c}\\epsilon_{a' b' c'}S_{u}(t_3, t_0)_{c,c'}\\text{tr}\\left[S_{d}(t_3, t_2)_{b,c_1}(\\gamma_{\\mu}e^{-i\\mathbf{q}}) S_{d}(t_2, t_0)_{c_1,b'}\\Gamma^{\\widetilde{T}} S_{u}^{\\widetilde{T}}(t_1, t_0)_{c_2,a'}(\\gamma_{\\nu}e^{i\\mathbf{q}})^{\\widetilde{T}} S_{u}^{\\widetilde{T}}(t_3, t_1)_{a,c_2}\\Gamma \\right]$"
      ],
      "text/plain": [
       "<IPython.core.display.Math object>"
      ]
     },
     "metadata": {},
     "output_type": "display_data"
    },
    {
     "data": {
      "text/latex": [
       "$\\displaystyle d_{46}^{A}=2.0\\epsilon_{a b c}\\epsilon_{a' b' c'}S_{u}(t_3, t_1)_{c,c_2}(\\gamma_{\\nu}e^{i\\mathbf{q}}) S_{u}(t_1, t_0)_{c_2,a'}\\Gamma S_{d}^{\\widetilde{T}}(t_2, t_0)_{c_1,b'}(\\gamma_{\\mu}e^{-i\\mathbf{q}})^{\\widetilde{T}} S_{d}^{\\widetilde{T}}(t_3, t_2)_{b,c_1}\\Gamma^{\\widetilde{T}} S_{u}(t_3, t_0)_{a,c'}$"
      ],
      "text/plain": [
       "<IPython.core.display.Math object>"
      ]
     },
     "metadata": {},
     "output_type": "display_data"
    },
    {
     "data": {
      "text/latex": [
       "$\\displaystyle d_{3}^{B}=-4.0\\epsilon_{a b c}\\epsilon_{a' b' c'}S_{u}(t_3, t_0)_{c,a'}\\Gamma S_{d}^{\\widetilde{T}}(t_3, t_0)_{b,b'}\\Gamma^{\\widetilde{T}} S_{u}(t_3, t_2)_{a,c_1}(\\gamma_{\\mu}e^{-i\\mathbf{q}}) S_{u}(t_2, t_1)_{c_1,c_2}(\\gamma_{\\nu}e^{i\\mathbf{q}}) S_{u}(t_1, t_0)_{c_2,c'}$"
      ],
      "text/plain": [
       "<IPython.core.display.Math object>"
      ]
     },
     "metadata": {},
     "output_type": "display_data"
    },
    {
     "data": {
      "text/latex": [
       "$\\displaystyle d_{4}^{B}=4.0\\epsilon_{a b c}\\epsilon_{a' b' c'}S_{u}(t_3, t_2)_{c,c_1}(\\gamma_{\\mu}e^{-i\\mathbf{q}}) S_{u}(t_2, t_1)_{c_1,c_2}(\\gamma_{\\nu}e^{i\\mathbf{q}}) S_{u}(t_1, t_0)_{c_2,c'}\\text{tr}\\left[S_{u}(t_3, t_0)_{a,a'}\\Gamma S_{d}^{\\widetilde{T}}(t_3, t_0)_{b,b'}\\Gamma^{\\widetilde{T}} \\right]$"
      ],
      "text/plain": [
       "<IPython.core.display.Math object>"
      ]
     },
     "metadata": {},
     "output_type": "display_data"
    },
    {
     "data": {
      "text/latex": [
       "$\\displaystyle d_{10}^{B}=4.0\\epsilon_{a b c}\\epsilon_{a' b' c'}S_{u}(t_3, t_0)_{c,c'}\\text{tr}\\left[S_{u}(t_3, t_2)_{a,c_1}(\\gamma_{\\mu}e^{-i\\mathbf{q}}) S_{u}(t_2, t_1)_{c_1,c_2}(\\gamma_{\\nu}e^{i\\mathbf{q}}) S_{u}(t_1, t_0)_{c_2,a'}\\Gamma S_{d}^{\\widetilde{T}}(t_3, t_0)_{b,b'}\\Gamma^{\\widetilde{T}} \\right]$"
      ],
      "text/plain": [
       "<IPython.core.display.Math object>"
      ]
     },
     "metadata": {},
     "output_type": "display_data"
    },
    {
     "data": {
      "text/latex": [
       "$\\displaystyle d_{21}^{B}=-4.0\\epsilon_{a b c}\\epsilon_{a' b' c'}S_{u}(t_3, t_2)_{c,c_1}(\\gamma_{\\mu}e^{-i\\mathbf{q}}) S_{u}(t_2, t_1)_{c_1,c_2}(\\gamma_{\\nu}e^{i\\mathbf{q}}) S_{u}(t_1, t_0)_{c_2,a'}\\Gamma S_{d}^{\\widetilde{T}}(t_3, t_0)_{b,b'}\\Gamma^{\\widetilde{T}} S_{u}(t_3, t_0)_{a,c'}$"
      ],
      "text/plain": [
       "<IPython.core.display.Math object>"
      ]
     },
     "metadata": {},
     "output_type": "display_data"
    },
    {
     "data": {
      "text/latex": [
       "$\\displaystyle d_{48}^{B}=1.0\\epsilon_{a b c}\\epsilon_{a' b' c'}S_{u}(t_3, t_0)_{c,c'}\\text{tr}\\left[S_{d}(t_3, t_2)_{b,c_1}(\\gamma_{\\mu}e^{-i\\mathbf{q}}) S_{d}(t_2, t_1)_{c_1,c_2}(\\gamma_{\\nu}e^{i\\mathbf{q}}) S_{d}(t_1, t_0)_{c_2,b'}\\Gamma^{\\widetilde{T}} S_{u}^{\\widetilde{T}}(t_3, t_0)_{a,a'}\\Gamma \\right]$"
      ],
      "text/plain": [
       "<IPython.core.display.Math object>"
      ]
     },
     "metadata": {},
     "output_type": "display_data"
    },
    {
     "data": {
      "text/latex": [
       "$\\displaystyle d_{57}^{B}=-1.0\\epsilon_{a b c}\\epsilon_{a' b' c'}S_{u}(t_3, t_0)_{c,a'}\\Gamma S_{d}^{\\widetilde{T}}(t_1, t_0)_{c_2,b'}(\\gamma_{\\nu}e^{i\\mathbf{q}})^{\\widetilde{T}} S_{d}^{\\widetilde{T}}(t_2, t_1)_{c_1,c_2}(\\gamma_{\\mu}e^{-i\\mathbf{q}})^{\\widetilde{T}} S_{d}^{\\widetilde{T}}(t_3, t_2)_{b,c_1}\\Gamma^{\\widetilde{T}} S_{u}(t_3, t_0)_{a,c'}$"
      ],
      "text/plain": [
       "<IPython.core.display.Math object>"
      ]
     },
     "metadata": {},
     "output_type": "display_data"
    },
    {
     "data": {
      "text/latex": [
       "$\\displaystyle d_{6}^{C}=4.0\\epsilon_{a b c}\\epsilon_{a' b' c'}S_{u}(t_3, t_0)_{c,c'}\\text{tr}\\left[S_{u}(t_1, t_2)_{c_2,c_1}(\\gamma_{\\mu}e^{-i\\mathbf{q}}) S_{u}(t_2, t_0)_{c_1,a'}\\Gamma S_{d}^{\\widetilde{T}}(t_3, t_0)_{b,b'}\\Gamma^{\\widetilde{T}} S_{u}(t_3, t_1)_{a,c_2}(\\gamma_{\\nu}e^{i\\mathbf{q}}) \\right]$"
      ],
      "text/plain": [
       "<IPython.core.display.Math object>"
      ]
     },
     "metadata": {},
     "output_type": "display_data"
    },
    {
     "data": {
      "text/latex": [
       "$\\displaystyle d_{14}^{C}=4.0\\epsilon_{a b c}\\epsilon_{a' b' c'}S_{u}(t_3, t_1)_{c,c_2}(\\gamma_{\\nu}e^{i\\mathbf{q}}) S_{u}(t_1, t_2)_{c_2,c_1}(\\gamma_{\\mu}e^{-i\\mathbf{q}}) S_{u}(t_2, t_0)_{c_1,c'}\\text{tr}\\left[S_{u}(t_3, t_0)_{a,a'}\\Gamma S_{d}^{\\widetilde{T}}(t_3, t_0)_{b,b'}\\Gamma^{\\widetilde{T}} \\right]$"
      ],
      "text/plain": [
       "<IPython.core.display.Math object>"
      ]
     },
     "metadata": {},
     "output_type": "display_data"
    },
    {
     "data": {
      "text/latex": [
       "$\\displaystyle d_{17}^{C}=-4.0\\epsilon_{a b c}\\epsilon_{a' b' c'}S_{u}(t_3, t_0)_{c,a'}\\Gamma S_{d}^{\\widetilde{T}}(t_3, t_0)_{b,b'}\\Gamma^{\\widetilde{T}} S_{u}(t_3, t_1)_{a,c_2}(\\gamma_{\\nu}e^{i\\mathbf{q}}) S_{u}(t_1, t_2)_{c_2,c_1}(\\gamma_{\\mu}e^{-i\\mathbf{q}}) S_{u}(t_2, t_0)_{c_1,c'}$"
      ],
      "text/plain": [
       "<IPython.core.display.Math object>"
      ]
     },
     "metadata": {},
     "output_type": "display_data"
    },
    {
     "data": {
      "text/latex": [
       "$\\displaystyle d_{19}^{C}=-4.0\\epsilon_{a b c}\\epsilon_{a' b' c'}S_{u}(t_3, t_1)_{c,c_2}(\\gamma_{\\nu}e^{i\\mathbf{q}}) S_{u}(t_1, t_2)_{c_2,c_1}(\\gamma_{\\mu}e^{-i\\mathbf{q}}) S_{u}(t_2, t_0)_{c_1,a'}\\Gamma S_{d}^{\\widetilde{T}}(t_3, t_0)_{b,b'}\\Gamma^{\\widetilde{T}} S_{u}(t_3, t_0)_{a,c'}$"
      ],
      "text/plain": [
       "<IPython.core.display.Math object>"
      ]
     },
     "metadata": {},
     "output_type": "display_data"
    },
    {
     "data": {
      "text/latex": [
       "$\\displaystyle d_{50}^{C}=1.0\\epsilon_{a b c}\\epsilon_{a' b' c'}S_{u}(t_3, t_0)_{c,c'}\\text{tr}\\left[S_{d}(t_1, t_2)_{c_2,c_1}(\\gamma_{\\mu}e^{-i\\mathbf{q}}) S_{d}(t_2, t_0)_{c_1,b'}\\Gamma^{\\widetilde{T}} S_{u}^{\\widetilde{T}}(t_3, t_0)_{a,a'}\\Gamma S_{d}(t_3, t_1)_{b,c_2}(\\gamma_{\\nu}e^{i\\mathbf{q}}) \\right]$"
      ],
      "text/plain": [
       "<IPython.core.display.Math object>"
      ]
     },
     "metadata": {},
     "output_type": "display_data"
    },
    {
     "data": {
      "text/latex": [
       "$\\displaystyle d_{59}^{C}=-1.0\\epsilon_{a b c}\\epsilon_{a' b' c'}S_{u}(t_3, t_0)_{c,a'}\\Gamma S_{d}^{\\widetilde{T}}(t_2, t_0)_{c_1,b'}(\\gamma_{\\mu}e^{-i\\mathbf{q}})^{\\widetilde{T}} S_{d}^{\\widetilde{T}}(t_1, t_2)_{c_2,c_1}(\\gamma_{\\nu}e^{i\\mathbf{q}})^{\\widetilde{T}} S_{d}^{\\widetilde{T}}(t_3, t_1)_{b,c_2}\\Gamma^{\\widetilde{T}} S_{u}(t_3, t_0)_{a,c'}$"
      ],
      "text/plain": [
       "<IPython.core.display.Math object>"
      ]
     },
     "metadata": {},
     "output_type": "display_data"
    },
    {
     "data": {
      "text/latex": [
       "$\\displaystyle d_{9}^{D}=-4.0\\epsilon_{a b c}\\epsilon_{a' b' c'}S_{u}(t_3, t_0)_{c,c'}\\text{tr}\\left[S_{u}(t_1, t_2)_{c_2,c_1}(\\gamma_{\\mu}e^{-i\\mathbf{q}}) S_{u}(t_2, t_1)_{c_1,c_2}(\\gamma_{\\nu}e^{i\\mathbf{q}}) \\right]\\text{tr}\\left[S_{u}(t_3, t_0)_{a,a'}\\Gamma S_{d}^{\\widetilde{T}}(t_3, t_0)_{b,b'}\\Gamma^{\\widetilde{T}} \\right]$"
      ],
      "text/plain": [
       "<IPython.core.display.Math object>"
      ]
     },
     "metadata": {},
     "output_type": "display_data"
    },
    {
     "data": {
      "text/latex": [
       "$\\displaystyle d_{22}^{D}=4.0\\epsilon_{a b c}\\epsilon_{a' b' c'}S_{u}(t_3, t_0)_{c,a'}\\Gamma S_{d}^{\\widetilde{T}}(t_3, t_0)_{b,b'}\\Gamma^{\\widetilde{T}} S_{u}(t_3, t_0)_{a,c'}\\text{tr}\\left[S_{u}(t_1, t_2)_{c_2,c_1}(\\gamma_{\\mu}e^{-i\\mathbf{q}}) S_{u}(t_2, t_1)_{c_1,c_2}(\\gamma_{\\nu}e^{i\\mathbf{q}}) \\right]$"
      ],
      "text/plain": [
       "<IPython.core.display.Math object>"
      ]
     },
     "metadata": {},
     "output_type": "display_data"
    },
    {
     "data": {
      "text/latex": [
       "$\\displaystyle d_{53}^{D}=-1.0\\epsilon_{a b c}\\epsilon_{a' b' c'}S_{u}(t_3, t_0)_{c,c'}\\text{tr}\\left[S_{d}(t_1, t_2)_{c_2,c_1}(\\gamma_{\\mu}e^{-i\\mathbf{q}}) S_{d}(t_2, t_1)_{c_1,c_2}(\\gamma_{\\nu}e^{i\\mathbf{q}}) \\right]\\text{tr}\\left[S_{u}(t_3, t_0)_{a,a'}\\Gamma S_{d}^{\\widetilde{T}}(t_3, t_0)_{b,b'}\\Gamma^{\\widetilde{T}} \\right]$"
      ],
      "text/plain": [
       "<IPython.core.display.Math object>"
      ]
     },
     "metadata": {},
     "output_type": "display_data"
    },
    {
     "data": {
      "text/latex": [
       "$\\displaystyle d_{54}^{D}=1.0\\epsilon_{a b c}\\epsilon_{a' b' c'}S_{u}(t_3, t_0)_{c,a'}\\Gamma S_{d}^{\\widetilde{T}}(t_3, t_0)_{b,b'}\\Gamma^{\\widetilde{T}} S_{u}(t_3, t_0)_{a,c'}\\text{tr}\\left[S_{d}(t_1, t_2)_{c_2,c_1}(\\gamma_{\\mu}e^{-i\\mathbf{q}}) S_{d}(t_2, t_1)_{c_1,c_2}(\\gamma_{\\nu}e^{i\\mathbf{q}}) \\right]$"
      ],
      "text/plain": [
       "<IPython.core.display.Math object>"
      ]
     },
     "metadata": {},
     "output_type": "display_data"
    },
    {
     "data": {
      "text/latex": [
       "$\\displaystyle d_{2}^{E}=4.0\\epsilon_{a b c}\\epsilon_{a' b' c'}S_{u}(t_3, t_0)_{c,a'}\\Gamma S_{d}^{\\widetilde{T}}(t_3, t_0)_{b,b'}\\Gamma^{\\widetilde{T}} S_{u}(t_3, t_1)_{a,c_2}(\\gamma_{\\nu}e^{i\\mathbf{q}}) S_{u}(t_1, t_0)_{c_2,c'}\\text{tr}\\left[S_{u}(t_2, t_2)_{c_1,c_1}(\\gamma_{\\mu}e^{-i\\mathbf{q}}) \\right]$"
      ],
      "text/plain": [
       "<IPython.core.display.Math object>"
      ]
     },
     "metadata": {},
     "output_type": "display_data"
    },
    {
     "data": {
      "text/latex": [
       "$\\displaystyle d_{5}^{E}=-4.0\\epsilon_{a b c}\\epsilon_{a' b' c'}S_{u}(t_3, t_1)_{c,c_2}(\\gamma_{\\nu}e^{i\\mathbf{q}}) S_{u}(t_1, t_0)_{c_2,c'}\\text{tr}\\left[S_{u}(t_2, t_2)_{c_1,c_1}(\\gamma_{\\mu}e^{-i\\mathbf{q}}) \\right]\\text{tr}\\left[S_{u}(t_3, t_0)_{a,a'}\\Gamma S_{d}^{\\widetilde{T}}(t_3, t_0)_{b,b'}\\Gamma^{\\widetilde{T}} \\right]$"
      ],
      "text/plain": [
       "<IPython.core.display.Math object>"
      ]
     },
     "metadata": {},
     "output_type": "display_data"
    },
    {
     "data": {
      "text/latex": [
       "$\\displaystyle d_{7}^{E}=-4.0\\epsilon_{a b c}\\epsilon_{a' b' c'}S_{u}(t_3, t_0)_{c,c'}\\text{tr}\\left[S_{u}(t_3, t_2)_{a,c_1}(\\gamma_{\\mu}e^{-i\\mathbf{q}}) S_{u}(t_2, t_0)_{c_1,a'}\\Gamma S_{d}^{\\widetilde{T}}(t_3, t_0)_{b,b'}\\Gamma^{\\widetilde{T}} \\right]\\text{tr}\\left[S_{u}(t_1, t_1)_{c_2,c_2}(\\gamma_{\\nu}e^{i\\mathbf{q}}) \\right]$"
      ],
      "text/plain": [
       "<IPython.core.display.Math object>"
      ]
     },
     "metadata": {},
     "output_type": "display_data"
    },
    {
     "data": {
      "text/latex": [
       "$\\displaystyle d_{11}^{E}=-4.0\\epsilon_{a b c}\\epsilon_{a' b' c'}S_{u}(t_3, t_0)_{c,c'}\\text{tr}\\left[S_{u}(t_2, t_2)_{c_1,c_1}(\\gamma_{\\mu}e^{-i\\mathbf{q}}) \\right]\\text{tr}\\left[S_{u}(t_3, t_1)_{a,c_2}(\\gamma_{\\nu}e^{i\\mathbf{q}}) S_{u}(t_1, t_0)_{c_2,a'}\\Gamma S_{d}^{\\widetilde{T}}(t_3, t_0)_{b,b'}\\Gamma^{\\widetilde{T}} \\right]$"
      ],
      "text/plain": [
       "<IPython.core.display.Math object>"
      ]
     },
     "metadata": {},
     "output_type": "display_data"
    },
    {
     "data": {
      "text/latex": [
       "$\\displaystyle d_{15}^{E}=-4.0\\epsilon_{a b c}\\epsilon_{a' b' c'}S_{u}(t_3, t_2)_{c,c_1}(\\gamma_{\\mu}e^{-i\\mathbf{q}}) S_{u}(t_2, t_0)_{c_1,c'}\\text{tr}\\left[S_{u}(t_1, t_1)_{c_2,c_2}(\\gamma_{\\nu}e^{i\\mathbf{q}}) \\right]\\text{tr}\\left[S_{u}(t_3, t_0)_{a,a'}\\Gamma S_{d}^{\\widetilde{T}}(t_3, t_0)_{b,b'}\\Gamma^{\\widetilde{T}} \\right]$"
      ],
      "text/plain": [
       "<IPython.core.display.Math object>"
      ]
     },
     "metadata": {},
     "output_type": "display_data"
    },
    {
     "data": {
      "text/latex": [
       "$\\displaystyle d_{16}^{E}=4.0\\epsilon_{a b c}\\epsilon_{a' b' c'}S_{u}(t_3, t_0)_{c,a'}\\Gamma S_{d}^{\\widetilde{T}}(t_3, t_0)_{b,b'}\\Gamma^{\\widetilde{T}} S_{u}(t_3, t_2)_{a,c_1}(\\gamma_{\\mu}e^{-i\\mathbf{q}}) S_{u}(t_2, t_0)_{c_1,c'}\\text{tr}\\left[S_{u}(t_1, t_1)_{c_2,c_2}(\\gamma_{\\nu}e^{i\\mathbf{q}}) \\right]$"
      ],
      "text/plain": [
       "<IPython.core.display.Math object>"
      ]
     },
     "metadata": {},
     "output_type": "display_data"
    },
    {
     "data": {
      "text/latex": [
       "$\\displaystyle d_{18}^{E}=4.0\\epsilon_{a b c}\\epsilon_{a' b' c'}S_{u}(t_3, t_2)_{c,c_1}(\\gamma_{\\mu}e^{-i\\mathbf{q}}) S_{u}(t_2, t_0)_{c_1,a'}\\Gamma S_{d}^{\\widetilde{T}}(t_3, t_0)_{b,b'}\\Gamma^{\\widetilde{T}} S_{u}(t_3, t_0)_{a,c'}\\text{tr}\\left[S_{u}(t_1, t_1)_{c_2,c_2}(\\gamma_{\\nu}e^{i\\mathbf{q}}) \\right]$"
      ],
      "text/plain": [
       "<IPython.core.display.Math object>"
      ]
     },
     "metadata": {},
     "output_type": "display_data"
    },
    {
     "data": {
      "text/latex": [
       "$\\displaystyle d_{20}^{E}=4.0\\epsilon_{a b c}\\epsilon_{a' b' c'}S_{u}(t_3, t_1)_{c,c_2}(\\gamma_{\\nu}e^{i\\mathbf{q}}) S_{u}(t_1, t_0)_{c_2,a'}\\Gamma S_{d}^{\\widetilde{T}}(t_3, t_0)_{b,b'}\\Gamma^{\\widetilde{T}} S_{u}(t_3, t_0)_{a,c'}\\text{tr}\\left[S_{u}(t_2, t_2)_{c_1,c_1}(\\gamma_{\\mu}e^{-i\\mathbf{q}}) \\right]$"
      ],
      "text/plain": [
       "<IPython.core.display.Math object>"
      ]
     },
     "metadata": {},
     "output_type": "display_data"
    },
    {
     "data": {
      "text/latex": [
       "$\\displaystyle d_{24}^{E}=2.0\\epsilon_{a b c}\\epsilon_{a' b' c'}S_{u}(t_3, t_0)_{c,c'}\\text{tr}\\left[S_{u}(t_2, t_2)_{c_1,c_1}(\\gamma_{\\mu}e^{-i\\mathbf{q}}) \\right]\\text{tr}\\left[S_{d}(t_3, t_1)_{b,c_2}(\\gamma_{\\nu}e^{i\\mathbf{q}}) S_{d}(t_1, t_0)_{c_2,b'}\\Gamma^{\\widetilde{T}} S_{u}^{\\widetilde{T}}(t_3, t_0)_{a,a'}\\Gamma \\right]$"
      ],
      "text/plain": [
       "<IPython.core.display.Math object>"
      ]
     },
     "metadata": {},
     "output_type": "display_data"
    },
    {
     "data": {
      "text/latex": [
       "$\\displaystyle d_{26}^{E}=2.0\\epsilon_{a b c}\\epsilon_{a' b' c'}S_{u}(t_3, t_0)_{c,c'}\\text{tr}\\left[S_{u}(t_3, t_2)_{a,c_1}(\\gamma_{\\mu}e^{-i\\mathbf{q}}) S_{u}(t_2, t_0)_{c_1,a'}\\Gamma S_{d}^{\\widetilde{T}}(t_3, t_0)_{b,b'}\\Gamma^{\\widetilde{T}} \\right]\\text{tr}\\left[S_{d}(t_1, t_1)_{c_2,c_2}(\\gamma_{\\nu}e^{i\\mathbf{q}}) \\right]$"
      ],
      "text/plain": [
       "<IPython.core.display.Math object>"
      ]
     },
     "metadata": {},
     "output_type": "display_data"
    },
    {
     "data": {
      "text/latex": [
       "$\\displaystyle d_{28}^{E}=2.0\\epsilon_{a b c}\\epsilon_{a' b' c'}S_{u}(t_3, t_2)_{c,c_1}(\\gamma_{\\mu}e^{-i\\mathbf{q}}) S_{u}(t_2, t_0)_{c_1,c'}\\text{tr}\\left[S_{d}(t_1, t_1)_{c_2,c_2}(\\gamma_{\\nu}e^{i\\mathbf{q}}) \\right]\\text{tr}\\left[S_{u}(t_3, t_0)_{a,a'}\\Gamma S_{d}^{\\widetilde{T}}(t_3, t_0)_{b,b'}\\Gamma^{\\widetilde{T}} \\right]$"
      ],
      "text/plain": [
       "<IPython.core.display.Math object>"
      ]
     },
     "metadata": {},
     "output_type": "display_data"
    },
    {
     "data": {
      "text/latex": [
       "$\\displaystyle d_{29}^{E}=-2.0\\epsilon_{a b c}\\epsilon_{a' b' c'}S_{u}(t_3, t_0)_{c,a'}\\Gamma S_{d}^{\\widetilde{T}}(t_3, t_0)_{b,b'}\\Gamma^{\\widetilde{T}} S_{u}(t_3, t_2)_{a,c_1}(\\gamma_{\\mu}e^{-i\\mathbf{q}}) S_{u}(t_2, t_0)_{c_1,c'}\\text{tr}\\left[S_{d}(t_1, t_1)_{c_2,c_2}(\\gamma_{\\nu}e^{i\\mathbf{q}}) \\right]$"
      ],
      "text/plain": [
       "<IPython.core.display.Math object>"
      ]
     },
     "metadata": {},
     "output_type": "display_data"
    },
    {
     "data": {
      "text/latex": [
       "$\\displaystyle d_{32}^{E}=-2.0\\epsilon_{a b c}\\epsilon_{a' b' c'}S_{u}(t_3, t_2)_{c,c_1}(\\gamma_{\\mu}e^{-i\\mathbf{q}}) S_{u}(t_2, t_0)_{c_1,a'}\\Gamma S_{d}^{\\widetilde{T}}(t_3, t_0)_{b,b'}\\Gamma^{\\widetilde{T}} S_{u}(t_3, t_0)_{a,c'}\\text{tr}\\left[S_{d}(t_1, t_1)_{c_2,c_2}(\\gamma_{\\nu}e^{i\\mathbf{q}}) \\right]$"
      ],
      "text/plain": [
       "<IPython.core.display.Math object>"
      ]
     },
     "metadata": {},
     "output_type": "display_data"
    },
    {
     "data": {
      "text/latex": [
       "$\\displaystyle d_{34}^{E}=-2.0\\epsilon_{a b c}\\epsilon_{a' b' c'}S_{u}(t_3, t_0)_{c,a'}\\Gamma S_{d}^{\\widetilde{T}}(t_1, t_0)_{c_2,b'}(\\gamma_{\\nu}e^{i\\mathbf{q}})^{\\widetilde{T}} S_{d}^{\\widetilde{T}}(t_3, t_1)_{b,c_2}\\Gamma^{\\widetilde{T}} S_{u}(t_3, t_0)_{a,c'}\\text{tr}\\left[S_{u}(t_2, t_2)_{c_1,c_1}(\\gamma_{\\mu}e^{-i\\mathbf{q}}) \\right]$"
      ],
      "text/plain": [
       "<IPython.core.display.Math object>"
      ]
     },
     "metadata": {},
     "output_type": "display_data"
    },
    {
     "data": {
      "text/latex": [
       "$\\displaystyle d_{38}^{E}=-2.0\\epsilon_{a b c}\\epsilon_{a' b' c'}S_{u}(t_3, t_0)_{c,a'}\\Gamma S_{d}^{\\widetilde{T}}(t_3, t_0)_{b,b'}\\Gamma^{\\widetilde{T}} S_{u}(t_3, t_1)_{a,c_2}(\\gamma_{\\nu}e^{i\\mathbf{q}}) S_{u}(t_1, t_0)_{c_2,c'}\\text{tr}\\left[S_{d}(t_2, t_2)_{c_1,c_1}(\\gamma_{\\mu}e^{-i\\mathbf{q}}) \\right]$"
      ],
      "text/plain": [
       "<IPython.core.display.Math object>"
      ]
     },
     "metadata": {},
     "output_type": "display_data"
    },
    {
     "data": {
      "text/latex": [
       "$\\displaystyle d_{39}^{E}=2.0\\epsilon_{a b c}\\epsilon_{a' b' c'}S_{u}(t_3, t_1)_{c,c_2}(\\gamma_{\\nu}e^{i\\mathbf{q}}) S_{u}(t_1, t_0)_{c_2,c'}\\text{tr}\\left[S_{d}(t_2, t_2)_{c_1,c_1}(\\gamma_{\\mu}e^{-i\\mathbf{q}}) \\right]\\text{tr}\\left[S_{u}(t_3, t_0)_{a,a'}\\Gamma S_{d}^{\\widetilde{T}}(t_3, t_0)_{b,b'}\\Gamma^{\\widetilde{T}} \\right]$"
      ],
      "text/plain": [
       "<IPython.core.display.Math object>"
      ]
     },
     "metadata": {},
     "output_type": "display_data"
    },
    {
     "data": {
      "text/latex": [
       "$\\displaystyle d_{41}^{E}=2.0\\epsilon_{a b c}\\epsilon_{a' b' c'}S_{u}(t_3, t_0)_{c,c'}\\text{tr}\\left[S_{d}(t_3, t_2)_{b,c_1}(\\gamma_{\\mu}e^{-i\\mathbf{q}}) S_{d}(t_2, t_0)_{c_1,b'}\\Gamma^{\\widetilde{T}} S_{u}^{\\widetilde{T}}(t_3, t_0)_{a,a'}\\Gamma \\right]\\text{tr}\\left[S_{u}(t_1, t_1)_{c_2,c_2}(\\gamma_{\\nu}e^{i\\mathbf{q}}) \\right]$"
      ],
      "text/plain": [
       "<IPython.core.display.Math object>"
      ]
     },
     "metadata": {},
     "output_type": "display_data"
    },
    {
     "data": {
      "text/latex": [
       "$\\displaystyle d_{43}^{E}=2.0\\epsilon_{a b c}\\epsilon_{a' b' c'}S_{u}(t_3, t_0)_{c,c'}\\text{tr}\\left[S_{d}(t_2, t_2)_{c_1,c_1}(\\gamma_{\\mu}e^{-i\\mathbf{q}}) \\right]\\text{tr}\\left[S_{u}(t_3, t_1)_{a,c_2}(\\gamma_{\\nu}e^{i\\mathbf{q}}) S_{u}(t_1, t_0)_{c_2,a'}\\Gamma S_{d}^{\\widetilde{T}}(t_3, t_0)_{b,b'}\\Gamma^{\\widetilde{T}} \\right]$"
      ],
      "text/plain": [
       "<IPython.core.display.Math object>"
      ]
     },
     "metadata": {},
     "output_type": "display_data"
    },
    {
     "data": {
      "text/latex": [
       "$\\displaystyle d_{44}^{E}=-2.0\\epsilon_{a b c}\\epsilon_{a' b' c'}S_{u}(t_3, t_1)_{c,c_2}(\\gamma_{\\nu}e^{i\\mathbf{q}}) S_{u}(t_1, t_0)_{c_2,a'}\\Gamma S_{d}^{\\widetilde{T}}(t_3, t_0)_{b,b'}\\Gamma^{\\widetilde{T}} S_{u}(t_3, t_0)_{a,c'}\\text{tr}\\left[S_{d}(t_2, t_2)_{c_1,c_1}(\\gamma_{\\mu}e^{-i\\mathbf{q}}) \\right]$"
      ],
      "text/plain": [
       "<IPython.core.display.Math object>"
      ]
     },
     "metadata": {},
     "output_type": "display_data"
    },
    {
     "data": {
      "text/latex": [
       "$\\displaystyle d_{47}^{E}=-2.0\\epsilon_{a b c}\\epsilon_{a' b' c'}S_{u}(t_3, t_0)_{c,a'}\\Gamma S_{d}^{\\widetilde{T}}(t_2, t_0)_{c_1,b'}(\\gamma_{\\mu}e^{-i\\mathbf{q}})^{\\widetilde{T}} S_{d}^{\\widetilde{T}}(t_3, t_2)_{b,c_1}\\Gamma^{\\widetilde{T}} S_{u}(t_3, t_0)_{a,c'}\\text{tr}\\left[S_{u}(t_1, t_1)_{c_2,c_2}(\\gamma_{\\nu}e^{i\\mathbf{q}}) \\right]$"
      ],
      "text/plain": [
       "<IPython.core.display.Math object>"
      ]
     },
     "metadata": {},
     "output_type": "display_data"
    },
    {
     "data": {
      "text/latex": [
       "$\\displaystyle d_{49}^{E}=-1.0\\epsilon_{a b c}\\epsilon_{a' b' c'}S_{u}(t_3, t_0)_{c,c'}\\text{tr}\\left[S_{d}(t_2, t_2)_{c_1,c_1}(\\gamma_{\\mu}e^{-i\\mathbf{q}}) \\right]\\text{tr}\\left[S_{d}(t_3, t_1)_{b,c_2}(\\gamma_{\\nu}e^{i\\mathbf{q}}) S_{d}(t_1, t_0)_{c_2,b'}\\Gamma^{\\widetilde{T}} S_{u}^{\\widetilde{T}}(t_3, t_0)_{a,a'}\\Gamma \\right]$"
      ],
      "text/plain": [
       "<IPython.core.display.Math object>"
      ]
     },
     "metadata": {},
     "output_type": "display_data"
    },
    {
     "data": {
      "text/latex": [
       "$\\displaystyle d_{51}^{E}=-1.0\\epsilon_{a b c}\\epsilon_{a' b' c'}S_{u}(t_3, t_0)_{c,c'}\\text{tr}\\left[S_{d}(t_3, t_2)_{b,c_1}(\\gamma_{\\mu}e^{-i\\mathbf{q}}) S_{d}(t_2, t_0)_{c_1,b'}\\Gamma^{\\widetilde{T}} S_{u}^{\\widetilde{T}}(t_3, t_0)_{a,a'}\\Gamma \\right]\\text{tr}\\left[S_{d}(t_1, t_1)_{c_2,c_2}(\\gamma_{\\nu}e^{i\\mathbf{q}}) \\right]$"
      ],
      "text/plain": [
       "<IPython.core.display.Math object>"
      ]
     },
     "metadata": {},
     "output_type": "display_data"
    },
    {
     "data": {
      "text/latex": [
       "$\\displaystyle d_{56}^{E}=1.0\\epsilon_{a b c}\\epsilon_{a' b' c'}S_{u}(t_3, t_0)_{c,a'}\\Gamma S_{d}^{\\widetilde{T}}(t_1, t_0)_{c_2,b'}(\\gamma_{\\nu}e^{i\\mathbf{q}})^{\\widetilde{T}} S_{d}^{\\widetilde{T}}(t_3, t_1)_{b,c_2}\\Gamma^{\\widetilde{T}} S_{u}(t_3, t_0)_{a,c'}\\text{tr}\\left[S_{d}(t_2, t_2)_{c_1,c_1}(\\gamma_{\\mu}e^{-i\\mathbf{q}}) \\right]$"
      ],
      "text/plain": [
       "<IPython.core.display.Math object>"
      ]
     },
     "metadata": {},
     "output_type": "display_data"
    },
    {
     "data": {
      "text/latex": [
       "$\\displaystyle d_{58}^{E}=1.0\\epsilon_{a b c}\\epsilon_{a' b' c'}S_{u}(t_3, t_0)_{c,a'}\\Gamma S_{d}^{\\widetilde{T}}(t_2, t_0)_{c_1,b'}(\\gamma_{\\mu}e^{-i\\mathbf{q}})^{\\widetilde{T}} S_{d}^{\\widetilde{T}}(t_3, t_2)_{b,c_1}\\Gamma^{\\widetilde{T}} S_{u}(t_3, t_0)_{a,c'}\\text{tr}\\left[S_{d}(t_1, t_1)_{c_2,c_2}(\\gamma_{\\nu}e^{i\\mathbf{q}}) \\right]$"
      ],
      "text/plain": [
       "<IPython.core.display.Math object>"
      ]
     },
     "metadata": {},
     "output_type": "display_data"
    },
    {
     "data": {
      "text/latex": [
       "$\\displaystyle d_{8}^{F}=4.0\\epsilon_{a b c}\\epsilon_{a' b' c'}S_{u}(t_3, t_0)_{c,c'}\\text{tr}\\left[S_{u}(t_2, t_2)_{c_1,c_1}(\\gamma_{\\mu}e^{-i\\mathbf{q}}) \\right]\\text{tr}\\left[S_{u}(t_1, t_1)_{c_2,c_2}(\\gamma_{\\nu}e^{i\\mathbf{q}}) \\right]\\text{tr}\\left[S_{u}(t_3, t_0)_{a,a'}\\Gamma S_{d}^{\\widetilde{T}}(t_3, t_0)_{b,b'}\\Gamma^{\\widetilde{T}} \\right]$"
      ],
      "text/plain": [
       "<IPython.core.display.Math object>"
      ]
     },
     "metadata": {},
     "output_type": "display_data"
    },
    {
     "data": {
      "text/latex": [
       "$\\displaystyle d_{23}^{F}=-4.0\\epsilon_{a b c}\\epsilon_{a' b' c'}S_{u}(t_3, t_0)_{c,a'}\\Gamma S_{d}^{\\widetilde{T}}(t_3, t_0)_{b,b'}\\Gamma^{\\widetilde{T}} S_{u}(t_3, t_0)_{a,c'}\\text{tr}\\left[S_{u}(t_2, t_2)_{c_1,c_1}(\\gamma_{\\mu}e^{-i\\mathbf{q}}) \\right]\\text{tr}\\left[S_{u}(t_1, t_1)_{c_2,c_2}(\\gamma_{\\nu}e^{i\\mathbf{q}}) \\right]$"
      ],
      "text/plain": [
       "<IPython.core.display.Math object>"
      ]
     },
     "metadata": {},
     "output_type": "display_data"
    },
    {
     "data": {
      "text/latex": [
       "$\\displaystyle d_{27}^{F}=-2.0\\epsilon_{a b c}\\epsilon_{a' b' c'}S_{u}(t_3, t_0)_{c,c'}\\text{tr}\\left[S_{u}(t_2, t_2)_{c_1,c_1}(\\gamma_{\\mu}e^{-i\\mathbf{q}}) \\right]\\text{tr}\\left[S_{d}(t_1, t_1)_{c_2,c_2}(\\gamma_{\\nu}e^{i\\mathbf{q}}) \\right]\\text{tr}\\left[S_{u}(t_3, t_0)_{a,a'}\\Gamma S_{d}^{\\widetilde{T}}(t_3, t_0)_{b,b'}\\Gamma^{\\widetilde{T}} \\right]$"
      ],
      "text/plain": [
       "<IPython.core.display.Math object>"
      ]
     },
     "metadata": {},
     "output_type": "display_data"
    },
    {
     "data": {
      "text/latex": [
       "$\\displaystyle d_{33}^{F}=2.0\\epsilon_{a b c}\\epsilon_{a' b' c'}S_{u}(t_3, t_0)_{c,a'}\\Gamma S_{d}^{\\widetilde{T}}(t_3, t_0)_{b,b'}\\Gamma^{\\widetilde{T}} S_{u}(t_3, t_0)_{a,c'}\\text{tr}\\left[S_{u}(t_2, t_2)_{c_1,c_1}(\\gamma_{\\mu}e^{-i\\mathbf{q}}) \\right]\\text{tr}\\left[S_{d}(t_1, t_1)_{c_2,c_2}(\\gamma_{\\nu}e^{i\\mathbf{q}}) \\right]$"
      ],
      "text/plain": [
       "<IPython.core.display.Math object>"
      ]
     },
     "metadata": {},
     "output_type": "display_data"
    },
    {
     "data": {
      "text/latex": [
       "$\\displaystyle d_{42}^{F}=-2.0\\epsilon_{a b c}\\epsilon_{a' b' c'}S_{u}(t_3, t_0)_{c,c'}\\text{tr}\\left[S_{d}(t_2, t_2)_{c_1,c_1}(\\gamma_{\\mu}e^{-i\\mathbf{q}}) \\right]\\text{tr}\\left[S_{u}(t_1, t_1)_{c_2,c_2}(\\gamma_{\\nu}e^{i\\mathbf{q}}) \\right]\\text{tr}\\left[S_{u}(t_3, t_0)_{a,a'}\\Gamma S_{d}^{\\widetilde{T}}(t_3, t_0)_{b,b'}\\Gamma^{\\widetilde{T}} \\right]$"
      ],
      "text/plain": [
       "<IPython.core.display.Math object>"
      ]
     },
     "metadata": {},
     "output_type": "display_data"
    },
    {
     "data": {
      "text/latex": [
       "$\\displaystyle d_{45}^{F}=2.0\\epsilon_{a b c}\\epsilon_{a' b' c'}S_{u}(t_3, t_0)_{c,a'}\\Gamma S_{d}^{\\widetilde{T}}(t_3, t_0)_{b,b'}\\Gamma^{\\widetilde{T}} S_{u}(t_3, t_0)_{a,c'}\\text{tr}\\left[S_{d}(t_2, t_2)_{c_1,c_1}(\\gamma_{\\mu}e^{-i\\mathbf{q}}) \\right]\\text{tr}\\left[S_{u}(t_1, t_1)_{c_2,c_2}(\\gamma_{\\nu}e^{i\\mathbf{q}}) \\right]$"
      ],
      "text/plain": [
       "<IPython.core.display.Math object>"
      ]
     },
     "metadata": {},
     "output_type": "display_data"
    },
    {
     "data": {
      "text/latex": [
       "$\\displaystyle d_{52}^{F}=1.0\\epsilon_{a b c}\\epsilon_{a' b' c'}S_{u}(t_3, t_0)_{c,c'}\\text{tr}\\left[S_{d}(t_2, t_2)_{c_1,c_1}(\\gamma_{\\mu}e^{-i\\mathbf{q}}) \\right]\\text{tr}\\left[S_{d}(t_1, t_1)_{c_2,c_2}(\\gamma_{\\nu}e^{i\\mathbf{q}}) \\right]\\text{tr}\\left[S_{u}(t_3, t_0)_{a,a'}\\Gamma S_{d}^{\\widetilde{T}}(t_3, t_0)_{b,b'}\\Gamma^{\\widetilde{T}} \\right]$"
      ],
      "text/plain": [
       "<IPython.core.display.Math object>"
      ]
     },
     "metadata": {},
     "output_type": "display_data"
    },
    {
     "data": {
      "text/latex": [
       "$\\displaystyle d_{55}^{F}=-1.0\\epsilon_{a b c}\\epsilon_{a' b' c'}S_{u}(t_3, t_0)_{c,a'}\\Gamma S_{d}^{\\widetilde{T}}(t_3, t_0)_{b,b'}\\Gamma^{\\widetilde{T}} S_{u}(t_3, t_0)_{a,c'}\\text{tr}\\left[S_{d}(t_2, t_2)_{c_1,c_1}(\\gamma_{\\mu}e^{-i\\mathbf{q}}) \\right]\\text{tr}\\left[S_{d}(t_1, t_1)_{c_2,c_2}(\\gamma_{\\nu}e^{i\\mathbf{q}}) \\right]$"
      ],
      "text/plain": [
       "<IPython.core.display.Math object>"
      ]
     },
     "metadata": {},
     "output_type": "display_data"
    }
   ],
   "source": [
    "for i,label in topSorted.items():\n",
    "    #pprint(str(diagram))\n",
    "    pd=ProtonDiagram(total[i])\n",
    "    pprint(\"d_{\"+str(i)+\"}^{\"+topNames[i]+\"}=\"+pd.spin_prod_string())\n",
    "\n",
    "\n",
    "# pairing terms?"
   ]
  },
  {
   "cell_type": "code",
   "execution_count": 19,
   "metadata": {},
   "outputs": [
    {
     "name": "stdout",
     "output_type": "stream",
     "text": [
      "\\beq\n",
      "d_{0}^{A}&=4.0\\epsilon_{a b c}\\epsilon_{a' b' c'}S_{u}(t_3, t_1)_{c,c_2}(\\gamma_{\\nu}e^{i\\mathbf{q}}) S_{u}(t_1, t_0)_{c_2,c'}\\text{tr}\\left[S_{u}(t_3, t_2)_{a,c_1}(\\gamma_{\\mu}e^{-i\\mathbf{q}}) S_{u}(t_2, t_0)_{c_1,a'}\\Gamma S_{d}^{\\widetilde{T}}(t_3, t_0)_{b,b'}\\Gamma^{\\widetilde{T}} \\right]\\\\\n",
      "d_{1}^{A}&=-4.0\\epsilon_{a b c}\\epsilon_{a' b' c'}S_{u}(t_3, t_2)_{c,c_1}(\\gamma_{\\mu}e^{-i\\mathbf{q}}) S_{u}(t_2, t_0)_{c_1,a'}\\Gamma S_{d}^{\\widetilde{T}}(t_3, t_0)_{b,b'}\\Gamma^{\\widetilde{T}} S_{u}(t_3, t_1)_{a,c_2}(\\gamma_{\\nu}e^{i\\mathbf{q}}) S_{u}(t_1, t_0)_{c_2,c'}\\\\\n",
      "d_{12}^{A}&=4.0\\epsilon_{a b c}\\epsilon_{a' b' c'}S_{u}(t_3, t_2)_{c,c_1}(\\gamma_{\\mu}e^{-i\\mathbf{q}}) S_{u}(t_2, t_0)_{c_1,c'}\\text{tr}\\left[S_{u}(t_3, t_1)_{a,c_2}(\\gamma_{\\nu}e^{i\\mathbf{q}}) S_{u}(t_1, t_0)_{c_2,a'}\\Gamma S_{d}^{\\widetilde{T}}(t_3, t_0)_{b,b'}\\Gamma^{\\widetilde{T}} \\right]\\\\\n",
      "d_{13}^{A}&=-4.0\\epsilon_{a b c}\\epsilon_{a' b' c'}S_{u}(t_3, t_1)_{c,c_2}(\\gamma_{\\nu}e^{i\\mathbf{q}}) S_{u}(t_1, t_0)_{c_2,a'}\\Gamma S_{d}^{\\widetilde{T}}(t_3, t_0)_{b,b'}\\Gamma^{\\widetilde{T}} S_{u}(t_3, t_2)_{a,c_1}(\\gamma_{\\mu}e^{-i\\mathbf{q}}) S_{u}(t_2, t_0)_{c_1,c'}\\\\\n",
      "d_{25}^{A}&=-2.0\\epsilon_{a b c}\\epsilon_{a' b' c'}S_{u}(t_3, t_0)_{c,c'}\\text{tr}\\left[S_{u}(t_3, t_2)_{a,c_1}(\\gamma_{\\mu}e^{-i\\mathbf{q}}) S_{u}(t_2, t_0)_{c_1,a'}\\Gamma S_{d}^{\\widetilde{T}}(t_1, t_0)_{c_2,b'}(\\gamma_{\\nu}e^{i\\mathbf{q}})^{\\widetilde{T}} S_{d}^{\\widetilde{T}}(t_3, t_1)_{b,c_2}\\Gamma^{\\widetilde{T}} \\right]\\\\\n",
      "d_{30}^{A}&=2.0\\epsilon_{a b c}\\epsilon_{a' b' c'}S_{u}(t_3, t_0)_{c,a'}\\Gamma S_{d}^{\\widetilde{T}}(t_1, t_0)_{c_2,b'}(\\gamma_{\\nu}e^{i\\mathbf{q}})^{\\widetilde{T}} S_{d}^{\\widetilde{T}}(t_3, t_1)_{b,c_2}\\Gamma^{\\widetilde{T}} S_{u}(t_3, t_2)_{a,c_1}(\\gamma_{\\mu}e^{-i\\mathbf{q}}) S_{u}(t_2, t_0)_{c_1,c'}\\\\\n",
      "d_{31}^{A}&=-2.0\\epsilon_{a b c}\\epsilon_{a' b' c'}S_{u}(t_3, t_2)_{c,c_1}(\\gamma_{\\mu}e^{-i\\mathbf{q}}) S_{u}(t_2, t_0)_{c_1,c'}\\text{tr}\\left[S_{d}(t_3, t_1)_{b,c_2}(\\gamma_{\\nu}e^{i\\mathbf{q}}) S_{d}(t_1, t_0)_{c_2,b'}\\Gamma^{\\widetilde{T}} S_{u}^{\\widetilde{T}}(t_3, t_0)_{a,a'}\\Gamma \\right]\\\\\n",
      "d_{35}^{A}&=2.0\\epsilon_{a b c}\\epsilon_{a' b' c'}S_{u}(t_3, t_2)_{c,c_1}(\\gamma_{\\mu}e^{-i\\mathbf{q}}) S_{u}(t_2, t_0)_{c_1,a'}\\Gamma S_{d}^{\\widetilde{T}}(t_1, t_0)_{c_2,b'}(\\gamma_{\\nu}e^{i\\mathbf{q}})^{\\widetilde{T}} S_{d}^{\\widetilde{T}}(t_3, t_1)_{b,c_2}\\Gamma^{\\widetilde{T}} S_{u}(t_3, t_0)_{a,c'}\\\\\n",
      "d_{36}^{A}&=2.0\\epsilon_{a b c}\\epsilon_{a' b' c'}S_{u}(t_3, t_0)_{c,a'}\\Gamma S_{d}^{\\widetilde{T}}(t_2, t_0)_{c_1,b'}(\\gamma_{\\mu}e^{-i\\mathbf{q}})^{\\widetilde{T}} S_{d}^{\\widetilde{T}}(t_3, t_2)_{b,c_1}\\Gamma^{\\widetilde{T}} S_{u}(t_3, t_1)_{a,c_2}(\\gamma_{\\nu}e^{i\\mathbf{q}}) S_{u}(t_1, t_0)_{c_2,c'}\\\\\n",
      "d_{37}^{A}&=-2.0\\epsilon_{a b c}\\epsilon_{a' b' c'}S_{u}(t_3, t_1)_{c,c_2}(\\gamma_{\\nu}e^{i\\mathbf{q}}) S_{u}(t_1, t_0)_{c_2,c'}\\text{tr}\\left[S_{d}(t_3, t_2)_{b,c_1}(\\gamma_{\\mu}e^{-i\\mathbf{q}}) S_{d}(t_2, t_0)_{c_1,b'}\\Gamma^{\\widetilde{T}} S_{u}^{\\widetilde{T}}(t_3, t_0)_{a,a'}\\Gamma \\right]\\\\\n",
      "d_{40}^{A}&=-2.0\\epsilon_{a b c}\\epsilon_{a' b' c'}S_{u}(t_3, t_0)_{c,c'}\\text{tr}\\left[S_{d}(t_3, t_2)_{b,c_1}(\\gamma_{\\mu}e^{-i\\mathbf{q}}) S_{d}(t_2, t_0)_{c_1,b'}\\Gamma^{\\widetilde{T}} S_{u}^{\\widetilde{T}}(t_1, t_0)_{c_2,a'}(\\gamma_{\\nu}e^{i\\mathbf{q}})^{\\widetilde{T}} S_{u}^{\\widetilde{T}}(t_3, t_1)_{a,c_2}\\Gamma \\right]\\\\\n",
      "d_{46}^{A}&=2.0\\epsilon_{a b c}\\epsilon_{a' b' c'}S_{u}(t_3, t_1)_{c,c_2}(\\gamma_{\\nu}e^{i\\mathbf{q}}) S_{u}(t_1, t_0)_{c_2,a'}\\Gamma S_{d}^{\\widetilde{T}}(t_2, t_0)_{c_1,b'}(\\gamma_{\\mu}e^{-i\\mathbf{q}})^{\\widetilde{T}} S_{d}^{\\widetilde{T}}(t_3, t_2)_{b,c_1}\\Gamma^{\\widetilde{T}} S_{u}(t_3, t_0)_{a,c'}\\\\\n",
      "d_{3}^{B}&=-4.0\\epsilon_{a b c}\\epsilon_{a' b' c'}S_{u}(t_3, t_0)_{c,a'}\\Gamma S_{d}^{\\widetilde{T}}(t_3, t_0)_{b,b'}\\Gamma^{\\widetilde{T}} S_{u}(t_3, t_2)_{a,c_1}(\\gamma_{\\mu}e^{-i\\mathbf{q}}) S_{u}(t_2, t_1)_{c_1,c_2}(\\gamma_{\\nu}e^{i\\mathbf{q}}) S_{u}(t_1, t_0)_{c_2,c'}\\\\\n",
      "d_{4}^{B}&=4.0\\epsilon_{a b c}\\epsilon_{a' b' c'}S_{u}(t_3, t_2)_{c,c_1}(\\gamma_{\\mu}e^{-i\\mathbf{q}}) S_{u}(t_2, t_1)_{c_1,c_2}(\\gamma_{\\nu}e^{i\\mathbf{q}}) S_{u}(t_1, t_0)_{c_2,c'}\\text{tr}\\left[S_{u}(t_3, t_0)_{a,a'}\\Gamma S_{d}^{\\widetilde{T}}(t_3, t_0)_{b,b'}\\Gamma^{\\widetilde{T}} \\right]\\\\\n",
      "d_{10}^{B}&=4.0\\epsilon_{a b c}\\epsilon_{a' b' c'}S_{u}(t_3, t_0)_{c,c'}\\text{tr}\\left[S_{u}(t_3, t_2)_{a,c_1}(\\gamma_{\\mu}e^{-i\\mathbf{q}}) S_{u}(t_2, t_1)_{c_1,c_2}(\\gamma_{\\nu}e^{i\\mathbf{q}}) S_{u}(t_1, t_0)_{c_2,a'}\\Gamma S_{d}^{\\widetilde{T}}(t_3, t_0)_{b,b'}\\Gamma^{\\widetilde{T}} \\right]\\\\\n",
      "d_{21}^{B}&=-4.0\\epsilon_{a b c}\\epsilon_{a' b' c'}S_{u}(t_3, t_2)_{c,c_1}(\\gamma_{\\mu}e^{-i\\mathbf{q}}) S_{u}(t_2, t_1)_{c_1,c_2}(\\gamma_{\\nu}e^{i\\mathbf{q}}) S_{u}(t_1, t_0)_{c_2,a'}\\Gamma S_{d}^{\\widetilde{T}}(t_3, t_0)_{b,b'}\\Gamma^{\\widetilde{T}} S_{u}(t_3, t_0)_{a,c'}\\\\\n",
      "d_{48}^{B}&=1.0\\epsilon_{a b c}\\epsilon_{a' b' c'}S_{u}(t_3, t_0)_{c,c'}\\text{tr}\\left[S_{d}(t_3, t_2)_{b,c_1}(\\gamma_{\\mu}e^{-i\\mathbf{q}}) S_{d}(t_2, t_1)_{c_1,c_2}(\\gamma_{\\nu}e^{i\\mathbf{q}}) S_{d}(t_1, t_0)_{c_2,b'}\\Gamma^{\\widetilde{T}} S_{u}^{\\widetilde{T}}(t_3, t_0)_{a,a'}\\Gamma \\right]\\\\\n",
      "d_{57}^{B}&=-1.0\\epsilon_{a b c}\\epsilon_{a' b' c'}S_{u}(t_3, t_0)_{c,a'}\\Gamma S_{d}^{\\widetilde{T}}(t_1, t_0)_{c_2,b'}(\\gamma_{\\nu}e^{i\\mathbf{q}})^{\\widetilde{T}} S_{d}^{\\widetilde{T}}(t_2, t_1)_{c_1,c_2}(\\gamma_{\\mu}e^{-i\\mathbf{q}})^{\\widetilde{T}} S_{d}^{\\widetilde{T}}(t_3, t_2)_{b,c_1}\\Gamma^{\\widetilde{T}} S_{u}(t_3, t_0)_{a,c'}\\\\\n",
      "d_{6}^{C}&=4.0\\epsilon_{a b c}\\epsilon_{a' b' c'}S_{u}(t_3, t_0)_{c,c'}\\text{tr}\\left[S_{u}(t_1, t_2)_{c_2,c_1}(\\gamma_{\\mu}e^{-i\\mathbf{q}}) S_{u}(t_2, t_0)_{c_1,a'}\\Gamma S_{d}^{\\widetilde{T}}(t_3, t_0)_{b,b'}\\Gamma^{\\widetilde{T}} S_{u}(t_3, t_1)_{a,c_2}(\\gamma_{\\nu}e^{i\\mathbf{q}}) \\right]\\\\\n",
      "d_{14}^{C}&=4.0\\epsilon_{a b c}\\epsilon_{a' b' c'}S_{u}(t_3, t_1)_{c,c_2}(\\gamma_{\\nu}e^{i\\mathbf{q}}) S_{u}(t_1, t_2)_{c_2,c_1}(\\gamma_{\\mu}e^{-i\\mathbf{q}}) S_{u}(t_2, t_0)_{c_1,c'}\\text{tr}\\left[S_{u}(t_3, t_0)_{a,a'}\\Gamma S_{d}^{\\widetilde{T}}(t_3, t_0)_{b,b'}\\Gamma^{\\widetilde{T}} \\right]\\\\\n",
      "d_{17}^{C}&=-4.0\\epsilon_{a b c}\\epsilon_{a' b' c'}S_{u}(t_3, t_0)_{c,a'}\\Gamma S_{d}^{\\widetilde{T}}(t_3, t_0)_{b,b'}\\Gamma^{\\widetilde{T}} S_{u}(t_3, t_1)_{a,c_2}(\\gamma_{\\nu}e^{i\\mathbf{q}}) S_{u}(t_1, t_2)_{c_2,c_1}(\\gamma_{\\mu}e^{-i\\mathbf{q}}) S_{u}(t_2, t_0)_{c_1,c'}\\\\\n",
      "d_{19}^{C}&=-4.0\\epsilon_{a b c}\\epsilon_{a' b' c'}S_{u}(t_3, t_1)_{c,c_2}(\\gamma_{\\nu}e^{i\\mathbf{q}}) S_{u}(t_1, t_2)_{c_2,c_1}(\\gamma_{\\mu}e^{-i\\mathbf{q}}) S_{u}(t_2, t_0)_{c_1,a'}\\Gamma S_{d}^{\\widetilde{T}}(t_3, t_0)_{b,b'}\\Gamma^{\\widetilde{T}} S_{u}(t_3, t_0)_{a,c'}\\\\\n",
      "d_{50}^{C}&=1.0\\epsilon_{a b c}\\epsilon_{a' b' c'}S_{u}(t_3, t_0)_{c,c'}\\text{tr}\\left[S_{d}(t_1, t_2)_{c_2,c_1}(\\gamma_{\\mu}e^{-i\\mathbf{q}}) S_{d}(t_2, t_0)_{c_1,b'}\\Gamma^{\\widetilde{T}} S_{u}^{\\widetilde{T}}(t_3, t_0)_{a,a'}\\Gamma S_{d}(t_3, t_1)_{b,c_2}(\\gamma_{\\nu}e^{i\\mathbf{q}}) \\right]\\\\\n",
      "d_{59}^{C}&=-1.0\\epsilon_{a b c}\\epsilon_{a' b' c'}S_{u}(t_3, t_0)_{c,a'}\\Gamma S_{d}^{\\widetilde{T}}(t_2, t_0)_{c_1,b'}(\\gamma_{\\mu}e^{-i\\mathbf{q}})^{\\widetilde{T}} S_{d}^{\\widetilde{T}}(t_1, t_2)_{c_2,c_1}(\\gamma_{\\nu}e^{i\\mathbf{q}})^{\\widetilde{T}} S_{d}^{\\widetilde{T}}(t_3, t_1)_{b,c_2}\\Gamma^{\\widetilde{T}} S_{u}(t_3, t_0)_{a,c'}\\\\\n",
      "d_{9}^{D}&=-4.0\\epsilon_{a b c}\\epsilon_{a' b' c'}S_{u}(t_3, t_0)_{c,c'}\\text{tr}\\left[S_{u}(t_1, t_2)_{c_2,c_1}(\\gamma_{\\mu}e^{-i\\mathbf{q}}) S_{u}(t_2, t_1)_{c_1,c_2}(\\gamma_{\\nu}e^{i\\mathbf{q}}) \\right]\\text{tr}\\left[S_{u}(t_3, t_0)_{a,a'}\\Gamma S_{d}^{\\widetilde{T}}(t_3, t_0)_{b,b'}\\Gamma^{\\widetilde{T}} \\right]\\\\\n",
      "d_{22}^{D}&=4.0\\epsilon_{a b c}\\epsilon_{a' b' c'}S_{u}(t_3, t_0)_{c,a'}\\Gamma S_{d}^{\\widetilde{T}}(t_3, t_0)_{b,b'}\\Gamma^{\\widetilde{T}} S_{u}(t_3, t_0)_{a,c'}\\text{tr}\\left[S_{u}(t_1, t_2)_{c_2,c_1}(\\gamma_{\\mu}e^{-i\\mathbf{q}}) S_{u}(t_2, t_1)_{c_1,c_2}(\\gamma_{\\nu}e^{i\\mathbf{q}}) \\right]\\\\\n",
      "d_{53}^{D}&=-1.0\\epsilon_{a b c}\\epsilon_{a' b' c'}S_{u}(t_3, t_0)_{c,c'}\\text{tr}\\left[S_{d}(t_1, t_2)_{c_2,c_1}(\\gamma_{\\mu}e^{-i\\mathbf{q}}) S_{d}(t_2, t_1)_{c_1,c_2}(\\gamma_{\\nu}e^{i\\mathbf{q}}) \\right]\\text{tr}\\left[S_{u}(t_3, t_0)_{a,a'}\\Gamma S_{d}^{\\widetilde{T}}(t_3, t_0)_{b,b'}\\Gamma^{\\widetilde{T}} \\right]\\\\\n",
      "d_{54}^{D}&=1.0\\epsilon_{a b c}\\epsilon_{a' b' c'}S_{u}(t_3, t_0)_{c,a'}\\Gamma S_{d}^{\\widetilde{T}}(t_3, t_0)_{b,b'}\\Gamma^{\\widetilde{T}} S_{u}(t_3, t_0)_{a,c'}\\text{tr}\\left[S_{d}(t_1, t_2)_{c_2,c_1}(\\gamma_{\\mu}e^{-i\\mathbf{q}}) S_{d}(t_2, t_1)_{c_1,c_2}(\\gamma_{\\nu}e^{i\\mathbf{q}}) \\right]\\\\\n",
      "d_{2}^{E}&=4.0\\epsilon_{a b c}\\epsilon_{a' b' c'}S_{u}(t_3, t_0)_{c,a'}\\Gamma S_{d}^{\\widetilde{T}}(t_3, t_0)_{b,b'}\\Gamma^{\\widetilde{T}} S_{u}(t_3, t_1)_{a,c_2}(\\gamma_{\\nu}e^{i\\mathbf{q}}) S_{u}(t_1, t_0)_{c_2,c'}\\text{tr}\\left[S_{u}(t_2, t_2)_{c_1,c_1}(\\gamma_{\\mu}e^{-i\\mathbf{q}}) \\right]\\\\\n",
      "d_{5}^{E}&=-4.0\\epsilon_{a b c}\\epsilon_{a' b' c'}S_{u}(t_3, t_1)_{c,c_2}(\\gamma_{\\nu}e^{i\\mathbf{q}}) S_{u}(t_1, t_0)_{c_2,c'}\\text{tr}\\left[S_{u}(t_2, t_2)_{c_1,c_1}(\\gamma_{\\mu}e^{-i\\mathbf{q}}) \\right]\\text{tr}\\left[S_{u}(t_3, t_0)_{a,a'}\\Gamma S_{d}^{\\widetilde{T}}(t_3, t_0)_{b,b'}\\Gamma^{\\widetilde{T}} \\right]\\\\\n",
      "d_{7}^{E}&=-4.0\\epsilon_{a b c}\\epsilon_{a' b' c'}S_{u}(t_3, t_0)_{c,c'}\\text{tr}\\left[S_{u}(t_3, t_2)_{a,c_1}(\\gamma_{\\mu}e^{-i\\mathbf{q}}) S_{u}(t_2, t_0)_{c_1,a'}\\Gamma S_{d}^{\\widetilde{T}}(t_3, t_0)_{b,b'}\\Gamma^{\\widetilde{T}} \\right]\\text{tr}\\left[S_{u}(t_1, t_1)_{c_2,c_2}(\\gamma_{\\nu}e^{i\\mathbf{q}}) \\right]\\\\\n",
      "d_{11}^{E}&=-4.0\\epsilon_{a b c}\\epsilon_{a' b' c'}S_{u}(t_3, t_0)_{c,c'}\\text{tr}\\left[S_{u}(t_2, t_2)_{c_1,c_1}(\\gamma_{\\mu}e^{-i\\mathbf{q}}) \\right]\\text{tr}\\left[S_{u}(t_3, t_1)_{a,c_2}(\\gamma_{\\nu}e^{i\\mathbf{q}}) S_{u}(t_1, t_0)_{c_2,a'}\\Gamma S_{d}^{\\widetilde{T}}(t_3, t_0)_{b,b'}\\Gamma^{\\widetilde{T}} \\right]\\\\\n",
      "d_{15}^{E}&=-4.0\\epsilon_{a b c}\\epsilon_{a' b' c'}S_{u}(t_3, t_2)_{c,c_1}(\\gamma_{\\mu}e^{-i\\mathbf{q}}) S_{u}(t_2, t_0)_{c_1,c'}\\text{tr}\\left[S_{u}(t_1, t_1)_{c_2,c_2}(\\gamma_{\\nu}e^{i\\mathbf{q}}) \\right]\\text{tr}\\left[S_{u}(t_3, t_0)_{a,a'}\\Gamma S_{d}^{\\widetilde{T}}(t_3, t_0)_{b,b'}\\Gamma^{\\widetilde{T}} \\right]\\\\\n",
      "d_{16}^{E}&=4.0\\epsilon_{a b c}\\epsilon_{a' b' c'}S_{u}(t_3, t_0)_{c,a'}\\Gamma S_{d}^{\\widetilde{T}}(t_3, t_0)_{b,b'}\\Gamma^{\\widetilde{T}} S_{u}(t_3, t_2)_{a,c_1}(\\gamma_{\\mu}e^{-i\\mathbf{q}}) S_{u}(t_2, t_0)_{c_1,c'}\\text{tr}\\left[S_{u}(t_1, t_1)_{c_2,c_2}(\\gamma_{\\nu}e^{i\\mathbf{q}}) \\right]\\\\\n",
      "d_{18}^{E}&=4.0\\epsilon_{a b c}\\epsilon_{a' b' c'}S_{u}(t_3, t_2)_{c,c_1}(\\gamma_{\\mu}e^{-i\\mathbf{q}}) S_{u}(t_2, t_0)_{c_1,a'}\\Gamma S_{d}^{\\widetilde{T}}(t_3, t_0)_{b,b'}\\Gamma^{\\widetilde{T}} S_{u}(t_3, t_0)_{a,c'}\\text{tr}\\left[S_{u}(t_1, t_1)_{c_2,c_2}(\\gamma_{\\nu}e^{i\\mathbf{q}}) \\right]\\\\\n",
      "d_{20}^{E}&=4.0\\epsilon_{a b c}\\epsilon_{a' b' c'}S_{u}(t_3, t_1)_{c,c_2}(\\gamma_{\\nu}e^{i\\mathbf{q}}) S_{u}(t_1, t_0)_{c_2,a'}\\Gamma S_{d}^{\\widetilde{T}}(t_3, t_0)_{b,b'}\\Gamma^{\\widetilde{T}} S_{u}(t_3, t_0)_{a,c'}\\text{tr}\\left[S_{u}(t_2, t_2)_{c_1,c_1}(\\gamma_{\\mu}e^{-i\\mathbf{q}}) \\right]\\\\\n",
      "d_{24}^{E}&=2.0\\epsilon_{a b c}\\epsilon_{a' b' c'}S_{u}(t_3, t_0)_{c,c'}\\text{tr}\\left[S_{u}(t_2, t_2)_{c_1,c_1}(\\gamma_{\\mu}e^{-i\\mathbf{q}}) \\right]\\text{tr}\\left[S_{d}(t_3, t_1)_{b,c_2}(\\gamma_{\\nu}e^{i\\mathbf{q}}) S_{d}(t_1, t_0)_{c_2,b'}\\Gamma^{\\widetilde{T}} S_{u}^{\\widetilde{T}}(t_3, t_0)_{a,a'}\\Gamma \\right]\\\\\n",
      "d_{26}^{E}&=2.0\\epsilon_{a b c}\\epsilon_{a' b' c'}S_{u}(t_3, t_0)_{c,c'}\\text{tr}\\left[S_{u}(t_3, t_2)_{a,c_1}(\\gamma_{\\mu}e^{-i\\mathbf{q}}) S_{u}(t_2, t_0)_{c_1,a'}\\Gamma S_{d}^{\\widetilde{T}}(t_3, t_0)_{b,b'}\\Gamma^{\\widetilde{T}} \\right]\\text{tr}\\left[S_{d}(t_1, t_1)_{c_2,c_2}(\\gamma_{\\nu}e^{i\\mathbf{q}}) \\right]\\\\\n",
      "d_{28}^{E}&=2.0\\epsilon_{a b c}\\epsilon_{a' b' c'}S_{u}(t_3, t_2)_{c,c_1}(\\gamma_{\\mu}e^{-i\\mathbf{q}}) S_{u}(t_2, t_0)_{c_1,c'}\\text{tr}\\left[S_{d}(t_1, t_1)_{c_2,c_2}(\\gamma_{\\nu}e^{i\\mathbf{q}}) \\right]\\text{tr}\\left[S_{u}(t_3, t_0)_{a,a'}\\Gamma S_{d}^{\\widetilde{T}}(t_3, t_0)_{b,b'}\\Gamma^{\\widetilde{T}} \\right]\\\\\n",
      "d_{29}^{E}&=-2.0\\epsilon_{a b c}\\epsilon_{a' b' c'}S_{u}(t_3, t_0)_{c,a'}\\Gamma S_{d}^{\\widetilde{T}}(t_3, t_0)_{b,b'}\\Gamma^{\\widetilde{T}} S_{u}(t_3, t_2)_{a,c_1}(\\gamma_{\\mu}e^{-i\\mathbf{q}}) S_{u}(t_2, t_0)_{c_1,c'}\\text{tr}\\left[S_{d}(t_1, t_1)_{c_2,c_2}(\\gamma_{\\nu}e^{i\\mathbf{q}}) \\right]\\\\\n",
      "d_{32}^{E}&=-2.0\\epsilon_{a b c}\\epsilon_{a' b' c'}S_{u}(t_3, t_2)_{c,c_1}(\\gamma_{\\mu}e^{-i\\mathbf{q}}) S_{u}(t_2, t_0)_{c_1,a'}\\Gamma S_{d}^{\\widetilde{T}}(t_3, t_0)_{b,b'}\\Gamma^{\\widetilde{T}} S_{u}(t_3, t_0)_{a,c'}\\text{tr}\\left[S_{d}(t_1, t_1)_{c_2,c_2}(\\gamma_{\\nu}e^{i\\mathbf{q}}) \\right]\\\\\n",
      "d_{34}^{E}&=-2.0\\epsilon_{a b c}\\epsilon_{a' b' c'}S_{u}(t_3, t_0)_{c,a'}\\Gamma S_{d}^{\\widetilde{T}}(t_1, t_0)_{c_2,b'}(\\gamma_{\\nu}e^{i\\mathbf{q}})^{\\widetilde{T}} S_{d}^{\\widetilde{T}}(t_3, t_1)_{b,c_2}\\Gamma^{\\widetilde{T}} S_{u}(t_3, t_0)_{a,c'}\\text{tr}\\left[S_{u}(t_2, t_2)_{c_1,c_1}(\\gamma_{\\mu}e^{-i\\mathbf{q}}) \\right]\\\\\n",
      "d_{38}^{E}&=-2.0\\epsilon_{a b c}\\epsilon_{a' b' c'}S_{u}(t_3, t_0)_{c,a'}\\Gamma S_{d}^{\\widetilde{T}}(t_3, t_0)_{b,b'}\\Gamma^{\\widetilde{T}} S_{u}(t_3, t_1)_{a,c_2}(\\gamma_{\\nu}e^{i\\mathbf{q}}) S_{u}(t_1, t_0)_{c_2,c'}\\text{tr}\\left[S_{d}(t_2, t_2)_{c_1,c_1}(\\gamma_{\\mu}e^{-i\\mathbf{q}}) \\right]\\\\\n",
      "d_{39}^{E}&=2.0\\epsilon_{a b c}\\epsilon_{a' b' c'}S_{u}(t_3, t_1)_{c,c_2}(\\gamma_{\\nu}e^{i\\mathbf{q}}) S_{u}(t_1, t_0)_{c_2,c'}\\text{tr}\\left[S_{d}(t_2, t_2)_{c_1,c_1}(\\gamma_{\\mu}e^{-i\\mathbf{q}}) \\right]\\text{tr}\\left[S_{u}(t_3, t_0)_{a,a'}\\Gamma S_{d}^{\\widetilde{T}}(t_3, t_0)_{b,b'}\\Gamma^{\\widetilde{T}} \\right]\\\\\n",
      "d_{41}^{E}&=2.0\\epsilon_{a b c}\\epsilon_{a' b' c'}S_{u}(t_3, t_0)_{c,c'}\\text{tr}\\left[S_{d}(t_3, t_2)_{b,c_1}(\\gamma_{\\mu}e^{-i\\mathbf{q}}) S_{d}(t_2, t_0)_{c_1,b'}\\Gamma^{\\widetilde{T}} S_{u}^{\\widetilde{T}}(t_3, t_0)_{a,a'}\\Gamma \\right]\\text{tr}\\left[S_{u}(t_1, t_1)_{c_2,c_2}(\\gamma_{\\nu}e^{i\\mathbf{q}}) \\right]\\\\\n",
      "d_{43}^{E}&=2.0\\epsilon_{a b c}\\epsilon_{a' b' c'}S_{u}(t_3, t_0)_{c,c'}\\text{tr}\\left[S_{d}(t_2, t_2)_{c_1,c_1}(\\gamma_{\\mu}e^{-i\\mathbf{q}}) \\right]\\text{tr}\\left[S_{u}(t_3, t_1)_{a,c_2}(\\gamma_{\\nu}e^{i\\mathbf{q}}) S_{u}(t_1, t_0)_{c_2,a'}\\Gamma S_{d}^{\\widetilde{T}}(t_3, t_0)_{b,b'}\\Gamma^{\\widetilde{T}} \\right]\\\\\n",
      "d_{44}^{E}&=-2.0\\epsilon_{a b c}\\epsilon_{a' b' c'}S_{u}(t_3, t_1)_{c,c_2}(\\gamma_{\\nu}e^{i\\mathbf{q}}) S_{u}(t_1, t_0)_{c_2,a'}\\Gamma S_{d}^{\\widetilde{T}}(t_3, t_0)_{b,b'}\\Gamma^{\\widetilde{T}} S_{u}(t_3, t_0)_{a,c'}\\text{tr}\\left[S_{d}(t_2, t_2)_{c_1,c_1}(\\gamma_{\\mu}e^{-i\\mathbf{q}}) \\right]\\\\\n",
      "d_{47}^{E}&=-2.0\\epsilon_{a b c}\\epsilon_{a' b' c'}S_{u}(t_3, t_0)_{c,a'}\\Gamma S_{d}^{\\widetilde{T}}(t_2, t_0)_{c_1,b'}(\\gamma_{\\mu}e^{-i\\mathbf{q}})^{\\widetilde{T}} S_{d}^{\\widetilde{T}}(t_3, t_2)_{b,c_1}\\Gamma^{\\widetilde{T}} S_{u}(t_3, t_0)_{a,c'}\\text{tr}\\left[S_{u}(t_1, t_1)_{c_2,c_2}(\\gamma_{\\nu}e^{i\\mathbf{q}}) \\right]\\\\\n",
      "d_{49}^{E}&=-1.0\\epsilon_{a b c}\\epsilon_{a' b' c'}S_{u}(t_3, t_0)_{c,c'}\\text{tr}\\left[S_{d}(t_2, t_2)_{c_1,c_1}(\\gamma_{\\mu}e^{-i\\mathbf{q}}) \\right]\\text{tr}\\left[S_{d}(t_3, t_1)_{b,c_2}(\\gamma_{\\nu}e^{i\\mathbf{q}}) S_{d}(t_1, t_0)_{c_2,b'}\\Gamma^{\\widetilde{T}} S_{u}^{\\widetilde{T}}(t_3, t_0)_{a,a'}\\Gamma \\right]\\\\\n",
      "d_{51}^{E}&=-1.0\\epsilon_{a b c}\\epsilon_{a' b' c'}S_{u}(t_3, t_0)_{c,c'}\\text{tr}\\left[S_{d}(t_3, t_2)_{b,c_1}(\\gamma_{\\mu}e^{-i\\mathbf{q}}) S_{d}(t_2, t_0)_{c_1,b'}\\Gamma^{\\widetilde{T}} S_{u}^{\\widetilde{T}}(t_3, t_0)_{a,a'}\\Gamma \\right]\\text{tr}\\left[S_{d}(t_1, t_1)_{c_2,c_2}(\\gamma_{\\nu}e^{i\\mathbf{q}}) \\right]\\\\\n",
      "d_{56}^{E}&=1.0\\epsilon_{a b c}\\epsilon_{a' b' c'}S_{u}(t_3, t_0)_{c,a'}\\Gamma S_{d}^{\\widetilde{T}}(t_1, t_0)_{c_2,b'}(\\gamma_{\\nu}e^{i\\mathbf{q}})^{\\widetilde{T}} S_{d}^{\\widetilde{T}}(t_3, t_1)_{b,c_2}\\Gamma^{\\widetilde{T}} S_{u}(t_3, t_0)_{a,c'}\\text{tr}\\left[S_{d}(t_2, t_2)_{c_1,c_1}(\\gamma_{\\mu}e^{-i\\mathbf{q}}) \\right]\\\\\n",
      "d_{58}^{E}&=1.0\\epsilon_{a b c}\\epsilon_{a' b' c'}S_{u}(t_3, t_0)_{c,a'}\\Gamma S_{d}^{\\widetilde{T}}(t_2, t_0)_{c_1,b'}(\\gamma_{\\mu}e^{-i\\mathbf{q}})^{\\widetilde{T}} S_{d}^{\\widetilde{T}}(t_3, t_2)_{b,c_1}\\Gamma^{\\widetilde{T}} S_{u}(t_3, t_0)_{a,c'}\\text{tr}\\left[S_{d}(t_1, t_1)_{c_2,c_2}(\\gamma_{\\nu}e^{i\\mathbf{q}}) \\right]\\\\\n",
      "d_{8}^{F}&=4.0\\epsilon_{a b c}\\epsilon_{a' b' c'}S_{u}(t_3, t_0)_{c,c'}\\text{tr}\\left[S_{u}(t_2, t_2)_{c_1,c_1}(\\gamma_{\\mu}e^{-i\\mathbf{q}}) \\right]\\text{tr}\\left[S_{u}(t_1, t_1)_{c_2,c_2}(\\gamma_{\\nu}e^{i\\mathbf{q}}) \\right]\\text{tr}\\left[S_{u}(t_3, t_0)_{a,a'}\\Gamma S_{d}^{\\widetilde{T}}(t_3, t_0)_{b,b'}\\Gamma^{\\widetilde{T}} \\right]\\\\\n",
      "d_{23}^{F}&=-4.0\\epsilon_{a b c}\\epsilon_{a' b' c'}S_{u}(t_3, t_0)_{c,a'}\\Gamma S_{d}^{\\widetilde{T}}(t_3, t_0)_{b,b'}\\Gamma^{\\widetilde{T}} S_{u}(t_3, t_0)_{a,c'}\\text{tr}\\left[S_{u}(t_2, t_2)_{c_1,c_1}(\\gamma_{\\mu}e^{-i\\mathbf{q}}) \\right]\\text{tr}\\left[S_{u}(t_1, t_1)_{c_2,c_2}(\\gamma_{\\nu}e^{i\\mathbf{q}}) \\right]\\\\\n",
      "d_{27}^{F}&=-2.0\\epsilon_{a b c}\\epsilon_{a' b' c'}S_{u}(t_3, t_0)_{c,c'}\\text{tr}\\left[S_{u}(t_2, t_2)_{c_1,c_1}(\\gamma_{\\mu}e^{-i\\mathbf{q}}) \\right]\\text{tr}\\left[S_{d}(t_1, t_1)_{c_2,c_2}(\\gamma_{\\nu}e^{i\\mathbf{q}}) \\right]\\text{tr}\\left[S_{u}(t_3, t_0)_{a,a'}\\Gamma S_{d}^{\\widetilde{T}}(t_3, t_0)_{b,b'}\\Gamma^{\\widetilde{T}} \\right]\\\\\n",
      "d_{33}^{F}&=2.0\\epsilon_{a b c}\\epsilon_{a' b' c'}S_{u}(t_3, t_0)_{c,a'}\\Gamma S_{d}^{\\widetilde{T}}(t_3, t_0)_{b,b'}\\Gamma^{\\widetilde{T}} S_{u}(t_3, t_0)_{a,c'}\\text{tr}\\left[S_{u}(t_2, t_2)_{c_1,c_1}(\\gamma_{\\mu}e^{-i\\mathbf{q}}) \\right]\\text{tr}\\left[S_{d}(t_1, t_1)_{c_2,c_2}(\\gamma_{\\nu}e^{i\\mathbf{q}}) \\right]\\\\\n",
      "d_{42}^{F}&=-2.0\\epsilon_{a b c}\\epsilon_{a' b' c'}S_{u}(t_3, t_0)_{c,c'}\\text{tr}\\left[S_{d}(t_2, t_2)_{c_1,c_1}(\\gamma_{\\mu}e^{-i\\mathbf{q}}) \\right]\\text{tr}\\left[S_{u}(t_1, t_1)_{c_2,c_2}(\\gamma_{\\nu}e^{i\\mathbf{q}}) \\right]\\text{tr}\\left[S_{u}(t_3, t_0)_{a,a'}\\Gamma S_{d}^{\\widetilde{T}}(t_3, t_0)_{b,b'}\\Gamma^{\\widetilde{T}} \\right]\\\\\n",
      "d_{45}^{F}&=2.0\\epsilon_{a b c}\\epsilon_{a' b' c'}S_{u}(t_3, t_0)_{c,a'}\\Gamma S_{d}^{\\widetilde{T}}(t_3, t_0)_{b,b'}\\Gamma^{\\widetilde{T}} S_{u}(t_3, t_0)_{a,c'}\\text{tr}\\left[S_{d}(t_2, t_2)_{c_1,c_1}(\\gamma_{\\mu}e^{-i\\mathbf{q}}) \\right]\\text{tr}\\left[S_{u}(t_1, t_1)_{c_2,c_2}(\\gamma_{\\nu}e^{i\\mathbf{q}}) \\right]\\\\\n",
      "d_{52}^{F}&=1.0\\epsilon_{a b c}\\epsilon_{a' b' c'}S_{u}(t_3, t_0)_{c,c'}\\text{tr}\\left[S_{d}(t_2, t_2)_{c_1,c_1}(\\gamma_{\\mu}e^{-i\\mathbf{q}}) \\right]\\text{tr}\\left[S_{d}(t_1, t_1)_{c_2,c_2}(\\gamma_{\\nu}e^{i\\mathbf{q}}) \\right]\\text{tr}\\left[S_{u}(t_3, t_0)_{a,a'}\\Gamma S_{d}^{\\widetilde{T}}(t_3, t_0)_{b,b'}\\Gamma^{\\widetilde{T}} \\right]\\\\\n",
      "d_{55}^{F}&=-1.0\\epsilon_{a b c}\\epsilon_{a' b' c'}S_{u}(t_3, t_0)_{c,a'}\\Gamma S_{d}^{\\widetilde{T}}(t_3, t_0)_{b,b'}\\Gamma^{\\widetilde{T}} S_{u}(t_3, t_0)_{a,c'}\\text{tr}\\left[S_{d}(t_2, t_2)_{c_1,c_1}(\\gamma_{\\mu}e^{-i\\mathbf{q}}) \\right]\\text{tr}\\left[S_{d}(t_1, t_1)_{c_2,c_2}(\\gamma_{\\nu}e^{i\\mathbf{q}}) \\right]\\\\\n",
      "\\eeq\n"
     ]
    }
   ],
   "source": [
    "print(\"\\\\beq\")\n",
    "for i,label in topSorted.items():\n",
    "    #pprint(str(diagram))\n",
    "    pd=ProtonDiagram(total[i])\n",
    "    print(\"d_{\"+str(i)+\"}^{\"+topNames[i]+\"}&=\"+pd.spin_prod_string()+\"\\\\\\\\\")\n",
    "print(\"\\eeq\")\n",
    "\n",
    "\n",
    "# pairing terms?"
   ]
  },
  {
   "cell_type": "code",
   "execution_count": null,
   "metadata": {},
   "outputs": [],
   "source": []
  },
  {
   "cell_type": "code",
   "execution_count": null,
   "metadata": {},
   "outputs": [],
   "source": []
  }
 ],
 "metadata": {
  "kernelspec": {
   "display_name": "Python 3 (ipykernel)",
   "language": "python",
   "name": "python3"
  },
  "language_info": {
   "codemirror_mode": {
    "name": "ipython",
    "version": 3
   },
   "file_extension": ".py",
   "mimetype": "text/x-python",
   "name": "python",
   "nbconvert_exporter": "python",
   "pygments_lexer": "ipython3",
   "version": "3.10.6"
  }
 },
 "nbformat": 4,
 "nbformat_minor": 4
}
