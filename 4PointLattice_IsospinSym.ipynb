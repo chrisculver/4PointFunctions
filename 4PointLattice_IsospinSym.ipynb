{
 "cells": [
  {
   "cell_type": "code",
   "execution_count": 1,
   "metadata": {},
   "outputs": [],
   "source": [
    "#SORT lists by topology and update overleaf\n",
    "#keep fwd/bwd l-r labels on topology."
   ]
  },
  {
   "cell_type": "code",
   "execution_count": 2,
   "metadata": {},
   "outputs": [],
   "source": [
    "import sys\n",
    "import os\n",
    "\n",
    "sys.path.append(os.getcwd()[:-9])\n",
    "from src.ops.operator import Operator\n",
    "from src.ops.elemental import ElementalOperator\n",
    "from src.ops.quarks import Quark\n",
    "from src.ops.indexed import IndexedObject\n",
    "from src.wick.contract import contract"
   ]
  },
  {
   "cell_type": "code",
   "execution_count": 3,
   "metadata": {},
   "outputs": [],
   "source": [
    "q0=Quark(True,'u','s_0','c_0','t_3','x_3')\n",
    "g0=IndexedObject('\\\\gamma_5',['s_0','s_1'])\n",
    "q1=Quark(False,'d','s_1','c_0','t_3','x_3')\n",
    "\n",
    "annihilate=Operator([ElementalOperator(+1,[g0],[q0,q1])])\n",
    "\n",
    "#TODO add charge factors qu and qd\n",
    "\n",
    "elementals=[]\n",
    "for pi2 in [['u',+2/3],['d',-1/3]]:                              # uu + dd\n",
    "    for pi1 in [['u',+2/3],['d',-1/3]]:                          # uu + dd \n",
    "        for dirpi2 in [-1,+1]:                               # eq 17 of notes\n",
    "            for dirpi1 in [-1,+1]:\n",
    "                q2=Quark(True,pi2[0],'s_2','c_1','t_2','x_2')\n",
    "                g1=IndexedObject('(1-\\\\gamma_{\\mu})',['s_2','s_3'])\n",
    "                g2=IndexedObject('U_{\\mu}(x_2)',['c_1','c_2'])\n",
    "                q3=Quark(False,pi2[0],'s_3','c_2','t_2','x_2+a\\hat{\\mu}')\n",
    "                q4=Quark(True,pi1[0],'s_4','c_3','t_1','x_1')\n",
    "                g3=IndexedObject('(1-\\\\gamma_{\\\\nu})',['s_4','s_5'])\n",
    "                g4=IndexedObject('U_{\\\\nu}(x_1)',['c_3','c_4'])\n",
    "                q5=Quark(False,pi1[0],'s_5','c_4','t_1','x_1+a\\hat{\\\\nu}')\n",
    "                if(dirpi1==-1):\n",
    "                    q2=Quark(True,pi2[0],'s_2','c_1','t_2','x_2')\n",
    "                    g1=IndexedObject('(1-\\\\gamma_{\\mu})',['s_2','s_3'])\n",
    "                    g2=IndexedObject('U_{\\mu}(x_2)',['c_1','c_2'])\n",
    "                    q3=Quark(False,pi2[0],'s_3','c_2','t_2','x_2+a\\hat{\\mu}')\n",
    "                elif(dirpi1==+1):\n",
    "                    q2=Quark(True,pi2[0],'s_2','c_1','t_2','x_2+a\\hat{\\mu}')\n",
    "                    g1=IndexedObject('(1+\\\\gamma_{\\mu})',['s_2','s_3'])\n",
    "                    g2=IndexedObject('U_{\\mu}^{\\dagger}(x_2)',['c_1','c_2'])\n",
    "                    q3=Quark(False,pi2[0],'s_3','c_2','t_2','x_2')\n",
    "    \n",
    "                if(dirpi2==-1):\n",
    "                    q4=Quark(True,pi1[0],'s_4','c_3','t_1','x_1')\n",
    "                    g3=IndexedObject('(1-\\\\gamma_{\\\\nu})',['s_4','s_5'])\n",
    "                    g4=IndexedObject('U_{\\\\nu}(x_1)',['c_3','c_4'])\n",
    "                    q5=Quark(False,pi1[0],'s_5','c_4','t_1','x_1+a\\hat{\\\\nu}')\n",
    "                    \n",
    "                elif(dirpi2==+1):\n",
    "                    q4=Quark(True,pi1[0],'s_4','c_3','t_1','x_1+a\\hat{\\\\nu}')\n",
    "                    g3=IndexedObject('(1+\\\\gamma_{\\\\nu})',['s_4','s_5'])\n",
    "                    g4=IndexedObject('U_{\\\\nu}^{\\dagger}(x_1)',['c_3','c_4'])\n",
    "                    q5=Quark(False,pi1[0],'s_5','c_4','t_1','x_1')\n",
    "        \n",
    "                # for printing out the insertion cleanly, just comment out this pion\n",
    "                # and uncomment out the block about insertion.\n",
    "                \n",
    "                q6=Quark(True,'d','s_6','c_3','t_0','x_0')\n",
    "                g5=IndexedObject('\\\\gamma_5',['s_6','s_7'])\n",
    "                q7=Quark(False,'u','s_7','c_3','t_0','x_0')\n",
    "                coef=pi1[1]*pi2[1]*dirpi1*dirpi2\n",
    "                elementals.append(ElementalOperator(-1*coef,[g1,g2,g3,g4,g5],[q2,q3,q4,q5,q6,q7]))\n",
    "                #elementals.append(ElementalOperator(coef,[g1,g2,g3,g4],[q2,q3,q4,q5]))\n",
    "        \n",
    "insertion=Operator(elementals)\n",
    "#s=''\n",
    "#for e in insertion.elementals:\n",
    "#    s+=str(e)+'\\\\\\\\'\n",
    "#print(s.replace('*',''))\n",
    "\n",
    "creation=Operator(elementals)"
   ]
  },
  {
   "cell_type": "code",
   "execution_count": 4,
   "metadata": {},
   "outputs": [
    {
     "name": "stdout",
     "output_type": "stream",
     "text": [
      "80\n"
     ]
    },
    {
     "data": {
      "text/plain": [
       "-0.4444444444444444"
      ]
     },
     "execution_count": 4,
     "metadata": {},
     "output_type": "execute_result"
    }
   ],
   "source": [
    "res=contract(annihilate,creation)\n",
    "print(len(res))\n",
    "res[0].coef"
   ]
  },
  {
   "cell_type": "code",
   "execution_count": 5,
   "metadata": {},
   "outputs": [
    {
     "name": "stdout",
     "output_type": "stream",
     "text": [
      "80\n",
      "48\n"
     ]
    }
   ],
   "source": [
    "import copy\n",
    "\n",
    "def latexStr(gamma):\n",
    "    tmp=gamma.name.split('_')\n",
    "    if(tmp[0]=='(1-\\\\gamma)') or (tmp[0]=='(1+\\\\gamma)'):\n",
    "        return tmp[0] + '_{' + tmp[1][:-1] + '_{' + gamma.indices[0] + gamma.indices[1] + '}}'\n",
    "    elif tmp[0][0]=='U':\n",
    "        return '('+gamma.name+')'+ '_{{' + gamma.indices[0] + gamma.indices[1] + '}}'\n",
    "    elif tmp[0]=='\\\\gamma':\n",
    "        return tmp[0] + '_{' + tmp[1] + '_{' + gamma.indices[0] + gamma.indices[1] + '}}'\n",
    "    else:\n",
    "        return str(gamma)\n",
    "  \n",
    "def platexStr(p):\n",
    "    return p.name + '(' + p.xi + ',' + p.ti + '\\mid ' + p.xf + ',' + p.tf + ')' + '_{\\\\substack{' + p.left_indices.s + '\\\\\\\\' + p.left_indices.c + '}' +  '\\\\substack{' + p.right_indices.s + '\\\\\\\\' + p.right_indices.c + '}}'\n",
    "    \n",
    "total=copy.deepcopy(res)\n",
    "\n",
    "print(len(total))\n",
    "\n",
    "for d in total:\n",
    "    for p in d.props:\n",
    "        p.name = 'S'\n",
    "        #p.name = 'S^'+p.name.split('^')[1]\n",
    "        \n",
    "for i in range(len(total)-1,-1,-1):\n",
    "    for j in range(len(total)-1,-1,-1):\n",
    "        if(i!=j):\n",
    "            if((total[i].commuting==total[j].commuting) and (total[i].props==total[j].props)):\n",
    "                total[i].coef+=total[j].coef\n",
    "                total.pop(j)\n",
    "                break\n",
    "for i in range(len(total)-1,-1,-1):\n",
    "    if(total[i].coef==0):\n",
    "        total.pop(i)\n",
    "    else:\n",
    "        total[i].coef*=9\n",
    "        \n",
    "print(len(total))"
   ]
  },
  {
   "cell_type": "code",
   "execution_count": 6,
   "metadata": {},
   "outputs": [],
   "source": [
    "def print_diagrams(total_diags):\n",
    "    print('\\\\beqs')\n",
    "    for i,d in enumerate(total_diags):\n",
    "        #if(i==1 or i==6):\n",
    "        tmp='d_{'+str(i)+'}='+str(d.coef) + ' '\n",
    "        for p in d.props:\n",
    "            tmp+=platexStr(p)\n",
    "        for c in d.commuting:\n",
    "            tmp+=latexStr(c)\n",
    "        print(tmp+'\\\\\\\\')\n",
    "    print('\\\\eeqs')\n",
    "    "
   ]
  },
  {
   "cell_type": "code",
   "execution_count": 7,
   "metadata": {},
   "outputs": [],
   "source": [
    "#print_diagrams(total)"
   ]
  },
  {
   "cell_type": "code",
   "execution_count": 8,
   "metadata": {},
   "outputs": [],
   "source": [
    "def diagram_time_order(total_diags,log=False):\n",
    "    diagrams = {}\n",
    "\n",
    "    for i,d in enumerate(total):\n",
    "        top = []\n",
    "        d_str='d_' + str(i) + ':  '\n",
    "        for p in d.props:\n",
    "            d_str+=p.tf + '->' + p.ti + '   '\n",
    "            top.append([p.tf.split('_')[1],p.ti.split('_')[1]])\n",
    "        diagrams[i]=top\n",
    "        if(log):\n",
    "            print(d_str)\n",
    "    return diagrams\n",
    "\n",
    "refTopologies={}\n",
    "refTopologies['A']=[['1','0'],['0','2'],['2','3'],['3','1']]\n",
    "refTopologies['A-bwd']=[['0','1'],['1','3'],['3','2'],['2','0']]\n",
    "\n",
    "# t3 t2 t1 t0\n",
    "\n",
    "refTopologies['B']=[['1','0'],['0','3'],['3','2'],['2','1']]\n",
    "refTopologies['B-bwd']=[['0','1'],['1','2'],['2','3'],['3','0']]\n",
    "\n",
    "refTopologies['C']=[['2','0'],['0','3'],['3','1'],['1','2']]\n",
    "refTopologies['C-bwd']=[['0','2'],['2','1'],['1','3'],['3','0']]\n",
    "\n",
    "refTopologies['D']=[['0','3'],['3','0'],['2','1'],['1','2']]\n",
    "refTopologies['El']=[['2','2'],['3','1'],['1','0'],['0','3']]\n",
    "refTopologies['El-bwd']=[['2','2'],['1','3'],['3','0'],['0','1']]\n",
    "refTopologies['Er']=[['1','1'],['3','2'],['2','0'],['0','3']]\n",
    "refTopologies['Er-bwd']=[['1','1'],['2','3'],['3','0'],['0','2']]\n",
    "refTopologies['F']=[['0','3'],['3','0'],['1','1'],['2','2']]\n",
    "\n",
    "from src.wick.utilities import permutations\n",
    "\n",
    "def swap(list, i, j):\n",
    "    list[i], list[j] = list[j], list[i]\n",
    "    return list\n",
    "\n",
    "def cyclic_permutations(list):\n",
    "    return [[list[i-j] for i in range(len(list))] for j in range(len(list))]\n",
    "\n",
    "#I kind of forget what this does...\n",
    "def connect_times(topList):\n",
    "    for idx,d in topList.items():\n",
    "        for p in range(len(d)):\n",
    "            if d[p][1] != d[(p+1)%len(d)][0]:\n",
    "                for pp in range(p,len(d)):\n",
    "                    if d[p][1] == d[pp][0]:\n",
    "                        swap(d,(p+1)%len(d),pp)\n",
    "\n",
    "def name_topologies(topList):\n",
    "    for idx,d in topList.items():\n",
    "        for label,top in refTopologies.items():\n",
    "            if d in permutations(top):\n",
    "                topList[idx]=label\n"
   ]
  },
  {
   "cell_type": "code",
   "execution_count": 17,
   "metadata": {},
   "outputs": [
    {
     "name": "stdout",
     "output_type": "stream",
     "text": [
      "{0: [['3', '1'], ['2', '0'], ['1', '2'], ['0', '3']], 1: [['3', '2'], ['2', '1'], ['1', '0'], ['0', '3']], 2: [['3', '1'], ['2', '0'], ['1', '2'], ['0', '3']], 3: [['3', '2'], ['2', '1'], ['1', '0'], ['0', '3']], 4: [['3', '1'], ['2', '0'], ['1', '2'], ['0', '3']], 5: [['3', '2'], ['2', '1'], ['1', '0'], ['0', '3']], 6: [['3', '1'], ['2', '0'], ['1', '2'], ['0', '3']], 7: [['3', '2'], ['2', '1'], ['1', '0'], ['0', '3']], 8: [['3', '2'], ['2', '0'], ['1', '3'], ['0', '1']], 9: [['3', '2'], ['2', '0'], ['1', '1'], ['0', '3']], 10: [['3', '2'], ['2', '0'], ['1', '3'], ['0', '1']], 11: [['3', '2'], ['2', '0'], ['1', '1'], ['0', '3']], 12: [['3', '2'], ['2', '0'], ['1', '3'], ['0', '1']], 13: [['3', '2'], ['2', '0'], ['1', '1'], ['0', '3']], 14: [['3', '2'], ['2', '0'], ['1', '3'], ['0', '1']], 15: [['3', '2'], ['2', '0'], ['1', '1'], ['0', '3']], 16: [['3', '1'], ['2', '3'], ['1', '0'], ['0', '2']], 17: [['3', '1'], ['2', '2'], ['1', '0'], ['0', '3']], 18: [['3', '1'], ['2', '3'], ['1', '0'], ['0', '2']], 19: [['3', '1'], ['2', '2'], ['1', '0'], ['0', '3']], 20: [['3', '1'], ['2', '3'], ['1', '0'], ['0', '2']], 21: [['3', '1'], ['2', '2'], ['1', '0'], ['0', '3']], 22: [['3', '1'], ['2', '3'], ['1', '0'], ['0', '2']], 23: [['3', '1'], ['2', '2'], ['1', '0'], ['0', '3']], 24: [['3', '0'], ['2', '2'], ['1', '3'], ['0', '1']], 25: [['3', '0'], ['2', '3'], ['1', '2'], ['0', '1']], 26: [['3', '0'], ['2', '3'], ['1', '1'], ['0', '2']], 27: [['3', '0'], ['2', '1'], ['1', '3'], ['0', '2']], 28: [['3', '0'], ['2', '1'], ['1', '2'], ['0', '3']], 29: [['3', '0'], ['2', '2'], ['1', '1'], ['0', '3']], 30: [['3', '0'], ['2', '2'], ['1', '3'], ['0', '1']], 31: [['3', '0'], ['2', '3'], ['1', '2'], ['0', '1']], 32: [['3', '0'], ['2', '3'], ['1', '1'], ['0', '2']], 33: [['3', '0'], ['2', '1'], ['1', '3'], ['0', '2']], 34: [['3', '0'], ['2', '1'], ['1', '2'], ['0', '3']], 35: [['3', '0'], ['2', '2'], ['1', '1'], ['0', '3']], 36: [['3', '0'], ['2', '2'], ['1', '3'], ['0', '1']], 37: [['3', '0'], ['2', '3'], ['1', '2'], ['0', '1']], 38: [['3', '0'], ['2', '3'], ['1', '1'], ['0', '2']], 39: [['3', '0'], ['2', '1'], ['1', '3'], ['0', '2']], 40: [['3', '0'], ['2', '1'], ['1', '2'], ['0', '3']], 41: [['3', '0'], ['2', '2'], ['1', '1'], ['0', '3']], 42: [['3', '0'], ['2', '2'], ['1', '3'], ['0', '1']], 43: [['3', '0'], ['2', '3'], ['1', '2'], ['0', '1']], 44: [['3', '0'], ['2', '3'], ['1', '1'], ['0', '2']], 45: [['3', '0'], ['2', '1'], ['1', '3'], ['0', '2']], 46: [['3', '0'], ['2', '1'], ['1', '2'], ['0', '3']], 47: [['3', '0'], ['2', '2'], ['1', '1'], ['0', '3']]}\n"
     ]
    }
   ],
   "source": [
    "topList=diagram_time_order(total)\n",
    "\n",
    "connect_times(topList)\n",
    "\n",
    "name_topologies(topList)"
   ]
  },
  {
   "cell_type": "code",
   "execution_count": 10,
   "metadata": {},
   "outputs": [
    {
     "name": "stdout",
     "output_type": "stream",
     "text": [
      "{0: 'C', 1: 'B', 2: 'C', 3: 'B', 4: 'C', 5: 'B', 6: 'C', 7: 'B', 8: 'A-bwd', 9: 'Er', 10: 'A-bwd', 11: 'Er', 12: 'A-bwd', 13: 'Er', 14: 'A-bwd', 15: 'Er', 16: 'A', 17: 'El', 18: 'A', 19: 'El', 20: 'A', 21: 'El', 22: 'A', 23: 'El', 24: 'El-bwd', 25: 'B-bwd', 26: 'Er-bwd', 27: 'C-bwd', 28: 'D', 29: 'F', 30: 'El-bwd', 31: 'B-bwd', 32: 'Er-bwd', 33: 'C-bwd', 34: 'D', 35: 'F', 36: 'El-bwd', 37: 'B-bwd', 38: 'Er-bwd', 39: 'C-bwd', 40: 'D', 41: 'F', 42: 'El-bwd', 43: 'B-bwd', 44: 'Er-bwd', 45: 'C-bwd', 46: 'D', 47: 'F'}\n"
     ]
    }
   ],
   "source": [
    "print(topList)"
   ]
  },
  {
   "cell_type": "code",
   "execution_count": 11,
   "metadata": {},
   "outputs": [],
   "source": [
    "x=copy.deepcopy(topList)\n",
    "topSorted={k: v for k, v in sorted(x.items(), key=lambda item: item[1])}"
   ]
  },
  {
   "cell_type": "code",
   "execution_count": 14,
   "metadata": {},
   "outputs": [],
   "source": [
    "def print_diagrams_labelled(diags,sortd):\n",
    "    print('\\\\beqs')\n",
    "    newI=0\n",
    "    for i,label in sortd.items():\n",
    "        #if(i==1 or i==6):\n",
    "        tmp='d_{'+str(i)+'}^{\\\\text{('+label+')}}='+str(diags[i].coef) + ' '\n",
    "        for p in diags[i].props:\n",
    "            tmp+=platexStr(p)\n",
    "        for c in diags[i].commuting:\n",
    "            tmp+=latexStr(c)\n",
    "        print(tmp+'\\\\\\\\')\n",
    "        newI+=1\n",
    "    print('\\\\eeqs')"
   ]
  },
  {
   "cell_type": "code",
   "execution_count": 15,
   "metadata": {},
   "outputs": [
    {
     "name": "stdout",
     "output_type": "stream",
     "text": [
      "\\beqs\n",
      "d_{16}^{\\text{(A)}}=-2.0 S(x_1+a\\hat{\\nu},t_1\\mid x_3,t_3)_{\\substack{s_5\\\\c_4}\\substack{s_0\\\\c_0}}S(x_3,t_3\\mid x_2,t_2)_{\\substack{s_1\\\\c_0}\\substack{s_2\\\\c_1}}S(x_0,t_0\\mid x_1,t_1)_{\\substack{s_7\\\\c_3}\\substack{s_4\\\\c_3}}S(x_2+a\\hat{\\mu},t_2\\mid x_0,t_0)_{\\substack{s_3\\\\c_2}\\substack{s_6\\\\c_3}}(1-\\gamma_{\\mu})_{s_2 s_3}(1-\\gamma_{\\nu})_{s_4 s_5}(U_{\\mu}(x_2))_{{c_1c_2}}(U_{\\nu}(x_1))_{{c_3c_4}}\\gamma_{5_{s_0s_1}}\\gamma_{5_{s_6s_7}}\\\\\n",
      "d_{18}^{\\text{(A)}}=2.0 S(x_1+a\\hat{\\nu},t_1\\mid x_3,t_3)_{\\substack{s_5\\\\c_4}\\substack{s_0\\\\c_0}}S(x_3,t_3\\mid x_2+a\\hat{\\mu},t_2)_{\\substack{s_1\\\\c_0}\\substack{s_2\\\\c_1}}S(x_0,t_0\\mid x_1,t_1)_{\\substack{s_7\\\\c_3}\\substack{s_4\\\\c_3}}S(x_2,t_2\\mid x_0,t_0)_{\\substack{s_3\\\\c_2}\\substack{s_6\\\\c_3}}(1+\\gamma_{\\mu})_{s_2 s_3}(1-\\gamma_{\\nu})_{s_4 s_5}(U_{\\mu}^{\\dagger}(x_2))_{{c_1c_2}}(U_{\\nu}(x_1))_{{c_3c_4}}\\gamma_{5_{s_0s_1}}\\gamma_{5_{s_6s_7}}\\\\\n",
      "d_{20}^{\\text{(A)}}=2.0 S(x_1,t_1\\mid x_3,t_3)_{\\substack{s_5\\\\c_4}\\substack{s_0\\\\c_0}}S(x_3,t_3\\mid x_2,t_2)_{\\substack{s_1\\\\c_0}\\substack{s_2\\\\c_1}}S(x_0,t_0\\mid x_1+a\\hat{\\nu},t_1)_{\\substack{s_7\\\\c_3}\\substack{s_4\\\\c_3}}S(x_2+a\\hat{\\mu},t_2\\mid x_0,t_0)_{\\substack{s_3\\\\c_2}\\substack{s_6\\\\c_3}}(1+\\gamma_{\\nu})_{s_4 s_5}(1-\\gamma_{\\mu})_{s_2 s_3}(U_{\\mu}(x_2))_{{c_1c_2}}(U_{\\nu}^{\\dagger}(x_1))_{{c_3c_4}}\\gamma_{5_{s_0s_1}}\\gamma_{5_{s_6s_7}}\\\\\n",
      "d_{22}^{\\text{(A)}}=-2.0 S(x_1,t_1\\mid x_3,t_3)_{\\substack{s_5\\\\c_4}\\substack{s_0\\\\c_0}}S(x_3,t_3\\mid x_2+a\\hat{\\mu},t_2)_{\\substack{s_1\\\\c_0}\\substack{s_2\\\\c_1}}S(x_0,t_0\\mid x_1+a\\hat{\\nu},t_1)_{\\substack{s_7\\\\c_3}\\substack{s_4\\\\c_3}}S(x_2,t_2\\mid x_0,t_0)_{\\substack{s_3\\\\c_2}\\substack{s_6\\\\c_3}}(1+\\gamma_{\\mu})_{s_2 s_3}(1+\\gamma_{\\nu})_{s_4 s_5}(U_{\\mu}^{\\dagger}(x_2))_{{c_1c_2}}(U_{\\nu}^{\\dagger}(x_1))_{{c_3c_4}}\\gamma_{5_{s_0s_1}}\\gamma_{5_{s_6s_7}}\\\\\n",
      "d_{8}^{\\text{(A-bwd)}}=-2.0 S(x_2+a\\hat{\\mu},t_2\\mid x_3,t_3)_{\\substack{s_3\\\\c_2}\\substack{s_0\\\\c_0}}S(x_0,t_0\\mid x_2,t_2)_{\\substack{s_7\\\\c_3}\\substack{s_2\\\\c_1}}S(x_3,t_3\\mid x_1,t_1)_{\\substack{s_1\\\\c_0}\\substack{s_4\\\\c_3}}S(x_1+a\\hat{\\nu},t_1\\mid x_0,t_0)_{\\substack{s_5\\\\c_4}\\substack{s_6\\\\c_3}}(1-\\gamma_{\\mu})_{s_2 s_3}(1-\\gamma_{\\nu})_{s_4 s_5}(U_{\\mu}(x_2))_{{c_1c_2}}(U_{\\nu}(x_1))_{{c_3c_4}}\\gamma_{5_{s_0s_1}}\\gamma_{5_{s_6s_7}}\\\\\n",
      "d_{10}^{\\text{(A-bwd)}}=2.0 S(x_2,t_2\\mid x_3,t_3)_{\\substack{s_3\\\\c_2}\\substack{s_0\\\\c_0}}S(x_0,t_0\\mid x_2+a\\hat{\\mu},t_2)_{\\substack{s_7\\\\c_3}\\substack{s_2\\\\c_1}}S(x_3,t_3\\mid x_1,t_1)_{\\substack{s_1\\\\c_0}\\substack{s_4\\\\c_3}}S(x_1+a\\hat{\\nu},t_1\\mid x_0,t_0)_{\\substack{s_5\\\\c_4}\\substack{s_6\\\\c_3}}(1+\\gamma_{\\mu})_{s_2 s_3}(1-\\gamma_{\\nu})_{s_4 s_5}(U_{\\mu}^{\\dagger}(x_2))_{{c_1c_2}}(U_{\\nu}(x_1))_{{c_3c_4}}\\gamma_{5_{s_0s_1}}\\gamma_{5_{s_6s_7}}\\\\\n",
      "d_{12}^{\\text{(A-bwd)}}=2.0 S(x_2+a\\hat{\\mu},t_2\\mid x_3,t_3)_{\\substack{s_3\\\\c_2}\\substack{s_0\\\\c_0}}S(x_0,t_0\\mid x_2,t_2)_{\\substack{s_7\\\\c_3}\\substack{s_2\\\\c_1}}S(x_3,t_3\\mid x_1+a\\hat{\\nu},t_1)_{\\substack{s_1\\\\c_0}\\substack{s_4\\\\c_3}}S(x_1,t_1\\mid x_0,t_0)_{\\substack{s_5\\\\c_4}\\substack{s_6\\\\c_3}}(1+\\gamma_{\\nu})_{s_4 s_5}(1-\\gamma_{\\mu})_{s_2 s_3}(U_{\\mu}(x_2))_{{c_1c_2}}(U_{\\nu}^{\\dagger}(x_1))_{{c_3c_4}}\\gamma_{5_{s_0s_1}}\\gamma_{5_{s_6s_7}}\\\\\n",
      "d_{14}^{\\text{(A-bwd)}}=-2.0 S(x_2,t_2\\mid x_3,t_3)_{\\substack{s_3\\\\c_2}\\substack{s_0\\\\c_0}}S(x_0,t_0\\mid x_2+a\\hat{\\mu},t_2)_{\\substack{s_7\\\\c_3}\\substack{s_2\\\\c_1}}S(x_3,t_3\\mid x_1+a\\hat{\\nu},t_1)_{\\substack{s_1\\\\c_0}\\substack{s_4\\\\c_3}}S(x_1,t_1\\mid x_0,t_0)_{\\substack{s_5\\\\c_4}\\substack{s_6\\\\c_3}}(1+\\gamma_{\\mu})_{s_2 s_3}(1+\\gamma_{\\nu})_{s_4 s_5}(U_{\\mu}^{\\dagger}(x_2))_{{c_1c_2}}(U_{\\nu}^{\\dagger}(x_1))_{{c_3c_4}}\\gamma_{5_{s_0s_1}}\\gamma_{5_{s_6s_7}}\\\\\n",
      "d_{1}^{\\text{(B)}}=4.0 S(x_2+a\\hat{\\mu},t_2\\mid x_3,t_3)_{\\substack{s_3\\\\c_2}\\substack{s_0\\\\c_0}}S(x_1+a\\hat{\\nu},t_1\\mid x_2,t_2)_{\\substack{s_5\\\\c_4}\\substack{s_2\\\\c_1}}S(x_0,t_0\\mid x_1,t_1)_{\\substack{s_7\\\\c_3}\\substack{s_4\\\\c_3}}S(x_3,t_3\\mid x_0,t_0)_{\\substack{s_1\\\\c_0}\\substack{s_6\\\\c_3}}(1-\\gamma_{\\mu})_{s_2 s_3}(1-\\gamma_{\\nu})_{s_4 s_5}(U_{\\mu}(x_2))_{{c_1c_2}}(U_{\\nu}(x_1))_{{c_3c_4}}\\gamma_{5_{s_0s_1}}\\gamma_{5_{s_6s_7}}\\\\\n",
      "d_{3}^{\\text{(B)}}=-4.0 S(x_2,t_2\\mid x_3,t_3)_{\\substack{s_3\\\\c_2}\\substack{s_0\\\\c_0}}S(x_1+a\\hat{\\nu},t_1\\mid x_2+a\\hat{\\mu},t_2)_{\\substack{s_5\\\\c_4}\\substack{s_2\\\\c_1}}S(x_0,t_0\\mid x_1,t_1)_{\\substack{s_7\\\\c_3}\\substack{s_4\\\\c_3}}S(x_3,t_3\\mid x_0,t_0)_{\\substack{s_1\\\\c_0}\\substack{s_6\\\\c_3}}(1+\\gamma_{\\mu})_{s_2 s_3}(1-\\gamma_{\\nu})_{s_4 s_5}(U_{\\mu}^{\\dagger}(x_2))_{{c_1c_2}}(U_{\\nu}(x_1))_{{c_3c_4}}\\gamma_{5_{s_0s_1}}\\gamma_{5_{s_6s_7}}\\\\\n",
      "d_{5}^{\\text{(B)}}=-4.0 S(x_2+a\\hat{\\mu},t_2\\mid x_3,t_3)_{\\substack{s_3\\\\c_2}\\substack{s_0\\\\c_0}}S(x_1,t_1\\mid x_2,t_2)_{\\substack{s_5\\\\c_4}\\substack{s_2\\\\c_1}}S(x_0,t_0\\mid x_1+a\\hat{\\nu},t_1)_{\\substack{s_7\\\\c_3}\\substack{s_4\\\\c_3}}S(x_3,t_3\\mid x_0,t_0)_{\\substack{s_1\\\\c_0}\\substack{s_6\\\\c_3}}(1+\\gamma_{\\nu})_{s_4 s_5}(1-\\gamma_{\\mu})_{s_2 s_3}(U_{\\mu}(x_2))_{{c_1c_2}}(U_{\\nu}^{\\dagger}(x_1))_{{c_3c_4}}\\gamma_{5_{s_0s_1}}\\gamma_{5_{s_6s_7}}\\\\\n",
      "d_{7}^{\\text{(B)}}=4.0 S(x_2,t_2\\mid x_3,t_3)_{\\substack{s_3\\\\c_2}\\substack{s_0\\\\c_0}}S(x_1,t_1\\mid x_2+a\\hat{\\mu},t_2)_{\\substack{s_5\\\\c_4}\\substack{s_2\\\\c_1}}S(x_0,t_0\\mid x_1+a\\hat{\\nu},t_1)_{\\substack{s_7\\\\c_3}\\substack{s_4\\\\c_3}}S(x_3,t_3\\mid x_0,t_0)_{\\substack{s_1\\\\c_0}\\substack{s_6\\\\c_3}}(1+\\gamma_{\\mu})_{s_2 s_3}(1+\\gamma_{\\nu})_{s_4 s_5}(U_{\\mu}^{\\dagger}(x_2))_{{c_1c_2}}(U_{\\nu}^{\\dagger}(x_1))_{{c_3c_4}}\\gamma_{5_{s_0s_1}}\\gamma_{5_{s_6s_7}}\\\\\n",
      "d_{25}^{\\text{(B-bwd)}}=1.0 S(x_0,t_0\\mid x_3,t_3)_{\\substack{s_7\\\\c_3}\\substack{s_0\\\\c_0}}S(x_3,t_3\\mid x_2,t_2)_{\\substack{s_1\\\\c_0}\\substack{s_2\\\\c_1}}S(x_2+a\\hat{\\mu},t_2\\mid x_1,t_1)_{\\substack{s_3\\\\c_2}\\substack{s_4\\\\c_3}}S(x_1+a\\hat{\\nu},t_1\\mid x_0,t_0)_{\\substack{s_5\\\\c_4}\\substack{s_6\\\\c_3}}(1-\\gamma_{\\mu})_{s_2 s_3}(1-\\gamma_{\\nu})_{s_4 s_5}(U_{\\mu}(x_2))_{{c_1c_2}}(U_{\\nu}(x_1))_{{c_3c_4}}\\gamma_{5_{s_0s_1}}\\gamma_{5_{s_6s_7}}\\\\\n",
      "d_{31}^{\\text{(B-bwd)}}=-1.0 S(x_0,t_0\\mid x_3,t_3)_{\\substack{s_7\\\\c_3}\\substack{s_0\\\\c_0}}S(x_3,t_3\\mid x_2+a\\hat{\\mu},t_2)_{\\substack{s_1\\\\c_0}\\substack{s_2\\\\c_1}}S(x_2,t_2\\mid x_1,t_1)_{\\substack{s_3\\\\c_2}\\substack{s_4\\\\c_3}}S(x_1+a\\hat{\\nu},t_1\\mid x_0,t_0)_{\\substack{s_5\\\\c_4}\\substack{s_6\\\\c_3}}(1+\\gamma_{\\mu})_{s_2 s_3}(1-\\gamma_{\\nu})_{s_4 s_5}(U_{\\mu}^{\\dagger}(x_2))_{{c_1c_2}}(U_{\\nu}(x_1))_{{c_3c_4}}\\gamma_{5_{s_0s_1}}\\gamma_{5_{s_6s_7}}\\\\\n",
      "d_{37}^{\\text{(B-bwd)}}=-1.0 S(x_0,t_0\\mid x_3,t_3)_{\\substack{s_7\\\\c_3}\\substack{s_0\\\\c_0}}S(x_3,t_3\\mid x_2,t_2)_{\\substack{s_1\\\\c_0}\\substack{s_2\\\\c_1}}S(x_2+a\\hat{\\mu},t_2\\mid x_1+a\\hat{\\nu},t_1)_{\\substack{s_3\\\\c_2}\\substack{s_4\\\\c_3}}S(x_1,t_1\\mid x_0,t_0)_{\\substack{s_5\\\\c_4}\\substack{s_6\\\\c_3}}(1+\\gamma_{\\nu})_{s_4 s_5}(1-\\gamma_{\\mu})_{s_2 s_3}(U_{\\mu}(x_2))_{{c_1c_2}}(U_{\\nu}^{\\dagger}(x_1))_{{c_3c_4}}\\gamma_{5_{s_0s_1}}\\gamma_{5_{s_6s_7}}\\\\\n",
      "d_{43}^{\\text{(B-bwd)}}=1.0 S(x_0,t_0\\mid x_3,t_3)_{\\substack{s_7\\\\c_3}\\substack{s_0\\\\c_0}}S(x_3,t_3\\mid x_2+a\\hat{\\mu},t_2)_{\\substack{s_1\\\\c_0}\\substack{s_2\\\\c_1}}S(x_2,t_2\\mid x_1+a\\hat{\\nu},t_1)_{\\substack{s_3\\\\c_2}\\substack{s_4\\\\c_3}}S(x_1,t_1\\mid x_0,t_0)_{\\substack{s_5\\\\c_4}\\substack{s_6\\\\c_3}}(1+\\gamma_{\\mu})_{s_2 s_3}(1+\\gamma_{\\nu})_{s_4 s_5}(U_{\\mu}^{\\dagger}(x_2))_{{c_1c_2}}(U_{\\nu}^{\\dagger}(x_1))_{{c_3c_4}}\\gamma_{5_{s_0s_1}}\\gamma_{5_{s_6s_7}}\\\\\n",
      "d_{0}^{\\text{(C)}}=4.0 S(x_1+a\\hat{\\nu},t_1\\mid x_3,t_3)_{\\substack{s_5\\\\c_4}\\substack{s_0\\\\c_0}}S(x_0,t_0\\mid x_2,t_2)_{\\substack{s_7\\\\c_3}\\substack{s_2\\\\c_1}}S(x_2+a\\hat{\\mu},t_2\\mid x_1,t_1)_{\\substack{s_3\\\\c_2}\\substack{s_4\\\\c_3}}S(x_3,t_3\\mid x_0,t_0)_{\\substack{s_1\\\\c_0}\\substack{s_6\\\\c_3}}(1-\\gamma_{\\mu})_{s_2 s_3}(1-\\gamma_{\\nu})_{s_4 s_5}(U_{\\mu}(x_2))_{{c_1c_2}}(U_{\\nu}(x_1))_{{c_3c_4}}\\gamma_{5_{s_0s_1}}\\gamma_{5_{s_6s_7}}\\\\\n",
      "d_{2}^{\\text{(C)}}=-4.0 S(x_1+a\\hat{\\nu},t_1\\mid x_3,t_3)_{\\substack{s_5\\\\c_4}\\substack{s_0\\\\c_0}}S(x_0,t_0\\mid x_2+a\\hat{\\mu},t_2)_{\\substack{s_7\\\\c_3}\\substack{s_2\\\\c_1}}S(x_2,t_2\\mid x_1,t_1)_{\\substack{s_3\\\\c_2}\\substack{s_4\\\\c_3}}S(x_3,t_3\\mid x_0,t_0)_{\\substack{s_1\\\\c_0}\\substack{s_6\\\\c_3}}(1+\\gamma_{\\mu})_{s_2 s_3}(1-\\gamma_{\\nu})_{s_4 s_5}(U_{\\mu}^{\\dagger}(x_2))_{{c_1c_2}}(U_{\\nu}(x_1))_{{c_3c_4}}\\gamma_{5_{s_0s_1}}\\gamma_{5_{s_6s_7}}\\\\\n",
      "d_{4}^{\\text{(C)}}=-4.0 S(x_1,t_1\\mid x_3,t_3)_{\\substack{s_5\\\\c_4}\\substack{s_0\\\\c_0}}S(x_0,t_0\\mid x_2,t_2)_{\\substack{s_7\\\\c_3}\\substack{s_2\\\\c_1}}S(x_2+a\\hat{\\mu},t_2\\mid x_1+a\\hat{\\nu},t_1)_{\\substack{s_3\\\\c_2}\\substack{s_4\\\\c_3}}S(x_3,t_3\\mid x_0,t_0)_{\\substack{s_1\\\\c_0}\\substack{s_6\\\\c_3}}(1+\\gamma_{\\nu})_{s_4 s_5}(1-\\gamma_{\\mu})_{s_2 s_3}(U_{\\mu}(x_2))_{{c_1c_2}}(U_{\\nu}^{\\dagger}(x_1))_{{c_3c_4}}\\gamma_{5_{s_0s_1}}\\gamma_{5_{s_6s_7}}\\\\\n",
      "d_{6}^{\\text{(C)}}=4.0 S(x_1,t_1\\mid x_3,t_3)_{\\substack{s_5\\\\c_4}\\substack{s_0\\\\c_0}}S(x_0,t_0\\mid x_2+a\\hat{\\mu},t_2)_{\\substack{s_7\\\\c_3}\\substack{s_2\\\\c_1}}S(x_2,t_2\\mid x_1+a\\hat{\\nu},t_1)_{\\substack{s_3\\\\c_2}\\substack{s_4\\\\c_3}}S(x_3,t_3\\mid x_0,t_0)_{\\substack{s_1\\\\c_0}\\substack{s_6\\\\c_3}}(1+\\gamma_{\\mu})_{s_2 s_3}(1+\\gamma_{\\nu})_{s_4 s_5}(U_{\\mu}^{\\dagger}(x_2))_{{c_1c_2}}(U_{\\nu}^{\\dagger}(x_1))_{{c_3c_4}}\\gamma_{5_{s_0s_1}}\\gamma_{5_{s_6s_7}}\\\\\n",
      "d_{27}^{\\text{(C-bwd)}}=1.0 S(x_0,t_0\\mid x_3,t_3)_{\\substack{s_7\\\\c_3}\\substack{s_0\\\\c_0}}S(x_1+a\\hat{\\nu},t_1\\mid x_2,t_2)_{\\substack{s_5\\\\c_4}\\substack{s_2\\\\c_1}}S(x_3,t_3\\mid x_1,t_1)_{\\substack{s_1\\\\c_0}\\substack{s_4\\\\c_3}}S(x_2+a\\hat{\\mu},t_2\\mid x_0,t_0)_{\\substack{s_3\\\\c_2}\\substack{s_6\\\\c_3}}(1-\\gamma_{\\mu})_{s_2 s_3}(1-\\gamma_{\\nu})_{s_4 s_5}(U_{\\mu}(x_2))_{{c_1c_2}}(U_{\\nu}(x_1))_{{c_3c_4}}\\gamma_{5_{s_0s_1}}\\gamma_{5_{s_6s_7}}\\\\\n",
      "d_{33}^{\\text{(C-bwd)}}=-1.0 S(x_0,t_0\\mid x_3,t_3)_{\\substack{s_7\\\\c_3}\\substack{s_0\\\\c_0}}S(x_1+a\\hat{\\nu},t_1\\mid x_2+a\\hat{\\mu},t_2)_{\\substack{s_5\\\\c_4}\\substack{s_2\\\\c_1}}S(x_3,t_3\\mid x_1,t_1)_{\\substack{s_1\\\\c_0}\\substack{s_4\\\\c_3}}S(x_2,t_2\\mid x_0,t_0)_{\\substack{s_3\\\\c_2}\\substack{s_6\\\\c_3}}(1+\\gamma_{\\mu})_{s_2 s_3}(1-\\gamma_{\\nu})_{s_4 s_5}(U_{\\mu}^{\\dagger}(x_2))_{{c_1c_2}}(U_{\\nu}(x_1))_{{c_3c_4}}\\gamma_{5_{s_0s_1}}\\gamma_{5_{s_6s_7}}\\\\\n",
      "d_{39}^{\\text{(C-bwd)}}=-1.0 S(x_0,t_0\\mid x_3,t_3)_{\\substack{s_7\\\\c_3}\\substack{s_0\\\\c_0}}S(x_1,t_1\\mid x_2,t_2)_{\\substack{s_5\\\\c_4}\\substack{s_2\\\\c_1}}S(x_3,t_3\\mid x_1+a\\hat{\\nu},t_1)_{\\substack{s_1\\\\c_0}\\substack{s_4\\\\c_3}}S(x_2+a\\hat{\\mu},t_2\\mid x_0,t_0)_{\\substack{s_3\\\\c_2}\\substack{s_6\\\\c_3}}(1+\\gamma_{\\nu})_{s_4 s_5}(1-\\gamma_{\\mu})_{s_2 s_3}(U_{\\mu}(x_2))_{{c_1c_2}}(U_{\\nu}^{\\dagger}(x_1))_{{c_3c_4}}\\gamma_{5_{s_0s_1}}\\gamma_{5_{s_6s_7}}\\\\\n",
      "d_{45}^{\\text{(C-bwd)}}=1.0 S(x_0,t_0\\mid x_3,t_3)_{\\substack{s_7\\\\c_3}\\substack{s_0\\\\c_0}}S(x_1,t_1\\mid x_2+a\\hat{\\mu},t_2)_{\\substack{s_5\\\\c_4}\\substack{s_2\\\\c_1}}S(x_3,t_3\\mid x_1+a\\hat{\\nu},t_1)_{\\substack{s_1\\\\c_0}\\substack{s_4\\\\c_3}}S(x_2,t_2\\mid x_0,t_0)_{\\substack{s_3\\\\c_2}\\substack{s_6\\\\c_3}}(1+\\gamma_{\\mu})_{s_2 s_3}(1+\\gamma_{\\nu})_{s_4 s_5}(U_{\\mu}^{\\dagger}(x_2))_{{c_1c_2}}(U_{\\nu}^{\\dagger}(x_1))_{{c_3c_4}}\\gamma_{5_{s_0s_1}}\\gamma_{5_{s_6s_7}}\\\\\n",
      "d_{28}^{\\text{(D)}}=-5.0 S(x_0,t_0\\mid x_3,t_3)_{\\substack{s_7\\\\c_3}\\substack{s_0\\\\c_0}}S(x_1+a\\hat{\\nu},t_1\\mid x_2,t_2)_{\\substack{s_5\\\\c_4}\\substack{s_2\\\\c_1}}S(x_2+a\\hat{\\mu},t_2\\mid x_1,t_1)_{\\substack{s_3\\\\c_2}\\substack{s_4\\\\c_3}}S(x_3,t_3\\mid x_0,t_0)_{\\substack{s_1\\\\c_0}\\substack{s_6\\\\c_3}}(1-\\gamma_{\\mu})_{s_2 s_3}(1-\\gamma_{\\nu})_{s_4 s_5}(U_{\\mu}(x_2))_{{c_1c_2}}(U_{\\nu}(x_1))_{{c_3c_4}}\\gamma_{5_{s_0s_1}}\\gamma_{5_{s_6s_7}}\\\\\n",
      "d_{34}^{\\text{(D)}}=5.0 S(x_0,t_0\\mid x_3,t_3)_{\\substack{s_7\\\\c_3}\\substack{s_0\\\\c_0}}S(x_1+a\\hat{\\nu},t_1\\mid x_2+a\\hat{\\mu},t_2)_{\\substack{s_5\\\\c_4}\\substack{s_2\\\\c_1}}S(x_2,t_2\\mid x_1,t_1)_{\\substack{s_3\\\\c_2}\\substack{s_4\\\\c_3}}S(x_3,t_3\\mid x_0,t_0)_{\\substack{s_1\\\\c_0}\\substack{s_6\\\\c_3}}(1+\\gamma_{\\mu})_{s_2 s_3}(1-\\gamma_{\\nu})_{s_4 s_5}(U_{\\mu}^{\\dagger}(x_2))_{{c_1c_2}}(U_{\\nu}(x_1))_{{c_3c_4}}\\gamma_{5_{s_0s_1}}\\gamma_{5_{s_6s_7}}\\\\\n",
      "d_{40}^{\\text{(D)}}=5.0 S(x_0,t_0\\mid x_3,t_3)_{\\substack{s_7\\\\c_3}\\substack{s_0\\\\c_0}}S(x_1,t_1\\mid x_2,t_2)_{\\substack{s_5\\\\c_4}\\substack{s_2\\\\c_1}}S(x_2+a\\hat{\\mu},t_2\\mid x_1+a\\hat{\\nu},t_1)_{\\substack{s_3\\\\c_2}\\substack{s_4\\\\c_3}}S(x_3,t_3\\mid x_0,t_0)_{\\substack{s_1\\\\c_0}\\substack{s_6\\\\c_3}}(1+\\gamma_{\\nu})_{s_4 s_5}(1-\\gamma_{\\mu})_{s_2 s_3}(U_{\\mu}(x_2))_{{c_1c_2}}(U_{\\nu}^{\\dagger}(x_1))_{{c_3c_4}}\\gamma_{5_{s_0s_1}}\\gamma_{5_{s_6s_7}}\\\\\n",
      "d_{46}^{\\text{(D)}}=-5.0 S(x_0,t_0\\mid x_3,t_3)_{\\substack{s_7\\\\c_3}\\substack{s_0\\\\c_0}}S(x_1,t_1\\mid x_2+a\\hat{\\mu},t_2)_{\\substack{s_5\\\\c_4}\\substack{s_2\\\\c_1}}S(x_2,t_2\\mid x_1+a\\hat{\\nu},t_1)_{\\substack{s_3\\\\c_2}\\substack{s_4\\\\c_3}}S(x_3,t_3\\mid x_0,t_0)_{\\substack{s_1\\\\c_0}\\substack{s_6\\\\c_3}}(1+\\gamma_{\\mu})_{s_2 s_3}(1+\\gamma_{\\nu})_{s_4 s_5}(U_{\\mu}^{\\dagger}(x_2))_{{c_1c_2}}(U_{\\nu}^{\\dagger}(x_1))_{{c_3c_4}}\\gamma_{5_{s_0s_1}}\\gamma_{5_{s_6s_7}}\\\\\n",
      "d_{17}^{\\text{(El)}}=-2.0 S(x_1+a\\hat{\\nu},t_1\\mid x_3,t_3)_{\\substack{s_5\\\\c_4}\\substack{s_0\\\\c_0}}S(x_2+a\\hat{\\mu},t_2\\mid x_2,t_2)_{\\substack{s_3\\\\c_2}\\substack{s_2\\\\c_1}}S(x_0,t_0\\mid x_1,t_1)_{\\substack{s_7\\\\c_3}\\substack{s_4\\\\c_3}}S(x_3,t_3\\mid x_0,t_0)_{\\substack{s_1\\\\c_0}\\substack{s_6\\\\c_3}}(1-\\gamma_{\\mu})_{s_2 s_3}(1-\\gamma_{\\nu})_{s_4 s_5}(U_{\\mu}(x_2))_{{c_1c_2}}(U_{\\nu}(x_1))_{{c_3c_4}}\\gamma_{5_{s_0s_1}}\\gamma_{5_{s_6s_7}}\\\\\n",
      "d_{19}^{\\text{(El)}}=2.0 S(x_1+a\\hat{\\nu},t_1\\mid x_3,t_3)_{\\substack{s_5\\\\c_4}\\substack{s_0\\\\c_0}}S(x_2,t_2\\mid x_2+a\\hat{\\mu},t_2)_{\\substack{s_3\\\\c_2}\\substack{s_2\\\\c_1}}S(x_0,t_0\\mid x_1,t_1)_{\\substack{s_7\\\\c_3}\\substack{s_4\\\\c_3}}S(x_3,t_3\\mid x_0,t_0)_{\\substack{s_1\\\\c_0}\\substack{s_6\\\\c_3}}(1+\\gamma_{\\mu})_{s_2 s_3}(1-\\gamma_{\\nu})_{s_4 s_5}(U_{\\mu}^{\\dagger}(x_2))_{{c_1c_2}}(U_{\\nu}(x_1))_{{c_3c_4}}\\gamma_{5_{s_0s_1}}\\gamma_{5_{s_6s_7}}\\\\\n",
      "d_{21}^{\\text{(El)}}=2.0 S(x_1,t_1\\mid x_3,t_3)_{\\substack{s_5\\\\c_4}\\substack{s_0\\\\c_0}}S(x_2+a\\hat{\\mu},t_2\\mid x_2,t_2)_{\\substack{s_3\\\\c_2}\\substack{s_2\\\\c_1}}S(x_0,t_0\\mid x_1+a\\hat{\\nu},t_1)_{\\substack{s_7\\\\c_3}\\substack{s_4\\\\c_3}}S(x_3,t_3\\mid x_0,t_0)_{\\substack{s_1\\\\c_0}\\substack{s_6\\\\c_3}}(1+\\gamma_{\\nu})_{s_4 s_5}(1-\\gamma_{\\mu})_{s_2 s_3}(U_{\\mu}(x_2))_{{c_1c_2}}(U_{\\nu}^{\\dagger}(x_1))_{{c_3c_4}}\\gamma_{5_{s_0s_1}}\\gamma_{5_{s_6s_7}}\\\\\n",
      "d_{23}^{\\text{(El)}}=-2.0 S(x_1,t_1\\mid x_3,t_3)_{\\substack{s_5\\\\c_4}\\substack{s_0\\\\c_0}}S(x_2,t_2\\mid x_2+a\\hat{\\mu},t_2)_{\\substack{s_3\\\\c_2}\\substack{s_2\\\\c_1}}S(x_0,t_0\\mid x_1+a\\hat{\\nu},t_1)_{\\substack{s_7\\\\c_3}\\substack{s_4\\\\c_3}}S(x_3,t_3\\mid x_0,t_0)_{\\substack{s_1\\\\c_0}\\substack{s_6\\\\c_3}}(1+\\gamma_{\\mu})_{s_2 s_3}(1+\\gamma_{\\nu})_{s_4 s_5}(U_{\\mu}^{\\dagger}(x_2))_{{c_1c_2}}(U_{\\nu}^{\\dagger}(x_1))_{{c_3c_4}}\\gamma_{5_{s_0s_1}}\\gamma_{5_{s_6s_7}}\\\\\n",
      "d_{24}^{\\text{(El-bwd)}}=1.0 S(x_0,t_0\\mid x_3,t_3)_{\\substack{s_7\\\\c_3}\\substack{s_0\\\\c_0}}S(x_2+a\\hat{\\mu},t_2\\mid x_2,t_2)_{\\substack{s_3\\\\c_2}\\substack{s_2\\\\c_1}}S(x_3,t_3\\mid x_1,t_1)_{\\substack{s_1\\\\c_0}\\substack{s_4\\\\c_3}}S(x_1+a\\hat{\\nu},t_1\\mid x_0,t_0)_{\\substack{s_5\\\\c_4}\\substack{s_6\\\\c_3}}(1-\\gamma_{\\mu})_{s_2 s_3}(1-\\gamma_{\\nu})_{s_4 s_5}(U_{\\mu}(x_2))_{{c_1c_2}}(U_{\\nu}(x_1))_{{c_3c_4}}\\gamma_{5_{s_0s_1}}\\gamma_{5_{s_6s_7}}\\\\\n",
      "d_{30}^{\\text{(El-bwd)}}=-1.0 S(x_0,t_0\\mid x_3,t_3)_{\\substack{s_7\\\\c_3}\\substack{s_0\\\\c_0}}S(x_2,t_2\\mid x_2+a\\hat{\\mu},t_2)_{\\substack{s_3\\\\c_2}\\substack{s_2\\\\c_1}}S(x_3,t_3\\mid x_1,t_1)_{\\substack{s_1\\\\c_0}\\substack{s_4\\\\c_3}}S(x_1+a\\hat{\\nu},t_1\\mid x_0,t_0)_{\\substack{s_5\\\\c_4}\\substack{s_6\\\\c_3}}(1+\\gamma_{\\mu})_{s_2 s_3}(1-\\gamma_{\\nu})_{s_4 s_5}(U_{\\mu}^{\\dagger}(x_2))_{{c_1c_2}}(U_{\\nu}(x_1))_{{c_3c_4}}\\gamma_{5_{s_0s_1}}\\gamma_{5_{s_6s_7}}\\\\\n",
      "d_{36}^{\\text{(El-bwd)}}=-1.0 S(x_0,t_0\\mid x_3,t_3)_{\\substack{s_7\\\\c_3}\\substack{s_0\\\\c_0}}S(x_2+a\\hat{\\mu},t_2\\mid x_2,t_2)_{\\substack{s_3\\\\c_2}\\substack{s_2\\\\c_1}}S(x_3,t_3\\mid x_1+a\\hat{\\nu},t_1)_{\\substack{s_1\\\\c_0}\\substack{s_4\\\\c_3}}S(x_1,t_1\\mid x_0,t_0)_{\\substack{s_5\\\\c_4}\\substack{s_6\\\\c_3}}(1+\\gamma_{\\nu})_{s_4 s_5}(1-\\gamma_{\\mu})_{s_2 s_3}(U_{\\mu}(x_2))_{{c_1c_2}}(U_{\\nu}^{\\dagger}(x_1))_{{c_3c_4}}\\gamma_{5_{s_0s_1}}\\gamma_{5_{s_6s_7}}\\\\\n",
      "d_{42}^{\\text{(El-bwd)}}=1.0 S(x_0,t_0\\mid x_3,t_3)_{\\substack{s_7\\\\c_3}\\substack{s_0\\\\c_0}}S(x_2,t_2\\mid x_2+a\\hat{\\mu},t_2)_{\\substack{s_3\\\\c_2}\\substack{s_2\\\\c_1}}S(x_3,t_3\\mid x_1+a\\hat{\\nu},t_1)_{\\substack{s_1\\\\c_0}\\substack{s_4\\\\c_3}}S(x_1,t_1\\mid x_0,t_0)_{\\substack{s_5\\\\c_4}\\substack{s_6\\\\c_3}}(1+\\gamma_{\\mu})_{s_2 s_3}(1+\\gamma_{\\nu})_{s_4 s_5}(U_{\\mu}^{\\dagger}(x_2))_{{c_1c_2}}(U_{\\nu}^{\\dagger}(x_1))_{{c_3c_4}}\\gamma_{5_{s_0s_1}}\\gamma_{5_{s_6s_7}}\\\\\n",
      "d_{9}^{\\text{(Er)}}=-2.0 S(x_2+a\\hat{\\mu},t_2\\mid x_3,t_3)_{\\substack{s_3\\\\c_2}\\substack{s_0\\\\c_0}}S(x_0,t_0\\mid x_2,t_2)_{\\substack{s_7\\\\c_3}\\substack{s_2\\\\c_1}}S(x_1+a\\hat{\\nu},t_1\\mid x_1,t_1)_{\\substack{s_5\\\\c_4}\\substack{s_4\\\\c_3}}S(x_3,t_3\\mid x_0,t_0)_{\\substack{s_1\\\\c_0}\\substack{s_6\\\\c_3}}(1-\\gamma_{\\mu})_{s_2 s_3}(1-\\gamma_{\\nu})_{s_4 s_5}(U_{\\mu}(x_2))_{{c_1c_2}}(U_{\\nu}(x_1))_{{c_3c_4}}\\gamma_{5_{s_0s_1}}\\gamma_{5_{s_6s_7}}\\\\\n",
      "d_{11}^{\\text{(Er)}}=2.0 S(x_2,t_2\\mid x_3,t_3)_{\\substack{s_3\\\\c_2}\\substack{s_0\\\\c_0}}S(x_0,t_0\\mid x_2+a\\hat{\\mu},t_2)_{\\substack{s_7\\\\c_3}\\substack{s_2\\\\c_1}}S(x_1+a\\hat{\\nu},t_1\\mid x_1,t_1)_{\\substack{s_5\\\\c_4}\\substack{s_4\\\\c_3}}S(x_3,t_3\\mid x_0,t_0)_{\\substack{s_1\\\\c_0}\\substack{s_6\\\\c_3}}(1+\\gamma_{\\mu})_{s_2 s_3}(1-\\gamma_{\\nu})_{s_4 s_5}(U_{\\mu}^{\\dagger}(x_2))_{{c_1c_2}}(U_{\\nu}(x_1))_{{c_3c_4}}\\gamma_{5_{s_0s_1}}\\gamma_{5_{s_6s_7}}\\\\\n",
      "d_{13}^{\\text{(Er)}}=2.0 S(x_2+a\\hat{\\mu},t_2\\mid x_3,t_3)_{\\substack{s_3\\\\c_2}\\substack{s_0\\\\c_0}}S(x_0,t_0\\mid x_2,t_2)_{\\substack{s_7\\\\c_3}\\substack{s_2\\\\c_1}}S(x_1,t_1\\mid x_1+a\\hat{\\nu},t_1)_{\\substack{s_5\\\\c_4}\\substack{s_4\\\\c_3}}S(x_3,t_3\\mid x_0,t_0)_{\\substack{s_1\\\\c_0}\\substack{s_6\\\\c_3}}(1+\\gamma_{\\nu})_{s_4 s_5}(1-\\gamma_{\\mu})_{s_2 s_3}(U_{\\mu}(x_2))_{{c_1c_2}}(U_{\\nu}^{\\dagger}(x_1))_{{c_3c_4}}\\gamma_{5_{s_0s_1}}\\gamma_{5_{s_6s_7}}\\\\\n",
      "d_{15}^{\\text{(Er)}}=-2.0 S(x_2,t_2\\mid x_3,t_3)_{\\substack{s_3\\\\c_2}\\substack{s_0\\\\c_0}}S(x_0,t_0\\mid x_2+a\\hat{\\mu},t_2)_{\\substack{s_7\\\\c_3}\\substack{s_2\\\\c_1}}S(x_1,t_1\\mid x_1+a\\hat{\\nu},t_1)_{\\substack{s_5\\\\c_4}\\substack{s_4\\\\c_3}}S(x_3,t_3\\mid x_0,t_0)_{\\substack{s_1\\\\c_0}\\substack{s_6\\\\c_3}}(1+\\gamma_{\\mu})_{s_2 s_3}(1+\\gamma_{\\nu})_{s_4 s_5}(U_{\\mu}^{\\dagger}(x_2))_{{c_1c_2}}(U_{\\nu}^{\\dagger}(x_1))_{{c_3c_4}}\\gamma_{5_{s_0s_1}}\\gamma_{5_{s_6s_7}}\\\\\n",
      "d_{26}^{\\text{(Er-bwd)}}=1.0 S(x_0,t_0\\mid x_3,t_3)_{\\substack{s_7\\\\c_3}\\substack{s_0\\\\c_0}}S(x_3,t_3\\mid x_2,t_2)_{\\substack{s_1\\\\c_0}\\substack{s_2\\\\c_1}}S(x_1+a\\hat{\\nu},t_1\\mid x_1,t_1)_{\\substack{s_5\\\\c_4}\\substack{s_4\\\\c_3}}S(x_2+a\\hat{\\mu},t_2\\mid x_0,t_0)_{\\substack{s_3\\\\c_2}\\substack{s_6\\\\c_3}}(1-\\gamma_{\\mu})_{s_2 s_3}(1-\\gamma_{\\nu})_{s_4 s_5}(U_{\\mu}(x_2))_{{c_1c_2}}(U_{\\nu}(x_1))_{{c_3c_4}}\\gamma_{5_{s_0s_1}}\\gamma_{5_{s_6s_7}}\\\\\n",
      "d_{32}^{\\text{(Er-bwd)}}=-1.0 S(x_0,t_0\\mid x_3,t_3)_{\\substack{s_7\\\\c_3}\\substack{s_0\\\\c_0}}S(x_3,t_3\\mid x_2+a\\hat{\\mu},t_2)_{\\substack{s_1\\\\c_0}\\substack{s_2\\\\c_1}}S(x_1+a\\hat{\\nu},t_1\\mid x_1,t_1)_{\\substack{s_5\\\\c_4}\\substack{s_4\\\\c_3}}S(x_2,t_2\\mid x_0,t_0)_{\\substack{s_3\\\\c_2}\\substack{s_6\\\\c_3}}(1+\\gamma_{\\mu})_{s_2 s_3}(1-\\gamma_{\\nu})_{s_4 s_5}(U_{\\mu}^{\\dagger}(x_2))_{{c_1c_2}}(U_{\\nu}(x_1))_{{c_3c_4}}\\gamma_{5_{s_0s_1}}\\gamma_{5_{s_6s_7}}\\\\\n",
      "d_{38}^{\\text{(Er-bwd)}}=-1.0 S(x_0,t_0\\mid x_3,t_3)_{\\substack{s_7\\\\c_3}\\substack{s_0\\\\c_0}}S(x_3,t_3\\mid x_2,t_2)_{\\substack{s_1\\\\c_0}\\substack{s_2\\\\c_1}}S(x_1,t_1\\mid x_1+a\\hat{\\nu},t_1)_{\\substack{s_5\\\\c_4}\\substack{s_4\\\\c_3}}S(x_2+a\\hat{\\mu},t_2\\mid x_0,t_0)_{\\substack{s_3\\\\c_2}\\substack{s_6\\\\c_3}}(1+\\gamma_{\\nu})_{s_4 s_5}(1-\\gamma_{\\mu})_{s_2 s_3}(U_{\\mu}(x_2))_{{c_1c_2}}(U_{\\nu}^{\\dagger}(x_1))_{{c_3c_4}}\\gamma_{5_{s_0s_1}}\\gamma_{5_{s_6s_7}}\\\\\n",
      "d_{44}^{\\text{(Er-bwd)}}=1.0 S(x_0,t_0\\mid x_3,t_3)_{\\substack{s_7\\\\c_3}\\substack{s_0\\\\c_0}}S(x_3,t_3\\mid x_2+a\\hat{\\mu},t_2)_{\\substack{s_1\\\\c_0}\\substack{s_2\\\\c_1}}S(x_1,t_1\\mid x_1+a\\hat{\\nu},t_1)_{\\substack{s_5\\\\c_4}\\substack{s_4\\\\c_3}}S(x_2,t_2\\mid x_0,t_0)_{\\substack{s_3\\\\c_2}\\substack{s_6\\\\c_3}}(1+\\gamma_{\\mu})_{s_2 s_3}(1+\\gamma_{\\nu})_{s_4 s_5}(U_{\\mu}^{\\dagger}(x_2))_{{c_1c_2}}(U_{\\nu}^{\\dagger}(x_1))_{{c_3c_4}}\\gamma_{5_{s_0s_1}}\\gamma_{5_{s_6s_7}}\\\\\n",
      "d_{29}^{\\text{(F)}}=1.0 S(x_0,t_0\\mid x_3,t_3)_{\\substack{s_7\\\\c_3}\\substack{s_0\\\\c_0}}S(x_2+a\\hat{\\mu},t_2\\mid x_2,t_2)_{\\substack{s_3\\\\c_2}\\substack{s_2\\\\c_1}}S(x_1+a\\hat{\\nu},t_1\\mid x_1,t_1)_{\\substack{s_5\\\\c_4}\\substack{s_4\\\\c_3}}S(x_3,t_3\\mid x_0,t_0)_{\\substack{s_1\\\\c_0}\\substack{s_6\\\\c_3}}(1-\\gamma_{\\mu})_{s_2 s_3}(1-\\gamma_{\\nu})_{s_4 s_5}(U_{\\mu}(x_2))_{{c_1c_2}}(U_{\\nu}(x_1))_{{c_3c_4}}\\gamma_{5_{s_0s_1}}\\gamma_{5_{s_6s_7}}\\\\\n",
      "d_{35}^{\\text{(F)}}=-1.0 S(x_0,t_0\\mid x_3,t_3)_{\\substack{s_7\\\\c_3}\\substack{s_0\\\\c_0}}S(x_2,t_2\\mid x_2+a\\hat{\\mu},t_2)_{\\substack{s_3\\\\c_2}\\substack{s_2\\\\c_1}}S(x_1+a\\hat{\\nu},t_1\\mid x_1,t_1)_{\\substack{s_5\\\\c_4}\\substack{s_4\\\\c_3}}S(x_3,t_3\\mid x_0,t_0)_{\\substack{s_1\\\\c_0}\\substack{s_6\\\\c_3}}(1+\\gamma_{\\mu})_{s_2 s_3}(1-\\gamma_{\\nu})_{s_4 s_5}(U_{\\mu}^{\\dagger}(x_2))_{{c_1c_2}}(U_{\\nu}(x_1))_{{c_3c_4}}\\gamma_{5_{s_0s_1}}\\gamma_{5_{s_6s_7}}\\\\\n",
      "d_{41}^{\\text{(F)}}=-1.0 S(x_0,t_0\\mid x_3,t_3)_{\\substack{s_7\\\\c_3}\\substack{s_0\\\\c_0}}S(x_2+a\\hat{\\mu},t_2\\mid x_2,t_2)_{\\substack{s_3\\\\c_2}\\substack{s_2\\\\c_1}}S(x_1,t_1\\mid x_1+a\\hat{\\nu},t_1)_{\\substack{s_5\\\\c_4}\\substack{s_4\\\\c_3}}S(x_3,t_3\\mid x_0,t_0)_{\\substack{s_1\\\\c_0}\\substack{s_6\\\\c_3}}(1+\\gamma_{\\nu})_{s_4 s_5}(1-\\gamma_{\\mu})_{s_2 s_3}(U_{\\mu}(x_2))_{{c_1c_2}}(U_{\\nu}^{\\dagger}(x_1))_{{c_3c_4}}\\gamma_{5_{s_0s_1}}\\gamma_{5_{s_6s_7}}\\\\\n",
      "d_{47}^{\\text{(F)}}=1.0 S(x_0,t_0\\mid x_3,t_3)_{\\substack{s_7\\\\c_3}\\substack{s_0\\\\c_0}}S(x_2,t_2\\mid x_2+a\\hat{\\mu},t_2)_{\\substack{s_3\\\\c_2}\\substack{s_2\\\\c_1}}S(x_1,t_1\\mid x_1+a\\hat{\\nu},t_1)_{\\substack{s_5\\\\c_4}\\substack{s_4\\\\c_3}}S(x_3,t_3\\mid x_0,t_0)_{\\substack{s_1\\\\c_0}\\substack{s_6\\\\c_3}}(1+\\gamma_{\\mu})_{s_2 s_3}(1+\\gamma_{\\nu})_{s_4 s_5}(U_{\\mu}^{\\dagger}(x_2))_{{c_1c_2}}(U_{\\nu}^{\\dagger}(x_1))_{{c_3c_4}}\\gamma_{5_{s_0s_1}}\\gamma_{5_{s_6s_7}}\\\\\n",
      "\\eeqs\n"
     ]
    }
   ],
   "source": [
    "print_diagrams_labelled(total,topSorted)"
   ]
  },
  {
   "cell_type": "code",
   "execution_count": null,
   "metadata": {},
   "outputs": [],
   "source": []
  },
  {
   "cell_type": "code",
   "execution_count": 23,
   "metadata": {},
   "outputs": [
    {
     "name": "stdout",
     "output_type": "stream",
     "text": [
      "{'A': [16, 18, 20, 22, 8, 10, 12, 14], 'B': [1, 3, 5, 7, 25, 31, 37, 43], 'C': [0, 2, 4, 6, 27, 33, 39, 45], 'D': [28, 34, 40, 46], 'E': [17, 19, 21, 23, 24, 30, 36, 42, 9, 11, 13, 15, 26, 32, 38, 44], 'F': [29, 35, 41, 47]}\n"
     ]
    }
   ],
   "source": [
    "data={}\n",
    "for k,v in topSorted.items():\n",
    "    if v[0] in data.keys():\n",
    "        data[v[0]].append(k)\n",
    "    else:\n",
    "        data[v[0]]=[k]\n",
    "print(data)"
   ]
  },
  {
   "cell_type": "code",
   "execution_count": 27,
   "metadata": {},
   "outputs": [
    {
     "name": "stdout",
     "output_type": "stream",
     "text": [
      "\\begin{tabular}{c c}\n"
     ]
    },
    {
     "ename": "TypeError",
     "evalue": "unsupported operand type(s) for +: 'int' and 'str'",
     "output_type": "error",
     "traceback": [
      "\u001b[0;31m---------------------------------------------------------------------------\u001b[0m",
      "\u001b[0;31mTypeError\u001b[0m                                 Traceback (most recent call last)",
      "\u001b[0;32m<ipython-input-27-4a1e8fd6b5a1>\u001b[0m in \u001b[0;36m<module>\u001b[0;34m\u001b[0m\n\u001b[1;32m     10\u001b[0m \u001b[0mprint\u001b[0m\u001b[0;34m(\u001b[0m\u001b[0;34m\"\\\\begin{tabular}{c c}\"\u001b[0m\u001b[0;34m)\u001b[0m\u001b[0;34m\u001b[0m\u001b[0;34m\u001b[0m\u001b[0m\n\u001b[1;32m     11\u001b[0m \u001b[0;32mfor\u001b[0m \u001b[0mk\u001b[0m\u001b[0;34m,\u001b[0m\u001b[0mv\u001b[0m \u001b[0;32min\u001b[0m \u001b[0mdata\u001b[0m\u001b[0;34m.\u001b[0m\u001b[0mitems\u001b[0m\u001b[0;34m(\u001b[0m\u001b[0;34m)\u001b[0m\u001b[0;34m:\u001b[0m\u001b[0;34m\u001b[0m\u001b[0;34m\u001b[0m\u001b[0m\n\u001b[0;32m---> 12\u001b[0;31m     \u001b[0mprint\u001b[0m\u001b[0;34m(\u001b[0m\u001b[0;34m\"{} \\& {}\"\u001b[0m\u001b[0;34m.\u001b[0m\u001b[0mformat\u001b[0m\u001b[0;34m(\u001b[0m\u001b[0mk\u001b[0m\u001b[0;34m,\u001b[0m\u001b[0mformat_line\u001b[0m\u001b[0;34m(\u001b[0m\u001b[0mv\u001b[0m\u001b[0;34m)\u001b[0m\u001b[0;34m)\u001b[0m\u001b[0;34m)\u001b[0m\u001b[0;34m\u001b[0m\u001b[0;34m\u001b[0m\u001b[0m\n\u001b[0m\u001b[1;32m     13\u001b[0m \u001b[0mprint\u001b[0m\u001b[0;34m(\u001b[0m\u001b[0;34m\"\\\\end{tabular}\"\u001b[0m\u001b[0;34m)\u001b[0m\u001b[0;34m\u001b[0m\u001b[0;34m\u001b[0m\u001b[0m\n",
      "\u001b[0;32m<ipython-input-27-4a1e8fd6b5a1>\u001b[0m in \u001b[0;36mformat_line\u001b[0;34m(lst)\u001b[0m\n\u001b[1;32m      3\u001b[0m     \u001b[0;32mfor\u001b[0m \u001b[0mi\u001b[0m\u001b[0;34m,\u001b[0m\u001b[0mc\u001b[0m \u001b[0;32min\u001b[0m \u001b[0menumerate\u001b[0m\u001b[0;34m(\u001b[0m\u001b[0mlst\u001b[0m\u001b[0;34m)\u001b[0m\u001b[0;34m:\u001b[0m\u001b[0;34m\u001b[0m\u001b[0;34m\u001b[0m\u001b[0m\n\u001b[1;32m      4\u001b[0m         \u001b[0;32mif\u001b[0m\u001b[0;34m(\u001b[0m\u001b[0mi\u001b[0m\u001b[0;34m!=\u001b[0m\u001b[0mlen\u001b[0m\u001b[0;34m(\u001b[0m\u001b[0mlst\u001b[0m\u001b[0;34m)\u001b[0m\u001b[0;34m-\u001b[0m\u001b[0;36m1\u001b[0m\u001b[0;34m)\u001b[0m\u001b[0;34m:\u001b[0m\u001b[0;34m\u001b[0m\u001b[0;34m\u001b[0m\u001b[0m\n\u001b[0;32m----> 5\u001b[0;31m             \u001b[0ms\u001b[0m\u001b[0;34m+=\u001b[0m\u001b[0mc\u001b[0m\u001b[0;34m+\u001b[0m\u001b[0;34m\" \"\u001b[0m\u001b[0;34m\u001b[0m\u001b[0;34m\u001b[0m\u001b[0m\n\u001b[0m\u001b[1;32m      6\u001b[0m         \u001b[0;32melse\u001b[0m\u001b[0;34m:\u001b[0m\u001b[0;34m\u001b[0m\u001b[0;34m\u001b[0m\u001b[0m\n\u001b[1;32m      7\u001b[0m             \u001b[0ms\u001b[0m\u001b[0;34m+=\u001b[0m\u001b[0mc\u001b[0m\u001b[0;34m\u001b[0m\u001b[0;34m\u001b[0m\u001b[0m\n",
      "\u001b[0;31mTypeError\u001b[0m: unsupported operand type(s) for +: 'int' and 'str'"
     ]
    }
   ],
   "source": [
    "def format_line(lst):\n",
    "    s=\"\"\n",
    "    for i,c in enumerate(lst):\n",
    "        if(i!=len(lst)-1):\n",
    "            s+=c+\" \"\n",
    "        else:\n",
    "            s+=c\n",
    "    return s\n",
    "\n",
    "print(\"\\\\begin{tabular}{c c}\")\n",
    "for k,v in data.items():\n",
    "    print(\"{} \\& {}\".format(k,format_line(v)))\n",
    "print(\"\\\\end{tabular}\")"
   ]
  },
  {
   "cell_type": "code",
   "execution_count": null,
   "metadata": {},
   "outputs": [],
   "source": []
  }
 ],
 "metadata": {
  "kernelspec": {
   "display_name": "Python [conda env:LQCD] *",
   "language": "python",
   "name": "conda-env-LQCD-py"
  },
  "language_info": {
   "codemirror_mode": {
    "name": "ipython",
    "version": 3
   },
   "file_extension": ".py",
   "mimetype": "text/x-python",
   "name": "python",
   "nbconvert_exporter": "python",
   "pygments_lexer": "ipython3",
   "version": "3.8.5"
  }
 },
 "nbformat": 4,
 "nbformat_minor": 4
}
